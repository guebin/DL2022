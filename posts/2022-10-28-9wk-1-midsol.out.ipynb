{
  "cells": [
    {
      "cell_type": "markdown",
      "metadata": {},
      "source": [
        "# mid\n",
        "\n",
        "최규빈  \n",
        "2022-10-28\n",
        "\n",
        "> 중간고사"
      ],
      "id": "e1442a77-2583-49a7-9966-e19b045029a2"
    },
    {
      "cell_type": "code",
      "execution_count": 6,
      "metadata": {},
      "outputs": [],
      "source": [
        "import torch \n",
        "import matplotlib.pyplot as plt\n",
        "from fastai.vision.all import *"
      ],
      "id": "1947be45-25c1-4970-b607-0ccbcd9e04f2"
    },
    {
      "cell_type": "markdown",
      "metadata": {},
      "source": [
        "## `1`. 크롤링을 통한 이미지 분석 및 CAM. (50점) – 풀이생략\n",
        "\n",
        "`(1)` 두 가지 키워드로 크롤링을 수행하여 이미지자료를 모아라. - 키워드는\n",
        "{‘iu’,‘hynn’}을 제외하고 본인이 선택할 것)\n",
        "\n",
        "`(2)` ImageDataLoaders.from_folder 를 이용하여 dls를 만들어라.\n",
        "\n",
        "`(3)` resnet34를 이용하여 학습하라.\n",
        "\n",
        "`(4)` CAM (class activation mapping)을 이용하여 (3)의 모형의 판단근거를\n",
        "시각화하라.\n",
        "\n",
        "## `2`. 다음을 읽고 물음에 답하라. (30점)\n",
        "\n",
        "주어진 자료가 아래와 같다고 하자."
      ],
      "id": "d3cb663c-c36b-41b0-9b0f-7709b6b136bf"
    },
    {
      "cell_type": "code",
      "execution_count": 7,
      "metadata": {},
      "outputs": [],
      "source": [
        "torch.manual_seed(7676)\n",
        "x = torch.randn(100).sort().values\n",
        "ϵ = torch.randn(100)*0.5\n",
        "y = 2.5+ 4*x + ϵ"
      ],
      "id": "0ce470ec-a61d-425e-91f9-ef04c52b96a5"
    },
    {
      "cell_type": "code",
      "execution_count": 8,
      "metadata": {},
      "outputs": [
        {
          "output_type": "display_data",
          "metadata": {},
          "data": {
            "image/png": "[encoded data removed]"
          }
        }
      ],
      "source": [
        "plt.plot(x,y,'o')"
      ],
      "id": "f610a3fd-d376-48a3-8a9c-3f8d58f87c30"
    },
    {
      "cell_type": "markdown",
      "metadata": {},
      "source": [
        "아래와 같은 모형을 가정하고 물음에 답하라.\n",
        "\n",
        "$$y_i = w_0+w_1 x_i +\\epsilon_i, \\quad \\epsilon_i \\overset{iid}{\\sim} N(0,\\sigma^2)$$\n",
        "\n",
        "`(1)` ??를 적당하게 채워 아래와 같은 네트워크를 설정하고 최초의 예측값이\n",
        "$\\hat{y}_i=-5+10x_i$가 출력되도록 net의 가중치를 조정하라.\n",
        "\n",
        "``` python\n",
        "net = torch.nn.Linear(in_features=2,out_features=??,bias=??)\n",
        "```\n",
        "\n",
        "(풀이)"
      ],
      "id": "9674743e-0f92-48f7-a4db-7f872437882c"
    },
    {
      "cell_type": "code",
      "execution_count": 9,
      "metadata": {},
      "outputs": [],
      "source": [
        "X = torch.stack([torch.ones_like(x), x],axis=1) \n",
        "y = y.reshape(-1,1)"
      ],
      "id": "ac061516-95ea-4eea-946a-cfa4ead03aa8"
    },
    {
      "cell_type": "code",
      "execution_count": 10,
      "metadata": {},
      "outputs": [],
      "source": [
        "net = torch.nn.Linear(in_features=2,out_features=1,bias=False)"
      ],
      "id": "08b35771-85d4-42b1-a2c2-742aa6780066"
    },
    {
      "cell_type": "code",
      "execution_count": 11,
      "metadata": {},
      "outputs": [],
      "source": [
        "net.weight.data = torch.tensor([[ -5.0, 10.0]]) "
      ],
      "id": "62299c86-a197-4e5d-b439-da4566a7c03f"
    },
    {
      "cell_type": "markdown",
      "metadata": {},
      "source": [
        "`(2)` 학습률은 0.1로 설정하고 torch.optim.Adam을 이용하여 optimizer를\n",
        "선언하라. $(\\hat{w}_0,\\hat{w}_1)=(-5,10)$에서 MSELoss의 미분계수\n",
        "$\\frac{\\partial}{\\partial {\\bf W}}loss(w_0,w_1) ~\\Big|_{~\\hat{w}_0,\\hat{w}_1}$를\n",
        "구하고 이를 바탕으로 $(\\hat{w}_0,\\hat{w}_1)$의 값을 1회 갱신하라. 계산된\n",
        "미분계수값과 갱신된 $(\\hat{w}_0,\\hat{w}_1)$의 값을 출력하라.\n",
        "\n",
        "(풀이)"
      ],
      "id": "b03ff932-06cb-4a95-8b33-94a644ce279b"
    },
    {
      "cell_type": "code",
      "execution_count": 12,
      "metadata": {},
      "outputs": [],
      "source": [
        "optimizr = torch.optim.Adam(net.parameters(),lr=0.1)"
      ],
      "id": "1f841fc8-d0d4-4453-b6e0-b3a41826d007"
    },
    {
      "cell_type": "code",
      "execution_count": 13,
      "metadata": {},
      "outputs": [
        {
          "output_type": "stream",
          "name": "stdout",
          "text": [
            "tensor([[-15.7290,  14.7198]])\n",
            "tensor([[-4.9000,  9.9000]])\n",
            "---"
          ]
        }
      ],
      "source": [
        "for epoc in range(1):\n",
        "    ## step1\n",
        "    yhat = net(X)\n",
        "    ## step2 \n",
        "    loss = torch.mean((y-yhat)**2)\n",
        "    ## step3\n",
        "    loss.backward()\n",
        "    print(net.weight.grad)\n",
        "    ## step4\n",
        "    optimizr.step()\n",
        "    optimizr.zero_grad()\n",
        "    print(net.weight.data)\n",
        "    print(\"---\")"
      ],
      "id": "ea5ee999-c516-4806-bacb-042b4c6cad41"
    },
    {
      "cell_type": "markdown",
      "metadata": {},
      "source": [
        "`(3)` (2)에서 설정한 optimizer를 이용하여 $(\\hat{w}_0,\\hat{w}_1)$의 값을\n",
        "5회 갱신한 값을 구하여라. - 문제(2)에 갱신한 1회를 포함하여 5회임.\n",
        "\n",
        "(풀이)"
      ],
      "id": "67427bee-c07c-46f5-9583-6eb0d3d98fda"
    },
    {
      "cell_type": "code",
      "execution_count": 14,
      "metadata": {},
      "outputs": [
        {
          "output_type": "stream",
          "name": "stdout",
          "text": [
            "tensor([[-15.5179,  14.4789]])\n",
            "tensor([[-4.8000,  9.8000]])\n",
            "---\n",
            "tensor([[-15.3068,  14.2382]])\n",
            "tensor([[-4.7001,  9.7002]])\n",
            "---\n",
            "tensor([[-15.0960,  13.9976]])\n",
            "tensor([[-4.6003,  9.6004]])\n",
            "---\n",
            "tensor([[-14.8852,  13.7572]])\n",
            "tensor([[-4.5006,  9.5008]])\n",
            "---"
          ]
        }
      ],
      "source": [
        "for epoc in range(4):\n",
        "    ## step1 \n",
        "    yhat = net(X) \n",
        "    ## step2 \n",
        "    loss = torch.mean((y-yhat)**2)\n",
        "    ## step3\n",
        "    loss.backward()\n",
        "    print(net.weight.grad)\n",
        "    ## step4 \n",
        "    optimizr.step()\n",
        "    optimizr.zero_grad()\n",
        "    print(net.weight.data)\n",
        "    print(\"---\")"
      ],
      "id": "a78c07ba-3a1f-4028-87da-adcb188c5a15"
    },
    {
      "cell_type": "markdown",
      "metadata": {},
      "source": [
        "`(4)` 학습률을 0.2로 설정하고 torch.optim.SGD를 이용하여 새로운\n",
        "optimizr를 선언하라. (3)의 결과로 총 5회 갱신된 값에 이어서 10회 추가로\n",
        "학습하라. 학습된 값은 얼마인가?\n",
        "\n",
        "(풀이)"
      ],
      "id": "f7c7033e-d429-464c-916e-71ff390fb9df"
    },
    {
      "cell_type": "code",
      "execution_count": 15,
      "metadata": {},
      "outputs": [],
      "source": [
        "optimizr2= torch.optim.SGD(net.parameters(),lr=0.2) "
      ],
      "id": "f283584a-1480-45d0-b8eb-1b668a11dbfb"
    },
    {
      "cell_type": "code",
      "execution_count": 16,
      "metadata": {},
      "outputs": [
        {
          "output_type": "stream",
          "name": "stdout",
          "text": [
            "tensor([[-14.6748,  13.5172]])\n",
            "tensor([[-1.5657,  6.7973]])\n",
            "---\n",
            "tensor([[-8.5044,  6.9790]])\n",
            "tensor([[0.1352, 5.4015]])\n",
            "---\n",
            "tensor([[-4.9476,  3.5827]])\n",
            "tensor([[1.1247, 4.6850]])\n",
            "---\n",
            "tensor([[-2.8889,  1.8262]])\n",
            "tensor([[1.7025, 4.3198]])\n",
            "---\n",
            "tensor([[-1.6928,  0.9227]])\n",
            "tensor([[2.0411, 4.1352]])\n",
            "---\n",
            "tensor([[-0.9951,  0.4611]])\n",
            "tensor([[2.2401, 4.0430]])\n",
            "---\n",
            "tensor([[-0.5868,  0.2271]])\n",
            "tensor([[2.3575, 3.9976]])\n",
            "---\n",
            "tensor([[-0.3471,  0.1097]])\n",
            "tensor([[2.4269, 3.9756]])\n",
            "---\n",
            "tensor([[-0.2058,  0.0516]])\n",
            "tensor([[2.4680, 3.9653]])\n",
            "---\n",
            "tensor([[-0.1223,  0.0233]])\n",
            "tensor([[2.4925, 3.9607]])\n",
            "---"
          ]
        }
      ],
      "source": [
        "for epoc in range(10):\n",
        "    ## step1 \n",
        "    yhat = net(X) \n",
        "    ## step2 \n",
        "    loss = torch.mean((y-yhat)**2)\n",
        "    ## step3\n",
        "    loss.backward()\n",
        "    print(net.weight.grad)\n",
        "    ## step4\n",
        "    optimizr2.step()\n",
        "    optimizr2.zero_grad()\n",
        "    print(net.weight.data)\n",
        "    print(\"---\")"
      ],
      "id": "28d03526-a448-412a-b5b8-5d445e0db15b"
    },
    {
      "cell_type": "markdown",
      "metadata": {},
      "source": [
        "`(5)` (4)의 수렴값이 학습이 잘 되었다고 생각하는가? 잘 되었다고 생각하면\n",
        "그 근거는 무엇인가? (단, $(w_0,w_1)$의 참값은 모른다고 가정한다) - hint:\n",
        "미분값을 근거로 대답할 것\n",
        "\n",
        "(풀이)\n",
        "\n",
        "최종업데이트에서 계산된 미분계수가 거의 0이므로 잘 수렴했다고 판단되어\n",
        "진다. (이 경우 손실함수가 convex 이므로 미분계수가 0인 지점이 global\n",
        "minimum이라 주장가능)\n",
        "\n",
        "## `3`. 다음을 읽고 참 거짓을 판단하라. (20점)\n",
        "\n",
        "Assignment1의 1번: 아래는 fastai를 사용하여 MNIST 이미지자료중 일부를\n",
        "분석하는 코드 중 일부이다. (Assignment1의 1번 문항 참고)\n",
        "\n",
        "``` python\n",
        "path = untar_data(URLs.MNIST_SAMPLE)\n",
        "dls = ImageDataLoaders.from_folder(path,suffle=False) \n",
        "lrnr = cnn_learner(dls, arch = resnet34, metrics=error_rate)\n",
        "lrnr.fine_tune(1)\n",
        "X,y = dls.one_batch()\n",
        "lrnr.model(X[0].reshape(1,3,28,28))\n",
        "```\n",
        "\n",
        "마지막 `lrnr.model(X[0].reshape(1,3,28,28))`의 실행결과는 아래와 같다.\n",
        "\n",
        "    TensorBase([[ 3.4148, -5.0356]], device='cuda:0', grad_fn=<AliasBackward0>)\n",
        "\n",
        "위의 코드를 올바르게 해석한 것을 모두 고르라.\n",
        "\n",
        "`(1)` MNIST 이미지를 분석하였으므로 X는 흑백이미지의 형태로 저장되어\n",
        "있을 것이다. 즉 텐서 ${\\bf X}$의 shape은 (n,1,28,28) 과 같은 형태일\n",
        "것이다.\n",
        "\n",
        "-   hint: “lrnr.model(X\\[0\\].reshape(1,3,28,28))” 코드를 잘 관찰하세요.."
      ],
      "id": "df0d481d-4288-4347-a991-39fce3164934"
    },
    {
      "cell_type": "code",
      "execution_count": 20,
      "metadata": {},
      "outputs": [],
      "source": [
        "False # 채널=3이므로 칼라이미지로 저장되어있음. "
      ],
      "id": "464a364e-5b23-45c9-8f9a-f5bfa09d1325"
    },
    {
      "cell_type": "markdown",
      "metadata": {},
      "source": [
        "`(2)` `lrnr.model(X[0].reshape(1,3,28,28))` 의 실행결과로 미루어 볼때\n",
        "손실함수는 torch.nn.CrossEntropyLoss 를 사용했을 것이다."
      ],
      "id": "37d19f5a-4db0-4949-8460-c41135283ded"
    },
    {
      "cell_type": "code",
      "execution_count": 21,
      "metadata": {},
      "outputs": [],
      "source": [
        "True "
      ],
      "id": "bb91b5a1-c89c-4c98-8753-22859bbdcb2f"
    },
    {
      "cell_type": "markdown",
      "metadata": {},
      "source": [
        "`(3)` 위의 코드는 resnet34를 이용한 transfer learning 을 구현하였다."
      ],
      "id": "d8ad5a25-ee01-4bf8-9c35-82c39135c60c"
    },
    {
      "cell_type": "code",
      "execution_count": 22,
      "metadata": {},
      "outputs": [],
      "source": [
        "True"
      ],
      "id": "8e7fdb3a-079d-421e-83fc-f06913e15f76"
    },
    {
      "cell_type": "markdown",
      "metadata": {},
      "source": [
        "`(4)` 현재 `lrnr.model`와 `X[0]`는 모두 GPU연산이 가능한 저장장치에\n",
        "있다."
      ],
      "id": "278a2a9a-5ce3-492a-8a64-0af2389a34c2"
    },
    {
      "cell_type": "code",
      "execution_count": 24,
      "metadata": {},
      "outputs": [],
      "source": [
        "True # lrnr.model(X[0].reshape(1,3,28,28)) 의 연산결과로 유추가능"
      ],
      "id": "a5984e40-1d84-4c68-884f-c376934f32fa"
    },
    {
      "cell_type": "markdown",
      "metadata": {},
      "source": [
        "`(5)`\n",
        "`TensorBase([[ 3.4148, -5.0356]], device='cuda:0', grad_fn=<AliasBackward0>)`의\n",
        "결과에 softmax함수를 취하게 되면 `[0,1]` 근처의 값이 나올것이다."
      ],
      "id": "2820c2f1-5943-4068-9fc7-8fc3d29c60b3"
    },
    {
      "cell_type": "code",
      "execution_count": 29,
      "metadata": {},
      "outputs": [],
      "source": [
        "False "
      ],
      "id": "5910d7e9-ebb2-430d-9600-431f26971607"
    },
    {
      "cell_type": "markdown",
      "metadata": {},
      "source": [
        "------------------------------------------------------------------------\n",
        "\n",
        "`(6)` torch.nn.Linear(in_features=1,out_features=1,bias=True) 는\n",
        "학습가능한 파라메터수가 2개이다."
      ],
      "id": "8578aca1-9fb3-4b58-a301-744e37873902"
    },
    {
      "cell_type": "code",
      "execution_count": 8,
      "metadata": {},
      "outputs": [],
      "source": [
        "True"
      ],
      "id": "3e34f9a6-76c4-4dc7-a542-100070522ca0"
    },
    {
      "cell_type": "markdown",
      "metadata": {},
      "source": [
        "`(7)` 아래 2개의 레이어에 대한 학습가능한 파레메터 수는 같다. -\n",
        "torch.nn.Linear(in_features=4,out_features=1,bias=False) -\n",
        "torch.nn.Conv2d(in_channels=1,out_channels=1,kernel_size=(2,2),bias=False)"
      ],
      "id": "a7ebaf35-2b98-4c00-b176-0b88070be326"
    },
    {
      "cell_type": "code",
      "execution_count": 9,
      "metadata": {},
      "outputs": [],
      "source": [
        "True"
      ],
      "id": "4b5406de-0f27-4c0d-a3fb-59369a20557e"
    },
    {
      "cell_type": "markdown",
      "metadata": {},
      "source": [
        "`(8)` 아래의 네트워크에서 K를 충분히 크게 설정하면 모든 1차원 연속함수를\n",
        "원하는 정확도로 근사시킬 수 있다.\n",
        "\n",
        "``` python\n",
        "net = torch.nn.Sequential(\n",
        "    torch.nn.Linear(in_features=1,out_features=K),\n",
        "    torch.nn.Linear(in_features=K,out_features=1)\n",
        ")\n",
        "```"
      ],
      "id": "c606a926-4d24-480f-96f6-9b8f901467ed"
    },
    {
      "cell_type": "code",
      "execution_count": 28,
      "metadata": {},
      "outputs": [],
      "source": [
        "False "
      ],
      "id": "21181f76-596a-4504-bc57-e718dca6ef60"
    },
    {
      "cell_type": "markdown",
      "metadata": {},
      "source": [
        "`(9)` torch.nn.Dropout(0.9)을 이용하여 생성된 layer는 10%의 layer\n",
        "input을 임의로 0으로 만든다."
      ],
      "id": "3a4abbd2-9b09-4f62-82e8-90b1671229a3"
    },
    {
      "cell_type": "code",
      "execution_count": 12,
      "metadata": {},
      "outputs": [],
      "source": [
        "False"
      ],
      "id": "b3ec2314-3b14-40a6-a621-55eb2d0cd649"
    },
    {
      "cell_type": "markdown",
      "metadata": {},
      "source": [
        "`(10)` 아래와 같은 모형에서 자료가 생성되었다고 하자.\n",
        "\n",
        "-   \\$y_i Ber(\\_i),\\$ where\n",
        "    $\\pi_i = \\frac{\\exp(w_0+w_1x_i)}{1+\\exp(w_0+w_1x_i)}$\n",
        "\n",
        "이 경우 다음과 같은 네트워크와 손실함수를 선택한다면 손실함수는 항상\n",
        "convex function이 된다.\n",
        "\n",
        "``` python\n",
        "net = torch.nn.Sequential(\n",
        "    torch.nn.Linear(in_features=1,out_features=1)\n",
        "    torch.nn.Sigmoid()\n",
        ")\n",
        "loss_fn = torch.nn.BCELoss() \n",
        "```"
      ],
      "id": "ef5e7b0d-4518-4a14-b6b6-382166c69cb4"
    },
    {
      "cell_type": "code",
      "execution_count": 13,
      "metadata": {},
      "outputs": [],
      "source": [
        "True"
      ],
      "id": "8971d9dd-863a-4826-bfc1-dad5dd9c12ec"
    }
  ],
  "nbformat": 4,
  "nbformat_minor": 5,
  "metadata": {
    "kernelspec": {
      "name": "python3",
      "display_name": "Python 3",
      "language": "python"
    },
    "language_info": {
      "name": "python",
      "codemirror_mode": {
        "name": "ipython",
        "version": "3"
      },
      "file_extension": ".py",
      "mimetype": "text/x-python",
      "nbconvert_exporter": "python",
      "pygments_lexer": "ipython3",
      "version": "3.7.15"
    }
  }
}