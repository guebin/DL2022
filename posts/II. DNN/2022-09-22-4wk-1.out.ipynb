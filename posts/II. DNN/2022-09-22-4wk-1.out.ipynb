{
  "cells": [
    {
      "cell_type": "markdown",
      "metadata": {},
      "source": [
        "# 04wk-1: 딥러닝의 기초 (2)\n",
        "\n",
        "최규빈  \n",
        "2022-09-22\n",
        "\n",
        "> 회귀분석(2)– SSE와 MSE, step1의 다른버전 (torch.nn.Linear)\n",
        "\n",
        "## 강의영상\n",
        "\n",
        "> <https://youtube.com/playlist?list=PLQqh36zP38-wezS4h765Rs5mQFoSjrLMk>\n",
        "\n",
        "-   강의영상 재업로드 하였습니다.\n",
        "\n",
        "# review"
      ],
      "id": "26216c83-8222-4ad5-a0a4-b5fadbf328ba"
    },
    {
      "cell_type": "code",
      "execution_count": 1,
      "metadata": {},
      "outputs": [],
      "source": [
        "import torch\n",
        "import pandas as pd\n",
        "import numpy as np\n",
        "import matplotlib.pyplot as plt "
      ],
      "id": "1d22fd0a-eff2-4384-8cdd-08899421e72b"
    },
    {
      "cell_type": "code",
      "execution_count": 2,
      "metadata": {},
      "outputs": [],
      "source": [
        "df = pd.read_csv(\"https://raw.githubusercontent.com/guebin/DL2022/main/posts/II.%20DNN/2022-09-22-regression.csv\") \n",
        "df"
      ],
      "id": "658afac4-6903-4391-9b36-5d6004dde83b"
    },
    {
      "cell_type": "code",
      "execution_count": 27,
      "metadata": {},
      "outputs": [],
      "source": [
        "x= torch.tensor(df.x,dtype=torch.float32).reshape(100,1)\n",
        "y= torch.tensor(df.y,dtype=torch.float32).reshape(100,1)\n",
        "X= torch.tensor([[1]*100,x]).T"
      ],
      "id": "885a83ff-6eb9-403b-8f2f-7cc32a604586"
    },
    {
      "cell_type": "code",
      "execution_count": 44,
      "metadata": {},
      "outputs": [],
      "source": [
        "What = torch.tensor([[-5.0],[10.0]],requires_grad=True)\n",
        "What"
      ],
      "id": "cdfe96b7-09ba-40ac-886b-af8adae51e73"
    },
    {
      "cell_type": "code",
      "execution_count": 45,
      "metadata": {},
      "outputs": [
        {
          "output_type": "display_data",
          "metadata": {},
          "data": {
            "image/png": "[encoded data removed]"
          }
        }
      ],
      "source": [
        "plt.plot(x,y,'o')\n",
        "#plt.plot(x,-5+10*x,'--')\n",
        "plt.plot(x,X@What.data,'--')"
      ],
      "id": "4ee88ce2-619c-45f4-8ddc-aa730d526f0a"
    },
    {
      "cell_type": "markdown",
      "metadata": {},
      "source": [
        "## ver1: loss = sum of squares error"
      ],
      "id": "fb73f194-0c27-46bc-a907-58945fd5d557"
    },
    {
      "cell_type": "code",
      "execution_count": 67,
      "metadata": {},
      "outputs": [],
      "source": [
        "alpha = 1/1000\n",
        "What = torch.tensor([[-5.0],[10.0]],requires_grad=True)\n",
        "for epoc in range(30): \n",
        "    # step1: yhat \n",
        "    yhat = X@What \n",
        "    # step2: loss \n",
        "    loss = torch.sum((y-yhat)**2)\n",
        "    # step3: 미분 \n",
        "    loss.backward()\n",
        "    # step4: update \n",
        "    What.data = What.data - alpha * What.grad \n",
        "    What.grad = None # "
      ],
      "id": "64288147-9639-4995-92e0-b58bdb5f3583"
    },
    {
      "cell_type": "code",
      "execution_count": 68,
      "metadata": {},
      "outputs": [],
      "source": [
        "What"
      ],
      "id": "0d4b3153-8491-43fd-a162-ee3069436353"
    },
    {
      "cell_type": "code",
      "execution_count": 50,
      "metadata": {},
      "outputs": [
        {
          "output_type": "display_data",
          "metadata": {},
          "data": {
            "image/png": "[encoded data removed]"
          }
        }
      ],
      "source": [
        "plt.plot(x,y,'o') \n",
        "plt.plot(x,X@What.data,'--')"
      ],
      "id": "047b3ec4-0c9d-4a1c-a05e-e6da255dbcc7"
    },
    {
      "cell_type": "markdown",
      "metadata": {},
      "source": [
        "-   note: 왜 What = What - alpha\\*What.grad 는 안되는지?\n",
        "\n",
        "## ver2: loss = mean squared error = MSE"
      ],
      "id": "1e154cda-02c8-434c-885f-00defa6643f5"
    },
    {
      "cell_type": "code",
      "execution_count": 71,
      "metadata": {},
      "outputs": [],
      "source": [
        "alpha = 1/10\n",
        "What = torch.tensor([[-5.0],[10.0]],requires_grad=True)\n",
        "for epoc in range(30): \n",
        "    # step1: yhat \n",
        "    yhat = X@What \n",
        "    # step2: loss \n",
        "    loss = torch.mean((y-yhat)**2)\n",
        "    # step3: 미분 \n",
        "    loss.backward()\n",
        "    # step4: update \n",
        "    What.data = What.data - alpha * What.grad \n",
        "    What.grad = None # "
      ],
      "id": "8e6acc86-7c89-40d4-a85f-ba0e85e47e37"
    },
    {
      "cell_type": "code",
      "execution_count": 72,
      "metadata": {},
      "outputs": [],
      "source": [
        "What"
      ],
      "id": "30f62f30-8e62-4397-ba2d-f43e9df1b3da"
    },
    {
      "cell_type": "markdown",
      "metadata": {},
      "source": [
        "# step1의 다른버전: torch.nn.Linear()\n",
        "\n",
        "## ver1: bias=True"
      ],
      "id": "e7726aa1-9e5a-487d-83ce-81f04f6bf929"
    },
    {
      "cell_type": "code",
      "execution_count": 96,
      "metadata": {},
      "outputs": [],
      "source": [
        "torch.manual_seed(43052)\n",
        "net = torch.nn.Linear(in_features=1, out_features=1, bias=True) "
      ],
      "id": "ffd1d746-0b46-40a2-b5f9-d2c183a5bf06"
    },
    {
      "cell_type": "code",
      "execution_count": 83,
      "metadata": {},
      "outputs": [
        {
          "output_type": "display_data",
          "metadata": {},
          "data": {
            "image/png": "[encoded data removed]"
          }
        }
      ],
      "source": [
        "plt.plot(x,y,'o')\n",
        "plt.plot(x,net(x).data,'--')"
      ],
      "id": "ba6ac603-1a6c-4e1f-9138-13a62995dac7"
    },
    {
      "cell_type": "markdown",
      "metadata": {},
      "source": [
        "`-` net에서 $\\hat{w}_0, \\hat{w}_1$ 의 값은?"
      ],
      "id": "e86cacf4-2421-4d1e-8ad5-111e9c3c48db"
    },
    {
      "cell_type": "code",
      "execution_count": 84,
      "metadata": {},
      "outputs": [],
      "source": [
        "net.weight # w1 "
      ],
      "id": "591846ec-ac3e-4989-9504-0c9ad410eeb0"
    },
    {
      "cell_type": "code",
      "execution_count": 86,
      "metadata": {},
      "outputs": [],
      "source": [
        "net.bias # w0 "
      ],
      "id": "5dd2d680-f688-45eb-a649-5ce15616acff"
    },
    {
      "cell_type": "code",
      "execution_count": 98,
      "metadata": {},
      "outputs": [],
      "source": [
        "_yhat = -0.8470 + -0.3467*x "
      ],
      "id": "976fe9ba-9675-439d-8243-112561b1bcaa"
    },
    {
      "cell_type": "code",
      "execution_count": 100,
      "metadata": {},
      "outputs": [
        {
          "output_type": "display_data",
          "metadata": {},
          "data": {
            "image/png": "[encoded data removed]"
          }
        }
      ],
      "source": [
        "plt.plot(x,y,'o')\n",
        "plt.plot(x, _yhat,'--')\n",
        "plt.plot(x,net(x).data,'-.')"
      ],
      "id": "bc56b4ac-6e34-44e7-9e80-711169b93b55"
    },
    {
      "cell_type": "markdown",
      "metadata": {},
      "source": [
        "`-` 수식표현:\n",
        "$\\hat{y}_i = \\hat{w}_0 + \\hat{w}_1 x_i = \\hat{b} + \\hat{w}x_i = -0.8470 + -0.3467 x_i$\n",
        "for all $i=1,2,\\dots,100$.\n",
        "\n",
        "## ver2\n",
        "\n",
        "`-` 입력이 x가 아닌 X를 넣고 싶다면? (보통 잘 안하긴 해요, 왜?\n",
        "bias=False로 주는게 귀찮거든요) - X는 바이어스가 고려된 상황"
      ],
      "id": "8404ee78-1f5e-4bd4-b954-6049d132f384"
    },
    {
      "cell_type": "code",
      "execution_count": 104,
      "metadata": {},
      "outputs": [],
      "source": [
        "net(X) ## 그대로 쓰면 당연히 에러"
      ],
      "id": "d15f6fa2-98b9-49e0-9a01-2fe7fd0953b4"
    },
    {
      "cell_type": "code",
      "execution_count": 105,
      "metadata": {},
      "outputs": [],
      "source": [
        "torch.manual_seed(43052)\n",
        "net = torch.nn.Linear(in_features=2, out_features=1, bias=False) "
      ],
      "id": "a5f13274-9651-41b3-8e1b-8de3d4edbf64"
    },
    {
      "cell_type": "code",
      "execution_count": 106,
      "metadata": {},
      "outputs": [],
      "source": [
        "net.weight"
      ],
      "id": "b0e42ec4-3bc3-4807-9d73-e1f10a7f21e7"
    },
    {
      "cell_type": "code",
      "execution_count": 107,
      "metadata": {},
      "outputs": [],
      "source": [
        "net.bias"
      ],
      "id": "23c61037-bc81-476f-a7c1-51538b66fb95"
    },
    {
      "cell_type": "code",
      "execution_count": 122,
      "metadata": {},
      "outputs": [
        {
          "output_type": "display_data",
          "metadata": {},
          "data": {
            "image/png": "[encoded data removed]"
          }
        }
      ],
      "source": [
        "plt.plot(x,y,'o') \n",
        "plt.plot(x,net(X).data, '--')\n",
        "plt.plot(x,X@torch.tensor([[-0.2451],[-0.5989]]), '-.')"
      ],
      "id": "66cb80fb-e68f-4b1a-85fa-f4e13533cf6c"
    },
    {
      "cell_type": "markdown",
      "metadata": {},
      "source": [
        "`-` 수식표현:\n",
        "$\\hat{\\bf y} = {\\bf X} {\\bf \\hat W} = \\begin{bmatrix} 1 & x_1 \\\\ 1 & x_2 \\\\ \\dots & \\dots \\\\ 1 & x_{100} \\end{bmatrix} \\begin{bmatrix} -0.2451 \\\\ -0.5989 \\end{bmatrix}$\n",
        "\n",
        "## 잘못된사용1"
      ],
      "id": "7753073e-3428-42ad-a8f9-d082b9781c1b"
    },
    {
      "cell_type": "code",
      "execution_count": 123,
      "metadata": {},
      "outputs": [],
      "source": [
        "_x = x.reshape(-1)"
      ],
      "id": "628348e9-1f1b-4e81-9144-1937dd481984"
    },
    {
      "cell_type": "code",
      "execution_count": 124,
      "metadata": {},
      "outputs": [],
      "source": [
        "_x"
      ],
      "id": "b30da651-09c8-4735-956e-08716aa7fafc"
    },
    {
      "cell_type": "code",
      "execution_count": 125,
      "metadata": {},
      "outputs": [],
      "source": [
        "torch.manual_seed(43052)\n",
        "net = torch.nn.Linear(in_features=1,out_features=1) "
      ],
      "id": "15209f3e-1562-4bbf-9410-fabe25d4d842"
    },
    {
      "cell_type": "code",
      "execution_count": 126,
      "metadata": {},
      "outputs": [],
      "source": [
        "net(_x)"
      ],
      "id": "e8468d6b-f0a8-4d4a-9021-0d04fbae1147"
    },
    {
      "cell_type": "markdown",
      "metadata": {},
      "source": [
        "## 잘못된사용2"
      ],
      "id": "35a41819-e9c3-41f7-811b-54074ce613ee"
    },
    {
      "cell_type": "code",
      "execution_count": 127,
      "metadata": {},
      "outputs": [],
      "source": [
        "torch.manual_seed(43052)\n",
        "net = torch.nn.Linear(in_features=2,out_features=1) # bias=False를 깜빡.."
      ],
      "id": "d40c6840-3d55-4dba-92f3-4e366e55767e"
    },
    {
      "cell_type": "code",
      "execution_count": 128,
      "metadata": {},
      "outputs": [],
      "source": [
        "net.weight"
      ],
      "id": "4b5584dc-56ad-45dc-b55b-33c9c69747a3"
    },
    {
      "cell_type": "code",
      "execution_count": 129,
      "metadata": {},
      "outputs": [],
      "source": [
        "net.bias"
      ],
      "id": "17e4d297-e319-4847-8824-f5610d3644db"
    },
    {
      "cell_type": "code",
      "execution_count": 133,
      "metadata": {},
      "outputs": [
        {
          "output_type": "display_data",
          "metadata": {},
          "data": {
            "image/png": "[encoded data removed]"
          }
        }
      ],
      "source": [
        "plt.plot(x,y,'o')\n",
        "plt.plot(x,net(X).data,'--')\n",
        "plt.plot(x,X@torch.tensor([[-0.2451],[-0.5989]])+0.2549,'-.')"
      ],
      "id": "d5cce3d7-248d-481c-9e2e-6281c362f5aa"
    },
    {
      "cell_type": "markdown",
      "metadata": {},
      "source": [
        "-   수식표현:\n",
        "    $\\hat{\\bf y} = {\\bf X} {\\bf \\hat W} + \\hat{b}= \\begin{bmatrix} 1 & x_1 \\\\ 1 & x_2 \\\\ \\dots & \\dots \\\\ 1 & x_{100} \\end{bmatrix} \\begin{bmatrix} -0.2451 \\\\ -0.5989 \\end{bmatrix} + 0.2549$\n",
        "\n",
        "# 숙제\n",
        "\n",
        "`(1)` 자신의 학번을 seed로 설정하고 표준정규분포에서 5개의 난수를\n",
        "생성하고 순서대로 정렬한 뒤 이를 `x`로 저장하라. (아래코드참고)\n",
        "\n",
        "``` python\n",
        "torch.manual_seed(202043052) \n",
        "x,_ = torch.randn(5).sort()\n",
        "```\n",
        "\n",
        "`(2)` 아래와 같이 torch.nn.Linear()를 이용하여 적당한 네트워크를\n",
        "생성하고 “최초의 직선” $\\hat{y}_i$가 아래와 같이 구해지도록 `net.weight`\n",
        "혹은 `net.bias`의 값을 수정하라.\n",
        "\n",
        "$$ \\hat{y}_i = 2.5 x_i - 7, \\quad i=1,2,3,4,5 $$\n",
        "\n",
        "단, $x_1,x_2,\\dots,x_5$는 `x`의 원소이다.\n",
        "\n",
        "> note: 공부를 위해서 bias를 넣은 버전과 넣지 않는 버전 모두 계산해\n",
        "> 보세요. (숙제제출은 한 방법으로만 구현해도 무방)\n",
        "\n",
        "**(풀이)**"
      ],
      "id": "06efc3b8-e2c5-4286-bfcb-473e0e64e320"
    },
    {
      "cell_type": "code",
      "execution_count": 34,
      "metadata": {},
      "outputs": [],
      "source": [
        "torch.manual_seed(202043052) \n",
        "x,_ = torch.randn(5).sort()\n",
        "x = x.reshape(-1,1)\n",
        "X = torch.concat([torch.ones(5).reshape(-1,1),x],axis=1)"
      ],
      "id": "4d83d82a-9129-4ac7-bf01-a92cd311bc89"
    },
    {
      "cell_type": "code",
      "execution_count": 36,
      "metadata": {},
      "outputs": [],
      "source": [
        "x,X"
      ],
      "id": "94c6e5aa-916b-415d-8b28-9c9c438830c7"
    },
    {
      "cell_type": "markdown",
      "metadata": {},
      "source": [
        "**(ver1) bias를 넣음**"
      ],
      "id": "2fdb6e8a-96f5-4081-bdc0-9635688fc0ad"
    },
    {
      "cell_type": "code",
      "execution_count": 45,
      "metadata": {},
      "outputs": [],
      "source": [
        "net1=torch.nn.Linear(in_features=1,out_features=1,bias=True) \n",
        "net1.weight.data, net1.bias.data"
      ],
      "id": "aef1c188-50f7-42a4-8c8b-ed9ab82c9355"
    },
    {
      "cell_type": "code",
      "execution_count": 46,
      "metadata": {},
      "outputs": [],
      "source": [
        "net1.weight.data = torch.tensor([[2.5]])\n",
        "net1.bias.data = torch.tensor([-7.0])\n",
        "net1.weight.data, net1.bias.data"
      ],
      "id": "e6ce023e-46f4-44ad-9888-a656aba66cb6"
    },
    {
      "cell_type": "code",
      "execution_count": 47,
      "metadata": {},
      "outputs": [],
      "source": [
        "net1(x), 2.5*x-7"
      ],
      "id": "8b00873b-59a1-42c8-b553-b8887cfabec8"
    },
    {
      "cell_type": "markdown",
      "metadata": {},
      "source": [
        "**(ver2) bias를 넣지 않음**"
      ],
      "id": "50f807b3-6bd1-4f6b-a60a-d2ada04b87b7"
    },
    {
      "cell_type": "code",
      "execution_count": 48,
      "metadata": {},
      "outputs": [],
      "source": [
        "net2=torch.nn.Linear(in_features=2,out_features=1,bias=False) \n",
        "net2.weight.data, net2.bias"
      ],
      "id": "9741f31a-7f90-4a6a-b41a-f7fb488a3170"
    },
    {
      "cell_type": "code",
      "execution_count": 49,
      "metadata": {},
      "outputs": [],
      "source": [
        "net2.weight.data = torch.tensor([[-7.0, 2.5]])\n",
        "net2.weight.data"
      ],
      "id": "bd3cf40f-2981-48c5-8a3f-072ee728e4b0"
    },
    {
      "cell_type": "code",
      "execution_count": 51,
      "metadata": {},
      "outputs": [],
      "source": [
        "net2(X), 2.5*x-7"
      ],
      "id": "15a06ce0-5c50-4990-8c38-f19d3cbf650c"
    }
  ],
  "nbformat": 4,
  "nbformat_minor": 5,
  "metadata": {
    "kernelspec": {
      "name": "python3",
      "display_name": "Python 3",
      "language": "python"
    },
    "language_info": {
      "name": "python",
      "codemirror_mode": {
        "name": "ipython",
        "version": "3"
      },
      "file_extension": ".py",
      "mimetype": "text/x-python",
      "nbconvert_exporter": "python",
      "pygments_lexer": "ipython3",
      "version": "3.7.15"
    }
  }
}