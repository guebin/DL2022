{
  "cells": [
    {
      "cell_type": "markdown",
      "metadata": {},
      "source": [
        "# 02wk-1: Overview (3)\n",
        "\n",
        "최규빈  \n",
        "2022-09-13\n",
        "\n",
        "> fastai를 이용한 분석 steps, 추천시스템 실습, 텍스트분석 실습\n",
        "\n",
        "# 강의영상\n",
        "\n",
        "> <https://youtube.com/playlist?list=PLQqh36zP38-zJbe5FztJPSqicA2ZLwDgh>\n",
        "\n",
        "# imports"
      ],
      "id": "ff8f9dd4-0213-4e2b-9e09-3610c50ec5e7"
    },
    {
      "cell_type": "code",
      "execution_count": 2,
      "metadata": {},
      "outputs": [],
      "source": [
        "from fastai.collab import * ## 추천시스템\n",
        "from fastai.text.all import * ## 텍스트분석 "
      ],
      "id": "52b8c79e-4e15-4774-b6dc-305a1235a31c"
    },
    {
      "cell_type": "code",
      "execution_count": 3,
      "metadata": {},
      "outputs": [],
      "source": [
        "import pandas as pd"
      ],
      "id": "6f4a5250-04ff-43e0-b6ab-06b3c544b896"
    },
    {
      "cell_type": "markdown",
      "metadata": {},
      "source": [
        "# fastai를 이용한 분석 steps\n",
        "\n",
        "`-` 비교\n",
        "\n",
        "|       |        이미지분석(CNN)        |    추천시스템     |        텍스트분석        |        GAN        |\n",
        "|:-------------:|:-------------:|:-------------:|:-------------:|:-------------:|\n",
        "| 1단계 |       ImageDataLoaders        | CollabDataLoaders |     TextDataLoaders      | DataBlock -\\> dls |\n",
        "| 2단계 |         cnn_learner()         | collab_learner()  | language_model_learner() | GANLearner.wgan() |\n",
        "| 3단계 |       lrnr.fine_tune(1)       |    lrnr.fit()     |        lrnr.fit()        |    lrnr.fit()     |\n",
        "| 4단계 | lrnr.predict(), lrnr.model(X) |   lrnr.model(X)   |      lrnr.predict()      |                   |\n",
        "\n",
        "# 추천시스템 실습\n",
        "\n",
        "## 1단계"
      ],
      "id": "8a79615b-233c-4f31-b694-adbc813539b4"
    },
    {
      "cell_type": "code",
      "execution_count": 7,
      "metadata": {},
      "outputs": [],
      "source": [
        "df_view = pd.read_csv('https://raw.githubusercontent.com/guebin/DL2022/main/posts/I.%20Overview/2022-09-08-rcmd_view.csv')\n",
        "df_view"
      ],
      "id": "be027a0e-979a-4f20-8143-6ec54779685e"
    },
    {
      "cell_type": "markdown",
      "metadata": {},
      "source": [
        "-   row0 - row49 에 해당하는 유저는 커피를 선호\n",
        "-   row50 - row99 에 해당하는 유저는 홍차를 선호"
      ],
      "id": "9e852c6d-5ab6-420e-9270-5c9d8f96ede7"
    },
    {
      "cell_type": "code",
      "execution_count": 6,
      "metadata": {},
      "outputs": [],
      "source": [
        "df = pd.read_csv('https://raw.githubusercontent.com/guebin/DL2022/main/posts/I.%20Overview/2022-09-08-rcmd_anal.csv')\n",
        "df"
      ],
      "id": "f9389b93-0019-4835-8742-273376c76852"
    },
    {
      "cell_type": "markdown",
      "metadata": {},
      "source": [
        "-   컴퓨터는 이러한 형태를 더 분석하기 좋아한다."
      ],
      "id": "fd7e9ffc-21a1-4714-8fbc-f17981b57ef5"
    },
    {
      "cell_type": "code",
      "execution_count": 115,
      "metadata": {},
      "outputs": [],
      "source": [
        "df.item.unique(),df.user.unique()\n",
        "# 유저는 1~100 으로 아이템은 1~20으로 번호가 매겨져 있음 "
      ],
      "id": "cd8dd287"
    },
    {
      "cell_type": "code",
      "execution_count": 116,
      "metadata": {},
      "outputs": [],
      "source": [
        "dls=CollabDataLoaders.from_df(df)"
      ],
      "id": "52c8f041-ee9b-4682-8fa9-a223ef7e6b36"
    },
    {
      "cell_type": "code",
      "execution_count": 127,
      "metadata": {},
      "outputs": [],
      "source": [
        "dls.show_batch()"
      ],
      "id": "b1b2120b-69a5-41aa-abb1-7728cdf874f6"
    },
    {
      "cell_type": "code",
      "execution_count": 87,
      "metadata": {},
      "outputs": [],
      "source": [
        "X,y= dls.one_batch()"
      ],
      "id": "edc99da5-5558-4778-a896-2e6f8d8b08b3"
    },
    {
      "cell_type": "code",
      "execution_count": 88,
      "metadata": {},
      "outputs": [],
      "source": [
        "X[0],y[0]"
      ],
      "id": "e9bbef16-e11c-4c20-9918-f13afe29bce0"
    },
    {
      "cell_type": "markdown",
      "metadata": {},
      "source": [
        "-   64번 유저가 15번 아이템을 먹었을때 평점을 4.1146 주었음\n",
        "\n",
        "## 2단계"
      ],
      "id": "4ba43a3e-d443-4f95-aeec-5c1dadd3ff4c"
    },
    {
      "cell_type": "code",
      "execution_count": 89,
      "metadata": {},
      "outputs": [],
      "source": [
        "lrnr = collab_learner(dls,y_range=(0,5)) # y_range는 평점의 범위"
      ],
      "id": "d473fc17-e9db-457d-8269-415d9ed401e8"
    },
    {
      "cell_type": "markdown",
      "metadata": {},
      "source": [
        "## 3단계"
      ],
      "id": "64a70b11-4884-427d-85dd-c31e951e602c"
    },
    {
      "cell_type": "code",
      "execution_count": 92,
      "metadata": {},
      "outputs": [],
      "source": [
        "lrnr.fit(10) # 총 30번 정도 해야 적합이 잘된다. "
      ],
      "id": "7faba835-bd38-4aef-a1fc-96c1bc5ddb66"
    },
    {
      "cell_type": "markdown",
      "metadata": {},
      "source": [
        "## 4단계\n",
        "\n",
        "`-` 하나의 배치 전체를 예측"
      ],
      "id": "8cb4a61d-0eae-411b-8ebf-5d4e85b37981"
    },
    {
      "cell_type": "code",
      "execution_count": 93,
      "metadata": {},
      "outputs": [],
      "source": [
        "yhat=lrnr.model(X.to(\"cuda:0\"))\n",
        "yhat"
      ],
      "id": "a434267d-c604-471d-91ae-755512cc51d3"
    },
    {
      "cell_type": "markdown",
      "metadata": {},
      "source": [
        "-   lrnr.model()은 GPU메모리에 존재하고 X는 일반메모리에 존재하므로 X를\n",
        "    GPU메모리로 옮겨주어야 함\n",
        "-   X.to(“cuda:0”)을 통하여 X를 GPU메모리로 옮기는 작업을 수행할 수\n",
        "    있다.\n",
        "\n",
        "`-` 하나의 유저가 하나의 아이템을 선택했다고 가정하고 예측 (주어진\n",
        "자료중에서 예측)"
      ],
      "id": "6c738fa6-f2c7-4e20-907a-3f6dbe10fdfc"
    },
    {
      "cell_type": "code",
      "execution_count": 94,
      "metadata": {},
      "outputs": [],
      "source": [
        "X.shape"
      ],
      "id": "8200c7ac-e3fa-44e2-b532-b74e3550c5e4"
    },
    {
      "cell_type": "code",
      "execution_count": 27,
      "metadata": {},
      "outputs": [],
      "source": [
        "X[0:1]"
      ],
      "id": "b68a5fd7-bbf3-4cd5-bfd6-435b29e9f686"
    },
    {
      "cell_type": "markdown",
      "metadata": {},
      "source": [
        "-   18번 유저가 5번 아이템(커피)를 먹는다면?"
      ],
      "id": "8b456b75-339e-4a99-b794-5591b616dd5e"
    },
    {
      "cell_type": "code",
      "execution_count": 26,
      "metadata": {},
      "outputs": [],
      "source": [
        "lrnr.model(X[0:1].to(\"cuda:0\"))"
      ],
      "id": "d207ce5e-a27e-4941-adad-6d0b1bf7697d"
    },
    {
      "cell_type": "markdown",
      "metadata": {},
      "source": [
        "-   평점은 4.1128정도 될것\n",
        "\n",
        "`-` 하나의 유저가 하나의 아이템을 선택했다고 가정하고 예측 (주어지지\n",
        "않은 자료중에서 예측)"
      ],
      "id": "b4d68301-e5c7-4e85-b4ab-c03d40951a76"
    },
    {
      "cell_type": "code",
      "execution_count": 29,
      "metadata": {},
      "outputs": [],
      "source": [
        "X[0:1]"
      ],
      "id": "27082f53-5cf0-4e2a-8f5b-6cae23d0a7c2"
    },
    {
      "cell_type": "code",
      "execution_count": 36,
      "metadata": {},
      "outputs": [],
      "source": [
        "Xnew = torch.tensor([[1,  2]])"
      ],
      "id": "574728c0-f9d6-4f8b-a70c-93cbe6ac165b"
    },
    {
      "cell_type": "code",
      "execution_count": 37,
      "metadata": {},
      "outputs": [],
      "source": [
        "lrnr.model(Xnew.to(\"cuda:0\"))"
      ],
      "id": "2280e180-6ee6-4832-9ae9-7bc1118bbb35"
    },
    {
      "cell_type": "markdown",
      "metadata": {},
      "source": [
        "# 텍스트분석 실습\n",
        "\n",
        "## 1단계"
      ],
      "id": "2b656463-714c-4f72-a4bf-acdaedbc4cb6"
    },
    {
      "cell_type": "code",
      "execution_count": 39,
      "metadata": {},
      "outputs": [],
      "source": [
        "df = pd.DataFrame({'text':['h e l l o . h e l l o ! h e l l o ? h e l l o !! h e l l o ??']*20000})\n",
        "df"
      ],
      "id": "b74d15ff-8321-4943-9911-9842c0cbe831"
    },
    {
      "cell_type": "code",
      "execution_count": 44,
      "metadata": {},
      "outputs": [],
      "source": [
        "dls = TextDataLoaders.from_df(df,text_col='text',is_lm=True) "
      ],
      "id": "eed6db48-dd57-4b73-88d5-ef8d7d0119d3"
    },
    {
      "cell_type": "code",
      "execution_count": 45,
      "metadata": {},
      "outputs": [],
      "source": [
        "dls.show_batch()"
      ],
      "id": "3b0fa2b8-b3a9-4235-80ab-dcf99e1ce799"
    },
    {
      "cell_type": "markdown",
      "metadata": {},
      "source": [
        "-   is_lm: text의 생성에 관심이 있다면 True로 설정할 것\n",
        "\n",
        "## 2단계"
      ],
      "id": "3681bea2-970d-41f0-93d8-68a64b42ebc0"
    },
    {
      "cell_type": "code",
      "execution_count": 58,
      "metadata": {},
      "outputs": [],
      "source": [
        "lrnr = language_model_learner(dls, AWD_LSTM)"
      ],
      "id": "c64b8338-6df8-43a9-9830-a1e31c7aeee1"
    },
    {
      "cell_type": "markdown",
      "metadata": {},
      "source": [
        "## 3단계"
      ],
      "id": "68cfff7a-7d60-493c-85d4-12a5da47aa60"
    },
    {
      "cell_type": "code",
      "execution_count": 63,
      "metadata": {},
      "outputs": [],
      "source": [
        "lrnr.fit(1)"
      ],
      "id": "a4fc3c81-8ba5-4100-92e1-d436fdd1d319"
    },
    {
      "cell_type": "markdown",
      "metadata": {},
      "source": [
        "## 4단계"
      ],
      "id": "8fd0879f-cf62-451b-a429-2af5b8aede21"
    },
    {
      "cell_type": "code",
      "execution_count": 68,
      "metadata": {},
      "outputs": [],
      "source": [
        "lrnr.predict('h e',n_words=30)"
      ],
      "id": "f869f438-dfe2-47ea-96b7-7102b6e4e78a"
    }
  ],
  "nbformat": 4,
  "nbformat_minor": 5,
  "metadata": {
    "celltoolbar": "Slideshow",
    "kernelspec": {
      "name": "python3",
      "display_name": "Python 3",
      "language": "python"
    },
    "language_info": {
      "name": "python",
      "codemirror_mode": {
        "name": "ipython",
        "version": "3"
      },
      "file_extension": ".py",
      "mimetype": "text/x-python",
      "nbconvert_exporter": "python",
      "pygments_lexer": "ipython3",
      "version": "3.7.15"
    }
  }
}