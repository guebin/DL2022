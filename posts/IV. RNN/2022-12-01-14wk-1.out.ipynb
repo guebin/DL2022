{
  "cells": [
    {
      "cell_type": "markdown",
      "metadata": {},
      "source": [
        "# 14wk-1: 순환신경망 (8)\n",
        "\n",
        "최규빈  \n",
        "2022-12-01\n",
        "\n",
        "> 순환신경망 minor topics (2)\n",
        "\n",
        "# 강의영상\n",
        "\n",
        "> <https://youtube.com/playlist?list=PLQqh36zP38-wy8fev22UV1QK5yfTgMXm4>\n",
        "\n",
        "# imports"
      ],
      "id": "78b34bbc-6dc3-4507-9ab3-e84aee69b8d9"
    },
    {
      "cell_type": "code",
      "execution_count": 242,
      "metadata": {},
      "outputs": [],
      "source": [
        "import torch\n",
        "import pandas as pd\n",
        "import matplotlib.pyplot as plt \n",
        "from fastai.text.all import *\n",
        "import pytorch_lightning as pl "
      ],
      "id": "cbd21945-0589-4b70-a952-31be311d4ab6"
    },
    {
      "cell_type": "markdown",
      "metadata": {},
      "source": [
        "# Define some funtions"
      ],
      "id": "d17cea32-96a3-446e-9994-d4209aa22f1f"
    },
    {
      "cell_type": "code",
      "execution_count": 3,
      "metadata": {},
      "outputs": [],
      "source": [
        "def f(txt,mapping):\n",
        "    return [mapping[key] for key in txt] \n",
        "sig = torch.nn.Sigmoid()\n",
        "soft = torch.nn.Softmax(dim=1)\n",
        "tanh = torch.nn.Tanh()"
      ],
      "id": "d4a1d11c-ed04-4099-8f6b-8107ecb4f414"
    },
    {
      "cell_type": "markdown",
      "metadata": {},
      "source": [
        "# 똑같은 코드들: `torch.nn.LSTM`\n",
        "\n",
        "## data: hi?hello!!"
      ],
      "id": "1408c6f6-fb73-433c-b171-ad54fd33d5e7"
    },
    {
      "cell_type": "code",
      "execution_count": 52,
      "metadata": {},
      "outputs": [],
      "source": [
        "txt = list('hi?hello!!')*100 \n",
        "txt_x = txt[:-1]\n",
        "txt_y = txt[1:]"
      ],
      "id": "fb38aba6-e7d3-449f-bf24-877569d90afc"
    },
    {
      "cell_type": "code",
      "execution_count": 51,
      "metadata": {},
      "outputs": [],
      "source": [
        "mapping = {'!':0, '?':1,'h':2,'i':3,'e':4,'l':5,'o':6} \n",
        "x= torch.nn.functional.one_hot(torch.tensor(f(txt_x,mapping))).float().to(\"cuda:0\")\n",
        "y= torch.nn.functional.one_hot(torch.tensor(f(txt_y,mapping))).float().to(\"cuda:0\")"
      ],
      "id": "0b91e8e8-8b7f-43c4-a468-986f4d8fb895"
    },
    {
      "cell_type": "markdown",
      "metadata": {},
      "source": [
        "## 세트1: \\_water의 생략\n",
        "\n",
        "`-` 코드1: 정석코드"
      ],
      "id": "da909561-6fb6-46b7-a072-b7529e4ce18a"
    },
    {
      "cell_type": "code",
      "execution_count": 55,
      "metadata": {},
      "outputs": [],
      "source": [
        "torch.manual_seed(43052)\n",
        "lstm = torch.nn.LSTM(7,4).to(\"cuda:0\")"
      ],
      "id": "a6f7fb38-b3af-40cc-9c48-76e35b2dd565"
    },
    {
      "cell_type": "code",
      "execution_count": 56,
      "metadata": {},
      "outputs": [],
      "source": [
        "_water = torch.zeros(1,4).to(\"cuda:0\")\n",
        "lstm(x, (_water,_water))"
      ],
      "id": "8dbefb6d-7d7e-4264-b8b7-56756b392b4e"
    },
    {
      "cell_type": "markdown",
      "metadata": {},
      "source": [
        "`-` 코드2: \\_water 는 사실 없어도 괜찮았어.."
      ],
      "id": "22417438-0e67-42d2-b8e4-0e843efa0838"
    },
    {
      "cell_type": "code",
      "execution_count": 57,
      "metadata": {},
      "outputs": [],
      "source": [
        "torch.manual_seed(43052)\n",
        "lstm = torch.nn.LSTM(7,4).to(\"cuda:0\")"
      ],
      "id": "f460a1a7-54a2-457c-8dc5-2948430be0f0"
    },
    {
      "cell_type": "code",
      "execution_count": 59,
      "metadata": {},
      "outputs": [],
      "source": [
        "lstm(x)"
      ],
      "id": "868e04e9-1748-4b20-8137-95627a399589"
    },
    {
      "cell_type": "markdown",
      "metadata": {},
      "source": [
        "## 세트2: x.shape = ($L$, $H_{in}$) or ($L$,$N$,$H_{in}$)\n",
        "\n",
        "`-` 파라메터 설명\n",
        "\n",
        "-   $L$ = sequece length = 시계열의 길이 = 간장을 몇 년 전통으로\n",
        "    이어갈지\n",
        "-   $N$ = batch size = 전체데이터는 몇 개의 시계열이 있는지 = 전체\n",
        "    데이터를 몇개의 시계열로 쪼갤지 \\<– 왜 이걸 해야해?\n",
        "-   $H_{in}$ = input_size = 시점을 고정하였을 경우 입력자료의 차원 =\n",
        "    입력시계열이 시점별로 몇개의 변수로 나타내어 지는지? = 만약에\n",
        "    원핫인코딩으로 단어를 정리하면 단어수를 의미함\n",
        "\n",
        "`-` 코드2: \\_water 는 사실 없어도 괜찮았어.."
      ],
      "id": "ac8432d5-66fd-4034-b2df-d6b3e574d989"
    },
    {
      "cell_type": "code",
      "execution_count": 71,
      "metadata": {},
      "outputs": [],
      "source": [
        "torch.manual_seed(43052)\n",
        "lstm = torch.nn.LSTM(7,4).to(\"cuda:0\")"
      ],
      "id": "dfa77d1c-0172-4a00-8f85-c1dc40b106fe"
    },
    {
      "cell_type": "code",
      "execution_count": 72,
      "metadata": {},
      "outputs": [],
      "source": [
        "lstm(x)"
      ],
      "id": "c25b2a0d-fb19-4225-9a0e-3789e4da71c1"
    },
    {
      "cell_type": "markdown",
      "metadata": {},
      "source": [
        "`-` 코드3: x의 차원은 사실 엄밀하게는 ($L$,$N$,$H_{in}$) 와 같다…"
      ],
      "id": "69d34199-5c87-4230-8dc3-ab117d9d71ec"
    },
    {
      "cell_type": "code",
      "execution_count": 73,
      "metadata": {},
      "outputs": [],
      "source": [
        "torch.manual_seed(43052)\n",
        "lstm = torch.nn.LSTM(7,4).to(\"cuda:0\")"
      ],
      "id": "463f057b-aa5d-4f09-9e52-8ba61314775f"
    },
    {
      "cell_type": "code",
      "execution_count": 74,
      "metadata": {},
      "outputs": [],
      "source": [
        "lstm(x.reshape(999,1,7))"
      ],
      "id": "ede3d7c1-09da-4174-a865-4c6b9db99e41"
    },
    {
      "cell_type": "markdown",
      "metadata": {},
      "source": [
        "`-` 코드4: `batch_first=True`옵션을 사용하여 lstm을 만든경우"
      ],
      "id": "684396ef-036e-40d7-80f1-efad731d50c5"
    },
    {
      "cell_type": "code",
      "execution_count": 75,
      "metadata": {},
      "outputs": [],
      "source": [
        "torch.manual_seed(43052)\n",
        "lstm = torch.nn.LSTM(7,4,batch_first=True).to(\"cuda:0\")"
      ],
      "id": "08f84dc9-26fd-4c4f-b73f-3ddc5153690e"
    },
    {
      "cell_type": "code",
      "execution_count": 77,
      "metadata": {},
      "outputs": [],
      "source": [
        "lstm(x.reshape(1,999,7))"
      ],
      "id": "f35e5f95-c983-4183-a672-864bf7424c3e"
    },
    {
      "cell_type": "markdown",
      "metadata": {},
      "source": [
        "## 세트3: hidden.shape = ($D\\times$ `num_layers`, $H_{out}$) or ($D\\times$ `num_layers`, $N$, $H_{out}$)\n",
        "\n",
        "`-` 파라메터 설명\n",
        "\n",
        "-   $D$ = 2 if bidirectional=True otherwise 1 = 양방향이면 2, 단방향이면\n",
        "    1 (우리는 단방향만 배움)\n",
        "-   `num_layres` = 중첩된 RNN일 경우 (우리는 중첩을 안시켰음)\n",
        "-   $N$ = batch size = 전체데이터는 몇 개의 시계열이 있는지 = 전체\n",
        "    데이터를 몇개의 시계열로 쪼갤지 \\<– 왜 이걸 해야해?\n",
        "-   $H_{out}$ = 히든노드의 수\n",
        "\n",
        "`-` 코드5: x.shape = ($L$,$1$,$H_{in}$) $\\to$ hidden.shape =\n",
        "($1$,$1$,$H_{out}$)"
      ],
      "id": "2b19f73e-2681-43a8-94b8-aaf00f082644"
    },
    {
      "cell_type": "code",
      "execution_count": 82,
      "metadata": {},
      "outputs": [],
      "source": [
        "torch.manual_seed(43052)\n",
        "lstm = torch.nn.LSTM(7,4).to(\"cuda:0\")"
      ],
      "id": "0fa2ebc5-2312-4785-bd8a-b5f3ed8d3424"
    },
    {
      "cell_type": "code",
      "execution_count": 90,
      "metadata": {},
      "outputs": [],
      "source": [
        "_water = torch.zeros(1,1,4).to(\"cuda:0\") \n",
        "lstm(x.reshape(999,1,7),(_water,_water))"
      ],
      "id": "e10d3c89-b94e-4264-95e1-a1f5ab61254a"
    },
    {
      "cell_type": "markdown",
      "metadata": {},
      "source": [
        "`-` 사실 \\_water.shape = (1,$H_{out}$) 에서 1은 observation의 차원을\n",
        "의미하는게 아님 (그런데 대충 그렇게 생각해도 무방함)\n",
        "\n",
        "-   한 시점의 콩물에 대하여 양방향으로 간장을 만들면 \\_water.shape =\n",
        "    (2,h)\n",
        "-   한 시점의 콩물에 대하여 3중첩으로 간장을 만들면 \\_water.shape =\n",
        "    (3,h)\n",
        "-   한 시점의 콩물에 대하여 3중첩간장을 양방향으로 만들면 \\_water.shape\n",
        "    = (6,h)\n",
        "\n",
        "# 똑같은 코드들: `torch.nn.LSTMCell`\n",
        "\n",
        "## data: hi?hello!!"
      ],
      "id": "0b08a75f-734b-495f-9971-0f9705b14dfc"
    },
    {
      "cell_type": "code",
      "execution_count": 91,
      "metadata": {},
      "outputs": [],
      "source": [
        "txt = list('hi?hello!!')*100 \n",
        "txt_x = txt[:-1]\n",
        "txt_y = txt[1:]"
      ],
      "id": "a8c19442-84ee-4c86-8147-1701460d0c34"
    },
    {
      "cell_type": "code",
      "execution_count": 92,
      "metadata": {},
      "outputs": [],
      "source": [
        "mapping = {'!':0, '?':1,'h':2,'i':3,'e':4,'l':5,'o':6} \n",
        "x= torch.nn.functional.one_hot(torch.tensor(f(txt_x,mapping))).float().to(\"cuda:0\")\n",
        "y= torch.nn.functional.one_hot(torch.tensor(f(txt_y,mapping))).float().to(\"cuda:0\")"
      ],
      "id": "5ad9a6f2-a601-4cfb-875c-056d876b3cfb"
    },
    {
      "cell_type": "markdown",
      "metadata": {},
      "source": [
        "## 세트1: \\_water의 생략\n",
        "\n",
        "`-` 코드1: 정석코드"
      ],
      "id": "460b5641-d558-4561-968b-c48430686f8b"
    },
    {
      "cell_type": "code",
      "execution_count": 93,
      "metadata": {},
      "outputs": [],
      "source": [
        "torch.manual_seed(43052) \n",
        "lstmcell = torch.nn.LSTMCell(7,4).to(\"cuda:0\") "
      ],
      "id": "01904b76-86fa-48ca-a257-75473c907652"
    },
    {
      "cell_type": "code",
      "execution_count": 99,
      "metadata": {},
      "outputs": [],
      "source": [
        "xt = x[[1]]\n",
        "_water = torch.zeros(1,4).to(\"cuda:0\")\n",
        "xt.shape, _water.shape"
      ],
      "id": "4843d18a-40fe-4ed2-ae1d-4071c4dbf58c"
    },
    {
      "cell_type": "code",
      "execution_count": 98,
      "metadata": {},
      "outputs": [],
      "source": [
        "lstmcell(xt,(_water,_water))"
      ],
      "id": "acee7168-e92c-4773-b769-dc11a5413cf5"
    },
    {
      "cell_type": "markdown",
      "metadata": {},
      "source": [
        "`-` 코드2: \\_water의 생략"
      ],
      "id": "8e0e2811-4e74-47b6-ba1e-a1035dbbcbd4"
    },
    {
      "cell_type": "code",
      "execution_count": 100,
      "metadata": {},
      "outputs": [],
      "source": [
        "torch.manual_seed(43052) \n",
        "lstmcell = torch.nn.LSTMCell(7,4).to(\"cuda:0\") "
      ],
      "id": "e323269b-e5c1-4259-a2ff-03e925da7715"
    },
    {
      "cell_type": "code",
      "execution_count": 101,
      "metadata": {},
      "outputs": [],
      "source": [
        "xt = x[[1]]\n",
        "xt.shape"
      ],
      "id": "68cae981-21dc-4556-ac72-4b4a2eb3689c"
    },
    {
      "cell_type": "code",
      "execution_count": 102,
      "metadata": {},
      "outputs": [],
      "source": [
        "lstmcell(xt)"
      ],
      "id": "f645b760-8e82-4eb7-bcb3-7744b64d9edd"
    },
    {
      "cell_type": "markdown",
      "metadata": {},
      "source": [
        "## 세트2: xt.shape = ($N$,$H_{in}$) or ($H_{in}$)\n",
        "\n",
        "`-` 코드2: \\_water의 생략"
      ],
      "id": "ee224502-4e42-4cba-ad0a-978874ebfa51"
    },
    {
      "cell_type": "code",
      "execution_count": 103,
      "metadata": {},
      "outputs": [],
      "source": [
        "torch.manual_seed(43052) \n",
        "lstmcell = torch.nn.LSTMCell(7,4).to(\"cuda:0\") "
      ],
      "id": "ed89fe07-3951-40ea-a89c-979508df59c6"
    },
    {
      "cell_type": "code",
      "execution_count": 104,
      "metadata": {},
      "outputs": [],
      "source": [
        "xt = x[[1]]\n",
        "xt.shape"
      ],
      "id": "d8f14908-ed67-4b71-99ba-ad76d4a8ff8f"
    },
    {
      "cell_type": "code",
      "execution_count": 105,
      "metadata": {},
      "outputs": [],
      "source": [
        "lstmcell(xt)"
      ],
      "id": "9389ceb0-6dab-4110-afaf-30483ccc4b4f"
    },
    {
      "cell_type": "markdown",
      "metadata": {},
      "source": [
        "`-` 코드3:"
      ],
      "id": "7ccf81fe-7f2d-4aa0-9b26-dda5ad2b0d1e"
    },
    {
      "cell_type": "code",
      "execution_count": 103,
      "metadata": {},
      "outputs": [],
      "source": [
        "torch.manual_seed(43052) \n",
        "lstmcell = torch.nn.LSTMCell(7,4).to(\"cuda:0\") "
      ],
      "id": "cc97aa08-4ffd-4d60-943a-399ea67c1fb5"
    },
    {
      "cell_type": "code",
      "execution_count": 106,
      "metadata": {},
      "outputs": [],
      "source": [
        "xt = x[1]\n",
        "xt.shape"
      ],
      "id": "07b42ed4-7b97-4d79-a198-dfb885ade3f8"
    },
    {
      "cell_type": "code",
      "execution_count": 107,
      "metadata": {},
      "outputs": [],
      "source": [
        "lstmcell(xt)"
      ],
      "id": "5faf0082-6029-4956-aedc-24c6942fc008"
    },
    {
      "cell_type": "markdown",
      "metadata": {},
      "source": [
        "## 세트3: hidden.shape = ($N$,$H_{out}$) or ($H_{out}$)\n",
        "\n",
        "`-` 코드4: xt.shape = ($H_{in}$) $\\to$ \\_water.shape = $(H_{out})$"
      ],
      "id": "bca3810b-daf9-495e-b755-aa54adb268aa"
    },
    {
      "cell_type": "code",
      "execution_count": 109,
      "metadata": {},
      "outputs": [],
      "source": [
        "torch.manual_seed(43052) \n",
        "lstmcell = torch.nn.LSTMCell(7,4).to(\"cuda:0\") "
      ],
      "id": "5232200b-e72a-4619-a7fe-ca1e881708b4"
    },
    {
      "cell_type": "code",
      "execution_count": 113,
      "metadata": {},
      "outputs": [],
      "source": [
        "xt = x[1]\n",
        "_water = torch.zeros(4).to(\"cuda:0\")\n",
        "xt.shape,_water.shape"
      ],
      "id": "2b4daaa0-6019-4e1e-9083-41338f2e38c1"
    },
    {
      "cell_type": "code",
      "execution_count": 114,
      "metadata": {},
      "outputs": [],
      "source": [
        "lstmcell(xt, (_water,_water))"
      ],
      "id": "d500a848-d1af-4248-b2d3-a9ccae524f26"
    },
    {
      "cell_type": "markdown",
      "metadata": {},
      "source": [
        "# Summary\n",
        "\n",
        "## 똑같은 코드들 정리\n",
        "\n",
        "`-` 원래 1은 단순히 observation의 차원이 아니다. 즉\n",
        "${\\bf X}_{n \\times p}$에서 $n$에 대응하는 차원으로 생각할 수 없다.\n",
        "\n",
        "`-` 그런데 (1) 단방향 (2) 조각내지 않은 시계열 (3) 중첩하지 않은\n",
        "순환망에 한정하여서는 observation 처럼 생각해도 무방하다. \\<– 엄밀하게는\n",
        "이게 위험한 생각임. 하지만 정식으로 모두 따지려면 너무 헷갈림\n",
        "\n",
        "## 실제구현시 기억할 것\n",
        "\n",
        "`-` 현실적으로 (1)-(3)이 아닌 조건에서는 Cell 단위로 연산을 이용할 일이\n",
        "없다. (느리거든요) // 그냥 이해용으로 구현\n",
        "\n",
        "`-` torch.nn.RNN 혹은 torch.nn.LSTM 으로 네트워크를 구성할시 \\_water의\n",
        "dim을 명시할 일도 없다.\n",
        "\n",
        "`-` 오로지 고려해야 할 것은 입력시계열을 조각낼지 조각내지 않을지\n",
        "\n",
        "# 조각난 시계열로 학습\n",
        "\n",
        "## data"
      ],
      "id": "8365910a-a57b-454a-8365-3d0dc35d5eab"
    },
    {
      "cell_type": "code",
      "execution_count": 118,
      "metadata": {},
      "outputs": [],
      "source": [
        "txt = list('hi!')*3 + list('hi?')*3 "
      ],
      "id": "c0363094-0a94-4731-b78e-bc95fbabdbaa"
    },
    {
      "cell_type": "markdown",
      "metadata": {},
      "source": [
        "## 조각내지 않은 시계열"
      ],
      "id": "c4a7448e-1318-4cb1-a855-0993aa52ed81"
    },
    {
      "cell_type": "code",
      "execution_count": 165,
      "metadata": {},
      "outputs": [],
      "source": [
        "txt_x = txt[:-1] \n",
        "txt_y = txt[1:] "
      ],
      "id": "658593d6-79a1-4f5c-a9f6-add8057c9ee6"
    },
    {
      "cell_type": "code",
      "execution_count": 166,
      "metadata": {},
      "outputs": [],
      "source": [
        "mapping = {'!':0, '?':1, 'h':2, 'i':3} \n",
        "x = torch.nn.functional.one_hot(torch.tensor(f(txt_x,mapping))).float().to(\"cuda:0\")\n",
        "y = torch.nn.functional.one_hot(torch.tensor(f(txt_y,mapping))).float().to(\"cuda:0\")"
      ],
      "id": "a252045c-bac6-4ddf-99c7-92accc70cb22"
    },
    {
      "cell_type": "code",
      "execution_count": 167,
      "metadata": {},
      "outputs": [],
      "source": [
        "torch.manual_seed(43052) \n",
        "lstm = torch.nn.LSTM(4,10).to(\"cuda:0\")\n",
        "linr = torch.nn.Linear(10,4).to(\"cuda:0\")"
      ],
      "id": "7509ff26-144c-4b16-a801-51098592b3ef"
    },
    {
      "cell_type": "code",
      "execution_count": 168,
      "metadata": {},
      "outputs": [],
      "source": [
        "loss_fn = torch.nn.CrossEntropyLoss() \n",
        "optimizr = torch.optim.Adam(list(lstm.parameters())+list(linr.parameters()),lr=0.1)"
      ],
      "id": "a0de556b-0aab-41c3-aedf-558685f0925e"
    },
    {
      "cell_type": "code",
      "execution_count": 169,
      "metadata": {},
      "outputs": [],
      "source": [
        "for epoc in range(100):\n",
        "    ## 1 \n",
        "    hidden, _ = lstm(x) \n",
        "    output = linr(hidden) \n",
        "    ## 2 \n",
        "    loss = loss_fn(output,y) \n",
        "    ## 3 \n",
        "    loss.backward() \n",
        "    ## 4 \n",
        "    optimizr.step()\n",
        "    optimizr.zero_grad()"
      ],
      "id": "a4baaed7-95c4-4fa1-8263-419f60039484"
    },
    {
      "cell_type": "code",
      "execution_count": 171,
      "metadata": {},
      "outputs": [
        {
          "output_type": "display_data",
          "metadata": {},
          "data": {
            "image/png": "[encoded data removed]"
          }
        }
      ],
      "source": [
        "hidden, _ = lstm(x)\n",
        "plt.matshow(soft(linr(hidden)).to(\"cpu\").data,cmap='bwr',vmin=-1,vmax=1)"
      ],
      "id": "817df1e9-7bad-4039-a343-b483c8b22b02"
    },
    {
      "cell_type": "markdown",
      "metadata": {},
      "source": [
        "## 조각난 시계열"
      ],
      "id": "48453d13-28e0-4818-a721-7e5a88d93d74"
    },
    {
      "cell_type": "code",
      "execution_count": 177,
      "metadata": {},
      "outputs": [],
      "source": [
        "txt1= txt[:9]\n",
        "txt2= txt[9:]"
      ],
      "id": "7fe050b8-ffc6-4522-9ea4-5e51c63aebfe"
    },
    {
      "cell_type": "code",
      "execution_count": 178,
      "metadata": {},
      "outputs": [],
      "source": [
        "txt1,txt2"
      ],
      "id": "46b9ebe3-ec6c-428a-b46f-3da0cda793c7"
    },
    {
      "cell_type": "code",
      "execution_count": 179,
      "metadata": {},
      "outputs": [],
      "source": [
        "txt1_x = txt1[:-1] \n",
        "txt1_y = txt1[1:] \n",
        "txt2_x = txt2[:-1] \n",
        "txt2_y = txt2[1:] "
      ],
      "id": "4cbbc97f-bfbe-4c9f-ad03-ef8882f8a9fa"
    },
    {
      "cell_type": "code",
      "execution_count": 180,
      "metadata": {},
      "outputs": [],
      "source": [
        "mapping = {'!':0, '?':1, 'h':2, 'i':3} \n",
        "x1 = torch.nn.functional.one_hot(torch.tensor(f(txt1_x,mapping))).float().to(\"cuda:0\")\n",
        "y1 = torch.nn.functional.one_hot(torch.tensor(f(txt1_y,mapping))).float().to(\"cuda:0\")\n",
        "x2 = torch.nn.functional.one_hot(torch.tensor(f(txt2_x,mapping))).float().to(\"cuda:0\")\n",
        "y2 = torch.nn.functional.one_hot(torch.tensor(f(txt2_y,mapping))).float().to(\"cuda:0\")"
      ],
      "id": "f66aefcf-c663-4f69-8dc6-453d537b0f87"
    },
    {
      "cell_type": "code",
      "execution_count": 181,
      "metadata": {},
      "outputs": [],
      "source": [
        "x1.shape, y1.shape, x2.shape, y2.shape"
      ],
      "id": "11f335c8-2af8-43b8-8baf-9f2ef9a34aed"
    },
    {
      "cell_type": "code",
      "execution_count": 182,
      "metadata": {},
      "outputs": [],
      "source": [
        "xx = torch.stack([x1,x2],axis=1)\n",
        "yy = torch.stack([y1,y2],axis=1)\n",
        "xx.shape, yy.shape"
      ],
      "id": "7f8f4190-2a2d-402b-af88-eee15dbe3641"
    },
    {
      "cell_type": "code",
      "execution_count": 183,
      "metadata": {},
      "outputs": [],
      "source": [
        "torch.manual_seed(43052) \n",
        "lstm = torch.nn.LSTM(4,10).to(\"cuda:0\")\n",
        "linr = torch.nn.Linear(10,4).to(\"cuda:0\")"
      ],
      "id": "d6cfaaa5-1c0d-4ac1-bc01-0fd024d084e2"
    },
    {
      "cell_type": "code",
      "execution_count": 184,
      "metadata": {},
      "outputs": [],
      "source": [
        "loss_fn = torch.nn.CrossEntropyLoss() \n",
        "optimizr = torch.optim.Adam(list(lstm.parameters())+list(linr.parameters()),lr=0.1)"
      ],
      "id": "305bba39-9f5a-4649-8cf3-3033b0992e88"
    },
    {
      "cell_type": "code",
      "execution_count": 185,
      "metadata": {},
      "outputs": [],
      "source": [
        "for epoc in range(100):\n",
        "    ## 1 \n",
        "    hidden, _ = lstm(xx) \n",
        "    output = linr(hidden) \n",
        "    ## 2 \n",
        "    loss = loss_fn(output[:,0,:],yy[:,0,:]) + loss_fn(output[:,1,:],yy[:,1,:])\n",
        "    ## 3 \n",
        "    loss.backward() \n",
        "    ## 4 \n",
        "    optimizr.step()\n",
        "    optimizr.zero_grad()"
      ],
      "id": "0272bc93-e0df-4260-815b-2bf4358eb68a"
    },
    {
      "cell_type": "code",
      "execution_count": 186,
      "metadata": {},
      "outputs": [
        {
          "output_type": "display_data",
          "metadata": {},
          "data": {
            "image/png": "[encoded data removed]"
          }
        }
      ],
      "source": [
        "fig , ax = plt.subplots(1,2) \n",
        "ax[0].matshow(soft(output[:,0,:]).to(\"cpu\").data,cmap='bwr',vmin=-1,vmax=1)\n",
        "ax[1].matshow(soft(output[:,1,:]).to(\"cpu\").data,cmap='bwr',vmin=-1,vmax=1)"
      ],
      "id": "38414219-0ae3-46ba-bd6c-2ddb9149e279"
    },
    {
      "cell_type": "code",
      "execution_count": 190,
      "metadata": {},
      "outputs": [
        {
          "output_type": "display_data",
          "metadata": {},
          "data": {
            "image/png": "[encoded data removed]"
          }
        }
      ],
      "source": [
        "hidden, _ = lstm(x)\n",
        "plt.matshow(soft(linr(hidden)).to(\"cpu\").data,cmap='bwr',vmin=-1,vmax=1)"
      ],
      "id": "f8af06a9-c477-43fc-a7c8-2821eb071f3d"
    },
    {
      "cell_type": "markdown",
      "metadata": {},
      "source": [
        "`-` 조각난 시계열로 학습한 경우는 hi!에서 hi?로 바뀔 수 없다. 왜냐햐면\n",
        "그러한 연결정보가 끊어져 있으니까\n",
        "\n",
        "## 재미있는 실험\n",
        "\n",
        "`-` x1만 배운다면?"
      ],
      "id": "37009803-f6cb-4bde-91a2-37d36286b6cc"
    },
    {
      "cell_type": "code",
      "execution_count": 172,
      "metadata": {},
      "outputs": [],
      "source": [
        "torch.manual_seed(43052) \n",
        "lstm = torch.nn.LSTM(4,10).to(\"cuda:0\")\n",
        "linr = torch.nn.Linear(10,4).to(\"cuda:0\")"
      ],
      "id": "83f87cfa-26bd-4ae9-8729-c7baeae05e94"
    },
    {
      "cell_type": "code",
      "execution_count": 173,
      "metadata": {},
      "outputs": [],
      "source": [
        "loss_fn = torch.nn.CrossEntropyLoss() \n",
        "optimizr = torch.optim.Adam(list(lstm.parameters())+list(linr.parameters()),lr=0.1)"
      ],
      "id": "d6af0500-febe-4703-868a-a56d0d973608"
    },
    {
      "cell_type": "code",
      "execution_count": 175,
      "metadata": {},
      "outputs": [],
      "source": [
        "for epoc in range(100):\n",
        "    ## 1 \n",
        "    hidden, _ = lstm(x1) \n",
        "    output = linr(hidden) \n",
        "    ## 2 \n",
        "    loss = loss_fn(output,y1)\n",
        "    ## 3 \n",
        "    loss.backward() \n",
        "    ## 4 \n",
        "    optimizr.step()\n",
        "    optimizr.zero_grad()"
      ],
      "id": "97326acf-ce38-44da-9894-71ae361221d3"
    },
    {
      "cell_type": "code",
      "execution_count": 176,
      "metadata": {},
      "outputs": [
        {
          "output_type": "display_data",
          "metadata": {},
          "data": {
            "image/png": "[encoded data removed]"
          }
        }
      ],
      "source": [
        "hidden, _ = lstm(x2)\n",
        "plt.matshow(soft(linr(hidden)).to(\"cpu\").data,cmap='bwr',vmin=-1,vmax=1)"
      ],
      "id": "5562d18a-2797-4189-bf85-92f248c31483"
    },
    {
      "cell_type": "markdown",
      "metadata": {},
      "source": [
        "`-` x2만 배운다면?"
      ],
      "id": "16796954-a9a4-4778-aeb1-7536b55cc8e1"
    },
    {
      "cell_type": "code",
      "execution_count": 191,
      "metadata": {},
      "outputs": [],
      "source": [
        "torch.manual_seed(43052) \n",
        "lstm = torch.nn.LSTM(4,10).to(\"cuda:0\")\n",
        "linr = torch.nn.Linear(10,4).to(\"cuda:0\")"
      ],
      "id": "b4831ede-47c4-483b-bd89-f27e62bfa570"
    },
    {
      "cell_type": "code",
      "execution_count": 192,
      "metadata": {},
      "outputs": [],
      "source": [
        "loss_fn = torch.nn.CrossEntropyLoss() \n",
        "optimizr = torch.optim.Adam(list(lstm.parameters())+list(linr.parameters()),lr=0.1)"
      ],
      "id": "b0612f13-d262-46f9-90ae-6e2c03d855ef"
    },
    {
      "cell_type": "code",
      "execution_count": 193,
      "metadata": {},
      "outputs": [],
      "source": [
        "for epoc in range(100):\n",
        "    ## 1 \n",
        "    hidden, _ = lstm(x2) \n",
        "    output = linr(hidden) \n",
        "    ## 2 \n",
        "    loss = loss_fn(output,y2)\n",
        "    ## 3 \n",
        "    loss.backward() \n",
        "    ## 4 \n",
        "    optimizr.step()\n",
        "    optimizr.zero_grad()"
      ],
      "id": "d054ebdb-d175-4ec3-949d-dd6d21a70384"
    },
    {
      "cell_type": "code",
      "execution_count": 195,
      "metadata": {},
      "outputs": [
        {
          "output_type": "display_data",
          "metadata": {},
          "data": {
            "image/png": "[encoded data removed]"
          }
        }
      ],
      "source": [
        "hidden, _ = lstm(x1)\n",
        "plt.matshow(soft(linr(hidden)).to(\"cpu\").data,cmap='bwr',vmin=-1,vmax=1)"
      ],
      "id": "2c7fa235-7fd9-48ea-b789-8077bbd3fc11"
    },
    {
      "cell_type": "markdown",
      "metadata": {},
      "source": [
        "# 똑같은 코드들 fastai, pytorch\n",
        "\n",
        "## data: human numbers 5"
      ],
      "id": "ab7bc12c-dbf0-4d9e-be73-59a2d7f577d5"
    },
    {
      "cell_type": "code",
      "execution_count": 196,
      "metadata": {},
      "outputs": [],
      "source": [
        "txt = (['one',',','two',',','three',',','four',',','five',',']*100)[:-1]"
      ],
      "id": "b25ceb72-e7a8-4a50-bae8-f6a55c6f91c0"
    },
    {
      "cell_type": "code",
      "execution_count": 197,
      "metadata": {},
      "outputs": [],
      "source": [
        "mapping = {',':0, 'one':1, 'two':2, 'three':3, 'four':4, 'five':5} \n",
        "mapping"
      ],
      "id": "9e0643af-50f0-4ec9-8814-4dc443ba1250"
    },
    {
      "cell_type": "code",
      "execution_count": 198,
      "metadata": {},
      "outputs": [],
      "source": [
        "txt_x = txt[:-1]\n",
        "txt_y = txt[1:] "
      ],
      "id": "de557d01-17ac-4f30-a30d-2fbbb2730bc8"
    },
    {
      "cell_type": "code",
      "execution_count": 199,
      "metadata": {},
      "outputs": [],
      "source": [
        "txt_x[0:5], txt_y[0:5]"
      ],
      "id": "374542df-d6b4-421e-b81c-e43786ef9d2b"
    },
    {
      "cell_type": "code",
      "execution_count": 200,
      "metadata": {},
      "outputs": [],
      "source": [
        "x = torch.nn.functional.one_hot(torch.tensor(f(txt_x,mapping))).float().to(\"cuda:0\")\n",
        "y = torch.nn.functional.one_hot(torch.tensor(f(txt_y,mapping))).float().to(\"cuda:0\")"
      ],
      "id": "30a320e9-b789-4ecb-a75b-a802966f0910"
    },
    {
      "cell_type": "markdown",
      "metadata": {},
      "source": [
        "## fastai 이용한 learn"
      ],
      "id": "ceb60736-271e-41a3-9710-33522c0f7983"
    },
    {
      "cell_type": "code",
      "execution_count": 215,
      "metadata": {},
      "outputs": [],
      "source": [
        "ds1 = torch.utils.data.TensorDataset(x,y)\n",
        "ds2 = torch.utils.data.TensorDataset(x,y) # dummy \n",
        "dl1 = torch.utils.data.DataLoader(ds1,batch_size=998)\n",
        "dl2 = torch.utils.data.DataLoader(ds2,batch_size=998) # dummy \n",
        "dls = DataLoaders(dl1,dl2) "
      ],
      "id": "91a7f339-1b80-413f-bffb-2023cfc93529"
    },
    {
      "cell_type": "code",
      "execution_count": 216,
      "metadata": {},
      "outputs": [],
      "source": [
        "class MyLSTM(torch.nn.Module):\n",
        "    def __init__(self):\n",
        "        super().__init__()\n",
        "        torch.manual_seed(43052)\n",
        "        self.lstm = torch.nn.LSTM(6,20)\n",
        "        self.linr = torch.nn.Linear(20,6) \n",
        "    def forward(self,x):\n",
        "        _water = torch.zeros(1,20).to(\"cuda:0\")\n",
        "        hidden, (hT,cT) =self.lstm(x,(_water,_water))\n",
        "        output = self.linr(hidden)\n",
        "        return output         "
      ],
      "id": "1c8c6ab2-bf0e-4623-8ea4-2e1d675fad7e"
    },
    {
      "cell_type": "code",
      "execution_count": 217,
      "metadata": {},
      "outputs": [],
      "source": [
        "net = MyLSTM().to(\"cuda:0\")\n",
        "loss_fn = torch.nn.CrossEntropyLoss()"
      ],
      "id": "758fd0df-ef58-4f52-b3e9-a01af5560406"
    },
    {
      "cell_type": "code",
      "execution_count": 218,
      "metadata": {},
      "outputs": [],
      "source": [
        "lrnr = Learner(dls,net,loss_fn,lr=0.1)"
      ],
      "id": "921ee259-42ea-4f4b-8d90-aedddca5b603"
    },
    {
      "cell_type": "code",
      "execution_count": 219,
      "metadata": {},
      "outputs": [],
      "source": [
        "lrnr.fit(10)"
      ],
      "id": "5e517aee-0893-453e-9235-c0774b66c7d1"
    },
    {
      "cell_type": "code",
      "execution_count": 220,
      "metadata": {},
      "outputs": [],
      "source": [
        "soft(lrnr.model(x)).data.to(\"cpu\").numpy().round(3)"
      ],
      "id": "af53dc25-0a94-49ef-945a-6790eb8d1a12"
    },
    {
      "cell_type": "markdown",
      "metadata": {},
      "source": [
        "## torch를 이용한 learn"
      ],
      "id": "df7b3f22-63b2-47c0-a202-00dc68975c99"
    },
    {
      "cell_type": "code",
      "execution_count": 230,
      "metadata": {},
      "outputs": [],
      "source": [
        "torch.manual_seed(43052) \n",
        "lstm = torch.nn.LSTM(6,20).to(\"cuda:0\") \n",
        "linr = torch.nn.Linear(20,6).to(\"cuda:0\") \n",
        "loss_fn = torch.nn.CrossEntropyLoss()\n",
        "optimizr = Adam(list(lstm.parameters())+list(linr.parameters()),lr=0.1)"
      ],
      "id": "d40ec1a3-46cd-4e39-942a-327cf2d53895"
    },
    {
      "cell_type": "code",
      "execution_count": 231,
      "metadata": {},
      "outputs": [],
      "source": [
        "for epoc in range(10):\n",
        "    ## 1 \n",
        "    hidden, _ = lstm(x)\n",
        "    output = linr(hidden) \n",
        "    ## 2 \n",
        "    loss = loss_fn(output,y) \n",
        "    ## 3 \n",
        "    loss.backward()\n",
        "    ## 4 \n",
        "    optimizr.step()\n",
        "    optimizr.zero_grad()     "
      ],
      "id": "86d6806e-5802-4a9a-8b47-74597ae50f89"
    },
    {
      "cell_type": "code",
      "execution_count": 232,
      "metadata": {},
      "outputs": [],
      "source": [
        "hidden, _ = lstm(x)\n",
        "output = linr(hidden) \n",
        "soft(output).data.to(\"cpu\").numpy().round(3)"
      ],
      "id": "b4f658e4-da20-44f7-a5fa-b9e090388614"
    },
    {
      "cell_type": "markdown",
      "metadata": {},
      "source": [
        "# human numbers 100"
      ],
      "id": "06ca1923-95f4-4f67-9600-784e34921a0b"
    },
    {
      "cell_type": "code",
      "execution_count": 789,
      "metadata": {},
      "outputs": [],
      "source": [
        "df = pd.read_csv('https://raw.githubusercontent.com/guebin/DL2022/main/posts/IV.%20RNN/2022-11-25-human_numbers_100.csv')\n",
        "df"
      ],
      "id": "36e6d771-10b7-4e25-be4c-a99909c91de9"
    },
    {
      "cell_type": "markdown",
      "metadata": {},
      "source": [
        "`(1)` TextDataLoaders.from_df을 이용하여 dls오브젝트 생성"
      ],
      "id": "1a988fd2-b033-4d8f-b006-1befeabde918"
    },
    {
      "cell_type": "code",
      "execution_count": 791,
      "metadata": {},
      "outputs": [],
      "source": [
        "dls = TextDataLoaders.from_df(df,is_lm=True,seq_len=5,text_col='text')\n",
        "dls.show_batch()"
      ],
      "id": "6042b16b-e720-4bcb-94ba-b53a4552492d"
    },
    {
      "cell_type": "markdown",
      "metadata": {},
      "source": [
        "`(2)` lrnr 오브젝트를 생성"
      ],
      "id": "e1cfed1e-636b-4904-8905-a8275c1fa406"
    },
    {
      "cell_type": "code",
      "execution_count": 51,
      "metadata": {},
      "outputs": [],
      "source": [
        "lrnr = language_model_learner(dls, arch= AWD_LSTM, metrics=accuracy)"
      ],
      "id": "ae40e600-9cac-43ad-8283-b07aaa71bac7"
    },
    {
      "cell_type": "markdown",
      "metadata": {},
      "source": [
        "`(3)` lrnr오브젝트에서 모형을 학습"
      ],
      "id": "5466cf7b-7edd-496b-8764-a9e7f20d6a83"
    },
    {
      "cell_type": "code",
      "execution_count": 53,
      "metadata": {},
      "outputs": [],
      "source": [
        "lrnr.fine_tune(3)"
      ],
      "id": "8a9e12a7-c4d5-471a-bef1-691679428994"
    },
    {
      "cell_type": "markdown",
      "metadata": {},
      "source": [
        "`(4)` ‘one , two ,’ 이후에 이어질 50개의 단어를 생성"
      ],
      "id": "78df07c0-9431-4fb6-871b-c11f898a2181"
    },
    {
      "cell_type": "code",
      "execution_count": 56,
      "metadata": {},
      "outputs": [],
      "source": [
        "lrnr.predict('one, two,', n_words=50) "
      ],
      "id": "941a8d75-1f51-45e0-b905-e86e38d5e394"
    },
    {
      "cell_type": "markdown",
      "metadata": {},
      "source": [
        "`(5)` ‘twenty , twenty one ,’ 이후에 이어질 50개의 단어를 생성"
      ],
      "id": "fcc61ae1-8eda-469a-9d95-e16174a4cef5"
    },
    {
      "cell_type": "code",
      "execution_count": 57,
      "metadata": {},
      "outputs": [],
      "source": [
        "lrnr.predict('twenty, twenty one,', n_words=50) "
      ],
      "id": "41be91eb-f466-49a8-a306-d94cc710192a"
    }
  ],
  "nbformat": 4,
  "nbformat_minor": 5,
  "metadata": {
    "kernelspec": {
      "name": "python3",
      "display_name": "Python 3",
      "language": "python"
    },
    "language_info": {
      "name": "python",
      "codemirror_mode": {
        "name": "ipython",
        "version": "3"
      },
      "file_extension": ".py",
      "mimetype": "text/x-python",
      "nbconvert_exporter": "python",
      "pygments_lexer": "ipython3",
      "version": "3.7.15"
    }
  }
}