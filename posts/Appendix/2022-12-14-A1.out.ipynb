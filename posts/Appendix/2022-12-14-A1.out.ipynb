{
  "cells": [
    {
      "cell_type": "markdown",
      "metadata": {},
      "source": [
        "# A1: 깊은복사와 얕은복사\n",
        "\n",
        "최규빈  \n",
        "2022-12-14\n",
        "\n",
        "> 모르고 살았어도 좋았을 내용\n",
        "\n",
        "# import"
      ],
      "id": "4f95ec97-5631-4565-ab41-371ede56cf65"
    },
    {
      "cell_type": "code",
      "execution_count": 2,
      "metadata": {},
      "outputs": [],
      "source": [
        "import numpy as np\n",
        "import pandas as pd "
      ],
      "id": "574632ed-d232-4ba9-899f-30f2d797f8cd"
    },
    {
      "cell_type": "markdown",
      "metadata": {},
      "source": [
        "# Introduction\n",
        "\n",
        "## 비상식적인 append\n",
        "\n",
        "`-` 아래의 코드를 관찰하자."
      ],
      "id": "de5c6158-c87f-4e7d-a5f2-6196171b8a3b"
    },
    {
      "cell_type": "code",
      "execution_count": 42,
      "metadata": {},
      "outputs": [],
      "source": [
        "a=[1,2,3]\n",
        "b=a\n",
        "a=a+[4]"
      ],
      "id": "e9573167-d60a-4aee-923a-dfb5ad65f6ba"
    },
    {
      "cell_type": "markdown",
      "metadata": {},
      "source": [
        "현재 a,b의 출력결과는?"
      ],
      "id": "08db05c7-b369-4dce-9f83-ba6fc9f56084"
    },
    {
      "cell_type": "code",
      "execution_count": 45,
      "metadata": {},
      "outputs": [
        {
          "output_type": "stream",
          "name": "stdout",
          "text": [
            "a= [1, 2, 3, 4]\n",
            "b= [1, 2, 3]"
          ]
        }
      ],
      "source": [
        "print('a=', a)\n",
        "print('b=', b)"
      ],
      "id": "3e5c3d55-8ea8-4686-ab8e-a06c8e9615a5"
    },
    {
      "cell_type": "markdown",
      "metadata": {},
      "source": [
        "`-` 이제 다시 아래의 코드를 관찰하자."
      ],
      "id": "4eee7f80-7fe4-4ff9-87af-bbd6b0e50c4e"
    },
    {
      "cell_type": "code",
      "execution_count": 10,
      "metadata": {},
      "outputs": [],
      "source": [
        "a=[1,2,3]\n",
        "b=a\n",
        "a.append(4) "
      ],
      "id": "6a906e4d-4a6b-4e8f-8cd2-bdafee4b8b22"
    },
    {
      "cell_type": "markdown",
      "metadata": {},
      "source": [
        "현재 a,b의 출력결과는?"
      ],
      "id": "ac6ccb1f-dcac-434e-a637-441c24e728e7"
    },
    {
      "cell_type": "code",
      "execution_count": 46,
      "metadata": {},
      "outputs": [
        {
          "output_type": "stream",
          "name": "stdout",
          "text": [
            "a= [1, 2, 3, 4]\n",
            "b= [1, 2, 3]"
          ]
        }
      ],
      "source": [
        "print('a=', a)\n",
        "print('b=', b)"
      ],
      "id": "8c8b8b16-b01d-40a8-be11-384b042db0eb"
    },
    {
      "cell_type": "markdown",
      "metadata": {},
      "source": [
        "## append의 동작원리: 틀린상상\n",
        "\n",
        "`-` 상자로서의 변수: 변수가 데이터를 저장하는 일종의 상자와 같다. \\<–\n",
        "아주 흔한 오해 (Fluent Python)\n",
        "\n",
        "> 흔히 비유하는 ‘상자로서의 변수’ 개념이 실제로는 객체지향적 언어에서\n",
        "> 참조변수를 이해하는 데 방해가 된다.\n",
        "\n",
        "`-` “상자로서의 변수” 관점에서 아래의 코드를 해석하자. (일단 아래의\n",
        "해석들이 틀린해석이라는 사실을 명심할 것)\n",
        "\n",
        "``` python\n",
        "a=[1,2,3]\n",
        "b=a\n",
        "a.append(4)\n",
        "```\n",
        "\n",
        "a,b라는 변수들은 메모리에 어떻게 저장이 되어있을까?\n",
        "\n",
        "상상력을 조금 발휘하면 아래와 같이 여길 수 있다.\n",
        "\n",
        "1.  메모리는 변수를 담을 방이 여러개 있는 호텔이라고 생각하자.\n",
        "\n",
        "2.  아래를 실행하였을 경우\n",
        "\n",
        "``` python\n",
        "a=[1,2,3]\n",
        "```\n",
        "\n",
        "-   메모리주소1에 존재하는 방을 a라고 하고, 그 방에 \\[1,2,3\\]을 넣는다.\n",
        "\n",
        "1.  아래를 실행하였을 경우\n",
        "\n",
        "``` python\n",
        "b=a\n",
        "```\n",
        "\n",
        "-   메모리주소2에 존재하는 방을 b라고 하고, 그 방에 a를 넣어야하는데,\n",
        "    a는 \\[1,2,3\\]이니까 \\[1,2,3\\]을 넣는다.\n",
        "\n",
        "1.  아래를 실행하면\n",
        "\n",
        "``` python\n",
        "a.append(4)\n",
        "```\n",
        "\n",
        "-   방 a로가서 \\[1,2,3\\]을 \\[1,2,3,4\\]로 바꾼다.\n",
        "-   그리고 방 b에는 아무것도 하지 않는다.\n",
        "\n",
        "`-` R에서는 맞는 비유인데, 파이썬은 적절하지 않은 비유이다.\n",
        "\n",
        "### 틀린이유"
      ],
      "id": "a045856e-d0af-43b9-9487-f063c1ce0d69"
    },
    {
      "cell_type": "code",
      "execution_count": 9,
      "metadata": {},
      "outputs": [],
      "source": [
        "id(a)"
      ],
      "id": "de4c9062-ea32-4531-b9de-42b97761976e"
    },
    {
      "cell_type": "code",
      "execution_count": 10,
      "metadata": {},
      "outputs": [],
      "source": [
        "id(b)"
      ],
      "id": "8215f387-f8f3-4ce6-8d14-4c94f5306390"
    },
    {
      "cell_type": "markdown",
      "metadata": {},
      "source": [
        "실제로는 a,b가 저장된 메모리 주소가 동일함\n",
        "\n",
        "## append의 동작원리: 올바른 상상\n",
        "\n",
        "> 파이썬에서의 변수는 자바에서의 참조변수와 같으므로 변수는 객체에 붙은\n",
        "> 레이블이라고 생각하는 것이 좋다.\n",
        "\n",
        "`-` 파이썬에서는 아래가 더 적절한 비유이다.\n",
        "\n",
        "1.  메모리는 변수를 담을 방이 여러개 있는 호텔이라고 생각하자.\n",
        "\n",
        "2.  아래를 실행하였을 경우\n",
        "\n",
        "``` python\n",
        "a=[1,2,3]\n",
        "```\n",
        "\n",
        "-   메모리주소 `139753545242336`에서 \\[1,2,3\\]을 생성\n",
        "-   방 `139753545242336`의 방문에 `a`라는 포스트잇을 붙인다.\n",
        "-   앞으로 \\[1,2,3\\]에 접근하기 위해서는 여러 메모리방중에서 `a`라는\n",
        "    포스트잇이 붙은 방을 찾아가면 된다.\n",
        "\n",
        "1.  아래를 실행하였을 경우\n",
        "\n",
        "``` python\n",
        "b=a\n",
        "```\n",
        "\n",
        "-   `a`라는 포스트잇이 지칭하는 객체를 가져옴. 그리고 그 객체에 `b`라는\n",
        "    포스트잇을 붙인다.\n",
        "-   쉽게말하면 `b`라는 포스트잇을 방 `139753545242336`의 방문에 붙인다는\n",
        "    이야기.\n",
        "-   앞으로 \\[1,2,3\\]에 접근하기 위해서는 여러 메모리방중에서 `a`라는\n",
        "    포스트잇이 붙어 있거나 `b`라는 포스트잇이 붙어있는 방을 찾아가면\n",
        "    된다.\n",
        "\n",
        "1.  아래를 실행하면\n",
        "\n",
        "``` python\n",
        "a.append(4)\n",
        "```\n",
        "\n",
        "-   `a`라는 포스트잇이 붙어있는 방으로 가서, 그 내용물에 `append`함수를\n",
        "    적용하여 4를 추가하라. 즉 내용물 \\[1,2,3\\]을 \\[1,2,3,4\\]로 바꾸라.\n",
        "-   같은방(`139753545242336`)에 `a`,`b`라는 포스트잇이 모두 붙어있음.\n",
        "    따라서 `b`라는 포스트잇이 붙은 방을 찾아가서 내용물을 열어보면\n",
        "    \\[1,2,3,4\\]가 나온다.\n",
        "\n",
        "# 할당문(=)의 이해\n",
        "\n",
        "`-` 파이썬에서 할당문을 이해하기 위해서는 언제나 오른쪽을 먼저 읽어야\n",
        "한다.\n",
        "\n",
        "-   할당문의 오른쪽에서는 객체를 “생성”하거나 “가져옴”\n",
        "-   그 후에 라벨을 붙이듯이 할당문 왼쪽의 변수가 할당문 오른쪽의 객체에\n",
        "    바인딩 된다. (참조)\n",
        "\n",
        "`-` `b=a`는\n",
        "\n",
        "> 나는 이미 a가 의미하는게 무엇인지 알고있어. 그런데 그 실체를 b라고도\n",
        "> 부르고 싶어.\n",
        "\n",
        "라는 것과 같다. 즉 이미 `a`라고 부르고 있는것을 내가 `b`라고도 부르고\n",
        "싶다는 의미인데 이는 마치 별명과 같다. (`b`는 `a`의 별명, alias) 그리고\n",
        "이처럼 하나의 오브젝트에 여러개의 이름을 붙이는 것을 에일리어싱이라고\n",
        "부른다.\n",
        "\n",
        "# id, value\n",
        "\n",
        "## 예제1: 같은 value, 다른 id"
      ],
      "id": "172db34d-a591-44ee-9472-57f706113c7c"
    },
    {
      "cell_type": "code",
      "execution_count": 12,
      "metadata": {},
      "outputs": [],
      "source": [
        "a=[1,2,3]\n",
        "b=a\n",
        "a.append(4)\n",
        "c=[1,2,3,4]"
      ],
      "id": "c68fbf63-438a-4361-bdaa-ee707db01403"
    },
    {
      "cell_type": "markdown",
      "metadata": {},
      "source": [
        "여기에서 a,b,c는 모두 같은 value를 가진다."
      ],
      "id": "7b8b5a9b-28c8-44e0-83ea-d90f8be1f4dd"
    },
    {
      "cell_type": "code",
      "execution_count": 13,
      "metadata": {},
      "outputs": [],
      "source": [
        "a"
      ],
      "id": "2a0e441a-a8d0-4c78-9832-fe1ec09550f7"
    },
    {
      "cell_type": "code",
      "execution_count": 14,
      "metadata": {},
      "outputs": [],
      "source": [
        "b"
      ],
      "id": "b214803c-9de0-4be9-97e3-7b7b22746fe8"
    },
    {
      "cell_type": "code",
      "execution_count": 15,
      "metadata": {},
      "outputs": [],
      "source": [
        "c"
      ],
      "id": "45072abc-f8ed-4e0f-85b0-a7b5123fca60"
    },
    {
      "cell_type": "markdown",
      "metadata": {},
      "source": [
        "하지만 그 id까지 같은 것은 아니다."
      ],
      "id": "d75dab25-0be2-47cb-a7e2-ba2b93477d4d"
    },
    {
      "cell_type": "code",
      "execution_count": 20,
      "metadata": {},
      "outputs": [],
      "source": [
        "id(a), id(b), id(c)"
      ],
      "id": "d50a1aa1-53e7-4fae-bd74-27fc5ded0cfe"
    },
    {
      "cell_type": "markdown",
      "metadata": {},
      "source": [
        "## 예제2\n",
        "\n",
        "(관찰)"
      ],
      "id": "5d0a0255-190a-46c8-aa11-0b00c1128022"
    },
    {
      "cell_type": "code",
      "execution_count": 47,
      "metadata": {},
      "outputs": [
        {
          "output_type": "stream",
          "name": "stdout",
          "text": [
            "a= [1, 2, 3, 4]\n",
            "b= [1, 2, 3]"
          ]
        }
      ],
      "source": [
        "a=[1,2,3] # 할당\n",
        "b=a # 에일리어싱 \n",
        "a=[1,2,3]+[4] # 재할당 \n",
        "print('a=',a)\n",
        "print('b=',b)"
      ],
      "id": "cf561d03-066b-4258-a91d-e36256276c7a"
    },
    {
      "cell_type": "markdown",
      "metadata": {},
      "source": [
        "(해설)"
      ],
      "id": "ac97e9df-b996-4cfe-bb71-4b8ceaf3e660"
    },
    {
      "cell_type": "code",
      "execution_count": 13,
      "metadata": {},
      "outputs": [],
      "source": [
        "id(a),id(b)"
      ],
      "id": "34ca0747-4299-4ede-ad1e-364550ae0be2"
    },
    {
      "cell_type": "markdown",
      "metadata": {},
      "source": [
        "-   포인트: \\[1,2,3\\]+\\[4\\] 가 실행되는 순간 새로운 오브젝트가\n",
        "    만들어지고 그 오브젝트를 a라는 이름으로 다시 할당되었음. (재할당)\n",
        "\n",
        "# 인터닝\n",
        "\n",
        "## 예제1"
      ],
      "id": "31385cb3-d685-436c-8018-a32343f7fcd0"
    },
    {
      "cell_type": "code",
      "execution_count": 25,
      "metadata": {},
      "outputs": [],
      "source": [
        "a=1+2021\n",
        "id(a)"
      ],
      "id": "5f159ac9-05bf-48a5-a47b-5265b626c361"
    },
    {
      "cell_type": "code",
      "execution_count": 26,
      "metadata": {},
      "outputs": [],
      "source": [
        "b=2023-1\n",
        "id(b)"
      ],
      "id": "bf966edf-8b21-4e46-85b6-5a94db0c9bcd"
    },
    {
      "cell_type": "code",
      "execution_count": 27,
      "metadata": {},
      "outputs": [],
      "source": [
        "id(2022)"
      ],
      "id": "07e3a0cb-76b0-477c-9b02-cb8a35735e9c"
    },
    {
      "cell_type": "markdown",
      "metadata": {},
      "source": [
        "-   당연한결과임.\n",
        "\n",
        "## 예제2: 이제 다 이해했다고 생각했는데.."
      ],
      "id": "6f922d07-0ef3-4924-9740-3d98d8deb479"
    },
    {
      "cell_type": "code",
      "execution_count": 22,
      "metadata": {},
      "outputs": [],
      "source": [
        "a=1+2 \n",
        "id(a)"
      ],
      "id": "60103d06-5bbc-432f-8d10-d1642caa75fc"
    },
    {
      "cell_type": "code",
      "execution_count": 23,
      "metadata": {},
      "outputs": [],
      "source": [
        "b=4-1\n",
        "id(b)"
      ],
      "id": "f807cfe1-fe2e-4e46-8f7f-934b264c75d8"
    },
    {
      "cell_type": "markdown",
      "metadata": {},
      "source": [
        "-   id(a)와 id(b)가 왜 똑같지..?\n",
        "\n",
        "(해설) 파이썬의 경우 효율성을 위해서 -5~256까지의 정수를 미리 저장해둠."
      ],
      "id": "5d0b8ae4-3a18-4416-84b0-8611a12b035d"
    },
    {
      "cell_type": "code",
      "execution_count": 14,
      "metadata": {},
      "outputs": [],
      "source": [
        "id(3)"
      ],
      "id": "ecc73076-655f-45b8-917d-2e7397352542"
    },
    {
      "cell_type": "markdown",
      "metadata": {},
      "source": [
        "-   3은 언제나 7394720에 지박령마냥 밖혀있음\n",
        "\n",
        "# `.copy()`의 사용 (shallow copy의 사용)\n",
        "\n",
        "## 예제1\n",
        "\n",
        "(관찰) 아래의 예제를 살펴보자. 참조를 제대로 이해했다면 아래의 예제는\n",
        "자연스럽게 이해가능할 것임."
      ],
      "id": "6ef5e2b1-3f84-49f2-848a-dfebd1333290"
    },
    {
      "cell_type": "code",
      "execution_count": 19,
      "metadata": {},
      "outputs": [
        {
          "output_type": "stream",
          "name": "stdout",
          "text": [
            "시점1\n",
            "l1= [3, [66, 55, 44]]\n",
            "l2= [3, [66, 55, 44]]\n",
            "시점2\n",
            "l1= [4, [66, 55, 44]]\n",
            "l2= [4, [66, 55, 44]]\n",
            "시점3\n",
            "l1= [4, [66, 55, 44], 5]\n",
            "l2= [4, [66, 55, 44], 5]"
          ]
        }
      ],
      "source": [
        "l1 = [3, [66,55,44]]\n",
        "l2 = l1 \n",
        "print('시점1')\n",
        "print('l1=',l1)\n",
        "print('l2=',l2)\n",
        "\n",
        "l1[0]=4 \n",
        "print('시점2')\n",
        "print('l1=',l1)\n",
        "print('l2=',l2)\n",
        "\n",
        "l2.append(5)\n",
        "print('시점3')\n",
        "print('l1=',l1)\n",
        "print('l2=',l2)"
      ],
      "id": "1cede05c"
    },
    {
      "cell_type": "markdown",
      "metadata": {},
      "source": [
        "(해설)"
      ],
      "id": "6aa5d421-ee39-4b34-9108-0a169fc48d3f"
    },
    {
      "cell_type": "code",
      "execution_count": 28,
      "metadata": {},
      "outputs": [],
      "source": [
        "l1 = [3, [66,55,44]]\n",
        "l2 = l1 "
      ],
      "id": "7060883a-dfa2-407d-abad-cce11676598d"
    },
    {
      "cell_type": "code",
      "execution_count": 29,
      "metadata": {},
      "outputs": [],
      "source": [
        "id(l1),id(l2)"
      ],
      "id": "356e020c-6294-4c22-a45e-f6359fb01acb"
    },
    {
      "cell_type": "markdown",
      "metadata": {},
      "source": [
        "이해는 되지만 우리가 원한건 이런게 아니야\n",
        "\n",
        "## 예제2: R과 같이 = 를 쓰고 싶다면?\n",
        "\n",
        "(관찰)"
      ],
      "id": "ea5cb30f-501f-4b8c-9fb2-7740d6dc048d"
    },
    {
      "cell_type": "code",
      "execution_count": 20,
      "metadata": {},
      "outputs": [
        {
          "output_type": "stream",
          "name": "stdout",
          "text": [
            "시점1\n",
            "l1= [3, [66, 55, 44]]\n",
            "l2= [3, [66, 55, 44]]\n",
            "시점2\n",
            "l1= [4, [66, 55, 44]]\n",
            "l2= [3, [66, 55, 44]]\n",
            "시점3\n",
            "l1= [4, [66, 55, 44]]\n",
            "l2= [3, [66, 55, 44], 5]"
          ]
        }
      ],
      "source": [
        "l1 = [3, [66,55,44]]\n",
        "l2 = l1.copy()\n",
        "print('시점1')\n",
        "print('l1=',l1)\n",
        "print('l2=',l2)\n",
        "\n",
        "l1[0]=4 \n",
        "print('시점2')\n",
        "print('l1=',l1)\n",
        "print('l2=',l2)\n",
        "\n",
        "l2.append(5)\n",
        "print('시점3')\n",
        "print('l1=',l1)\n",
        "print('l2=',l2)"
      ],
      "id": "d4511346"
    },
    {
      "cell_type": "markdown",
      "metadata": {},
      "source": [
        "(해설)"
      ],
      "id": "3e30341d-50b3-4b89-acf1-71b87540cc9f"
    },
    {
      "cell_type": "code",
      "execution_count": 21,
      "metadata": {},
      "outputs": [],
      "source": [
        "l1 = [3, [66,55,44]]\n",
        "l2 = l1.copy()"
      ],
      "id": "bca78f1f-68d8-4007-86ed-c6c00bd3f5b7"
    },
    {
      "cell_type": "code",
      "execution_count": 22,
      "metadata": {},
      "outputs": [],
      "source": [
        "id(l1),id(l2) ## 드디어 주소가 달라졌다."
      ],
      "id": "b0f127e2-e7d7-4c2f-bbf4-7dd72c071667"
    },
    {
      "cell_type": "markdown",
      "metadata": {},
      "source": [
        "## 예제3: 이제 다 이해했다고 생각했는데..\n",
        "\n",
        "(관찰)"
      ],
      "id": "64130774-97a2-4ded-a467-0a5bc9471a1a"
    },
    {
      "cell_type": "code",
      "execution_count": 23,
      "metadata": {},
      "outputs": [
        {
          "output_type": "stream",
          "name": "stdout",
          "text": [
            "l1= [3, [66, 55, 44, 33]]\n",
            "l2= [3, [66, 55, 44, 33]]"
          ]
        }
      ],
      "source": [
        "l1 = [3,[66,55,44]]\n",
        "l2 = l1.copy()\n",
        "l1[1].append(33)\n",
        "print('l1=',l1)\n",
        "print('l2=',l2)"
      ],
      "id": "92319b7a-8934-4a61-a00a-aad564d00981"
    },
    {
      "cell_type": "markdown",
      "metadata": {},
      "source": [
        "(의문)"
      ],
      "id": "c5a87c08-234e-41c9-9b35-c8b3e15df84d"
    },
    {
      "cell_type": "code",
      "execution_count": 24,
      "metadata": {},
      "outputs": [],
      "source": [
        "id(l1),id(l2)"
      ],
      "id": "a91c39f1-5ecd-4ff2-8245-53d757033682"
    },
    {
      "cell_type": "markdown",
      "metadata": {},
      "source": [
        "-   l1이랑 l2의 주소도 다르게 나오는데 왜 또 참조한것마냥 l1과 l2가 같이\n",
        "    바뀌고 있지?\n",
        "\n",
        "# Shallow copy의 이해\n",
        "\n",
        "`-` 방금 살펴본 예제3을 이해하기 위해서는 shallow copy를 이해해야 한다.\n",
        "\n",
        "## 예제1\n",
        "\n",
        "(관찰+해설)"
      ],
      "id": "e6deaaf9-5dae-4bfa-a3c0-1b5b598395e4"
    },
    {
      "cell_type": "code",
      "execution_count": 53,
      "metadata": {},
      "outputs": [],
      "source": [
        "a=2222\n",
        "b=2222"
      ],
      "id": "7a5bc105-18e0-4d29-b2fb-fe2384348b59"
    },
    {
      "cell_type": "code",
      "execution_count": 54,
      "metadata": {},
      "outputs": [],
      "source": [
        "id(a),id(b)"
      ],
      "id": "a123eedc-5042-4afd-8b8b-dd63f237f199"
    },
    {
      "cell_type": "markdown",
      "metadata": {},
      "source": [
        "메모리 상황\n",
        "\n",
        "1.  2222라는 오브젝트가 어떤공간(`139753545300880`)에 생성되고 그 공간에\n",
        "    `a`라는 라벨이 붙음\n",
        "2.  2222라는 오브젝트가 어떤공간(`139753545301808`)에 생성되고 그 공간에\n",
        "    `b`라는 라벨이 붙음\n",
        "\n",
        "즉 -5~256 이외의 2개의 메모리 공간을 추가적으로 사용\n",
        "\n",
        "## 예제2\n",
        "\n",
        "(관찰)"
      ],
      "id": "11f77951-253e-4427-8754-56907af903f9"
    },
    {
      "cell_type": "code",
      "execution_count": 3,
      "metadata": {},
      "outputs": [
        {
          "output_type": "stream",
          "name": "stdout",
          "text": [
            "a= [1, 2, 2222, 4]\n",
            "b= [1, 2, 2222]"
          ]
        }
      ],
      "source": [
        "a=[1,2,2222]\n",
        "b=[1,2,2222]\n",
        "a.append(4)\n",
        "print('a=',a)\n",
        "print('b=',b)"
      ],
      "id": "6ab5d348"
    },
    {
      "cell_type": "markdown",
      "metadata": {},
      "source": [
        "(해설)"
      ],
      "id": "94a1d9d2-74c8-4197-9abe-a41e058d58e3"
    },
    {
      "cell_type": "code",
      "execution_count": 264,
      "metadata": {},
      "outputs": [],
      "source": [
        "a=[1,2,2222]\n",
        "b=[1,2,2222]"
      ],
      "id": "80385249-8494-4ff3-ae8c-4ff8fe95212b"
    },
    {
      "cell_type": "code",
      "execution_count": 274,
      "metadata": {},
      "outputs": [],
      "source": [
        "id(a), [id(a[0]),id(a[1]),id(a[2])] # a=[1,2,2222]"
      ],
      "id": "5a92a171-7fe7-4287-bf18-5f9f17e77ab4"
    },
    {
      "cell_type": "code",
      "execution_count": 275,
      "metadata": {},
      "outputs": [],
      "source": [
        "id(b), [id(b[0]),id(b[1]),id(b[2])] # b=[1,2,2222] "
      ],
      "id": "a8c1b3c3-e7db-444a-b1ea-0e4ec1c5433f"
    },
    {
      "cell_type": "code",
      "execution_count": 269,
      "metadata": {},
      "outputs": [],
      "source": [
        "a.append(4)"
      ],
      "id": "8be5a889-7646-463a-802c-4ca48a43b71e"
    },
    {
      "cell_type": "code",
      "execution_count": 270,
      "metadata": {},
      "outputs": [],
      "source": [
        "a"
      ],
      "id": "a78a7612-b184-473f-9e3f-91d5da39378c"
    },
    {
      "cell_type": "code",
      "execution_count": 271,
      "metadata": {},
      "outputs": [],
      "source": [
        "b"
      ],
      "id": "964817b9-0d57-453e-a0e8-37fc0eaa2cd8"
    },
    {
      "cell_type": "markdown",
      "metadata": {},
      "source": [
        "메모리상황\n",
        "\n",
        "1.  -5~256까지의 숫자는 미리 메모리에 저장되어 있다. 이중에서 1은\n",
        "    `7394656`, 2는 `7394688`에 저장되어있음.\n",
        "2.  2222가 공간 `139753178093776`에서 만들어진다.\n",
        "3.  어떠한 리스트오브젝트가 공간 `139753182327904`에서 만들어지고 원소로\n",
        "    \\[1,2,2222\\]를 가진다. 이 공간에 `a`라는 포스트잇을 붙인다.\n",
        "4.  2222가 공간 `139753178095568`에서 만들어진다.\n",
        "5.  어떠한 리스트오브젝트가 공간 `139753173818656`에서 만들어지고 원소로\n",
        "    \\[1,2,2222\\]를 가진다. 이 공간에 `b`라는 포스트잇을 붙인다.\n",
        "6.  `a`라는 포스트잇이 붙은 공간으로 이동하여 원소에 4를 추가시킨다.\n",
        "\n",
        "즉 -5~256이외에 4개의 메모리 공간을 추가사용 (a,b,a의 2222,b의 2222)\n",
        "\n",
        "## 예제3\n",
        "\n",
        "(관찰)"
      ],
      "id": "b6151dd0-23d6-4fa2-9866-044260a905fb"
    },
    {
      "cell_type": "code",
      "execution_count": 4,
      "metadata": {},
      "outputs": [
        {
          "output_type": "stream",
          "name": "stdout",
          "text": [
            "l1= [7777, [66, 55, 44]]\n",
            "l2= [3, [66, 55, 44]]"
          ]
        }
      ],
      "source": [
        "l1 = [3,[66,55,44]]\n",
        "l2 = l1.copy()\n",
        "l1[0] = 7777\n",
        "print('l1=',l1)\n",
        "print('l2=',l2)"
      ],
      "id": "6226b004"
    },
    {
      "cell_type": "markdown",
      "metadata": {},
      "source": [
        "(해설)"
      ],
      "id": "ce5af385-7730-4a6f-ab95-78b27b1306df"
    },
    {
      "cell_type": "code",
      "execution_count": 258,
      "metadata": {},
      "outputs": [],
      "source": [
        "l1 = [3,[66,55,44]]\n",
        "l2 = l1.copy()"
      ],
      "id": "d3e5f49a-7df9-449d-8f73-d62f5b3e8af5"
    },
    {
      "cell_type": "code",
      "execution_count": 259,
      "metadata": {},
      "outputs": [],
      "source": [
        "id(l1), [id(l1[0]), id(l1[1])]"
      ],
      "id": "2ebf7b57-6c66-4321-9120-d2020b8b05f9"
    },
    {
      "cell_type": "code",
      "execution_count": 260,
      "metadata": {},
      "outputs": [],
      "source": [
        "id(l2), [id(l2[0]), id(l2[1])]"
      ],
      "id": "84eee6dc-c35c-4d1f-b8fc-67b6f6e091e9"
    },
    {
      "cell_type": "markdown",
      "metadata": {},
      "source": [
        "메모리상황\n",
        "\n",
        "1.  -5~256까지의 숫자가 메모리에 저장되어 있다.\n",
        "2.  저장된 숫자중 66,55,44를 묶어서 리스트로 구성하고 이 리스트를 공간\n",
        "    `139753183707216`에 저장.\n",
        "3.  숫자 3과 공간 `139753183707216`에 저장된 리스트 \\[66,55,44\\]를\n",
        "    하나로 묶어서 새로운 리스트를 구성하고 이를 공간 `139753183437040`에\n",
        "    저장. 공간 `139753183437040`에 `l1`이라는 포스트잇 생성.\n",
        "4.  공간 `139753182311120`에 `l1`의 원소들을 모아서 새로운 리스트를\n",
        "    구성함. 공간 `139753182311120`에 `l2`라는 포스트잇 생성."
      ],
      "id": "c8a088e5-77eb-43d6-88a1-90a819fd8597"
    },
    {
      "cell_type": "code",
      "execution_count": 261,
      "metadata": {},
      "outputs": [],
      "source": [
        "l1[0] = 7777\n",
        "l1,l2"
      ],
      "id": "1995f5de-db65-438a-ba2c-9124b61a10e7"
    },
    {
      "cell_type": "code",
      "execution_count": 262,
      "metadata": {},
      "outputs": [],
      "source": [
        "id(l1), [id(l1[0]), id(l1[1])]"
      ],
      "id": "830c5fb2-b486-4448-b8fc-14e61dc24757"
    },
    {
      "cell_type": "code",
      "execution_count": 263,
      "metadata": {},
      "outputs": [],
      "source": [
        "id(l2), [id(l2[0]), id(l2[1])]"
      ],
      "id": "ae2d0d8d-1e81-47b6-9fab-0263a9a7f343"
    },
    {
      "cell_type": "markdown",
      "metadata": {},
      "source": [
        "1.  l1\\[0\\]은 원래 공간 `7394720`와 binding 되어 있었음.  \n",
        "2.  그런데 7777이라는 새로운 오브젝트가 공간 `139753178092080`에\n",
        "    생성되고 l1\\[0\\]이 공간 `139753178092080`와 다시 binding 됨.\n",
        "\n",
        "## 예제4\n",
        "\n",
        "(관찰)"
      ],
      "id": "d9698989-7f1a-43f6-9f6e-d65c9c439bba"
    },
    {
      "cell_type": "code",
      "execution_count": 5,
      "metadata": {},
      "outputs": [
        {
          "output_type": "stream",
          "name": "stdout",
          "text": [
            "l1= [3, [66, 55, 44], 7777]\n",
            "l2= [3, [66, 55, 44]]"
          ]
        }
      ],
      "source": [
        "l1 = [3,[66,55,44]]\n",
        "l2 = l1.copy()\n",
        "l1.append(7777)\n",
        "print('l1=',l1)\n",
        "print('l2=',l2)"
      ],
      "id": "df69a0c9"
    },
    {
      "cell_type": "markdown",
      "metadata": {},
      "source": [
        "(해설)"
      ],
      "id": "b5809d5a-d77a-45a2-ab52-f87d62fe0b33"
    },
    {
      "cell_type": "code",
      "execution_count": 282,
      "metadata": {},
      "outputs": [],
      "source": [
        "l1 = [3,[66,55,44]]\n",
        "l2 = l1.copy()\n",
        "l1.append(7777)"
      ],
      "id": "3aba3131-d072-477c-9f6b-1d8b566cdc09"
    },
    {
      "cell_type": "code",
      "execution_count": 283,
      "metadata": {},
      "outputs": [],
      "source": [
        "l1,l2"
      ],
      "id": "c70cab26-07e6-493d-9a66-ea0b0681371d"
    },
    {
      "cell_type": "code",
      "execution_count": 278,
      "metadata": {},
      "outputs": [],
      "source": [
        "id(l1), [id(l1[0]), id(l1[1]), id(l1[2])]"
      ],
      "id": "e764c754-5911-4b56-911e-f84101e704f0"
    },
    {
      "cell_type": "code",
      "execution_count": 279,
      "metadata": {},
      "outputs": [],
      "source": [
        "id(l2), [id(l2[0]), id(l2[1])]"
      ],
      "id": "6d08da43-7d74-4ccf-b640-da9316bff186"
    },
    {
      "cell_type": "markdown",
      "metadata": {},
      "source": [
        "> 예제3, 예제4를 통하여 리스트가 가변형객체라는 것을 확인할 수 있다.\n",
        "> 예제3의 경우 l1이 저장되어있던 메모리공간의 내용물이\n",
        "> \\[3,\\[66,55,44\\]\\] 에서 \\[7777,\\[66,55,44\\]\\] 로 바뀌었다. 예제4의\n",
        "> 경우 l1이 저장되어있던 메모리공간의 내용물이 \\[3,\\[66,55,44\\]\\] 에서\n",
        "> \\[3,\\[66,55,44\\],7777\\] 로 바뀌었다.\n",
        "\n",
        "## 예제5: 우리를 힘들게 했던 그 예제.\n",
        "\n",
        "(관찰)"
      ],
      "id": "377fc903-f51d-41bf-adcb-49d761bbfbe8"
    },
    {
      "cell_type": "code",
      "execution_count": 6,
      "metadata": {},
      "outputs": [
        {
          "output_type": "stream",
          "name": "stdout",
          "text": [
            "l1= [3, [66, 55, 44, 7777]]\n",
            "l2= [3, [66, 55, 44, 7777]]"
          ]
        }
      ],
      "source": [
        "l1 = [3,[66,55,44]]\n",
        "l2 = l1.copy()\n",
        "l1[1].append(7777)\n",
        "print('l1=',l1)\n",
        "print('l2=',l2)"
      ],
      "id": "2213fbc9"
    },
    {
      "cell_type": "markdown",
      "metadata": {},
      "source": [
        "(해설-시점1)"
      ],
      "id": "c229596b-fc07-45d4-8e34-5ad8dd9a5733"
    },
    {
      "cell_type": "code",
      "execution_count": 284,
      "metadata": {},
      "outputs": [],
      "source": [
        "l1 = [3,[66,55,44]]\n",
        "l2 = l1.copy()"
      ],
      "id": "305eba9d-26d0-44f2-bab1-19ee2b36c745"
    },
    {
      "cell_type": "code",
      "execution_count": 285,
      "metadata": {},
      "outputs": [],
      "source": [
        "l1,l2"
      ],
      "id": "933b12ed-dfe2-4022-9b9f-06c8c07a99a8"
    },
    {
      "cell_type": "code",
      "execution_count": 286,
      "metadata": {},
      "outputs": [],
      "source": [
        "id(l1), [id(l1[0]), id(l1[1])]"
      ],
      "id": "296a2144-9070-4e63-adb5-72243b2bd0ea"
    },
    {
      "cell_type": "code",
      "execution_count": 287,
      "metadata": {},
      "outputs": [],
      "source": [
        "id(l2), [id(l2[0]), id(l2[1])]"
      ],
      "id": "86ceefe3-34e5-4a23-aca6-eb74ab04737c"
    },
    {
      "cell_type": "markdown",
      "metadata": {},
      "source": [
        "(해설-시점2)"
      ],
      "id": "171ce845-f4b1-41ac-b577-07660e2c1c58"
    },
    {
      "cell_type": "code",
      "execution_count": 288,
      "metadata": {},
      "outputs": [],
      "source": [
        "l1[1].append(7777)"
      ],
      "id": "29cf92b0-59a9-4757-9904-1f9be88c47d4"
    },
    {
      "cell_type": "code",
      "execution_count": 289,
      "metadata": {},
      "outputs": [],
      "source": [
        "l1,l2"
      ],
      "id": "51a48432-5602-4670-aee1-0d21c84df95b"
    },
    {
      "cell_type": "code",
      "execution_count": 290,
      "metadata": {},
      "outputs": [],
      "source": [
        "id(l1), [id(l1[0]), id(l1[1])]"
      ],
      "id": "86761fe9-edd7-4c53-a2c0-559361692dc1"
    },
    {
      "cell_type": "code",
      "execution_count": 291,
      "metadata": {},
      "outputs": [],
      "source": [
        "id(l2), [id(l2[0]), id(l2[1])]"
      ],
      "id": "ffa1968c-ed9e-4d93-8d76-011cdd7e0d2d"
    },
    {
      "cell_type": "markdown",
      "metadata": {},
      "source": [
        "해설: 사실 시점1에서 메모리 주소상황을 잘 이해했다면 신기한 일이 아니다.\n",
        "`.copy()`는 l1과 l2의 주소만 다르게 만들 뿐 내용물인 `l1[0]`,`l1[1]`는\n",
        "동일하니까.\n",
        "\n",
        "## 예제6: 신임교수=\\[‘최규빈’,‘이영미’\\]\n",
        "\n",
        "`-` 최규빈, 이영미는 신임교수임"
      ],
      "id": "815ad1cb-9ec8-4041-a956-fd112040297a"
    },
    {
      "cell_type": "code",
      "execution_count": 316,
      "metadata": {},
      "outputs": [],
      "source": [
        "신임교수 = ['최규빈','이영미']"
      ],
      "id": "1eb58c7e-822d-4370-86eb-26bb52f0963e"
    },
    {
      "cell_type": "code",
      "execution_count": 317,
      "metadata": {},
      "outputs": [],
      "source": [
        "id(신임교수), id('최규빈'), id('이영미')"
      ],
      "id": "12c3cf15-40bf-4aca-99cf-c8e988086c93"
    },
    {
      "cell_type": "markdown",
      "metadata": {},
      "source": [
        "`-` 신임교수를 누군가는 막내들이라고 부르기도 함."
      ],
      "id": "e3354405-2dce-4894-bfb4-0c10515f6a3f"
    },
    {
      "cell_type": "code",
      "execution_count": 318,
      "metadata": {},
      "outputs": [],
      "source": [
        "막내들 = 신임교수 "
      ],
      "id": "7bccc7cb-e4ed-4195-9993-e52e755e4d2e"
    },
    {
      "cell_type": "code",
      "execution_count": 319,
      "metadata": {},
      "outputs": [],
      "source": [
        "id(막내들), id(신임교수)"
      ],
      "id": "012cf8f4-8762-4ca8-ad99-b04faa7c100c"
    },
    {
      "cell_type": "markdown",
      "metadata": {},
      "source": [
        "“막내들”이라는 단어와 “신임교수”라는 단어는 사실 같은 말임\n",
        "\n",
        "`-` 새로운 교수 “박혜원”이 뽑혔음."
      ],
      "id": "5a1e2bf2-94cf-438c-a182-6619dd57e93d"
    },
    {
      "cell_type": "code",
      "execution_count": 320,
      "metadata": {},
      "outputs": [],
      "source": [
        "신임교수.append(\"박혜원\")"
      ],
      "id": "2ce7a905-7f27-4f3e-bb85-2a1c377f30cb"
    },
    {
      "cell_type": "code",
      "execution_count": 321,
      "metadata": {},
      "outputs": [],
      "source": [
        "신임교수, 막내들"
      ],
      "id": "2374f400-212d-4d9c-b04d-d1868872e343"
    },
    {
      "cell_type": "markdown",
      "metadata": {},
      "source": [
        "`-` 전북대 통계학과에서 R특강팀을 구성하여 방학중 R교육을 실시하고자함.\n",
        "특강팀은 우선 신임교수들로 구성."
      ],
      "id": "4749f72e-4213-4c00-9017-3cee9149c8d0"
    },
    {
      "cell_type": "code",
      "execution_count": 322,
      "metadata": {},
      "outputs": [],
      "source": [
        "R특강팀 = 신임교수.copy()\n",
        "R특강팀 "
      ],
      "id": "53972eea-fef2-4f03-83bc-810ce952aa33"
    },
    {
      "cell_type": "markdown",
      "metadata": {},
      "source": [
        "`-` R특강팀에 `최혜미`교수님 추가. (그렇지만 최혜미교수님이 막내는\n",
        "아니야.. // 참조와 shallow copy의 차이점)"
      ],
      "id": "231d08af-0d5b-495a-9e65-b4cd92cc8cb1"
    },
    {
      "cell_type": "code",
      "execution_count": 323,
      "metadata": {},
      "outputs": [],
      "source": [
        "R특강팀.append(\"최혜미\") "
      ],
      "id": "c01762cf-c2a7-497f-860d-94b1f04a773d"
    },
    {
      "cell_type": "code",
      "execution_count": 324,
      "metadata": {},
      "outputs": [],
      "source": [
        "R특강팀, 신임교수, 막내들"
      ],
      "id": "602e23b2-4874-4016-8748-ffcf9088d3da"
    },
    {
      "cell_type": "markdown",
      "metadata": {},
      "source": [
        "`-` R특강팀에서 양성준 교수를 추가하여 파이썬 특강팀을 구성 (R특강팀의\n",
        "구분을 위해서 중첩리스트 구조로 만들자)"
      ],
      "id": "34a2da7c-cc0d-495b-910c-49173bcc79b5"
    },
    {
      "cell_type": "code",
      "execution_count": 326,
      "metadata": {},
      "outputs": [],
      "source": [
        "파이썬특강팀 = [R특강팀, \"양성준\"]\n",
        "파이썬특강팀"
      ],
      "id": "5416d7a1-3370-4707-b10d-db09a1e35ff0"
    },
    {
      "cell_type": "markdown",
      "metadata": {},
      "source": [
        "`-` 이영미교수는 다른 일이 많아서 R특강 팀에서 제외됨. (그럼 자연히\n",
        "파이썬에서도 제외됨!!)"
      ],
      "id": "058309d2-8f91-4e03-ac11-d1b73c2f0755"
    },
    {
      "cell_type": "code",
      "execution_count": 327,
      "metadata": {},
      "outputs": [],
      "source": [
        "R특강팀.remove(\"이영미\")"
      ],
      "id": "cf0b4c7b-e545-4e99-943a-0814628d81f5"
    },
    {
      "cell_type": "code",
      "execution_count": 328,
      "metadata": {},
      "outputs": [],
      "source": [
        "R특강팀, 파이썬특강팀"
      ],
      "id": "d0d1cf77-67c2-4d76-b6f2-3bfa7bee2ce0"
    },
    {
      "cell_type": "markdown",
      "metadata": {},
      "source": [
        "하지만 이영미교수는 여전히 신임교수이면서 막내들임"
      ],
      "id": "0143533b-5591-48e2-badd-2b26e0639730"
    },
    {
      "cell_type": "code",
      "execution_count": 329,
      "metadata": {},
      "outputs": [],
      "source": [
        "신임교수, 막내들"
      ],
      "id": "3e9847ec-306f-42e0-8a11-ed6e83979625"
    },
    {
      "cell_type": "markdown",
      "metadata": {},
      "source": [
        "`-` 새로운 교수로 “손흥민”이 임용됨."
      ],
      "id": "c9e2be95-7458-48a6-a445-04b653a99845"
    },
    {
      "cell_type": "code",
      "execution_count": 330,
      "metadata": {},
      "outputs": [],
      "source": [
        "막내들.append(\"손흥민\")"
      ],
      "id": "6ba3e275-7625-4b93-a890-5b1d304ce0f4"
    },
    {
      "cell_type": "code",
      "execution_count": 331,
      "metadata": {},
      "outputs": [],
      "source": [
        "막내들, 신임교수"
      ],
      "id": "1aacdf43-e90c-449a-9382-2316539711b9"
    },
    {
      "cell_type": "markdown",
      "metadata": {},
      "source": [
        "`-` 그렇다고 해서 손흥민 교수가 바로 R이나 파이썬 특강팀에\n",
        "자동소속되는건 아님"
      ],
      "id": "c2ee14ef-3aac-45d0-98a5-bfc3c926207a"
    },
    {
      "cell_type": "code",
      "execution_count": 332,
      "metadata": {},
      "outputs": [],
      "source": [
        "R특강팀, 파이썬특강팀"
      ],
      "id": "798860a1-945a-4d40-b117-2c70f3095af6"
    },
    {
      "cell_type": "markdown",
      "metadata": {},
      "source": [
        "# Deep copy\n",
        "\n",
        "## 예제1: Motivation example\n",
        "\n",
        "`-` 아래의 상황을 다시 생각해보자."
      ],
      "id": "42cb7a26-b8fd-4c6e-a56d-463bb0fa3e32"
    },
    {
      "cell_type": "code",
      "execution_count": 338,
      "metadata": {},
      "outputs": [],
      "source": [
        "파이썬특강팀 = [\"양성준\",[\"최규빈\",\"이영미\",\"최혜미\"]]\n",
        "ADSP특강팀 = 파이썬특강팀.copy()\n",
        "파이썬특강팀[-1].remove(\"이영미\")"
      ],
      "id": "48be94a5-5379-42d5-9e75-8797ceea7083"
    },
    {
      "cell_type": "code",
      "execution_count": 340,
      "metadata": {},
      "outputs": [],
      "source": [
        "파이썬특강팀, ADSP특강팀"
      ],
      "id": "ca2381d2-48cd-4280-9d19-f3ae5917e635"
    },
    {
      "cell_type": "markdown",
      "metadata": {},
      "source": [
        "**이슈:** 이영미교수가 파이썬특강에서 제외되면서 ADSP특강팀에서도\n",
        "제외되었음. 그런데 사실 이영미교수가 파이썬특강팀에서만 제외되길 원한\n",
        "것이지 ADSP특강팀에서 제외되길 원한게 아닐수도 있음.\n",
        "\n",
        "**해결**: Deep copy의 사용"
      ],
      "id": "7416f68a-66e6-4c2c-8444-42335be569ca"
    },
    {
      "cell_type": "code",
      "execution_count": 34,
      "metadata": {},
      "outputs": [],
      "source": [
        "import copy"
      ],
      "id": "37d75dda-2eba-4dbc-b76b-8c18437cf2a3"
    },
    {
      "cell_type": "code",
      "execution_count": 35,
      "metadata": {},
      "outputs": [],
      "source": [
        "파이썬특강팀 = [\"양성준\",[\"최규빈\",\"이영미\",\"최혜미\"]]\n",
        "ADSP특강팀 = copy.deepcopy(파이썬특강팀)\n",
        "파이썬특강팀[-1].remove(\"이영미\")"
      ],
      "id": "38eac456-d3b3-49f7-9809-8d10a8e91507"
    },
    {
      "cell_type": "code",
      "execution_count": 36,
      "metadata": {},
      "outputs": [],
      "source": [
        "파이썬특강팀, ADSP특강팀"
      ],
      "id": "012e08c5-a66e-441e-a173-eaf9baac4865"
    },
    {
      "cell_type": "markdown",
      "metadata": {},
      "source": [
        "## 예제2\n",
        "\n",
        "`-` deepcopy"
      ],
      "id": "949dd5b1-70cc-4c25-b53a-46ee22ec9cb6"
    },
    {
      "cell_type": "code",
      "execution_count": 37,
      "metadata": {},
      "outputs": [],
      "source": [
        "l1 = [3,[66,[55,44]]] \n",
        "l2 = copy.deepcopy(l1)"
      ],
      "id": "45228c3f-e556-4de5-9743-f6c351a0f558"
    },
    {
      "cell_type": "code",
      "execution_count": 38,
      "metadata": {},
      "outputs": [],
      "source": [
        "l2[1][1].append(33)"
      ],
      "id": "532bcee4-e723-4af9-a4dd-f2afe88131ef"
    },
    {
      "cell_type": "code",
      "execution_count": 39,
      "metadata": {},
      "outputs": [],
      "source": [
        "l1,l2"
      ],
      "id": "93e6d9a9-8434-4942-9fe9-3000db164bd4"
    },
    {
      "cell_type": "code",
      "execution_count": 40,
      "metadata": {},
      "outputs": [
        {
          "output_type": "stream",
          "name": "stdout",
          "text": [
            "level 1\n",
            "l1: 140346731797872\n",
            "l2: 140346713502576"
          ]
        }
      ],
      "source": [
        "print('level 1')\n",
        "print('l1:', id(l1))\n",
        "print('l2:', id(l2))"
      ],
      "id": "c0ae00fd-5a7e-46ee-ae32-62f74e966894"
    },
    {
      "cell_type": "markdown",
      "metadata": {},
      "source": [
        "-   레벨1: `l1`,`l2` 의 메모리 주소가 다름을 확인"
      ],
      "id": "641019e9-357d-4486-86f6-1dd9e0281618"
    },
    {
      "cell_type": "code",
      "execution_count": 41,
      "metadata": {},
      "outputs": [
        {
          "output_type": "stream",
          "name": "stdout",
          "text": [
            "level 2\n",
            "l1: 140346731797872 [7394720, 140346713544496]\n",
            "l2: 140346713502576 [7394720, 140346478134928]"
          ]
        }
      ],
      "source": [
        "print('level 2')\n",
        "print('l1:', id(l1), [id(l1[0]),id(l1[1])])\n",
        "print('l2:', id(l2), [id(l2[0]),id(l2[1])])"
      ],
      "id": "c9781530-4cd3-441c-a302-b48cb01514dd"
    },
    {
      "cell_type": "markdown",
      "metadata": {},
      "source": [
        "-   레벨2: `l1안에 있는 [66,[55,44]]`와 `l2안에 있는 [66,[55,44]]`의\n",
        "    메모리 주소가 다름도 확인."
      ],
      "id": "690c4aee-b7da-4824-a0fd-879c0e666153"
    },
    {
      "cell_type": "code",
      "execution_count": 43,
      "metadata": {},
      "outputs": [
        {
          "output_type": "stream",
          "name": "stdout",
          "text": [
            "level 3\n",
            "l1: 140346731797872 [7394720, [7396736, 140346713594848]]\n",
            "l2: 140346713502576 [7394720, [7396736, 140346477770704]]"
          ]
        }
      ],
      "source": [
        "print('level 3')\n",
        "print('l1:', id(l1), [id(l1[0]),[id(l1[1][0]),id(l1[1][1])]])\n",
        "print('l2:', id(l2), [id(l2[0]),[id(l2[1][0]),id(l2[1][1])]])"
      ],
      "id": "9f875013-f89d-462b-9e55-87d4a6e7105b"
    },
    {
      "cell_type": "markdown",
      "metadata": {},
      "source": [
        "-   레벨3: `l1안의 [66,[55,44]] 안의 [55,44]`와\n",
        "    `l2안의 [66,[55,44]] 안의 [55,44]`의 메모리 주소까지도 다름을 확인.\n",
        "\n",
        "`-` 비교를 위한 shallow copy"
      ],
      "id": "60e45538-201e-42c3-be9c-6cdc847fbd41"
    },
    {
      "cell_type": "code",
      "execution_count": 44,
      "metadata": {},
      "outputs": [],
      "source": [
        "l1 = [3,[66,[55,44]]] \n",
        "l2 = l1.copy()"
      ],
      "id": "5170c53b-1a53-489a-8065-b30094f24eb6"
    },
    {
      "cell_type": "code",
      "execution_count": 45,
      "metadata": {},
      "outputs": [],
      "source": [
        "l2[1][1].append(33)"
      ],
      "id": "cfbdd10a-0b71-4560-afe5-1017c67a0361"
    },
    {
      "cell_type": "code",
      "execution_count": 46,
      "metadata": {},
      "outputs": [],
      "source": [
        "l1,l2"
      ],
      "id": "5b9bb369-0e0f-4e80-9b10-f8f0e5d8df0a"
    },
    {
      "cell_type": "code",
      "execution_count": 47,
      "metadata": {},
      "outputs": [
        {
          "output_type": "stream",
          "name": "stdout",
          "text": [
            "level 1\n",
            "l1: 140346478137008\n",
            "l2: 140346477791984"
          ]
        }
      ],
      "source": [
        "print('level 1')\n",
        "print('l1:', id(l1))\n",
        "print('l2:', id(l2))"
      ],
      "id": "03512511-dc3c-465e-ab7d-d4c44be647ee"
    },
    {
      "cell_type": "markdown",
      "metadata": {},
      "source": [
        "-   레벨1: `l1`,`l2` 의 메모리 주소가 다름을 확인"
      ],
      "id": "b23bf866-3c1e-45b3-852c-cbb54ca75ce0"
    },
    {
      "cell_type": "code",
      "execution_count": 29,
      "metadata": {},
      "outputs": [
        {
          "output_type": "stream",
          "name": "stdout",
          "text": [
            "level 2\n",
            "l1: 140346713603280 [7394720, 140346713602720]\n",
            "l2: 140346713602880 [7394720, 140346713602720]"
          ]
        }
      ],
      "source": [
        "print('level 2')\n",
        "print('l1:', id(l1), [id(l1[0]),id(l1[1])])\n",
        "print('l2:', id(l2), [id(l2[0]),id(l2[1])])"
      ],
      "id": "f6fc1124-72cc-4d18-9b56-0268e5bdeea4"
    },
    {
      "cell_type": "markdown",
      "metadata": {},
      "source": [
        "-   레벨2: `l1안에 있는 [66,[55,44]]`와 `l2안에 있는 [66,[55,44]]`의\n",
        "    메모리 주소는 같음!!"
      ],
      "id": "aabeb83f-f786-47b2-a31f-d76067af130c"
    },
    {
      "cell_type": "code",
      "execution_count": 30,
      "metadata": {
        "scrolled": true
      },
      "outputs": [
        {
          "output_type": "stream",
          "name": "stdout",
          "text": [
            "level 3\n",
            "l1: 140346713603280 [7394720, [7396736, 140346713556624]]\n",
            "l2: 140346713602880 [7394720, [7396736, 140346713556624]]"
          ]
        }
      ],
      "source": [
        "print('level 3')\n",
        "print('l1:', id(l1), [id(l1[0]),[id(l1[1][0]),id(l1[1][1])]])\n",
        "print('l2:', id(l2), [id(l2[0]),[id(l2[1][0]),id(l2[1][1])]])"
      ],
      "id": "d399e691-9c22-41f8-9d8d-726dd26665dd"
    },
    {
      "cell_type": "markdown",
      "metadata": {},
      "source": [
        "-   레벨3: `l1안의 [66,[55,44]] 안의 [55,44]`와\n",
        "    `l2안의 [66,[55,44]] 안의 [55,44]`의 메모리 주소도 같음!!\n",
        "\n",
        "`-` 비교를 위한 참조"
      ],
      "id": "ad69c3eb-7add-4970-ae04-5e521b5344de"
    },
    {
      "cell_type": "code",
      "execution_count": 48,
      "metadata": {},
      "outputs": [],
      "source": [
        "l1 = [3,[66,[55,44]]] \n",
        "l2 = l1"
      ],
      "id": "a69a1256-8d9c-4d6f-9a58-71f3dd331c7e"
    },
    {
      "cell_type": "code",
      "execution_count": 49,
      "metadata": {},
      "outputs": [],
      "source": [
        "l2[1][1].append(33)"
      ],
      "id": "48d32753-79e7-4e72-a8d4-357c8f1103a0"
    },
    {
      "cell_type": "code",
      "execution_count": 50,
      "metadata": {},
      "outputs": [],
      "source": [
        "l1,l2"
      ],
      "id": "d6506e04-7aad-49dc-b140-d173302429c4"
    },
    {
      "cell_type": "code",
      "execution_count": 51,
      "metadata": {},
      "outputs": [
        {
          "output_type": "stream",
          "name": "stdout",
          "text": [
            "level 1\n",
            "l1: 140346478134288\n",
            "l2: 140346478134288"
          ]
        }
      ],
      "source": [
        "print('level 1')\n",
        "print('l1:', id(l1))\n",
        "print('l2:', id(l2))"
      ],
      "id": "28c0cd0a-6f74-4c42-ac62-a1978f94f17c"
    },
    {
      "cell_type": "markdown",
      "metadata": {},
      "source": [
        "-   레벨1: `l1`,`l2` 여기서부터 메모리 주소가 같다."
      ],
      "id": "26717a57-f24a-484c-b7a1-9d788a0ea036"
    },
    {
      "cell_type": "code",
      "execution_count": 52,
      "metadata": {},
      "outputs": [
        {
          "output_type": "stream",
          "name": "stdout",
          "text": [
            "level 2\n",
            "l1: 140346478134288 [7394720, 140346713615648]\n",
            "l2: 140346478134288 [7394720, 140346713615648]"
          ]
        }
      ],
      "source": [
        "print('level 2')\n",
        "print('l1:', id(l1), [id(l1[0]),id(l1[1])])\n",
        "print('l2:', id(l2), [id(l2[0]),id(l2[1])])"
      ],
      "id": "3dffbd98-c76c-45c1-878b-8ed6b5d66c9d"
    },
    {
      "cell_type": "code",
      "execution_count": 53,
      "metadata": {},
      "outputs": [
        {
          "output_type": "stream",
          "name": "stdout",
          "text": [
            "level 3\n",
            "l1: 140346478134288 [7394720, [7396736, 140346713786480]]\n",
            "l2: 140346478134288 [7394720, [7396736, 140346713786480]]"
          ]
        }
      ],
      "source": [
        "print('level 3')\n",
        "print('l1:', id(l1), [id(l1[0]),[id(l1[1][0]),id(l1[1][1])]])\n",
        "print('l2:', id(l2), [id(l2[0]),[id(l2[1][0]),id(l2[1][1])]])"
      ],
      "id": "21b2ff0b-d342-4e72-b493-475242c525a2"
    },
    {
      "cell_type": "markdown",
      "metadata": {},
      "source": [
        "> 문헌에 따라서 shallow copy를 레벨1 deep copy라고 부르기도 한다.\n",
        "\n",
        "# Shallow copy 연습문제\n",
        "\n",
        "## 예제1\n",
        "\n",
        "`-` 아래의 코드결과를 예측하라. 결과가 나오는 이유를 설명하라."
      ],
      "id": "58c83aed-94d8-4a97-8d44-3f7a67a0ec7a"
    },
    {
      "cell_type": "code",
      "execution_count": 54,
      "metadata": {},
      "outputs": [],
      "source": [
        "l1= [3,[66,55,44]]\n",
        "l2= l1.copy() \n",
        "l1[-1].append(33)"
      ],
      "id": "d67200cd-e541-4535-886d-dcb5e76a1d2f"
    },
    {
      "cell_type": "code",
      "execution_count": 56,
      "metadata": {},
      "outputs": [
        {
          "output_type": "stream",
          "name": "stdout",
          "text": [
            "l1= [3, [66, 55, 44, 33]]\n",
            "l2= [3, [66, 55, 44, 33]]"
          ]
        }
      ],
      "source": [
        "print('l1=', l1)\n",
        "print('l2=', l2)"
      ],
      "id": "e1778b04-7e11-4e09-bfb7-33f07414b7d5"
    },
    {
      "cell_type": "markdown",
      "metadata": {},
      "source": [
        "-   포인트: shallow copy (=level 1 deep copy) 이므로\n",
        "    `l1안의 [66,55,44]`와 `l2안의 [66,55,44]`는 같은 메모리 주소를 가짐\n",
        "\n",
        "## 예제2\n",
        "\n",
        "`-` 아래의 코드결과를 예측하라. 결과가 나오는 이유를 설명하라."
      ],
      "id": "acbf01f5-3245-4895-a4cb-6ab274315799"
    },
    {
      "cell_type": "code",
      "execution_count": 58,
      "metadata": {},
      "outputs": [],
      "source": [
        "l1= [3,[66,55,44]] \n",
        "l2= l1.copy() \n",
        "l1[-1] = l1[-1]+[33] "
      ],
      "id": "e8f87e05-65f4-42bb-95ec-6719bab9db18"
    },
    {
      "cell_type": "code",
      "execution_count": 59,
      "metadata": {},
      "outputs": [
        {
          "output_type": "stream",
          "name": "stdout",
          "text": [
            "l1= [3, [66, 55, 44, 33]]\n",
            "l2= [3, [66, 55, 44]]"
          ]
        }
      ],
      "source": [
        "print('l1=', l1)\n",
        "print('l2=', l2)"
      ],
      "id": "4686f442-70c5-44f3-b82a-156161dadeb6"
    },
    {
      "cell_type": "markdown",
      "metadata": {},
      "source": [
        "-   포인트: `l1[-1]+[33]`가 실행되는 순간 새로운 오브젝트가 생성되고 이\n",
        "    새로운 오브젝트가 l1의 마지막 원소에 새롭게 할당된다.\n",
        "\n",
        "## 예제3"
      ],
      "id": "1c0417a4-7ed0-4dfe-89ca-183e65d804f7"
    },
    {
      "cell_type": "code",
      "execution_count": 66,
      "metadata": {},
      "outputs": [],
      "source": [
        "l1= [3,[66,55,44]] \n",
        "l2= l1.copy() \n",
        "l1[-1] = l1[-1]+[33] \n",
        "l1[-1].remove(33)"
      ],
      "id": "ee83ba83-6cb9-44c8-9d10-621b4169b71f"
    },
    {
      "cell_type": "code",
      "execution_count": 67,
      "metadata": {},
      "outputs": [
        {
          "output_type": "stream",
          "name": "stdout",
          "text": [
            "l1= [3, [66, 55, 44]]\n",
            "l2= [3, [66, 55, 44]]"
          ]
        }
      ],
      "source": [
        "print('l1=', l1)\n",
        "print('l2=', l2)"
      ],
      "id": "f61b3af3"
    },
    {
      "cell_type": "markdown",
      "metadata": {},
      "source": [
        "-   포인트: 이 상황에서 `l1안의 [66,55,44]`와 `l2안의 [66,55,44]`는 서로\n",
        "    다른 메모리 주소를 가진다.\n",
        "\n",
        "## 예제4"
      ],
      "id": "7f986cf1-c052-4663-ab48-3064eb6d3528"
    },
    {
      "cell_type": "code",
      "execution_count": 68,
      "metadata": {},
      "outputs": [],
      "source": [
        "l1= [3,[66,55,44]] \n",
        "l2= l1.copy() \n",
        "l1[-1] = l1[-1]+[33] \n",
        "l1[-1].remove(33)\n",
        "l1[-1].append(33)"
      ],
      "id": "5cb86964-e4d3-4067-ab58-de33d95d65a2"
    },
    {
      "cell_type": "markdown",
      "metadata": {},
      "source": [
        "(잘못된 상상) 아래의 코드와 결과가 같을거야!!"
      ],
      "id": "b12163e2-0318-4d94-9b1c-262da9fb2785"
    },
    {
      "cell_type": "code",
      "execution_count": 69,
      "metadata": {},
      "outputs": [],
      "source": [
        "l1= [3,[66,55,44]] \n",
        "l2= l1.copy() \n",
        "# l1[-1] = l1[-1]+[33] \n",
        "# l1[-1].remove(33)\n",
        "l1[-1].append(33)"
      ],
      "id": "3daf60ab-037e-4676-af86-c1beb8232cc9"
    },
    {
      "cell_type": "code",
      "execution_count": 70,
      "metadata": {},
      "outputs": [
        {
          "output_type": "stream",
          "name": "stdout",
          "text": [
            "l1= [3, [66, 55, 44, 33]]\n",
            "l2= [3, [66, 55, 44, 33]]"
          ]
        }
      ],
      "source": [
        "print('l1=', l1)\n",
        "print('l2=', l2)"
      ],
      "id": "447062ac"
    },
    {
      "cell_type": "markdown",
      "metadata": {},
      "source": [
        "(하지만 현실은)"
      ],
      "id": "239c5d61-1631-4831-9e11-e4d243b67dc9"
    },
    {
      "cell_type": "code",
      "execution_count": 71,
      "metadata": {},
      "outputs": [],
      "source": [
        "l1= [3,[66,55,44]] \n",
        "l2= l1.copy() \n",
        "l1[-1] = l1[-1]+[33] \n",
        "l1[-1].remove(33)\n",
        "l1[-1].append(33)"
      ],
      "id": "9956da97-998f-4ac6-ae39-829269c7c050"
    },
    {
      "cell_type": "code",
      "execution_count": 72,
      "metadata": {},
      "outputs": [
        {
          "output_type": "stream",
          "name": "stdout",
          "text": [
            "l1= [3, [66, 55, 44, 33]]\n",
            "l2= [3, [66, 55, 44]]"
          ]
        }
      ],
      "source": [
        "print('l1=', l1)\n",
        "print('l2=', l2)"
      ],
      "id": "3e9835ed"
    },
    {
      "cell_type": "markdown",
      "metadata": {},
      "source": [
        "-   포인트: 예제3을 이해했다면 그냥 이해되는것\n",
        "\n",
        "## 예제5"
      ],
      "id": "b8f7be13-e003-4b4a-9acb-a38f5899c082"
    },
    {
      "cell_type": "code",
      "execution_count": 73,
      "metadata": {},
      "outputs": [],
      "source": [
        "l1= [3,[66,55,44]] \n",
        "l2= l1.copy() \n",
        "l1[-1] += [33] # l1[-1] = l1[-1]+[33] \n",
        "l1[-1].remove(33)\n",
        "l1[-1].append(33)"
      ],
      "id": "f5fce858-accc-4aa4-8433-37b4503535de"
    },
    {
      "cell_type": "code",
      "execution_count": 74,
      "metadata": {},
      "outputs": [
        {
          "output_type": "stream",
          "name": "stdout",
          "text": [
            "l1= [3, [66, 55, 44, 33]]\n",
            "l2= [3, [66, 55, 44, 33]]"
          ]
        }
      ],
      "source": [
        "print('l1=', l1)\n",
        "print('l2=', l2)"
      ],
      "id": "328207b6"
    },
    {
      "cell_type": "markdown",
      "metadata": {},
      "source": [
        "-   포인트: `+=` 연산자의 올바른 이해\n",
        "\n",
        "> ??? 예제4랑 예제5는 같은코드가 아니었음!!! `a += [1]` 는 새로운\n",
        "> 오브젝트를 만드는게 아니고, 기존의 오브젝트를 변형하는 스타일의\n",
        "> 코드였음! (마치 append 메소드처럼)\n",
        "\n",
        "# 불변형 객체\n",
        "\n",
        "## Motivation example\n",
        "\n",
        "`-` 우리는 이제 아래의 내용은 마스터함"
      ],
      "id": "152400fd-69e2-4656-8a77-d3eb0f30c162"
    },
    {
      "cell_type": "code",
      "execution_count": 75,
      "metadata": {},
      "outputs": [],
      "source": [
        "l1= [3,[66,55,44]] \n",
        "l2= l1.copy() \n",
        "l1[-1] += [33] # l1[-1].append(33)이랑 같은거.."
      ],
      "id": "80092f41-8faf-4a97-9c02-8e1a4eeb7a7f"
    },
    {
      "cell_type": "code",
      "execution_count": 76,
      "metadata": {},
      "outputs": [
        {
          "output_type": "stream",
          "name": "stdout",
          "text": [
            "l1= [3, [66, 55, 44, 33]]\n",
            "l2= [3, [66, 55, 44, 33]]"
          ]
        }
      ],
      "source": [
        "print('l1=', l1)\n",
        "print('l2=', l2)"
      ],
      "id": "22a33df9"
    },
    {
      "cell_type": "markdown",
      "metadata": {},
      "source": [
        "`-` 아래의 결과를 한번 예측해볼까?"
      ],
      "id": "65e9a742-f577-4dd9-b8c7-b92dcc410d64"
    },
    {
      "cell_type": "code",
      "execution_count": 77,
      "metadata": {},
      "outputs": [],
      "source": [
        "l1=[3,(66,55,44)]\n",
        "l2=l1.copy()\n",
        "l2[1] += (33,)"
      ],
      "id": "471c5575-64dd-4d3d-b489-158b999af3e5"
    },
    {
      "cell_type": "code",
      "execution_count": 78,
      "metadata": {},
      "outputs": [
        {
          "output_type": "stream",
          "name": "stdout",
          "text": [
            "l1= [3, (66, 55, 44)]\n",
            "l2= [3, (66, 55, 44, 33)]"
          ]
        }
      ],
      "source": [
        "print('l1=', l1)\n",
        "print('l2=', l2)"
      ],
      "id": "ec91525f"
    },
    {
      "cell_type": "markdown",
      "metadata": {},
      "source": [
        "## 해설\n",
        "\n",
        "(시점1)"
      ],
      "id": "5da52e68-c6e4-46f0-b5de-9273a4713214"
    },
    {
      "cell_type": "code",
      "execution_count": 394,
      "metadata": {},
      "outputs": [],
      "source": [
        "l1=[3,(66,55,44)]\n",
        "l2=l1.copy()"
      ],
      "id": "a51ce33f-ac7a-4f2c-aa42-4df4d26c9f3b"
    },
    {
      "cell_type": "code",
      "execution_count": 395,
      "metadata": {},
      "outputs": [],
      "source": [
        "l1,l2"
      ],
      "id": "6c1c0f51-7a3a-4946-b521-97ea6e0f4c75"
    },
    {
      "cell_type": "code",
      "execution_count": 396,
      "metadata": {},
      "outputs": [
        {
          "output_type": "stream",
          "name": "stdout",
          "text": [
            "level 1\n",
            "l1: 139753183621520\n",
            "l2: 139753181521472"
          ]
        }
      ],
      "source": [
        "print('level 1')\n",
        "print('l1:', id(l1))\n",
        "print('l2:', id(l2))"
      ],
      "id": "1de7eb77-f55a-4a6f-9225-ff92410ea08e"
    },
    {
      "cell_type": "code",
      "execution_count": 397,
      "metadata": {},
      "outputs": [
        {
          "output_type": "stream",
          "name": "stdout",
          "text": [
            "level 2\n",
            "l1: 139753183621520 [7394720, 139753182280032]\n",
            "l2: 139753181521472 [7394720, 139753182280032]"
          ]
        }
      ],
      "source": [
        "print('level 2')\n",
        "print('l1:', id(l1), [id(l1[0]),id(l1[1])])\n",
        "print('l2:', id(l2), [id(l2[0]),id(l2[1])])"
      ],
      "id": "815ac59c-b550-4147-add5-d514174d75b9"
    },
    {
      "cell_type": "markdown",
      "metadata": {},
      "source": [
        "(시점2)"
      ],
      "id": "2a753bff-acc3-4317-a19d-fc68c480d441"
    },
    {
      "cell_type": "code",
      "execution_count": 398,
      "metadata": {},
      "outputs": [],
      "source": [
        "l2[1] += (33,)"
      ],
      "id": "89e7c93a-e952-4b69-be47-de35951370a3"
    },
    {
      "cell_type": "code",
      "execution_count": 399,
      "metadata": {},
      "outputs": [],
      "source": [
        "l1,l2"
      ],
      "id": "a983985b-0525-4b92-bcf4-17ca8bbb94d7"
    },
    {
      "cell_type": "code",
      "execution_count": 400,
      "metadata": {},
      "outputs": [
        {
          "output_type": "stream",
          "name": "stdout",
          "text": [
            "level 1\n",
            "l1: 139753183621520\n",
            "l2: 139753181521472"
          ]
        }
      ],
      "source": [
        "print('level 1')\n",
        "print('l1:', id(l1))\n",
        "print('l2:', id(l2))"
      ],
      "id": "2deb76cc-0000-4b7f-a6d8-307e399ec0d1"
    },
    {
      "cell_type": "code",
      "execution_count": 401,
      "metadata": {},
      "outputs": [
        {
          "output_type": "stream",
          "name": "stdout",
          "text": [
            "level 2\n",
            "l1: 139753183621520 [7394720, 139753182280032]\n",
            "l2: 139753181521472 [7394720, 139753174874064]"
          ]
        }
      ],
      "source": [
        "print('level 2')\n",
        "print('l1:', id(l1), [id(l1[0]),id(l1[1])])\n",
        "print('l2:', id(l2), [id(l2[0]),id(l2[1])])"
      ],
      "id": "8d067463-4b01-4809-ad80-a8ab36f8055a"
    },
    {
      "cell_type": "markdown",
      "metadata": {},
      "source": [
        "주소 `139753182280032`에 있는 값을 바꾸고 싶지만 불변형이라 못바꿈 $\\to$\n",
        "그냥 새로 만들자. 그래서 그걸 `139753174874064`에 저장하자.\n",
        "\n",
        "# Shallow-copy vs Deep-copy\n",
        "\n",
        "`-` 암기용문구: “shallow copy는 껍데기만 복사한다. deep copy는 내부까지\n",
        "복사한다.”\n",
        "\n",
        "`-` 일부교재에서는 경우에 따라 shallow copy가 선호될 수 있다는 식으로\n",
        "설명되어있으나 솔직히 대부분 코드에서 shallow copy의 동작을 의도하고\n",
        "코드를 사용하진 않는다. 대부분의 경우에서 shallow copy는 불필요한 side\n",
        "effect을 유발하는 쓸모없는 개념이라 생각한다. (차라리 참조를 쓰면\n",
        "썼지..)\n",
        "\n",
        "`-` 그럼 shallow copy의 장점은 무엇인가? shallow copy가 deep copy보다\n",
        "메모리를 더 적게 사용한다.\n",
        "\n",
        "``` python\n",
        "## 예제1\n",
        "lst1 = ['양성준',['최규빈','이영미','최혜미']]\n",
        "lst2 = lst1.copy()\n",
        "## 예제2 \n",
        "lst1 = ['양성준',['최규빈','이영미','최혜미']]\n",
        "lst2 = copy.deepcopy(lst1)\n",
        "```\n",
        "\n",
        "-   예제1: 4+1+2 = 7개의 공간 사용\n",
        "-   예제2: 4+2+2 = 8개의 공간 사용\n",
        "\n",
        "**요약**\n",
        "\n",
        "`-` 파이썬은 메모리를 아끼기 위해서 shallow copy라는 이상한 행동을 한다.\n",
        "(하지만 우리는 shallow copy 를 원하지 않아. 우리는 deep copy 만 쓰고\n",
        "싶음!)\n",
        "\n",
        "`-` 통찰1: 그런데 오묘하게도 \\[1,2,3,4,5,6\\]와 같이 1차원 리스트인\n",
        "경우는 문제가 되지 않음.\n",
        "\n",
        "-   1차원 리스트의 경우(= 중첩된 리스트가 아닐 경우)는 level 1\n",
        "    수준에서의 deep copy만 있으면 충분하므로 이때는 shallow copy = deep\n",
        "    copy 임.\n",
        "\n",
        "`-` 통찰2: 생각해보니까 모든 자료형이 불변형인 경우에도 문제가 되지\n",
        "않음. (R은 모든 자료형이 불변형이다)\n",
        "\n",
        "`-` 문제상황요약: \\[\\[1,2\\],\\[3,4\\]\\] 와 같이 리스트에 리스트가 포함된\n",
        "형태라면 문제가 생긴다. $\\to$ 그런데 우리가 자주 쓰는 매트릭스가 사실\n",
        "이러한 중첩된 리스트 구조 아니야?\n",
        "\n",
        "-   해결책1: 깊은복사 (이미했음)\n",
        "-   해결책2: 넘파이 (이걸로 뭘 어떻게 개선한다는거야?)\n",
        "\n",
        "# numpy"
      ],
      "id": "c2bb218f-b41e-4573-9192-8027168a3f18"
    },
    {
      "cell_type": "code",
      "execution_count": 404,
      "metadata": {},
      "outputs": [],
      "source": [
        "import numpy as np"
      ],
      "id": "88aaa420-1466-4d08-bca9-83f0021a3176"
    },
    {
      "cell_type": "markdown",
      "metadata": {},
      "source": [
        "## 2차원의 실체\n",
        "\n",
        "`-` 2차원 array a,b를 선언하자."
      ],
      "id": "9020999e-376c-49ab-aafb-443366e2e016"
    },
    {
      "cell_type": "code",
      "execution_count": 486,
      "metadata": {},
      "outputs": [],
      "source": [
        "a = np.array([[11,22,33,44]]).reshape(2,2)\n",
        "b = np.array([[11,22,33,44,55,66]]).reshape(2,3)\n",
        "c = np.array([11,22,33,44]).reshape(4,1)\n",
        "d = np.array([11,22,33,44])"
      ],
      "id": "dbb97b0c-19f2-41f9-ae0d-4ff222de676a"
    },
    {
      "cell_type": "markdown",
      "metadata": {},
      "source": [
        "`-` a,b,c,d 속성비교"
      ],
      "id": "50e752cd-ed2b-4088-91c4-eec4a2c6721a"
    },
    {
      "cell_type": "code",
      "execution_count": 487,
      "metadata": {},
      "outputs": [],
      "source": [
        "a.shape, b.shape, c.shape, d.shape ## 차원 "
      ],
      "id": "9171dd42-8b0b-42dd-963f-3ebdbd05c204"
    },
    {
      "cell_type": "code",
      "execution_count": 115,
      "metadata": {},
      "outputs": [],
      "source": [
        "a.strides, b.strides, c.strides, d.strides ## 차원이랑 관련이 있어보임.. + 8의 배수 "
      ],
      "id": "b9cc8589-1a7c-4448-9954-9a5a1784741c"
    },
    {
      "cell_type": "markdown",
      "metadata": {},
      "source": [
        "`-` ((16, 8), (24, 8), (8, 8), (8,)) 와 같은 저 숫자들이 도데체 무엇을\n",
        "의미하는거야?!\n",
        "\n",
        "-   사전지식: 컴퓨터는 하나의 숫자를 저장하는데 메모리를 8칸 쓴다.\n",
        "-   가정: 만약에 컴퓨터가 1차원으로만 숫자를 저장한다면??\n",
        "-   strides의 의미: (다음 행으로 가기위해서 JUMP해야하는 메모리 공간수,\n",
        "    다음 열로 가기위해서 JUMP해야하는 메모리 공간수)\n",
        "\n",
        "`-` 통찰: strides의 존재로 인해서 유추할 수 있는 것은 a,b,c,d 는 모두\n",
        "1차원으로 저장되어있다는 사실이다. (중첩된 리스트꼴이 아니라)\n",
        "\n",
        "`-` 그렇다면.. shallow copy = deep copy?!"
      ],
      "id": "2940d246-b23b-437e-98b8-047239da560c"
    },
    {
      "cell_type": "code",
      "execution_count": 6,
      "metadata": {},
      "outputs": [],
      "source": [
        "A1=[[1,2],[3,4]]\n",
        "A2=A1.copy()\n",
        "B1=np.array([[1,2],[3,4]])\n",
        "B2=B1.copy()"
      ],
      "id": "e6c8ded1-2e68-4309-bf0a-8cb045ddbe06"
    },
    {
      "cell_type": "code",
      "execution_count": 8,
      "metadata": {},
      "outputs": [],
      "source": [
        "A2[0][0]=11\n",
        "B2[0][0]=11"
      ],
      "id": "7235386c-4203-4573-9d8b-3677cf3996e8"
    },
    {
      "cell_type": "code",
      "execution_count": 9,
      "metadata": {},
      "outputs": [],
      "source": [
        "A1,A2"
      ],
      "id": "e75ccd59-0b4a-42c3-af44-7c575ec25de1"
    },
    {
      "cell_type": "code",
      "execution_count": 10,
      "metadata": {},
      "outputs": [],
      "source": [
        "B1,B2"
      ],
      "id": "4a0d321e-6351-4b96-bf08-5258d9ec3430"
    },
    {
      "cell_type": "markdown",
      "metadata": {},
      "source": [
        "`-` 잠깐 생각좀..\n",
        "\n",
        "-   A2를 바꿨는데 A1이 같이 바뀌는 것은 의도하지 않은 side effect임.\n",
        "-   이러한 side effect가 생기는 이유는 파이썬이 메모리를 저장하기 위해서\n",
        "    shallow copy라는 희한한 짓을 하기 때문임.\n",
        "-   이런 side effect을 방지하기 위해서는 deep copy를 써야함. 이 deep\n",
        "    copy는 메모리를 더 많이 잡아먹는 단점이 있다.\n",
        "-   요약하면 side effect 방지와 메모리사용은 trade off 관계에 있음.\n",
        "-   그런데 생각해보니까 B2역시 B1의 shallow copy 임. 따라서 deep\n",
        "    copy보다 메모리를 적게씀. **그런데 side effect도 발생하지 않음!?**\n",
        "\n",
        "`-` B1에서 B2를 만드는 과정은 메모리를 적게 쓰지만 side effect과 가은\n",
        "문제가 없음! (천재인데..?)\n",
        "\n",
        "`-` 용어정리: (필요할까..?)\n",
        "\n",
        "-   numpy 한정 `.copy()` 는 copy모듈의 deepcopy와 동등한 효과를 준다.\n",
        "    하지만 실제로는 shallow copy 이다.\n",
        "    [공식문서](https://numpy.org/doc/stable/reference/generated/numpy.copy.html)에는\n",
        "    “Note that np.copy is a shallow copy and will not copy object\n",
        "    elements within arrays.” 라고 명시되어 있음.\n",
        "-   일부 블로그에서 deep copy라고 주장하기도 함.\n",
        "    [블로그1](https://humaneer.net/292),\n",
        "    [블로그2](https://python.plainenglish.io/shallow-copy-and-deep-copy-in-python-numpy-8861e0870c5f),\n",
        "    [블로그3](https://yeko90.tistory.com/entry/%EB%84%98%ED%8C%8C%EC%9D%B4-%EA%B8%B0%EC%B4%88-%EA%B9%8A%EC%9D%80-%EB%B3%B5%EC%82%AC-%EC%96%95%EC%9D%80-%EB%B3%B5%EC%82%AC-copy-view)\n",
        "    // 블로그2의 경우 참조와 shallow copy도 구분못함..\n",
        "-   이따가 view라는 개념도 나올텐데 `.copy()`를 deep copy라고 주장하는\n",
        "    블로거들 대부분 `.view()`를 shallow copy 혹은 참조라고 주장한다.\n",
        "    하지만 copy와 view를 설명하는\n",
        "    [공식문서](https://numpy.org/doc/stable/user/basics.copies.html)에서는\n",
        "    view가 shallow copy라는 말을 찾아볼 수 없음.\n",
        "-   사실 좀 애매한게 copy가 shallow copy 와 deep copy 둘만 있는건 아님.\n",
        "    사실 `.view()`와 `.copy()` 만 놓고 비교할 때 `.view()`가\n",
        "    `.copy()`보다 더 얕은 수준의 복사를 하는것도 사실임 (반대로\n",
        "    `.copy()` 가 `.view()`보다 더 깊은 수준의 복사를 하는 것도 사실임)\n",
        "\n",
        "## 참조\n",
        "\n",
        "`-` a를 선언, b는 a의 참조"
      ],
      "id": "a45cd9f3-05c6-4f30-bfee-6a429c45d59d"
    },
    {
      "cell_type": "code",
      "execution_count": 407,
      "metadata": {},
      "outputs": [],
      "source": [
        "a=np.array([[1,2],[3,4]])\n",
        "b=a ## 참조 "
      ],
      "id": "2745db3f-442b-4ac3-aa71-03b2618362c6"
    },
    {
      "cell_type": "code",
      "execution_count": 408,
      "metadata": {},
      "outputs": [],
      "source": [
        "a"
      ],
      "id": "14046347-006c-4b8b-9e5f-6464ca855d69"
    },
    {
      "cell_type": "code",
      "execution_count": 409,
      "metadata": {},
      "outputs": [],
      "source": [
        "b"
      ],
      "id": "5ba5c335-6540-45ab-bf6b-2a5998cbff6a"
    },
    {
      "cell_type": "code",
      "execution_count": 410,
      "metadata": {},
      "outputs": [],
      "source": [
        "a.shape"
      ],
      "id": "3510b55a-d912-431c-8c9e-afd0d9e55dd9"
    },
    {
      "cell_type": "code",
      "execution_count": 411,
      "metadata": {},
      "outputs": [],
      "source": [
        "b.shape"
      ],
      "id": "a016e7b8-1bb0-49cd-8e49-07bdaabebc53"
    },
    {
      "cell_type": "markdown",
      "metadata": {},
      "source": [
        "`-` a의 shape을 바꾸어보자 $\\to$ b도 같이 바뀐다"
      ],
      "id": "27a71bb4-fda6-42df-a31c-3d9bebe2e5b2"
    },
    {
      "cell_type": "code",
      "execution_count": 412,
      "metadata": {},
      "outputs": [],
      "source": [
        "a.shape = (4,)"
      ],
      "id": "1c497b20-53f3-42e4-a6be-f31da97c4bc2"
    },
    {
      "cell_type": "code",
      "execution_count": 413,
      "metadata": {},
      "outputs": [],
      "source": [
        "a"
      ],
      "id": "af7747a6-4614-49d4-b3ba-2ab4dff45c94"
    },
    {
      "cell_type": "code",
      "execution_count": 414,
      "metadata": {},
      "outputs": [],
      "source": [
        "b"
      ],
      "id": "c56213b1-30c8-4915-974e-9e1f4ba0bb5d"
    },
    {
      "cell_type": "code",
      "execution_count": 415,
      "metadata": {},
      "outputs": [],
      "source": [
        "id(a),id(b)"
      ],
      "id": "9eb30256-a9d6-4d8d-87ae-251e42c2f8a2"
    },
    {
      "cell_type": "markdown",
      "metadata": {},
      "source": [
        "## view\n",
        "\n",
        "`-` a를 선언, b는 a의 view"
      ],
      "id": "939cfee7-e636-49ee-98bf-0c544b5fe5b9"
    },
    {
      "cell_type": "code",
      "execution_count": 11,
      "metadata": {},
      "outputs": [],
      "source": [
        "a=np.array([[1,2],[3,4]]) \n",
        "b=a.view() ## 어떤 블로그등에서는 shallow copy 라고 부르기도 한다. "
      ],
      "id": "aa0a2112-8df0-4fd4-b207-27b8f676a83f"
    },
    {
      "cell_type": "code",
      "execution_count": 12,
      "metadata": {},
      "outputs": [],
      "source": [
        "a"
      ],
      "id": "6cae78ec-f29a-4d68-b1f1-a0b8db8d010d"
    },
    {
      "cell_type": "code",
      "execution_count": 13,
      "metadata": {},
      "outputs": [],
      "source": [
        "b"
      ],
      "id": "7b277b9e-9512-4420-8bf7-e51ffac6f078"
    },
    {
      "cell_type": "code",
      "execution_count": 14,
      "metadata": {},
      "outputs": [],
      "source": [
        "a.shape"
      ],
      "id": "097b9e30-8ffc-40b3-8f9f-1e0ddce18107"
    },
    {
      "cell_type": "code",
      "execution_count": 15,
      "metadata": {},
      "outputs": [],
      "source": [
        "b.shape"
      ],
      "id": "b698cc1a-4980-484a-ab65-1e939e7814c2"
    },
    {
      "cell_type": "code",
      "execution_count": 16,
      "metadata": {},
      "outputs": [],
      "source": [
        "a.shape= (4,1)"
      ],
      "id": "165c1a8c-ffdc-4de2-9039-0213a9627fc4"
    },
    {
      "cell_type": "code",
      "execution_count": 17,
      "metadata": {},
      "outputs": [],
      "source": [
        "a"
      ],
      "id": "3e77bdfd-cc07-40e8-b410-bc6d843a3b7e"
    },
    {
      "cell_type": "code",
      "execution_count": 18,
      "metadata": {},
      "outputs": [],
      "source": [
        "b"
      ],
      "id": "e779ee83-9979-4063-ad3d-44ceff2e2e0b"
    },
    {
      "cell_type": "code",
      "execution_count": 19,
      "metadata": {},
      "outputs": [],
      "source": [
        "id(a), id(b)"
      ],
      "id": "de840209-6b2c-4ebc-9dc4-2195e258f469"
    },
    {
      "cell_type": "markdown",
      "metadata": {},
      "source": [
        "`-` 그런데.."
      ],
      "id": "e4c87bfe-1798-43f9-9c61-ef2ddc978fa8"
    },
    {
      "cell_type": "code",
      "execution_count": 20,
      "metadata": {},
      "outputs": [],
      "source": [
        "a[0]=100"
      ],
      "id": "f87bc6fe-9ad9-46ae-b3cc-e850c6ae05a6"
    },
    {
      "cell_type": "code",
      "execution_count": 21,
      "metadata": {},
      "outputs": [],
      "source": [
        "a"
      ],
      "id": "490e40b6-7e3c-48fe-942c-d253c68cc438"
    },
    {
      "cell_type": "code",
      "execution_count": 22,
      "metadata": {},
      "outputs": [],
      "source": [
        "b"
      ],
      "id": "8a96c4e1-5269-4a37-9485-b859d5158ecc"
    },
    {
      "cell_type": "markdown",
      "metadata": {},
      "source": [
        "`-` 출생의 비밀"
      ],
      "id": "359008d3-672d-45c8-b7db-20e642586502"
    },
    {
      "cell_type": "code",
      "execution_count": 23,
      "metadata": {},
      "outputs": [],
      "source": [
        "b"
      ],
      "id": "0fd1f212-6242-4866-892e-6f04146ddbb4"
    },
    {
      "cell_type": "code",
      "execution_count": 24,
      "metadata": {},
      "outputs": [],
      "source": [
        "b.base"
      ],
      "id": "dd28bf29-b41f-4f6b-8b8e-0d73a0e10e76"
    },
    {
      "cell_type": "markdown",
      "metadata": {},
      "source": [
        "-   ? 이거 바뀐 a아니야?"
      ],
      "id": "711f2a48-7e9b-47f8-a3f1-f7eb7f77c3be"
    },
    {
      "cell_type": "code",
      "execution_count": 25,
      "metadata": {},
      "outputs": [],
      "source": [
        "id(b.base), id(a)"
      ],
      "id": "3c049a89-af38-4752-883b-212cfbd965d5"
    },
    {
      "cell_type": "markdown",
      "metadata": {},
      "source": [
        "`-` View\n",
        "\n",
        "-   b가 a의 뷰라는 의미는, b가 a를 소스로하여 만들어진 오브젝트란\n",
        "    의미이다.\n",
        "-   따라서 이때 b.base는 a가 된다.\n",
        "-   b는 자체적으로 데이터를 가지고 있지 않으며 a와 공유한다.\n",
        "\n",
        "`note1` 원본 ndarray의 일 경우는 .base가 None으로 나온다."
      ],
      "id": "7476ba93-dd81-4977-82f7-3f50f1cb0830"
    },
    {
      "cell_type": "code",
      "execution_count": 433,
      "metadata": {},
      "outputs": [],
      "source": [
        "a.base"
      ],
      "id": "fe05d9d8-73f0-4a3f-9ccb-aaa70377a753"
    },
    {
      "cell_type": "markdown",
      "metadata": {},
      "source": [
        "`note2` b.base의 shpae과 b의 shape은 아무 관련없다."
      ],
      "id": "f373ec1a-563b-4c94-a0c5-99f20877c6c7"
    },
    {
      "cell_type": "code",
      "execution_count": 434,
      "metadata": {},
      "outputs": [],
      "source": [
        "b.shape"
      ],
      "id": "5f33c615-7d45-4957-8f93-1bfc4b565d8d"
    },
    {
      "cell_type": "code",
      "execution_count": 435,
      "metadata": {},
      "outputs": [],
      "source": [
        "b.base.shape # a.shape과 같음"
      ],
      "id": "0767810f-7c90-42c3-a4f8-c8b6f53199c5"
    },
    {
      "cell_type": "markdown",
      "metadata": {},
      "source": [
        "`-` numpy에서 view를 사용하는 예시 (transpose)"
      ],
      "id": "89f46664-0082-48f9-b908-0214afc1d407"
    },
    {
      "cell_type": "code",
      "execution_count": 54,
      "metadata": {},
      "outputs": [],
      "source": [
        "X = np.random.normal(size=[100,2])\n",
        "id((X.T).base), id(X)"
      ],
      "id": "f3bf96da-b881-4527-b14a-0a6340f49762"
    },
    {
      "cell_type": "markdown",
      "metadata": {},
      "source": [
        "-   `X.T` 는 `X`의 view 이다."
      ],
      "id": "7a5d1e97-e058-4c1e-94be-5f8fd375c488"
    },
    {
      "cell_type": "code",
      "execution_count": 57,
      "metadata": {},
      "outputs": [],
      "source": [
        "X.T @ X ## 실제로 X.T를 메모리공간에 새로 만들어 숫자를 저장하지않고 X.T @ X를 계산할 수 있음 (R과차이점) "
      ],
      "id": "839a982f-ec67-4770-b7ee-4f3df19fac57"
    },
    {
      "cell_type": "markdown",
      "metadata": {},
      "source": [
        "## copy\n",
        "\n",
        "`-` a를 선언, b는 a의 copy"
      ],
      "id": "1629c4e0-52aa-4be6-98e5-aa3b0308e179"
    },
    {
      "cell_type": "code",
      "execution_count": 114,
      "metadata": {},
      "outputs": [],
      "source": [
        "a=np.array([[1,2],[3,4]])\n",
        "b=a.copy() # 껍데기를 새로 생성 (strides, shape) + 데이터도 a와 독립적으로 새로 생성하여 따로 메모리에 저장함. "
      ],
      "id": "df12cffe-5c15-4ddc-adb0-511997319211"
    },
    {
      "cell_type": "code",
      "execution_count": 492,
      "metadata": {},
      "outputs": [],
      "source": [
        "id(a),id(b)"
      ],
      "id": "cbebad46-b15a-4948-ba04-9d3dcf627568"
    },
    {
      "cell_type": "markdown",
      "metadata": {},
      "source": [
        "`-` a의 shape을 바꿔도 b에는 적용되지 않음"
      ],
      "id": "c3e4aa50-e623-4dcd-869e-d20dc7d88e69"
    },
    {
      "cell_type": "code",
      "execution_count": 438,
      "metadata": {},
      "outputs": [],
      "source": [
        "a.shape = (4,1)\n",
        "a"
      ],
      "id": "168bf84f-3ab9-4cbb-aee7-efa4488070a1"
    },
    {
      "cell_type": "code",
      "execution_count": 439,
      "metadata": {},
      "outputs": [],
      "source": [
        "b"
      ],
      "id": "dc3aa9c4-d000-4088-aedc-c93ff1395fec"
    },
    {
      "cell_type": "markdown",
      "metadata": {},
      "source": [
        "`-` 그리고 a\\[0\\]의 값을 바꿔도 b에는 적용되지 않음."
      ],
      "id": "509b5e70-cd40-43a6-8a69-f3b5a193d666"
    },
    {
      "cell_type": "code",
      "execution_count": 440,
      "metadata": {},
      "outputs": [],
      "source": [
        "a[0]=100"
      ],
      "id": "45a24765-81ec-4fa3-957f-9f7c040e8458"
    },
    {
      "cell_type": "code",
      "execution_count": 441,
      "metadata": {},
      "outputs": [],
      "source": [
        "a"
      ],
      "id": "7374d2b8-6083-458b-8213-c6e4f2f66ddf"
    },
    {
      "cell_type": "code",
      "execution_count": 442,
      "metadata": {},
      "outputs": [],
      "source": [
        "b"
      ],
      "id": "049d9fe7-c7f9-449f-a86f-f0ff18af536e"
    },
    {
      "cell_type": "markdown",
      "metadata": {},
      "source": [
        "`-` b의 출생을 조사해보니.."
      ],
      "id": "b91c9062-a020-4808-9a0f-dbe8f513cbdb"
    },
    {
      "cell_type": "code",
      "execution_count": 443,
      "metadata": {},
      "outputs": [],
      "source": [
        "a.base,b.base"
      ],
      "id": "9f7f3cf7-6501-4421-a369-4605ee70c00a"
    },
    {
      "cell_type": "markdown",
      "metadata": {},
      "source": [
        "출생의 비밀은 없었다. 둘다 원본.\n",
        "\n",
        "`-` `.view()` 는 껍데기만 새로생성 // `.copy()` 는 껍데기와 데이터를\n",
        "모두 새로 생성\n",
        "\n",
        "### ***Appendix: .copy의 한계(?)***\n",
        "\n",
        "(관찰)"
      ],
      "id": "e6209c43-7212-44ba-9a74-20af6b0bbfe9"
    },
    {
      "cell_type": "code",
      "execution_count": 82,
      "metadata": {},
      "outputs": [
        {
          "output_type": "stream",
          "name": "stdout",
          "text": [
            "시점1\n",
            "a= [1 list([1, 2])]\n",
            "b= [1 list([1, 2])]\n",
            "시점2\n",
            "a= [222 list([1, 2])]\n",
            "b= [1 list([1, 2])]\n",
            "시점2\n",
            "a= [222 list([333, 2])]\n",
            "b= [1 list([333, 2])]"
          ]
        }
      ],
      "source": [
        "a=np.array([1,[1,2]],dtype='O')\n",
        "b=a.copy()\n",
        "print('시점1')\n",
        "print('a=',a)\n",
        "print('b=',b)\n",
        "\n",
        "a[0]=222\n",
        "print('시점2')\n",
        "print('a=',a)\n",
        "print('b=',b)\n",
        "\n",
        "a[1][0]=333\n",
        "print('시점2')\n",
        "print('a=',a)\n",
        "print('b=',b)"
      ],
      "id": "506af310-ceea-4c59-9a71-a1693b88f94f"
    },
    {
      "cell_type": "markdown",
      "metadata": {},
      "source": [
        "-   왜 또 시점2에서는 a와 b가 같이 움직여?\n",
        "\n",
        "***해결책: 더 깊은 복사***"
      ],
      "id": "7a069a38-9167-44ae-8827-cfba08e6c457"
    },
    {
      "cell_type": "code",
      "execution_count": 28,
      "metadata": {},
      "outputs": [
        {
          "output_type": "stream",
          "name": "stdout",
          "text": [
            "시점1\n",
            "a= [1 list([1, 2])]\n",
            "b= [1 list([1, 2])]\n",
            "시점2\n",
            "a= [222 list([1, 2])]\n",
            "b= [1 list([1, 2])]\n",
            "시점2\n",
            "a= [222 list([333, 2])]\n",
            "b= [1 list([1, 2])]"
          ]
        }
      ],
      "source": [
        "a=np.array([1,[1,2]],dtype='O')\n",
        "b=copy.deepcopy(a)\n",
        "print('시점1')\n",
        "print('a=',a)\n",
        "print('b=',b)\n",
        "\n",
        "a[0]=222\n",
        "print('시점2')\n",
        "print('a=',a)\n",
        "print('b=',b)\n",
        "\n",
        "a[1][0]=333\n",
        "print('시점2')\n",
        "print('a=',a)\n",
        "print('b=',b)"
      ],
      "id": "43d89fc5-9282-4e3b-aa46-b053d4727340"
    },
    {
      "cell_type": "markdown",
      "metadata": {},
      "source": [
        "`-` 중간요약\n",
        "\n",
        "-   사실 `b=a.copy()`는 에서 `.copy()`는 사실 온전한 deep-copy가 아니다.\n",
        "-   그래서 `a`의 데이터가 중첩구조를 가지는 경우는 온전한 deep-copy가\n",
        "    수행되지 않는다.\n",
        "-   그런데 일반적으로 넘파이를 이용할때 자주 사용하는 데이터 구조인\n",
        "    행렬, 텐서등은 데이터가 중첩구조를 가지지 않는다. (1차원 array로만\n",
        "    저장되어 있음)\n",
        "-   따라서 행렬, 텐서에 한정하면 `.copy()`는 온전한 deep-copy라고\n",
        "    이해해도 무방하다. \\<– 이것만 기억해!\n",
        "\n",
        "## 요약\n",
        "\n",
        "아래를 구분할 수 있으면 잘 이해한 것!!\n",
        "\n",
        "``` python\n",
        "arr = np.array(...) # arr -- [arr.shape, arr.strides, arr.base, ... ] \n",
        "arr2 = arr \n",
        "arr2 = arr.view()\n",
        "arr2 = arr.copy()\n",
        "arr2 = copy.deepcopy(arr)\n",
        "```\n",
        "\n",
        "## 별명, 뷰, 카피\n",
        "\n",
        "`-` test 함수 작성"
      ],
      "id": "ef5b9146-ab1f-44df-b966-b5ba636517c8"
    },
    {
      "cell_type": "code",
      "execution_count": 88,
      "metadata": {},
      "outputs": [],
      "source": [
        "def test(a,b): \n",
        "    if id(a) == id(b): \n",
        "        print(\"별명\")\n",
        "    elif id(a) == id(b.base) or id(a.base)==id(b): \n",
        "        print(\"뷰\")\n",
        "    elif (id(a.base)!=id(None) and id(b.base)!=id(None)) and id(a.base) == id(b.base):\n",
        "        print(\"공통의 base를 가짐\")\n",
        "    else: \n",
        "        print(\"카피, 혹은 아무 관련없는 오브젝트\") "
      ],
      "id": "82f97644-00c5-4793-92cc-8a55ad6cd088"
    },
    {
      "cell_type": "markdown",
      "metadata": {},
      "source": [
        "`-` 잘 동작하나?\n",
        "\n",
        "(테스트1)"
      ],
      "id": "2f9a0c55-70ab-4502-8a15-67e09445abab"
    },
    {
      "cell_type": "code",
      "execution_count": 89,
      "metadata": {},
      "outputs": [],
      "source": [
        "a=np.array([1,2,3,4])\n",
        "b=a"
      ],
      "id": "a4f74d6e-53e0-4e47-bd14-6632d4ce5fd5"
    },
    {
      "cell_type": "code",
      "execution_count": 90,
      "metadata": {},
      "outputs": [
        {
          "output_type": "stream",
          "name": "stdout",
          "text": [
            "별명"
          ]
        }
      ],
      "source": [
        "test(a,b)"
      ],
      "id": "40b373e8-d39b-41dd-bdc0-c9bbaac5ee00"
    },
    {
      "cell_type": "markdown",
      "metadata": {},
      "source": [
        "(테스트2)"
      ],
      "id": "e1723101-f465-4c39-92d9-35a9e79c9ecc"
    },
    {
      "cell_type": "code",
      "execution_count": 91,
      "metadata": {},
      "outputs": [],
      "source": [
        "a=np.array([1,2,3,4])\n",
        "b=a.view()"
      ],
      "id": "748d6585-1822-4694-a16a-e54a26ef30bc"
    },
    {
      "cell_type": "code",
      "execution_count": 92,
      "metadata": {},
      "outputs": [
        {
          "output_type": "stream",
          "name": "stdout",
          "text": [
            "뷰"
          ]
        }
      ],
      "source": [
        "test(a,b)"
      ],
      "id": "8efd6f69-9c5f-4efc-83c0-533c0418b6e7"
    },
    {
      "cell_type": "markdown",
      "metadata": {},
      "source": [
        "(테스트3)"
      ],
      "id": "77743de3-6231-4b29-a999-4b199b8840d8"
    },
    {
      "cell_type": "code",
      "execution_count": 93,
      "metadata": {},
      "outputs": [],
      "source": [
        "a=np.array([1,2,3,4])\n",
        "b=a.view()\n",
        "c=a.view()"
      ],
      "id": "f040ccaf-2837-4074-b90f-f86c67a51d4d"
    },
    {
      "cell_type": "code",
      "execution_count": 94,
      "metadata": {},
      "outputs": [
        {
          "output_type": "stream",
          "name": "stdout",
          "text": [
            "공통의 base를 가짐"
          ]
        }
      ],
      "source": [
        "test(b,c)"
      ],
      "id": "3453d6eb-5630-4fce-a1e0-305bfb8e7bb8"
    },
    {
      "cell_type": "code",
      "execution_count": 95,
      "metadata": {},
      "outputs": [
        {
          "output_type": "stream",
          "name": "stdout",
          "text": [
            "뷰"
          ]
        }
      ],
      "source": [
        "test(a,b)"
      ],
      "id": "313db71e-7746-4afa-ad91-fe1675df967d"
    },
    {
      "cell_type": "code",
      "execution_count": 96,
      "metadata": {},
      "outputs": [
        {
          "output_type": "stream",
          "name": "stdout",
          "text": [
            "뷰"
          ]
        }
      ],
      "source": [
        "test(a,c)"
      ],
      "id": "ab26bc82-ee67-461b-b347-33cb5c3e6c57"
    },
    {
      "cell_type": "markdown",
      "metadata": {},
      "source": [
        "(테스트4)"
      ],
      "id": "1ed02766-98e4-4614-8969-830669c91732"
    },
    {
      "cell_type": "code",
      "execution_count": 97,
      "metadata": {},
      "outputs": [],
      "source": [
        "a=np.array([1,2,3,4])\n",
        "b=a.copy()"
      ],
      "id": "d5e3e8ab-f843-4c3c-b845-cc966e114686"
    },
    {
      "cell_type": "code",
      "execution_count": 98,
      "metadata": {},
      "outputs": [
        {
          "output_type": "stream",
          "name": "stdout",
          "text": [
            "카피, 혹은 아무 관련없는 오브젝트"
          ]
        }
      ],
      "source": [
        "test(a,b)"
      ],
      "id": "08ce2913-3c97-49cc-af7c-73868898e48d"
    },
    {
      "cell_type": "markdown",
      "metadata": {},
      "source": [
        "## 결론\n",
        "\n",
        "`-` 참조, 뷰, 카피의 개념을 잘 알고 있고 때에 따라 이들을 적절하게\n",
        "사용하며 효율적으로 메모리를 쓰고 싶을것 같음. 하지만 이건 불가능한\n",
        "소망임.\n",
        "\n",
        "`-` 우리가 사용했던 어떠한 것들이 뷰가 나올지 카피가 나올지 잘 모른다.\n",
        "(그래서 원리를 이해해도 대응할 방법이 사실없음)\n",
        "\n",
        "### 예시1"
      ],
      "id": "6111e80b-431d-471d-bc7a-5806058ddc27"
    },
    {
      "cell_type": "code",
      "execution_count": 101,
      "metadata": {},
      "outputs": [],
      "source": [
        "a=np.array([1,2,3,4])\n",
        "b=a[:3]"
      ],
      "id": "06c80a2b-9a3e-4ff2-b040-0cba00471c2b"
    },
    {
      "cell_type": "code",
      "execution_count": 102,
      "metadata": {},
      "outputs": [],
      "source": [
        "a"
      ],
      "id": "8d3c9c0f-d89e-412f-b718-fcf7aee24564"
    },
    {
      "cell_type": "code",
      "execution_count": 103,
      "metadata": {},
      "outputs": [],
      "source": [
        "b"
      ],
      "id": "471d1475-9ac4-4045-a39e-8de002c32b60"
    },
    {
      "cell_type": "code",
      "execution_count": 104,
      "metadata": {},
      "outputs": [
        {
          "output_type": "stream",
          "name": "stdout",
          "text": [
            "뷰"
          ]
        }
      ],
      "source": [
        "test(a,b)"
      ],
      "id": "5a171e96-daa2-4895-a6d3-3df706c6a5c8"
    },
    {
      "cell_type": "code",
      "execution_count": 105,
      "metadata": {},
      "outputs": [],
      "source": [
        "c=a[[0,1,2]]\n",
        "c"
      ],
      "id": "c8a86457-4590-4413-9bc5-a8cf145a66e2"
    },
    {
      "cell_type": "code",
      "execution_count": 106,
      "metadata": {},
      "outputs": [
        {
          "output_type": "stream",
          "name": "stdout",
          "text": [
            "카피, 혹은 아무 관련없는 오브젝트"
          ]
        }
      ],
      "source": [
        "test(a,c)"
      ],
      "id": "edc1387c-e53a-4f36-9c43-f20ffab02c98"
    },
    {
      "cell_type": "markdown",
      "metadata": {},
      "source": [
        "### 예시2"
      ],
      "id": "f5f0ddf0-2a6d-41dc-823a-2dc19dcb657e"
    },
    {
      "cell_type": "code",
      "execution_count": 107,
      "metadata": {},
      "outputs": [],
      "source": [
        "a=np.array([[1,2],[3,4]])\n",
        "a"
      ],
      "id": "06d92138-bbdc-4f71-bef9-e30034a3fbe8"
    },
    {
      "cell_type": "code",
      "execution_count": 108,
      "metadata": {},
      "outputs": [],
      "source": [
        "b=a.flatten()\n",
        "c=a.ravel()\n",
        "d=a.reshape(-1)"
      ],
      "id": "37ec640a-6eb6-4fa9-8bbe-fa69b6b570db"
    },
    {
      "cell_type": "code",
      "execution_count": 109,
      "metadata": {},
      "outputs": [
        {
          "output_type": "stream",
          "name": "stdout",
          "text": [
            "카피, 혹은 아무 관련없는 오브젝트"
          ]
        }
      ],
      "source": [
        "test(a,b)"
      ],
      "id": "7d6679f5-2822-4c39-9c9e-b0a869c680ca"
    },
    {
      "cell_type": "code",
      "execution_count": 110,
      "metadata": {},
      "outputs": [
        {
          "output_type": "stream",
          "name": "stdout",
          "text": [
            "뷰"
          ]
        }
      ],
      "source": [
        "test(a,c)"
      ],
      "id": "06ad2d91-97d0-4d94-a7fa-d3d1159d4ceb"
    },
    {
      "cell_type": "code",
      "execution_count": 111,
      "metadata": {},
      "outputs": [
        {
          "output_type": "stream",
          "name": "stdout",
          "text": [
            "뷰"
          ]
        }
      ],
      "source": [
        "test(a,d)"
      ],
      "id": "348226d3-ab15-424a-b58e-3a9cc2c54fe1"
    },
    {
      "cell_type": "code",
      "execution_count": 112,
      "metadata": {},
      "outputs": [
        {
          "output_type": "stream",
          "name": "stdout",
          "text": [
            "공통의 base를 가짐"
          ]
        }
      ],
      "source": [
        "test(c,d)"
      ],
      "id": "ab18d3ba-d35d-44f1-828f-04696e624bbb"
    },
    {
      "cell_type": "code",
      "execution_count": 113,
      "metadata": {},
      "outputs": [
        {
          "output_type": "stream",
          "name": "stdout",
          "text": [
            "카피, 혹은 아무 관련없는 오브젝트"
          ]
        }
      ],
      "source": [
        "test(b,c)"
      ],
      "id": "f8a6392f-2035-487e-9870-fc02a7032839"
    },
    {
      "cell_type": "markdown",
      "metadata": {},
      "source": [
        "`-` 심지어 copy인줄 알았던것이 사실 view라서 원치않는 side effect이\n",
        "생길수 있음. $\\to$ 그냥 방어적 프로그래밍이 최선인듯"
      ],
      "id": "c48e8f59-438c-48e3-a70e-1f99de87ec6d"
    }
  ],
  "nbformat": 4,
  "nbformat_minor": 5,
  "metadata": {
    "kernelspec": {
      "name": "python3",
      "display_name": "Python 3",
      "language": "python"
    },
    "language_info": {
      "name": "python",
      "codemirror_mode": {
        "name": "ipython",
        "version": "3"
      },
      "file_extension": ".py",
      "mimetype": "text/x-python",
      "nbconvert_exporter": "python",
      "pygments_lexer": "ipython3",
      "version": "3.8.16"
    }
  }
}