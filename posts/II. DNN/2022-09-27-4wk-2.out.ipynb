{
  "cells": [
    {
      "cell_type": "markdown",
      "metadata": {},
      "source": [
        "# 04wk-2: 딥러닝의 기초 (3)\n",
        "\n",
        "최규빈  \n",
        "2022-09-27\n",
        "\n",
        "> 회귀분석(3)– step1의 다른버전 (복습+$\\alpha$) // 로지스틱(1)– step4의\n",
        "> 다른버전, 로지스틱 motive\n",
        "\n",
        "# 강의영상\n",
        "\n",
        "> <https://youtube.com/playlist?list=PLQqh36zP38-zQEazdKzpyl8St3r8F9b8u>\n",
        "\n",
        "# Imports"
      ],
      "id": "c2d59015-f16b-4165-b371-153a630cbe0f"
    },
    {
      "cell_type": "code",
      "execution_count": 9,
      "metadata": {},
      "outputs": [],
      "source": [
        "import torch\n",
        "import pandas as pd\n",
        "import numpy as np\n",
        "import matplotlib.pyplot as plt "
      ],
      "id": "f8c29346-1869-4a86-b806-71a7722377bf"
    },
    {
      "cell_type": "markdown",
      "metadata": {},
      "source": [
        "# numpy, torch (선택학습)\n",
        "\n",
        "## numpy, torch는 엄청 비슷해요\n",
        "\n",
        "`-` torch.tensor() = np.array() 처럼 생각해도 무방"
      ],
      "id": "f713849e-a629-4291-91e3-6735f8773db1"
    },
    {
      "cell_type": "code",
      "execution_count": 10,
      "metadata": {},
      "outputs": [],
      "source": [
        "np.array([1,2,3]), torch.tensor([1,2,3])"
      ],
      "id": "902be739-1d8c-4687-8824-d68064fe555c"
    },
    {
      "cell_type": "markdown",
      "metadata": {},
      "source": [
        "`-` 소수점의 정밀도에서 차이가 있음 (torch가 좀 더 쪼잔함)"
      ],
      "id": "99b607b6-a73c-4fd5-b975-0ef7592c1750"
    },
    {
      "cell_type": "code",
      "execution_count": 11,
      "metadata": {},
      "outputs": [],
      "source": [
        "np.array([3.123456789])"
      ],
      "id": "7a12de48-ab20-4481-879d-72d676802827"
    },
    {
      "cell_type": "code",
      "execution_count": 12,
      "metadata": {},
      "outputs": [],
      "source": [
        "torch.tensor([3.123456789])"
      ],
      "id": "1b81f973-d3b2-4c08-961f-5d58b9b50566"
    },
    {
      "cell_type": "markdown",
      "metadata": {},
      "source": [
        "`-` 기본적인 numpy 문법은 np 대신에 torch를 써도 무방 // 완전 같지는\n",
        "않음"
      ],
      "id": "228a214a-3bcd-4194-b264-26604f6256df"
    },
    {
      "cell_type": "code",
      "execution_count": 13,
      "metadata": {},
      "outputs": [],
      "source": [
        "np.arange(10), torch.arange(10)"
      ],
      "id": "94ef0d96-8b9f-427c-baee-7a6f384c8db8"
    },
    {
      "cell_type": "code",
      "execution_count": 14,
      "metadata": {},
      "outputs": [],
      "source": [
        "np.linspace(0,1,10), torch.linspace(0,1,10)"
      ],
      "id": "87bc3f66-cfe8-4faa-8c8a-4219a8886c5d"
    },
    {
      "cell_type": "code",
      "execution_count": 15,
      "metadata": {},
      "outputs": [],
      "source": [
        "np.random.randn(10)"
      ],
      "id": "780c2a69-23b4-4b19-ab7f-475cd887ea19"
    },
    {
      "cell_type": "code",
      "execution_count": 16,
      "metadata": {},
      "outputs": [],
      "source": [
        "torch.randn(10)"
      ],
      "id": "215321fe-1688-4520-aabf-f22c20e74c64"
    },
    {
      "cell_type": "markdown",
      "metadata": {},
      "source": [
        "## length $n$ vector, $n \\times 1$ col-vector, $1 \\times n$ row-vector\n",
        "\n",
        "`-` 길이가 3인 벡터 선언방법"
      ],
      "id": "996661bd-f875-4706-b138-17a361b8ce63"
    },
    {
      "cell_type": "code",
      "execution_count": 17,
      "metadata": {},
      "outputs": [],
      "source": [
        "a = torch.tensor([1,2,3])\n",
        "a.shape"
      ],
      "id": "71f267fa-257f-4f74-9b8a-353d2eb4e3cc"
    },
    {
      "cell_type": "markdown",
      "metadata": {},
      "source": [
        "`-` 3x1 col-vec 선언방법\n",
        "\n",
        "(방법1)"
      ],
      "id": "5dbc53f3-40c3-4704-bea0-d8f0d80030a8"
    },
    {
      "cell_type": "code",
      "execution_count": 18,
      "metadata": {},
      "outputs": [],
      "source": [
        "a = torch.tensor([[1],[2],[3]])\n",
        "a.shape"
      ],
      "id": "3e2e1495-312a-4c14-bc46-1273f0b2092c"
    },
    {
      "cell_type": "markdown",
      "metadata": {},
      "source": [
        "(방법2)"
      ],
      "id": "3e7d3968-d7af-480b-8801-35289db1a8ba"
    },
    {
      "cell_type": "code",
      "execution_count": 19,
      "metadata": {},
      "outputs": [],
      "source": [
        "a = torch.tensor([1,2,3]).reshape(3,1)\n",
        "a.shape"
      ],
      "id": "9205d9a6-2992-4ee2-a412-131d68fbaf99"
    },
    {
      "cell_type": "markdown",
      "metadata": {},
      "source": [
        "`-` 1x3 row-vec 선언방법\n",
        "\n",
        "(방법1)"
      ],
      "id": "87f1552c-2829-4c4f-91a5-575314b2c064"
    },
    {
      "cell_type": "code",
      "execution_count": 20,
      "metadata": {},
      "outputs": [],
      "source": [
        "a = torch.tensor([[1,2,3]])\n",
        "a.shape"
      ],
      "id": "4440ebb5-ed60-4e9d-ae82-243f0e689191"
    },
    {
      "cell_type": "markdown",
      "metadata": {},
      "source": [
        "(방법2)"
      ],
      "id": "2eed821b-f0e3-4506-ba5b-2a7c6dc10b1c"
    },
    {
      "cell_type": "code",
      "execution_count": 21,
      "metadata": {},
      "outputs": [],
      "source": [
        "a = torch.tensor([1,2,3]).reshape(1,3)\n",
        "a.shape"
      ],
      "id": "aada1dc6-1aa0-4703-ad7a-9619e1b8512b"
    },
    {
      "cell_type": "markdown",
      "metadata": {},
      "source": [
        "`-` 3x1 col-vec 선언방법, 1x3 row-vec 선언방법에서 `[[1],[2],[3]]` 혹은\n",
        "`[[1,2,3]]` 와 같은 표현이 이해안되면 아래링크로 가셔서\n",
        "\n",
        "<https://guebin.github.io/STBDA2022/2022/03/14/(2주차)-3월14일.html>\n",
        "\n",
        "첫번째 동영상 12:15 - 22:45 에 해당하는 분량을 학습하시길 바랍니다.\n",
        "\n",
        "## torch의 dtype\n",
        "\n",
        "`-` 기본적으로 torch는 소수점으로 저장되면 dtype=torch.float32 가 된다.\n",
        "(이걸로 맞추는게 편리함)"
      ],
      "id": "0cf114b8-803b-4d86-aa95-0aba495e9242"
    },
    {
      "cell_type": "code",
      "execution_count": 22,
      "metadata": {},
      "outputs": [],
      "source": [
        "tsr = torch.tensor([1.23,2.34])\n",
        "tsr"
      ],
      "id": "2d483ca4-f055-4741-8db1-6ae2b1f8ebba"
    },
    {
      "cell_type": "code",
      "execution_count": 23,
      "metadata": {},
      "outputs": [],
      "source": [
        "tsr.dtype"
      ],
      "id": "b7b3e3d4-7467-4d0c-b149-96da3b5cca61"
    },
    {
      "cell_type": "markdown",
      "metadata": {},
      "source": [
        "`-` 정수로 선언하더라도 dtype를 torch.float32로 바꾸는게 유리함\n",
        "\n",
        "(안 좋은 선언예시)"
      ],
      "id": "a691d787-4744-4e4e-8bf6-6f6fe91a4c58"
    },
    {
      "cell_type": "code",
      "execution_count": 24,
      "metadata": {},
      "outputs": [],
      "source": [
        "tsr = torch.tensor([1,2])\n",
        "tsr "
      ],
      "id": "82194eb2-3a48-45de-91fb-24593d71dee1"
    },
    {
      "cell_type": "code",
      "execution_count": 25,
      "metadata": {},
      "outputs": [],
      "source": [
        "tsr.dtype"
      ],
      "id": "d73410a5-97da-4584-a781-6c267dccba51"
    },
    {
      "cell_type": "markdown",
      "metadata": {},
      "source": [
        "(좋은 선언예시1)"
      ],
      "id": "472deb5a-d5f3-4e54-9609-c185611882a1"
    },
    {
      "cell_type": "code",
      "execution_count": 26,
      "metadata": {},
      "outputs": [],
      "source": [
        "tsr = torch.tensor([1,2],dtype=torch.float32)\n",
        "tsr "
      ],
      "id": "69bd60a9-9cb7-44a4-b791-07569aca5764"
    },
    {
      "cell_type": "code",
      "execution_count": 27,
      "metadata": {},
      "outputs": [],
      "source": [
        "tsr.dtype"
      ],
      "id": "2cd9a0e7-7019-4a5f-b3e6-96f9e472e6ab"
    },
    {
      "cell_type": "markdown",
      "metadata": {},
      "source": [
        "(좋은 선언예시2)"
      ],
      "id": "2e244ae5-b39f-4037-984f-12f4beded3c6"
    },
    {
      "cell_type": "code",
      "execution_count": 28,
      "metadata": {},
      "outputs": [],
      "source": [
        "tsr = torch.tensor([1,2.0])\n",
        "tsr "
      ],
      "id": "283d45e3-d979-4280-afc9-cffe4d8e25f3"
    },
    {
      "cell_type": "code",
      "execution_count": 29,
      "metadata": {},
      "outputs": [],
      "source": [
        "tsr.dtype"
      ],
      "id": "7f17f30e-5680-4a6d-b343-79d0851ea157"
    },
    {
      "cell_type": "markdown",
      "metadata": {},
      "source": [
        "(사실 int로 선언해도 나중에 float으로 바꾸면 큰 문제없음)"
      ],
      "id": "8559dea9-dcc3-47af-9ef0-da9a13c20eb5"
    },
    {
      "cell_type": "code",
      "execution_count": 30,
      "metadata": {},
      "outputs": [],
      "source": [
        "tsr = torch.tensor([1,2]).float()\n",
        "tsr"
      ],
      "id": "acb35d65-2304-4984-8555-7128ce85e15f"
    },
    {
      "cell_type": "code",
      "execution_count": 31,
      "metadata": {},
      "outputs": [],
      "source": [
        "tsr.dtype"
      ],
      "id": "e6dfe0e8-9b98-4fb3-aabe-42ebb638d6e4"
    },
    {
      "cell_type": "markdown",
      "metadata": {},
      "source": [
        "`-` 왜 정수만으로 torch.tensor를 만들때에도 torch.float32로 바꾸는게\n",
        "유리할까? $\\to$ torch.tensor끼리의 연산에서 문제가 될 수 있음\n",
        "\n",
        "별 문제 없을수도 있지만"
      ],
      "id": "f747448e-f79f-4c25-9a87-449f73484e3d"
    },
    {
      "cell_type": "code",
      "execution_count": 32,
      "metadata": {},
      "outputs": [],
      "source": [
        "torch.tensor([1,2])-torch.tensor([1.0,2.0]) "
      ],
      "id": "431754ba-4c0b-4467-834b-6ee9a5dc843e"
    },
    {
      "cell_type": "markdown",
      "metadata": {},
      "source": [
        "아래와 같이 에러가 날수도 있다\n",
        "\n",
        "(에러1)"
      ],
      "id": "74133f14-aef8-45ae-8070-020689a475eb"
    },
    {
      "cell_type": "code",
      "execution_count": 33,
      "metadata": {},
      "outputs": [],
      "source": [
        "torch.tensor([[1.0,0.0],[0.0,1.0]]) @ torch.tensor([[1],[2]]) "
      ],
      "id": "14085d42-e2c0-4474-b830-b2cfc1f174b0"
    },
    {
      "cell_type": "markdown",
      "metadata": {},
      "source": [
        "(에러2)"
      ],
      "id": "794dfdf1-90e0-4b42-95b1-c56cd9e35595"
    },
    {
      "cell_type": "code",
      "execution_count": 34,
      "metadata": {},
      "outputs": [],
      "source": [
        "torch.tensor([[1,0],[0,1]]) @ torch.tensor([[1.0],[2.0]])"
      ],
      "id": "eeaa2863-2804-4ac3-855e-3d1e35035eb8"
    },
    {
      "cell_type": "markdown",
      "metadata": {},
      "source": [
        "(해결1) 둘다 정수로 통일"
      ],
      "id": "7a2d4b49-216e-459a-81c5-62d29ef99601"
    },
    {
      "cell_type": "code",
      "execution_count": 35,
      "metadata": {},
      "outputs": [],
      "source": [
        "torch.tensor([[1,0],[0,1]]) @ torch.tensor([[1],[2]])"
      ],
      "id": "7625b0a0-2592-4436-840c-b376a13c4a38"
    },
    {
      "cell_type": "markdown",
      "metadata": {},
      "source": [
        "(해결2) 둘다 소수로 통일 \\<– 더 좋은 방법임"
      ],
      "id": "506d46d7-2f53-4c70-a250-d199dede7089"
    },
    {
      "cell_type": "code",
      "execution_count": 36,
      "metadata": {},
      "outputs": [],
      "source": [
        "torch.tensor([[1.0,0.0],[0.0,1.0]]) @ torch.tensor([[1.0],[2.0]])"
      ],
      "id": "60298386-a910-40aa-b1d0-7cf18b1bc997"
    },
    {
      "cell_type": "markdown",
      "metadata": {},
      "source": [
        "## shape of vector\n",
        "\n",
        "`-` 행렬곱셈에 대한 shape 조심"
      ],
      "id": "6f1caf55-8c47-4206-abe1-7039fdd2618d"
    },
    {
      "cell_type": "code",
      "execution_count": 37,
      "metadata": {},
      "outputs": [],
      "source": [
        "A = torch.tensor([[2.00,0.00],[0.00,3.00]]) \n",
        "b1 = torch.tensor([[-1.0,-5.0]])\n",
        "b2 = torch.tensor([[-1.0],[-5.0]])\n",
        "b3 = torch.tensor([-1.0,-5.0])"
      ],
      "id": "f7b7dd90-5dba-48c2-a303-0fb0609c2a37"
    },
    {
      "cell_type": "code",
      "execution_count": 38,
      "metadata": {},
      "outputs": [],
      "source": [
        "A.shape,b1.shape,b2.shape,b3.shape"
      ],
      "id": "e92dc52a-b598-4517-9b48-7e03c2c92024"
    },
    {
      "cell_type": "markdown",
      "metadata": {},
      "source": [
        "`-` A@b1: 계산불가, b1@A: 계산가능"
      ],
      "id": "278dd3dc-2220-429a-bdbe-53ee2def4529"
    },
    {
      "cell_type": "code",
      "execution_count": 39,
      "metadata": {},
      "outputs": [],
      "source": [
        "A@b1"
      ],
      "id": "9e2f7608-d0ef-4747-88d7-4d120bdf3dc5"
    },
    {
      "cell_type": "code",
      "execution_count": 40,
      "metadata": {},
      "outputs": [],
      "source": [
        "b1@A"
      ],
      "id": "b23135a2-bd48-42f9-bd24-3bea0619d552"
    },
    {
      "cell_type": "markdown",
      "metadata": {},
      "source": [
        "`-` A@b2: 계산가능, b2@A: 계산불가"
      ],
      "id": "249da6dd-31e4-4c5d-94e0-2b12fbf05934"
    },
    {
      "cell_type": "code",
      "execution_count": 41,
      "metadata": {},
      "outputs": [],
      "source": [
        "A@b2"
      ],
      "id": "3ebdce04-f9bc-45e4-a2b0-e62e1ec3ae50"
    },
    {
      "cell_type": "code",
      "execution_count": 42,
      "metadata": {},
      "outputs": [],
      "source": [
        "b2@A"
      ],
      "id": "8e356e9b-0097-4e3c-8414-86670b0f162a"
    },
    {
      "cell_type": "markdown",
      "metadata": {},
      "source": [
        "`-` A@b3: 계산가능, b3@A: 계산가능"
      ],
      "id": "7a395ae6-3ff6-47f6-895d-71c40bdfa7e9"
    },
    {
      "cell_type": "code",
      "execution_count": 43,
      "metadata": {},
      "outputs": [],
      "source": [
        "(A@b3).shape ## b3를 마치 col-vec 처럼 해석"
      ],
      "id": "11baf788-03f3-4a86-81c1-13d35b85b26e"
    },
    {
      "cell_type": "code",
      "execution_count": 44,
      "metadata": {},
      "outputs": [],
      "source": [
        "(b3@A).shape ## b3를 마지 row-vec 처럼 해석"
      ],
      "id": "d1284963-c62b-46d6-ba4e-ac6a8d18db9f"
    },
    {
      "cell_type": "markdown",
      "metadata": {},
      "source": [
        "`-` 브로드캐스팅"
      ],
      "id": "72974211-513d-4e18-b8b3-e107ba9c46eb"
    },
    {
      "cell_type": "code",
      "execution_count": 45,
      "metadata": {},
      "outputs": [],
      "source": [
        "a = torch.tensor([1,2,3])\n",
        "a - 1"
      ],
      "id": "88aa9ddb-da11-4cc1-b52c-12771887dcc5"
    },
    {
      "cell_type": "code",
      "execution_count": 46,
      "metadata": {},
      "outputs": [],
      "source": [
        "b = torch.tensor([[1],[2],[3]])\n",
        "b - 1"
      ],
      "id": "ae79fdd7-02ee-4b05-ae20-cd096a26937d"
    },
    {
      "cell_type": "code",
      "execution_count": 47,
      "metadata": {},
      "outputs": [],
      "source": [
        "a - b # a를 row-vec 로 해석"
      ],
      "id": "2a7d273e-cb14-4c33-93ae-27e060019fa4"
    },
    {
      "cell_type": "markdown",
      "metadata": {},
      "source": [
        "# step1의 다른버전 (복습 + $\\alpha$)\n",
        "\n",
        "## read data"
      ],
      "id": "57076f38-c959-48be-a32a-e58273ec9d21"
    },
    {
      "cell_type": "code",
      "execution_count": 6,
      "metadata": {},
      "outputs": [],
      "source": [
        "df = pd.read_csv(\"https://raw.githubusercontent.com/guebin/DL2022/master/posts/II.%20DNN/2022-09-22-regression.csv\") \n",
        "df"
      ],
      "id": "cc51130e-a17e-40ee-9c60-c5d6e02f8025"
    },
    {
      "cell_type": "code",
      "execution_count": 10,
      "metadata": {},
      "outputs": [],
      "source": [
        "x=torch.tensor(df.x).float().reshape(100,1)\n",
        "y=torch.tensor(df.y).float().reshape(100,1)\n",
        "_1 = torch.ones([100,1])\n",
        "X = torch.concat([_1,x],axis=1)"
      ],
      "id": "4e39ee60-b1bc-4116-a88c-ecae504ad3ab"
    },
    {
      "cell_type": "code",
      "execution_count": 11,
      "metadata": {},
      "outputs": [
        {
          "output_type": "display_data",
          "metadata": {},
          "data": {
            "image/png": "[encoded data removed]"
          }
        }
      ],
      "source": [
        "plt.plot(x,y,'o')"
      ],
      "id": "ab7ab478-d013-422b-817b-344efc6b8fc2"
    },
    {
      "cell_type": "markdown",
      "metadata": {},
      "source": [
        "## ver1: net = torch.nn.Linear(1,1,bias=True)\n",
        "\n",
        "`-` 준비"
      ],
      "id": "c528296a-b073-438d-ad11-1d72873d6cd1"
    },
    {
      "cell_type": "code",
      "execution_count": 51,
      "metadata": {},
      "outputs": [],
      "source": [
        "net = torch.nn.Linear(1,1,bias=True)\n",
        "net.weight.data = torch.tensor([[10.0]])\n",
        "net.bias.data = torch.tensor([-5.0])\n",
        "net.weight,net.bias"
      ],
      "id": "e19cd013-d1c5-4707-8729-f9b7a8d82e94"
    },
    {
      "cell_type": "markdown",
      "metadata": {},
      "source": [
        "`-` step1"
      ],
      "id": "afa59693-7128-4c08-a993-5d48caaea50a"
    },
    {
      "cell_type": "code",
      "execution_count": 52,
      "metadata": {},
      "outputs": [],
      "source": [
        "yhat = net(x) "
      ],
      "id": "cb97f4b7-381a-4f6b-9aab-61b7dc546d40"
    },
    {
      "cell_type": "code",
      "execution_count": 53,
      "metadata": {},
      "outputs": [
        {
          "output_type": "display_data",
          "metadata": {},
          "data": {
            "image/png": "[encoded data removed]"
          }
        }
      ],
      "source": [
        "plt.plot(x,y,'o')\n",
        "plt.plot(x,net(x).data,'--')"
      ],
      "id": "fd6cb85d-663a-4e7b-9e51-09b02cf9a87d"
    },
    {
      "cell_type": "markdown",
      "metadata": {},
      "source": [
        "`-` step2"
      ],
      "id": "3310b309-0397-4d96-9023-f938ae15e75f"
    },
    {
      "cell_type": "code",
      "execution_count": 54,
      "metadata": {},
      "outputs": [],
      "source": [
        "loss = torch.mean((y-yhat)**2)"
      ],
      "id": "3d96b79e-17a5-474a-8241-2c24c1abbda0"
    },
    {
      "cell_type": "markdown",
      "metadata": {},
      "source": [
        "`-` step3\n",
        "\n",
        "(미분전)"
      ],
      "id": "6623a798-a6ed-4338-a6e5-3db84b0432f9"
    },
    {
      "cell_type": "code",
      "execution_count": 55,
      "metadata": {},
      "outputs": [],
      "source": [
        "net.bias,net.weight"
      ],
      "id": "806991bc-3211-470c-8898-13d942a7835b"
    },
    {
      "cell_type": "code",
      "execution_count": 56,
      "metadata": {},
      "outputs": [],
      "source": [
        "net.bias.grad, net.weight.grad"
      ],
      "id": "301ca3d4-8b34-45f2-a1ed-95a8123839f5"
    },
    {
      "cell_type": "markdown",
      "metadata": {},
      "source": [
        "(미분)"
      ],
      "id": "d2eae46f-85c7-4534-85ef-57e56b7fbc24"
    },
    {
      "cell_type": "code",
      "execution_count": 57,
      "metadata": {},
      "outputs": [],
      "source": [
        "loss.backward()"
      ],
      "id": "4d0bd582-9cae-4320-af28-48986e94eb2d"
    },
    {
      "cell_type": "markdown",
      "metadata": {},
      "source": [
        "(미분후)"
      ],
      "id": "0fc658e6-aaff-4330-8701-a10bb64329f2"
    },
    {
      "cell_type": "code",
      "execution_count": 58,
      "metadata": {},
      "outputs": [],
      "source": [
        "net.bias,net.weight"
      ],
      "id": "18a4b740-415d-4809-9799-f0195c302231"
    },
    {
      "cell_type": "code",
      "execution_count": 59,
      "metadata": {},
      "outputs": [],
      "source": [
        "net.bias.grad,net.weight.grad"
      ],
      "id": "da5fc2da-5b13-4445-a2f5-b231f1386826"
    },
    {
      "cell_type": "markdown",
      "metadata": {},
      "source": [
        "`-` step4\n",
        "\n",
        "(업데이트전)"
      ],
      "id": "8baabd29-bb9e-41b7-b124-aaf0081c2934"
    },
    {
      "cell_type": "code",
      "execution_count": 60,
      "metadata": {},
      "outputs": [],
      "source": [
        "net.bias,net.weight"
      ],
      "id": "f0d3ceb4-8c2e-4143-a7d3-8158e3fb49aa"
    },
    {
      "cell_type": "code",
      "execution_count": 61,
      "metadata": {},
      "outputs": [],
      "source": [
        "net.bias.grad, net.weight.grad"
      ],
      "id": "3541f19d-a664-48e9-a996-2b60d9c11fe5"
    },
    {
      "cell_type": "markdown",
      "metadata": {},
      "source": [
        "(업데이트)"
      ],
      "id": "18ec4057-7b9b-4e2c-9248-025a8cb11d0e"
    },
    {
      "cell_type": "code",
      "execution_count": 62,
      "metadata": {},
      "outputs": [],
      "source": [
        "net.bias.data = net.bias.data - 0.1*net.bias.grad \n",
        "net.weight.data = net.weight.data - 0.1*net.weight.grad "
      ],
      "id": "0010a470-db42-4c54-831e-83fc0ed7d6f9"
    },
    {
      "cell_type": "code",
      "execution_count": 63,
      "metadata": {},
      "outputs": [],
      "source": [
        "net.bias.grad = None \n",
        "net.weight.grad = None "
      ],
      "id": "e487a590-fe15-494d-ba60-7e6d3e1beeef"
    },
    {
      "cell_type": "markdown",
      "metadata": {},
      "source": [
        "(업데이트후)"
      ],
      "id": "c66551b3-b81e-4a0b-bd4c-290a9751ac49"
    },
    {
      "cell_type": "code",
      "execution_count": 64,
      "metadata": {},
      "outputs": [],
      "source": [
        "net.bias,net.weight"
      ],
      "id": "901f64b3-487e-4823-8b0e-87f0f0b9dfea"
    },
    {
      "cell_type": "code",
      "execution_count": 65,
      "metadata": {},
      "outputs": [],
      "source": [
        "net.bias.grad, net.weight.grad"
      ],
      "id": "dede4e89-95e1-4f12-b3f7-fa9f47eba6fc"
    },
    {
      "cell_type": "markdown",
      "metadata": {},
      "source": [
        "`-` 반복"
      ],
      "id": "46b1ff42-6173-4dca-a3f6-2cdab848e053"
    },
    {
      "cell_type": "code",
      "execution_count": 66,
      "metadata": {},
      "outputs": [],
      "source": [
        "for epoc in range(30):\n",
        "    yhat = net(x) \n",
        "    loss = torch.mean((y-yhat)**2)\n",
        "    loss.backward()\n",
        "    net.weight.data = net.weight.data - 0.1*net.weight.grad\n",
        "    net.bias.data = net.bias.data - 0.1*net.bias.grad\n",
        "    net.weight.grad = None\n",
        "    net.bias.grad = None"
      ],
      "id": "83ae6dd3-67ae-4968-a7a8-555464b94aa0"
    },
    {
      "cell_type": "code",
      "execution_count": 67,
      "metadata": {},
      "outputs": [
        {
          "output_type": "display_data",
          "metadata": {},
          "data": {
            "image/png": "[encoded data removed]"
          }
        }
      ],
      "source": [
        "plt.plot(x,y,'o')\n",
        "plt.plot(x,net(x).data,'--')"
      ],
      "id": "5fdd0c43-9708-4b46-95d0-fa6bf715f2cf"
    },
    {
      "cell_type": "markdown",
      "metadata": {},
      "source": [
        "## ver2: net = torch.nn.Linear(2,1,bias=False)\n",
        "\n",
        "`-` 준비"
      ],
      "id": "8e0c040f-51ef-4243-90ed-d120c94c6586"
    },
    {
      "cell_type": "code",
      "execution_count": 81,
      "metadata": {},
      "outputs": [],
      "source": [
        "net = torch.nn.Linear(2,1,bias=False)\n",
        "net.weight.data = torch.tensor([[-5.0, 10.0]])"
      ],
      "id": "12f784f1-4c0a-4cfa-b1c5-49794909237c"
    },
    {
      "cell_type": "markdown",
      "metadata": {},
      "source": [
        "`-` step1"
      ],
      "id": "2c39d650-6bab-48d5-95d5-3385ca083c82"
    },
    {
      "cell_type": "code",
      "execution_count": 82,
      "metadata": {},
      "outputs": [],
      "source": [
        "yhat = net(X)"
      ],
      "id": "b04468e5-2a59-4d0e-bd94-c23986215a6f"
    },
    {
      "cell_type": "markdown",
      "metadata": {},
      "source": [
        "`-` step2"
      ],
      "id": "c43461c3-0333-43a0-86e4-dc4241eb5064"
    },
    {
      "cell_type": "code",
      "execution_count": 83,
      "metadata": {},
      "outputs": [],
      "source": [
        "loss = torch.mean((y-yhat)**2)"
      ],
      "id": "584e945b-e7e1-405f-bdbc-cb477b69d03b"
    },
    {
      "cell_type": "markdown",
      "metadata": {},
      "source": [
        "`-` step3\n",
        "\n",
        "(미분전)"
      ],
      "id": "c68fd767-25b5-4dfd-aa09-968b0edb8fb9"
    },
    {
      "cell_type": "code",
      "execution_count": 84,
      "metadata": {},
      "outputs": [],
      "source": [
        "net.weight"
      ],
      "id": "49909fc4-a5ad-44c4-9d19-ac31d98ab2bf"
    },
    {
      "cell_type": "code",
      "execution_count": 85,
      "metadata": {},
      "outputs": [],
      "source": [
        "net.weight.grad"
      ],
      "id": "0a5626b5-fd27-4272-b72f-fe8cc0ad5815"
    },
    {
      "cell_type": "markdown",
      "metadata": {},
      "source": [
        "(미분)"
      ],
      "id": "0b482a75-49e2-4c1a-bf79-eba5a59afa9c"
    },
    {
      "cell_type": "code",
      "execution_count": 86,
      "metadata": {},
      "outputs": [],
      "source": [
        "loss.backward()"
      ],
      "id": "b6477313-38b4-47be-bcc9-db61f0550c3a"
    },
    {
      "cell_type": "markdown",
      "metadata": {},
      "source": [
        "(미분후)"
      ],
      "id": "67666129-36b5-4270-9bd6-8fbb02322432"
    },
    {
      "cell_type": "code",
      "execution_count": 87,
      "metadata": {},
      "outputs": [],
      "source": [
        "net.weight"
      ],
      "id": "978c6171-c323-48ac-8580-49cae23a8d90"
    },
    {
      "cell_type": "code",
      "execution_count": 88,
      "metadata": {},
      "outputs": [],
      "source": [
        "net.weight.grad"
      ],
      "id": "19b13d91-6848-462c-a711-4fee9da02c56"
    },
    {
      "cell_type": "markdown",
      "metadata": {},
      "source": [
        "`-` step4\n",
        "\n",
        "(업데이트전)"
      ],
      "id": "b84acacb-ce24-49d2-8cc5-6d79310eeba8"
    },
    {
      "cell_type": "code",
      "execution_count": 89,
      "metadata": {},
      "outputs": [],
      "source": [
        "net.weight"
      ],
      "id": "fb2b54b6-5de4-4528-9009-b2e25e1c5536"
    },
    {
      "cell_type": "code",
      "execution_count": 90,
      "metadata": {},
      "outputs": [],
      "source": [
        "net.weight.grad"
      ],
      "id": "12e940f9-51e3-4b51-9a43-346b4687bdb7"
    },
    {
      "cell_type": "markdown",
      "metadata": {},
      "source": [
        "(업데이트)"
      ],
      "id": "98081851-fc08-4b2e-9a82-2a503227330e"
    },
    {
      "cell_type": "code",
      "execution_count": 91,
      "metadata": {},
      "outputs": [],
      "source": [
        "net.weight.data = net.weight.data - 0.1*net.weight.grad"
      ],
      "id": "220efc9a-a083-45a9-9ffe-7aa6fd73f1c3"
    },
    {
      "cell_type": "code",
      "execution_count": 92,
      "metadata": {},
      "outputs": [],
      "source": [
        "net.weight.grad = None"
      ],
      "id": "fd2585be-a0e7-4d59-bb3e-28659df74f3d"
    },
    {
      "cell_type": "markdown",
      "metadata": {},
      "source": [
        "(업데이트후)"
      ],
      "id": "c957e2af-0769-43ee-9044-c6db4e02ef93"
    },
    {
      "cell_type": "code",
      "execution_count": 93,
      "metadata": {},
      "outputs": [],
      "source": [
        "net.weight"
      ],
      "id": "3082f509-2bbb-4bff-b226-7e1cbd91403e"
    },
    {
      "cell_type": "code",
      "execution_count": 94,
      "metadata": {},
      "outputs": [],
      "source": [
        "net.weight.grad"
      ],
      "id": "6e7a3f82-758a-4ac4-9aca-224e07ca70ec"
    },
    {
      "cell_type": "markdown",
      "metadata": {},
      "source": [
        "`-` 반복"
      ],
      "id": "6af0ba97-185f-4950-9023-ef7078a00c22"
    },
    {
      "cell_type": "code",
      "execution_count": 98,
      "metadata": {},
      "outputs": [],
      "source": [
        "net = torch.nn.Linear(2,1,bias=False)\n",
        "net.weight.data = torch.tensor([[-5.0, 10.0]])"
      ],
      "id": "74a7bafb-32ce-4fc9-b74b-7390600eece0"
    },
    {
      "cell_type": "code",
      "execution_count": 99,
      "metadata": {},
      "outputs": [
        {
          "output_type": "display_data",
          "metadata": {},
          "data": {
            "image/png": "[encoded data removed]"
          }
        }
      ],
      "source": [
        "plt.plot(x,y,'o')\n",
        "plt.plot(x,net(X).data,'--')"
      ],
      "id": "8b196c02-ad0b-40a0-aa2e-85b9087c68ee"
    },
    {
      "cell_type": "code",
      "execution_count": 100,
      "metadata": {},
      "outputs": [],
      "source": [
        "for epoc in range(30):\n",
        "    yhat = net(X) \n",
        "    loss = torch.mean((y-yhat)**2)\n",
        "    loss.backward()\n",
        "    net.weight.data = net.weight.data - 0.1*net.weight.grad\n",
        "    net.weight.grad = None"
      ],
      "id": "d03f18a5-c1e5-436b-abb9-3caee27a6eff"
    },
    {
      "cell_type": "code",
      "execution_count": 101,
      "metadata": {},
      "outputs": [
        {
          "output_type": "display_data",
          "metadata": {},
          "data": {
            "image/png": "[encoded data removed]"
          }
        }
      ],
      "source": [
        "plt.plot(x,y,'o')\n",
        "plt.plot(x,net(X).data,'--')"
      ],
      "id": "3d5123dc-a13c-4667-b852-a7e6bf9144c8"
    },
    {
      "cell_type": "markdown",
      "metadata": {},
      "source": [
        "# step4의 다른버전: 옵티마이저!\n",
        "\n",
        "## ver1: net = torch.nn.Linear(1,1,bias=True)\n",
        "\n",
        "`-` 준비"
      ],
      "id": "a557fdc3-3515-4f1c-b471-58d29fe068bb"
    },
    {
      "cell_type": "code",
      "execution_count": 113,
      "metadata": {},
      "outputs": [],
      "source": [
        "net = torch.nn.Linear(1,1) \n",
        "net.weight.data = torch.tensor([[10.0]]) \n",
        "net.bias.data = torch.tensor([[-5.0]]) "
      ],
      "id": "685cdb80-9a81-414b-a5ff-aa3716e927f3"
    },
    {
      "cell_type": "code",
      "execution_count": 114,
      "metadata": {},
      "outputs": [],
      "source": [
        "optimizr = torch.optim.SGD(net.parameters(),lr=1/10) "
      ],
      "id": "ca9efa25-53cd-4c75-958a-cf3545d79e57"
    },
    {
      "cell_type": "markdown",
      "metadata": {},
      "source": [
        "`-` step1~3"
      ],
      "id": "2a935da2-cd34-43ad-b6a9-01c8bd7ff5d1"
    },
    {
      "cell_type": "code",
      "execution_count": 115,
      "metadata": {},
      "outputs": [],
      "source": [
        "yhat = net(x)     "
      ],
      "id": "7299d901-8442-4cea-be7f-70e0bc501b21"
    },
    {
      "cell_type": "code",
      "execution_count": 116,
      "metadata": {},
      "outputs": [],
      "source": [
        "loss = torch.mean((y-yhat)**2) "
      ],
      "id": "8ef5120c-74e7-45d5-afef-817ebba01520"
    },
    {
      "cell_type": "code",
      "execution_count": 117,
      "metadata": {},
      "outputs": [],
      "source": [
        "loss.backward() "
      ],
      "id": "4fed5c93-ddd4-4773-9719-2fd97869b3f2"
    },
    {
      "cell_type": "markdown",
      "metadata": {},
      "source": [
        "`-` step4\n",
        "\n",
        "(update 전)"
      ],
      "id": "b1bb193e-c6a6-40eb-b001-e2f57c004448"
    },
    {
      "cell_type": "code",
      "execution_count": 118,
      "metadata": {},
      "outputs": [],
      "source": [
        "net.weight.data, net.bias.data ## 값은 업데이트 전"
      ],
      "id": "d1b99f08-2657-44d2-9d4e-ac4e03c7c526"
    },
    {
      "cell_type": "code",
      "execution_count": 119,
      "metadata": {},
      "outputs": [],
      "source": [
        "net.weight.grad, net.bias.grad ## 미분값은 청소전 "
      ],
      "id": "000289cf-526c-4af3-b4f2-2ea19d10dd37"
    },
    {
      "cell_type": "markdown",
      "metadata": {},
      "source": [
        "(update)"
      ],
      "id": "8dce0fe3-6af9-47e0-9356-c132655caea0"
    },
    {
      "cell_type": "code",
      "execution_count": 120,
      "metadata": {},
      "outputs": [],
      "source": [
        "optimizr.step() \n",
        "optimizr.zero_grad() "
      ],
      "id": "4494cfe1-2df0-4a48-b09e-206e710e5dd1"
    },
    {
      "cell_type": "markdown",
      "metadata": {},
      "source": [
        "(update 후)"
      ],
      "id": "eb067fff-9bf9-4a32-859a-7f6fa2e9b42f"
    },
    {
      "cell_type": "code",
      "execution_count": 121,
      "metadata": {},
      "outputs": [],
      "source": [
        "net.weight.data, net.bias.data ## 값은 업데이트 되었음 "
      ],
      "id": "ae56cc7b-107a-4722-8879-cae65eb8a3ba"
    },
    {
      "cell_type": "code",
      "execution_count": 122,
      "metadata": {},
      "outputs": [],
      "source": [
        "net.weight.grad, net.bias.grad ## 미분값은 0으로 초기화하였음 "
      ],
      "id": "8315a79e-f1cd-41ca-932b-1e8cf1d1210f"
    },
    {
      "cell_type": "markdown",
      "metadata": {},
      "source": [
        "`-` 반복"
      ],
      "id": "07d3fc26-0e2d-425a-9bee-b369443472ff"
    },
    {
      "cell_type": "code",
      "execution_count": 123,
      "metadata": {},
      "outputs": [],
      "source": [
        "net = torch.nn.Linear(1,1) \n",
        "net.weight.data = torch.tensor([[10.0]])\n",
        "net.bias.data = torch.tensor([-5.0])\n",
        "optimizr = torch.optim.SGD(net.parameters(),lr=1/10) "
      ],
      "id": "e76d545f-b357-4c58-943a-dfd79eb27ae9"
    },
    {
      "cell_type": "code",
      "execution_count": 124,
      "metadata": {},
      "outputs": [],
      "source": [
        "for epoc in range(30): \n",
        "    yhat = net(x)\n",
        "    loss = torch.mean((y-yhat)**2) \n",
        "    loss.backward() \n",
        "    optimizr.step(); optimizr.zero_grad() "
      ],
      "id": "599fa01c-e044-4d7f-be88-e1fa1bd62049"
    },
    {
      "cell_type": "code",
      "execution_count": 125,
      "metadata": {},
      "outputs": [
        {
          "output_type": "display_data",
          "metadata": {},
          "data": {
            "image/png": "[encoded data removed]"
          }
        }
      ],
      "source": [
        "plt.plot(x,y,'o')\n",
        "plt.plot(x,net(x).data,'--')"
      ],
      "id": "a2858eae-e8bc-47d1-a5ce-638416b411cc"
    },
    {
      "cell_type": "markdown",
      "metadata": {},
      "source": [
        "## ver2: net = torch.nn.Linear(2,1,bias=False)\n",
        "\n",
        "`-` 바로 반복하겠습니다.."
      ],
      "id": "a097173c-febc-4945-80c1-ba05b481b593"
    },
    {
      "cell_type": "code",
      "execution_count": 126,
      "metadata": {},
      "outputs": [],
      "source": [
        "net = torch.nn.Linear(2,1,bias=False) \n",
        "net.weight.data = torch.tensor([[-5.0, 10.0]])\n",
        "optimizr = torch.optim.SGD(net.parameters(),lr=1/10) "
      ],
      "id": "fa46a27f-77fb-4abe-9a7a-590251ca42e9"
    },
    {
      "cell_type": "code",
      "execution_count": 127,
      "metadata": {},
      "outputs": [],
      "source": [
        "for epoc in range(30): \n",
        "    yhat = net(X)\n",
        "    loss = torch.mean((y-yhat)**2) \n",
        "    loss.backward() \n",
        "    optimizr.step(); optimizr.zero_grad() "
      ],
      "id": "f6bf419b-7ee8-4434-a1c3-4fa123a46900"
    },
    {
      "cell_type": "code",
      "execution_count": 128,
      "metadata": {},
      "outputs": [
        {
          "output_type": "display_data",
          "metadata": {},
          "data": {
            "image/png": "[encoded data removed]"
          }
        }
      ],
      "source": [
        "plt.plot(x,y,'o')\n",
        "plt.plot(x,net(X).data,'--')"
      ],
      "id": "46575ad9-9590-4559-a71e-2b53f83eaada"
    },
    {
      "cell_type": "markdown",
      "metadata": {},
      "source": [
        "------------------------------------------------------------------------\n",
        "\n",
        "# Appendix: `net.parameters()`의 의미? (선택학습)\n",
        "\n",
        "`-` iterator, generator의 개념필요\n",
        "\n",
        "-   <https://guebin.github.io/IP2022/2022/06/06/(14주차)-6월6일.html>,\n",
        "    클래스공부 8단계 참고\n",
        "\n",
        "`-` 탐구시작: 네트워크 생성"
      ],
      "id": "898e7568-88d1-4d81-8941-da94fcaae911"
    },
    {
      "cell_type": "code",
      "execution_count": 129,
      "metadata": {},
      "outputs": [],
      "source": [
        "net = torch.nn.Linear(in_features=1,out_features=1)\n",
        "net.weight"
      ],
      "id": "423d09db-8177-4994-b219-59a69a595906"
    },
    {
      "cell_type": "code",
      "execution_count": 130,
      "metadata": {},
      "outputs": [],
      "source": [
        "net.bias"
      ],
      "id": "a097b1d7-f508-4264-83fb-6b7180f08dc0"
    },
    {
      "cell_type": "markdown",
      "metadata": {},
      "source": [
        "`-` torch.optim.SGD? 를 확인하면 params에 대한설명에 아래와 같이\n",
        "되어있음\n",
        "\n",
        "    params (iterable): iterable of parameters to optimize or dicts defining\n",
        "            parameter groups\n",
        "\n",
        "`-` 설명을 읽어보면 params에 iterable object를 넣으라고 되어있음\n",
        "(iterable object는 숨겨진 명령어로 `__iter__`를 가지고 있는 오브젝트를\n",
        "의미)"
      ],
      "id": "c43ce0ca-2ff0-4a28-9d47-51d11bce8b04"
    },
    {
      "cell_type": "code",
      "execution_count": 131,
      "metadata": {},
      "outputs": [],
      "source": [
        "set(dir(net.parameters)) & {'__iter__'}"
      ],
      "id": "4d41b19f-642b-4f04-80e9-caed040804f2"
    },
    {
      "cell_type": "code",
      "execution_count": 132,
      "metadata": {},
      "outputs": [],
      "source": [
        "set(dir(net.parameters())) & {'__iter__'}"
      ],
      "id": "61c33a1b-eb7c-4272-9006-c071152ca3a2"
    },
    {
      "cell_type": "markdown",
      "metadata": {},
      "source": [
        "`-` 무슨의미?"
      ],
      "id": "f72a8f48-aa27-45f1-af61-c90ca16e6ee6"
    },
    {
      "cell_type": "code",
      "execution_count": 133,
      "metadata": {},
      "outputs": [],
      "source": [
        "_generator = net.parameters()"
      ],
      "id": "9a34b213-524d-464a-ab54-229e30f98c71"
    },
    {
      "cell_type": "code",
      "execution_count": 134,
      "metadata": {},
      "outputs": [],
      "source": [
        "_generator.__next__()"
      ],
      "id": "121a706b-d18c-4697-ba98-eb1f3df74634"
    },
    {
      "cell_type": "code",
      "execution_count": 135,
      "metadata": {},
      "outputs": [],
      "source": [
        "_generator.__next__()"
      ],
      "id": "ebebe1c3-8497-45df-8fdd-29b1c8e3b512"
    },
    {
      "cell_type": "code",
      "execution_count": 136,
      "metadata": {},
      "outputs": [],
      "source": [
        "_generator.__next__()"
      ],
      "id": "0af61910-e9bc-4628-bdd0-b4bf5905ba1c"
    },
    {
      "cell_type": "markdown",
      "metadata": {},
      "source": [
        "`-` 이건 이런느낌인데?"
      ],
      "id": "987b3ff7-fe4d-49a7-93ac-b8e3a196272c"
    },
    {
      "cell_type": "code",
      "execution_count": 137,
      "metadata": {},
      "outputs": [],
      "source": [
        "_generator2 = iter([net.weight,net.bias])"
      ],
      "id": "53a7a46d-9dc0-4625-aded-a797a1022207"
    },
    {
      "cell_type": "code",
      "execution_count": 138,
      "metadata": {},
      "outputs": [],
      "source": [
        "_generator2"
      ],
      "id": "d50b9a8f-ab64-4461-a8de-dae1024a0676"
    },
    {
      "cell_type": "code",
      "execution_count": 139,
      "metadata": {},
      "outputs": [],
      "source": [
        "_generator2.__next__()"
      ],
      "id": "ac67e0e0-bc1f-4204-abb1-0294b0bc780c"
    },
    {
      "cell_type": "code",
      "execution_count": 140,
      "metadata": {},
      "outputs": [],
      "source": [
        "_generator2.__next__()"
      ],
      "id": "2e684a49-6f19-4bb9-9474-8229cc3d3c05"
    },
    {
      "cell_type": "code",
      "execution_count": 141,
      "metadata": {},
      "outputs": [],
      "source": [
        "_generator2.__next__()"
      ],
      "id": "de2aa287-a9a9-498e-8c09-e8cce510fca0"
    },
    {
      "cell_type": "markdown",
      "metadata": {},
      "source": [
        "`-` 즉 아래는 같은코드이다.\n",
        "\n",
        "``` python\n",
        "### 코드1\n",
        "_generator = net.parameters() \n",
        "torch.optim.SGD(_generator,lr=1/10) \n",
        "### 코드2\n",
        "_generator = iter([net.weight,net.bias])\n",
        "torch.optim.SGD(_generator,lr=1/10) \n",
        "### 코드3 (이렇게 써도 코드2가 실행된다고 이해할 수 있음)\n",
        "_iterator = [net.weight,net.bias]\n",
        "torch.optim.SGD(_iterator,lr=1/10) \n",
        "```\n",
        "\n",
        "결론: `net.parameters()`는 net오브젝트에서 학습할 파라메터를 모두 모아\n",
        "리스트(iterable object)로 만드는 함수라 이해할 수 있다.\n",
        "\n",
        "`-` 응용예제1"
      ],
      "id": "1c77d216-e49e-4f16-841a-f0952f214be1"
    },
    {
      "cell_type": "code",
      "execution_count": 142,
      "metadata": {},
      "outputs": [],
      "source": [
        "What = torch.tensor([[-5.0],[10.0]],requires_grad=True)\n",
        "optimizr = torch.optim.SGD([What],lr=1/10) "
      ],
      "id": "2cf58ba7-604a-422a-a352-068435212e66"
    },
    {
      "cell_type": "code",
      "execution_count": 143,
      "metadata": {},
      "outputs": [
        {
          "output_type": "display_data",
          "metadata": {},
          "data": {
            "image/png": "[encoded data removed]"
          }
        }
      ],
      "source": [
        "plt.plot(x,y,'o')\n",
        "plt.plot(x,(X@What).data,'--')"
      ],
      "id": "0e62b2ae-6f3c-4b77-a2c8-8360a0b95e43"
    },
    {
      "cell_type": "code",
      "execution_count": 144,
      "metadata": {},
      "outputs": [],
      "source": [
        "for epoc in range(30):\n",
        "    yhat = X@What \n",
        "    loss = torch.mean((y-yhat)**2)\n",
        "    loss.backward()\n",
        "    optimizr.step();optimizr.zero_grad() "
      ],
      "id": "2cfc141d-c559-41cd-b685-853829212879"
    },
    {
      "cell_type": "code",
      "execution_count": 145,
      "metadata": {},
      "outputs": [
        {
          "output_type": "display_data",
          "metadata": {},
          "data": {
            "image/png": "[encoded data removed]"
          }
        }
      ],
      "source": [
        "plt.plot(x,y,'o')\n",
        "plt.plot(x,(X@What).data,'--')"
      ],
      "id": "beb20632-1f16-4b53-b20a-19d8054957ba"
    },
    {
      "cell_type": "markdown",
      "metadata": {},
      "source": [
        "`-` 응용예제2"
      ],
      "id": "d3913346-d85a-4c82-adfd-62e85661f52c"
    },
    {
      "cell_type": "code",
      "execution_count": 146,
      "metadata": {},
      "outputs": [],
      "source": [
        "b = torch.tensor(-5.0,requires_grad=True)\n",
        "w = torch.tensor(10.0,requires_grad=True)\n",
        "optimizr = torch.optim.SGD([b,w],lr=1/10)"
      ],
      "id": "f1900319-c737-4a5d-9581-e423ed690923"
    },
    {
      "cell_type": "code",
      "execution_count": 147,
      "metadata": {},
      "outputs": [
        {
          "output_type": "display_data",
          "metadata": {},
          "data": {
            "image/png": "[encoded data removed]"
          }
        }
      ],
      "source": [
        "plt.plot(x,y,'o')\n",
        "plt.plot(x,(w*x+b).data,'--')"
      ],
      "id": "b4931b51-c48e-4242-8306-06099ea5615b"
    },
    {
      "cell_type": "code",
      "execution_count": 148,
      "metadata": {},
      "outputs": [],
      "source": [
        "for epoc in range(30):\n",
        "    yhat = b+ w*x \n",
        "    loss = torch.mean((y-yhat)**2)\n",
        "    loss.backward()\n",
        "    optimizr.step(); optimizr.zero_grad()"
      ],
      "id": "e0e57bac-f53a-4260-9355-16384ca20ae5"
    },
    {
      "cell_type": "code",
      "execution_count": 149,
      "metadata": {},
      "outputs": [
        {
          "output_type": "display_data",
          "metadata": {},
          "data": {
            "image/png": "[encoded data removed]"
          }
        }
      ],
      "source": [
        "plt.plot(x,y,'o')\n",
        "plt.plot(x,(w*x+b).data,'--')"
      ],
      "id": "95a66051-2ba2-499b-9fa4-0ba96378eee1"
    },
    {
      "cell_type": "markdown",
      "metadata": {},
      "source": [
        "# Logistic regression\n",
        "\n",
        "## motive\n",
        "\n",
        "`-` 현실에서 이런 경우가 많음\n",
        "\n",
        "-   $x$가 커질수록 (혹은 작아질수록) 성공확률이 증가함.\n",
        "\n",
        "`-` (X,y)는 어떤모양?"
      ],
      "id": "e09616b6-68ab-4c85-85d0-e2e5827295f3"
    },
    {
      "cell_type": "code",
      "execution_count": 249,
      "metadata": {},
      "outputs": [],
      "source": [
        "_df = pd.DataFrame({'x':range(-6,7),'y':[0,0,0,0,0,0,1,0,1,1,1,1,1]})\n",
        "_df "
      ],
      "id": "dce6ff9d-88f3-4a72-be79-e27f874c48f4"
    },
    {
      "cell_type": "code",
      "execution_count": 250,
      "metadata": {},
      "outputs": [
        {
          "output_type": "display_data",
          "metadata": {},
          "data": {
            "image/png": "[encoded data removed]"
          }
        }
      ],
      "source": [
        "plt.plot(_df.x,_df.y,'o')"
      ],
      "id": "9bd41d74-8923-4cae-ab5e-8a61adf3b50e"
    },
    {
      "cell_type": "markdown",
      "metadata": {},
      "source": [
        "`-` (예비학습) 시그모이드라는 함수가 있음"
      ],
      "id": "3ff509b9-c525-4aad-8d2c-b854d1c1e0ab"
    },
    {
      "cell_type": "code",
      "execution_count": 251,
      "metadata": {},
      "outputs": [],
      "source": [
        "xx = torch.linspace(-6,6,100)\n",
        "def f(x):\n",
        "    return torch.exp(x)/(1+torch.exp(x))"
      ],
      "id": "7f7b68e7-28c9-4ac5-8476-527d2c634518"
    },
    {
      "cell_type": "code",
      "execution_count": 258,
      "metadata": {},
      "outputs": [
        {
          "output_type": "display_data",
          "metadata": {},
          "data": {
            "image/png": "[encoded data removed]"
          }
        }
      ],
      "source": [
        "plt.plot(_df.x,_df.y,'o')\n",
        "plt.plot(xx,f(xx))"
      ],
      "id": "1da1e7a8-5591-43ce-a179-f7b6bfd4ad56"
    },
    {
      "cell_type": "markdown",
      "metadata": {},
      "source": [
        "## model\n",
        "\n",
        "`-` $x$가 커질수록 $y=1$이 잘나오는 모형은 아래와 같이 설계할 수 있음\n",
        "\\<— 외우세요!!!\n",
        "\n",
        "-   $y_i \\sim Ber(\\pi_i),\\quad$ where\n",
        "    $\\pi_i = \\frac{\\exp(w_0+w_1x_i)}{1+\\exp(w_0+w_1x_i)}$\n",
        "\n",
        "-   $\\hat{y}_i= \\frac{\\exp(\\hat{w}_0+\\hat{w}_1x_i)}{1+\\exp(\\hat{w}_0+\\hat{w}_1x_i)}=\\frac{1}{1+\\exp(-\\hat{w}_0-\\hat{w}_1x_i)}$\n",
        "\n",
        "-   $loss= - \\sum_{i=1}^{n} \\big(y_i\\log(\\hat{y}_i)+(1-y_i)\\log(1-\\hat{y}_i)\\big)$\n",
        "    \\<— 외우세요!!\n",
        "\n",
        "## toy example\n",
        "\n",
        "`-` 예제시작"
      ],
      "id": "3bbeea5a-230d-4c8d-ae60-787f38a3fe8f"
    },
    {
      "cell_type": "code",
      "execution_count": 271,
      "metadata": {},
      "outputs": [],
      "source": [
        "x=torch.linspace(-1,1,2000).reshape(2000,1)\n",
        "w0= -1 \n",
        "w1= 5 \n",
        "u = w0+x*w1 \n",
        "v = torch.exp(u)/(1+torch.exp(u)) # v=πi, 즉 확률을 의미함\n",
        "y = torch.bernoulli(v) "
      ],
      "id": "f63b7e9c-1a17-4d62-b629-f3d71ce392e0"
    },
    {
      "cell_type": "code",
      "execution_count": 272,
      "metadata": {},
      "outputs": [
        {
          "output_type": "display_data",
          "metadata": {},
          "data": {
            "image/png": "[encoded data removed]"
          }
        }
      ],
      "source": [
        "plt.scatter(x,y,alpha=0.05)\n",
        "plt.plot(x,v,'--r')"
      ],
      "id": "c5fb2121-3d2c-4be0-a3d9-255fba0b4877"
    },
    {
      "cell_type": "markdown",
      "metadata": {},
      "source": [
        "-   우리의 목적: $x$가 들어가면 빨간선 $\\hat{y}$의 값을 만들어주는\n",
        "    mapping을 학습해보자."
      ],
      "id": "9ee47c40-d449-4bb2-85c4-9b4ce1d1f376"
    }
  ],
  "nbformat": 4,
  "nbformat_minor": 5,
  "metadata": {
    "kernelspec": {
      "name": "python3",
      "display_name": "Python 3",
      "language": "python"
    },
    "language_info": {
      "name": "python",
      "codemirror_mode": {
        "name": "ipython",
        "version": "3"
      },
      "file_extension": ".py",
      "mimetype": "text/x-python",
      "nbconvert_exporter": "python",
      "pygments_lexer": "ipython3",
      "version": "3.7.15"
    }
  }
}