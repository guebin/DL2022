{
 "cells": [
  {
   "cell_type": "raw",
   "id": "53fa8846-5b53-4db0-b797-4616a4714518",
   "metadata": {},
   "source": [
    "---\n",
    "title: \"final\"\n",
    "author: \"최규빈\"\n",
    "date: \"11/29/2022\"\n",
    "---"
   ]
  },
  {
   "cell_type": "markdown",
   "id": "6af1e16f-c841-40df-92a5-23928614cb21",
   "metadata": {},
   "source": [
    "> 기말고사"
   ]
  },
  {
   "cell_type": "code",
   "execution_count": 19,
   "id": "8896a7ce-2d1c-4798-8d16-6a4c5a4882b9",
   "metadata": {},
   "outputs": [],
   "source": [
    "import torch \n",
    "import matplotlib.pyplot as plt"
   ]
  },
  {
   "cell_type": "markdown",
   "id": "5212937f-5461-482a-b9d8-44efcd0b26f2",
   "metadata": {},
   "source": [
    "## `1`. hihello (90점)"
   ]
  },
  {
   "cell_type": "markdown",
   "id": "fce4d5e6-f8db-474e-b2f4-8244e71a77b0",
   "metadata": {},
   "source": [
    "아래와 같은 데이터가 있다고 하자. "
   ]
  },
  {
   "cell_type": "code",
   "execution_count": 14,
   "id": "1817c75a-7f4e-419f-8a72-543256d84874",
   "metadata": {},
   "outputs": [],
   "source": [
    "txt = list('hi?hello!!')*100 \n",
    "txt_x = txt[:-1]\n",
    "txt_y = txt[1:]"
   ]
  },
  {
   "cell_type": "code",
   "execution_count": 15,
   "id": "60545cc1-2afe-42a7-b8a3-a0fc305bd4f3",
   "metadata": {},
   "outputs": [
    {
     "data": {
      "text/plain": [
       "(['h', 'i', '?', 'h', 'e'], ['i', '?', 'h', 'e', 'l'])"
      ]
     },
     "execution_count": 15,
     "metadata": {},
     "output_type": "execute_result"
    }
   ],
   "source": [
    "txt_x[:5], txt_y[:5]"
   ]
  },
  {
   "cell_type": "markdown",
   "id": "c3428bfd-4d0f-41a6-97aa-ba01d2e632b5",
   "metadata": {},
   "source": [
    "`txt_x`와 `txt_y`를 이용하여 아래와 같은 순서로 다음문자를 예측하고 싶은 신경망을 설계하고 싶다."
   ]
  },
  {
   "cell_type": "markdown",
   "id": "80f5c7f6-0ab9-45c5-ba35-401524829767",
   "metadata": {},
   "source": [
    "`h` $\\to$ `i` $\\to$ `?` $\\to$ `h` $\\to$ `e` $\\to$ `l` $\\to$ `l` $\\to$ `o` $\\to$ `!` $\\to$ `!` $\\to$ `h` $\\to$ $\\dots$"
   ]
  },
  {
   "cell_type": "markdown",
   "id": "94be631d-82b5-4551-be02-64ddc8308c14",
   "metadata": {},
   "source": [
    "`(1)` `torch.nn.RNN()`을 이용하여 다음문자를 예측하는 신경망을 설계하고 학습하라. "
   ]
  },
  {
   "cell_type": "markdown",
   "id": "0189376a-ffa3-4fb4-bd9d-c98f47069665",
   "metadata": {},
   "source": [
    "`(2)` `torch.nn.RNNCell()`을 이용하여 다음문자를 예측하는 신경망을 설계하고 학습하라. "
   ]
  },
  {
   "cell_type": "markdown",
   "id": "a7774c75-3a0d-4a11-b185-2d3acc4ad2ac",
   "metadata": {},
   "source": [
    "`(3)` `torch.nn.Module`을 상속받은 클래스를 정의하고 (2)의 결과와 동일한 적합값이 나오는 신경망을 설계한 뒤 학습하라. (초기값을 적절하게 설정할 것) \n",
    "\n",
    "- class를 이용하지 않으면 점수없음. \n",
    "- torch.nn.RNN(), torch.nn.RNNCell() 을 이용한 네트워크를 학습시킬시 점수 없음. (초기값을 셋팅하는 용도로는 torch.nn.RNN(), torch.nn.RNNCell()을 코드에 포함시키는 것이 가능) "
   ]
  },
  {
   "cell_type": "markdown",
   "id": "d17d4639-eb8c-4cf7-ab21-dc752ff2833f",
   "metadata": {},
   "source": [
    "`(4)` `torch.nn.LSTM()`을 이용하여 다음문자를 예측하는 신경망을 설계하고 학습하라. "
   ]
  },
  {
   "cell_type": "markdown",
   "id": "8e864ded-8ecb-467b-a335-bc85da67900e",
   "metadata": {},
   "source": [
    "`(5)` `torch.nn.LSTMCell()`을 이용하여 다음문자를 예측하는 신경망을 설계하고 학습하라. "
   ]
  },
  {
   "cell_type": "markdown",
   "id": "dfd1fef3-ab36-4547-bb00-49f3a8d7f8c6",
   "metadata": {},
   "source": [
    "`(6)` (5)의 결과와 동일한 적합값을 출력하는 직접설계한 뒤 학습시켜라. (초기값을 적절하게 설정할 것) \n",
    "\n",
    "- class를 이용하지 않아도 무방함. \n",
    "- torch.nn.LSTM(), torch.nn.LSTMCell() 을 이용한 네트워크를 학습시킬시 점수 없음. (초기값을 셋팅하는 용도로는 torch.nn.LSTM(), torch.nn.LSTMCell()을 코드에 포함시키는 것이 가능) "
   ]
  },
  {
   "cell_type": "markdown",
   "id": "4517c4c0-caed-4d56-8b2c-d272b7b55be8",
   "metadata": {},
   "source": [
    "> 적절한 히든노드수를 선택할 것 "
   ]
  },
  {
   "cell_type": "markdown",
   "id": "dd667a5c-087c-4413-a409-930fc5284b76",
   "metadata": {},
   "source": [
    "## `2`. 다음을 읽고 참 거짓을 판단하여라. (10점) "
   ]
  },
  {
   "cell_type": "markdown",
   "id": "37fd5c19-1d62-4a58-90c7-6d3a08d333aa",
   "metadata": {},
   "source": [
    "`(1)` RNN은 LSTM에 비하여 장기기억에 유리한 장점이 있다. "
   ]
  },
  {
   "cell_type": "markdown",
   "id": "ee273a03-e299-4714-a801-5411dee7fb49",
   "metadata": {},
   "source": [
    "`(2)`"
   ]
  },
  {
   "cell_type": "markdown",
   "id": "2ae4ede6-e2f2-4f75-9af1-7f8b23d6cc32",
   "metadata": {},
   "source": [
    "`(3)`"
   ]
  },
  {
   "cell_type": "markdown",
   "id": "ae65d675-bebd-484a-a22a-8809c67e4504",
   "metadata": {},
   "source": [
    "`(4)`"
   ]
  },
  {
   "cell_type": "markdown",
   "id": "b69d34e5-0d59-4fdd-a547-39c21f6d88bf",
   "metadata": {},
   "source": [
    "`(5)`"
   ]
  }
 ],
 "metadata": {
  "kernelspec": {
   "display_name": "Python 3",
   "language": "python",
   "name": "python3"
  },
  "language_info": {
   "codemirror_mode": {
    "name": "ipython",
    "version": 3
   },
   "file_extension": ".py",
   "mimetype": "text/x-python",
   "name": "python",
   "nbconvert_exporter": "python",
   "pygments_lexer": "ipython3",
   "version": "3.7.15"
  }
 },
 "nbformat": 4,
 "nbformat_minor": 5
}
