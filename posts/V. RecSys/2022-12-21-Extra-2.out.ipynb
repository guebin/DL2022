{
  "cells": [
    {
      "cell_type": "markdown",
      "metadata": {},
      "source": [
        "# Extra-2: 추천시스템\n",
        "\n",
        "최규빈  \n",
        "2022-12-21\n",
        "\n",
        "> 추천시스템– 나는 솔로, 커피vs홍차\n",
        "\n",
        "# 강의영상\n",
        "\n",
        "> <https://youtube.com/playlist?list=PLQqh36zP38-xvbBbDqgRJiSneNaCUkdsX>\n",
        "\n",
        "# imports"
      ],
      "id": "c4496d93-4c7e-4e51-b927-49d0c5c53233"
    },
    {
      "cell_type": "code",
      "execution_count": 2,
      "metadata": {},
      "outputs": [],
      "source": [
        "import torch\n",
        "import numpy as np \n",
        "import pandas as pd\n",
        "from fastai.collab import * "
      ],
      "id": "57dc01be-6da3-43b2-b5e1-1854e27fa70f"
    },
    {
      "cell_type": "markdown",
      "metadata": {},
      "source": [
        "# 나는 솔로\n",
        "\n",
        "## 주절주절 intro\n",
        "\n",
        "`-` Data"
      ],
      "id": "8fd8229f-f0d6-4060-a976-a7f7f0cc5dc5"
    },
    {
      "cell_type": "code",
      "execution_count": 4,
      "metadata": {},
      "outputs": [],
      "source": [
        "df_view = pd.read_csv('https://raw.githubusercontent.com/guebin/STML2022/main/posts/V.%20RecSys/2022-12-21-rcmdsolo.csv',index_col=0)\n",
        "df_view "
      ],
      "id": "579104c1-8e5a-4968-bd2b-faac85f3eaea"
    },
    {
      "cell_type": "markdown",
      "metadata": {},
      "source": [
        "`-` 데이터를 이해할때 필요한 가정들 – 내맘대로 한 설정임.\n",
        "\n",
        "-   (옥순,영자,정숙)은 (영식,영철,영호)와 성격이 잘 맞고\n",
        "    (영숙,순자,현숙)은 (광수,상철,영수)와 성격이 잘맞음\n",
        "-   ((옥순,영자,정숙),(영식,영철,영호))은 MBTI가 I로 시작하고\n",
        "    ((영숙,순자,현숙),(광수,상철,영수))는 MBTI가 E로 시작한다.\n",
        "\n",
        "`-` 목표: NaN 을 추론\n",
        "\n",
        "`-` 수동추론:\n",
        "\n",
        "-   (옥순,영호)이 만난다면? $\\to$ 둘다 I성향이니까 잘 맞지 않을까? $\\to$\n",
        "    4.0 정도?\n",
        "-   (정숙,영식)조합은? $\\to$ 둘다 I성향이니까 잘 맞지 않을까? + 정숙은\n",
        "    다 잘맞던데..? $\\to$ 4.8 정도?\n",
        "-   (현숙,영식)조합은? $\\to$ 현숙은 E성향인데 영식은 I성향이므로 잘\n",
        "    안맞을 것임 + 현숙은 원래 좀 눈이 높음 $\\to$ 0.25 정도?\n",
        "\n",
        "`-` 좀 더 체계적인 추론\n",
        "\n",
        "사람들이 가지고 있는 성향들을 두 개의 숫자로 표현하자.\n",
        "\n",
        "-   옥순의 성향 = (I성향,E성향) = (1.9, 0.0)\n",
        "-   영식의 성향 = (I성향,E성향) = (2.0, 0.1)\n",
        "-   현숙의 성향 = (I성향,E성향) = (0.0, 1.5)"
      ],
      "id": "fc0c3e08-c6b8-459e-ac0c-6a576d2c2055"
    },
    {
      "cell_type": "code",
      "execution_count": 7,
      "metadata": {},
      "outputs": [],
      "source": [
        "a1 = np.array([1.9,0.0]).reshape(2,1) \n",
        "b1= np.array([2.0,0.1]).reshape(2,1)"
      ],
      "id": "bba51959-8177-4d57-b40d-a70466ced0de"
    },
    {
      "cell_type": "code",
      "execution_count": 10,
      "metadata": {},
      "outputs": [],
      "source": [
        "sum(a1*b1)"
      ],
      "id": "fd3e8a78-974a-4f4e-9a59-cca26180c219"
    },
    {
      "cell_type": "markdown",
      "metadata": {},
      "source": [
        "**(1)** 옥순과 영식의 궁합 $\\approx$ 옥순의I성향$\\times$영식의I성향 $+$\n",
        "옥순의E성향$\\times$영식의E성향 // 적합"
      ],
      "id": "ba112ac9-3a6a-4ffd-9008-50e9fe857488"
    },
    {
      "cell_type": "code",
      "execution_count": 12,
      "metadata": {},
      "outputs": [],
      "source": [
        "a1= np.array([1.9,0.0]).reshape(2,1) # a1은 옥순의 성향, col-vec으로 선언하자. \n",
        "b1= np.array([2.0,0.1]).reshape(2,1) # b1은 영식의 성향, col-vec으로 선언하자.\n",
        "(a1*b1).sum()"
      ],
      "id": "d4de1f04-2236-4593-85c5-695351cf414b"
    },
    {
      "cell_type": "markdown",
      "metadata": {},
      "source": [
        "**(2)** 현숙과 영식의 궁합 $\\approx$ 현숙의I성향$\\times$영식의I성향 $+$\n",
        "현숙의E성향$\\times$영식의E성향 // 예측"
      ],
      "id": "bd052385-95f9-43d9-8ef6-5cdd28327bd4"
    },
    {
      "cell_type": "code",
      "execution_count": 13,
      "metadata": {},
      "outputs": [],
      "source": [
        "a6= np.array([0.0,1.5]).reshape(2,1)\n",
        "(a6*b1).sum()"
      ],
      "id": "8f367886-f526-4a76-ac21-1881f18b9640"
    },
    {
      "cell_type": "markdown",
      "metadata": {},
      "source": [
        "-   그럴듯함..\n",
        "\n",
        "`-` 모델링\n",
        "\n",
        "아래가 같음을 관찰하라. (차원만 다름)"
      ],
      "id": "43ac6773-ff0b-4580-b8e9-f37e3acfd43e"
    },
    {
      "cell_type": "code",
      "execution_count": 5,
      "metadata": {},
      "outputs": [],
      "source": [
        "(a1*b1).sum(), a1.T@b1"
      ],
      "id": "1de49a25-d5c8-422e-a630-b35abfe1401d"
    },
    {
      "cell_type": "code",
      "execution_count": 6,
      "metadata": {},
      "outputs": [],
      "source": [
        "(a6*b1).sum(), a6.T@b1"
      ],
      "id": "2f1279c8-0ee2-473f-b28e-c6d7b1527d08"
    },
    {
      "cell_type": "markdown",
      "metadata": {},
      "source": [
        "만약에 여자의성향, 남자의성향을 적당한 매트릭스로 정리할 수 있다면\n",
        "궁합매트릭스를 만들 수 있음"
      ],
      "id": "c7e2795c-15f1-4741-a69d-90e9ce57284e"
    },
    {
      "cell_type": "code",
      "execution_count": 7,
      "metadata": {},
      "outputs": [],
      "source": [
        "a1= np.array([1.9,0.0]).reshape(2,1)\n",
        "a2= np.array([2.0,0.1]).reshape(2,1)\n",
        "a3= np.array([2.5,1.0]).reshape(2,1)\n",
        "a4= np.array([0.1,1.9]).reshape(2,1)\n",
        "a5= np.array([0.2,2.1]).reshape(2,1)\n",
        "a6= np.array([0.0,1.5]).reshape(2,1)\n",
        "A = np.concatenate([a1,a2,a3,a4,a5,a6],axis=1)\n",
        "A"
      ],
      "id": "cdc65114-13a3-478d-a6af-5dedc43426ad"
    },
    {
      "cell_type": "code",
      "execution_count": 8,
      "metadata": {},
      "outputs": [],
      "source": [
        "b1= np.array([2.0,0.1]).reshape(2,1)\n",
        "b2= np.array([1.9,0.2]).reshape(2,1)\n",
        "b3= np.array([1.8,0.3]).reshape(2,1)\n",
        "b4= np.array([0.3,2.1]).reshape(2,1)\n",
        "b5= np.array([0.2,2.0]).reshape(2,1)\n",
        "b6= np.array([0.1,1.9]).reshape(2,1)\n",
        "B = np.concatenate([b1,b2,b3,b4,b5,b6],axis=1)\n",
        "B"
      ],
      "id": "4842eca1-ef98-4822-b678-65336268f3ad"
    },
    {
      "cell_type": "code",
      "execution_count": 9,
      "metadata": {},
      "outputs": [],
      "source": [
        "A.T@B"
      ],
      "id": "d0edcd61-383f-4ce9-b651-71e11fad2818"
    },
    {
      "cell_type": "code",
      "execution_count": 10,
      "metadata": {},
      "outputs": [],
      "source": [
        "a1.T@b1, a2.T@b2, a3.T@b1"
      ],
      "id": "4338400f-9b82-4214-b748-6527aa76a3f9"
    },
    {
      "cell_type": "markdown",
      "metadata": {},
      "source": [
        "결국 모형은 아래와 같다.\n",
        "\n",
        "$$\\text{궁합매트릭스} = {\\bf A}^\\top {\\bf B} + \\text{오차}$$\n",
        "\n",
        "`-` 학습전략: 아래의 매트릭스중에서 어떤값은 관측하였고 어떤값은\n",
        "관측하지 못함 $\\to$ 관측한 값들만 대충 비슷하게 하면 되는거 아니야?"
      ],
      "id": "21057c8a-996a-4de7-bd06-316aeb16cab6"
    },
    {
      "cell_type": "code",
      "execution_count": 11,
      "metadata": {},
      "outputs": [],
      "source": [
        "A.T@B "
      ],
      "id": "ba960849-54fc-4486-845b-9f6b0c66736f"
    },
    {
      "cell_type": "code",
      "execution_count": 16,
      "metadata": {},
      "outputs": [],
      "source": [
        "df_view"
      ],
      "id": "492c2028-5185-439a-ae61-35ed2e71dc30"
    },
    {
      "cell_type": "markdown",
      "metadata": {},
      "source": [
        "`-` 자료를 아래와 같이 정리한다면?"
      ],
      "id": "10ec224a-68c1-41e3-a1a0-eedd46a35951"
    },
    {
      "cell_type": "code",
      "execution_count": 19,
      "metadata": {},
      "outputs": [],
      "source": [
        "df = pd.DataFrame([(f,m,df_view.loc[f,m]) for f in df_view.index for m in df_view.columns if not np.isnan(df_view.loc[f,m])])\n",
        "df.columns = ['X1','X2','y']\n",
        "df"
      ],
      "id": "3e0ab4f6-89e7-40be-b9d7-80520dbe1a8a"
    },
    {
      "cell_type": "code",
      "execution_count": 20,
      "metadata": {},
      "outputs": [],
      "source": [
        "mapp1 = {k[1]:k[0] for k in enumerate(df.X1.unique())}\n",
        "mapp2 = {k[1]:k[0] for k in enumerate(df.X2.unique())}\n",
        "mapp1,mapp2"
      ],
      "id": "95c75dd8-edb7-4a6a-bbd1-09a8c543569c"
    },
    {
      "cell_type": "code",
      "execution_count": 21,
      "metadata": {},
      "outputs": [],
      "source": [
        "X1 = torch.tensor(list(map(lambda name: mapp1[name], df.X1)))\n",
        "X2 = torch.tensor(list(map(lambda name: mapp2[name], df.X2)))\n",
        "X1 = torch.nn.functional.one_hot(X1).float()\n",
        "X2 = torch.nn.functional.one_hot(X2).float()\n",
        "y = torch.tensor(df.y).float()"
      ],
      "id": "4bba528e-f36d-4517-abc4-4a0512bb4e6f"
    },
    {
      "cell_type": "markdown",
      "metadata": {},
      "source": [
        "`-` yhat을 구하는 과정.."
      ],
      "id": "091618eb-4e96-42bd-bd9c-1c23a108f3b9"
    },
    {
      "cell_type": "code",
      "execution_count": 26,
      "metadata": {},
      "outputs": [],
      "source": [
        "l1 = torch.nn.Linear(in_features=6,out_features=2) \n",
        "l2 = torch.nn.Linear(in_features=6,out_features=2)"
      ],
      "id": "22ecea4b-b0a3-46cd-ba27-620cbc3a335d"
    },
    {
      "cell_type": "code",
      "execution_count": 28,
      "metadata": {},
      "outputs": [],
      "source": [
        "l1(X1) # 옥순~현숙의 성향들 "
      ],
      "id": "fc9afeac-1671-4709-aea3-c0b93b13ccfb"
    },
    {
      "cell_type": "code",
      "execution_count": 29,
      "metadata": {},
      "outputs": [],
      "source": [
        "l2(X2) # 영식~영수의 성향들 "
      ],
      "id": "10ce0ac3-7cf5-4099-913a-2bb17661128a"
    },
    {
      "cell_type": "markdown",
      "metadata": {},
      "source": [
        "`-` 몇개의 관측치만 생각해보자.."
      ],
      "id": "cc8c18ff-8cf9-41e6-99d6-e3e90f5d0079"
    },
    {
      "cell_type": "code",
      "execution_count": 19,
      "metadata": {},
      "outputs": [],
      "source": [
        "df.head()"
      ],
      "id": "673f7002-203b-40e4-a1d6-09b766d7e38a"
    },
    {
      "cell_type": "code",
      "execution_count": 36,
      "metadata": {},
      "outputs": [],
      "source": [
        "(l1(X1)[0]*l2(X2)[0]).sum() # (옥순의성향 * 영식의성향).sum()"
      ],
      "id": "fac2d008-1385-45ab-8e04-98c80d26ba21"
    },
    {
      "cell_type": "markdown",
      "metadata": {},
      "source": [
        "-   이 값이 실제로는 3.9 이어야 한다."
      ],
      "id": "fcf4ecf1-69c8-4550-965f-769ea3fb462f"
    },
    {
      "cell_type": "code",
      "execution_count": 37,
      "metadata": {},
      "outputs": [],
      "source": [
        "(l1(X1)[1]*l2(X2)[1]).sum() # (옥순의성향 * 영철의성향).sum()"
      ],
      "id": "86db8235-c842-497f-8b3d-496e51ec4243"
    },
    {
      "cell_type": "markdown",
      "metadata": {},
      "source": [
        "-   이 값이 실제로는 4.1 이어야 한다.\n",
        "\n",
        "`-` yhat을 구하면!"
      ],
      "id": "292b75aa-ec2f-4e33-b05a-a023ca5f8990"
    },
    {
      "cell_type": "code",
      "execution_count": 42,
      "metadata": {},
      "outputs": [],
      "source": [
        "yhat = (l1(X1) * l2(X2)).sum(axis=1) # (l1(X1) * l2(X2)).sum(1)와 결과가 같음 \n",
        "yhat"
      ],
      "id": "5d6ccae1-6a55-4be9-96b1-e8c2bbae4e11"
    },
    {
      "cell_type": "code",
      "execution_count": 43,
      "metadata": {},
      "outputs": [],
      "source": [
        "yhat[:2],y[:2] # 이 값들이 비슷해야 하는데.."
      ],
      "id": "9999adee-3cba-4d26-b40b-97de528f834a"
    },
    {
      "cell_type": "markdown",
      "metadata": {},
      "source": [
        "`-` 0~5 까지의 범위로 고정되어 있으니까 아래와 같이 해도 되겠음.."
      ],
      "id": "b248a942-05b7-4012-b698-8e558476de2e"
    },
    {
      "cell_type": "code",
      "execution_count": 44,
      "metadata": {},
      "outputs": [],
      "source": [
        "sig = torch.nn.Sigmoid()"
      ],
      "id": "454d046a-c798-435c-9baf-9ff04bacb51e"
    },
    {
      "cell_type": "code",
      "execution_count": 45,
      "metadata": {},
      "outputs": [],
      "source": [
        "yhat = sig((l1(X1) * l2(X2)).sum(axis=1))*5 # (l1(X1) * l2(X2)).sum(1)와 결과가 같음 \n",
        "yhat"
      ],
      "id": "9f22b0c9-5eca-4dc3-acaf-74d5f5710fcc"
    },
    {
      "cell_type": "code",
      "execution_count": 46,
      "metadata": {},
      "outputs": [],
      "source": [
        "loss = torch.mean((y-yhat)**2)\n",
        "loss"
      ],
      "id": "130fa669-8509-41bc-b3af-822da09d6518"
    },
    {
      "cell_type": "markdown",
      "metadata": {},
      "source": [
        "## torch를 이용한 학습"
      ],
      "id": "d0af7489-67af-41b6-b9b4-267a2c7e8b56"
    },
    {
      "cell_type": "code",
      "execution_count": 47,
      "metadata": {},
      "outputs": [],
      "source": [
        "torch.manual_seed(43052)\n",
        "l1 = torch.nn.Linear(6,2) \n",
        "l2 = torch.nn.Linear(6,2)\n",
        "sig = torch.nn.Sigmoid() "
      ],
      "id": "20257936-98d1-40e0-a1d6-9a1ba03fae5e"
    },
    {
      "cell_type": "code",
      "execution_count": 48,
      "metadata": {},
      "outputs": [],
      "source": [
        "loss_fn = torch.nn.MSELoss() \n",
        "optimizr = torch.optim.Adam(list(l1.parameters())+list(l2.parameters()))"
      ],
      "id": "78b8a1d4-08c1-4ac6-a639-b1d5bf8b8920"
    },
    {
      "cell_type": "code",
      "execution_count": 49,
      "metadata": {},
      "outputs": [],
      "source": [
        "for epoc in range(5000):\n",
        "    ## 1 \n",
        "    feature1 = l1(X1)\n",
        "    feature2 = l2(X2) \n",
        "    matching_score = (feature1*feature2).sum(axis=1) \n",
        "    yhat = sig(matching_score)*5 # 만약에 1~3점이라면 \"1+sig(matching_score)*2\" 와 같이 하면 되었을듯 \n",
        "    ## 2 \n",
        "    loss = loss_fn(yhat,y)    \n",
        "    ## 3 \n",
        "    loss.backward()    \n",
        "    ## 4 \n",
        "    optimizr.step()\n",
        "    optimizr.zero_grad()"
      ],
      "id": "1dcc1ba3-5794-48cf-8600-498192306209"
    },
    {
      "cell_type": "code",
      "execution_count": 50,
      "metadata": {},
      "outputs": [],
      "source": [
        "yhat"
      ],
      "id": "9ffe07bd-ca30-4897-887e-2c42e654dca3"
    },
    {
      "cell_type": "code",
      "execution_count": 51,
      "metadata": {},
      "outputs": [],
      "source": [
        "y"
      ],
      "id": "4f7daec0-52eb-4911-8f21-acb27947f998"
    },
    {
      "cell_type": "code",
      "execution_count": 52,
      "metadata": {},
      "outputs": [],
      "source": [
        "l1(X1) # 두번째 칼럼이 I 성향 점수로 \"해석\"된다"
      ],
      "id": "b87dcbb3-9ee0-46f0-9d73-b47085d4fe00"
    },
    {
      "cell_type": "markdown",
      "metadata": {},
      "source": [
        "-   포인트: 여성출연자중, 정숙은 대체로 잘 맞춰주고 현숙은 그렇지\n",
        "    않았음.. $\\to$ 그러한 가중치가 잘 드러남!!\n",
        "\n",
        "## fastai를 이용한 학습\n",
        "\n",
        "`(1)` dls"
      ],
      "id": "10b1e128-8d3c-4d5f-a401-7b12c1bb832e"
    },
    {
      "cell_type": "code",
      "execution_count": 61,
      "metadata": {},
      "outputs": [],
      "source": [
        "df.head() # 앞단계 전처리의 산물"
      ],
      "id": "ae09b582-17c3-4d15-b0ff-e5529bb4a310"
    },
    {
      "cell_type": "code",
      "execution_count": 62,
      "metadata": {},
      "outputs": [],
      "source": [
        "dls = CollabDataLoaders.from_df(df,bs=2,valid_pct=2/24)"
      ],
      "id": "ce8ab1a5-c394-43a0-b0d0-633c6c2ce86b"
    },
    {
      "cell_type": "markdown",
      "metadata": {},
      "source": [
        "`(2)` lrnr 생성"
      ],
      "id": "ecccfda2-ec7d-4036-9444-e1629fa6aa20"
    },
    {
      "cell_type": "code",
      "execution_count": 63,
      "metadata": {},
      "outputs": [],
      "source": [
        "lrnr = collab_learner(dls,n_factors=2,y_range=(0,5))"
      ],
      "id": "2aade5e9-58ae-4bf3-a5f6-f2705a8ced73"
    },
    {
      "cell_type": "markdown",
      "metadata": {},
      "source": [
        "`(3)` 학습"
      ],
      "id": "3a298b9f-24ab-4490-bac7-89588b7819a1"
    },
    {
      "cell_type": "code",
      "execution_count": 64,
      "metadata": {},
      "outputs": [],
      "source": [
        "lrnr.fit(30,lr=0.05)"
      ],
      "id": "b29961c0-b286-4fcf-93ad-9edb57b4a70c"
    },
    {
      "cell_type": "markdown",
      "metadata": {},
      "source": [
        "`(4)` 예측\n",
        "\n",
        "**적합값 확인**"
      ],
      "id": "78592b1a-79a7-4195-b297-7dbcc10aa93a"
    },
    {
      "cell_type": "code",
      "execution_count": 74,
      "metadata": {},
      "outputs": [],
      "source": [
        "lrnr.show_results()"
      ],
      "id": "78a81493-7c02-4200-a3c8-f4ff6871e158"
    },
    {
      "cell_type": "markdown",
      "metadata": {},
      "source": [
        "**(옥순의 궁합)**"
      ],
      "id": "028aa03a-d4cb-4f28-a32e-49342fc2879e"
    },
    {
      "cell_type": "code",
      "execution_count": 75,
      "metadata": {},
      "outputs": [],
      "source": [
        "df_new = pd.DataFrame({'X1':['옥순']*6, 'X2':['영식','영철','영호','광수','상철','영수']})\n",
        "df_new"
      ],
      "id": "a74299c7-08ef-4c50-a312-696b918fa995"
    },
    {
      "cell_type": "code",
      "execution_count": 76,
      "metadata": {},
      "outputs": [],
      "source": [
        "lrnr.get_preds(dl=dls.test_dl(df_new))"
      ],
      "id": "f5563185-51e2-4b0e-88f2-14f69255b3b1"
    },
    {
      "cell_type": "markdown",
      "metadata": {},
      "source": [
        "비교를 위해서"
      ],
      "id": "a61c6eb0-95cc-4d5e-823a-36fa7e6f1bca"
    },
    {
      "cell_type": "code",
      "execution_count": 78,
      "metadata": {},
      "outputs": [],
      "source": [
        "df_view"
      ],
      "id": "3293097c-5906-4366-b6dd-8e8580a19341"
    },
    {
      "cell_type": "markdown",
      "metadata": {},
      "source": [
        "**(정숙의 궁합)**"
      ],
      "id": "12d106bc-c900-4860-8e75-1b0633d616dc"
    },
    {
      "cell_type": "code",
      "execution_count": 79,
      "metadata": {},
      "outputs": [],
      "source": [
        "df_new = pd.DataFrame({'X1':['정숙']*6, 'X2':['영식','영철','영호','광수','상철','영수']})\n",
        "df_new"
      ],
      "id": "32c0688a-dd10-4cb1-9ad9-f271a3c21729"
    },
    {
      "cell_type": "code",
      "execution_count": 80,
      "metadata": {},
      "outputs": [],
      "source": [
        "lrnr.get_preds(dl=dls.test_dl(df_new))"
      ],
      "id": "921beccd-f8bf-4ad2-9780-1c822fd9b052"
    },
    {
      "cell_type": "markdown",
      "metadata": {},
      "source": [
        "비교를 위해서"
      ],
      "id": "bb150f54-74c3-4b0f-b179-afe35c014579"
    },
    {
      "cell_type": "code",
      "execution_count": 81,
      "metadata": {},
      "outputs": [],
      "source": [
        "df_view"
      ],
      "id": "4d54a1f0-c424-4446-8471-703e47a4ee5f"
    },
    {
      "cell_type": "markdown",
      "metadata": {},
      "source": [
        "`-` Appedix: fastai 구조공부.."
      ],
      "id": "287c5554-bd05-4c5f-ad4c-019d51854078"
    },
    {
      "cell_type": "code",
      "execution_count": 82,
      "metadata": {},
      "outputs": [],
      "source": [
        "lrnr.model"
      ],
      "id": "9e1922e3-3ccf-48d7-b74b-600b82931632"
    },
    {
      "cell_type": "code",
      "execution_count": 84,
      "metadata": {},
      "outputs": [],
      "source": [
        "lrnr.model.forward??"
      ],
      "id": "61d3a8e9-fd47-4ff4-afe9-74c3dd8fcce5"
    },
    {
      "cell_type": "markdown",
      "metadata": {},
      "source": [
        "-   bias를 제외하면 우리가 짠 모형과 같음!\n",
        "\n",
        "# 커피 or 홍차\n",
        "\n",
        "## data\n",
        "\n",
        "`-` 예전에 살펴본 예제"
      ],
      "id": "ed19778a-e6bc-4d7f-9268-5cfbb3174f68"
    },
    {
      "cell_type": "code",
      "execution_count": 85,
      "metadata": {},
      "outputs": [],
      "source": [
        "df = pd.read_csv('https://raw.githubusercontent.com/guebin/DL2022/main/posts/I.%20Overview/2022-09-08-rcmd_anal.csv')\n",
        "df"
      ],
      "id": "2970859c-8b0d-4ed5-8dc6-95fd2221cb4e"
    },
    {
      "cell_type": "markdown",
      "metadata": {},
      "source": [
        "`-` 기억을 살리기 위해서.."
      ],
      "id": "1cd40866-6fd4-4cd7-bf39-8f4d65f66d9a"
    },
    {
      "cell_type": "code",
      "execution_count": 86,
      "metadata": {},
      "outputs": [],
      "source": [
        "df_view = pd.read_csv('https://raw.githubusercontent.com/guebin/DL2022/main/posts/I.%20Overview/2022-09-08-rcmd_view.csv')\n",
        "df_view"
      ],
      "id": "14c3497e-55a9-4b93-89d8-be7c430d6a6a"
    },
    {
      "cell_type": "markdown",
      "metadata": {},
      "source": [
        "## 모형\n",
        "\n",
        "(편의상 바이어스를 제외하면)\n",
        "\n",
        "`-` 특징벡터:\n",
        "\n",
        "-   유저1의 취향 = \\[커피를 좋아하는 정도, 홍차를 좋아하는 정도\\]\n",
        "-   아이템1의 특징 = \\[커피의 특징, 홍차인 특징\\]\n",
        "\n",
        "`-` 평점\n",
        "\n",
        "-   유저1이 아이템1을 먹었을경우 평점: 유저1의 취향과 아이템1의 특징의\n",
        "    내적 = (유저1의 취향 $\\odot$ 아이템1의 특징).sum()\n",
        "\n",
        "## 학습\n",
        "\n",
        "`(1)` dls"
      ],
      "id": "446d0874-c301-48c4-8981-344bd2bf8fb2"
    },
    {
      "cell_type": "code",
      "execution_count": 87,
      "metadata": {},
      "outputs": [],
      "source": [
        "dls = CollabDataLoaders.from_df(df)"
      ],
      "id": "9d71a4eb-2c2e-46b0-89e6-430238d7994b"
    },
    {
      "cell_type": "code",
      "execution_count": 88,
      "metadata": {},
      "outputs": [],
      "source": [
        "dls.items"
      ],
      "id": "30d0ac4f-49a6-47c7-b2a1-fa68eca10e11"
    },
    {
      "cell_type": "markdown",
      "metadata": {},
      "source": [
        "`(2)` lrnr"
      ],
      "id": "bfcb02d3-f8f5-4868-938e-9af308c8c2d0"
    },
    {
      "cell_type": "code",
      "execution_count": 89,
      "metadata": {},
      "outputs": [],
      "source": [
        "lrnr = collab_learner(dls,n_factors=2) # 교재에는 y_range 를 설정하도록 되어있지만 설정 안해도 적합에는 크게 상관없음.."
      ],
      "id": "be633b91-7459-4f8b-b1a6-8193e89c516c"
    },
    {
      "cell_type": "markdown",
      "metadata": {},
      "source": [
        "`(3)` fit"
      ],
      "id": "36e0d870-f14d-4bfb-b4e1-bd4a42e97439"
    },
    {
      "cell_type": "code",
      "execution_count": 90,
      "metadata": {},
      "outputs": [],
      "source": [
        "lrnr.fit(10,0.1)"
      ],
      "id": "527f7835-caa8-4b4f-ba7c-c62a6b5c916d"
    },
    {
      "cell_type": "markdown",
      "metadata": {},
      "source": [
        "`(4)` predict\n",
        "\n",
        "(적합된 값 확인)"
      ],
      "id": "ad14e826-82c6-41d5-b456-be9b252ce6f6"
    },
    {
      "cell_type": "code",
      "execution_count": 91,
      "metadata": {},
      "outputs": [],
      "source": [
        "lrnr.show_results() # 누를때마다 결과다름"
      ],
      "id": "d763799d-51e4-499f-9eff-701ba54b3a60"
    },
    {
      "cell_type": "markdown",
      "metadata": {},
      "source": [
        "(예측값)"
      ],
      "id": "8533b041-2118-45dd-b95b-a1fe11c71e21"
    },
    {
      "cell_type": "code",
      "execution_count": 92,
      "metadata": {},
      "outputs": [],
      "source": [
        "df_new = pd.DataFrame({'user':[1,1,1,1], 'item':[9,10,11,12]})\n",
        "df_new"
      ],
      "id": "03192cb5-91b2-4a9c-a2e5-66289a464d4b"
    },
    {
      "cell_type": "code",
      "execution_count": 93,
      "metadata": {},
      "outputs": [],
      "source": [
        "lrnr.get_preds(dl=dls.test_dl(df_new))"
      ],
      "id": "d34289ab-d19a-4292-a314-5580631c9964"
    }
  ],
  "nbformat": 4,
  "nbformat_minor": 5,
  "metadata": {
    "kernelspec": {
      "name": "python3",
      "display_name": "Python 3",
      "language": "python"
    },
    "language_info": {
      "name": "python",
      "codemirror_mode": {
        "name": "ipython",
        "version": "3"
      },
      "file_extension": ".py",
      "mimetype": "text/x-python",
      "nbconvert_exporter": "python",
      "pygments_lexer": "ipython3",
      "version": "3.7.15"
    }
  }
}