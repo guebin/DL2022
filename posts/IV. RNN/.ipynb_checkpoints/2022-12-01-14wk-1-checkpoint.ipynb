{
 "cells": [
  {
   "cell_type": "raw",
   "id": "44f351f0-9a41-41b0-bfde-7fd00b3eb498",
   "metadata": {},
   "source": [
    "---\n",
    "title: \"14wk-1: 순환신경망 (8)\"\n",
    "author: \"최규빈\"\n",
    "date: \"12/01/2022\"\n",
    "categories:\n",
    "  - 순환신경망\n",
    "---"
   ]
  },
  {
   "cell_type": "markdown",
   "id": "fc0b573a-0e2c-4298-8ca7-c4aa67939e74",
   "metadata": {},
   "source": [
    "> 순환신경망 minor topics (2) "
   ]
  },
  {
   "cell_type": "markdown",
   "id": "411bfacb-3e92-4e4f-a527-afecc98f1fbd",
   "metadata": {},
   "source": [
    "# 강의영상 "
   ]
  },
  {
   "cell_type": "markdown",
   "id": "57d168bc-488e-4f0c-b730-dcf1653b9379",
   "metadata": {},
   "source": [
    "> <https://youtube.com/playlist?list=PLQqh36zP38-wy8fev22UV1QK5yfTgMXm4>"
   ]
  },
  {
   "cell_type": "markdown",
   "id": "62160c9d-53dd-444b-ac8e-48a24027b07c",
   "metadata": {},
   "source": [
    "# imports"
   ]
  },
  {
   "cell_type": "code",
   "execution_count": 242,
   "id": "cbd21945-0589-4b70-a952-31be311d4ab6",
   "metadata": {},
   "outputs": [],
   "source": [
    "import torch\n",
    "import pandas as pd\n",
    "import matplotlib.pyplot as plt \n",
    "from fastai.text.all import *\n",
    "import pytorch_lightning as pl "
   ]
  },
  {
   "cell_type": "markdown",
   "id": "e4f94471-e689-480e-bc7d-d5580d95cdb6",
   "metadata": {},
   "source": [
    "# Define some funtions"
   ]
  },
  {
   "cell_type": "code",
   "execution_count": 3,
   "id": "d4a1d11c-ed04-4099-8f6b-8107ecb4f414",
   "metadata": {},
   "outputs": [],
   "source": [
    "def f(txt,mapping):\n",
    "    return [mapping[key] for key in txt] \n",
    "sig = torch.nn.Sigmoid()\n",
    "soft = torch.nn.Softmax(dim=1)\n",
    "tanh = torch.nn.Tanh()"
   ]
  },
  {
   "cell_type": "markdown",
   "id": "c2b0dcda-1828-4fdf-9714-6435bb9054a6",
   "metadata": {},
   "source": [
    "# 똑같은 코드들: `torch.nn.LSTM`"
   ]
  },
  {
   "cell_type": "markdown",
   "id": "1a3dde6a-49ec-489f-a20f-dabe1ce0173a",
   "metadata": {},
   "source": [
    "## data: hi?hello!!"
   ]
  },
  {
   "cell_type": "code",
   "execution_count": 52,
   "id": "fb38aba6-e7d3-449f-bf24-877569d90afc",
   "metadata": {},
   "outputs": [],
   "source": [
    "txt = list('hi?hello!!')*100 \n",
    "txt_x = txt[:-1]\n",
    "txt_y = txt[1:]"
   ]
  },
  {
   "cell_type": "code",
   "execution_count": 51,
   "id": "0b91e8e8-8b7f-43c4-a468-986f4d8fb895",
   "metadata": {},
   "outputs": [],
   "source": [
    "mapping = {'!':0, '?':1,'h':2,'i':3,'e':4,'l':5,'o':6} \n",
    "x= torch.nn.functional.one_hot(torch.tensor(f(txt_x,mapping))).float().to(\"cuda:0\")\n",
    "y= torch.nn.functional.one_hot(torch.tensor(f(txt_y,mapping))).float().to(\"cuda:0\")"
   ]
  },
  {
   "cell_type": "markdown",
   "id": "6ca71c4f-a6c3-40bc-8259-614f984e6226",
   "metadata": {},
   "source": [
    "## 세트1: _water의 생략 "
   ]
  },
  {
   "cell_type": "markdown",
   "id": "4d3792e1-d867-459d-bbc1-7c0ac137b939",
   "metadata": {},
   "source": [
    "`-` 코드1: 정석코드 "
   ]
  },
  {
   "cell_type": "code",
   "execution_count": 55,
   "id": "a6f7fb38-b3af-40cc-9c48-76e35b2dd565",
   "metadata": {},
   "outputs": [],
   "source": [
    "torch.manual_seed(43052)\n",
    "lstm = torch.nn.LSTM(7,4).to(\"cuda:0\")"
   ]
  },
  {
   "cell_type": "code",
   "execution_count": 56,
   "id": "8dbefb6d-7d7e-4264-b8b7-56756b392b4e",
   "metadata": {},
   "outputs": [
    {
     "data": {
      "text/plain": [
       "(tensor([[-0.1547,  0.0673,  0.0695,  0.1563],\n",
       "         [-0.0786, -0.1430, -0.0250,  0.1189],\n",
       "         [-0.0300, -0.2256, -0.1324,  0.1439],\n",
       "         ...,\n",
       "         [-0.0723,  0.0620,  0.1913,  0.2015],\n",
       "         [-0.1155,  0.0746,  0.1747,  0.2938],\n",
       "         [-0.2350, -0.1559, -0.1093,  0.2682]], device='cuda:0',\n",
       "        grad_fn=<SqueezeBackward1>),\n",
       " (tensor([[-0.2350, -0.1559, -0.1093,  0.2682]], device='cuda:0',\n",
       "         grad_fn=<SqueezeBackward1>),\n",
       "  tensor([[-0.4451, -0.2456, -0.1900,  0.6232]], device='cuda:0',\n",
       "         grad_fn=<SqueezeBackward1>)))"
      ]
     },
     "execution_count": 56,
     "metadata": {},
     "output_type": "execute_result"
    }
   ],
   "source": [
    "_water = torch.zeros(1,4).to(\"cuda:0\")\n",
    "lstm(x, (_water,_water))"
   ]
  },
  {
   "cell_type": "markdown",
   "id": "4c285587-a2ca-46a8-9887-44a1b2bc6906",
   "metadata": {},
   "source": [
    "`-` 코드2: _water 는 사실 없어도 괜찮았어.. "
   ]
  },
  {
   "cell_type": "code",
   "execution_count": 57,
   "id": "f460a1a7-54a2-457c-8dc5-2948430be0f0",
   "metadata": {},
   "outputs": [],
   "source": [
    "torch.manual_seed(43052)\n",
    "lstm = torch.nn.LSTM(7,4).to(\"cuda:0\")"
   ]
  },
  {
   "cell_type": "code",
   "execution_count": 59,
   "id": "868e04e9-1748-4b20-8137-95627a399589",
   "metadata": {},
   "outputs": [
    {
     "data": {
      "text/plain": [
       "(tensor([[-0.1547,  0.0673,  0.0695,  0.1563],\n",
       "         [-0.0786, -0.1430, -0.0250,  0.1189],\n",
       "         [-0.0300, -0.2256, -0.1324,  0.1439],\n",
       "         ...,\n",
       "         [-0.0723,  0.0620,  0.1913,  0.2015],\n",
       "         [-0.1155,  0.0746,  0.1747,  0.2938],\n",
       "         [-0.2350, -0.1559, -0.1093,  0.2682]], device='cuda:0',\n",
       "        grad_fn=<SqueezeBackward1>),\n",
       " (tensor([[-0.2350, -0.1559, -0.1093,  0.2682]], device='cuda:0',\n",
       "         grad_fn=<SqueezeBackward1>),\n",
       "  tensor([[-0.4451, -0.2456, -0.1900,  0.6232]], device='cuda:0',\n",
       "         grad_fn=<SqueezeBackward1>)))"
      ]
     },
     "execution_count": 59,
     "metadata": {},
     "output_type": "execute_result"
    }
   ],
   "source": [
    "lstm(x)"
   ]
  },
  {
   "cell_type": "markdown",
   "id": "c8d10ceb-3a37-43e3-893c-ba7cd159df81",
   "metadata": {},
   "source": [
    "## 세트2: x.shape = ($L$, $H_{in}$) or ($L$,$N$,$H_{in}$) "
   ]
  },
  {
   "cell_type": "markdown",
   "id": "c93bf16b-7825-4fe2-a490-5a4d16cf969e",
   "metadata": {},
   "source": [
    "`-` 파라메터 설명 \n",
    "\n",
    "- $L$ = sequece length = 시계열의 길이 = 간장을 몇 년 전통으로 이어갈지 \n",
    "- $N$ = batch size = 전체데이터는 몇 개의 시계열이 있는지 = 전체 데이터를 몇개의 시계열로 쪼갤지 <-- 왜 이걸 해야해? \n",
    "- $H_{in}$ = input_size = 시점을 고정하였을 경우 입력자료의 차원 = 입력시계열이 시점별로 몇개의 변수로 나타내어 지는지? = 만약에 원핫인코딩으로 단어를 정리하면 단어수를 의미함 \n",
    "\n"
   ]
  },
  {
   "cell_type": "markdown",
   "id": "9491589d-ed71-48cf-a760-dbc5b499e59a",
   "metadata": {},
   "source": [
    "`-` 코드2: _water 는 사실 없어도 괜찮았어.. "
   ]
  },
  {
   "cell_type": "code",
   "execution_count": 71,
   "id": "dfa77d1c-0172-4a00-8f85-c1dc40b106fe",
   "metadata": {},
   "outputs": [],
   "source": [
    "torch.manual_seed(43052)\n",
    "lstm = torch.nn.LSTM(7,4).to(\"cuda:0\")"
   ]
  },
  {
   "cell_type": "code",
   "execution_count": 72,
   "id": "c25b2a0d-fb19-4225-9a0e-3789e4da71c1",
   "metadata": {},
   "outputs": [
    {
     "data": {
      "text/plain": [
       "(tensor([[-0.1547,  0.0673,  0.0695,  0.1563],\n",
       "         [-0.0786, -0.1430, -0.0250,  0.1189],\n",
       "         [-0.0300, -0.2256, -0.1324,  0.1439],\n",
       "         ...,\n",
       "         [-0.0723,  0.0620,  0.1913,  0.2015],\n",
       "         [-0.1155,  0.0746,  0.1747,  0.2938],\n",
       "         [-0.2350, -0.1559, -0.1093,  0.2682]], device='cuda:0',\n",
       "        grad_fn=<SqueezeBackward1>),\n",
       " (tensor([[-0.2350, -0.1559, -0.1093,  0.2682]], device='cuda:0',\n",
       "         grad_fn=<SqueezeBackward1>),\n",
       "  tensor([[-0.4451, -0.2456, -0.1900,  0.6232]], device='cuda:0',\n",
       "         grad_fn=<SqueezeBackward1>)))"
      ]
     },
     "execution_count": 72,
     "metadata": {},
     "output_type": "execute_result"
    }
   ],
   "source": [
    "lstm(x)"
   ]
  },
  {
   "cell_type": "markdown",
   "id": "09c042d4-3a84-4bcc-b669-efd3ca4392e4",
   "metadata": {},
   "source": [
    "`-` 코드3: x의 차원은 사실 엄밀하게는 ($L$,$N$,$H_{in}$) 와 같다... "
   ]
  },
  {
   "cell_type": "code",
   "execution_count": 73,
   "id": "463f057b-aa5d-4f09-9e52-8ba61314775f",
   "metadata": {},
   "outputs": [],
   "source": [
    "torch.manual_seed(43052)\n",
    "lstm = torch.nn.LSTM(7,4).to(\"cuda:0\")"
   ]
  },
  {
   "cell_type": "code",
   "execution_count": 74,
   "id": "ede3d7c1-09da-4174-a865-4c6b9db99e41",
   "metadata": {},
   "outputs": [
    {
     "data": {
      "text/plain": [
       "(tensor([[[-0.1547,  0.0673,  0.0695,  0.1563]],\n",
       " \n",
       "         [[-0.0786, -0.1430, -0.0250,  0.1189]],\n",
       " \n",
       "         [[-0.0300, -0.2256, -0.1324,  0.1439]],\n",
       " \n",
       "         ...,\n",
       " \n",
       "         [[-0.0723,  0.0620,  0.1913,  0.2015]],\n",
       " \n",
       "         [[-0.1155,  0.0746,  0.1747,  0.2938]],\n",
       " \n",
       "         [[-0.2350, -0.1559, -0.1093,  0.2682]]], device='cuda:0',\n",
       "        grad_fn=<CudnnRnnBackward0>),\n",
       " (tensor([[[-0.2350, -0.1559, -0.1093,  0.2682]]], device='cuda:0',\n",
       "         grad_fn=<CudnnRnnBackward0>),\n",
       "  tensor([[[-0.4451, -0.2456, -0.1900,  0.6232]]], device='cuda:0',\n",
       "         grad_fn=<CudnnRnnBackward0>)))"
      ]
     },
     "execution_count": 74,
     "metadata": {},
     "output_type": "execute_result"
    }
   ],
   "source": [
    "lstm(x.reshape(999,1,7))"
   ]
  },
  {
   "cell_type": "markdown",
   "id": "a83e3c34-4344-4fdc-a421-f93b0cd38ef0",
   "metadata": {},
   "source": [
    "`-` 코드4: `batch_first=True`옵션을 사용하여 lstm을 만든경우 "
   ]
  },
  {
   "cell_type": "code",
   "execution_count": 75,
   "id": "08f84dc9-26fd-4c4f-b73f-3ddc5153690e",
   "metadata": {},
   "outputs": [],
   "source": [
    "torch.manual_seed(43052)\n",
    "lstm = torch.nn.LSTM(7,4,batch_first=True).to(\"cuda:0\")"
   ]
  },
  {
   "cell_type": "code",
   "execution_count": 77,
   "id": "f35e5f95-c983-4183-a672-864bf7424c3e",
   "metadata": {},
   "outputs": [
    {
     "data": {
      "text/plain": [
       "(tensor([[[-0.1547,  0.0673,  0.0695,  0.1563],\n",
       "          [-0.0786, -0.1430, -0.0250,  0.1189],\n",
       "          [-0.0300, -0.2256, -0.1324,  0.1439],\n",
       "          ...,\n",
       "          [-0.0723,  0.0620,  0.1913,  0.2015],\n",
       "          [-0.1155,  0.0746,  0.1747,  0.2938],\n",
       "          [-0.2350, -0.1559, -0.1093,  0.2682]]], device='cuda:0',\n",
       "        grad_fn=<CudnnRnnBackward0>),\n",
       " (tensor([[[-0.2350, -0.1559, -0.1093,  0.2682]]], device='cuda:0',\n",
       "         grad_fn=<CudnnRnnBackward0>),\n",
       "  tensor([[[-0.4451, -0.2456, -0.1900,  0.6232]]], device='cuda:0',\n",
       "         grad_fn=<CudnnRnnBackward0>)))"
      ]
     },
     "execution_count": 77,
     "metadata": {},
     "output_type": "execute_result"
    }
   ],
   "source": [
    "lstm(x.reshape(1,999,7))"
   ]
  },
  {
   "cell_type": "markdown",
   "id": "658604b2-541b-496d-993e-516724940a33",
   "metadata": {},
   "source": [
    "## 세트3: hidden.shape = ($D\\times$ `num_layers`, $H_{out}$) or ($D\\times$ `num_layers`, $N$, $H_{out}$) "
   ]
  },
  {
   "cell_type": "markdown",
   "id": "013d72eb-27f5-4007-ad58-a6ccdd1a9c02",
   "metadata": {},
   "source": [
    "`-` 파라메터 설명 \n",
    "\n",
    "- $D$ = 2 if bidirectional=True otherwise 1 = 양방향이면 2, 단방향이면 1 (우리는 단방향만 배움) \n",
    "- `num_layres` = 중첩된 RNN일 경우 (우리는 중첩을 안시켰음) \n",
    "- $N$ = batch size = 전체데이터는 몇 개의 시계열이 있는지 = 전체 데이터를 몇개의 시계열로 쪼갤지 <-- 왜 이걸 해야해? \n",
    "- $H_{out}$ = 히든노드의 수"
   ]
  },
  {
   "cell_type": "markdown",
   "id": "bb9a0429-cf98-44bf-8cc6-a547039e8398",
   "metadata": {},
   "source": [
    "`-` 코드5: x.shape = ($L$,$1$,$H_{in}$) $\\to$ hidden.shape = ($1$,$1$,$H_{out}$)"
   ]
  },
  {
   "cell_type": "code",
   "execution_count": 82,
   "id": "0fa2ebc5-2312-4785-bd8a-b5f3ed8d3424",
   "metadata": {},
   "outputs": [],
   "source": [
    "torch.manual_seed(43052)\n",
    "lstm = torch.nn.LSTM(7,4).to(\"cuda:0\")"
   ]
  },
  {
   "cell_type": "code",
   "execution_count": 90,
   "id": "e10d3c89-b94e-4264-95e1-a1f5ab61254a",
   "metadata": {},
   "outputs": [
    {
     "data": {
      "text/plain": [
       "(tensor([[[-0.1547,  0.0673,  0.0695,  0.1563]],\n",
       " \n",
       "         [[-0.0786, -0.1430, -0.0250,  0.1189]],\n",
       " \n",
       "         [[-0.0300, -0.2256, -0.1324,  0.1439]],\n",
       " \n",
       "         ...,\n",
       " \n",
       "         [[-0.0723,  0.0620,  0.1913,  0.2015]],\n",
       " \n",
       "         [[-0.1155,  0.0746,  0.1747,  0.2938]],\n",
       " \n",
       "         [[-0.2350, -0.1559, -0.1093,  0.2682]]], device='cuda:0',\n",
       "        grad_fn=<CudnnRnnBackward0>),\n",
       " (tensor([[[-0.2350, -0.1559, -0.1093,  0.2682]]], device='cuda:0',\n",
       "         grad_fn=<CudnnRnnBackward0>),\n",
       "  tensor([[[-0.4451, -0.2456, -0.1900,  0.6232]]], device='cuda:0',\n",
       "         grad_fn=<CudnnRnnBackward0>)))"
      ]
     },
     "execution_count": 90,
     "metadata": {},
     "output_type": "execute_result"
    }
   ],
   "source": [
    "_water = torch.zeros(1,1,4).to(\"cuda:0\") \n",
    "lstm(x.reshape(999,1,7),(_water,_water))"
   ]
  },
  {
   "cell_type": "markdown",
   "id": "d0ae77c4-6736-48d2-ab2d-09d5a6cfd3a8",
   "metadata": {},
   "source": [
    "`-` 사실 _water.shape = (1,$H_{out}$) 에서 1은 observation의 차원을 의미하는게 아님 (그런데 대충 그렇게 생각해도 무방함) \n",
    "\n",
    "- 한 시점의 콩물에 대하여 양방향으로 간장을 만들면 _water.shape = (2,h) \n",
    "- 한 시점의 콩물에 대하여 3중첩으로 간장을 만들면 _water.shape = (3,h) \n",
    "- 한 시점의 콩물에 대하여 3중첩간장을 양방향으로 만들면 _water.shape = (6,h) "
   ]
  },
  {
   "cell_type": "markdown",
   "id": "9a70bcdd-524d-4264-a51c-096aecd7cb17",
   "metadata": {},
   "source": [
    "# 똑같은 코드들: `torch.nn.LSTMCell`"
   ]
  },
  {
   "cell_type": "markdown",
   "id": "6592d308-eda1-434b-b390-0686fbb856b9",
   "metadata": {},
   "source": [
    "## data: hi?hello!!"
   ]
  },
  {
   "cell_type": "code",
   "execution_count": 91,
   "id": "a8c19442-84ee-4c86-8147-1701460d0c34",
   "metadata": {},
   "outputs": [],
   "source": [
    "txt = list('hi?hello!!')*100 \n",
    "txt_x = txt[:-1]\n",
    "txt_y = txt[1:]"
   ]
  },
  {
   "cell_type": "code",
   "execution_count": 92,
   "id": "5ad9a6f2-a601-4cfb-875c-056d876b3cfb",
   "metadata": {},
   "outputs": [],
   "source": [
    "mapping = {'!':0, '?':1,'h':2,'i':3,'e':4,'l':5,'o':6} \n",
    "x= torch.nn.functional.one_hot(torch.tensor(f(txt_x,mapping))).float().to(\"cuda:0\")\n",
    "y= torch.nn.functional.one_hot(torch.tensor(f(txt_y,mapping))).float().to(\"cuda:0\")"
   ]
  },
  {
   "cell_type": "markdown",
   "id": "2cb8930f-f350-46d5-9d01-584835f68322",
   "metadata": {},
   "source": [
    "## 세트1: _water의 생략 "
   ]
  },
  {
   "cell_type": "markdown",
   "id": "9c5c564b-fbe8-4360-be1b-2fc2cdbc50cc",
   "metadata": {},
   "source": [
    "`-` 코드1: 정석코드 "
   ]
  },
  {
   "cell_type": "code",
   "execution_count": 93,
   "id": "01904b76-86fa-48ca-a257-75473c907652",
   "metadata": {},
   "outputs": [],
   "source": [
    "torch.manual_seed(43052) \n",
    "lstmcell = torch.nn.LSTMCell(7,4).to(\"cuda:0\") "
   ]
  },
  {
   "cell_type": "code",
   "execution_count": 99,
   "id": "4843d18a-40fe-4ed2-ae1d-4071c4dbf58c",
   "metadata": {},
   "outputs": [
    {
     "data": {
      "text/plain": [
       "(torch.Size([1, 7]), torch.Size([1, 4]))"
      ]
     },
     "execution_count": 99,
     "metadata": {},
     "output_type": "execute_result"
    }
   ],
   "source": [
    "xt = x[[1]]\n",
    "_water = torch.zeros(1,4).to(\"cuda:0\")\n",
    "xt.shape, _water.shape"
   ]
  },
  {
   "cell_type": "code",
   "execution_count": 98,
   "id": "acee7168-e92c-4773-b769-dc11a5413cf5",
   "metadata": {},
   "outputs": [
    {
     "data": {
      "text/plain": [
       "(tensor([[-0.0290, -0.1758, -0.0537,  0.0598]], device='cuda:0',\n",
       "        grad_fn=<ThnnFusedLstmCellBackward0>),\n",
       " tensor([[-0.0582, -0.4566, -0.1256,  0.1922]], device='cuda:0',\n",
       "        grad_fn=<ThnnFusedLstmCellBackward0>))"
      ]
     },
     "execution_count": 98,
     "metadata": {},
     "output_type": "execute_result"
    }
   ],
   "source": [
    "lstmcell(xt,(_water,_water))"
   ]
  },
  {
   "cell_type": "markdown",
   "id": "7f08f3d0-85c0-441a-8f80-5ef857660aa6",
   "metadata": {},
   "source": [
    "`-` 코드2: _water의 생략"
   ]
  },
  {
   "cell_type": "code",
   "execution_count": 100,
   "id": "e323269b-e5c1-4259-a2ff-03e925da7715",
   "metadata": {},
   "outputs": [],
   "source": [
    "torch.manual_seed(43052) \n",
    "lstmcell = torch.nn.LSTMCell(7,4).to(\"cuda:0\") "
   ]
  },
  {
   "cell_type": "code",
   "execution_count": 101,
   "id": "68cae981-21dc-4556-ac72-4b4a2eb3689c",
   "metadata": {},
   "outputs": [
    {
     "data": {
      "text/plain": [
       "torch.Size([1, 7])"
      ]
     },
     "execution_count": 101,
     "metadata": {},
     "output_type": "execute_result"
    }
   ],
   "source": [
    "xt = x[[1]]\n",
    "xt.shape"
   ]
  },
  {
   "cell_type": "code",
   "execution_count": 102,
   "id": "f645b760-8e82-4eb7-bcb3-7744b64d9edd",
   "metadata": {},
   "outputs": [
    {
     "data": {
      "text/plain": [
       "(tensor([[-0.0290, -0.1758, -0.0537,  0.0598]], device='cuda:0',\n",
       "        grad_fn=<ThnnFusedLstmCellBackward0>),\n",
       " tensor([[-0.0582, -0.4566, -0.1256,  0.1922]], device='cuda:0',\n",
       "        grad_fn=<ThnnFusedLstmCellBackward0>))"
      ]
     },
     "execution_count": 102,
     "metadata": {},
     "output_type": "execute_result"
    }
   ],
   "source": [
    "lstmcell(xt)"
   ]
  },
  {
   "cell_type": "markdown",
   "id": "3f4e9bab-f9f6-4f92-b791-ea979ad12071",
   "metadata": {},
   "source": [
    "## 세트2: xt.shape = ($N$,$H_{in}$) or ($H_{in}$)"
   ]
  },
  {
   "cell_type": "markdown",
   "id": "a7996c3d-6662-469a-83bf-48ed2a245291",
   "metadata": {},
   "source": [
    "`-` 코드2: _water의 생략"
   ]
  },
  {
   "cell_type": "code",
   "execution_count": 103,
   "id": "ed89fe07-3951-40ea-a89c-979508df59c6",
   "metadata": {},
   "outputs": [],
   "source": [
    "torch.manual_seed(43052) \n",
    "lstmcell = torch.nn.LSTMCell(7,4).to(\"cuda:0\") "
   ]
  },
  {
   "cell_type": "code",
   "execution_count": 104,
   "id": "d8f14908-ed67-4b71-99ba-ad76d4a8ff8f",
   "metadata": {},
   "outputs": [
    {
     "data": {
      "text/plain": [
       "torch.Size([1, 7])"
      ]
     },
     "execution_count": 104,
     "metadata": {},
     "output_type": "execute_result"
    }
   ],
   "source": [
    "xt = x[[1]]\n",
    "xt.shape"
   ]
  },
  {
   "cell_type": "code",
   "execution_count": 105,
   "id": "9389ceb0-6dab-4110-afaf-30483ccc4b4f",
   "metadata": {},
   "outputs": [
    {
     "data": {
      "text/plain": [
       "(tensor([[-0.0290, -0.1758, -0.0537,  0.0598]], device='cuda:0',\n",
       "        grad_fn=<ThnnFusedLstmCellBackward0>),\n",
       " tensor([[-0.0582, -0.4566, -0.1256,  0.1922]], device='cuda:0',\n",
       "        grad_fn=<ThnnFusedLstmCellBackward0>))"
      ]
     },
     "execution_count": 105,
     "metadata": {},
     "output_type": "execute_result"
    }
   ],
   "source": [
    "lstmcell(xt)"
   ]
  },
  {
   "cell_type": "markdown",
   "id": "7b0f6656-d1a1-4895-b8de-5e262c08c902",
   "metadata": {},
   "source": [
    "`-` 코드3: "
   ]
  },
  {
   "cell_type": "code",
   "execution_count": 103,
   "id": "cc97aa08-4ffd-4d60-943a-399ea67c1fb5",
   "metadata": {},
   "outputs": [],
   "source": [
    "torch.manual_seed(43052) \n",
    "lstmcell = torch.nn.LSTMCell(7,4).to(\"cuda:0\") "
   ]
  },
  {
   "cell_type": "code",
   "execution_count": 106,
   "id": "07b42ed4-7b97-4d79-a198-dfb885ade3f8",
   "metadata": {},
   "outputs": [
    {
     "data": {
      "text/plain": [
       "torch.Size([7])"
      ]
     },
     "execution_count": 106,
     "metadata": {},
     "output_type": "execute_result"
    }
   ],
   "source": [
    "xt = x[1]\n",
    "xt.shape"
   ]
  },
  {
   "cell_type": "code",
   "execution_count": 107,
   "id": "5faf0082-6029-4956-aedc-24c6942fc008",
   "metadata": {},
   "outputs": [
    {
     "data": {
      "text/plain": [
       "(tensor([-0.0290, -0.1758, -0.0537,  0.0598], device='cuda:0',\n",
       "        grad_fn=<SqueezeBackward1>),\n",
       " tensor([-0.0582, -0.4566, -0.1256,  0.1922], device='cuda:0',\n",
       "        grad_fn=<SqueezeBackward1>))"
      ]
     },
     "execution_count": 107,
     "metadata": {},
     "output_type": "execute_result"
    }
   ],
   "source": [
    "lstmcell(xt)"
   ]
  },
  {
   "cell_type": "markdown",
   "id": "0eea8ecb-104d-4a53-b7dd-0e5a586245f9",
   "metadata": {},
   "source": [
    "## 세트3: hidden.shape = ($N$,$H_{out}$) or ($H_{out}$)"
   ]
  },
  {
   "cell_type": "markdown",
   "id": "cdfbb3f7-c647-4aee-9c82-1a53496f4986",
   "metadata": {},
   "source": [
    "`-` 코드4: xt.shape = ($H_{in}$) $\\to$ _water.shape = $(H_{out})$"
   ]
  },
  {
   "cell_type": "code",
   "execution_count": 109,
   "id": "5232200b-e72a-4619-a7fe-ca1e881708b4",
   "metadata": {},
   "outputs": [],
   "source": [
    "torch.manual_seed(43052) \n",
    "lstmcell = torch.nn.LSTMCell(7,4).to(\"cuda:0\") "
   ]
  },
  {
   "cell_type": "code",
   "execution_count": 113,
   "id": "2b4daaa0-6019-4e1e-9083-41338f2e38c1",
   "metadata": {},
   "outputs": [
    {
     "data": {
      "text/plain": [
       "(torch.Size([7]), torch.Size([4]))"
      ]
     },
     "execution_count": 113,
     "metadata": {},
     "output_type": "execute_result"
    }
   ],
   "source": [
    "xt = x[1]\n",
    "_water = torch.zeros(4).to(\"cuda:0\")\n",
    "xt.shape,_water.shape"
   ]
  },
  {
   "cell_type": "code",
   "execution_count": 114,
   "id": "d500a848-d1af-4248-b2d3-a9ccae524f26",
   "metadata": {},
   "outputs": [
    {
     "data": {
      "text/plain": [
       "(tensor([-0.0290, -0.1758, -0.0537,  0.0598], device='cuda:0',\n",
       "        grad_fn=<SqueezeBackward1>),\n",
       " tensor([-0.0582, -0.4566, -0.1256,  0.1922], device='cuda:0',\n",
       "        grad_fn=<SqueezeBackward1>))"
      ]
     },
     "execution_count": 114,
     "metadata": {},
     "output_type": "execute_result"
    }
   ],
   "source": [
    "lstmcell(xt, (_water,_water))"
   ]
  },
  {
   "cell_type": "markdown",
   "id": "b53184c7-8b37-46b6-8550-c028ed40650e",
   "metadata": {},
   "source": [
    "# Summary "
   ]
  },
  {
   "cell_type": "markdown",
   "id": "d3c00f2c-1f5a-4989-923a-b2d991807238",
   "metadata": {},
   "source": [
    "## 똑같은 코드들 정리 "
   ]
  },
  {
   "cell_type": "markdown",
   "id": "038e043e-c5c0-4847-80d1-ab32e1ed40da",
   "metadata": {},
   "source": [
    "`-` 원래 1은 단순히 observation의 차원이 아니다. 즉 ${\\bf X}_{n \\times p}$에서 $n$에 대응하는 차원으로 생각할 수 없다. "
   ]
  },
  {
   "cell_type": "markdown",
   "id": "e74a3ca2-9952-4af0-ba46-3d50183b5dae",
   "metadata": {},
   "source": [
    "`-` 그런데 (1) 단방향 (2) 조각내지 않은 시계열 (3) 중첩하지 않은 순환망에 한정하여서는 observation 처럼 생각해도 무방하다. <-- 엄밀하게는 이게 위험한 생각임. 하지만 정식으로 모두 따지려면 너무 헷갈림 "
   ]
  },
  {
   "cell_type": "markdown",
   "id": "000eef41-d677-4cfc-abef-952679807e28",
   "metadata": {},
   "source": [
    "## 실제구현시 기억할 것 "
   ]
  },
  {
   "cell_type": "markdown",
   "id": "7c9233dc-c947-4702-8a7a-824665795e08",
   "metadata": {},
   "source": [
    "`-` 현실적으로 (1)-(3)이 아닌 조건에서는 Cell 단위로 연산을 이용할 일이 없다. (느리거든요) // 그냥 이해용으로 구현 "
   ]
  },
  {
   "cell_type": "markdown",
   "id": "739e6e39-fbc8-4a7d-8269-5957f629a37c",
   "metadata": {},
   "source": [
    "`-` torch.nn.RNN 혹은 torch.nn.LSTM 으로 네트워크를 구성할시 _water의 dim을 명시할 일도 없다. "
   ]
  },
  {
   "cell_type": "markdown",
   "id": "223682bd-8c3b-4083-ace1-5ccd60a1c891",
   "metadata": {},
   "source": [
    "`-` 오로지 고려해야 할 것은 입력시계열을 조각낼지 조각내지 않을지 "
   ]
  },
  {
   "cell_type": "markdown",
   "id": "7ba38368-5530-4724-bbdb-584124ddd037",
   "metadata": {},
   "source": [
    "# 조각난 시계열로 학습 "
   ]
  },
  {
   "cell_type": "markdown",
   "id": "243ba6ea-3119-4ad1-88f7-b9481437eddc",
   "metadata": {},
   "source": [
    "## data "
   ]
  },
  {
   "cell_type": "code",
   "execution_count": 118,
   "id": "c0363094-0a94-4731-b78e-bc95fbabdbaa",
   "metadata": {},
   "outputs": [],
   "source": [
    "txt = list('hi!')*3 + list('hi?')*3 "
   ]
  },
  {
   "cell_type": "markdown",
   "id": "c6bcf4ba-1a81-4705-837e-b78689cfcac0",
   "metadata": {},
   "source": [
    "## 조각내지 않은 시계열 "
   ]
  },
  {
   "cell_type": "code",
   "execution_count": 165,
   "id": "658593d6-79a1-4f5c-a9f6-add8057c9ee6",
   "metadata": {},
   "outputs": [],
   "source": [
    "txt_x = txt[:-1] \n",
    "txt_y = txt[1:] "
   ]
  },
  {
   "cell_type": "code",
   "execution_count": 166,
   "id": "a252045c-bac6-4ddf-99c7-92accc70cb22",
   "metadata": {},
   "outputs": [],
   "source": [
    "mapping = {'!':0, '?':1, 'h':2, 'i':3} \n",
    "x = torch.nn.functional.one_hot(torch.tensor(f(txt_x,mapping))).float().to(\"cuda:0\")\n",
    "y = torch.nn.functional.one_hot(torch.tensor(f(txt_y,mapping))).float().to(\"cuda:0\")"
   ]
  },
  {
   "cell_type": "code",
   "execution_count": 167,
   "id": "7509ff26-144c-4b16-a801-51098592b3ef",
   "metadata": {},
   "outputs": [],
   "source": [
    "torch.manual_seed(43052) \n",
    "lstm = torch.nn.LSTM(4,10).to(\"cuda:0\")\n",
    "linr = torch.nn.Linear(10,4).to(\"cuda:0\")"
   ]
  },
  {
   "cell_type": "code",
   "execution_count": 168,
   "id": "a0de556b-0aab-41c3-aedf-558685f0925e",
   "metadata": {},
   "outputs": [],
   "source": [
    "loss_fn = torch.nn.CrossEntropyLoss() \n",
    "optimizr = torch.optim.Adam(list(lstm.parameters())+list(linr.parameters()),lr=0.1)"
   ]
  },
  {
   "cell_type": "code",
   "execution_count": 169,
   "id": "a4baaed7-95c4-4fa1-8263-419f60039484",
   "metadata": {},
   "outputs": [],
   "source": [
    "for epoc in range(100):\n",
    "    ## 1 \n",
    "    hidden, _ = lstm(x) \n",
    "    output = linr(hidden) \n",
    "    ## 2 \n",
    "    loss = loss_fn(output,y) \n",
    "    ## 3 \n",
    "    loss.backward() \n",
    "    ## 4 \n",
    "    optimizr.step()\n",
    "    optimizr.zero_grad()"
   ]
  },
  {
   "cell_type": "code",
   "execution_count": 171,
   "id": "817df1e9-7bad-4039-a343-b483c8b22b02",
   "metadata": {},
   "outputs": [
    {
     "data": {
      "text/plain": [
       "<matplotlib.image.AxesImage at 0x7f6b994a6f50>"
      ]
     },
     "execution_count": 171,
     "metadata": {},
     "output_type": "execute_result"
    },
    {
     "data": {
      "image/png": "[encoded data removed]",
      "text/plain": [
       "<Figure size 288x1152 with 1 Axes>"
      ]
     },
     "metadata": {
      "needs_background": "light"
     },
     "output_type": "display_data"
    }
   ],
   "source": [
    "hidden, _ = lstm(x)\n",
    "plt.matshow(soft(linr(hidden)).to(\"cpu\").data,cmap='bwr',vmin=-1,vmax=1)"
   ]
  },
  {
   "cell_type": "markdown",
   "id": "6015cb47-e43c-4a77-aa26-d8e6cfd7397b",
   "metadata": {},
   "source": [
    "## 조각난 시계열 "
   ]
  },
  {
   "cell_type": "code",
   "execution_count": 177,
   "id": "7fe050b8-ffc6-4522-9ea4-5e51c63aebfe",
   "metadata": {},
   "outputs": [],
   "source": [
    "txt1= txt[:9]\n",
    "txt2= txt[9:]"
   ]
  },
  {
   "cell_type": "code",
   "execution_count": 178,
   "id": "46b9ebe3-ec6c-428a-b46f-3da0cda793c7",
   "metadata": {},
   "outputs": [
    {
     "data": {
      "text/plain": [
       "(['h', 'i', '!', 'h', 'i', '!', 'h', 'i', '!'],\n",
       " ['h', 'i', '?', 'h', 'i', '?', 'h', 'i', '?'])"
      ]
     },
     "execution_count": 178,
     "metadata": {},
     "output_type": "execute_result"
    }
   ],
   "source": [
    "txt1,txt2"
   ]
  },
  {
   "cell_type": "code",
   "execution_count": 179,
   "id": "4cbbc97f-bfbe-4c9f-ad03-ef8882f8a9fa",
   "metadata": {},
   "outputs": [],
   "source": [
    "txt1_x = txt1[:-1] \n",
    "txt1_y = txt1[1:] \n",
    "txt2_x = txt2[:-1] \n",
    "txt2_y = txt2[1:] "
   ]
  },
  {
   "cell_type": "code",
   "execution_count": 180,
   "id": "f66aefcf-c663-4f69-8dc6-453d537b0f87",
   "metadata": {},
   "outputs": [],
   "source": [
    "mapping = {'!':0, '?':1, 'h':2, 'i':3} \n",
    "x1 = torch.nn.functional.one_hot(torch.tensor(f(txt1_x,mapping))).float().to(\"cuda:0\")\n",
    "y1 = torch.nn.functional.one_hot(torch.tensor(f(txt1_y,mapping))).float().to(\"cuda:0\")\n",
    "x2 = torch.nn.functional.one_hot(torch.tensor(f(txt2_x,mapping))).float().to(\"cuda:0\")\n",
    "y2 = torch.nn.functional.one_hot(torch.tensor(f(txt2_y,mapping))).float().to(\"cuda:0\")"
   ]
  },
  {
   "cell_type": "code",
   "execution_count": 181,
   "id": "11f335c8-2af8-43b8-8baf-9f2ef9a34aed",
   "metadata": {},
   "outputs": [
    {
     "data": {
      "text/plain": [
       "(torch.Size([8, 4]),\n",
       " torch.Size([8, 4]),\n",
       " torch.Size([8, 4]),\n",
       " torch.Size([8, 4]))"
      ]
     },
     "execution_count": 181,
     "metadata": {},
     "output_type": "execute_result"
    }
   ],
   "source": [
    "x1.shape, y1.shape, x2.shape, y2.shape"
   ]
  },
  {
   "cell_type": "code",
   "execution_count": 182,
   "id": "7f8f4190-2a2d-402b-af88-eee15dbe3641",
   "metadata": {},
   "outputs": [
    {
     "data": {
      "text/plain": [
       "(torch.Size([8, 2, 4]), torch.Size([8, 2, 4]))"
      ]
     },
     "execution_count": 182,
     "metadata": {},
     "output_type": "execute_result"
    }
   ],
   "source": [
    "xx = torch.stack([x1,x2],axis=1)\n",
    "yy = torch.stack([y1,y2],axis=1)\n",
    "xx.shape, yy.shape"
   ]
  },
  {
   "cell_type": "code",
   "execution_count": 183,
   "id": "d6cfaaa5-1c0d-4ac1-bc01-0fd024d084e2",
   "metadata": {},
   "outputs": [],
   "source": [
    "torch.manual_seed(43052) \n",
    "lstm = torch.nn.LSTM(4,10).to(\"cuda:0\")\n",
    "linr = torch.nn.Linear(10,4).to(\"cuda:0\")"
   ]
  },
  {
   "cell_type": "code",
   "execution_count": 184,
   "id": "305bba39-9f5a-4649-8cf3-3033b0992e88",
   "metadata": {},
   "outputs": [],
   "source": [
    "loss_fn = torch.nn.CrossEntropyLoss() \n",
    "optimizr = torch.optim.Adam(list(lstm.parameters())+list(linr.parameters()),lr=0.1)"
   ]
  },
  {
   "cell_type": "code",
   "execution_count": 185,
   "id": "0272bc93-e0df-4260-815b-2bf4358eb68a",
   "metadata": {},
   "outputs": [],
   "source": [
    "for epoc in range(100):\n",
    "    ## 1 \n",
    "    hidden, _ = lstm(xx) \n",
    "    output = linr(hidden) \n",
    "    ## 2 \n",
    "    loss = loss_fn(output[:,0,:],yy[:,0,:]) + loss_fn(output[:,1,:],yy[:,1,:])\n",
    "    ## 3 \n",
    "    loss.backward() \n",
    "    ## 4 \n",
    "    optimizr.step()\n",
    "    optimizr.zero_grad()"
   ]
  },
  {
   "cell_type": "code",
   "execution_count": 186,
   "id": "38414219-0ae3-46ba-bd6c-2ddb9149e279",
   "metadata": {},
   "outputs": [
    {
     "data": {
      "text/plain": [
       "<matplotlib.image.AxesImage at 0x7f6b70111650>"
      ]
     },
     "execution_count": 186,
     "metadata": {},
     "output_type": "execute_result"
    },
    {
     "data": {
      "image/png": "[encoded data removed]",
      "text/plain": [
       "<Figure size 432x288 with 2 Axes>"
      ]
     },
     "metadata": {
      "needs_background": "light"
     },
     "output_type": "display_data"
    }
   ],
   "source": [
    "fig , ax = plt.subplots(1,2) \n",
    "ax[0].matshow(soft(output[:,0,:]).to(\"cpu\").data,cmap='bwr',vmin=-1,vmax=1)\n",
    "ax[1].matshow(soft(output[:,1,:]).to(\"cpu\").data,cmap='bwr',vmin=-1,vmax=1)"
   ]
  },
  {
   "cell_type": "code",
   "execution_count": 190,
   "id": "f8af06a9-c477-43fc-a7c8-2821eb071f3d",
   "metadata": {},
   "outputs": [
    {
     "data": {
      "text/plain": [
       "<matplotlib.image.AxesImage at 0x7f6b70111350>"
      ]
     },
     "execution_count": 190,
     "metadata": {},
     "output_type": "execute_result"
    },
    {
     "data": {
      "image/png": "[encoded data removed]",
      "text/plain": [
       "<Figure size 288x1152 with 1 Axes>"
      ]
     },
     "metadata": {
      "needs_background": "light"
     },
     "output_type": "display_data"
    }
   ],
   "source": [
    "hidden, _ = lstm(x)\n",
    "plt.matshow(soft(linr(hidden)).to(\"cpu\").data,cmap='bwr',vmin=-1,vmax=1)"
   ]
  },
  {
   "cell_type": "markdown",
   "id": "92209689-e83d-48af-bbd8-b9aa6a454f8c",
   "metadata": {},
   "source": [
    "`-` 조각난 시계열로 학습한 경우는 hi!에서 hi?로 바뀔 수 없다. 왜냐햐면 그러한 연결정보가 끊어져 있으니까"
   ]
  },
  {
   "cell_type": "markdown",
   "id": "efe074a3-56d6-43d1-a5d5-6089185b8a3d",
   "metadata": {},
   "source": [
    "## 재미있는 실험 "
   ]
  },
  {
   "cell_type": "markdown",
   "id": "4da771da-db6c-4a02-9328-4890cc4e3484",
   "metadata": {},
   "source": [
    "`-` x1만 배운다면? "
   ]
  },
  {
   "cell_type": "code",
   "execution_count": 172,
   "id": "83f87cfa-26bd-4ae9-8729-c7baeae05e94",
   "metadata": {},
   "outputs": [],
   "source": [
    "torch.manual_seed(43052) \n",
    "lstm = torch.nn.LSTM(4,10).to(\"cuda:0\")\n",
    "linr = torch.nn.Linear(10,4).to(\"cuda:0\")"
   ]
  },
  {
   "cell_type": "code",
   "execution_count": 173,
   "id": "d6af0500-febe-4703-868a-a56d0d973608",
   "metadata": {},
   "outputs": [],
   "source": [
    "loss_fn = torch.nn.CrossEntropyLoss() \n",
    "optimizr = torch.optim.Adam(list(lstm.parameters())+list(linr.parameters()),lr=0.1)"
   ]
  },
  {
   "cell_type": "code",
   "execution_count": 175,
   "id": "97326acf-ce38-44da-9894-71ae361221d3",
   "metadata": {},
   "outputs": [],
   "source": [
    "for epoc in range(100):\n",
    "    ## 1 \n",
    "    hidden, _ = lstm(x1) \n",
    "    output = linr(hidden) \n",
    "    ## 2 \n",
    "    loss = loss_fn(output,y1)\n",
    "    ## 3 \n",
    "    loss.backward() \n",
    "    ## 4 \n",
    "    optimizr.step()\n",
    "    optimizr.zero_grad()"
   ]
  },
  {
   "cell_type": "code",
   "execution_count": 176,
   "id": "5562d18a-2797-4189-bf85-92f248c31483",
   "metadata": {},
   "outputs": [
    {
     "data": {
      "text/plain": [
       "<matplotlib.image.AxesImage at 0x7f6b701ba890>"
      ]
     },
     "execution_count": 176,
     "metadata": {},
     "output_type": "execute_result"
    },
    {
     "data": {
      "image/png": "[encoded data removed]",
      "text/plain": [
       "<Figure size 288x576 with 1 Axes>"
      ]
     },
     "metadata": {
      "needs_background": "light"
     },
     "output_type": "display_data"
    }
   ],
   "source": [
    "hidden, _ = lstm(x2)\n",
    "plt.matshow(soft(linr(hidden)).to(\"cpu\").data,cmap='bwr',vmin=-1,vmax=1)"
   ]
  },
  {
   "cell_type": "markdown",
   "id": "a5bf5720-0afb-4fc6-82fd-2d3e9e22decd",
   "metadata": {},
   "source": [
    "`-` x2만 배운다면? "
   ]
  },
  {
   "cell_type": "code",
   "execution_count": 191,
   "id": "b4831ede-47c4-483b-bd89-f27e62bfa570",
   "metadata": {},
   "outputs": [],
   "source": [
    "torch.manual_seed(43052) \n",
    "lstm = torch.nn.LSTM(4,10).to(\"cuda:0\")\n",
    "linr = torch.nn.Linear(10,4).to(\"cuda:0\")"
   ]
  },
  {
   "cell_type": "code",
   "execution_count": 192,
   "id": "b0612f13-d262-46f9-90ae-6e2c03d855ef",
   "metadata": {},
   "outputs": [],
   "source": [
    "loss_fn = torch.nn.CrossEntropyLoss() \n",
    "optimizr = torch.optim.Adam(list(lstm.parameters())+list(linr.parameters()),lr=0.1)"
   ]
  },
  {
   "cell_type": "code",
   "execution_count": 193,
   "id": "d054ebdb-d175-4ec3-949d-dd6d21a70384",
   "metadata": {},
   "outputs": [],
   "source": [
    "for epoc in range(100):\n",
    "    ## 1 \n",
    "    hidden, _ = lstm(x2) \n",
    "    output = linr(hidden) \n",
    "    ## 2 \n",
    "    loss = loss_fn(output,y2)\n",
    "    ## 3 \n",
    "    loss.backward() \n",
    "    ## 4 \n",
    "    optimizr.step()\n",
    "    optimizr.zero_grad()"
   ]
  },
  {
   "cell_type": "code",
   "execution_count": 195,
   "id": "2c7fa235-7fd9-48ea-b789-8077bbd3fc11",
   "metadata": {},
   "outputs": [
    {
     "data": {
      "text/plain": [
       "<matplotlib.image.AxesImage at 0x7f6b9809ef50>"
      ]
     },
     "execution_count": 195,
     "metadata": {},
     "output_type": "execute_result"
    },
    {
     "data": {
      "image/png": "[encoded data removed]",
      "text/plain": [
       "<Figure size 288x576 with 1 Axes>"
      ]
     },
     "metadata": {
      "needs_background": "light"
     },
     "output_type": "display_data"
    }
   ],
   "source": [
    "hidden, _ = lstm(x1)\n",
    "plt.matshow(soft(linr(hidden)).to(\"cpu\").data,cmap='bwr',vmin=-1,vmax=1)"
   ]
  },
  {
   "cell_type": "markdown",
   "id": "e3070fc3-95c1-4e10-9738-1ee0e242c819",
   "metadata": {},
   "source": [
    "# 똑같은 코드들 fastai, pytorch"
   ]
  },
  {
   "cell_type": "markdown",
   "id": "08604da9-62de-473f-a1db-9380fe5114dd",
   "metadata": {
    "tags": []
   },
   "source": [
    "## data: human numbers 5"
   ]
  },
  {
   "cell_type": "code",
   "execution_count": 196,
   "id": "b25ceb72-e7a8-4a50-bae8-f6a55c6f91c0",
   "metadata": {},
   "outputs": [],
   "source": [
    "txt = (['one',',','two',',','three',',','four',',','five',',']*100)[:-1]"
   ]
  },
  {
   "cell_type": "code",
   "execution_count": 197,
   "id": "9e0643af-50f0-4ec9-8814-4dc443ba1250",
   "metadata": {},
   "outputs": [
    {
     "data": {
      "text/plain": [
       "{',': 0, 'one': 1, 'two': 2, 'three': 3, 'four': 4, 'five': 5}"
      ]
     },
     "execution_count": 197,
     "metadata": {},
     "output_type": "execute_result"
    }
   ],
   "source": [
    "mapping = {',':0, 'one':1, 'two':2, 'three':3, 'four':4, 'five':5} \n",
    "mapping"
   ]
  },
  {
   "cell_type": "code",
   "execution_count": 198,
   "id": "de557d01-17ac-4f30-a30d-2fbbb2730bc8",
   "metadata": {},
   "outputs": [],
   "source": [
    "txt_x = txt[:-1]\n",
    "txt_y = txt[1:] "
   ]
  },
  {
   "cell_type": "code",
   "execution_count": 199,
   "id": "374542df-d6b4-421e-b81c-e43786ef9d2b",
   "metadata": {},
   "outputs": [
    {
     "data": {
      "text/plain": [
       "(['one', ',', 'two', ',', 'three'], [',', 'two', ',', 'three', ','])"
      ]
     },
     "execution_count": 199,
     "metadata": {},
     "output_type": "execute_result"
    }
   ],
   "source": [
    "txt_x[0:5], txt_y[0:5]"
   ]
  },
  {
   "cell_type": "code",
   "execution_count": 200,
   "id": "30a320e9-b789-4ecb-a75b-a802966f0910",
   "metadata": {},
   "outputs": [],
   "source": [
    "x = torch.nn.functional.one_hot(torch.tensor(f(txt_x,mapping))).float().to(\"cuda:0\")\n",
    "y = torch.nn.functional.one_hot(torch.tensor(f(txt_y,mapping))).float().to(\"cuda:0\")"
   ]
  },
  {
   "cell_type": "markdown",
   "id": "dce68293-ac82-4179-a290-2ac3c8148a9c",
   "metadata": {},
   "source": [
    "## fastai 이용한 learn "
   ]
  },
  {
   "cell_type": "code",
   "execution_count": 215,
   "id": "91a7f339-1b80-413f-bffb-2023cfc93529",
   "metadata": {},
   "outputs": [],
   "source": [
    "ds1 = torch.utils.data.TensorDataset(x,y)\n",
    "ds2 = torch.utils.data.TensorDataset(x,y) # dummy \n",
    "dl1 = torch.utils.data.DataLoader(ds1,batch_size=998)\n",
    "dl2 = torch.utils.data.DataLoader(ds2,batch_size=998) # dummy \n",
    "dls = DataLoaders(dl1,dl2) "
   ]
  },
  {
   "cell_type": "code",
   "execution_count": 216,
   "id": "1c8c6ab2-bf0e-4623-8ea4-2e1d675fad7e",
   "metadata": {},
   "outputs": [],
   "source": [
    "class MyLSTM(torch.nn.Module):\n",
    "    def __init__(self):\n",
    "        super().__init__()\n",
    "        torch.manual_seed(43052)\n",
    "        self.lstm = torch.nn.LSTM(6,20)\n",
    "        self.linr = torch.nn.Linear(20,6) \n",
    "    def forward(self,x):\n",
    "        _water = torch.zeros(1,20).to(\"cuda:0\")\n",
    "        hidden, (hT,cT) =self.lstm(x,(_water,_water))\n",
    "        output = self.linr(hidden)\n",
    "        return output         "
   ]
  },
  {
   "cell_type": "code",
   "execution_count": 217,
   "id": "758fd0df-ef58-4f52-b3e9-a01af5560406",
   "metadata": {},
   "outputs": [],
   "source": [
    "net = MyLSTM().to(\"cuda:0\")\n",
    "loss_fn = torch.nn.CrossEntropyLoss()"
   ]
  },
  {
   "cell_type": "code",
   "execution_count": 218,
   "id": "921ee259-42ea-4f4b-8d90-aedddca5b603",
   "metadata": {},
   "outputs": [],
   "source": [
    "lrnr = Learner(dls,net,loss_fn,lr=0.1)"
   ]
  },
  {
   "cell_type": "code",
   "execution_count": 219,
   "id": "5e517aee-0893-453e-9235-c0774b66c7d1",
   "metadata": {},
   "outputs": [
    {
     "data": {
      "text/html": [
       "\n",
       "<style>\n",
       "    /* Turns off some styling */\n",
       "    progress {\n",
       "        /* gets rid of default border in Firefox and Opera. */\n",
       "        border: none;\n",
       "        /* Needs to be in here for Safari polyfill so background images work as expected. */\n",
       "        background-size: auto;\n",
       "    }\n",
       "    progress:not([value]), progress:not([value])::-webkit-progress-bar {\n",
       "        background: repeating-linear-gradient(45deg, #7e7e7e, #7e7e7e 10px, #5c5c5c 10px, #5c5c5c 20px);\n",
       "    }\n",
       "    .progress-bar-interrupted, .progress-bar-interrupted::-webkit-progress-bar {\n",
       "        background: #F44336;\n",
       "    }\n",
       "</style>\n"
      ],
      "text/plain": [
       "<IPython.core.display.HTML object>"
      ]
     },
     "metadata": {},
     "output_type": "display_data"
    },
    {
     "data": {
      "text/html": [
       "<table border=\"1\" class=\"dataframe\">\n",
       "  <thead>\n",
       "    <tr style=\"text-align: left;\">\n",
       "      <th>epoch</th>\n",
       "      <th>train_loss</th>\n",
       "      <th>valid_loss</th>\n",
       "      <th>time</th>\n",
       "    </tr>\n",
       "  </thead>\n",
       "  <tbody>\n",
       "    <tr>\n",
       "      <td>0</td>\n",
       "      <td>1.762846</td>\n",
       "      <td>1.502211</td>\n",
       "      <td>00:00</td>\n",
       "    </tr>\n",
       "    <tr>\n",
       "      <td>1</td>\n",
       "      <td>1.631212</td>\n",
       "      <td>1.620583</td>\n",
       "      <td>00:00</td>\n",
       "    </tr>\n",
       "    <tr>\n",
       "      <td>2</td>\n",
       "      <td>1.627597</td>\n",
       "      <td>1.443686</td>\n",
       "      <td>00:00</td>\n",
       "    </tr>\n",
       "    <tr>\n",
       "      <td>3</td>\n",
       "      <td>1.580216</td>\n",
       "      <td>1.368762</td>\n",
       "      <td>00:00</td>\n",
       "    </tr>\n",
       "    <tr>\n",
       "      <td>4</td>\n",
       "      <td>1.536200</td>\n",
       "      <td>1.307310</td>\n",
       "      <td>00:00</td>\n",
       "    </tr>\n",
       "    <tr>\n",
       "      <td>5</td>\n",
       "      <td>1.496099</td>\n",
       "      <td>1.216339</td>\n",
       "      <td>00:00</td>\n",
       "    </tr>\n",
       "    <tr>\n",
       "      <td>6</td>\n",
       "      <td>1.453670</td>\n",
       "      <td>1.113821</td>\n",
       "      <td>00:00</td>\n",
       "    </tr>\n",
       "    <tr>\n",
       "      <td>7</td>\n",
       "      <td>1.408125</td>\n",
       "      <td>1.019931</td>\n",
       "      <td>00:00</td>\n",
       "    </tr>\n",
       "    <tr>\n",
       "      <td>8</td>\n",
       "      <td>1.361426</td>\n",
       "      <td>0.941434</td>\n",
       "      <td>00:00</td>\n",
       "    </tr>\n",
       "    <tr>\n",
       "      <td>9</td>\n",
       "      <td>1.315507</td>\n",
       "      <td>0.884034</td>\n",
       "      <td>00:00</td>\n",
       "    </tr>\n",
       "  </tbody>\n",
       "</table>"
      ],
      "text/plain": [
       "<IPython.core.display.HTML object>"
      ]
     },
     "metadata": {},
     "output_type": "display_data"
    }
   ],
   "source": [
    "lrnr.fit(10)"
   ]
  },
  {
   "cell_type": "code",
   "execution_count": 220,
   "id": "af53dc25-0a94-49ef-945a-6790eb8d1a12",
   "metadata": {},
   "outputs": [
    {
     "data": {
      "text/plain": [
       "array([[0.935, 0.009, 0.015, 0.011, 0.016, 0.014],\n",
       "       [0.133, 0.164, 0.242, 0.172, 0.141, 0.147],\n",
       "       [0.982, 0.003, 0.004, 0.003, 0.004, 0.003],\n",
       "       ...,\n",
       "       [0.122, 0.171, 0.242, 0.174, 0.146, 0.144],\n",
       "       [0.984, 0.003, 0.004, 0.002, 0.004, 0.003],\n",
       "       [0.119, 0.172, 0.244, 0.175, 0.144, 0.145]], dtype=float32)"
      ]
     },
     "execution_count": 220,
     "metadata": {},
     "output_type": "execute_result"
    }
   ],
   "source": [
    "soft(lrnr.model(x)).data.to(\"cpu\").numpy().round(3)"
   ]
  },
  {
   "cell_type": "markdown",
   "id": "239a11e6-c222-4e0f-b31a-53d62b81c1c8",
   "metadata": {},
   "source": [
    "## torch를 이용한 learn "
   ]
  },
  {
   "cell_type": "code",
   "execution_count": 230,
   "id": "d40ec1a3-46cd-4e39-942a-327cf2d53895",
   "metadata": {},
   "outputs": [],
   "source": [
    "torch.manual_seed(43052) \n",
    "lstm = torch.nn.LSTM(6,20).to(\"cuda:0\") \n",
    "linr = torch.nn.Linear(20,6).to(\"cuda:0\") \n",
    "loss_fn = torch.nn.CrossEntropyLoss()\n",
    "optimizr = Adam(list(lstm.parameters())+list(linr.parameters()),lr=0.1)"
   ]
  },
  {
   "cell_type": "code",
   "execution_count": 231,
   "id": "86d6806e-5802-4a9a-8b47-74597ae50f89",
   "metadata": {},
   "outputs": [],
   "source": [
    "for epoc in range(10):\n",
    "    ## 1 \n",
    "    hidden, _ = lstm(x)\n",
    "    output = linr(hidden) \n",
    "    ## 2 \n",
    "    loss = loss_fn(output,y) \n",
    "    ## 3 \n",
    "    loss.backward()\n",
    "    ## 4 \n",
    "    optimizr.step()\n",
    "    optimizr.zero_grad()     "
   ]
  },
  {
   "cell_type": "code",
   "execution_count": 232,
   "id": "b4f658e4-da20-44f7-a5fa-b9e090388614",
   "metadata": {},
   "outputs": [
    {
     "data": {
      "text/plain": [
       "array([[0.935, 0.009, 0.015, 0.011, 0.016, 0.014],\n",
       "       [0.133, 0.164, 0.242, 0.172, 0.141, 0.147],\n",
       "       [0.982, 0.003, 0.004, 0.003, 0.004, 0.003],\n",
       "       ...,\n",
       "       [0.122, 0.171, 0.242, 0.174, 0.146, 0.144],\n",
       "       [0.984, 0.003, 0.004, 0.002, 0.004, 0.003],\n",
       "       [0.119, 0.172, 0.244, 0.175, 0.145, 0.145]], dtype=float32)"
      ]
     },
     "execution_count": 232,
     "metadata": {},
     "output_type": "execute_result"
    }
   ],
   "source": [
    "hidden, _ = lstm(x)\n",
    "output = linr(hidden) \n",
    "soft(output).data.to(\"cpu\").numpy().round(3)"
   ]
  },
  {
   "cell_type": "markdown",
   "id": "5510d057-2beb-4891-8beb-205af1d26f92",
   "metadata": {},
   "source": [
    "# human numbers 100"
   ]
  },
  {
   "cell_type": "code",
   "execution_count": 789,
   "id": "36e6d771-10b7-4e25-be4c-a99909c91de9",
   "metadata": {},
   "outputs": [
    {
     "data": {
      "text/html": [
       "<div>\n",
       "<style scoped>\n",
       "    .dataframe tbody tr th:only-of-type {\n",
       "        vertical-align: middle;\n",
       "    }\n",
       "\n",
       "    .dataframe tbody tr th {\n",
       "        vertical-align: top;\n",
       "    }\n",
       "\n",
       "    .dataframe thead th {\n",
       "        text-align: right;\n",
       "    }\n",
       "</style>\n",
       "<table border=\"1\" class=\"dataframe\">\n",
       "  <thead>\n",
       "    <tr style=\"text-align: right;\">\n",
       "      <th></th>\n",
       "      <th>text</th>\n",
       "    </tr>\n",
       "  </thead>\n",
       "  <tbody>\n",
       "    <tr>\n",
       "      <th>0</th>\n",
       "      <td>one, two, three, four, five, six, seven, eight, nine, ten, eleven, twelve, thirteen, fourteen, fifteen, sixteen, seventeen, eighteen, nineteen, twenty, twenty one, twenty two, twenty three, twenty four, twenty five, twenty six, twenty seven, twenty eight, twenty nine, thirty, thirty one, thirty two, thirty three, thirty four, thirty five, thirty six, thirty seven, thirty eight, thirty nine, forty, forty one, forty two, forty three, forty four, forty five, forty six, forty seven, forty eight, forty nine, fifty, fifty one, fifty two, fifty three, fifty four, fifty five, fifty six, fifty seve...</td>\n",
       "    </tr>\n",
       "    <tr>\n",
       "      <th>1</th>\n",
       "      <td>one, two, three, four, five, six, seven, eight, nine, ten, eleven, twelve, thirteen, fourteen, fifteen, sixteen, seventeen, eighteen, nineteen, twenty, twenty one, twenty two, twenty three, twenty four, twenty five, twenty six, twenty seven, twenty eight, twenty nine, thirty, thirty one, thirty two, thirty three, thirty four, thirty five, thirty six, thirty seven, thirty eight, thirty nine, forty, forty one, forty two, forty three, forty four, forty five, forty six, forty seven, forty eight, forty nine, fifty, fifty one, fifty two, fifty three, fifty four, fifty five, fifty six, fifty seve...</td>\n",
       "    </tr>\n",
       "    <tr>\n",
       "      <th>2</th>\n",
       "      <td>one, two, three, four, five, six, seven, eight, nine, ten, eleven, twelve, thirteen, fourteen, fifteen, sixteen, seventeen, eighteen, nineteen, twenty, twenty one, twenty two, twenty three, twenty four, twenty five, twenty six, twenty seven, twenty eight, twenty nine, thirty, thirty one, thirty two, thirty three, thirty four, thirty five, thirty six, thirty seven, thirty eight, thirty nine, forty, forty one, forty two, forty three, forty four, forty five, forty six, forty seven, forty eight, forty nine, fifty, fifty one, fifty two, fifty three, fifty four, fifty five, fifty six, fifty seve...</td>\n",
       "    </tr>\n",
       "    <tr>\n",
       "      <th>3</th>\n",
       "      <td>one, two, three, four, five, six, seven, eight, nine, ten, eleven, twelve, thirteen, fourteen, fifteen, sixteen, seventeen, eighteen, nineteen, twenty, twenty one, twenty two, twenty three, twenty four, twenty five, twenty six, twenty seven, twenty eight, twenty nine, thirty, thirty one, thirty two, thirty three, thirty four, thirty five, thirty six, thirty seven, thirty eight, thirty nine, forty, forty one, forty two, forty three, forty four, forty five, forty six, forty seven, forty eight, forty nine, fifty, fifty one, fifty two, fifty three, fifty four, fifty five, fifty six, fifty seve...</td>\n",
       "    </tr>\n",
       "    <tr>\n",
       "      <th>4</th>\n",
       "      <td>one, two, three, four, five, six, seven, eight, nine, ten, eleven, twelve, thirteen, fourteen, fifteen, sixteen, seventeen, eighteen, nineteen, twenty, twenty one, twenty two, twenty three, twenty four, twenty five, twenty six, twenty seven, twenty eight, twenty nine, thirty, thirty one, thirty two, thirty three, thirty four, thirty five, thirty six, thirty seven, thirty eight, thirty nine, forty, forty one, forty two, forty three, forty four, forty five, forty six, forty seven, forty eight, forty nine, fifty, fifty one, fifty two, fifty three, fifty four, fifty five, fifty six, fifty seve...</td>\n",
       "    </tr>\n",
       "    <tr>\n",
       "      <th>...</th>\n",
       "      <td>...</td>\n",
       "    </tr>\n",
       "    <tr>\n",
       "      <th>1995</th>\n",
       "      <td>one, two, three, four, five, six, seven, eight, nine, ten, eleven, twelve, thirteen, fourteen, fifteen, sixteen, seventeen, eighteen, nineteen, twenty, twenty one, twenty two, twenty three, twenty four, twenty five, twenty six, twenty seven, twenty eight, twenty nine, thirty, thirty one, thirty two, thirty three, thirty four, thirty five, thirty six, thirty seven, thirty eight, thirty nine, forty, forty one, forty two, forty three, forty four, forty five, forty six, forty seven, forty eight, forty nine, fifty, fifty one, fifty two, fifty three, fifty four, fifty five, fifty six, fifty seve...</td>\n",
       "    </tr>\n",
       "    <tr>\n",
       "      <th>1996</th>\n",
       "      <td>one, two, three, four, five, six, seven, eight, nine, ten, eleven, twelve, thirteen, fourteen, fifteen, sixteen, seventeen, eighteen, nineteen, twenty, twenty one, twenty two, twenty three, twenty four, twenty five, twenty six, twenty seven, twenty eight, twenty nine, thirty, thirty one, thirty two, thirty three, thirty four, thirty five, thirty six, thirty seven, thirty eight, thirty nine, forty, forty one, forty two, forty three, forty four, forty five, forty six, forty seven, forty eight, forty nine, fifty, fifty one, fifty two, fifty three, fifty four, fifty five, fifty six, fifty seve...</td>\n",
       "    </tr>\n",
       "    <tr>\n",
       "      <th>1997</th>\n",
       "      <td>one, two, three, four, five, six, seven, eight, nine, ten, eleven, twelve, thirteen, fourteen, fifteen, sixteen, seventeen, eighteen, nineteen, twenty, twenty one, twenty two, twenty three, twenty four, twenty five, twenty six, twenty seven, twenty eight, twenty nine, thirty, thirty one, thirty two, thirty three, thirty four, thirty five, thirty six, thirty seven, thirty eight, thirty nine, forty, forty one, forty two, forty three, forty four, forty five, forty six, forty seven, forty eight, forty nine, fifty, fifty one, fifty two, fifty three, fifty four, fifty five, fifty six, fifty seve...</td>\n",
       "    </tr>\n",
       "    <tr>\n",
       "      <th>1998</th>\n",
       "      <td>one, two, three, four, five, six, seven, eight, nine, ten, eleven, twelve, thirteen, fourteen, fifteen, sixteen, seventeen, eighteen, nineteen, twenty, twenty one, twenty two, twenty three, twenty four, twenty five, twenty six, twenty seven, twenty eight, twenty nine, thirty, thirty one, thirty two, thirty three, thirty four, thirty five, thirty six, thirty seven, thirty eight, thirty nine, forty, forty one, forty two, forty three, forty four, forty five, forty six, forty seven, forty eight, forty nine, fifty, fifty one, fifty two, fifty three, fifty four, fifty five, fifty six, fifty seve...</td>\n",
       "    </tr>\n",
       "    <tr>\n",
       "      <th>1999</th>\n",
       "      <td>one, two, three, four, five, six, seven, eight, nine, ten, eleven, twelve, thirteen, fourteen, fifteen, sixteen, seventeen, eighteen, nineteen, twenty, twenty one, twenty two, twenty three, twenty four, twenty five, twenty six, twenty seven, twenty eight, twenty nine, thirty, thirty one, thirty two, thirty three, thirty four, thirty five, thirty six, thirty seven, thirty eight, thirty nine, forty, forty one, forty two, forty three, forty four, forty five, forty six, forty seven, forty eight, forty nine, fifty, fifty one, fifty two, fifty three, fifty four, fifty five, fifty six, fifty seve...</td>\n",
       "    </tr>\n",
       "  </tbody>\n",
       "</table>\n",
       "<p>2000 rows × 1 columns</p>\n",
       "</div>"
      ],
      "text/plain": [
       "                                                                                                                                                                                                                                                                                                                                                                                                                                                                                                                                                                                                                         text\n",
       "0     one, two, three, four, five, six, seven, eight, nine, ten, eleven, twelve, thirteen, fourteen, fifteen, sixteen, seventeen, eighteen, nineteen, twenty, twenty one, twenty two, twenty three, twenty four, twenty five, twenty six, twenty seven, twenty eight, twenty nine, thirty, thirty one, thirty two, thirty three, thirty four, thirty five, thirty six, thirty seven, thirty eight, thirty nine, forty, forty one, forty two, forty three, forty four, forty five, forty six, forty seven, forty eight, forty nine, fifty, fifty one, fifty two, fifty three, fifty four, fifty five, fifty six, fifty seve...\n",
       "1     one, two, three, four, five, six, seven, eight, nine, ten, eleven, twelve, thirteen, fourteen, fifteen, sixteen, seventeen, eighteen, nineteen, twenty, twenty one, twenty two, twenty three, twenty four, twenty five, twenty six, twenty seven, twenty eight, twenty nine, thirty, thirty one, thirty two, thirty three, thirty four, thirty five, thirty six, thirty seven, thirty eight, thirty nine, forty, forty one, forty two, forty three, forty four, forty five, forty six, forty seven, forty eight, forty nine, fifty, fifty one, fifty two, fifty three, fifty four, fifty five, fifty six, fifty seve...\n",
       "2     one, two, three, four, five, six, seven, eight, nine, ten, eleven, twelve, thirteen, fourteen, fifteen, sixteen, seventeen, eighteen, nineteen, twenty, twenty one, twenty two, twenty three, twenty four, twenty five, twenty six, twenty seven, twenty eight, twenty nine, thirty, thirty one, thirty two, thirty three, thirty four, thirty five, thirty six, thirty seven, thirty eight, thirty nine, forty, forty one, forty two, forty three, forty four, forty five, forty six, forty seven, forty eight, forty nine, fifty, fifty one, fifty two, fifty three, fifty four, fifty five, fifty six, fifty seve...\n",
       "3     one, two, three, four, five, six, seven, eight, nine, ten, eleven, twelve, thirteen, fourteen, fifteen, sixteen, seventeen, eighteen, nineteen, twenty, twenty one, twenty two, twenty three, twenty four, twenty five, twenty six, twenty seven, twenty eight, twenty nine, thirty, thirty one, thirty two, thirty three, thirty four, thirty five, thirty six, thirty seven, thirty eight, thirty nine, forty, forty one, forty two, forty three, forty four, forty five, forty six, forty seven, forty eight, forty nine, fifty, fifty one, fifty two, fifty three, fifty four, fifty five, fifty six, fifty seve...\n",
       "4     one, two, three, four, five, six, seven, eight, nine, ten, eleven, twelve, thirteen, fourteen, fifteen, sixteen, seventeen, eighteen, nineteen, twenty, twenty one, twenty two, twenty three, twenty four, twenty five, twenty six, twenty seven, twenty eight, twenty nine, thirty, thirty one, thirty two, thirty three, thirty four, thirty five, thirty six, thirty seven, thirty eight, thirty nine, forty, forty one, forty two, forty three, forty four, forty five, forty six, forty seven, forty eight, forty nine, fifty, fifty one, fifty two, fifty three, fifty four, fifty five, fifty six, fifty seve...\n",
       "...                                                                                                                                                                                                                                                                                                                                                                                                                                                                                                                                                                                                                       ...\n",
       "1995  one, two, three, four, five, six, seven, eight, nine, ten, eleven, twelve, thirteen, fourteen, fifteen, sixteen, seventeen, eighteen, nineteen, twenty, twenty one, twenty two, twenty three, twenty four, twenty five, twenty six, twenty seven, twenty eight, twenty nine, thirty, thirty one, thirty two, thirty three, thirty four, thirty five, thirty six, thirty seven, thirty eight, thirty nine, forty, forty one, forty two, forty three, forty four, forty five, forty six, forty seven, forty eight, forty nine, fifty, fifty one, fifty two, fifty three, fifty four, fifty five, fifty six, fifty seve...\n",
       "1996  one, two, three, four, five, six, seven, eight, nine, ten, eleven, twelve, thirteen, fourteen, fifteen, sixteen, seventeen, eighteen, nineteen, twenty, twenty one, twenty two, twenty three, twenty four, twenty five, twenty six, twenty seven, twenty eight, twenty nine, thirty, thirty one, thirty two, thirty three, thirty four, thirty five, thirty six, thirty seven, thirty eight, thirty nine, forty, forty one, forty two, forty three, forty four, forty five, forty six, forty seven, forty eight, forty nine, fifty, fifty one, fifty two, fifty three, fifty four, fifty five, fifty six, fifty seve...\n",
       "1997  one, two, three, four, five, six, seven, eight, nine, ten, eleven, twelve, thirteen, fourteen, fifteen, sixteen, seventeen, eighteen, nineteen, twenty, twenty one, twenty two, twenty three, twenty four, twenty five, twenty six, twenty seven, twenty eight, twenty nine, thirty, thirty one, thirty two, thirty three, thirty four, thirty five, thirty six, thirty seven, thirty eight, thirty nine, forty, forty one, forty two, forty three, forty four, forty five, forty six, forty seven, forty eight, forty nine, fifty, fifty one, fifty two, fifty three, fifty four, fifty five, fifty six, fifty seve...\n",
       "1998  one, two, three, four, five, six, seven, eight, nine, ten, eleven, twelve, thirteen, fourteen, fifteen, sixteen, seventeen, eighteen, nineteen, twenty, twenty one, twenty two, twenty three, twenty four, twenty five, twenty six, twenty seven, twenty eight, twenty nine, thirty, thirty one, thirty two, thirty three, thirty four, thirty five, thirty six, thirty seven, thirty eight, thirty nine, forty, forty one, forty two, forty three, forty four, forty five, forty six, forty seven, forty eight, forty nine, fifty, fifty one, fifty two, fifty three, fifty four, fifty five, fifty six, fifty seve...\n",
       "1999  one, two, three, four, five, six, seven, eight, nine, ten, eleven, twelve, thirteen, fourteen, fifteen, sixteen, seventeen, eighteen, nineteen, twenty, twenty one, twenty two, twenty three, twenty four, twenty five, twenty six, twenty seven, twenty eight, twenty nine, thirty, thirty one, thirty two, thirty three, thirty four, thirty five, thirty six, thirty seven, thirty eight, thirty nine, forty, forty one, forty two, forty three, forty four, forty five, forty six, forty seven, forty eight, forty nine, fifty, fifty one, fifty two, fifty three, fifty four, fifty five, fifty six, fifty seve...\n",
       "\n",
       "[2000 rows x 1 columns]"
      ]
     },
     "execution_count": 789,
     "metadata": {},
     "output_type": "execute_result"
    }
   ],
   "source": [
    "df = pd.read_csv('https://raw.githubusercontent.com/guebin/DL2022/main/posts/IV.%20RNN/2022-11-25-human_numbers_100.csv')\n",
    "df"
   ]
  },
  {
   "cell_type": "markdown",
   "id": "c00897f5-2cbe-4d31-9ceb-96a280cd1c7c",
   "metadata": {},
   "source": [
    "`(1)` TextDataLoaders.from_df을 이용하여 dls오브젝트를 만들어라. \n",
    "- is_lm = True 로 설정할 것 \n",
    "- seq_len = 5 로 설정할 것 "
   ]
  },
  {
   "cell_type": "markdown",
   "id": "50bd2584-2082-487e-b8dc-c6b800b7f8de",
   "metadata": {},
   "source": [
    "(풀이)"
   ]
  },
  {
   "cell_type": "code",
   "execution_count": 791,
   "id": "6042b16b-e720-4bcb-94ba-b53a4552492d",
   "metadata": {},
   "outputs": [
    {
     "data": {
      "text/html": [
       "\n",
       "<style>\n",
       "    /* Turns off some styling */\n",
       "    progress {\n",
       "        /* gets rid of default border in Firefox and Opera. */\n",
       "        border: none;\n",
       "        /* Needs to be in here for Safari polyfill so background images work as expected. */\n",
       "        background-size: auto;\n",
       "    }\n",
       "    progress:not([value]), progress:not([value])::-webkit-progress-bar {\n",
       "        background: repeating-linear-gradient(45deg, #7e7e7e, #7e7e7e 10px, #5c5c5c 10px, #5c5c5c 20px);\n",
       "    }\n",
       "    .progress-bar-interrupted, .progress-bar-interrupted::-webkit-progress-bar {\n",
       "        background: #F44336;\n",
       "    }\n",
       "</style>\n"
      ],
      "text/plain": [
       "<IPython.core.display.HTML object>"
      ]
     },
     "metadata": {},
     "output_type": "display_data"
    },
    {
     "data": {
      "text/html": [],
      "text/plain": [
       "<IPython.core.display.HTML object>"
      ]
     },
     "metadata": {},
     "output_type": "display_data"
    },
    {
     "data": {
      "text/html": [
       "<table border=\"1\" class=\"dataframe\">\n",
       "  <thead>\n",
       "    <tr style=\"text-align: right;\">\n",
       "      <th></th>\n",
       "      <th>text</th>\n",
       "      <th>text_</th>\n",
       "    </tr>\n",
       "  </thead>\n",
       "  <tbody>\n",
       "    <tr>\n",
       "      <th>0</th>\n",
       "      <td>xxbos one , two ,</td>\n",
       "      <td>one , two , three</td>\n",
       "    </tr>\n",
       "    <tr>\n",
       "      <th>1</th>\n",
       "      <td>hundred xxbos one , two</td>\n",
       "      <td>xxbos one , two ,</td>\n",
       "    </tr>\n",
       "    <tr>\n",
       "      <th>2</th>\n",
       "      <td>one hundred xxbos one ,</td>\n",
       "      <td>hundred xxbos one , two</td>\n",
       "    </tr>\n",
       "    <tr>\n",
       "      <th>3</th>\n",
       "      <td>, one hundred xxbos one</td>\n",
       "      <td>one hundred xxbos one ,</td>\n",
       "    </tr>\n",
       "    <tr>\n",
       "      <th>4</th>\n",
       "      <td>nine , one hundred xxbos</td>\n",
       "      <td>, one hundred xxbos one</td>\n",
       "    </tr>\n",
       "    <tr>\n",
       "      <th>5</th>\n",
       "      <td>ninety nine , one hundred</td>\n",
       "      <td>nine , one hundred xxbos</td>\n",
       "    </tr>\n",
       "    <tr>\n",
       "      <th>6</th>\n",
       "      <td>, ninety nine , one</td>\n",
       "      <td>ninety nine , one hundred</td>\n",
       "    </tr>\n",
       "    <tr>\n",
       "      <th>7</th>\n",
       "      <td>eight , ninety nine ,</td>\n",
       "      <td>, ninety nine , one</td>\n",
       "    </tr>\n",
       "    <tr>\n",
       "      <th>8</th>\n",
       "      <td>ninety eight , ninety nine</td>\n",
       "      <td>eight , ninety nine ,</td>\n",
       "    </tr>\n",
       "  </tbody>\n",
       "</table>"
      ],
      "text/plain": [
       "<IPython.core.display.HTML object>"
      ]
     },
     "metadata": {},
     "output_type": "display_data"
    }
   ],
   "source": [
    "dls = TextDataLoaders.from_df(df,is_lm=True,seq_len=5,text_col='text')\n",
    "dls.show_batch()"
   ]
  },
  {
   "cell_type": "markdown",
   "id": "2161c786-4f31-4140-873e-77cdb269d00a",
   "metadata": {},
   "source": [
    "`(2)` lrnr 오브젝트를 만들어라. \n",
    "- arch = AWD_LSTM 이용 \n",
    "- metrics = accuracy 이용 "
   ]
  },
  {
   "cell_type": "markdown",
   "id": "c7182c95-2a1b-4b51-8f72-3fc62e51ec01",
   "metadata": {},
   "source": [
    "(풀이) "
   ]
  },
  {
   "cell_type": "code",
   "execution_count": 51,
   "id": "ae40e600-9cac-43ad-8283-b07aaa71bac7",
   "metadata": {},
   "outputs": [],
   "source": [
    "lrnr = language_model_learner(dls, arch= AWD_LSTM, metrics=accuracy)"
   ]
  },
  {
   "cell_type": "markdown",
   "id": "ea34ddd8-27e4-4cee-836a-07565d9b0805",
   "metadata": {},
   "source": [
    "`(3)` lrnr오브젝트에서 fine_tune(3) 메소드를 이용하여 모형을 학습하라. "
   ]
  },
  {
   "cell_type": "markdown",
   "id": "2f68b6f9-f96d-4938-b91b-d7a6ab544bcc",
   "metadata": {},
   "source": [
    "(풀이)"
   ]
  },
  {
   "cell_type": "code",
   "execution_count": 53,
   "id": "8a9e12a7-c4d5-471a-bef1-691679428994",
   "metadata": {},
   "outputs": [
    {
     "data": {
      "text/html": [
       "\n",
       "<style>\n",
       "    /* Turns off some styling */\n",
       "    progress {\n",
       "        /* gets rid of default border in Firefox and Opera. */\n",
       "        border: none;\n",
       "        /* Needs to be in here for Safari polyfill so background images work as expected. */\n",
       "        background-size: auto;\n",
       "    }\n",
       "    progress:not([value]), progress:not([value])::-webkit-progress-bar {\n",
       "        background: repeating-linear-gradient(45deg, #7e7e7e, #7e7e7e 10px, #5c5c5c 10px, #5c5c5c 20px);\n",
       "    }\n",
       "    .progress-bar-interrupted, .progress-bar-interrupted::-webkit-progress-bar {\n",
       "        background: #F44336;\n",
       "    }\n",
       "</style>\n"
      ],
      "text/plain": [
       "<IPython.core.display.HTML object>"
      ]
     },
     "metadata": {},
     "output_type": "display_data"
    },
    {
     "data": {
      "text/html": [
       "<table border=\"1\" class=\"dataframe\">\n",
       "  <thead>\n",
       "    <tr style=\"text-align: left;\">\n",
       "      <th>epoch</th>\n",
       "      <th>train_loss</th>\n",
       "      <th>valid_loss</th>\n",
       "      <th>accuracy</th>\n",
       "      <th>time</th>\n",
       "    </tr>\n",
       "  </thead>\n",
       "  <tbody>\n",
       "    <tr>\n",
       "      <td>0</td>\n",
       "      <td>0.534681</td>\n",
       "      <td>0.168856</td>\n",
       "      <td>0.977650</td>\n",
       "      <td>00:49</td>\n",
       "    </tr>\n",
       "  </tbody>\n",
       "</table>"
      ],
      "text/plain": [
       "<IPython.core.display.HTML object>"
      ]
     },
     "metadata": {},
     "output_type": "display_data"
    },
    {
     "data": {
      "text/html": [
       "\n",
       "<style>\n",
       "    /* Turns off some styling */\n",
       "    progress {\n",
       "        /* gets rid of default border in Firefox and Opera. */\n",
       "        border: none;\n",
       "        /* Needs to be in here for Safari polyfill so background images work as expected. */\n",
       "        background-size: auto;\n",
       "    }\n",
       "    progress:not([value]), progress:not([value])::-webkit-progress-bar {\n",
       "        background: repeating-linear-gradient(45deg, #7e7e7e, #7e7e7e 10px, #5c5c5c 10px, #5c5c5c 20px);\n",
       "    }\n",
       "    .progress-bar-interrupted, .progress-bar-interrupted::-webkit-progress-bar {\n",
       "        background: #F44336;\n",
       "    }\n",
       "</style>\n"
      ],
      "text/plain": [
       "<IPython.core.display.HTML object>"
      ]
     },
     "metadata": {},
     "output_type": "display_data"
    },
    {
     "data": {
      "text/html": [
       "<table border=\"1\" class=\"dataframe\">\n",
       "  <thead>\n",
       "    <tr style=\"text-align: left;\">\n",
       "      <th>epoch</th>\n",
       "      <th>train_loss</th>\n",
       "      <th>valid_loss</th>\n",
       "      <th>accuracy</th>\n",
       "      <th>time</th>\n",
       "    </tr>\n",
       "  </thead>\n",
       "  <tbody>\n",
       "    <tr>\n",
       "      <td>0</td>\n",
       "      <td>0.018749</td>\n",
       "      <td>0.003256</td>\n",
       "      <td>0.999205</td>\n",
       "      <td>00:54</td>\n",
       "    </tr>\n",
       "    <tr>\n",
       "      <td>1</td>\n",
       "      <td>0.001580</td>\n",
       "      <td>0.002430</td>\n",
       "      <td>0.999324</td>\n",
       "      <td>00:54</td>\n",
       "    </tr>\n",
       "    <tr>\n",
       "      <td>2</td>\n",
       "      <td>0.000651</td>\n",
       "      <td>0.002244</td>\n",
       "      <td>0.999315</td>\n",
       "      <td>00:54</td>\n",
       "    </tr>\n",
       "  </tbody>\n",
       "</table>"
      ],
      "text/plain": [
       "<IPython.core.display.HTML object>"
      ]
     },
     "metadata": {},
     "output_type": "display_data"
    }
   ],
   "source": [
    "lrnr.fine_tune(3)"
   ]
  },
  {
   "cell_type": "markdown",
   "id": "760e6821-c6bb-4eef-b11b-671dfda9abb8",
   "metadata": {},
   "source": [
    "`(4)` 'one , two ,' 이후에 이어질 50개의 단어를 생성하라."
   ]
  },
  {
   "cell_type": "markdown",
   "id": "768bf1a1-540a-47ed-b707-588ab396df43",
   "metadata": {},
   "source": [
    "(풀이) "
   ]
  },
  {
   "cell_type": "code",
   "execution_count": 56,
   "id": "941a8d75-1f51-45e0-b905-e86e38d5e394",
   "metadata": {},
   "outputs": [
    {
     "data": {
      "text/html": [
       "\n",
       "<style>\n",
       "    /* Turns off some styling */\n",
       "    progress {\n",
       "        /* gets rid of default border in Firefox and Opera. */\n",
       "        border: none;\n",
       "        /* Needs to be in here for Safari polyfill so background images work as expected. */\n",
       "        background-size: auto;\n",
       "    }\n",
       "    progress:not([value]), progress:not([value])::-webkit-progress-bar {\n",
       "        background: repeating-linear-gradient(45deg, #7e7e7e, #7e7e7e 10px, #5c5c5c 10px, #5c5c5c 20px);\n",
       "    }\n",
       "    .progress-bar-interrupted, .progress-bar-interrupted::-webkit-progress-bar {\n",
       "        background: #F44336;\n",
       "    }\n",
       "</style>\n"
      ],
      "text/plain": [
       "<IPython.core.display.HTML object>"
      ]
     },
     "metadata": {},
     "output_type": "display_data"
    },
    {
     "data": {
      "text/html": [],
      "text/plain": [
       "<IPython.core.display.HTML object>"
      ]
     },
     "metadata": {},
     "output_type": "display_data"
    },
    {
     "data": {
      "text/plain": [
       "'one , two , three , four , five , six , seven , eight , nine , ten , eleven , twelve , thirteen , fourteen , fifteen , sixteen , seventeen , eighteen , nineteen , twenty , twenty one , twenty two , twenty three , twenty four , twenty five'"
      ]
     },
     "execution_count": 56,
     "metadata": {},
     "output_type": "execute_result"
    }
   ],
   "source": [
    "lrnr.predict('one, two,', n_words=50) "
   ]
  },
  {
   "cell_type": "markdown",
   "id": "b2682596-4a0b-45a1-a9b4-5abd7d3f619a",
   "metadata": {},
   "source": [
    "`(5)` 'twenty , twenty one , ' 이후에 이어질 50개의 단어를 생성하라. "
   ]
  },
  {
   "cell_type": "markdown",
   "id": "ed306806-47f9-4fb4-9d24-0419e99805f4",
   "metadata": {},
   "source": [
    "(풀이) "
   ]
  },
  {
   "cell_type": "code",
   "execution_count": 57,
   "id": "41be91eb-f466-49a8-a306-d94cc710192a",
   "metadata": {},
   "outputs": [
    {
     "data": {
      "text/html": [
       "\n",
       "<style>\n",
       "    /* Turns off some styling */\n",
       "    progress {\n",
       "        /* gets rid of default border in Firefox and Opera. */\n",
       "        border: none;\n",
       "        /* Needs to be in here for Safari polyfill so background images work as expected. */\n",
       "        background-size: auto;\n",
       "    }\n",
       "    progress:not([value]), progress:not([value])::-webkit-progress-bar {\n",
       "        background: repeating-linear-gradient(45deg, #7e7e7e, #7e7e7e 10px, #5c5c5c 10px, #5c5c5c 20px);\n",
       "    }\n",
       "    .progress-bar-interrupted, .progress-bar-interrupted::-webkit-progress-bar {\n",
       "        background: #F44336;\n",
       "    }\n",
       "</style>\n"
      ],
      "text/plain": [
       "<IPython.core.display.HTML object>"
      ]
     },
     "metadata": {},
     "output_type": "display_data"
    },
    {
     "data": {
      "text/html": [],
      "text/plain": [
       "<IPython.core.display.HTML object>"
      ]
     },
     "metadata": {},
     "output_type": "display_data"
    },
    {
     "data": {
      "text/plain": [
       "'twenty , twenty one , twenty two , twenty three , twenty four , twenty five , twenty six , twenty seven , twenty eight , twenty nine , thirty , thirty one , thirty two , thirty three , thirty four , thirty five , thirty six , thirty seven , thirty eight ,'"
      ]
     },
     "execution_count": 57,
     "metadata": {},
     "output_type": "execute_result"
    }
   ],
   "source": [
    "lrnr.predict('twenty, twenty one,', n_words=50) "
   ]
  }
 ],
 "metadata": {
  "kernelspec": {
   "display_name": "Python 3",
   "language": "python",
   "name": "python3"
  },
  "language_info": {
   "codemirror_mode": {
    "name": "ipython",
    "version": 3
   },
   "file_extension": ".py",
   "mimetype": "text/x-python",
   "name": "python",
   "nbconvert_exporter": "python",
   "pygments_lexer": "ipython3",
   "version": "3.7.15"
  }
 },
 "nbformat": 4,
 "nbformat_minor": 5
}
