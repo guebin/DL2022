{
  "cells": [
    {
      "cell_type": "markdown",
      "metadata": {},
      "source": [
        "# 11wk-2: 순환신경망 (5)\n",
        "\n",
        "최규빈  \n",
        "2022-11-15\n",
        "\n",
        "> LSTM (1)– GPU실험, abcabC예제, abcdabcD예제\n",
        "\n",
        "# 강의영상\n",
        "\n",
        "> <https://youtube.com/playlist?list=PLQqh36zP38-wCXvhHTVOdOLBFD5T5uscl>\n",
        "\n",
        "# import"
      ],
      "id": "d9063746-1281-4d7b-b30e-c0c834c37244"
    },
    {
      "cell_type": "code",
      "execution_count": 175,
      "metadata": {},
      "outputs": [],
      "source": [
        "import torch\n",
        "import matplotlib.pyplot as plt\n",
        "import time"
      ],
      "id": "bf3167d4-c0ba-44a1-a287-2e9c9d89453b"
    },
    {
      "cell_type": "markdown",
      "metadata": {},
      "source": [
        "# Define some funtions"
      ],
      "id": "1c412c9b-1e5d-4ca6-a81c-0f8582eb6835"
    },
    {
      "cell_type": "code",
      "execution_count": 2,
      "metadata": {},
      "outputs": [],
      "source": [
        "def f(txt,mapping):\n",
        "    return [mapping[key] for key in txt] \n",
        "sig = torch.nn.Sigmoid()\n",
        "soft = torch.nn.Softmax(dim=1)\n",
        "tanh = torch.nn.Tanh()"
      ],
      "id": "3a17a160-3a92-4bfe-8d6c-0d8c80fa65ed"
    },
    {
      "cell_type": "markdown",
      "metadata": {},
      "source": [
        "# GPU 실험\n",
        "\n",
        "## 20000 len + 20 hidden nodes\n",
        "\n",
        "***cpu***"
      ],
      "id": "33279037-67bf-4acb-a4a7-47334502b032"
    },
    {
      "cell_type": "code",
      "execution_count": 3,
      "metadata": {},
      "outputs": [],
      "source": [
        "x = torch.randn([20000,4]) \n",
        "y = torch.randn([20000,4]) "
      ],
      "id": "07a3d0f9-02b5-4d98-a920-ed7de73dad65"
    },
    {
      "cell_type": "code",
      "execution_count": 5,
      "metadata": {},
      "outputs": [],
      "source": [
        "rnn = torch.nn.RNN(4,20) \n",
        "linr = torch.nn.Linear(20,4) \n",
        "optimizr = torch.optim.Adam(list(rnn.parameters())+list(linr.parameters()))\n",
        "loss_fn = torch.nn.MSELoss() "
      ],
      "id": "b54d27eb-f24d-40e6-a939-15cbea8b0f0e"
    },
    {
      "cell_type": "code",
      "execution_count": 6,
      "metadata": {},
      "outputs": [],
      "source": [
        "t1 = time.time()\n",
        "for epoc in range(100):\n",
        "    ## 1 \n",
        "    _water = torch.zeros(1,20)\n",
        "    hidden, hT = rnn(x,_water) \n",
        "    yhat = linr(hidden) \n",
        "    ## 2 \n",
        "    loss = loss_fn(yhat,y) \n",
        "    ## 3\n",
        "    loss.backward() \n",
        "    ## 4 \n",
        "    optimizr.step()\n",
        "    optimizr.zero_grad()\n",
        "t2 = time.time()\n",
        "t2 - t1 "
      ],
      "id": "675b31d5-a8a6-4f6a-b45e-c2f715648d56"
    },
    {
      "cell_type": "markdown",
      "metadata": {},
      "source": [
        "***gpu***"
      ],
      "id": "f0bc7939-d927-419d-a07e-e412df6d6e79"
    },
    {
      "cell_type": "code",
      "execution_count": 9,
      "metadata": {},
      "outputs": [],
      "source": [
        "x = torch.randn([20000,4]).to(\"cuda:0\")\n",
        "y = torch.randn([20000,4]).to(\"cuda:0\")"
      ],
      "id": "3ac8d27f-9d90-4a0d-a0f8-722a3da0c9a0"
    },
    {
      "cell_type": "code",
      "execution_count": 10,
      "metadata": {},
      "outputs": [],
      "source": [
        "rnn = torch.nn.RNN(4,20).to(\"cuda:0\")\n",
        "linr = torch.nn.Linear(20,4).to(\"cuda:0\")\n",
        "optimizr = torch.optim.Adam(list(rnn.parameters())+list(linr.parameters()))\n",
        "loss_fn = torch.nn.MSELoss() "
      ],
      "id": "44af2480-b68f-478c-b15f-d35098ab792f"
    },
    {
      "cell_type": "code",
      "execution_count": 11,
      "metadata": {},
      "outputs": [],
      "source": [
        "t1 = time.time()\n",
        "for epoc in range(100):\n",
        "    ## 1 \n",
        "    _water = torch.zeros(1,20).to(\"cuda:0\")\n",
        "    hidden, hT = rnn(x,_water) \n",
        "    yhat = linr(hidden) \n",
        "    ## 2 \n",
        "    loss = loss_fn(yhat,y) \n",
        "    ## 3\n",
        "    loss.backward() \n",
        "    ## 4 \n",
        "    optimizr.step()\n",
        "    optimizr.zero_grad()\n",
        "t2 = time.time()\n",
        "t2 - t1 "
      ],
      "id": "fb129a86-0825-43c5-a471-9af86e948ace"
    },
    {
      "cell_type": "markdown",
      "metadata": {},
      "source": [
        "-   왜 빠른지?\n",
        "\n",
        "## 20000 len + 20 hidden nodes + 역전파주석처리\n",
        "\n",
        "***cpu***"
      ],
      "id": "3b2528cf-72d0-445c-a198-df3de55f9412"
    },
    {
      "cell_type": "code",
      "execution_count": 31,
      "metadata": {},
      "outputs": [],
      "source": [
        "x = torch.randn([20000,4]) \n",
        "y = torch.randn([20000,4]) "
      ],
      "id": "f534ed65-28cc-4e39-b15b-786a25ab0785"
    },
    {
      "cell_type": "code",
      "execution_count": 32,
      "metadata": {},
      "outputs": [],
      "source": [
        "rnn = torch.nn.RNN(4,20) \n",
        "linr = torch.nn.Linear(20,4) \n",
        "optimizr = torch.optim.Adam(list(rnn.parameters())+list(linr.parameters()))\n",
        "loss_fn = torch.nn.MSELoss() "
      ],
      "id": "b3f8aa24-6706-4838-88c2-98b3a8d5b576"
    },
    {
      "cell_type": "code",
      "execution_count": 33,
      "metadata": {},
      "outputs": [],
      "source": [
        "t1 = time.time()\n",
        "for epoc in range(100):\n",
        "    ## 1 \n",
        "    _water = torch.zeros(1,20)\n",
        "    hidden, hT = rnn(x,_water) \n",
        "    yhat = linr(hidden) \n",
        "    ## 2 \n",
        "    loss = loss_fn(yhat,y) \n",
        "    ## 3\n",
        "    #loss.backward() \n",
        "    ## 4 \n",
        "    optimizr.step()\n",
        "    optimizr.zero_grad()\n",
        "t2 = time.time()\n",
        "t2 - t1 "
      ],
      "id": "19f73fd6-3905-44bd-8db9-c049d9c2f76e"
    },
    {
      "cell_type": "markdown",
      "metadata": {},
      "source": [
        "***gpu***"
      ],
      "id": "2a26aee2-5cd7-4e34-b2ec-0f5c4badb9fe"
    },
    {
      "cell_type": "code",
      "execution_count": 34,
      "metadata": {},
      "outputs": [],
      "source": [
        "x = torch.randn([20000,4]).to(\"cuda:0\")\n",
        "y = torch.randn([20000,4]).to(\"cuda:0\")"
      ],
      "id": "1e3008c0-9dce-454f-8f6d-f9f8b6b7d232"
    },
    {
      "cell_type": "code",
      "execution_count": 35,
      "metadata": {},
      "outputs": [],
      "source": [
        "rnn = torch.nn.RNN(4,20).to(\"cuda:0\")\n",
        "linr = torch.nn.Linear(20,4).to(\"cuda:0\")\n",
        "optimizr = torch.optim.Adam(list(rnn.parameters())+list(linr.parameters()))\n",
        "loss_fn = torch.nn.MSELoss() "
      ],
      "id": "df803e99-2e51-4a2e-9d39-4662242457fb"
    },
    {
      "cell_type": "code",
      "execution_count": 36,
      "metadata": {},
      "outputs": [],
      "source": [
        "t1 = time.time()\n",
        "for epoc in range(100):\n",
        "    ## 1 \n",
        "    _water = torch.zeros(1,20).to(\"cuda:0\")\n",
        "    hidden, hT = rnn(x,_water) \n",
        "    yhat = linr(hidden) \n",
        "    ## 2 \n",
        "    loss = loss_fn(yhat,y) \n",
        "    ## 3\n",
        "    #loss.backward() \n",
        "    ## 4 \n",
        "    optimizr.step()\n",
        "    optimizr.zero_grad()\n",
        "t2 = time.time()\n",
        "t2 - t1 "
      ],
      "id": "f4ce490b-cc6f-416a-a9c9-42377c7afed2"
    },
    {
      "cell_type": "markdown",
      "metadata": {},
      "source": [
        "## 2000 len + 20 hidden nodes\n",
        "\n",
        "***cpu***"
      ],
      "id": "4126048e-c240-4df7-a384-52e3b044e539"
    },
    {
      "cell_type": "code",
      "execution_count": 37,
      "metadata": {},
      "outputs": [],
      "source": [
        "x = torch.randn([2000,4]) \n",
        "y = torch.randn([2000,4]) "
      ],
      "id": "83867770-ce20-4ec8-be5f-74f199896a56"
    },
    {
      "cell_type": "code",
      "execution_count": 38,
      "metadata": {},
      "outputs": [],
      "source": [
        "rnn = torch.nn.RNN(4,20) \n",
        "linr = torch.nn.Linear(20,4) \n",
        "optimizr = torch.optim.Adam(list(rnn.parameters())+list(linr.parameters()))\n",
        "loss_fn = torch.nn.MSELoss() "
      ],
      "id": "4a353713-095d-47ed-a2dd-648bc23ee831"
    },
    {
      "cell_type": "code",
      "execution_count": 39,
      "metadata": {},
      "outputs": [],
      "source": [
        "t1 = time.time()\n",
        "for epoc in range(100):\n",
        "    ## 1 \n",
        "    _water = torch.zeros(1,20)\n",
        "    hidden, hT = rnn(x,_water) \n",
        "    yhat = linr(hidden) \n",
        "    ## 2 \n",
        "    loss = loss_fn(yhat,y) \n",
        "    ## 3\n",
        "    loss.backward() \n",
        "    ## 4 \n",
        "    optimizr.step()\n",
        "    optimizr.zero_grad()\n",
        "t2 = time.time()\n",
        "t2 - t1 "
      ],
      "id": "7cbd7901-8e9c-40d4-bf59-2bf840f78dea"
    },
    {
      "cell_type": "markdown",
      "metadata": {},
      "source": [
        "***gpu***"
      ],
      "id": "f5c3c49d-ebef-474e-a5fd-e244d415de43"
    },
    {
      "cell_type": "code",
      "execution_count": 40,
      "metadata": {},
      "outputs": [],
      "source": [
        "x = torch.randn([2000,4]).to(\"cuda:0\")\n",
        "y = torch.randn([2000,4]).to(\"cuda:0\")"
      ],
      "id": "a8ae111f-921b-4d73-8526-4a0b9b47bf0d"
    },
    {
      "cell_type": "code",
      "execution_count": 41,
      "metadata": {},
      "outputs": [],
      "source": [
        "rnn = torch.nn.RNN(4,20).to(\"cuda:0\")\n",
        "linr = torch.nn.Linear(20,4).to(\"cuda:0\")\n",
        "optimizr = torch.optim.Adam(list(rnn.parameters())+list(linr.parameters()))\n",
        "loss_fn = torch.nn.MSELoss() "
      ],
      "id": "96fe931c-7ca0-42c7-8227-9f1dcf0027e0"
    },
    {
      "cell_type": "code",
      "execution_count": 42,
      "metadata": {},
      "outputs": [],
      "source": [
        "t1 = time.time()\n",
        "for epoc in range(100):\n",
        "    ## 1 \n",
        "    _water = torch.zeros(1,20).to(\"cuda:0\")\n",
        "    hidden, hT = rnn(x,_water) \n",
        "    yhat = linr(hidden) \n",
        "    ## 2 \n",
        "    loss = loss_fn(yhat,y) \n",
        "    ## 3\n",
        "    loss.backward() \n",
        "    ## 4 \n",
        "    optimizr.step()\n",
        "    optimizr.zero_grad()\n",
        "t2 = time.time()\n",
        "t2 - t1 "
      ],
      "id": "da5f8ad9-de29-48c1-ba60-1146034f4071"
    },
    {
      "cell_type": "markdown",
      "metadata": {},
      "source": [
        "## 2000 len + 20 hidden nodes + 역전파주석처리\n",
        "\n",
        "***cpu***"
      ],
      "id": "0efb6ac4-6883-48a0-8ea6-95fd329b841f"
    },
    {
      "cell_type": "code",
      "execution_count": 67,
      "metadata": {},
      "outputs": [],
      "source": [
        "x = torch.randn([2000,4]) \n",
        "y = torch.randn([2000,4]) "
      ],
      "id": "1c3083b2-750f-425b-862a-675daa74507c"
    },
    {
      "cell_type": "code",
      "execution_count": 68,
      "metadata": {},
      "outputs": [],
      "source": [
        "rnn = torch.nn.RNN(4,20) \n",
        "linr = torch.nn.Linear(20,4) \n",
        "optimizr = torch.optim.Adam(list(rnn.parameters())+list(linr.parameters()))\n",
        "loss_fn = torch.nn.MSELoss() "
      ],
      "id": "e0540377-434b-4ef6-9eab-8072ad29ffac"
    },
    {
      "cell_type": "code",
      "execution_count": 69,
      "metadata": {},
      "outputs": [],
      "source": [
        "t1 = time.time()\n",
        "for epoc in range(100):\n",
        "    ## 1 \n",
        "    _water = torch.zeros(1,20)\n",
        "    hidden, hT = rnn(x,_water) \n",
        "    yhat = linr(hidden) \n",
        "    ## 2 \n",
        "    loss = loss_fn(yhat,y) \n",
        "    ## 3\n",
        "    #loss.backward() \n",
        "    ## 4 \n",
        "    optimizr.step()\n",
        "    optimizr.zero_grad()\n",
        "t2 = time.time()\n",
        "t2 - t1 "
      ],
      "id": "4601c14e-ee6c-4a7f-bc65-d11643f8987e"
    },
    {
      "cell_type": "markdown",
      "metadata": {},
      "source": [
        "***gpu***"
      ],
      "id": "2d17333b-e8b4-48d2-add5-4c332915bed3"
    },
    {
      "cell_type": "code",
      "execution_count": 70,
      "metadata": {},
      "outputs": [],
      "source": [
        "x = torch.randn([2000,4]).to(\"cuda:0\")\n",
        "y = torch.randn([2000,4]).to(\"cuda:0\")"
      ],
      "id": "5367d3be-a7b4-48ef-83ed-134d9cf597c0"
    },
    {
      "cell_type": "code",
      "execution_count": 71,
      "metadata": {},
      "outputs": [],
      "source": [
        "rnn = torch.nn.RNN(4,20).to(\"cuda:0\")\n",
        "linr = torch.nn.Linear(20,4).to(\"cuda:0\")\n",
        "optimizr = torch.optim.Adam(list(rnn.parameters())+list(linr.parameters()))\n",
        "loss_fn = torch.nn.MSELoss() "
      ],
      "id": "79bb1c8e-9a49-4a01-9036-6604d0acdb3c"
    },
    {
      "cell_type": "code",
      "execution_count": 72,
      "metadata": {},
      "outputs": [],
      "source": [
        "t1 = time.time()\n",
        "for epoc in range(100):\n",
        "    ## 1 \n",
        "    _water = torch.zeros(1,20).to(\"cuda:0\")\n",
        "    hidden, hT = rnn(x,_water) \n",
        "    yhat = linr(hidden) \n",
        "    ## 2 \n",
        "    loss = loss_fn(yhat,y) \n",
        "    ## 3\n",
        "    #loss.backward() \n",
        "    ## 4 \n",
        "    optimizr.step()\n",
        "    optimizr.zero_grad()\n",
        "t2 = time.time()\n",
        "t2 - t1 "
      ],
      "id": "9dd8ec8c-e0c4-4a63-ba7e-b9959fca9774"
    },
    {
      "cell_type": "markdown",
      "metadata": {},
      "source": [
        "## 2000 len + 5000 hidden nodes\n",
        "\n",
        "***cpu***"
      ],
      "id": "b3fa8412-2716-4e4c-89a2-5d5e77c93f14"
    },
    {
      "cell_type": "code",
      "execution_count": 80,
      "metadata": {},
      "outputs": [],
      "source": [
        "x = torch.randn([2000,4]) \n",
        "y = torch.randn([2000,4]) "
      ],
      "id": "1d679676-bdfc-42e0-9746-d80d71da094d"
    },
    {
      "cell_type": "code",
      "execution_count": 81,
      "metadata": {},
      "outputs": [],
      "source": [
        "rnn = torch.nn.RNN(4,1000) \n",
        "linr = torch.nn.Linear(1000,4) \n",
        "optimizr = torch.optim.Adam(list(rnn.parameters())+list(linr.parameters()))\n",
        "loss_fn = torch.nn.MSELoss() "
      ],
      "id": "c6feb416-1b73-4a69-8a99-92cb9fa31dbf"
    },
    {
      "cell_type": "code",
      "execution_count": 83,
      "metadata": {},
      "outputs": [],
      "source": [
        "t1 = time.time()\n",
        "for epoc in range(100):\n",
        "    ## 1 \n",
        "    _water = torch.zeros(1,1000)\n",
        "    hidden, hT = rnn(x,_water) \n",
        "    yhat = linr(hidden) \n",
        "    ## 2 \n",
        "    loss = loss_fn(yhat,y) \n",
        "    ## 3\n",
        "    loss.backward() \n",
        "    ## 4 \n",
        "    optimizr.step()\n",
        "    optimizr.zero_grad()\n",
        "t2 = time.time()\n",
        "t2 - t1 "
      ],
      "id": "7e63d9c3-2071-495b-8f36-bb64f32277fc"
    },
    {
      "cell_type": "markdown",
      "metadata": {},
      "source": [
        "***gpu***"
      ],
      "id": "de121ce3-8e26-4cbd-a476-ba473a69a6e9"
    },
    {
      "cell_type": "code",
      "execution_count": 84,
      "metadata": {},
      "outputs": [],
      "source": [
        "x = torch.randn([2000,4]).to(\"cuda:0\")\n",
        "y = torch.randn([2000,4]).to(\"cuda:0\")"
      ],
      "id": "6a0e24c7-3407-466d-a620-e2434be8eee2"
    },
    {
      "cell_type": "code",
      "execution_count": 85,
      "metadata": {},
      "outputs": [],
      "source": [
        "rnn = torch.nn.RNN(4,1000).to(\"cuda:0\")\n",
        "linr = torch.nn.Linear(1000,4).to(\"cuda:0\")\n",
        "optimizr = torch.optim.Adam(list(rnn.parameters())+list(linr.parameters()))\n",
        "loss_fn = torch.nn.MSELoss() "
      ],
      "id": "03a691f7-e2ab-4a0e-91a8-dc0b53fd637d"
    },
    {
      "cell_type": "code",
      "execution_count": 86,
      "metadata": {},
      "outputs": [],
      "source": [
        "t1 = time.time()\n",
        "for epoc in range(100):\n",
        "    ## 1 \n",
        "    _water = torch.zeros(1,1000).to(\"cuda:0\")\n",
        "    hidden, hT = rnn(x,_water) \n",
        "    yhat = linr(hidden) \n",
        "    ## 2 \n",
        "    loss = loss_fn(yhat,y) \n",
        "    ## 3\n",
        "    loss.backward() \n",
        "    ## 4 \n",
        "    optimizr.step()\n",
        "    optimizr.zero_grad()\n",
        "t2 = time.time()\n",
        "t2 - t1 "
      ],
      "id": "9f644326-432a-4510-b80a-89d787ddfaa4"
    },
    {
      "cell_type": "markdown",
      "metadata": {},
      "source": [
        "## 2000 len + 5000 hidden nodes + 역전파주석처리\n",
        "\n",
        "***cpu***"
      ],
      "id": "e828d993-3759-4baf-9c56-963f91f064bb"
    },
    {
      "cell_type": "code",
      "execution_count": 91,
      "metadata": {},
      "outputs": [],
      "source": [
        "x = torch.randn([2000,4]) \n",
        "y = torch.randn([2000,4]) "
      ],
      "id": "e022369c-d57d-4430-adc9-1d03b39c7270"
    },
    {
      "cell_type": "code",
      "execution_count": 92,
      "metadata": {},
      "outputs": [],
      "source": [
        "rnn = torch.nn.RNN(4,1000) \n",
        "linr = torch.nn.Linear(1000,4) \n",
        "optimizr = torch.optim.Adam(list(rnn.parameters())+list(linr.parameters()))\n",
        "loss_fn = torch.nn.MSELoss() "
      ],
      "id": "f71456d0-49fe-4b12-8ce1-b69335713342"
    },
    {
      "cell_type": "code",
      "execution_count": 93,
      "metadata": {},
      "outputs": [],
      "source": [
        "t1 = time.time()\n",
        "for epoc in range(100):\n",
        "    ## 1 \n",
        "    _water = torch.zeros(1,1000)\n",
        "    hidden, hT = rnn(x,_water) \n",
        "    yhat = linr(hidden) \n",
        "    ## 2 \n",
        "    loss = loss_fn(yhat,y) \n",
        "    ## 3\n",
        "    #loss.backward() \n",
        "    ## 4 \n",
        "    optimizr.step()\n",
        "    optimizr.zero_grad()\n",
        "t2 = time.time()\n",
        "t2 - t1 "
      ],
      "id": "d25639e8-6687-420d-ae06-03116803c3da"
    },
    {
      "cell_type": "markdown",
      "metadata": {},
      "source": [
        "***gpu***"
      ],
      "id": "d8e01189-6ab5-4a0e-97b7-6d029c2d2792"
    },
    {
      "cell_type": "code",
      "execution_count": 94,
      "metadata": {},
      "outputs": [],
      "source": [
        "x = torch.randn([2000,4]).to(\"cuda:0\")\n",
        "y = torch.randn([2000,4]).to(\"cuda:0\")"
      ],
      "id": "09af36bf-ac85-41f2-96dc-6ce9f120d890"
    },
    {
      "cell_type": "code",
      "execution_count": 95,
      "metadata": {},
      "outputs": [],
      "source": [
        "rnn = torch.nn.RNN(4,1000).to(\"cuda:0\")\n",
        "linr = torch.nn.Linear(1000,4).to(\"cuda:0\")\n",
        "optimizr = torch.optim.Adam(list(rnn.parameters())+list(linr.parameters()))\n",
        "loss_fn = torch.nn.MSELoss() "
      ],
      "id": "12bef390-4c5c-4100-888d-763c9b8923ea"
    },
    {
      "cell_type": "code",
      "execution_count": 96,
      "metadata": {},
      "outputs": [],
      "source": [
        "t1 = time.time()\n",
        "for epoc in range(100):\n",
        "    ## 1 \n",
        "    _water = torch.zeros(1,1000).to(\"cuda:0\")\n",
        "    hidden, hT = rnn(x,_water) \n",
        "    yhat = linr(hidden) \n",
        "    ## 2 \n",
        "    loss = loss_fn(yhat,y) \n",
        "    ## 3\n",
        "    #loss.backward() \n",
        "    ## 4 \n",
        "    optimizr.step()\n",
        "    optimizr.zero_grad()\n",
        "t2 = time.time()\n",
        "t2 - t1 "
      ],
      "id": "5cf969e0-af43-4c63-a07f-6f68603c33bd"
    },
    {
      "cell_type": "markdown",
      "metadata": {},
      "source": [
        "## 실험결과 요약\n",
        "\n",
        "|  len  | \\# of hidden nodes | backward |  cpu  | gpu  | ratio |\n",
        "|:-----:|:------------------:|:--------:|:-----:|:----:|:-----:|\n",
        "| 20000 |         20         |    O     | 93.02 | 3.26 | 28.53 |\n",
        "| 20000 |         20         |    X     | 18.85 | 1.29 | 14.61 |\n",
        "| 2000  |         20         |    O     | 6.53  | 0.75 | 8.70  |\n",
        "| 2000  |         20         |    X     | 1.25  | 0.14 | 8.93  |\n",
        "| 2000  |        1000        |    O     | 58.99 | 4.75 | 12.41 |\n",
        "| 2000  |        1000        |    X     | 13.16 | 2.29 | 5.74  |\n",
        "\n",
        "# Exam5: abcabC\n",
        "\n",
        "## data"
      ],
      "id": "937cd3a2-7de9-4f4d-8c9c-a56cb8fe9dc8"
    },
    {
      "cell_type": "code",
      "execution_count": 160,
      "metadata": {},
      "outputs": [],
      "source": [
        "txt = list('abcabC')*100\n",
        "txt[:8]"
      ],
      "id": "0c59a71b-679f-4e05-a931-b4ed0bffce0c"
    },
    {
      "cell_type": "code",
      "execution_count": 161,
      "metadata": {},
      "outputs": [],
      "source": [
        "txt_x = txt[:-1] \n",
        "txt_y = txt[1:]"
      ],
      "id": "def8bc47-2323-43f8-a090-b4fbbb3fd466"
    },
    {
      "cell_type": "code",
      "execution_count": 162,
      "metadata": {},
      "outputs": [],
      "source": [
        "mapping = {'a':0,'b':1,'c':2,'C':3} \n",
        "x= torch.nn.functional.one_hot(torch.tensor(f(txt_x,mapping))).float()\n",
        "y= torch.nn.functional.one_hot(torch.tensor(f(txt_y,mapping))).float()"
      ],
      "id": "416d47f9-dcd9-4471-978a-f208dbdfb771"
    },
    {
      "cell_type": "code",
      "execution_count": 163,
      "metadata": {},
      "outputs": [],
      "source": [
        "x = x.to(\"cuda:0\")\n",
        "y = y.to(\"cuda:0\") "
      ],
      "id": "10d3961d-e9d2-448e-b2e6-e07fa591383f"
    },
    {
      "cell_type": "code",
      "execution_count": 164,
      "metadata": {},
      "outputs": [],
      "source": [
        "x.shape"
      ],
      "id": "d9f19e8d-49a5-42ef-9dd1-f405b0073ed2"
    },
    {
      "cell_type": "markdown",
      "metadata": {},
      "source": [
        "## RNN"
      ],
      "id": "2e0adf56-5651-4bb6-adbc-2b3304b8054e"
    },
    {
      "cell_type": "code",
      "execution_count": 110,
      "metadata": {},
      "outputs": [],
      "source": [
        "torch.manual_seed(43052) \n",
        "rnn = torch.nn.RNN(4,3) \n",
        "linr = torch.nn.Linear(3,4) \n",
        "loss_fn = torch.nn.CrossEntropyLoss()\n",
        "optimizr = torch.optim.Adam(list(rnn.parameters())+ list(linr.parameters()))"
      ],
      "id": "322c9987-0ca4-4b6e-b192-f32908f1fa6f"
    },
    {
      "cell_type": "code",
      "execution_count": 111,
      "metadata": {},
      "outputs": [],
      "source": [
        "rnn.to(\"cuda:0\") \n",
        "linr.to(\"cuda:0\")"
      ],
      "id": "24ebe116-ccb3-4791-8297-fde76594a827"
    },
    {
      "cell_type": "markdown",
      "metadata": {},
      "source": [
        "`-` 3000 epochs"
      ],
      "id": "151bca81-93ca-43a3-8fca-b66e11a474c6"
    },
    {
      "cell_type": "code",
      "execution_count": 112,
      "metadata": {},
      "outputs": [],
      "source": [
        "for epoc in range(3000):\n",
        "    ## 1 \n",
        "    _water = torch.zeros(1,3).to(\"cuda:0\")\n",
        "    hidden, hT = rnn(x,_water)\n",
        "    output = linr(hidden) \n",
        "    ## 2 \n",
        "    loss = loss_fn(output,y) \n",
        "    ## 3 \n",
        "    loss.backward()\n",
        "    ## 4 \n",
        "    optimizr.step()\n",
        "    optimizr.zero_grad()"
      ],
      "id": "7baf9ecc-1add-49c9-bf14-03adafa21164"
    },
    {
      "cell_type": "code",
      "execution_count": 116,
      "metadata": {},
      "outputs": [],
      "source": [
        "yhat = soft(output)\n",
        "combinded  = torch.concat([hidden,yhat],axis=1).data.to(\"cpu\")"
      ],
      "id": "2f13dd6f-20ed-415b-acfb-201d03b6106c"
    },
    {
      "cell_type": "code",
      "execution_count": 118,
      "metadata": {},
      "outputs": [
        {
          "output_type": "display_data",
          "metadata": {},
          "data": {
            "image/png": "[encoded data removed]"
          }
        }
      ],
      "source": [
        "plt.matshow(combinded[-6:],cmap='bwr')"
      ],
      "id": "62a3a912-4047-41d0-9d89-d9bd1bbdb6eb"
    },
    {
      "cell_type": "markdown",
      "metadata": {},
      "source": [
        "`-` 6000 epochs"
      ],
      "id": "96b411f6-f1ae-4e40-9adf-86eb3961d19e"
    },
    {
      "cell_type": "code",
      "execution_count": 119,
      "metadata": {},
      "outputs": [],
      "source": [
        "for epoc in range(3000):\n",
        "    ## 1 \n",
        "    _water = torch.zeros(1,3).to(\"cuda:0\")\n",
        "    hidden, hT = rnn(x,_water)\n",
        "    output = linr(hidden) \n",
        "    ## 2 \n",
        "    loss = loss_fn(output,y) \n",
        "    ## 3 \n",
        "    loss.backward()\n",
        "    ## 4 \n",
        "    optimizr.step()\n",
        "    optimizr.zero_grad()"
      ],
      "id": "e8830b6a-acdf-405d-ad8b-e38c5ca728b7"
    },
    {
      "cell_type": "code",
      "execution_count": 120,
      "metadata": {},
      "outputs": [],
      "source": [
        "yhat = soft(output)\n",
        "combinded  = torch.concat([hidden,yhat],axis=1).data.to(\"cpu\")"
      ],
      "id": "6e29e512-7222-4fd1-9050-d4fda765657a"
    },
    {
      "cell_type": "code",
      "execution_count": 121,
      "metadata": {},
      "outputs": [
        {
          "output_type": "display_data",
          "metadata": {},
          "data": {
            "image/png": "[encoded data removed]"
          }
        }
      ],
      "source": [
        "plt.matshow(combinded[-6:],cmap='bwr')"
      ],
      "id": "cadc92b6-7d7c-4e86-b3fd-58f3ae19be6d"
    },
    {
      "cell_type": "markdown",
      "metadata": {},
      "source": [
        "`-` 9000 epochs"
      ],
      "id": "2e278f0f-b951-40b6-9bc9-6b61bcc5578a"
    },
    {
      "cell_type": "code",
      "execution_count": 122,
      "metadata": {},
      "outputs": [],
      "source": [
        "for epoc in range(3000):\n",
        "    ## 1 \n",
        "    _water = torch.zeros(1,3).to(\"cuda:0\")\n",
        "    hidden, hT = rnn(x,_water)\n",
        "    output = linr(hidden) \n",
        "    ## 2 \n",
        "    loss = loss_fn(output,y) \n",
        "    ## 3 \n",
        "    loss.backward()\n",
        "    ## 4 \n",
        "    optimizr.step()\n",
        "    optimizr.zero_grad()"
      ],
      "id": "49b78b65-524a-4631-82f4-cc7bb8300157"
    },
    {
      "cell_type": "code",
      "execution_count": 123,
      "metadata": {},
      "outputs": [],
      "source": [
        "yhat = soft(output)\n",
        "combinded  = torch.concat([hidden,yhat],axis=1).data.to(\"cpu\")"
      ],
      "id": "9e64928b-955b-40b2-90e5-515db94d38e2"
    },
    {
      "cell_type": "code",
      "execution_count": 124,
      "metadata": {},
      "outputs": [
        {
          "output_type": "display_data",
          "metadata": {},
          "data": {
            "image/png": "[encoded data removed]"
          }
        }
      ],
      "source": [
        "plt.matshow(combinded[-6:],cmap='bwr')"
      ],
      "id": "7843008c-27fd-49fb-b019-7808fbd10139"
    },
    {
      "cell_type": "markdown",
      "metadata": {},
      "source": [
        "`-` 12000 epochs"
      ],
      "id": "34ddd5bd-d3a8-4e45-baf7-cd5bd608686b"
    },
    {
      "cell_type": "code",
      "execution_count": 125,
      "metadata": {},
      "outputs": [],
      "source": [
        "for epoc in range(3000):\n",
        "    ## 1 \n",
        "    _water = torch.zeros(1,3).to(\"cuda:0\")\n",
        "    hidden, hT = rnn(x,_water)\n",
        "    output = linr(hidden) \n",
        "    ## 2 \n",
        "    loss = loss_fn(output,y) \n",
        "    ## 3 \n",
        "    loss.backward()\n",
        "    ## 4 \n",
        "    optimizr.step()\n",
        "    optimizr.zero_grad()"
      ],
      "id": "14f31e65-e8ae-4734-82b3-639968d290be"
    },
    {
      "cell_type": "code",
      "execution_count": 126,
      "metadata": {},
      "outputs": [],
      "source": [
        "yhat = soft(output)\n",
        "combinded  = torch.concat([hidden,yhat],axis=1).data.to(\"cpu\")"
      ],
      "id": "1a8c90d8-3517-4116-b58a-af3c07d08a4d"
    },
    {
      "cell_type": "code",
      "execution_count": 127,
      "metadata": {},
      "outputs": [
        {
          "output_type": "display_data",
          "metadata": {},
          "data": {
            "image/png": "[encoded data removed]"
          }
        }
      ],
      "source": [
        "plt.matshow(combinded[-6:],cmap='bwr')"
      ],
      "id": "90f626c1-2fc3-45a8-9c0f-b780cbab7cac"
    },
    {
      "cell_type": "markdown",
      "metadata": {},
      "source": [
        "`-` 15000 epochs"
      ],
      "id": "c666798c-59c9-43c1-89b5-239475f35374"
    },
    {
      "cell_type": "code",
      "execution_count": 128,
      "metadata": {},
      "outputs": [],
      "source": [
        "for epoc in range(3000):\n",
        "    ## 1 \n",
        "    _water = torch.zeros(1,3).to(\"cuda:0\")\n",
        "    hidden, hT = rnn(x,_water)\n",
        "    output = linr(hidden) \n",
        "    ## 2 \n",
        "    loss = loss_fn(output,y) \n",
        "    ## 3 \n",
        "    loss.backward()\n",
        "    ## 4 \n",
        "    optimizr.step()\n",
        "    optimizr.zero_grad()"
      ],
      "id": "a4e42f71-de71-4b88-bf8c-560b182fef63"
    },
    {
      "cell_type": "code",
      "execution_count": 129,
      "metadata": {},
      "outputs": [],
      "source": [
        "yhat = soft(output)\n",
        "combinded  = torch.concat([hidden,yhat],axis=1).data.to(\"cpu\")"
      ],
      "id": "aa5c704a-b7ba-44f5-90d1-d4eeec2f197d"
    },
    {
      "cell_type": "code",
      "execution_count": 132,
      "metadata": {},
      "outputs": [
        {
          "output_type": "display_data",
          "metadata": {},
          "data": {
            "image/png": "[encoded data removed]"
          }
        }
      ],
      "source": [
        "plt.matshow(combinded[-6:],cmap='bwr')"
      ],
      "id": "c38c64cc-f44a-4e19-baa8-12d38d732f81"
    },
    {
      "cell_type": "markdown",
      "metadata": {},
      "source": [
        "## LSTM\n",
        "\n",
        "`-` LSTM"
      ],
      "id": "60969a9c-5293-4683-8a1f-833d12503435"
    },
    {
      "cell_type": "code",
      "execution_count": 133,
      "metadata": {},
      "outputs": [],
      "source": [
        "torch.manual_seed(43052) \n",
        "lstm = torch.nn.LSTM(4,3) \n",
        "linr = torch.nn.Linear(3,4) \n",
        "loss_fn = torch.nn.CrossEntropyLoss()\n",
        "optimizr = torch.optim.Adam(list(lstm.parameters())+ list(linr.parameters()))"
      ],
      "id": "20f2c369-0b0c-4e8f-b7f2-583d67819752"
    },
    {
      "cell_type": "code",
      "execution_count": 134,
      "metadata": {},
      "outputs": [],
      "source": [
        "lstm.to(\"cuda:0\") \n",
        "linr.to(\"cuda:0\")"
      ],
      "id": "644446e4-c001-497c-81d9-518152821306"
    },
    {
      "cell_type": "markdown",
      "metadata": {},
      "source": [
        "`-` 3000 epochs"
      ],
      "id": "19659c8d-cac2-4c3c-844a-8616f86d1e3a"
    },
    {
      "cell_type": "code",
      "execution_count": 136,
      "metadata": {},
      "outputs": [],
      "source": [
        "for epoc in range(3000):\n",
        "    ## 1 \n",
        "    _water = torch.zeros(1,3).to(\"cuda:0\")\n",
        "    hidden, (hT,cT) = lstm(x,(_water,_water))\n",
        "    output = linr(hidden) \n",
        "    ## 2 \n",
        "    loss = loss_fn(output,y) \n",
        "    ## 3 \n",
        "    loss.backward()\n",
        "    ## 4 \n",
        "    optimizr.step()\n",
        "    optimizr.zero_grad()"
      ],
      "id": "222e4865-a73d-46dc-88c9-86e788c01056"
    },
    {
      "cell_type": "code",
      "execution_count": 139,
      "metadata": {},
      "outputs": [],
      "source": [
        "yhat = soft(output)\n",
        "combinded  = torch.concat([hidden,yhat],axis=1).data.to(\"cpu\")"
      ],
      "id": "887a94ec-0c2e-4071-8c33-d4159013e521"
    },
    {
      "cell_type": "code",
      "execution_count": 141,
      "metadata": {},
      "outputs": [
        {
          "output_type": "display_data",
          "metadata": {},
          "data": {
            "image/png": "[encoded data removed]"
          }
        }
      ],
      "source": [
        "plt.matshow(combinded[-6:],cmap='bwr',vmin=-1,vmax=1)"
      ],
      "id": "088e4aa7-567d-4439-b477-974c92775cf9"
    },
    {
      "cell_type": "markdown",
      "metadata": {},
      "source": [
        "`-` 6000 epochs"
      ],
      "id": "912300f7-d930-4cec-918e-23af1fe5e814"
    },
    {
      "cell_type": "code",
      "execution_count": 142,
      "metadata": {},
      "outputs": [],
      "source": [
        "for epoc in range(3000):\n",
        "    ## 1 \n",
        "    _water = torch.zeros(1,3).to(\"cuda:0\")\n",
        "    hidden, (hT,cT) = lstm(x,(_water,_water))\n",
        "    output = linr(hidden) \n",
        "    ## 2 \n",
        "    loss = loss_fn(output,y) \n",
        "    ## 3 \n",
        "    loss.backward()\n",
        "    ## 4 \n",
        "    optimizr.step()\n",
        "    optimizr.zero_grad()"
      ],
      "id": "f1af8b61-a0ab-476f-a68a-7b7e745d7f86"
    },
    {
      "cell_type": "code",
      "execution_count": 143,
      "metadata": {},
      "outputs": [],
      "source": [
        "yhat = soft(output)\n",
        "combinded  = torch.concat([hidden,yhat],axis=1).data.to(\"cpu\")"
      ],
      "id": "95d0e9bf-1867-46dd-8742-e3f03257040b"
    },
    {
      "cell_type": "code",
      "execution_count": 144,
      "metadata": {},
      "outputs": [
        {
          "output_type": "display_data",
          "metadata": {},
          "data": {
            "image/png": "[encoded data removed]"
          }
        }
      ],
      "source": [
        "plt.matshow(combinded[-6:],cmap='bwr',vmin=-1,vmax=1)"
      ],
      "id": "0e0314d2-fca4-404a-bbbf-ff348801f03a"
    },
    {
      "cell_type": "markdown",
      "metadata": {},
      "source": [
        "## RNN vs LSTM 성능비교실험\n",
        "\n",
        "`-` RNN"
      ],
      "id": "893c1260-fd65-4647-8582-7993fc8d51c1"
    },
    {
      "cell_type": "code",
      "execution_count": 167,
      "metadata": {},
      "outputs": [
        {
          "output_type": "display_data",
          "metadata": {},
          "data": {
            "image/png": "[encoded data removed]"
          }
        }
      ],
      "source": [
        "fig, ax = plt.subplots(5,5,figsize=(10,10))\n",
        "for i in range(5):\n",
        "    for j in range(5):\n",
        "        rnn = torch.nn.RNN(4,3).to(\"cuda:0\")\n",
        "        linr = torch.nn.Linear(3,4).to(\"cuda:0\")\n",
        "        loss_fn = torch.nn.CrossEntropyLoss()\n",
        "        optimizr = torch.optim.Adam(list(rnn.parameters())+list(linr.parameters()),lr=0.1)\n",
        "        _water = torch.zeros(1,3).to(\"cuda:0\")\n",
        "        for epoc in range(3000):\n",
        "            ## 1\n",
        "            hidden, hT = rnn(x,_water)\n",
        "            output = linr(hidden)\n",
        "            ## 2\n",
        "            loss = loss_fn(output,y)\n",
        "            ## 3\n",
        "            loss.backward()\n",
        "            ## 4 \n",
        "            optimizr.step()\n",
        "            optimizr.zero_grad()\n",
        "        yhat=soft(output)    \n",
        "        combind = torch.concat([hidden,yhat],axis=1)\n",
        "        ax[i][j].matshow(combind.to(\"cpu\").data[-6:],cmap='bwr',vmin=-1,vmax=1)\n",
        "fig.suptitle(r\"$RNN$\",size=20)\n",
        "fig.tight_layout()"
      ],
      "id": "ace0800b-06ce-4c58-b2ef-94c5f0cd6d0d"
    },
    {
      "cell_type": "markdown",
      "metadata": {},
      "source": [
        "`-` LSTM"
      ],
      "id": "66779fa6-4aa4-4903-b0d8-02b015489da7"
    },
    {
      "cell_type": "code",
      "execution_count": 168,
      "metadata": {},
      "outputs": [
        {
          "output_type": "display_data",
          "metadata": {},
          "data": {
            "image/png": "[encoded data removed]"
          }
        }
      ],
      "source": [
        "fig, ax = plt.subplots(5,5,figsize=(10,10))\n",
        "for i in range(5):\n",
        "    for j in range(5):\n",
        "        lstm = torch.nn.LSTM(4,3).to(\"cuda:0\")\n",
        "        linr = torch.nn.Linear(3,4).to(\"cuda:0\")\n",
        "        loss_fn = torch.nn.CrossEntropyLoss()\n",
        "        optimizr = torch.optim.Adam(list(lstm.parameters())+list(linr.parameters()),lr=0.1)\n",
        "        _water = torch.zeros(1,3).to(\"cuda:0\")\n",
        "        for epoc in range(3000):\n",
        "            ## 1\n",
        "            hidden, (hT,cT) = lstm(x,(_water,_water))\n",
        "            output = linr(hidden)\n",
        "            ## 2\n",
        "            loss = loss_fn(output,y)\n",
        "            ## 3\n",
        "            loss.backward()\n",
        "            ## 4 \n",
        "            optimizr.step()\n",
        "            optimizr.zero_grad()\n",
        "        yhat=soft(output)    \n",
        "        combind = torch.concat([hidden,yhat],axis=1)\n",
        "        ax[i][j].matshow(combind.to(\"cpu\").data[-6:],cmap='bwr',vmin=-1,vmax=1)\n",
        "fig.suptitle(r\"$LSTM$\",size=20)\n",
        "fig.tight_layout()"
      ],
      "id": "65d289f3-b469-4cac-b7f9-9a891f61adc9"
    },
    {
      "cell_type": "markdown",
      "metadata": {},
      "source": [
        "# Exam6: abcdabcD\n",
        "\n",
        "## data"
      ],
      "id": "01f0f17e-c0cb-49f8-8ca2-87744da0c193"
    },
    {
      "cell_type": "code",
      "execution_count": 169,
      "metadata": {},
      "outputs": [],
      "source": [
        "txt = list('abcdabcD')*100\n",
        "txt[:8]"
      ],
      "id": "8435c1e2-985d-449c-a5e7-6cc80ad9d723"
    },
    {
      "cell_type": "code",
      "execution_count": 170,
      "metadata": {},
      "outputs": [],
      "source": [
        "txt_x = txt[:-1]\n",
        "txt_y = txt[1:]"
      ],
      "id": "bc4c6896-50e9-456d-a08b-1a02c6f2814d"
    },
    {
      "cell_type": "code",
      "execution_count": 171,
      "metadata": {},
      "outputs": [],
      "source": [
        "mapping = {'a':0, 'b':1, 'c':2, 'd':3, 'D':4}\n",
        "x = torch.nn.functional.one_hot(torch.tensor(f(txt_x,mapping))).float()\n",
        "y = torch.nn.functional.one_hot(torch.tensor(f(txt_y,mapping))).float()"
      ],
      "id": "0b71d61b-400d-4f47-814d-5bedb8550377"
    },
    {
      "cell_type": "code",
      "execution_count": 172,
      "metadata": {},
      "outputs": [],
      "source": [
        "x=x.to(\"cuda:0\")\n",
        "y=y.to(\"cuda:0\")"
      ],
      "id": "7cf64687-2337-4770-9999-5002fbff2a6c"
    },
    {
      "cell_type": "markdown",
      "metadata": {},
      "source": [
        "## RNN vs LSTM 성능비교실험\n",
        "\n",
        "`-` RNN"
      ],
      "id": "596d6d93-b1d6-4998-b6bf-f1c231a7ce7e"
    },
    {
      "cell_type": "code",
      "execution_count": 173,
      "metadata": {},
      "outputs": [
        {
          "output_type": "display_data",
          "metadata": {},
          "data": {
            "image/png": "[encoded data removed]"
          }
        }
      ],
      "source": [
        "fig, ax = plt.subplots(5,5,figsize=(10,10))\n",
        "for i in range(5):\n",
        "    for j in range(5):\n",
        "        rnn = torch.nn.RNN(5,4).to(\"cuda:0\")\n",
        "        linr = torch.nn.Linear(4,5).to(\"cuda:0\")\n",
        "        loss_fn = torch.nn.CrossEntropyLoss()\n",
        "        optimizr = torch.optim.Adam(list(rnn.parameters())+list(linr.parameters()),lr=0.1)\n",
        "        _water = torch.zeros(1,4).to(\"cuda:0\")\n",
        "        for epoc in range(3000):\n",
        "            ## 1\n",
        "            hidden, hT = rnn(x,_water)\n",
        "            output = linr(hidden)\n",
        "            ## 2\n",
        "            loss = loss_fn(output,y)\n",
        "            ## 3\n",
        "            loss.backward()\n",
        "            ## 4 \n",
        "            optimizr.step()\n",
        "            optimizr.zero_grad()\n",
        "        yhat=soft(output)    \n",
        "        combind = torch.concat([hidden,yhat],axis=1)\n",
        "        ax[i][j].matshow(combind.to(\"cpu\").data[-8:],cmap='bwr',vmin=-1,vmax=1)\n",
        "fig.suptitle(r\"$RNN$\",size=20)\n",
        "fig.tight_layout()"
      ],
      "id": "1076b8ff-ded3-42f8-8e8a-c573adbf62ec"
    },
    {
      "cell_type": "markdown",
      "metadata": {},
      "source": [
        "`-` LSTM"
      ],
      "id": "16652d46-6431-49ff-aeba-71826c510f5c"
    },
    {
      "cell_type": "code",
      "execution_count": 174,
      "metadata": {},
      "outputs": [
        {
          "output_type": "display_data",
          "metadata": {},
          "data": {
            "image/png": "[encoded data removed]"
          }
        }
      ],
      "source": [
        "fig, ax = plt.subplots(5,5,figsize=(10,10))\n",
        "for i in range(5):\n",
        "    for j in range(5):\n",
        "        lstm = torch.nn.LSTM(5,4).to(\"cuda:0\")\n",
        "        linr = torch.nn.Linear(4,5).to(\"cuda:0\")\n",
        "        loss_fn = torch.nn.CrossEntropyLoss()\n",
        "        optimizr = torch.optim.Adam(list(lstm.parameters())+list(linr.parameters()),lr=0.1)\n",
        "        _water = torch.zeros(1,4).to(\"cuda:0\")\n",
        "        for epoc in range(3000):\n",
        "            ## 1\n",
        "            hidden, (hT,cT) = lstm(x,(_water,_water))\n",
        "            output = linr(hidden)\n",
        "            ## 2\n",
        "            loss = loss_fn(output,y)\n",
        "            ## 3\n",
        "            loss.backward()\n",
        "            ## 4 \n",
        "            optimizr.step()\n",
        "            optimizr.zero_grad()\n",
        "        yhat=soft(output)    \n",
        "        combind = torch.concat([hidden,yhat],axis=1)\n",
        "        ax[i][j].matshow(combind.to(\"cpu\").data[-8:],cmap='bwr',vmin=-1,vmax=1)\n",
        "fig.suptitle(r\"$LSTM$\",size=20)\n",
        "fig.tight_layout()"
      ],
      "id": "b1f493f6-9ceb-4529-a496-62979d729735"
    },
    {
      "cell_type": "markdown",
      "metadata": {},
      "source": [
        "`-` 관찰1: LSTM이 확실히 장기기억에 강하다.\n",
        "\n",
        "`-` 관찰2: LSTM은 hidden에 0이 잘 나온다.\n",
        "\n",
        "-   사실 확실히 구분되는 특징을 판별할때는 -1,1 로 히든레이어 값들이\n",
        "    설정되면 명확하다.\n",
        "-   히든레이어에 -1~1사이의 값이 나온다면 애매한 판단이 내려지게 된다.\n",
        "-   그런데 이 애매한 판단이 어떻게 보면 문맥의 뉘앙스를 이해하는데 더 잘\n",
        "    맞다.\n",
        "-   그런데 RNN은 -1,1로 셋팅된 상황에서 -1~1로의 변화가 더디다는 것이\n",
        "    문제임."
      ],
      "id": "f7b3a23d-a0e9-48f0-be6e-0042f3f9ce13"
    }
  ],
  "nbformat": 4,
  "nbformat_minor": 5,
  "metadata": {
    "kernelspec": {
      "name": "python3",
      "display_name": "Python 3",
      "language": "python"
    },
    "language_info": {
      "name": "python",
      "codemirror_mode": {
        "name": "ipython",
        "version": "3"
      },
      "file_extension": ".py",
      "mimetype": "text/x-python",
      "nbconvert_exporter": "python",
      "pygments_lexer": "ipython3",
      "version": "3.7.15"
    }
  }
}