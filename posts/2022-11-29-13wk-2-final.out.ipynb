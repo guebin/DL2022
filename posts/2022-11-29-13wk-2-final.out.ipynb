{
  "cells": [
    {
      "cell_type": "markdown",
      "metadata": {},
      "source": [
        "# final\n",
        "\n",
        "최규빈  \n",
        "2022-11-29\n",
        "\n",
        "> 기말고사"
      ],
      "id": "d070b551-76be-4479-82e5-a02c5ecfbffe"
    },
    {
      "cell_type": "code",
      "execution_count": 15,
      "metadata": {},
      "outputs": [],
      "source": [
        "import torch \n",
        "import matplotlib.pyplot as plt"
      ],
      "id": "8896a7ce-2d1c-4798-8d16-6a4c5a4882b9"
    },
    {
      "cell_type": "markdown",
      "metadata": {},
      "source": [
        "## `1`. hi?hello!! (90점)\n",
        "\n",
        "아래와 같은 데이터가 있다고 하자."
      ],
      "id": "e640550c-71d2-4892-b4ef-56539c50ba3b"
    },
    {
      "cell_type": "code",
      "execution_count": 112,
      "metadata": {},
      "outputs": [],
      "source": [
        "txt = list('hi?hello!!')*100 \n",
        "txt_x = txt[:-1]\n",
        "txt_y = txt[1:]"
      ],
      "id": "beefd4c6-44c1-475d-9011-3b42897ae220"
    },
    {
      "cell_type": "code",
      "execution_count": 113,
      "metadata": {},
      "outputs": [],
      "source": [
        "txt_x[:5], txt_y[:5]"
      ],
      "id": "4ebe6ce7-b51f-4061-8737-e6d38e5cbc37"
    },
    {
      "cell_type": "markdown",
      "metadata": {},
      "source": [
        "`txt_x`와 `txt_y`를 이용하여 아래와 같은 순서로 다음문자를 예측하고 싶은\n",
        "신경망을 설계하고 싶다.\n",
        "\n",
        "`h` $\\to$ `i` $\\to$ `?` $\\to$ `h` $\\to$ `e` $\\to$ `l` $\\to$ `l` $\\to$\n",
        "`o` $\\to$ `!` $\\to$ `!` $\\to$ `h` $\\to$ `i` $\\to$ `?` $\\to$ `h` $\\to$\n",
        "`e` $\\to$ $\\dots$\n",
        "\n",
        "***(1)-(6)*** 의 풀이에 공통적으로 필요한 과정 정리"
      ],
      "id": "8a12e78f-23a6-4d80-8239-2fbc94292878"
    },
    {
      "cell_type": "code",
      "execution_count": 372,
      "metadata": {},
      "outputs": [],
      "source": [
        "def f(txt,mapping):\n",
        "    return [mapping[key] for key in txt] \n",
        "sig = torch.nn.Sigmoid()\n",
        "soft = torch.nn.Softmax(dim=1)\n",
        "tanh = torch.nn.Tanh()\n",
        "mapping = {'!':0, '?':1,'h':2,'i':3,'e':4,'l':5,'o':6} \n",
        "x= torch.nn.functional.one_hot(torch.tensor(f(txt_x,mapping))).float().to(\"cuda:0\")\n",
        "y= torch.nn.functional.one_hot(torch.tensor(f(txt_y,mapping))).float().to(\"cuda:0\")"
      ],
      "id": "fc2bc385-c323-49a8-833a-ec2abaaeb56a"
    },
    {
      "cell_type": "markdown",
      "metadata": {},
      "source": [
        "`(1)` `torch.nn.RNN()`을 이용하여 다음문자를 예측하는 신경망을 설계하고\n",
        "학습하라.\n",
        "\n",
        "(풀이)"
      ],
      "id": "e66f24b4-4fbc-4541-8a21-c351316ba06e"
    },
    {
      "cell_type": "code",
      "execution_count": 373,
      "metadata": {},
      "outputs": [],
      "source": [
        "rnn = torch.nn.RNN(7,8).to(\"cuda:0\")\n",
        "linr = torch.nn.Linear(8,7).to(\"cuda:0\")\n",
        "loss_fn = torch.nn.CrossEntropyLoss()\n",
        "optimizr = torch.optim.Adam(list(rnn.parameters())+list(linr.parameters()),lr=0.1)"
      ],
      "id": "e38b77f7-50a5-4157-add4-035b5050c109"
    },
    {
      "cell_type": "code",
      "execution_count": 374,
      "metadata": {},
      "outputs": [
        {
          "output_type": "display_data",
          "metadata": {},
          "data": {
            "image/png": "[encoded data removed]"
          }
        }
      ],
      "source": [
        "for epoc in range(100):\n",
        "    ## 1\n",
        "    hidden, hT = rnn(x) # _water 사실 생략할 수 있어요..\n",
        "    output = linr(hidden)\n",
        "    ## 2\n",
        "    loss = loss_fn(output,y)\n",
        "    ## 3\n",
        "    loss.backward()\n",
        "    ## 4 \n",
        "    optimizr.step()\n",
        "    optimizr.zero_grad()\n",
        "yhat=soft(output)    \n",
        "plt.matshow(yhat.to(\"cpu\").data[:10],cmap='bwr',vmin=-1,vmax=1)\n",
        "plt.xticks(range(7),labels=['!','?','h','i','e','l','o']);"
      ],
      "id": "9f6bc480-02d8-46ff-a350-cb38a8d32b97"
    },
    {
      "cell_type": "markdown",
      "metadata": {},
      "source": [
        "`(2)` `torch.nn.RNNCell()`을 이용하여 다음문자를 예측하는 신경망을\n",
        "설계하고 학습하라.\n",
        "\n",
        "(풀이)"
      ],
      "id": "0049ad1c-2a21-4a89-b738-8029beba39be"
    },
    {
      "cell_type": "code",
      "execution_count": 375,
      "metadata": {},
      "outputs": [],
      "source": [
        "torch.manual_seed(43052)\n",
        "rnncell = torch.nn.RNNCell(7,8).to(\"cuda:0\")\n",
        "linr = torch.nn.Linear(8,7).to(\"cuda:0\")\n",
        "loss_fn = torch.nn.CrossEntropyLoss()\n",
        "optimizr = torch.optim.Adam(list(rnncell.parameters())+list(linr.parameters()),lr=0.1)"
      ],
      "id": "9de2b626-7aaa-47d4-b798-624051290cf7"
    },
    {
      "cell_type": "code",
      "execution_count": 376,
      "metadata": {},
      "outputs": [],
      "source": [
        "for epoc in range(100):\n",
        "    ## 1\n",
        "    hidden = [] \n",
        "    ht = torch.zeros(8).to(\"cuda:0\")\n",
        "    for xt,yt in zip(x,y): \n",
        "        ht = rnncell(xt,ht) \n",
        "        hidden.append(ht) \n",
        "    hidden = torch.stack(hidden)\n",
        "    output = linr(hidden)\n",
        "    ## 2 \n",
        "    loss = loss_fn(output,y)\n",
        "    ## 3 \n",
        "    loss.backward()\n",
        "    ## 4 \n",
        "    optimizr.step()\n",
        "    optimizr.zero_grad()"
      ],
      "id": "84ee358d-500a-48bf-9903-c74eb45a281b"
    },
    {
      "cell_type": "code",
      "execution_count": 377,
      "metadata": {},
      "outputs": [],
      "source": [
        "yhat = soft(output)\n",
        "yhat[:10].to(\"cpu\").detach().numpy().round(3)"
      ],
      "id": "e18ccef8-01fa-488d-8f7f-fb20690431e5"
    },
    {
      "cell_type": "code",
      "execution_count": 378,
      "metadata": {},
      "outputs": [
        {
          "output_type": "display_data",
          "metadata": {},
          "data": {
            "image/png": "[encoded data removed]"
          }
        }
      ],
      "source": [
        "plt.matshow(yhat.to(\"cpu\").data[:10],cmap='bwr',vmin=-1,vmax=1)\n",
        "plt.xticks(range(7),labels=['!','?','h','i','e','l','o']);"
      ],
      "id": "d968f8f2-8254-4e7e-8fa4-2b319556ea09"
    },
    {
      "cell_type": "markdown",
      "metadata": {},
      "source": [
        "`(3)` `torch.nn.Module`을 상속받은 클래스를 정의하고 (2)의 결과와 동일한\n",
        "적합값이 나오는 신경망을 설계한 뒤 학습하라. (초기값을 적절하게 설정할\n",
        "것)\n",
        "\n",
        "-   class를 이용하지 않으면 점수없음.\n",
        "-   torch.nn.RNN(), torch.nn.RNNCell() 을 이용한 네트워크를 학습시킬시\n",
        "    점수 없음. (초기값을 셋팅하는 용도로는 torch.nn.RNN(),\n",
        "    torch.nn.RNNCell()을 코드에 포함시키는 것이 가능)\n",
        "\n",
        "(풀이)"
      ],
      "id": "2888e566-0c53-42ef-aac9-f3d84d55a614"
    },
    {
      "cell_type": "code",
      "execution_count": 379,
      "metadata": {},
      "outputs": [],
      "source": [
        "class rNNCell(torch.nn.Module):\n",
        "    def __init__(self):\n",
        "        super().__init__()\n",
        "        self.i2h = torch.nn.Linear(7,8)\n",
        "        self.h2h = torch.nn.Linear(8,8) \n",
        "        self.tanh = torch.nn.Tanh()\n",
        "    def forward(self,xt,ht):\n",
        "        ht = self.tanh(self.i2h(xt)+self.h2h(ht))\n",
        "        return ht"
      ],
      "id": "86b6ccf4-a102-435f-a397-48bb956dc423"
    },
    {
      "cell_type": "code",
      "execution_count": 380,
      "metadata": {},
      "outputs": [],
      "source": [
        "rnncell = rNNCell().to(\"cuda:0\")\n",
        "linr = torch.nn.Linear(8,7).to(\"cuda:0\")\n",
        "loss_fn = torch.nn.CrossEntropyLoss()\n",
        "optimizr = torch.optim.Adam(list(rnncell.parameters())+list(linr.parameters()),lr=0.1)"
      ],
      "id": "65a1f700-4245-4b84-96d9-34e8dabfe396"
    },
    {
      "cell_type": "code",
      "execution_count": 381,
      "metadata": {},
      "outputs": [],
      "source": [
        "## 초기화의 설정을 위한 코드\n",
        "torch.manual_seed(43052)\n",
        "_rnncell = torch.nn.RNNCell(7,8).to(\"cuda:0\")\n",
        "_linr = torch.nn.Linear(8,7).to(\"cuda:0\")\n",
        "rnncell.i2h.weight.data = _rnncell.weight_ih.data \n",
        "rnncell.h2h.weight.data = _rnncell.weight_hh.data \n",
        "rnncell.h2h.bias.data = _rnncell.bias_hh.data\n",
        "rnncell.i2h.bias.data = _rnncell.bias_ih.data\n",
        "linr.weight.data = _linr.weight.data \n",
        "linr.bias.data = _linr.bias.data "
      ],
      "id": "28878e98-637d-4c60-96e1-68b8e9b73ff3"
    },
    {
      "cell_type": "code",
      "execution_count": 382,
      "metadata": {},
      "outputs": [],
      "source": [
        "for epoc in range(100):\n",
        "    ## 1\n",
        "    hidden = [] \n",
        "    ht = torch.zeros(8).to(\"cuda:0\")\n",
        "    for xt,yt in zip(x,y): \n",
        "        ht = rnncell(xt,ht)\n",
        "        ot = linr(ht) \n",
        "        hidden.append(ht) \n",
        "    hidden = torch.stack(hidden)\n",
        "    output = linr(hidden) \n",
        "    ## 2 \n",
        "    loss = loss_fn(output,y)\n",
        "    ## 3 \n",
        "    loss.backward()\n",
        "    ## 4 \n",
        "    optimizr.step()\n",
        "    optimizr.zero_grad()"
      ],
      "id": "c31d50a8-7f05-40ca-b57f-f83fbd8db20d"
    },
    {
      "cell_type": "code",
      "execution_count": 383,
      "metadata": {},
      "outputs": [],
      "source": [
        "yhat = soft(output)\n",
        "yhat[:10].to(\"cpu\").detach().numpy().round(3)"
      ],
      "id": "04d33c20-d76a-4ae4-9bda-a66b73efbc1a"
    },
    {
      "cell_type": "code",
      "execution_count": 384,
      "metadata": {},
      "outputs": [
        {
          "output_type": "display_data",
          "metadata": {},
          "data": {
            "image/png": "[encoded data removed]"
          }
        }
      ],
      "source": [
        "plt.matshow(yhat.to(\"cpu\").data[:10],cmap='bwr',vmin=-1,vmax=1)\n",
        "plt.xticks(range(7),labels=['!','?','h','i','e','l','o']);"
      ],
      "id": "13fbfb95-0f0c-485a-85d0-b7826074068a"
    },
    {
      "cell_type": "markdown",
      "metadata": {},
      "source": [
        "`(4)` `torch.nn.LSTM()`을 이용하여 다음문자를 예측하는 신경망을 설계하고\n",
        "학습하라.\n",
        "\n",
        "(풀이)"
      ],
      "id": "5db960b7-bbac-4a10-b391-3ad3d0ce9356"
    },
    {
      "cell_type": "code",
      "execution_count": 385,
      "metadata": {},
      "outputs": [],
      "source": [
        "lstm = torch.nn.LSTM(7,4).to(\"cuda:0\")\n",
        "linr = torch.nn.Linear(4,7).to(\"cuda:0\")\n",
        "loss_fn = torch.nn.CrossEntropyLoss()\n",
        "optimizr = torch.optim.Adam(list(lstm.parameters())+list(linr.parameters()),lr=0.1)"
      ],
      "id": "7ae199a5-0df6-4d64-adda-75aa65be2a17"
    },
    {
      "cell_type": "code",
      "execution_count": 386,
      "metadata": {},
      "outputs": [
        {
          "output_type": "display_data",
          "metadata": {},
          "data": {
            "image/png": "[encoded data removed]"
          }
        }
      ],
      "source": [
        "for epoc in range(100):\n",
        "    ## 1\n",
        "    hidden, (hT,cT) = lstm(x)\n",
        "    output = linr(hidden)\n",
        "    ## 2\n",
        "    loss = loss_fn(output,y)\n",
        "    ## 3\n",
        "    loss.backward()\n",
        "    ## 4 \n",
        "    optimizr.step()\n",
        "    optimizr.zero_grad()\n",
        "yhat=soft(output)    \n",
        "plt.matshow(yhat.to(\"cpu\").data[:10],cmap='bwr',vmin=-1,vmax=1)\n",
        "plt.xticks(range(7),labels=['!','?','h','i','e','l','o']);"
      ],
      "id": "c986e43e-a855-4c17-a1a1-210a98e456d7"
    },
    {
      "cell_type": "markdown",
      "metadata": {},
      "source": [
        "`(5)` `torch.nn.LSTMCell()`을 이용하여 다음문자를 예측하는 신경망을\n",
        "설계하고 학습하라.\n",
        "\n",
        "(풀이)"
      ],
      "id": "ce6e9192-2d01-4599-84c3-e558a0953375"
    },
    {
      "cell_type": "code",
      "execution_count": 437,
      "metadata": {},
      "outputs": [],
      "source": [
        "torch.manual_seed(43052) \n",
        "lstmcell = torch.nn.LSTMCell(7,4).to(\"cuda:0\")\n",
        "linr = torch.nn.Linear(4,7).to(\"cuda:0\")\n",
        "loss_fn = torch.nn.CrossEntropyLoss()\n",
        "optimizr = torch.optim.Adam(list(lstmcell.parameters())+list(linr.parameters()),lr=0.1)"
      ],
      "id": "358e6f02-a696-40a7-ad1c-e0b140f6e0fa"
    },
    {
      "cell_type": "code",
      "execution_count": 438,
      "metadata": {},
      "outputs": [],
      "source": [
        "for epoc in range(100):\n",
        "    ## 1\n",
        "    hidden = []\n",
        "    ht = torch.zeros(4).to(\"cuda:0\")\n",
        "    ct = torch.zeros(4).to(\"cuda:0\")\n",
        "    for xt,yt in zip(x,y): \n",
        "        ht,ct = lstmcell(xt,(ht,ct))\n",
        "        hidden.append(ht) \n",
        "    hidden = torch.stack(hidden)\n",
        "    output = linr(hidden)\n",
        "    ## 2 \n",
        "    loss = loss_fn(output,y)\n",
        "    ## 3 \n",
        "    loss.backward()\n",
        "    ## 4 \n",
        "    optimizr.step()\n",
        "    optimizr.zero_grad()"
      ],
      "id": "b0135577-b93c-4e5c-a8e4-e60d09336df0"
    },
    {
      "cell_type": "code",
      "execution_count": 439,
      "metadata": {},
      "outputs": [],
      "source": [
        "yhat = soft(output)\n",
        "yhat[:10].to(\"cpu\").detach().numpy().round(3)"
      ],
      "id": "2500be7f-3c31-4043-9a72-5595f6b1db09"
    },
    {
      "cell_type": "code",
      "execution_count": 440,
      "metadata": {},
      "outputs": [
        {
          "output_type": "display_data",
          "metadata": {},
          "data": {
            "image/png": "[encoded data removed]"
          }
        }
      ],
      "source": [
        "plt.matshow(yhat.to(\"cpu\").data[:10],cmap='bwr',vmin=-1,vmax=1)\n",
        "plt.xticks(range(7),labels=['!','?','h','i','e','l','o']);"
      ],
      "id": "d228e639-60aa-4bfa-9098-4e1a3e4c2ee3"
    },
    {
      "cell_type": "markdown",
      "metadata": {},
      "source": [
        "`(6)` (5)의 결과와 동일한 적합값을 출력하는 신경망을 직접설계한 뒤\n",
        "학습시켜라. (초기값을 적절하게 설정할 것)\n",
        "\n",
        "-   class를 이용하지 않아도 무방함.\n",
        "-   torch.nn.LSTM(), torch.nn.LSTMCell() 을 이용한 네트워크를 학습시킬시\n",
        "    점수 없음. (초기값을 셋팅하는 용도로는 torch.nn.LSTM(),\n",
        "    torch.nn.LSTMCell()을 코드에 포함시키는 것은 가능)\n",
        "\n",
        "(풀이)"
      ],
      "id": "c96c9582-e861-48d8-9e17-61d8adc1162f"
    },
    {
      "cell_type": "code",
      "execution_count": 540,
      "metadata": {},
      "outputs": [],
      "source": [
        "class lSTMCell(torch.nn.Module):\n",
        "    def __init__(self):\n",
        "        super().__init__()\n",
        "        self.i2h = torch.nn.Linear(7,16)\n",
        "        self.h2h = torch.nn.Linear(4,16) \n",
        "        self.tanh = torch.nn.Tanh()\n",
        "    def forward(self,xt,past):\n",
        "        ht,ct = past \n",
        "        ifgo = self.i2h(xt) + self.h2h(ht) \n",
        "        it = sig(ifgo[0:4])\n",
        "        ft = sig(ifgo[4:8])\n",
        "        gt = tanh(ifgo[8:12])\n",
        "        ot = sig(ifgo[12:16])\n",
        "        ct = ft*ct + it*gt\n",
        "        ht = ot*self.tanh(ct) \n",
        "        return ht,ct"
      ],
      "id": "8451ec4e-8f66-4935-a9ca-f2a1adfe5571"
    },
    {
      "cell_type": "code",
      "execution_count": 541,
      "metadata": {},
      "outputs": [],
      "source": [
        "lstmcell = lSTMCell().to(\"cuda:0\")\n",
        "linr = torch.nn.Linear(4,7).to(\"cuda:0\")\n",
        "loss_fn = torch.nn.CrossEntropyLoss()\n",
        "optimizr = torch.optim.Adam(list(lstmcell.parameters())+list(linr.parameters()),lr=0.1)"
      ],
      "id": "81f97255-206d-4295-83b7-5f65c2563806"
    },
    {
      "cell_type": "code",
      "execution_count": 542,
      "metadata": {},
      "outputs": [],
      "source": [
        "# 초기값셋팅\n",
        "torch.manual_seed(43052) \n",
        "_lstmcell = torch.nn.LSTMCell(7,4).to(\"cuda:0\")\n",
        "_linr = torch.nn.Linear(4,7).to(\"cuda:0\")\n",
        "lstmcell.i2h.weight.data = _lstmcell.weight_ih.data \n",
        "lstmcell.h2h.weight.data = _lstmcell.weight_hh.data \n",
        "lstmcell.i2h.bias.data = _lstmcell.bias_ih.data\n",
        "lstmcell.h2h.bias.data = _lstmcell.bias_hh.data\n",
        "linr.weight.data = _linr.weight.data \n",
        "linr.bias.data = _linr.bias.data "
      ],
      "id": "c39b90d5-a4b7-402b-91d8-0ac4ad624ccb"
    },
    {
      "cell_type": "code",
      "execution_count": 543,
      "metadata": {},
      "outputs": [],
      "source": [
        "for epoc in range(100):\n",
        "    ## 1\n",
        "    hidden = []     \n",
        "    ht = torch.zeros(4).to(\"cuda:0\")\n",
        "    ct = torch.zeros(4).to(\"cuda:0\")\n",
        "    for xt,yt in zip(x,y): \n",
        "        ht,ct = lstmcell(xt,(ht,ct))\n",
        "        hidden.append(ht) \n",
        "    hidden = torch.stack(hidden)\n",
        "    output = linr(hidden) \n",
        "    ## 2 \n",
        "    loss = loss_fn(output,y)\n",
        "    ## 3 \n",
        "    loss.backward()\n",
        "    ## 4 \n",
        "    optimizr.step()\n",
        "    optimizr.zero_grad()"
      ],
      "id": "6e38bf79-032d-4b5b-b3f7-9a8073c6cb6d"
    },
    {
      "cell_type": "code",
      "execution_count": 544,
      "metadata": {},
      "outputs": [],
      "source": [
        "yhat = soft(output)\n",
        "yhat[:10].to(\"cpu\").detach().numpy().round(3)"
      ],
      "id": "11f44200-0b72-49db-bc84-5ce67fed1db2"
    },
    {
      "cell_type": "code",
      "execution_count": 545,
      "metadata": {},
      "outputs": [
        {
          "output_type": "display_data",
          "metadata": {},
          "data": {
            "image/png": "[encoded data removed]"
          }
        }
      ],
      "source": [
        "plt.matshow(yhat.to(\"cpu\").data[:10],cmap='bwr',vmin=-1,vmax=1)\n",
        "plt.xticks(range(7),labels=['!','?','h','i','e','l','o']);"
      ],
      "id": "1a8ff7db-4283-44ce-87cd-29441d830fd2"
    },
    {
      "cell_type": "markdown",
      "metadata": {},
      "source": [
        "## `2`. 다음을 읽고 참 거짓을 판단하여라. (10점)\n",
        "\n",
        "`(1)` LSTM은 RNN보다 장기기억에 유리하다. (**True**)\n",
        "\n",
        "`(2)` `torch.nn.Embedding(num_embeddings=2,embedding_dim=1)`와\n",
        "`torch.nn.Linear(in_features=1,out_features=1)`의 학습가능한\n",
        "파라메터수는 같다. (**True**)\n",
        "\n",
        "`(3)` 아래와 같은 네트워크를 고려하자.\n",
        "\n",
        "``` python\n",
        "net = torch.nn.Linear(1,1)\n",
        "```\n",
        "\n",
        "차원이 (n,1) 인 임의의 텐서에 대하여 net(x)와 net.forward(x)의\n",
        "출력결과는 같다. (**True**)\n",
        "\n",
        "`(4)` 아래와 같이 a,b,c,d 가 반복되는 문자열이 반복되는 자료에서\n",
        "다음문자열을 맞추는 과업을 수행하기 위해서는 반드시 순환신경망의 형태로\n",
        "설계해야만 한다. (**False**) –\\> 오타로인하여 문제삭제\n",
        "\n",
        "    a,b,c,d,a,b,c,d,...\n",
        "\n",
        "`(5)` RNN 혹은 LSTM 으로 신경망을 설계할 시 손실함수는 항상\n",
        "`torch.nn.CrossEntropyLoss` 를 사용해야 한다. (**False**)"
      ],
      "id": "8a08a484-8b68-4310-a87b-d9443c004902"
    }
  ],
  "nbformat": 4,
  "nbformat_minor": 5,
  "metadata": {
    "kernelspec": {
      "name": "python3",
      "display_name": "Python 3",
      "language": "python"
    },
    "language_info": {
      "name": "python",
      "codemirror_mode": {
        "name": "ipython",
        "version": "3"
      },
      "file_extension": ".py",
      "mimetype": "text/x-python",
      "nbconvert_exporter": "python",
      "pygments_lexer": "ipython3",
      "version": "3.7.15"
    }
  }
}