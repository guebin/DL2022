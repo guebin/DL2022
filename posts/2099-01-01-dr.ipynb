{
 "cells": [
  {
   "cell_type": "markdown",
   "id": "b41d7c16-e307-4547-9896-8550e7ca84e4",
   "metadata": {},
   "source": [
    "# draft"
   ]
  },
  {
   "cell_type": "markdown",
   "id": "e82494cd-bb9e-499e-bbc5-ff9fd203d9eb",
   "metadata": {
    "tags": []
   },
   "source": [
    "## import"
   ]
  },
  {
   "cell_type": "code",
   "execution_count": 1,
   "id": "71ae220c-cadd-452a-83bb-180202704577",
   "metadata": {},
   "outputs": [],
   "source": [
    "import torch\n",
    "import numpy as np\n",
    "import pandas as pd\n",
    "import matplotlib.pyplot as plt\n",
    "import time"
   ]
  },
  {
   "cell_type": "markdown",
   "id": "83bf827d-9f38-4846-9395-63569ddba13b",
   "metadata": {},
   "source": [
    "## Define some funtions"
   ]
  },
  {
   "cell_type": "code",
   "execution_count": 2,
   "id": "785656e5-2587-46cb-8268-c8a0b0f6d5ad",
   "metadata": {},
   "outputs": [],
   "source": [
    "def f(txt,mapping):\n",
    "    return [mapping[key] for key in txt] \n",
    "sig = torch.nn.Sigmoid()\n",
    "soft = torch.nn.Softmax(dim=1)\n",
    "tanh = torch.nn.Tanh()"
   ]
  },
  {
   "cell_type": "markdown",
   "id": "3b28e0ae-4efc-44d2-a5cc-cdf2f453fa94",
   "metadata": {},
   "source": [
    "## GPU 실험 "
   ]
  },
  {
   "cell_type": "markdown",
   "id": "3418d4a1-a82c-47ff-be02-7901bc136a91",
   "metadata": {},
   "source": [
    "### cpu"
   ]
  },
  {
   "cell_type": "code",
   "execution_count": 3,
   "id": "5c4a9793-3022-421b-8a85-a82cb4e57092",
   "metadata": {},
   "outputs": [],
   "source": [
    "x = torch.randn([20000,4])\n",
    "y = torch.randn([20000,4])"
   ]
  },
  {
   "cell_type": "code",
   "execution_count": 4,
   "id": "316d4dbd-2f9b-4911-9982-6cb4ad5990a1",
   "metadata": {},
   "outputs": [],
   "source": [
    "rnn = torch.nn.RNN(4,20)\n",
    "linr = torch.nn.Linear(20,4) \n",
    "optimizr = torch.optim.Adam(list(rnn.parameters())+list(linr.parameters()))\n",
    "loss_fn = torch.nn.MSELoss()"
   ]
  },
  {
   "cell_type": "code",
   "execution_count": 5,
   "id": "17ea17fb-dafe-46dc-98c5-ec8bc15724ef",
   "metadata": {},
   "outputs": [
    {
     "data": {
      "text/plain": [
       "93.93624830245972"
      ]
     },
     "execution_count": 5,
     "metadata": {},
     "output_type": "execute_result"
    }
   ],
   "source": [
    "t1 = time.time()\n",
    "for epoc in range(100):\n",
    "    ## 1 \n",
    "    _water = torch.zeros(1,20)\n",
    "    hidden, hT = rnn(x,_water)\n",
    "    yhat = linr(hidden)\n",
    "    ## 2 \n",
    "    loss = loss_fn(yhat,y) \n",
    "    ## 3\n",
    "    loss.backward()\n",
    "    ## 4 \n",
    "    optimizr.step()\n",
    "    optimizr.zero_grad()\n",
    "    \n",
    "t2 = time.time()\n",
    "t2-t1"
   ]
  },
  {
   "cell_type": "markdown",
   "id": "f0a4498a-9af2-4175-9b24-d0cf52c664bf",
   "metadata": {},
   "source": [
    "### gpu"
   ]
  },
  {
   "cell_type": "code",
   "execution_count": 6,
   "id": "2433243f-9009-42c7-a4c3-304fa97c6257",
   "metadata": {},
   "outputs": [],
   "source": [
    "x = torch.randn([20000,4]).to(\"cuda:0\")\n",
    "y = torch.randn([20000,4]).to(\"cuda:0\")"
   ]
  },
  {
   "cell_type": "code",
   "execution_count": 7,
   "id": "0725a979-f164-42b7-9a79-03d9b405cb2f",
   "metadata": {},
   "outputs": [],
   "source": [
    "rnn = torch.nn.RNN(4,20).to(\"cuda:0\")\n",
    "linr = torch.nn.Linear(20,4).to(\"cuda:0\")\n",
    "optimizr = torch.optim.Adam(list(rnn.parameters())+list(linr.parameters()))\n",
    "loss_fn = torch.nn.MSELoss()"
   ]
  },
  {
   "cell_type": "code",
   "execution_count": 8,
   "id": "b73699e1-92a1-4c2c-a2d2-d883aaf4b1ea",
   "metadata": {},
   "outputs": [
    {
     "data": {
      "text/plain": [
       "3.090775489807129"
      ]
     },
     "execution_count": 8,
     "metadata": {},
     "output_type": "execute_result"
    }
   ],
   "source": [
    "t1 = time.time()\n",
    "for epoc in range(100):\n",
    "    ## 1 \n",
    "    _water = torch.zeros(1,20).to(\"cuda:0\")\n",
    "    hidden, hT = rnn(x,_water)\n",
    "    yhat = linr(hidden)\n",
    "    ## 2 \n",
    "    loss = loss_fn(yhat,y) \n",
    "    ## 3\n",
    "    loss.backward()\n",
    "    ## 4 \n",
    "    optimizr.step()\n",
    "    optimizr.zero_grad()\n",
    "    \n",
    "t2 = time.time()\n",
    "t2-t1"
   ]
  },
  {
   "cell_type": "markdown",
   "id": "f4f8c651-e51a-44d0-8b91-d710322717d2",
   "metadata": {},
   "source": [
    "- 왜 빨라..?"
   ]
  },
  {
   "cell_type": "markdown",
   "id": "71cff8e7-be6a-464a-8984-a4cb06efcf3d",
   "metadata": {},
   "source": [
    "### cpu (역전파삭제) "
   ]
  },
  {
   "cell_type": "code",
   "execution_count": 9,
   "id": "2394644b-26d9-40e3-91de-88bbaa3457db",
   "metadata": {},
   "outputs": [],
   "source": [
    "x = torch.randn([20000,4])\n",
    "y = torch.randn([20000,4])"
   ]
  },
  {
   "cell_type": "code",
   "execution_count": 10,
   "id": "bd5c1b3c-506e-4bcd-90f0-68351826318a",
   "metadata": {},
   "outputs": [],
   "source": [
    "rnn = torch.nn.RNN(4,20)\n",
    "linr = torch.nn.Linear(20,4) \n",
    "optimizr = torch.optim.Adam(list(rnn.parameters())+list(linr.parameters()))\n",
    "loss_fn = torch.nn.MSELoss()"
   ]
  },
  {
   "cell_type": "code",
   "execution_count": 11,
   "id": "7b8cd706-f080-4627-931d-9cc3e7ac0358",
   "metadata": {},
   "outputs": [
    {
     "data": {
      "text/plain": [
       "18.86418318748474"
      ]
     },
     "execution_count": 11,
     "metadata": {},
     "output_type": "execute_result"
    }
   ],
   "source": [
    "t1 = time.time()\n",
    "for epoc in range(100):\n",
    "    ## 1 \n",
    "    _water = torch.zeros(1,20)\n",
    "    hidden, hT = rnn(x,_water)\n",
    "    yhat = linr(hidden)\n",
    "    ## 2 \n",
    "    loss = loss_fn(yhat,y) \n",
    "    ## 3\n",
    "#    loss.backward()\n",
    "    ## 4 \n",
    "    optimizr.step()\n",
    "    optimizr.zero_grad()\n",
    "    \n",
    "t2 = time.time()\n",
    "t2-t1"
   ]
  },
  {
   "cell_type": "markdown",
   "id": "f727a0c6-e7d0-4393-9d6a-f2e69158a519",
   "metadata": {},
   "source": [
    "### gpu (역전파삭제)"
   ]
  },
  {
   "cell_type": "code",
   "execution_count": 12,
   "id": "aca52ae3-2230-42b5-a65a-1ae1f7584898",
   "metadata": {},
   "outputs": [],
   "source": [
    "x = torch.randn([20000,4]).to(\"cuda:0\")\n",
    "y = torch.randn([20000,4]).to(\"cuda:0\")"
   ]
  },
  {
   "cell_type": "code",
   "execution_count": 13,
   "id": "02cd633d-732c-49d7-96a1-86a84b102432",
   "metadata": {},
   "outputs": [],
   "source": [
    "rnn = torch.nn.RNN(4,20).to(\"cuda:0\")\n",
    "linr = torch.nn.Linear(20,4).to(\"cuda:0\")\n",
    "optimizr = torch.optim.Adam(list(rnn.parameters())+list(linr.parameters()))\n",
    "loss_fn = torch.nn.MSELoss()"
   ]
  },
  {
   "cell_type": "code",
   "execution_count": 14,
   "id": "e80432bf-8a19-4491-90a8-ac890f6a107a",
   "metadata": {},
   "outputs": [
    {
     "data": {
      "text/plain": [
       "1.2390961647033691"
      ]
     },
     "execution_count": 14,
     "metadata": {},
     "output_type": "execute_result"
    }
   ],
   "source": [
    "t1 = time.time()\n",
    "for epoc in range(100):\n",
    "    ## 1 \n",
    "    _water = torch.zeros(1,20).to(\"cuda:0\")\n",
    "    hidden, hT = rnn(x,_water)\n",
    "    yhat = linr(hidden)\n",
    "    ## 2 \n",
    "    loss = loss_fn(yhat,y) \n",
    "    ## 3\n",
    "#    loss.backward()\n",
    "    ## 4 \n",
    "    optimizr.step()\n",
    "    optimizr.zero_grad()\n",
    "    \n",
    "t2 = time.time()\n",
    "t2-t1"
   ]
  },
  {
   "cell_type": "markdown",
   "id": "f9b379d4-d8f2-47ba-9e2b-294b4161883b",
   "metadata": {},
   "source": [
    "## Exam5: abcabC"
   ]
  },
  {
   "cell_type": "markdown",
   "id": "cbd89d3a-8469-4085-b6aa-44969d161418",
   "metadata": {
    "tags": []
   },
   "source": [
    "### data"
   ]
  },
  {
   "cell_type": "code",
   "execution_count": 15,
   "id": "7b3593c3-205f-4fe2-bebb-fefb31a5a0a2",
   "metadata": {},
   "outputs": [
    {
     "data": {
      "text/plain": [
       "['a', 'b', 'c', 'a', 'b']"
      ]
     },
     "execution_count": 15,
     "metadata": {},
     "output_type": "execute_result"
    }
   ],
   "source": [
    "txt = list('abcabC')*100\n",
    "txt[:5]"
   ]
  },
  {
   "cell_type": "code",
   "execution_count": 16,
   "id": "b4a584e7-cefc-4391-a53f-17adca78da6f",
   "metadata": {},
   "outputs": [],
   "source": [
    "n_words = 4"
   ]
  },
  {
   "cell_type": "code",
   "execution_count": 17,
   "id": "af82c8cb-8a5d-45e1-b611-194fe0d73444",
   "metadata": {},
   "outputs": [],
   "source": [
    "mapping = {'a':0, 'b':1, 'c':2, 'C':3}"
   ]
  },
  {
   "cell_type": "code",
   "execution_count": 18,
   "id": "1b365e7b-7167-4ef4-bc16-5bd644542982",
   "metadata": {},
   "outputs": [],
   "source": [
    "txt_x = txt[:-1]\n",
    "txt_y = txt[1:]"
   ]
  },
  {
   "cell_type": "code",
   "execution_count": 19,
   "id": "8d03839d-bce4-4e6d-9138-704d9c014e42",
   "metadata": {},
   "outputs": [
    {
     "data": {
      "text/plain": [
       "(['a', 'b', 'c', 'a', 'b', 'C', 'a', 'b', 'c', 'a'],\n",
       " ['b', 'c', 'a', 'b', 'C', 'a', 'b', 'c', 'a', 'b'])"
      ]
     },
     "execution_count": 19,
     "metadata": {},
     "output_type": "execute_result"
    }
   ],
   "source": [
    "txt_x[:10],txt_y[:10]"
   ]
  },
  {
   "cell_type": "code",
   "execution_count": 20,
   "id": "8e7c8b67-1d2b-4902-bc63-010c44aae02f",
   "metadata": {},
   "outputs": [],
   "source": [
    "x = torch.nn.functional.one_hot(torch.tensor(f(txt_x,mapping))).float()\n",
    "y = torch.nn.functional.one_hot(torch.tensor(f(txt_y,mapping))).float()"
   ]
  },
  {
   "cell_type": "code",
   "execution_count": 21,
   "id": "9f8f3382-1b08-4d8e-a501-e7a9445c8b4e",
   "metadata": {},
   "outputs": [
    {
     "data": {
      "text/plain": [
       "(tensor([[1., 0., 0., 0.],\n",
       "         [0., 1., 0., 0.],\n",
       "         [0., 0., 1., 0.],\n",
       "         ...,\n",
       "         [0., 0., 1., 0.],\n",
       "         [1., 0., 0., 0.],\n",
       "         [0., 1., 0., 0.]]),\n",
       " tensor([[0., 1., 0., 0.],\n",
       "         [0., 0., 1., 0.],\n",
       "         [1., 0., 0., 0.],\n",
       "         ...,\n",
       "         [1., 0., 0., 0.],\n",
       "         [0., 1., 0., 0.],\n",
       "         [0., 0., 0., 1.]]))"
      ]
     },
     "execution_count": 21,
     "metadata": {},
     "output_type": "execute_result"
    }
   ],
   "source": [
    "x,y"
   ]
  },
  {
   "cell_type": "code",
   "execution_count": 22,
   "id": "6a46d9c2-b964-4c63-a16c-036a4da5b394",
   "metadata": {},
   "outputs": [],
   "source": [
    "x=x.to(\"cuda:0\")\n",
    "y=y.to(\"cuda:0\")"
   ]
  },
  {
   "cell_type": "markdown",
   "id": "2b26f2b7-c332-4cb8-a5c6-9e427053a48d",
   "metadata": {},
   "source": [
    "### RNN"
   ]
  },
  {
   "cell_type": "code",
   "execution_count": 23,
   "id": "8bca4623-13a2-4195-a55c-90a4c8fabfdb",
   "metadata": {},
   "outputs": [],
   "source": [
    "n_features = 3"
   ]
  },
  {
   "cell_type": "code",
   "execution_count": 24,
   "id": "6a05eb7b-430d-4e60-a1f9-5044844ced1e",
   "metadata": {},
   "outputs": [],
   "source": [
    "torch.manual_seed(43052)\n",
    "rnn = torch.nn.RNN(n_words,n_features)\n",
    "linr = torch.nn.Linear(n_features,n_words) \n",
    "loss_fn = torch.nn.CrossEntropyLoss()\n",
    "optimizr = torch.optim.Adam(list(rnn.parameters())+list(linr.parameters()))"
   ]
  },
  {
   "cell_type": "code",
   "execution_count": 25,
   "id": "cda08a66-8ca3-4cb0-a13c-83ec3a8ca986",
   "metadata": {},
   "outputs": [
    {
     "data": {
      "text/plain": [
       "Linear(in_features=3, out_features=4, bias=True)"
      ]
     },
     "execution_count": 25,
     "metadata": {},
     "output_type": "execute_result"
    }
   ],
   "source": [
    "rnn.to(\"cuda:0\")\n",
    "linr.to(\"cuda:0\")"
   ]
  },
  {
   "cell_type": "markdown",
   "id": "ee4e6cd6-ad21-4db8-ae0b-a2e1d1090cea",
   "metadata": {},
   "source": [
    "`-` 3000 epochs"
   ]
  },
  {
   "cell_type": "code",
   "execution_count": 26,
   "id": "0bfd9b20-814a-407a-81d1-8af256899e7e",
   "metadata": {},
   "outputs": [],
   "source": [
    "_water = torch.zeros(1,n_features).to(\"cuda:0\")"
   ]
  },
  {
   "cell_type": "code",
   "execution_count": 27,
   "id": "be097dda-e7ce-464e-99cb-11181757c500",
   "metadata": {},
   "outputs": [],
   "source": [
    "for epoc in range(3000):\n",
    "    ## step1 \n",
    "    hidden, hT = rnn(x,_water)\n",
    "    output = linr(hidden)\n",
    "    ## step2 \n",
    "    loss = loss_fn(output,y)\n",
    "    ## step3 \n",
    "    loss.backward()\n",
    "    ## step4 \n",
    "    optimizr.step()\n",
    "    optimizr.zero_grad()"
   ]
  },
  {
   "cell_type": "code",
   "execution_count": 28,
   "id": "de8862c0-6738-4368-a84a-9d565e183b55",
   "metadata": {},
   "outputs": [],
   "source": [
    "yhat=soft(output)"
   ]
  },
  {
   "cell_type": "code",
   "execution_count": 29,
   "id": "bcc95ec9-8b54-4380-a2c2-6c28e90b3093",
   "metadata": {},
   "outputs": [],
   "source": [
    "combinded = torch.concat([hidden,yhat],axis=1)"
   ]
  },
  {
   "cell_type": "code",
   "execution_count": 30,
   "id": "40ef6564-59d8-438d-a730-e6cb5f4ccb60",
   "metadata": {},
   "outputs": [
    {
     "data": {
      "text/plain": [
       "<matplotlib.image.AxesImage at 0x7f8120317c50>"
      ]
     },
     "execution_count": 30,
     "metadata": {},
     "output_type": "execute_result"
    },
    {
     "data": {
      "image/png": "[encoded data removed]",
      "text/plain": [
       "<Figure size 336x288 with 1 Axes>"
      ]
     },
     "metadata": {
      "needs_background": "light"
     },
     "output_type": "display_data"
    }
   ],
   "source": [
    "plt.matshow(combinded.to(\"cpu\").data[-6:],cmap='bwr')"
   ]
  },
  {
   "cell_type": "markdown",
   "id": "ce004c5a-a82e-4551-8c18-66f51087a6a1",
   "metadata": {},
   "source": [
    "`-` 6000 epochs"
   ]
  },
  {
   "cell_type": "code",
   "execution_count": 31,
   "id": "3ef8dcb5-8bfd-4bf6-a6bb-79014b46e2f0",
   "metadata": {},
   "outputs": [],
   "source": [
    "for epoc in range(3000):\n",
    "    ## step1 \n",
    "    hidden, hT = rnn(x,_water)\n",
    "    output = linr(hidden)\n",
    "    ## step2 \n",
    "    loss = loss_fn(output,y)\n",
    "    ## step3 \n",
    "    loss.backward()\n",
    "    ## step4 \n",
    "    optimizr.step()\n",
    "    optimizr.zero_grad()"
   ]
  },
  {
   "cell_type": "code",
   "execution_count": 32,
   "id": "0f9d6599-b40f-4cc4-bccf-8ba1fa5bbc98",
   "metadata": {},
   "outputs": [],
   "source": [
    "yhat=soft(output)"
   ]
  },
  {
   "cell_type": "code",
   "execution_count": 33,
   "id": "3eb7c3df-78e7-40ef-8046-33a26dd84ea0",
   "metadata": {},
   "outputs": [],
   "source": [
    "combinded = torch.concat([hidden,yhat],axis=1)"
   ]
  },
  {
   "cell_type": "code",
   "execution_count": 34,
   "id": "96ec9494-4d5c-409a-93ef-a32645087d33",
   "metadata": {},
   "outputs": [
    {
     "data": {
      "text/plain": [
       "<matplotlib.image.AxesImage at 0x7f81201c02d0>"
      ]
     },
     "execution_count": 34,
     "metadata": {},
     "output_type": "execute_result"
    },
    {
     "data": {
      "image/png": "[encoded data removed]",
      "text/plain": [
       "<Figure size 336x288 with 1 Axes>"
      ]
     },
     "metadata": {
      "needs_background": "light"
     },
     "output_type": "display_data"
    }
   ],
   "source": [
    "plt.matshow(combinded.to(\"cpu\").data[-6:],cmap='bwr')"
   ]
  },
  {
   "cell_type": "markdown",
   "id": "ef489e52-0b00-4d02-b9d3-9002e342a106",
   "metadata": {},
   "source": [
    "`-` 9000 epochs"
   ]
  },
  {
   "cell_type": "code",
   "execution_count": 35,
   "id": "9e11f92e-e537-4341-84c0-11623ce32e96",
   "metadata": {},
   "outputs": [],
   "source": [
    "for epoc in range(3000):\n",
    "    ## step1 \n",
    "    hidden, hT = rnn(x,_water)\n",
    "    output = linr(hidden)\n",
    "    ## step2 \n",
    "    loss = loss_fn(output,y)\n",
    "    ## step3 \n",
    "    loss.backward()\n",
    "    ## step4 \n",
    "    optimizr.step()\n",
    "    optimizr.zero_grad()"
   ]
  },
  {
   "cell_type": "code",
   "execution_count": 36,
   "id": "608f2335-99ef-4b42-914c-28e60bc9eeb9",
   "metadata": {},
   "outputs": [],
   "source": [
    "yhat=soft(output)"
   ]
  },
  {
   "cell_type": "code",
   "execution_count": 37,
   "id": "786702a3-6fb4-4f23-b036-d94d2878937d",
   "metadata": {},
   "outputs": [],
   "source": [
    "combinded = torch.concat([hidden,yhat],axis=1)"
   ]
  },
  {
   "cell_type": "code",
   "execution_count": 38,
   "id": "061c1d20-8a33-4e7b-8513-83d52cc5eb2f",
   "metadata": {},
   "outputs": [
    {
     "data": {
      "text/plain": [
       "<matplotlib.image.AxesImage at 0x7f81200e5fd0>"
      ]
     },
     "execution_count": 38,
     "metadata": {},
     "output_type": "execute_result"
    },
    {
     "data": {
      "image/png": "[encoded data removed]",
      "text/plain": [
       "<Figure size 336x288 with 1 Axes>"
      ]
     },
     "metadata": {
      "needs_background": "light"
     },
     "output_type": "display_data"
    }
   ],
   "source": [
    "plt.matshow(combinded.to(\"cpu\").data[-6:],cmap='bwr')"
   ]
  },
  {
   "cell_type": "markdown",
   "id": "d36674e4-2b02-4dff-a7bf-975415488599",
   "metadata": {},
   "source": [
    "`-` 12000 epochs"
   ]
  },
  {
   "cell_type": "code",
   "execution_count": 39,
   "id": "791c62ac-ef92-4020-a88f-4c3b5a38b1b3",
   "metadata": {},
   "outputs": [],
   "source": [
    "for epoc in range(3000):\n",
    "    ## step1 \n",
    "    hidden, hT = rnn(x,_water)\n",
    "    output = linr(hidden)\n",
    "    ## step2 \n",
    "    loss = loss_fn(output,y)\n",
    "    ## step3 \n",
    "    loss.backward()\n",
    "    ## step4 \n",
    "    optimizr.step()\n",
    "    optimizr.zero_grad()"
   ]
  },
  {
   "cell_type": "code",
   "execution_count": 40,
   "id": "b9ed4afb-9c3d-4be7-b12b-0bf46d3bb334",
   "metadata": {},
   "outputs": [],
   "source": [
    "yhat=soft(output)"
   ]
  },
  {
   "cell_type": "code",
   "execution_count": 41,
   "id": "32f7ce48-fa2c-4bde-af60-45a4912bba34",
   "metadata": {},
   "outputs": [],
   "source": [
    "combinded = torch.concat([hidden,yhat],axis=1)"
   ]
  },
  {
   "cell_type": "code",
   "execution_count": 42,
   "id": "4d90d792-49df-4178-97ce-ea579da17b29",
   "metadata": {},
   "outputs": [
    {
     "data": {
      "text/plain": [
       "<matplotlib.image.AxesImage at 0x7f81200dd450>"
      ]
     },
     "execution_count": 42,
     "metadata": {},
     "output_type": "execute_result"
    },
    {
     "data": {
      "image/png": "[encoded data removed]",
      "text/plain": [
       "<Figure size 336x288 with 1 Axes>"
      ]
     },
     "metadata": {
      "needs_background": "light"
     },
     "output_type": "display_data"
    }
   ],
   "source": [
    "plt.matshow(combinded.to(\"cpu\").data[-6:],cmap='bwr')"
   ]
  },
  {
   "cell_type": "markdown",
   "id": "7bbcda42-8a6f-400e-8028-74375a9bc375",
   "metadata": {},
   "source": [
    "`-` 15000 epochs"
   ]
  },
  {
   "cell_type": "code",
   "execution_count": 43,
   "id": "156d680c-0f6c-4e7e-9c4e-d6f4f4de7b69",
   "metadata": {},
   "outputs": [],
   "source": [
    "for epoc in range(3000):\n",
    "    ## step1 \n",
    "    hidden, hT = rnn(x,_water)\n",
    "    output = linr(hidden)\n",
    "    ## step2 \n",
    "    loss = loss_fn(output,y)\n",
    "    ## step3 \n",
    "    loss.backward()\n",
    "    ## step4 \n",
    "    optimizr.step()\n",
    "    optimizr.zero_grad()"
   ]
  },
  {
   "cell_type": "code",
   "execution_count": 44,
   "id": "6f7678cf-2104-4496-9e58-097d210f8dcb",
   "metadata": {},
   "outputs": [],
   "source": [
    "yhat=soft(output)"
   ]
  },
  {
   "cell_type": "code",
   "execution_count": 45,
   "id": "3af83f5e-e39f-4bcf-8e8d-0cbd62e5cce8",
   "metadata": {},
   "outputs": [],
   "source": [
    "combinded = torch.concat([hidden,yhat],axis=1)"
   ]
  },
  {
   "cell_type": "code",
   "execution_count": 46,
   "id": "7bb566ac-e6b3-4830-be64-12c8b4eedd20",
   "metadata": {},
   "outputs": [
    {
     "data": {
      "text/plain": [
       "<matplotlib.image.AxesImage at 0x7f810847c990>"
      ]
     },
     "execution_count": 46,
     "metadata": {},
     "output_type": "execute_result"
    },
    {
     "data": {
      "image/png": "[encoded data removed]",
      "text/plain": [
       "<Figure size 336x288 with 1 Axes>"
      ]
     },
     "metadata": {
      "needs_background": "light"
     },
     "output_type": "display_data"
    }
   ],
   "source": [
    "plt.matshow(combinded.to(\"cpu\").data[-6:],cmap='bwr')"
   ]
  },
  {
   "cell_type": "markdown",
   "id": "d5f81b4f-ee3b-4c77-98af-be620242db6e",
   "metadata": {},
   "source": [
    "### LSTM"
   ]
  },
  {
   "cell_type": "markdown",
   "id": "cd298f85-ba92-4598-8e39-301bc932d645",
   "metadata": {},
   "source": [
    "`-` LSTM"
   ]
  },
  {
   "cell_type": "code",
   "execution_count": 47,
   "id": "27d1747f-e08d-475d-8813-a97bac4b2bd4",
   "metadata": {},
   "outputs": [],
   "source": [
    "torch.manual_seed(43052)\n",
    "lstm = torch.nn.LSTM(n_words,n_features)\n",
    "linr = torch.nn.Linear(n_features,n_words) \n",
    "loss_fn = torch.nn.CrossEntropyLoss()\n",
    "optimizr = torch.optim.Adam(list(lstm.parameters())+list(linr.parameters()))"
   ]
  },
  {
   "cell_type": "code",
   "execution_count": 48,
   "id": "3d322167-a639-43a2-8250-b3097003d021",
   "metadata": {},
   "outputs": [
    {
     "data": {
      "text/plain": [
       "Linear(in_features=3, out_features=4, bias=True)"
      ]
     },
     "execution_count": 48,
     "metadata": {},
     "output_type": "execute_result"
    }
   ],
   "source": [
    "lstm.to(\"cuda:0\")\n",
    "linr.to(\"cuda:0\")"
   ]
  },
  {
   "cell_type": "markdown",
   "id": "b9151dc6-9d62-41b5-bd8e-e8a9d45bdc26",
   "metadata": {},
   "source": [
    "`-` 3000 epochs"
   ]
  },
  {
   "cell_type": "code",
   "execution_count": 49,
   "id": "5f570501-98e2-4228-947a-01b309ec2378",
   "metadata": {},
   "outputs": [],
   "source": [
    "for epoc in range(3000):\n",
    "    ## step1 \n",
    "    hidden, (hT,cT) = lstm(x,(_water,_water))\n",
    "    output = linr(hidden)\n",
    "    ## step2 \n",
    "    loss = loss_fn(output,y)\n",
    "    ## step3 \n",
    "    loss.backward()\n",
    "    ## step4 \n",
    "    optimizr.step()\n",
    "    optimizr.zero_grad()"
   ]
  },
  {
   "cell_type": "code",
   "execution_count": 50,
   "id": "1b036e2a-d11c-4466-aeae-855f28dde3e1",
   "metadata": {},
   "outputs": [],
   "source": [
    "yhat=soft(output)"
   ]
  },
  {
   "cell_type": "code",
   "execution_count": 51,
   "id": "af7d35c6-cd4e-4b55-a91d-2daa623be193",
   "metadata": {},
   "outputs": [],
   "source": [
    "combind = torch.concat([hidden,yhat],axis=1)"
   ]
  },
  {
   "cell_type": "code",
   "execution_count": 52,
   "id": "995f744b-4f99-4622-82c9-e43f3eb7f074",
   "metadata": {},
   "outputs": [
    {
     "data": {
      "text/plain": [
       "<matplotlib.image.AxesImage at 0x7f810840fad0>"
      ]
     },
     "execution_count": 52,
     "metadata": {},
     "output_type": "execute_result"
    },
    {
     "data": {
      "image/png": "[encoded data removed]",
      "text/plain": [
       "<Figure size 336x288 with 1 Axes>"
      ]
     },
     "metadata": {
      "needs_background": "light"
     },
     "output_type": "display_data"
    }
   ],
   "source": [
    "plt.matshow(combind.to(\"cpu\").data[-6:],cmap='bwr')"
   ]
  },
  {
   "cell_type": "markdown",
   "id": "6626996c-6bde-4f88-86e3-11425d649daf",
   "metadata": {},
   "source": [
    "`-` 6000 epochs"
   ]
  },
  {
   "cell_type": "code",
   "execution_count": 53,
   "id": "c8983363-7a3d-4342-8170-ba11174b0035",
   "metadata": {},
   "outputs": [],
   "source": [
    "for epoc in range(3000):\n",
    "    ## step1 \n",
    "    hidden, (hT,cT) = lstm(x,(_water,_water))\n",
    "    output = linr(hidden)\n",
    "    ## step2 \n",
    "    loss = loss_fn(output,y)\n",
    "    ## step3 \n",
    "    loss.backward()\n",
    "    ## step4 \n",
    "    optimizr.step()\n",
    "    optimizr.zero_grad()"
   ]
  },
  {
   "cell_type": "code",
   "execution_count": 54,
   "id": "113b2b82-ef5c-49f1-9db2-14317538e178",
   "metadata": {},
   "outputs": [],
   "source": [
    "yhat=soft(output)"
   ]
  },
  {
   "cell_type": "code",
   "execution_count": 55,
   "id": "a4cf3fd3-0bc2-44c6-9e05-9e516c3a0456",
   "metadata": {},
   "outputs": [],
   "source": [
    "combind = torch.concat([hidden,yhat],axis=1)"
   ]
  },
  {
   "cell_type": "code",
   "execution_count": 56,
   "id": "d9e15f13-3e6c-4416-84bd-96cb5e3ca8ef",
   "metadata": {},
   "outputs": [
    {
     "data": {
      "text/plain": [
       "<matplotlib.image.AxesImage at 0x7f81083b1f90>"
      ]
     },
     "execution_count": 56,
     "metadata": {},
     "output_type": "execute_result"
    },
    {
     "data": {
      "image/png": "[encoded data removed]",
      "text/plain": [
       "<Figure size 336x288 with 1 Axes>"
      ]
     },
     "metadata": {
      "needs_background": "light"
     },
     "output_type": "display_data"
    }
   ],
   "source": [
    "plt.matshow(combind.to(\"cpu\").data[-6:],cmap='bwr')"
   ]
  },
  {
   "cell_type": "markdown",
   "id": "893bcb18-e733-4a14-901d-d2fb95e99a95",
   "metadata": {},
   "source": [
    "### RNN vs LSTM 성능비교실험"
   ]
  },
  {
   "cell_type": "markdown",
   "id": "e259a77e-4c4a-4f33-a0de-2a17d8e1ba3d",
   "metadata": {},
   "source": [
    "`-` RNN "
   ]
  },
  {
   "cell_type": "code",
   "execution_count": 57,
   "id": "7a2c61aa-deae-4f9c-ae5e-2e97ab19b389",
   "metadata": {},
   "outputs": [
    {
     "data": {
      "image/png": "[encoded data removed]",
      "text/plain": [
       "<Figure size 720x720 with 25 Axes>"
      ]
     },
     "metadata": {
      "needs_background": "light"
     },
     "output_type": "display_data"
    }
   ],
   "source": [
    "fig, ax = plt.subplots(5,5,figsize=(10,10))\n",
    "for i in range(5):\n",
    "    for j in range(5):\n",
    "        rnn = torch.nn.RNN(n_words,n_features).to(\"cuda:0\")\n",
    "        linr = torch.nn.Linear(n_features,n_words).to(\"cuda:0\")\n",
    "        loss_fn = torch.nn.CrossEntropyLoss()\n",
    "        optimizr = torch.optim.Adam(list(rnn.parameters())+list(linr.parameters()),lr=0.1)\n",
    "        for epoc in range(3000):\n",
    "            ## 1\n",
    "            hidden, hT = rnn(x,_water)\n",
    "            output = linr(hidden)\n",
    "            ## 2\n",
    "            loss = loss_fn(output,y)\n",
    "            ## 3\n",
    "            loss.backward()\n",
    "            ## 4 \n",
    "            optimizr.step()\n",
    "            optimizr.zero_grad()\n",
    "        yhat=soft(output)    \n",
    "        combind = torch.concat([hidden,yhat],axis=1)\n",
    "        ax[i][j].matshow(combind.to(\"cpu\").data[-6:],cmap='bwr')\n",
    "fig.suptitle(r\"$RNN$\",size=20)\n",
    "fig.tight_layout()"
   ]
  },
  {
   "cell_type": "markdown",
   "id": "cd741600-c499-472d-8c2f-35a410a8614e",
   "metadata": {},
   "source": [
    "`-` LSTM"
   ]
  },
  {
   "cell_type": "code",
   "execution_count": 58,
   "id": "044c372c-86a6-4869-a614-667d92ae5a3f",
   "metadata": {},
   "outputs": [
    {
     "data": {
      "image/png": "[encoded data removed]",
      "text/plain": [
       "<Figure size 720x720 with 25 Axes>"
      ]
     },
     "metadata": {
      "needs_background": "light"
     },
     "output_type": "display_data"
    }
   ],
   "source": [
    "fig, ax = plt.subplots(5,5,figsize=(10,10))\n",
    "for i in range(5):\n",
    "    for j in range(5):\n",
    "        lstm = torch.nn.LSTM(n_words,n_features).to(\"cuda:0\")\n",
    "        linr = torch.nn.Linear(n_features,n_words).to(\"cuda:0\")\n",
    "        loss_fn = torch.nn.CrossEntropyLoss()\n",
    "        optimizr = torch.optim.Adam(list(lstm.parameters())+list(linr.parameters()),lr=0.1)\n",
    "        for epoc in range(3000):\n",
    "            ## 1\n",
    "            hidden, (hT,cT) = lstm(x,(_water,_water))\n",
    "            output = linr(hidden)\n",
    "            ## 2\n",
    "            loss = loss_fn(output,y)\n",
    "            ## 3\n",
    "            loss.backward()\n",
    "            ## 4 \n",
    "            optimizr.step()\n",
    "            optimizr.zero_grad()\n",
    "        yhat=soft(output)    \n",
    "        combind = torch.concat([hidden,yhat],axis=1)\n",
    "        ax[i][j].matshow(combind.to(\"cpu\").data[-6:],cmap='bwr')\n",
    "fig.suptitle(r\"$LSTM$\",size=20)\n",
    "fig.tight_layout()"
   ]
  },
  {
   "cell_type": "markdown",
   "id": "a2d41ba8-ea0a-49e9-af59-fe29248f592b",
   "metadata": {},
   "source": [
    "## Exam6: abcdabcD"
   ]
  },
  {
   "cell_type": "markdown",
   "id": "1a3feb7b-a8de-496b-bfc9-a2583243d644",
   "metadata": {
    "tags": []
   },
   "source": [
    "### data"
   ]
  },
  {
   "cell_type": "code",
   "execution_count": 59,
   "id": "4d66b1ed-5014-41dc-ab80-90aece749b6c",
   "metadata": {},
   "outputs": [
    {
     "data": {
      "text/plain": [
       "['a', 'b', 'c', 'd', 'a']"
      ]
     },
     "execution_count": 59,
     "metadata": {},
     "output_type": "execute_result"
    }
   ],
   "source": [
    "txt = list('abcdabcD')*100\n",
    "txt[:5]"
   ]
  },
  {
   "cell_type": "code",
   "execution_count": 60,
   "id": "64af9e5b-82f4-4ca1-bf00-b7724a111243",
   "metadata": {},
   "outputs": [],
   "source": [
    "n_words = 5"
   ]
  },
  {
   "cell_type": "code",
   "execution_count": 61,
   "id": "bf2bb612-7e19-4275-ade4-58f83150b5d0",
   "metadata": {},
   "outputs": [],
   "source": [
    "mapping = {'a':0, 'b':1, 'c':2, 'd':3, 'D':4}"
   ]
  },
  {
   "cell_type": "code",
   "execution_count": 62,
   "id": "8e15cf7b-ce65-4367-be7c-67d93fb80840",
   "metadata": {},
   "outputs": [],
   "source": [
    "txt_x = txt[:-1]\n",
    "txt_y = txt[1:]"
   ]
  },
  {
   "cell_type": "code",
   "execution_count": 63,
   "id": "0c019cb3-fc4c-41d3-8bea-8f4ded3df0b6",
   "metadata": {},
   "outputs": [
    {
     "data": {
      "text/plain": [
       "(['a', 'b', 'c', 'd', 'a', 'b', 'c', 'D', 'a', 'b'],\n",
       " ['b', 'c', 'd', 'a', 'b', 'c', 'D', 'a', 'b', 'c'])"
      ]
     },
     "execution_count": 63,
     "metadata": {},
     "output_type": "execute_result"
    }
   ],
   "source": [
    "txt_x[:10],txt_y[:10]"
   ]
  },
  {
   "cell_type": "code",
   "execution_count": 64,
   "id": "fd4a0e76-6aae-41f9-bc91-0cf52fd4f58d",
   "metadata": {},
   "outputs": [],
   "source": [
    "x = torch.nn.functional.one_hot(torch.tensor(f(txt_x,mapping))).float()\n",
    "y = torch.nn.functional.one_hot(torch.tensor(f(txt_y,mapping))).float()"
   ]
  },
  {
   "cell_type": "code",
   "execution_count": 65,
   "id": "0ad74598-4a74-4b47-85f7-a2dba41eb7a0",
   "metadata": {},
   "outputs": [
    {
     "data": {
      "text/plain": [
       "(tensor([[1., 0., 0., 0., 0.],\n",
       "         [0., 1., 0., 0., 0.],\n",
       "         [0., 0., 1., 0., 0.],\n",
       "         ...,\n",
       "         [1., 0., 0., 0., 0.],\n",
       "         [0., 1., 0., 0., 0.],\n",
       "         [0., 0., 1., 0., 0.]]),\n",
       " tensor([[0., 1., 0., 0., 0.],\n",
       "         [0., 0., 1., 0., 0.],\n",
       "         [0., 0., 0., 1., 0.],\n",
       "         ...,\n",
       "         [0., 1., 0., 0., 0.],\n",
       "         [0., 0., 1., 0., 0.],\n",
       "         [0., 0., 0., 0., 1.]]))"
      ]
     },
     "execution_count": 65,
     "metadata": {},
     "output_type": "execute_result"
    }
   ],
   "source": [
    "x,y"
   ]
  },
  {
   "cell_type": "code",
   "execution_count": 66,
   "id": "2cefd95e-504d-403d-8b3f-72d262b4e3af",
   "metadata": {},
   "outputs": [],
   "source": [
    "x=x.to(\"cuda:0\")\n",
    "y=y.to(\"cuda:0\")"
   ]
  },
  {
   "cell_type": "markdown",
   "id": "a8a0dff0-f174-4346-8249-845a051dc3b5",
   "metadata": {
    "tags": []
   },
   "source": [
    "### RNN vs LSTM 성능비교실험"
   ]
  },
  {
   "cell_type": "code",
   "execution_count": 67,
   "id": "baf4929f-5142-4f40-8f8c-ff64ed836c4b",
   "metadata": {},
   "outputs": [],
   "source": [
    "n_features = 4"
   ]
  },
  {
   "cell_type": "code",
   "execution_count": 68,
   "id": "163edec8-de4a-4586-9d4a-89324a88934c",
   "metadata": {},
   "outputs": [],
   "source": [
    "_water = torch.zeros(1,n_features).to(\"cuda:0\")"
   ]
  },
  {
   "cell_type": "markdown",
   "id": "eb041b7d-b258-49f6-9545-2822bab30bc3",
   "metadata": {},
   "source": [
    "`-` RNN "
   ]
  },
  {
   "cell_type": "code",
   "execution_count": 69,
   "id": "8c0e48d6-7d6c-4bb9-a4cd-8e7e1956155e",
   "metadata": {},
   "outputs": [
    {
     "data": {
      "image/png": "[encoded data removed]",
      "text/plain": [
       "<Figure size 720x720 with 25 Axes>"
      ]
     },
     "metadata": {
      "needs_background": "light"
     },
     "output_type": "display_data"
    }
   ],
   "source": [
    "fig, ax = plt.subplots(5,5,figsize=(10,10))\n",
    "for i in range(5):\n",
    "    for j in range(5):\n",
    "        rnn = torch.nn.RNN(n_words,n_features).to(\"cuda:0\")\n",
    "        linr = torch.nn.Linear(n_features,n_words).to(\"cuda:0\")\n",
    "        loss_fn = torch.nn.CrossEntropyLoss()\n",
    "        optimizr = torch.optim.Adam(list(rnn.parameters())+list(linr.parameters()),lr=0.1)\n",
    "        for epoc in range(3000):\n",
    "            ## 1\n",
    "            hidden, hT = rnn(x,_water)\n",
    "            output = linr(hidden)\n",
    "            ## 2\n",
    "            loss = loss_fn(output,y)\n",
    "            ## 3\n",
    "            loss.backward()\n",
    "            ## 4 \n",
    "            optimizr.step()\n",
    "            optimizr.zero_grad()\n",
    "        yhat=soft(output)    \n",
    "        combind = torch.concat([hidden,yhat],axis=1)\n",
    "        ax[i][j].matshow(combind.to(\"cpu\").data[-8:],cmap='bwr')\n",
    "fig.suptitle(r\"$RNN$\",size=20)\n",
    "fig.tight_layout()"
   ]
  },
  {
   "cell_type": "markdown",
   "id": "303fbcd5-016d-49b5-8555-05ef042afd6b",
   "metadata": {},
   "source": [
    "`-` LSTM"
   ]
  },
  {
   "cell_type": "code",
   "execution_count": 70,
   "id": "df6bb1dc-2bfb-43cb-8d9b-85982ba27fec",
   "metadata": {},
   "outputs": [
    {
     "data": {
      "image/png": "[encoded data removed]",
      "text/plain": [
       "<Figure size 720x720 with 25 Axes>"
      ]
     },
     "metadata": {
      "needs_background": "light"
     },
     "output_type": "display_data"
    }
   ],
   "source": [
    "fig, ax = plt.subplots(5,5,figsize=(10,10))\n",
    "for i in range(5):\n",
    "    for j in range(5):\n",
    "        lstm = torch.nn.LSTM(n_words,n_features).to(\"cuda:0\")\n",
    "        linr = torch.nn.Linear(n_features,n_words).to(\"cuda:0\")\n",
    "        loss_fn = torch.nn.CrossEntropyLoss()\n",
    "        optimizr = torch.optim.Adam(list(lstm.parameters())+list(linr.parameters()),lr=0.1)\n",
    "        for epoc in range(3000):\n",
    "            ## 1\n",
    "            hidden, (hT,cT) = lstm(x,(_water,_water))\n",
    "            output = linr(hidden)\n",
    "            ## 2\n",
    "            loss = loss_fn(output,y)\n",
    "            ## 3\n",
    "            loss.backward()\n",
    "            ## 4 \n",
    "            optimizr.step()\n",
    "            optimizr.zero_grad()\n",
    "        yhat=soft(output)    \n",
    "        combind = torch.concat([hidden,yhat],axis=1)\n",
    "        ax[i][j].matshow(combind.to(\"cpu\").data[-8:],cmap='bwr')\n",
    "fig.suptitle(r\"$LSTM$\",size=20)\n",
    "fig.tight_layout()"
   ]
  },
  {
   "cell_type": "markdown",
   "id": "5dbff33a-7d70-4470-8a81-c652dc6fd0c2",
   "metadata": {},
   "source": [
    "`-` 관찰1: LSTM이 확실히 장기기억에 강하다. "
   ]
  },
  {
   "cell_type": "markdown",
   "id": "c97db137-3e8e-4067-bb7c-fd65372cca28",
   "metadata": {},
   "source": [
    "`-` 관찰2: LSTM은 hidden에 0도 잘쓴다. (0도 의미있게 쓴다) "
   ]
  },
  {
   "cell_type": "markdown",
   "id": "13b1efa3-d1b2-4903-a925-112839f9a631",
   "metadata": {},
   "source": [
    "## LSTM의 계산과정"
   ]
  },
  {
   "cell_type": "markdown",
   "id": "2a494caa-fedb-4954-80a4-6fb33b8f698a",
   "metadata": {},
   "source": [
    "### data: abaB"
   ]
  },
  {
   "cell_type": "code",
   "execution_count": 71,
   "id": "2a6b3fab-9cee-4db8-8bc9-9293ccd5f98c",
   "metadata": {},
   "outputs": [
    {
     "data": {
      "text/plain": [
       "['a', 'b', 'a', 'B', 'a']"
      ]
     },
     "execution_count": 71,
     "metadata": {},
     "output_type": "execute_result"
    }
   ],
   "source": [
    "txt = list('abaB')*100\n",
    "txt[:5]"
   ]
  },
  {
   "cell_type": "code",
   "execution_count": 72,
   "id": "f7a63980-1d32-456d-bc47-b024c50b65bd",
   "metadata": {},
   "outputs": [],
   "source": [
    "n_words = 3"
   ]
  },
  {
   "cell_type": "code",
   "execution_count": 73,
   "id": "d128992d-8b5a-42ed-8ac5-ee90d213c060",
   "metadata": {},
   "outputs": [],
   "source": [
    "mapping = {'a':0, 'b':1, 'B':2}"
   ]
  },
  {
   "cell_type": "code",
   "execution_count": 74,
   "id": "6f60e18c-7e95-4759-be1f-2d60e1c4299d",
   "metadata": {},
   "outputs": [],
   "source": [
    "txt_x = txt[:-1]\n",
    "txt_y = txt[1:]"
   ]
  },
  {
   "cell_type": "code",
   "execution_count": 75,
   "id": "b05f67f6-22e0-41a3-b6d7-ed4692a273b8",
   "metadata": {},
   "outputs": [
    {
     "data": {
      "text/plain": [
       "(['a', 'b', 'a', 'B', 'a', 'b', 'a', 'B', 'a', 'b'],\n",
       " ['b', 'a', 'B', 'a', 'b', 'a', 'B', 'a', 'b', 'a'])"
      ]
     },
     "execution_count": 75,
     "metadata": {},
     "output_type": "execute_result"
    }
   ],
   "source": [
    "txt_x[:10],txt_y[:10]"
   ]
  },
  {
   "cell_type": "code",
   "execution_count": 76,
   "id": "e4214b37-85ae-455d-96b3-0571c72c3536",
   "metadata": {},
   "outputs": [],
   "source": [
    "x = torch.nn.functional.one_hot(torch.tensor(f(txt_x,mapping))).float()\n",
    "y = torch.nn.functional.one_hot(torch.tensor(f(txt_y,mapping))).float()"
   ]
  },
  {
   "cell_type": "code",
   "execution_count": 77,
   "id": "a39b511b-4ebe-4639-b593-f6434bdbbf03",
   "metadata": {},
   "outputs": [
    {
     "data": {
      "text/plain": [
       "(tensor([[1., 0., 0.],\n",
       "         [0., 1., 0.],\n",
       "         [1., 0., 0.],\n",
       "         ...,\n",
       "         [1., 0., 0.],\n",
       "         [0., 1., 0.],\n",
       "         [1., 0., 0.]]),\n",
       " tensor([[0., 1., 0.],\n",
       "         [1., 0., 0.],\n",
       "         [0., 0., 1.],\n",
       "         ...,\n",
       "         [0., 1., 0.],\n",
       "         [1., 0., 0.],\n",
       "         [0., 0., 1.]]))"
      ]
     },
     "execution_count": 77,
     "metadata": {},
     "output_type": "execute_result"
    }
   ],
   "source": [
    "x,y"
   ]
  },
  {
   "cell_type": "markdown",
   "id": "06f94cc8-6e29-4080-b694-d96cde912a06",
   "metadata": {},
   "source": [
    "### 1 epoch ver1 (with torch.nn.LSTMCell)"
   ]
  },
  {
   "cell_type": "code",
   "execution_count": 78,
   "id": "c7e5cb50-f9ec-4d85-9af6-b1b3843753b7",
   "metadata": {},
   "outputs": [],
   "source": [
    "n_words = 3\n",
    "n_features = 3"
   ]
  },
  {
   "cell_type": "code",
   "execution_count": 79,
   "id": "d4dbe44a-7b76-458f-bb41-cfe20fc3c23e",
   "metadata": {},
   "outputs": [],
   "source": [
    "torch.manual_seed(43052)\n",
    "lstm_cell = torch.nn.LSTMCell(n_words,n_features)\n",
    "linr = torch.nn.Linear(n_features,n_words) \n",
    "loss_fn = torch.nn.CrossEntropyLoss()\n",
    "optimizr = torch.optim.Adam(list(lstm_cell.parameters())+list(linr.parameters()),lr=0.1)"
   ]
  },
  {
   "cell_type": "code",
   "execution_count": 80,
   "id": "364e0a78-f4a7-41e7-8568-29115c20f5a6",
   "metadata": {},
   "outputs": [],
   "source": [
    "T = len(x)\n",
    "for epoc in range(1):\n",
    "    ## step1 ~ 2\n",
    "    ht = torch.zeros(1,n_features)\n",
    "    ct = torch.zeros(1,n_features)\n",
    "    loss = 0\n",
    "    for t in range(T): \n",
    "        xt,yt = x[[t]],y[[t]]\n",
    "        ht,ct = lstm_cell(xt,(ht,ct))\n",
    "        ot = linr(ht)\n",
    "        loss = loss + loss_fn(ot,yt)\n",
    "    loss = loss / T \n",
    "    ## step3 \n",
    "    loss.backward()\n",
    "    ## step4 \n",
    "    optimizr.step()\n",
    "    optimizr.zero_grad()"
   ]
  },
  {
   "cell_type": "code",
   "execution_count": 81,
   "id": "8e0a294b-be96-4eb1-bcdf-0e53957f04fa",
   "metadata": {},
   "outputs": [
    {
     "data": {
      "text/plain": [
       "(tensor([[ 0.2806,  0.2739, -0.4942]], grad_fn=<MulBackward0>),\n",
       " tensor([[ 1.0242,  0.9730, -0.7887]], grad_fn=<AddBackward0>))"
      ]
     },
     "execution_count": 81,
     "metadata": {},
     "output_type": "execute_result"
    }
   ],
   "source": [
    "ht,ct "
   ]
  },
  {
   "cell_type": "markdown",
   "id": "f9ceba6d-56c1-4a9c-92b3-7eb0feeef0e3",
   "metadata": {},
   "source": [
    "### 1 epoch ver2 (완전 손으로 구현) "
   ]
  },
  {
   "cell_type": "markdown",
   "id": "c9ae9ca7-bcd8-4f4c-b039-62d8773a6042",
   "metadata": {},
   "source": [
    "#### ***t=0 $\\to$ t=1***"
   ]
  },
  {
   "cell_type": "markdown",
   "id": "96235c9f-0565-429c-b453-2d5edcd36839",
   "metadata": {},
   "source": [
    "`-` lstm_cell 을 이용한 계산 "
   ]
  },
  {
   "cell_type": "code",
   "execution_count": 135,
   "id": "9b2672d4-0250-4b93-9290-7a38ce64e499",
   "metadata": {},
   "outputs": [],
   "source": [
    "n_words = 3\n",
    "n_features = 2"
   ]
  },
  {
   "cell_type": "code",
   "execution_count": 136,
   "id": "03b7db6f-2b7f-4437-94f4-c8743712a46a",
   "metadata": {},
   "outputs": [],
   "source": [
    "torch.manual_seed(43052)\n",
    "lstm_cell = torch.nn.LSTMCell(n_words,n_features)\n",
    "linr = torch.nn.Linear(n_features,n_words) \n",
    "loss_fn = torch.nn.CrossEntropyLoss()\n",
    "optimizr = torch.optim.Adam(list(lstm_cell.parameters())+list(linr.parameters()),lr=0.1)"
   ]
  },
  {
   "cell_type": "code",
   "execution_count": 137,
   "id": "1c41e006-9243-4a64-b873-e605d5ef617b",
   "metadata": {},
   "outputs": [],
   "source": [
    "T = len(x)\n",
    "for epoc in range(1):\n",
    "    ## step1 ~ 2\n",
    "    ht = torch.zeros(1,n_features)\n",
    "    ct = torch.zeros(1,n_features)\n",
    "    loss = 0\n",
    "    for t in range(1): \n",
    "        xt,yt = x[[t]],y[[t]]\n",
    "        ht,ct = lstm_cell(xt,(ht,ct))\n",
    "    #     ot = linr(ht)\n",
    "    #     loss = loss + loss_fn(ot,yt)\n",
    "    # loss = loss / T \n",
    "    # ## step3 \n",
    "    # loss.backward()\n",
    "    # ## step4 \n",
    "    # #optimizr.step()\n",
    "    # #optimizr.zero_grad()"
   ]
  },
  {
   "cell_type": "code",
   "execution_count": 138,
   "id": "e58d9278-a1f5-433c-8e17-51be130ae3f2",
   "metadata": {},
   "outputs": [
    {
     "data": {
      "text/plain": [
       "(tensor([[-0.0541,  0.0892]], grad_fn=<MulBackward0>),\n",
       " tensor([[-0.1347,  0.2339]], grad_fn=<AddBackward0>))"
      ]
     },
     "execution_count": 138,
     "metadata": {},
     "output_type": "execute_result"
    }
   ],
   "source": [
    "ht,ct "
   ]
  },
  {
   "cell_type": "markdown",
   "id": "4d991836-3106-41c0-ae15-2eb67992cf85",
   "metadata": {},
   "source": [
    "- 이런결과를 어떻게 만드는걸까? "
   ]
  },
  {
   "cell_type": "markdown",
   "id": "65036122-1fbe-433c-bedc-cfc62ca3966e",
   "metadata": {},
   "source": [
    "`-` 직접계산 "
   ]
  },
  {
   "cell_type": "code",
   "execution_count": 139,
   "id": "00ce6d91-768b-43ce-9869-056e43d97fcb",
   "metadata": {},
   "outputs": [],
   "source": [
    "ht = torch.zeros(1,n_features)\n",
    "ct = torch.zeros(1,n_features)"
   ]
  },
  {
   "cell_type": "code",
   "execution_count": 140,
   "id": "58189d5d-b39b-47ad-96fb-bc52e05ac06c",
   "metadata": {},
   "outputs": [],
   "source": [
    "ifgo = xt @ lstm_cell.weight_ih.T + ht @ lstm_cell.weight_hh.T + lstm_cell.bias_ih + lstm_cell.bias_hh"
   ]
  },
  {
   "cell_type": "code",
   "execution_count": 144,
   "id": "348c71ba-1143-4b43-9a73-b10f815a2bbb",
   "metadata": {},
   "outputs": [],
   "source": [
    "input_gate = sig(ifgo[:,0:2])\n",
    "forget_gate = sig(ifgo[:,2:4])\n",
    "gt = tanh(ifgo[:,4:6])\n",
    "output_gate = sig(ifgo[:,6:8])"
   ]
  },
  {
   "cell_type": "code",
   "execution_count": 145,
   "id": "667ac950-d4ca-4275-a667-d0621ac634b1",
   "metadata": {},
   "outputs": [],
   "source": [
    "ct = forget_gate * ct + input_gate * gt\n",
    "ht = output_gate * tanh(ct) "
   ]
  },
  {
   "cell_type": "code",
   "execution_count": 146,
   "id": "b1007f2b-d3ee-4c13-8037-b370efca81b2",
   "metadata": {},
   "outputs": [
    {
     "data": {
      "text/plain": [
       "(tensor([[-0.0541,  0.0892]], grad_fn=<MulBackward0>),\n",
       " tensor([[-0.1347,  0.2339]], grad_fn=<AddBackward0>))"
      ]
     },
     "execution_count": 146,
     "metadata": {},
     "output_type": "execute_result"
    }
   ],
   "source": [
    "ht,ct"
   ]
  },
  {
   "cell_type": "markdown",
   "id": "b46c3270-45fe-40ab-9f54-29d6cd9c8b6c",
   "metadata": {},
   "source": [
    "#### ***t=0 $\\to$ t=T***"
   ]
  },
  {
   "cell_type": "code",
   "execution_count": 147,
   "id": "6843144c-474f-46af-9609-4baed78b3ee4",
   "metadata": {},
   "outputs": [],
   "source": [
    "torch.manual_seed(43052)\n",
    "lstm_cell = torch.nn.LSTMCell(n_words,n_features)\n",
    "linr = torch.nn.Linear(n_features,n_words) \n",
    "loss_fn = torch.nn.CrossEntropyLoss()\n",
    "optimizr = torch.optim.Adam(list(lstm_cell.parameters())+list(linr.parameters()),lr=0.1)"
   ]
  },
  {
   "cell_type": "code",
   "execution_count": 149,
   "id": "2178424b-9025-4f2b-b150-7c307d00f3f9",
   "metadata": {},
   "outputs": [],
   "source": [
    "T = len(x)\n",
    "for epoc in range(1):\n",
    "    ## step1 ~ 2\n",
    "    ht = torch.zeros(1,n_features)\n",
    "    ct = torch.zeros(1,n_features)\n",
    "    loss = 0\n",
    "    for t in range(T): \n",
    "        xt,yt = x[[t]],y[[t]]\n",
    "        \n",
    "        ## lstm_cell: step1: calculate ifgo\n",
    "        ifgo = xt @ lstm_cell.weight_ih.T + ht @ lstm_cell.weight_hh.T + lstm_cell.bias_ih + lstm_cell.bias_hh\n",
    "        ## lstm_cell: step2: decompose ifgo \n",
    "        input_gate = sig(ifgo[:,0:2])\n",
    "        forget_gate = sig(ifgo[:,2:4])\n",
    "        gt = tanh(ifgo[:,4:6])\n",
    "        output_gate = sig(ifgo[:,6:8])\n",
    "        ## lstm_cell: step3: calculate ht,ct \n",
    "        ct = forget_gate * ct + input_gate * gt\n",
    "        ht = output_gate * tanh(ct) \n",
    "        \n",
    "    #     ot = linr(ht)\n",
    "    #     loss = loss + loss_fn(ot,yt)\n",
    "    # loss = loss / T \n",
    "    # ## step3 \n",
    "    # loss.backward()\n",
    "    # ## step4 \n",
    "    # optimizr.step()\n",
    "    # optimizr.zero_grad()"
   ]
  },
  {
   "cell_type": "code",
   "execution_count": 150,
   "id": "de90272a-d92f-4901-8abc-9823a17e2231",
   "metadata": {},
   "outputs": [
    {
     "data": {
      "text/plain": [
       "(tensor([[-0.0406,  0.2505]], grad_fn=<MulBackward0>),\n",
       " tensor([[-0.0975,  0.7134]], grad_fn=<AddBackward0>))"
      ]
     },
     "execution_count": 150,
     "metadata": {},
     "output_type": "execute_result"
    }
   ],
   "source": [
    "ht,ct "
   ]
  },
  {
   "cell_type": "markdown",
   "id": "1f99e92d-0ffe-4c14-88d7-4101d1950123",
   "metadata": {},
   "source": [
    "### 1 epoch ver3 (with torch.nn.LSTM)"
   ]
  },
  {
   "cell_type": "code",
   "execution_count": 151,
   "id": "48441ed8-59a9-4a9e-b69d-ccad0259aaaf",
   "metadata": {},
   "outputs": [],
   "source": [
    "torch.manual_seed(43052)\n",
    "lstm_cell = torch.nn.LSTMCell(n_words,n_features)\n",
    "linr = torch.nn.Linear(n_features,n_words) "
   ]
  },
  {
   "cell_type": "code",
   "execution_count": 152,
   "id": "98b07703-48de-4b41-9e67-fc5982e0415d",
   "metadata": {},
   "outputs": [],
   "source": [
    "lstm = torch.nn.LSTM(n_words,n_features)"
   ]
  },
  {
   "cell_type": "code",
   "execution_count": 153,
   "id": "d7b7a07c-0278-4d70-800e-77a72dfa5a9b",
   "metadata": {},
   "outputs": [],
   "source": [
    "lstm.weight_hh_l0.data = lstm_cell.weight_hh.data\n",
    "lstm.bias_hh_l0.data = lstm_cell.bias_hh.data \n",
    "lstm.weight_ih_l0.data = lstm_cell.weight_ih.data\n",
    "lstm.bias_ih_l0.data = lstm_cell.bias_ih.data "
   ]
  },
  {
   "cell_type": "code",
   "execution_count": 154,
   "id": "231be40e-2fcf-4524-843a-8ade4dcbe2b2",
   "metadata": {},
   "outputs": [],
   "source": [
    "loss_fn = torch.nn.CrossEntropyLoss()\n",
    "optimizr = torch.optim.Adam(list(lstm.parameters())+list(linr.parameters()),lr=0.1)"
   ]
  },
  {
   "cell_type": "code",
   "execution_count": 155,
   "id": "58d6b421-5e2f-40b3-9ef4-45c76b260894",
   "metadata": {},
   "outputs": [],
   "source": [
    "_water = torch.zeros(1,n_features)\n",
    "_water = torch.zeros(1,n_features)\n",
    "for epoc in range(1):\n",
    "    ## step1\n",
    "    hidden,(ht,ct) = lstm(x,(_water,_water))\n",
    "    output = linr(hidden)\n",
    "    ## step2\n",
    "    loss = loss_fn(output,y)\n",
    "    ## step3 \n",
    "    loss.backward()\n",
    "    ## step4 \n",
    "    optimizr.step()\n",
    "    optimizr.zero_grad()"
   ]
  },
  {
   "cell_type": "code",
   "execution_count": 156,
   "id": "dc828201-ec35-4708-a311-eee03064d30a",
   "metadata": {},
   "outputs": [
    {
     "data": {
      "text/plain": [
       "(tensor([[-0.0406,  0.2505]], grad_fn=<SqueezeBackward1>),\n",
       " tensor([[-0.0975,  0.7134]], grad_fn=<SqueezeBackward1>))"
      ]
     },
     "execution_count": 156,
     "metadata": {},
     "output_type": "execute_result"
    }
   ],
   "source": [
    "ht,ct"
   ]
  },
  {
   "cell_type": "markdown",
   "id": "ff6e6936-e5ff-49fc-847e-736d5e129f33",
   "metadata": {},
   "source": [
    "## LSTM은 왜 강한가?"
   ]
  },
  {
   "cell_type": "markdown",
   "id": "b66b7caf-9e22-4fb6-a30b-6a1b064574dd",
   "metadata": {},
   "source": [
    "### data: abaB"
   ]
  },
  {
   "cell_type": "code",
   "execution_count": 219,
   "id": "98ebda14-f772-4097-8c9a-bd60c410df36",
   "metadata": {},
   "outputs": [
    {
     "data": {
      "text/plain": [
       "['a', 'b', 'a', 'B', 'a']"
      ]
     },
     "execution_count": 219,
     "metadata": {},
     "output_type": "execute_result"
    }
   ],
   "source": [
    "txt = list('abaB')*100\n",
    "txt[:5]"
   ]
  },
  {
   "cell_type": "code",
   "execution_count": 220,
   "id": "da88b08a-f97a-4eb3-85cf-01283e5c822e",
   "metadata": {},
   "outputs": [],
   "source": [
    "n_words = 3"
   ]
  },
  {
   "cell_type": "code",
   "execution_count": 221,
   "id": "b4796fe7-e619-407d-8c57-c1420e0e3558",
   "metadata": {},
   "outputs": [],
   "source": [
    "mapping = {'a':0, 'b':1, 'B':2}"
   ]
  },
  {
   "cell_type": "code",
   "execution_count": 222,
   "id": "451f1a5b-cfed-4196-a43a-a3f5344cbaa3",
   "metadata": {},
   "outputs": [],
   "source": [
    "txt_x = txt[:-1]\n",
    "txt_y = txt[1:]"
   ]
  },
  {
   "cell_type": "code",
   "execution_count": 223,
   "id": "65e32d0a-ba6e-4810-a09c-07e4abc41c8d",
   "metadata": {},
   "outputs": [
    {
     "data": {
      "text/plain": [
       "(['a', 'b', 'a', 'B', 'a', 'b', 'a', 'B', 'a', 'b'],\n",
       " ['b', 'a', 'B', 'a', 'b', 'a', 'B', 'a', 'b', 'a'])"
      ]
     },
     "execution_count": 223,
     "metadata": {},
     "output_type": "execute_result"
    }
   ],
   "source": [
    "txt_x[:10],txt_y[:10]"
   ]
  },
  {
   "cell_type": "code",
   "execution_count": 224,
   "id": "92859e5d-307e-4872-b24f-e143167cf8b7",
   "metadata": {},
   "outputs": [],
   "source": [
    "x = torch.nn.functional.one_hot(torch.tensor(f(txt_x,mapping))).float()\n",
    "y = torch.nn.functional.one_hot(torch.tensor(f(txt_y,mapping))).float()"
   ]
  },
  {
   "cell_type": "code",
   "execution_count": 225,
   "id": "3933c361-3495-4a42-9031-24a949b5ccbc",
   "metadata": {},
   "outputs": [
    {
     "data": {
      "text/plain": [
       "(tensor([[1., 0., 0.],\n",
       "         [0., 1., 0.],\n",
       "         [1., 0., 0.],\n",
       "         ...,\n",
       "         [1., 0., 0.],\n",
       "         [0., 1., 0.],\n",
       "         [1., 0., 0.]]),\n",
       " tensor([[0., 1., 0.],\n",
       "         [1., 0., 0.],\n",
       "         [0., 0., 1.],\n",
       "         ...,\n",
       "         [0., 1., 0.],\n",
       "         [1., 0., 0.],\n",
       "         [0., 0., 1.]]))"
      ]
     },
     "execution_count": 225,
     "metadata": {},
     "output_type": "execute_result"
    }
   ],
   "source": [
    "x,y"
   ]
  },
  {
   "cell_type": "markdown",
   "id": "3e488e6d-c000-4be1-a563-a2023efb698d",
   "metadata": {},
   "source": [
    "### 1000 epoch "
   ]
  },
  {
   "cell_type": "code",
   "execution_count": 226,
   "id": "1b3bc622-6572-465f-9c58-b6d9674525fa",
   "metadata": {},
   "outputs": [],
   "source": [
    "torch.manual_seed(43052)\n",
    "lstm = torch.nn.LSTM(3,2)\n",
    "linr = torch.nn.Linear(2,3) "
   ]
  },
  {
   "cell_type": "code",
   "execution_count": 227,
   "id": "5a6a1924-99cf-4bb1-b342-76f01d21dbde",
   "metadata": {},
   "outputs": [],
   "source": [
    "loss_fn = torch.nn.CrossEntropyLoss()\n",
    "optimizr = torch.optim.Adam(list(lstm.parameters())+list(linr.parameters()),lr=0.1)"
   ]
  },
  {
   "cell_type": "code",
   "execution_count": 228,
   "id": "81ae9430-7467-45b2-b8e5-2193e67e0543",
   "metadata": {},
   "outputs": [],
   "source": [
    "_water = torch.zeros(1,2)\n",
    "for epoc in range(1000):\n",
    "    ## step1\n",
    "    hidden,(hT,cT) = lstm(x,(_water,_water))\n",
    "    output = linr(hidden)\n",
    "    ## step2\n",
    "    loss = loss_fn(output,y)\n",
    "    ## step3 \n",
    "    loss.backward()\n",
    "    ## step4 \n",
    "    optimizr.step()\n",
    "    optimizr.zero_grad()"
   ]
  },
  {
   "cell_type": "markdown",
   "id": "6aa79df4-0a5d-45e5-bc5d-df2dc94e50c8",
   "metadata": {},
   "source": [
    "### 시각화 "
   ]
  },
  {
   "cell_type": "code",
   "execution_count": 229,
   "id": "f0148fd1-aaa8-408f-9aae-4cae6b0d9709",
   "metadata": {},
   "outputs": [],
   "source": [
    "T = len(x)\n",
    "input_gate = torch.zeros(T,2)\n",
    "forget_gate = torch.zeros(T,2)\n",
    "output_gate = torch.zeros(T,2)\n",
    "g = torch.zeros(T,2)\n",
    "cell = torch.zeros(T,2)\n",
    "h = torch.zeros(T,2)"
   ]
  },
  {
   "cell_type": "code",
   "execution_count": 230,
   "id": "99f6e4c2-2117-42b9-80ba-6a078a856694",
   "metadata": {},
   "outputs": [],
   "source": [
    "for t in range(T): \n",
    "    ## lstm_cell: step1: calculate ifgo\n",
    "    ifgo = x[[t]] @ lstm.weight_ih_l0.T + h[[t]] @ lstm.weight_hh_l0.T + lstm.bias_ih_l0 + lstm.bias_hh_l0\n",
    "    ## lstm_cell: step2: decompose ifgo \n",
    "    input_gate[[t]] = sig(ifgo[:,0:2])\n",
    "    forget_gate[[t]] = sig(ifgo[:,2:4])\n",
    "    g[[t]] = tanh(ifgo[:,4:6])\n",
    "    output_gate[[t]] = sig(ifgo[:,6:8])\n",
    "    ## lstm_cell: step3: calculate ht,ct \n",
    "    cell[[t]] = forget_gate[[t]] * cell[[t]] + input_gate[[t]] * g[[t]]\n",
    "    h[[t]] = output_gate[[t]] * tanh(cell[[t]]) "
   ]
  },
  {
   "cell_type": "code",
   "execution_count": 243,
   "id": "a61966b7-419e-49a2-96fe-c012fbb82431",
   "metadata": {},
   "outputs": [],
   "source": [
    "combinded1 = torch.concat([input_gate,forget_gate,output_gate,soft(output)],axis=1)\n",
    "combinded2 = torch.concat([g,cell,h,soft(output)],axis=1)"
   ]
  },
  {
   "cell_type": "code",
   "execution_count": 244,
   "id": "7d6d7387-a34b-47de-a6b2-d133dab83069",
   "metadata": {},
   "outputs": [
    {
     "data": {
      "text/plain": [
       "torch.Size([399, 9])"
      ]
     },
     "execution_count": 244,
     "metadata": {},
     "output_type": "execute_result"
    }
   ],
   "source": [
    "combinded1.shape"
   ]
  },
  {
   "cell_type": "code",
   "execution_count": 245,
   "id": "f8818151-d871-4d39-ad17-bb4c2a3fcdb8",
   "metadata": {
    "tags": []
   },
   "outputs": [
    {
     "data": {
      "text/plain": [
       "torch.Size([399, 9])"
      ]
     },
     "execution_count": 245,
     "metadata": {},
     "output_type": "execute_result"
    }
   ],
   "source": [
    "combinded2.shape"
   ]
  },
  {
   "cell_type": "code",
   "execution_count": 248,
   "id": "28b52995-8199-43c7-afc2-30e7e2fabbea",
   "metadata": {},
   "outputs": [
    {
     "data": {
      "image/png": "[encoded data removed]",
      "text/plain": [
       "<Figure size 324x288 with 1 Axes>"
      ]
     },
     "metadata": {
      "needs_background": "light"
     },
     "output_type": "display_data"
    },
    {
     "data": {
      "image/png": "[encoded data removed]",
      "text/plain": [
       "<Figure size 324x288 with 1 Axes>"
      ]
     },
     "metadata": {
      "needs_background": "light"
     },
     "output_type": "display_data"
    }
   ],
   "source": [
    "plt.matshow(combinded1[-8:].data,cmap='bwr',vmin=-1,vmax=1);\n",
    "plt.xticks(range(combinded1.shape[-1]),labels=['i']*2+['f']*2+['o']*2+['yhat']*3);\n",
    "plt.matshow(combinded2[-8:].data,cmap='bwr',vmin=-1,vmax=1);\n",
    "plt.xticks(range(combinded2.shape[-1]),labels=['g']*2+['c']*2+['h']*2+['yhat']*3);"
   ]
  },
  {
   "cell_type": "markdown",
   "id": "e0dd8708-1eb1-4259-98de-68ba2530b0ae",
   "metadata": {},
   "source": [
    "### 시각화의 해석I "
   ]
  },
  {
   "cell_type": "markdown",
   "id": "cdbac2c9-83ea-4ebc-b0e2-1b9c75b331f2",
   "metadata": {},
   "source": [
    "`-` input_gate, forget_gate, output_gate는 모두 0~1 사이의 값을 가진다. "
   ]
  },
  {
   "cell_type": "markdown",
   "id": "aa1f8d42-233a-4260-adf2-e5bccb7a8aa8",
   "metadata": {},
   "source": [
    "`-` 이 값들은 각각 모두 $g_t, c_{t-1}, \\tanh(c_t)$에 곱해진다. "
   ]
  },
  {
   "cell_type": "markdown",
   "id": "72466822-4cf3-45ae-b7ba-764bb1e21491",
   "metadata": {},
   "source": [
    "`-` 따라서 input_gate, forget_gate, output_gate 는 gate의 역할로 비유가능하다. (1이면 통과, 0이면 차단)\n",
    "- input_gate: $g_t$의 값을 얼만큼 통과시킬지 0~1사이의 숫자로 결정 \n",
    "- forget_gate: $c_{t-1}$의 값을 얼만큼 통과시킬지 0~1사이의 숫자로 결정 \n",
    "- output_gate: $\\tanh(c_t)$의 값을 얼만큼 통과시킬지 0~1사이의 숫자로 결정 "
   ]
  },
  {
   "cell_type": "markdown",
   "id": "310198e7-d1b5-408c-8315-2491a1c63876",
   "metadata": {},
   "source": [
    "### 시각화의 해석II"
   ]
  },
  {
   "cell_type": "markdown",
   "id": "845dd471-d3ab-4ceb-863e-06bcf07c26b5",
   "metadata": {},
   "source": [
    "`-` 결국 ${\\boldsymbol g}_t\\to {\\boldsymbol c}_t \\to {\\boldsymbol h}_t \\to \\hat{\\boldsymbol y}$ 의 느낌이다. (${\\boldsymbol h}_t$를 계산하기 위해서는 ${\\boldsymbol c}_t$가 필요했고 ${\\boldsymbol c}_t$를 계산하기 위해서는 ${\\boldsymbol c}_{t-1}$과 ${\\boldsymbol g}_t$가 필요했음) \n",
    "\n",
    "- ${\\boldsymbol h}_t= \\tanh({\\boldsymbol c}_t) \\odot {\\boldsymbol o}_t$\n",
    "- ${\\boldsymbol c}_t ={\\boldsymbol c}_{t-1} \\odot {\\boldsymbol f}_t + {\\boldsymbol g}_{t} \\odot {\\boldsymbol i}_t$"
   ]
  },
  {
   "cell_type": "markdown",
   "id": "62cd0761-3671-4166-a6e2-32c194ee420b",
   "metadata": {},
   "source": [
    "`-` ${\\boldsymbol g}_t,{\\boldsymbol c}_t,{\\boldsymbol h}_t$ 모두 ${\\boldsymbol x}$의 정보를 숙성시켜 가지고 있는 느낌이 든다. "
   ]
  },
  {
   "cell_type": "markdown",
   "id": "5a924f02-ae7b-4a01-a669-0601f3084bfe",
   "metadata": {},
   "source": [
    "`-` ${\\boldsymbol g}_t$ 특징: 보통 -1,1 중 하나의 값을 가지도록 학습되어 있다. (마치 RNN의 hidden node처럼! 그리고 수식도 똑같음) \n",
    "- $\\boldsymbol{g}_t = \\tanh({\\boldsymbol x}_t {\\bf W}_{ig} + {\\boldsymbol h}_{t-1} {\\bf W}_{hg}+ {\\boldsymbol b}_{ig}+{\\boldsymbol b}_{hg})$"
   ]
  },
  {
   "cell_type": "markdown",
   "id": "ce725f99-68e6-47de-b2ef-a9afc989e8db",
   "metadata": {},
   "source": [
    "`-` ${\\boldsymbol c}_t$ 특징: ${\\boldsymbol g}_t$와 매우 비슷하지만 약간 다른값을 가진다. 그래서 꼭 -1,1 사이의 값을 가지는 것이 아니라 -1~1 사이의 값을 가지도록 조정이 되어있다. "
   ]
  },
  {
   "cell_type": "code",
   "execution_count": 249,
   "id": "9c33b2df-beea-4d79-bed5-1a3d22667583",
   "metadata": {},
   "outputs": [
    {
     "name": "stdout",
     "output_type": "stream",
     "text": [
      "first row: gt=tensor([ 0.9999, -0.9999]), ct=tensor([ 0.9647, -0.9984])\n",
      "second row: gt=tensor([ 0.9970, -0.9554]), ct=tensor([ 0.3592, -0.9373])\n"
     ]
    }
   ],
   "source": [
    "print(\"first row: gt={}, ct={}\".format(g[-8].data, cell[-8].data))\n",
    "print(\"second row: gt={}, ct={}\".format(g[-7].data, cell[-7].data))\n",
    "#g[-7], cell[-7]"
   ]
  },
  {
   "cell_type": "markdown",
   "id": "aae60285-1924-4b04-b008-b82227f47ca3",
   "metadata": {},
   "source": [
    "`-` ${\\boldsymbol h}_t$ 특징: (1) ${\\boldsymbol c}_t$의 느낌이 있음 하지만 약간의 변형이 있음. (2) -1~1 사이에의 값을 훨씬 다양하게 가진다. (tanh때문)"
   ]
  },
  {
   "cell_type": "code",
   "execution_count": 251,
   "id": "1c5f85fc-2bae-484b-9bb4-c5afe26a3c5a",
   "metadata": {},
   "outputs": [
    {
     "name": "stdout",
     "output_type": "stream",
     "text": [
      "first row: gt=tensor([ 0.9999, -0.9999]), ct=tensor([ 0.9647, -0.9984]), ht=tensor([ 0.7370, -0.3323])\n",
      "second row: gt=tensor([ 0.9970, -0.9554]), ct=tensor([ 0.3592, -0.9373]), ht=tensor([ 0.0604, -0.6951])\n"
     ]
    }
   ],
   "source": [
    "print(\"first row: gt={}, ct={}, ht={}\".format(g[-8].data, cell[-8].data,h[-8].data))\n",
    "print(\"second row: gt={}, ct={}, ht={}\".format(g[-7].data, cell[-7].data,h[-7].data))\n",
    "#g[-7], cell[-7]"
   ]
  },
  {
   "cell_type": "markdown",
   "id": "95ab9b4b-640b-47bd-9ce4-a5d2dba7b147",
   "metadata": {},
   "source": [
    "`-` 예전의문 해결\n",
    "- 실험적으로 살펴보니 LSTM이 RNN보다 장기기억에 유리했음.\n",
    "- 그 이유: RRN은 ${\\boldsymbol h}_t$의 값이 -1 혹은 1로 결정되는 경우가 많았음. 그러나 경우에 따라서는 ${\\boldsymbol h}_t$이 -1~1의 값을 가지는 것이 문맥적 뉘앙스를 포착하기에는 유리한데 LSTM이 이러한 방식으로 학습되는 경우가 많았음. \n",
    "- 왜 LSTM의 ${\\boldsymbol h}_t$은 -1,1 이외의 값을 쉽게 가질 수 있는가? (1) gate들의 역할 (2) 마지막에 취해지는 tanh 때문 "
   ]
  },
  {
   "cell_type": "markdown",
   "id": "8062c518-ea64-4aa5-8523-e06d1b16f572",
   "metadata": {},
   "source": [
    "### LSTM의 알고리즘 리뷰 I (수식위주)"
   ]
  },
  {
   "cell_type": "markdown",
   "id": "1fa7cdcf-c785-4e09-b0c7-55e83a7e8f4a",
   "metadata": {},
   "source": [
    "**(step1)** calculate ${\\tt ifgo}$"
   ]
  },
  {
   "cell_type": "markdown",
   "id": "e3c89e13-f106-4aa7-8d29-bee6a1b35ee6",
   "metadata": {},
   "source": [
    "${\\tt ifgo} = {\\boldsymbol x}_t  \\big[{\\bf W}_{ii} | {\\bf W}_{if}| {\\bf W}_{ig} |{\\bf W}_{io}\\big] + {\\boldsymbol h}_{t-1}  \\big[ {\\bf W}_{hi}|{\\bf W}_{hf} |{\\bf W}_{hg} | {\\bf W}_{ho} \\big] + bias$\n",
    "\n",
    "$=\\big[{\\boldsymbol x}_t{\\bf W}_{ii} + {\\boldsymbol h}_{t-1}{\\bf W}_{hi} ~\\big|~ {\\boldsymbol x}_t{\\bf W}_{if}+ {\\boldsymbol h}_{t-1}{\\bf W}_{hf}~ \\big|~ {\\boldsymbol x}_t{\\bf W}_{ig} + {\\boldsymbol h}_{t-1}{\\bf W}_{hg}  ~\\big|~ {\\boldsymbol x}_t{\\bf W}_{io} + {\\boldsymbol h}_{t-1}{\\bf W}_{ho} \\big] + bias$"
   ]
  },
  {
   "cell_type": "markdown",
   "id": "723ac9e1-7644-4df2-b467-7c6cb635fc2e",
   "metadata": {},
   "source": [
    "**(step2)** decompose ${\\tt ifgo}$ and get ${\\boldsymbol i}_t$, ${\\boldsymbol f}_t$, ${\\boldsymbol g}_t$, ${\\boldsymbol o}_t$"
   ]
  },
  {
   "cell_type": "markdown",
   "id": "7096dbff-bbf4-436e-bc8e-72feec0c23fe",
   "metadata": {},
   "source": [
    "${\\boldsymbol i}_t = \\sigma({\\boldsymbol x}_t {\\bf W}_{ii} + {\\boldsymbol h}_{t-1} {\\bf W}_{hi} +bias )$ "
   ]
  },
  {
   "cell_type": "markdown",
   "id": "0ac0bf65-4c2a-4c4d-9e9b-94f29e16c7b7",
   "metadata": {},
   "source": [
    "${\\boldsymbol f}_t = \\sigma({\\boldsymbol x}_t {\\bf W}_{if} + {\\boldsymbol h}_{t-1} {\\bf W}_{hf} +bias )$ "
   ]
  },
  {
   "cell_type": "markdown",
   "id": "e2d9f3d0-c003-4d2a-adb9-16423d3cc741",
   "metadata": {},
   "source": [
    "${\\boldsymbol g}_t = \\tanh({\\boldsymbol x}_t {\\bf W}_{ig} + {\\boldsymbol h}_{t-1} {\\bf W}_{hg} +bias )$ "
   ]
  },
  {
   "cell_type": "markdown",
   "id": "abdec069-2ee8-4a56-b882-13f1850ad432",
   "metadata": {},
   "source": [
    "${\\boldsymbol o}_t = \\sigma({\\boldsymbol x}_t {\\bf W}_{io} + {\\boldsymbol h}_{t-1} {\\bf W}_{ho} +bias )$ "
   ]
  },
  {
   "cell_type": "markdown",
   "id": "86d1a349-3a4a-4bca-9d7e-ea10586531cd",
   "metadata": {},
   "source": [
    "**(step3)** calculate ${\\boldsymbol c}_t$ and ${\\boldsymbol h}_t$"
   ]
  },
  {
   "cell_type": "markdown",
   "id": "3a59ad77-daba-4230-a991-ce3bf609240e",
   "metadata": {},
   "source": [
    "${\\boldsymbol c}_t = {\\boldsymbol i}_t \\odot {\\boldsymbol g}_t+ {\\boldsymbol f}_t \\odot {\\boldsymbol c}_{t-1}$"
   ]
  },
  {
   "cell_type": "markdown",
   "id": "b6dd912b-59fa-4ca3-b43f-60570525aaa0",
   "metadata": {},
   "source": [
    "${\\boldsymbol h}_t = \\tanh({\\boldsymbol o}_t \\odot {\\boldsymbol c}_t)$"
   ]
  },
  {
   "cell_type": "markdown",
   "id": "0687c3b1-6ac2-48d5-be4f-a9ae7ebbc82b",
   "metadata": {},
   "source": [
    "### LSTM의 알고리즘 리뷰 II (느낌위주)"
   ]
  },
  {
   "cell_type": "markdown",
   "id": "05422adf-f27d-4bf7-b156-3d28eff03273",
   "metadata": {},
   "source": [
    "- 이해 및 암기를 돕기위해서 비유적으로 설명한 챕터입니다.."
   ]
  },
  {
   "cell_type": "markdown",
   "id": "7482e0be-d021-4801-b02a-c9c88c4988db",
   "metadata": {},
   "source": [
    "`-` 느낌1: RNN이 콩물에서 간장을 한번에 숙성시키는 방법이라면 LSTM은 콩물에서 간장을 3차로 나누어 숙성하는 느낌이다. \n",
    "- 콩물: ${\\boldsymbol x}_t$\n",
    "- 1차숙성: ${\\boldsymbol g}_t$\n",
    "- 2차숙성: ${\\boldsymbol c}_t$ \n",
    "- 3차숙성: ${\\boldsymbol h}_t$ "
   ]
  },
  {
   "cell_type": "markdown",
   "id": "eb92cba1-886a-4ffb-8303-01de4d788d20",
   "metadata": {},
   "source": [
    "`-` 느낌2: ${\\boldsymbol g}_t$에 대하여\n",
    "- 계산방법: ${\\boldsymbol x}_t$와 ${\\boldsymbol h}_{t-1}$를 ${\\bf W}_{ig}, {\\bf W}_{hg}$를 이용해 선형결합하고 $\\tanh$를 취한 결과\n",
    "- RNN에서 간장을 만들던 그 수식임. RNN에서는 $g_t$자체가 간장의 역할을 하였음.\n",
    "- 크게 2가지의 의미를 가진다 (1) 과거와 현재의 결합 (2) 활성화함수 $\\tanh$를 적용 "
   ]
  },
  {
   "cell_type": "markdown",
   "id": "d5c606bd-93dd-4fce-b9ef-44334cf90606",
   "metadata": {},
   "source": [
    "`-` 느낌3: ${\\boldsymbol c}_t$에 대하여 (1)\n",
    "- 계산방법: ${\\boldsymbol g}_{t}$와 ${\\boldsymbol c}_{t-1}$를 요소별로 선택하고 더하는 과정\n",
    "- RNN에서 간장을 만들던 수식중 (1) 과거와 현재의 정보를 결합하는 과정에 해당한다. 차이점은 요소별 선택 후 덧셈\n",
    "- 이러한 결합을 쓰는 이유? 게이트를 이용하여 과거와 현재의 정보를 제어 (일반적인 설명, 솔직히 내가 좋아하는 설명은 아님)"
   ]
  },
  {
   "cell_type": "markdown",
   "id": "6bb2202b-09ab-49ad-abe4-7d0433c386f1",
   "metadata": {},
   "source": [
    "`-` 느낌4: ${\\boldsymbol c}_t$에 대하여 (2): ${\\boldsymbol c}_t$는 왜 과거와 현재의 정보를 제어한다고 볼 수 있는가? "
   ]
  },
  {
   "cell_type": "markdown",
   "id": "7d612263-2a53-4051-b632-013a263a2e76",
   "metadata": {},
   "source": [
    "$t=1$ 시점 계산과정관찰"
   ]
  },
  {
   "cell_type": "code",
   "execution_count": 266,
   "id": "b5a16a05-437a-4561-b8f6-51f35d1c99f0",
   "metadata": {},
   "outputs": [
    {
     "data": {
      "text/plain": [
       "(tensor([0.9065, 0.9999], grad_fn=<SelectBackward0>),\n",
       " tensor([0.9931, 0.9999], grad_fn=<SelectBackward0>),\n",
       " tensor([0.9931, 0.0014], grad_fn=<SelectBackward0>),\n",
       " tensor([ 0.3592, -0.9373], grad_fn=<SelectBackward0>))"
      ]
     },
     "execution_count": 266,
     "metadata": {},
     "output_type": "execute_result"
    }
   ],
   "source": [
    "input_gate[1],g[1],forget_gate[1],cell[0]"
   ]
  },
  {
   "cell_type": "markdown",
   "id": "84a6eaec-e41c-4dae-a956-c7441d225a39",
   "metadata": {},
   "source": [
    "$[0.9,1.0] \\odot {\\boldsymbol g}_t + [1.0,0.0] \\odot {\\boldsymbol c}_{t-1}$"
   ]
  },
  {
   "cell_type": "markdown",
   "id": "eeceb1b1-48bb-45f2-9647-78bfa3ea6f0b",
   "metadata": {},
   "source": [
    "- forget_gate는 $c_{t-1}$의 첫번째 원소는 기억하고, 두번째 원소는 잊으라고 말하고 있음 // forget_gate는 과거($c_{t-1}$)의 정보를 얼마나 잊을지 (= 얼마나 기억할지) 를 결정한다고 해석할 수 있다. \n",
    "- input_gate는 $g_{t}$의 첫번째 원소와 두번째 원소를 모두 기억하되 두번째 원소를 좀 더 중요하게 기억하라고 말하고 있음 // input_gate는 현재($g_{t}$)의 정보를 얼만큼 강하게 반영할지 결정한다. \n",
    "- 이 둘을 조합하면 ${\\boldsymbol c}_t$가 현재와 과거의 정보중 어떠한 정보를 더 중시하면서 기억할지 결정한다고 볼 수 있다. "
   ]
  },
  {
   "cell_type": "markdown",
   "id": "89dd78c1-93c3-4dbe-9652-ed8589a8661e",
   "metadata": {},
   "source": [
    "> 이 설명은 제가 좀 싫어해요, 싫어하는 이유는 (1) \"기억의 정도를 조절한다\"와 \"망각의 정도를 조절한다\"는 사실 같은말임. 그래서 forget_gate의 용어가 모호함. (2) 기억과 망각을 조정하는 방식으로 꼭 gate의 개념을 사용해야 하는건 아님"
   ]
  },
  {
   "cell_type": "markdown",
   "id": "617147f4-651c-4451-9984-facced478c10",
   "metadata": {},
   "source": [
    "`-` 느낌5: ${\\boldsymbol c}_t$에 대하여 (3) \n",
    "\n",
    "- 사실상 LSTM 알고리즘의 꽃이라 할 수 있음. \n",
    "- LSTM은 long short term memory의 약자임. 기존의 RNN은 장기기억을 활용함에 약점이 있는데 LSTM은 단기기억/장기기억 모두 잘 활용함. \n",
    "- LSTM이 장기기억을 잘 활용하는 비법은 바로 ${\\boldsymbol c}_t$에 있다."
   ]
  },
  {
   "cell_type": "markdown",
   "id": "735fc724-5a4b-4f75-b1a6-6291fbc4ac56",
   "metadata": {},
   "source": [
    "`-` 느낌6: ${\\boldsymbol h}_t$에 대하여\n",
    "- 계산방법: ${\\boldsymbol c}_t$를 요소별로 선택후 $\\tanh$ "
   ]
  },
  {
   "cell_type": "markdown",
   "id": "bcb1c08a-a2e9-4803-bea2-4bf4c1f8b03a",
   "metadata": {},
   "source": [
    "`-` RNN, LSTM의 변수들 비교 테이블 "
   ]
  },
  {
   "cell_type": "markdown",
   "id": "9e8dc68c-b6a6-49d9-aaca-128e1319f363",
   "metadata": {},
   "source": [
    "||과거정보|현재정보|과거와 현재의 결합방식|활성화|느낌|비고|\n",
    "|:-:|:-:|:-:|:-:|:-:|:-:|:-:|\n",
    "|RNN-${\\boldsymbol h}_t$|${\\boldsymbol h}_{t-1}$|${\\boldsymbol x}_t$|$\\times$ $\\to$ $+$|$\\tanh$|간장|\n",
    "|||||||\n",
    "|LSTM-${\\boldsymbol g}_t$|${\\boldsymbol h}_{t-1}$|${\\boldsymbol x}_t$|$\\times$ $\\to$ $+$|$\\tanh$|1차숙성간장|\n",
    "|LSTM-${\\boldsymbol c}_t$|${\\boldsymbol c}_{t-1}$|${\\boldsymbol g}_t$|$\\odot$ $\\to$ $+$ |None|2차숙성간장|gate를 열림정도를 판단할때 ${\\boldsymbol x}_t$와 ${\\boldsymbol h}_{t-1}$을 이용|\n",
    "|LSTM-${\\boldsymbol h}_t$|None|${\\boldsymbol c}_t$|None|$\\tanh$|3차숙성간장|gate를 열림정도를 판단할때 ${\\boldsymbol x}_t$와 ${\\boldsymbol h}_{t-1}$을 이용|\n"
   ]
  },
  {
   "cell_type": "markdown",
   "id": "61a9c7cc-8a7d-4e68-a4c1-722394a92ffc",
   "metadata": {},
   "source": [
    "- RNN은 기억할 과거정보가 ${\\boldsymbol h}_{t-1}$ 하나이지만 LSTM은 ${\\boldsymbol c}_{t-1}$, ${\\boldsymbol h}_{t-1}$ 2개이다. "
   ]
  },
  {
   "cell_type": "markdown",
   "id": "22e3e237-e17d-4325-bf84-f3b77bef79d1",
   "metadata": {},
   "source": [
    "### LSTM이 강한이유 "
   ]
  },
  {
   "cell_type": "markdown",
   "id": "3b7bb6fd-9f90-4286-9634-cb68e618aa1b",
   "metadata": {},
   "source": [
    "`-` LSTM이 장기기억에 유리함. 그 이유는 input, forget, output gate 들이 서로 상호작용하며 과거기억을 위한 역할을 하기 때문. \n",
    "- 비판: 아키텍처에 대한 이론적 근거는 없음. 장기기억을 위하여 꼭 LSTM같은 구조일 필요는 없음. "
   ]
  },
  {
   "cell_type": "markdown",
   "id": "3aacbf65-2dab-4c2c-b0d4-3224d4799253",
   "metadata": {},
   "source": [
    "## 참고자료들 \n",
    "\n",
    "- https://colah.github.io/posts/2015-08-Understanding-LSTMs/\n",
    "- https://pytorch.org/docs/stable/generated/torch.nn.LSTM.html\n",
    "- https://arxiv.org/abs/1402.1128"
   ]
  }
 ],
 "metadata": {
  "kernelspec": {
   "display_name": "Python 3 (ipykernel)",
   "language": "python",
   "name": "python3"
  },
  "language_info": {
   "codemirror_mode": {
    "name": "ipython",
    "version": 3
   },
   "file_extension": ".py",
   "mimetype": "text/x-python",
   "name": "python",
   "nbconvert_exporter": "python",
   "pygments_lexer": "ipython3",
   "version": "3.7.13"
  }
 },
 "nbformat": 4,
 "nbformat_minor": 5
}
