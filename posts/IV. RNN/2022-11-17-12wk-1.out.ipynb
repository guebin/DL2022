{
  "cells": [
    {
      "cell_type": "markdown",
      "metadata": {},
      "source": [
        "# 12wk-1: 순환신경망 (6)\n",
        "\n",
        "최규빈  \n",
        "2022-11-17\n",
        "\n",
        "> LSTM (2)– LSTM의 계산과정, LSTM은 왜 강한가?\n",
        "\n",
        "# 강의영상\n",
        "\n",
        "> <https://youtube.com/playlist?list=PLQqh36zP38-yn6ykMCJiA-fWkITNhGO7r>\n",
        "\n",
        "# import"
      ],
      "id": "cd9ad6d4-f757-44db-888f-385dd17fcb9e"
    },
    {
      "cell_type": "code",
      "execution_count": 1,
      "metadata": {},
      "outputs": [],
      "source": [
        "import torch\n",
        "import matplotlib.pyplot as plt"
      ],
      "id": "ae2c26f0-f0fd-492d-a58b-01832309ad94"
    },
    {
      "cell_type": "markdown",
      "metadata": {},
      "source": [
        "# Define some funtions"
      ],
      "id": "91703201-050b-49d9-9b0f-ed97956a67dd"
    },
    {
      "cell_type": "code",
      "execution_count": 2,
      "metadata": {},
      "outputs": [],
      "source": [
        "def f(txt,mapping):\n",
        "    return [mapping[key] for key in txt] \n",
        "sig = torch.nn.Sigmoid()\n",
        "soft = torch.nn.Softmax(dim=1)\n",
        "tanh = torch.nn.Tanh()"
      ],
      "id": "3eefed13-c2b8-4735-9089-442726c1b93c"
    },
    {
      "cell_type": "markdown",
      "metadata": {},
      "source": [
        "# LSTM의 계산과정\n",
        "\n",
        "### data: abaB"
      ],
      "id": "dd7667bc-1e38-4427-85e1-58f0d890369b"
    },
    {
      "cell_type": "code",
      "execution_count": 3,
      "metadata": {},
      "outputs": [],
      "source": [
        "txt = list('abaB')*100\n",
        "txt[:5]"
      ],
      "id": "b5f9ab82-df24-40cb-b4a2-be56a6e1b50d"
    },
    {
      "cell_type": "code",
      "execution_count": 4,
      "metadata": {},
      "outputs": [],
      "source": [
        "txt_x = txt[:-1]\n",
        "txt_y = txt[1:]"
      ],
      "id": "3dc6cdc6-b006-48e1-ace7-c521f22b1a3c"
    },
    {
      "cell_type": "code",
      "execution_count": 5,
      "metadata": {},
      "outputs": [],
      "source": [
        "mapping = {'a':0, 'b':1, 'B':2}\n",
        "x = torch.nn.functional.one_hot(torch.tensor(f(txt_x,mapping))).float()\n",
        "y = torch.nn.functional.one_hot(torch.tensor(f(txt_y,mapping))).float()"
      ],
      "id": "48c6098d-6086-48ab-bcc9-7d98499656d6"
    },
    {
      "cell_type": "markdown",
      "metadata": {},
      "source": [
        "## 1 epoch ver1 (with torch.nn.LSTMCell)"
      ],
      "id": "f219402a-d13d-401d-99cc-bd2e92ba1ad7"
    },
    {
      "cell_type": "code",
      "execution_count": 6,
      "metadata": {},
      "outputs": [],
      "source": [
        "torch.manual_seed(43052) \n",
        "lstm_cell = torch.nn.LSTMCell(3,2) \n",
        "linr = torch.nn.Linear(2,3)\n",
        "loss_fn = torch.nn.CrossEntropyLoss() \n",
        "optimizr = torch.optim.Adam(list(lstm_cell.parameters())+list(linr.parameters()),lr=0.1)"
      ],
      "id": "f3800bd9-a6ba-4874-ae1d-9700482f8a41"
    },
    {
      "cell_type": "code",
      "execution_count": 9,
      "metadata": {},
      "outputs": [],
      "source": [
        "T = len(x) \n",
        "for epoc in range(1):\n",
        "    ht = torch.zeros(1,2)\n",
        "    ct = torch.zeros(1,2)\n",
        "    loss = 0 \n",
        "    ## 1~2\n",
        "    for t in range(T):\n",
        "        xt,yt = x[[t]], y[[t]]\n",
        "        ht,ct = lstm_cell(xt,(ht,ct))\n",
        "        ot = linr(ht) \n",
        "        loss = loss + loss_fn(ot,yt)\n",
        "    loss = loss / T\n",
        "    ## 3 \n",
        "    loss.backward()\n",
        "    ## 4 \n",
        "    optimizr.step()\n",
        "    optimizr.zero_grad()"
      ],
      "id": "0ccec311-be58-41e1-8f17-fb631702092f"
    },
    {
      "cell_type": "code",
      "execution_count": 10,
      "metadata": {},
      "outputs": [],
      "source": [
        "ht,ct "
      ],
      "id": "ac253024-3f20-41e9-80c7-66fc109178a6"
    },
    {
      "cell_type": "markdown",
      "metadata": {},
      "source": [
        "## 1 epoch ver2 (완전 손으로 구현)\n",
        "\n",
        "### ***t=0 $\\to$ t=1***\n",
        "\n",
        "`-` lstm_cell 을 이용한 계산 (결과비교용)"
      ],
      "id": "16d102c0-4899-400e-a9c6-57b4ae6c8396"
    },
    {
      "cell_type": "code",
      "execution_count": 12,
      "metadata": {},
      "outputs": [],
      "source": [
        "torch.manual_seed(43052) \n",
        "lstm_cell = torch.nn.LSTMCell(3,2) \n",
        "linr = torch.nn.Linear(2,3)\n",
        "loss_fn = torch.nn.CrossEntropyLoss() \n",
        "optimizr = torch.optim.Adam(list(lstm_cell.parameters())+list(linr.parameters()),lr=0.1)"
      ],
      "id": "a50aa762-17cd-4288-80b4-9ffe442440b6"
    },
    {
      "cell_type": "code",
      "execution_count": 13,
      "metadata": {},
      "outputs": [],
      "source": [
        "T = len(x) \n",
        "for epoc in range(1):\n",
        "    ht = torch.zeros(1,2)\n",
        "    ct = torch.zeros(1,2)\n",
        "    loss = 0 \n",
        "    ## 1~2\n",
        "    for t in range(1):\n",
        "        xt,yt = x[[t]], y[[t]]\n",
        "        ht,ct = lstm_cell(xt,(ht,ct))\n",
        "    #     ot = linr(ht) \n",
        "    #     loss = loss + loss_fn(ot,yt)\n",
        "    # loss = loss / T\n",
        "    # ## 3 \n",
        "    # loss.backward()\n",
        "    # ## 4 \n",
        "    # optimizr.step()\n",
        "    # optimizr.zero_grad()"
      ],
      "id": "1aeec5dd-a264-4232-ac79-c65732d66bf3"
    },
    {
      "cell_type": "code",
      "execution_count": 14,
      "metadata": {},
      "outputs": [],
      "source": [
        "ht,ct "
      ],
      "id": "3612da96-1153-4839-b512-40c1ce923788"
    },
    {
      "cell_type": "markdown",
      "metadata": {},
      "source": [
        "-   이런결과를 어떻게 만드는걸까?\n",
        "-   <https://pytorch.org/docs/stable/generated/torch.nn.LSTM.html>\n",
        "\n",
        "`-` 직접계산"
      ],
      "id": "f79e3f78-f8d3-4be7-9395-91e281e13ba1"
    },
    {
      "cell_type": "code",
      "execution_count": 25,
      "metadata": {},
      "outputs": [],
      "source": [
        "ht = torch.zeros(1,2)\n",
        "ct = torch.zeros(1,2)"
      ],
      "id": "72aa3e65-93cc-4c93-b41b-c7b8bc74a63f"
    },
    {
      "cell_type": "code",
      "execution_count": 26,
      "metadata": {},
      "outputs": [],
      "source": [
        "_ifgo = xt @ lstm_cell.weight_ih.T + ht @ lstm_cell.weight_hh.T + lstm_cell.bias_ih + lstm_cell.bias_hh"
      ],
      "id": "acce5238-3b90-4953-a4e0-3ecf8a1be6b0"
    },
    {
      "cell_type": "code",
      "execution_count": 27,
      "metadata": {},
      "outputs": [],
      "source": [
        "input_gate = sig(_ifgo[:,0:2])\n",
        "forget_gate = sig(_ifgo[:,2:4])\n",
        "gt = tanh(_ifgo[:,4:6])\n",
        "output_gate = sig(_ifgo[:,6:8])"
      ],
      "id": "6fd4d59f-9496-42f5-9a39-932880f2f6c1"
    },
    {
      "cell_type": "code",
      "execution_count": 28,
      "metadata": {},
      "outputs": [],
      "source": [
        "ct = forget_gate * ct + input_gate * gt\n",
        "ht = output_gate * tanh(ct)"
      ],
      "id": "d97b6642-47e6-45e1-a3d7-b227c756c31f"
    },
    {
      "cell_type": "code",
      "execution_count": 29,
      "metadata": {},
      "outputs": [],
      "source": [
        "ht,ct"
      ],
      "id": "9e5fc425-9edc-4371-9605-f970852810c0"
    },
    {
      "cell_type": "markdown",
      "metadata": {},
      "source": [
        "### ***t=0 $\\to$ t=T***"
      ],
      "id": "a42f56be-4321-47a9-9d75-5b199d9f2c2f"
    },
    {
      "cell_type": "code",
      "execution_count": 30,
      "metadata": {},
      "outputs": [],
      "source": [
        "torch.manual_seed(43052) \n",
        "lstm_cell = torch.nn.LSTMCell(3,2) \n",
        "linr = torch.nn.Linear(2,3)\n",
        "loss_fn = torch.nn.CrossEntropyLoss() \n",
        "optimizr = torch.optim.Adam(list(lstm_cell.parameters())+list(linr.parameters()),lr=0.1)"
      ],
      "id": "46aba172-cd71-4119-8e5d-f12c63318d80"
    },
    {
      "cell_type": "code",
      "execution_count": 31,
      "metadata": {},
      "outputs": [],
      "source": [
        "T = len(x) \n",
        "for epoc in range(1):\n",
        "    ht = torch.zeros(1,2)\n",
        "    ct = torch.zeros(1,2)\n",
        "    loss = 0 \n",
        "    ## 1~2\n",
        "    for t in range(T):\n",
        "        xt,yt = x[[t]], y[[t]]\n",
        "        \n",
        "        ## lstm_cell step1: calculate _ifgo \n",
        "        _ifgo = xt @ lstm_cell.weight_ih.T + ht @ lstm_cell.weight_hh.T + lstm_cell.bias_ih + lstm_cell.bias_hh\n",
        "        ## lstm_cell step2: decompose _ifgo \n",
        "        input_gate = sig(_ifgo[:,0:2])\n",
        "        forget_gate = sig(_ifgo[:,2:4])\n",
        "        gt = tanh(_ifgo[:,4:6])\n",
        "        output_gate = sig(_ifgo[:,6:8])\n",
        "        ## lstm_cell step3: calculate ht,ct \n",
        "        ct = forget_gate * ct + input_gate * gt\n",
        "        ht = output_gate * tanh(ct)\n",
        "        \n",
        "    #     ot = linr(ht) \n",
        "    #     loss = loss + loss_fn(ot,yt)\n",
        "    # loss = loss / T\n",
        "    # ## 3 \n",
        "    # loss.backward()\n",
        "    # ## 4 \n",
        "    # optimizr.step()\n",
        "    # optimizr.zero_grad()"
      ],
      "id": "c829ddcc-42ea-4115-be90-8c88a6c97ba3"
    },
    {
      "cell_type": "code",
      "execution_count": 32,
      "metadata": {},
      "outputs": [],
      "source": [
        "ht,ct"
      ],
      "id": "d9115b51-b70d-4846-91a2-12d262147e40"
    },
    {
      "cell_type": "markdown",
      "metadata": {},
      "source": [
        "## 1 epoch ver3 (with torch.nn.LSTM)"
      ],
      "id": "d65180d7-bbbf-4a3e-8a40-14bb08f3f44c"
    },
    {
      "cell_type": "code",
      "execution_count": 42,
      "metadata": {},
      "outputs": [],
      "source": [
        "torch.manual_seed(43052) \n",
        "lstm_cell = torch.nn.LSTMCell(3,2)\n",
        "linr = torch.nn.Linear(2,3) "
      ],
      "id": "4eb3357e-cba5-44e0-ac21-4a679f077c4f"
    },
    {
      "cell_type": "code",
      "execution_count": 43,
      "metadata": {},
      "outputs": [],
      "source": [
        "lstm = torch.nn.LSTM(3,2) "
      ],
      "id": "ea3fddfd-6565-4250-83be-735b7f726bc3"
    },
    {
      "cell_type": "code",
      "execution_count": 44,
      "metadata": {},
      "outputs": [],
      "source": [
        "lstm.weight_hh_l0.data = lstm_cell.weight_hh.data \n",
        "lstm.bias_hh_l0.data = lstm_cell.bias_hh.data \n",
        "lstm.weight_ih_l0.data = lstm_cell.weight_ih.data \n",
        "lstm.bias_ih_l0.data = lstm_cell.bias_ih.data "
      ],
      "id": "9ad025c3-b2cd-4be4-9f61-a6746bd1dd0d"
    },
    {
      "cell_type": "code",
      "execution_count": 45,
      "metadata": {},
      "outputs": [],
      "source": [
        "loss_fn = torch.nn.CrossEntropyLoss()\n",
        "optimizr = torch.optim.Adam(list(lstm.parameters()) + list(linr.parameters()), lr=0.1) "
      ],
      "id": "a6a9377c-75df-4cd1-8587-e00a6131cad7"
    },
    {
      "cell_type": "code",
      "execution_count": 46,
      "metadata": {},
      "outputs": [],
      "source": [
        "_water = torch.zeros(1,2) \n",
        "for epoc in range(1): \n",
        "    ## step1 \n",
        "    hidden, (ht,ct) = lstm(x,(_water,_water))\n",
        "    output = linr(hidden)\n",
        "    # ## step2\n",
        "    # loss = loss_fn(output,y) \n",
        "    # ## step3\n",
        "    # loss.backward()\n",
        "    # ## step4 \n",
        "    # optimizr.step()\n",
        "    # optimizr.zero_grad() "
      ],
      "id": "6e4dd495-19b4-42b3-9af8-82d028bf6e6e"
    },
    {
      "cell_type": "code",
      "execution_count": 47,
      "metadata": {},
      "outputs": [],
      "source": [
        "ht,ct"
      ],
      "id": "4e00bfd2-86c7-4791-afc6-ad877653f8a7"
    },
    {
      "cell_type": "markdown",
      "metadata": {},
      "source": [
        "# LSTM은 왜 강한가?\n",
        "\n",
        "## data: abaB"
      ],
      "id": "e601cd80-67a3-4811-a15a-71c16475e5a6"
    },
    {
      "cell_type": "code",
      "execution_count": 48,
      "metadata": {},
      "outputs": [],
      "source": [
        "txt = list('abaB')*100\n",
        "txt[:5]"
      ],
      "id": "8996bdf7-bc16-4f2d-b29d-015b5c8fa876"
    },
    {
      "cell_type": "code",
      "execution_count": 49,
      "metadata": {},
      "outputs": [],
      "source": [
        "n_words = 3"
      ],
      "id": "33d8c458-6919-44b3-b59d-dcd597291c70"
    },
    {
      "cell_type": "code",
      "execution_count": 50,
      "metadata": {},
      "outputs": [],
      "source": [
        "mapping = {'a':0, 'b':1, 'B':2}"
      ],
      "id": "6a7f14c0-3795-46f1-b245-a6d1d273b29d"
    },
    {
      "cell_type": "code",
      "execution_count": 51,
      "metadata": {},
      "outputs": [],
      "source": [
        "txt_x = txt[:-1]\n",
        "txt_y = txt[1:]"
      ],
      "id": "9456f321-7eac-4010-8dd0-8c51f1bb8265"
    },
    {
      "cell_type": "code",
      "execution_count": 52,
      "metadata": {},
      "outputs": [],
      "source": [
        "txt_x[:10],txt_y[:10]"
      ],
      "id": "ccd09e23-f016-4f35-a818-81d6875afa07"
    },
    {
      "cell_type": "code",
      "execution_count": 53,
      "metadata": {},
      "outputs": [],
      "source": [
        "x = torch.nn.functional.one_hot(torch.tensor(f(txt_x,mapping))).float()\n",
        "y = torch.nn.functional.one_hot(torch.tensor(f(txt_y,mapping))).float()"
      ],
      "id": "cce45a25-cd91-4b13-a9df-34e7adba65b1"
    },
    {
      "cell_type": "code",
      "execution_count": 54,
      "metadata": {},
      "outputs": [],
      "source": [
        "x,y"
      ],
      "id": "b11991a5-e3ea-4a09-a35b-e2340cfdf1bf"
    },
    {
      "cell_type": "markdown",
      "metadata": {},
      "source": [
        "## 1000 epoch"
      ],
      "id": "52f53f02-2f9d-4467-9cb4-2050b2206548"
    },
    {
      "cell_type": "code",
      "execution_count": 108,
      "metadata": {},
      "outputs": [],
      "source": [
        "torch.manual_seed(43052) \n",
        "lstm = torch.nn.LSTM(3,2) \n",
        "linr = torch.nn.Linear(2,3) "
      ],
      "id": "7ff25378-05ec-407c-93cb-d800359e9234"
    },
    {
      "cell_type": "code",
      "execution_count": 109,
      "metadata": {},
      "outputs": [],
      "source": [
        "loss_fn = torch.nn.CrossEntropyLoss() \n",
        "optimizr = torch.optim.Adam(list(lstm.parameters())+ list(linr.parameters()),lr=0.1)"
      ],
      "id": "151673a8-4132-42ae-a068-58e0e2368277"
    },
    {
      "cell_type": "code",
      "execution_count": 110,
      "metadata": {},
      "outputs": [],
      "source": [
        "_water = torch.zeros(1,2) \n",
        "for epoc in range(1000): \n",
        "    ## step1 \n",
        "    hidden, (ht,ct) = lstm(x,(_water,_water))\n",
        "    output = linr(hidden)\n",
        "    ## step2\n",
        "    loss = loss_fn(output,y) \n",
        "    ## step3\n",
        "    loss.backward()\n",
        "    ## step4 \n",
        "    optimizr.step()\n",
        "    optimizr.zero_grad() "
      ],
      "id": "5e2db029-2608-4f90-993d-625c4825c7ea"
    },
    {
      "cell_type": "markdown",
      "metadata": {},
      "source": [
        "## 시각화"
      ],
      "id": "a7f9a1d4-5bc2-4f0a-83b4-d9fbbc83de2f"
    },
    {
      "cell_type": "code",
      "execution_count": 117,
      "metadata": {},
      "outputs": [],
      "source": [
        "T = len(x)\n",
        "input_gate = torch.zeros(T,2)\n",
        "forget_gate = torch.zeros(T,2)\n",
        "output_gate = torch.zeros(T,2)\n",
        "g = torch.zeros(T,2)\n",
        "cell = torch.zeros(T,2)\n",
        "h = torch.zeros(T,2) "
      ],
      "id": "75308621-5da4-4e84-b930-23a52392dc9d"
    },
    {
      "cell_type": "code",
      "execution_count": 118,
      "metadata": {},
      "outputs": [],
      "source": [
        "for t in range(T): \n",
        "    ## 1: calculate _ifgo \n",
        "    _ifgo = x[[t]] @ lstm.weight_ih_l0.T + h[[t]] @ lstm.weight_hh_l0.T + lstm.bias_ih_l0 + lstm.bias_hh_l0 \n",
        "    ## 2: decompose _ifgo \n",
        "    input_gate[[t]] = sig(_ifgo[:,0:2])\n",
        "    forget_gate[[t]] = sig(_ifgo[:,2:4])\n",
        "    g[[t]] = tanh(_ifgo[:,4:6])\n",
        "    output_gate[[t]] = sig(_ifgo[:,6:8])\n",
        "    ## 3: calculate ht,ct \n",
        "    cell[[t]] = forget_gate[[t]] * cell[[t]] + input_gate[[t]] * g[[t]]\n",
        "    h[[t]] = output_gate[[t]] * tanh(cell[[t]])"
      ],
      "id": "3dc854c5-874a-4491-a759-ab318dd4bdb6"
    },
    {
      "cell_type": "code",
      "execution_count": 120,
      "metadata": {},
      "outputs": [],
      "source": [
        "combinded1 = torch.concat([input_gate,forget_gate,output_gate],axis=1)\n",
        "combinded2 = torch.concat([g,cell,h,soft(output)],axis=1)"
      ],
      "id": "b2dfa180-f918-4e96-a3c5-e1f8c5f68ecb"
    },
    {
      "cell_type": "code",
      "execution_count": 143,
      "metadata": {},
      "outputs": [
        {
          "output_type": "display_data",
          "metadata": {},
          "data": {
            "image/png": "[encoded data removed]"
          }
        },
        {
          "output_type": "display_data",
          "metadata": {},
          "data": {
            "image/png": "[encoded data removed]"
          }
        }
      ],
      "source": [
        "plt.matshow(combinded1[-8:].data,cmap='bwr',vmin=-1,vmax=1);\n",
        "plt.xticks(range(combinded1.shape[-1]),labels=['i']*2 + ['f']*2 + ['o']*2);\n",
        "plt.matshow(combinded2[-8:].data,cmap='bwr',vmin=-1,vmax=1)\n",
        "plt.xticks(range(combinded2.shape[-1]),labels=['g']*2 + ['c']*2 + ['h']*2 + ['yhat']*3);"
      ],
      "id": "77db5ef4-1a26-4059-a403-f667add86d41"
    },
    {
      "cell_type": "markdown",
      "metadata": {},
      "source": [
        "-   상단그림은 게이트의 값들만 시각화, 하단그림은 게이트 이외의 값들을\n",
        "    시각화\n",
        "\n",
        "## 시각화의 해석I"
      ],
      "id": "885198e7-f8eb-46ac-8521-37128ea9007d"
    },
    {
      "cell_type": "code",
      "execution_count": 145,
      "metadata": {},
      "outputs": [
        {
          "output_type": "display_data",
          "metadata": {},
          "data": {
            "image/png": "[encoded data removed]"
          }
        }
      ],
      "source": [
        "plt.matshow(combinded1[-8:].data,cmap='bwr',vmin=-1,vmax=1);\n",
        "plt.xticks(range(combinded1.shape[-1]),labels=['i']*2 + ['f']*2 + ['o']*2);"
      ],
      "id": "84757059-8a63-4b89-bc38-90b11caea7d8"
    },
    {
      "cell_type": "markdown",
      "metadata": {},
      "source": [
        "`-` input_gate, forget_gate, output_gate는 모두 0~1 사이의 값을 가진다.\n",
        "\n",
        "`-` 이 값들은 각각 모두\n",
        "${\\boldsymbol g}_t, {\\boldsymbol c}_{t-1}, \\tanh({\\boldsymbol c}_t)$에\n",
        "곱해진다. 따라서 input_gate, forget_gate, output_gate 는 gate의 역할로\n",
        "비유가능하다. (1이면 통과, 0이면 차단)\n",
        "\n",
        "-   input_gate: ${\\boldsymbol g}_t$의 값을 얼만큼 통과시킬지 0~1사이의\n",
        "    숫자로 결정\n",
        "-   forget_gate: ${\\boldsymbol c}_{t-1}$의 값을 얼만큼 통과시킬지\n",
        "    0~1사이의 숫자로 결정\n",
        "-   output_gate: $\\tanh({\\boldsymbol c}_t)$의 값을 얼만큼 통과시킬지\n",
        "    0~1사이의 숫자로 결정\n",
        "\n",
        "### 시각화의 해석II"
      ],
      "id": "bbe03432-cf2f-45be-8b25-a4fd24a60bc6"
    },
    {
      "cell_type": "code",
      "execution_count": 142,
      "metadata": {},
      "outputs": [
        {
          "output_type": "display_data",
          "metadata": {},
          "data": {
            "image/png": "[encoded data removed]"
          }
        }
      ],
      "source": [
        "plt.matshow(combinded2[-8:].data,cmap='bwr',vmin=-1,vmax=1)\n",
        "plt.xticks(range(combinded2.shape[-1]),labels=['g']*2 + ['c']*2 + ['h']*2 + ['yhat']*3);"
      ],
      "id": "e03278f9-87a1-4668-97ff-883cdb9f03fd"
    },
    {
      "cell_type": "markdown",
      "metadata": {},
      "source": [
        "`-` 결국\n",
        "${\\boldsymbol g}_t\\to {\\boldsymbol c}_t \\to {\\boldsymbol h}_t \\to \\hat{\\boldsymbol y}$\n",
        "의 느낌이다. (${\\boldsymbol h}_t$를 계산하기 위해서는\n",
        "${\\boldsymbol c}_t$가 필요했고 ${\\boldsymbol c}_t$를 계산하기 위해서는\n",
        "${\\boldsymbol c}_{t-1}$과 ${\\boldsymbol g}_t$가 필요했음)\n",
        "\n",
        "-   ${\\boldsymbol h}_t= \\tanh({\\boldsymbol c}_t) \\odot {\\boldsymbol o}_t$\n",
        "-   ${\\boldsymbol c}_t ={\\boldsymbol c}_{t-1} \\odot {\\boldsymbol f}_t + {\\boldsymbol g}_{t} \\odot {\\boldsymbol i}_t$\n",
        "\n",
        "`-` ${\\boldsymbol g}_t,{\\boldsymbol c}_t,{\\boldsymbol h}_t$ 모두\n",
        "${\\boldsymbol x}_t$의 정보를 숙성시켜 가지고 있는 느낌이 든다.\n",
        "\n",
        "`-` ${\\boldsymbol g}_t$ 특징: 보통 -1,1 중 하나의 값을 가지도록 학습되어\n",
        "있다. (마치 RNN의 hidden node처럼!)\n",
        "\n",
        "-   $\\boldsymbol{g}_t = \\tanh({\\boldsymbol x}_t {\\bf W}_{ig} + {\\boldsymbol h}_{t-1} {\\bf W}_{hg}+ {\\boldsymbol b}_{ig}+{\\boldsymbol b}_{hg})$\n",
        "\n",
        "`-` ${\\boldsymbol c}_t$ 특징: ${\\boldsymbol g}_t$와 매우 비슷하지만 약간\n",
        "다른값을 가진다. 그래서 ${\\boldsymbol g}_t$와는 달리 -1,1 이외의 값도\n",
        "종종 등장."
      ],
      "id": "9469c1f1-fee4-4377-9745-c108fab4476c"
    },
    {
      "cell_type": "code",
      "execution_count": 249,
      "metadata": {},
      "outputs": [
        {
          "output_type": "stream",
          "name": "stdout",
          "text": [
            "first row: gt=tensor([ 0.9999, -0.9999]), ct=tensor([ 0.9647, -0.9984])\n",
            "second row: gt=tensor([ 0.9970, -0.9554]), ct=tensor([ 0.3592, -0.9373])"
          ]
        }
      ],
      "source": [
        "print(\"first row: gt={}, ct={}\".format(g[-8].data, cell[-8].data))\n",
        "print(\"second row: gt={}, ct={}\".format(g[-7].data, cell[-7].data))\n",
        "#g[-7], cell[-7]"
      ],
      "id": "5411fc29-dfec-4612-a321-5b3ea35a73c1"
    },
    {
      "cell_type": "markdown",
      "metadata": {},
      "source": [
        "`-` ${\\boldsymbol h}_t$ 특징: (1) ${\\boldsymbol c}_t$의 느낌이 있음\n",
        "하지만 약간의 변형이 있음. (2) -1~1 사이에의 값을 훨씬 다양하게 가진다.\n",
        "(tanh때문)"
      ],
      "id": "6c38fa0d-6565-4119-ada4-23c1548a0654"
    },
    {
      "cell_type": "code",
      "execution_count": 251,
      "metadata": {},
      "outputs": [
        {
          "output_type": "stream",
          "name": "stdout",
          "text": [
            "first row: gt=tensor([ 0.9999, -0.9999]), ct=tensor([ 0.9647, -0.9984]), ht=tensor([ 0.7370, -0.3323])\n",
            "second row: gt=tensor([ 0.9970, -0.9554]), ct=tensor([ 0.3592, -0.9373]), ht=tensor([ 0.0604, -0.6951])"
          ]
        }
      ],
      "source": [
        "print(\"first row: gt={}, ct={}, ht={}\".format(g[-8].data, cell[-8].data,h[-8].data))\n",
        "print(\"second row: gt={}, ct={}, ht={}\".format(g[-7].data, cell[-7].data,h[-7].data))\n",
        "#g[-7], cell[-7]"
      ],
      "id": "f5361016-3b77-4711-9447-686c1051b3ed"
    },
    {
      "cell_type": "markdown",
      "metadata": {},
      "source": [
        "`-` 예전의문 해결\n",
        "\n",
        "-   실험적으로 살펴보니 LSTM이 RNN보다 장기기억에 유리했음.\n",
        "-   그 이유: RRN은 ${\\boldsymbol h}_t$의 값이 -1 혹은 1로 결정되는\n",
        "    경우가 많았음. 그러나 경우에 따라서는 ${\\boldsymbol h}_t$이 -1~1의\n",
        "    값을 가지는 것이 문맥적 뉘앙스를 포착하기에는 유리한데 LSTM이 이러한\n",
        "    방식으로 학습되는 경우가 많았음.\n",
        "-   왜 LSTM의 ${\\boldsymbol h}_t$은 -1,1 이외의 값을 쉽게 가질 수\n",
        "    있는가? (1) gate들의 역할 (2) 마지막에 취해지는 tanh 때문\n",
        "\n",
        "## LSTM의 알고리즘 리뷰 I (수식위주)\n",
        "\n",
        "**(step1)** calculate ${\\tt ifgo}$\n",
        "\n",
        "${\\tt ifgo} = {\\boldsymbol x}_t \\big[{\\bf W}_{ii} | {\\bf W}_{if}| {\\bf W}_{ig} |{\\bf W}_{io}\\big] + {\\boldsymbol h}_{t-1} \\big[ {\\bf W}_{hi}|{\\bf W}_{hf} |{\\bf W}_{hg} | {\\bf W}_{ho} \\big] + bias$\n",
        "\n",
        "$=\\big[{\\boldsymbol x}_t{\\bf W}_{ii} + {\\boldsymbol h}_{t-1}{\\bf W}_{hi} ~\\big|~ {\\boldsymbol x}_t{\\bf W}_{if}+ {\\boldsymbol h}_{t-1}{\\bf W}_{hf}~ \\big|~ {\\boldsymbol x}_t{\\bf W}_{ig} + {\\boldsymbol h}_{t-1}{\\bf W}_{hg} ~\\big|~ {\\boldsymbol x}_t{\\bf W}_{io} + {\\boldsymbol h}_{t-1}{\\bf W}_{ho} \\big] + bias$\n",
        "\n",
        "참고: 위의 수식은 아래코드에 해당하는 부분\n",
        "\n",
        "``` python\n",
        "ifgo = xt @ lstm_cell.weight_ih.T +\\\n",
        "       ht @ lstm_cell.weight_hh.T +\\\n",
        "       lstm_cell.bias_ih + lstm_cell.bias_hh\n",
        "```\n",
        "\n",
        "**(step2)** decompose ${\\tt ifgo}$ and get ${\\boldsymbol i}_t$,\n",
        "${\\boldsymbol f}_t$, ${\\boldsymbol g}_t$, ${\\boldsymbol o}_t$\n",
        "\n",
        "${\\boldsymbol i}_t = \\sigma({\\boldsymbol x}_t {\\bf W}_{ii} + {\\boldsymbol h}_{t-1} {\\bf W}_{hi} +bias )$\n",
        "\n",
        "${\\boldsymbol f}_t = \\sigma({\\boldsymbol x}_t {\\bf W}_{if} + {\\boldsymbol h}_{t-1} {\\bf W}_{hf} +bias )$\n",
        "\n",
        "${\\boldsymbol g}_t = \\tanh({\\boldsymbol x}_t {\\bf W}_{ig} + {\\boldsymbol h}_{t-1} {\\bf W}_{hg} +bias )$\n",
        "\n",
        "${\\boldsymbol o}_t = \\sigma({\\boldsymbol x}_t {\\bf W}_{io} + {\\boldsymbol h}_{t-1} {\\bf W}_{ho} +bias )$\n",
        "\n",
        "**(step3)** calculate ${\\boldsymbol c}_t$ and ${\\boldsymbol h}_t$\n",
        "\n",
        "${\\boldsymbol c}_t = {\\boldsymbol i}_t \\odot {\\boldsymbol g}_t+ {\\boldsymbol f}_t \\odot {\\boldsymbol c}_{t-1}$\n",
        "\n",
        "${\\boldsymbol h}_t = \\tanh({\\boldsymbol o}_t \\odot {\\boldsymbol c}_t)$\n",
        "\n",
        "## LSTM의 알고리즘 리뷰 II (느낌위주)\n",
        "\n",
        "-   이해 및 암기를 돕기위해서 비유적으로 설명한 챕터입니다..\n",
        "\n",
        "`-` 느낌1: RNN이 콩물에서 간장을 한번에 숙성시키는 방법이라면 LSTM은\n",
        "콩물에서 간장을 3차로 나누어 숙성하는 느낌이다.\n",
        "\n",
        "-   콩물: ${\\boldsymbol x}_t$\n",
        "-   1차숙성: ${\\boldsymbol g}_t$\n",
        "-   2차숙성: ${\\boldsymbol c}_t$\n",
        "-   3차숙성: ${\\boldsymbol h}_t$\n",
        "\n",
        "`-` 느낌2: ${\\boldsymbol g}_t$에 대하여\n",
        "\n",
        "-   계산방법: ${\\boldsymbol x}_t$와 ${\\boldsymbol h}_{t-1}$를\n",
        "    ${\\bf W}_{ig}, {\\bf W}_{hg}$를 이용해 선형결합하고 $\\tanh$를 취한\n",
        "    결과\n",
        "-   RNN에서 간장을 만들던 그 수식에서 $h_t$를 $g_t$로 바꾼것\n",
        "-   크게 2가지의 의미를 가진다 (1) 과거와 현재의 결합 (2) 활성화함수\n",
        "    $\\tanh$를 적용\n",
        "\n",
        "`-` 느낌3: ${\\boldsymbol c}_t$에 대하여 (1)\n",
        "\n",
        "-   계산방법: ${\\boldsymbol g}_{t}$와 ${\\boldsymbol c}_{t-1}$를 요소별로\n",
        "    선택하고 더하는 과정\n",
        "-   $g_t$는 (1) 과거와 현재의 결합 (2) 활성화함수 tanh를 적용으로\n",
        "    나누어지는데 이중에서 (1) 과거와 현재의 정보를 결합하는 과정만\n",
        "    해당한다. 차이점은 요소별 선택 후 덧셈\n",
        "-   이러한 결합을 쓰는 이유? 게이트를 이용하여 과거와 현재의 정보를 제어\n",
        "    (일반적인 설명, 솔직히 내가 좋아하는 설명은 아님)\n",
        "\n",
        "`-` 느낌4: ${\\boldsymbol c}_t$에 대하여 (2) // ${\\boldsymbol c}_t$는 왜\n",
        "과거와 현재의 정보를 제어한다고 볼 수 있는가?\n",
        "\n",
        "$t=1$ 시점 계산과정관찰"
      ],
      "id": "93f1bebb-a8b6-4388-a8c5-12c4c4627835"
    },
    {
      "cell_type": "code",
      "execution_count": 266,
      "metadata": {},
      "outputs": [],
      "source": [
        "input_gate[1],g[1],forget_gate[1],cell[0]"
      ],
      "id": "51c3074a-c0f6-4215-b172-3ac2077a8c0e"
    },
    {
      "cell_type": "markdown",
      "metadata": {},
      "source": [
        "$[0.9,1.0] \\odot {\\boldsymbol g}_t + [1.0,0.0] \\odot {\\boldsymbol c}_{t-1}$\n",
        "\n",
        "-   forget_gate는 $c_{t-1}$의 첫번째 원소는 기억하고, 두번째 원소는\n",
        "    잊으라고 말하고 있음 // forget_gate는 과거($c_{t-1}$)의 정보를\n",
        "    얼마나 잊을지 (= 얼마나 기억할지) 를 결정한다고 해석할 수 있다.\n",
        "-   input_gate는 $g_{t}$의 첫번째 원소와 두번째 원소를 모두 기억하되\n",
        "    두번째 원소를 좀 더 중요하게 기억하라고 말하고 있음 // input_gate는\n",
        "    현재($g_{t}$)의 정보를 얼만큼 강하게 반영할지 결정한다.\n",
        "-   이 둘을 조합하면 ${\\boldsymbol c}_t$가 현재와 과거의 정보중 어떠한\n",
        "    정보를 더 중시하면서 기억할지 결정한다고 볼 수 있다.\n",
        "\n",
        "> 이 설명은 제가 좀 싫어해요, 싫어하는 이유는 (1) “기억의 정도를\n",
        "> 조절한다”와 “망각의 정도를 조절한다”는 사실 같은말임. 그래서\n",
        "> forget_gate의 용어가 모호함. (2) 기억과 망각을 조정하는 방식으로 꼭\n",
        "> gate의 개념을 사용해야 하는건 아님\n",
        "\n",
        "`-` 느낌5: ${\\boldsymbol c}_t$에 대하여 (3)\n",
        "\n",
        "-   사실상 LSTM 알고리즘의 꽃이라 할 수 있음.\n",
        "-   LSTM은 long short term memory의 약자임. 기존의 RNN은 장기기억을\n",
        "    활용함에 약점이 있는데 LSTM은 단기기억/장기기억 모두 잘 활용함.\n",
        "-   LSTM이 장기기억을 잘 활용하는 비법은 바로 ${\\boldsymbol c}_t$에\n",
        "    있다.\n",
        "\n",
        "`-` 느낌6: ${\\boldsymbol h}_t$에 대하여 - 계산방법:\n",
        "$\\tanh({\\boldsymbol c}_t)$를 요소별로 선택\n",
        "\n",
        "`-` RNN, LSTM의 변수들 비교 테이블\n",
        "\n",
        "|                          |        과거정보         |      현재정보       | 과거와 현재의 결합방식 |      활성화      |  느낌   |                                      비고                                       |\n",
        "|:---------:|:---------:|:---------:|:---------:|:---------:|:---------:|:---------:|\n",
        "| RNN-${\\boldsymbol h}_t$  | ${\\boldsymbol h}_{t-1}$ | ${\\boldsymbol x}_t$ |   $\\times$ $\\to$ $+$   |     $\\tanh$      |  간장   |                                                                                 |\n",
        "|                          |                         |                     |                        |                  |         |                                                                                 |\n",
        "| LSTM-${\\boldsymbol g}_t$ | ${\\boldsymbol h}_{t-1}$ | ${\\boldsymbol x}_t$ |   $\\times$ $\\to$ $+$   |     $\\tanh$      | 1차간장 |                                                                                 |\n",
        "| LSTM-${\\boldsymbol c}_t$ | ${\\boldsymbol c}_{t-1}$ | ${\\boldsymbol g}_t$ |   $\\odot$ $\\to$ $+$    |       None       | 2차간장 | gate를 열림정도를 판단할때 ${\\boldsymbol x}_t$와 ${\\boldsymbol h}_{t-1}$을 이용 |\n",
        "| LSTM-${\\boldsymbol h}_t$ |          None           | ${\\boldsymbol c}_t$ |          None          | $\\tanh$, $\\odot$ | 3차간장 | gate를 열림정도를 판단할때 ${\\boldsymbol x}_t$와 ${\\boldsymbol h}_{t-1}$을 이용 |\n",
        "\n",
        "-   RNN은 기억할 과거정보가 ${\\boldsymbol h}_{t-1}$ 하나이지만 LSTM은\n",
        "    ${\\boldsymbol c}_{t-1}$, ${\\boldsymbol h}_{t-1}$ 2개이다.\n",
        "\n",
        "`-` 알고리즘리뷰 :\n",
        "\n",
        "-   콩물,과거3차간장 $\\overset{\\times,+,\\tanh}{\\longrightarrow}$\n",
        "    현재1차간장\n",
        "-   현재1차간장, 과거2차간장 $\\overset{\\odot,+,\\tanh}{\\longrightarrow}$\n",
        "    현재2차간장\n",
        "-   현재2차간장 $\\overset{\\tanh,\\odot}{\\longrightarrow}$ 현재3차간장\n",
        "\n",
        "### LSTM이 강한이유\n",
        "\n",
        "`-` LSTM이 장기기억에 유리함. 그 이유는 input, forget, output gate 들이\n",
        "과거기억을 위한 역할을 하기 때문.\n",
        "\n",
        "-   비판: 아키텍처에 대한 이론적 근거는 없음. 장기기억을 위하여 꼭\n",
        "    LSTM같은 구조일 필요는 없음. (왜 3차간장을 만들때 tanh를 써야하는지?\n",
        "    게이트는 꼭3개이어야 하는지?)\n",
        "\n",
        "`-` 저는 사실 아까 살펴본 아래의 이유로 이해하고 있습니다.\n",
        "\n",
        "-   실험적으로 살펴보니 LSTM이 RNN보다 장기기억에 유리했음.\n",
        "-   그 이유: RRN은 ${\\boldsymbol h}_t$의 값이 -1 혹은 1로 결정되는\n",
        "    경우가 많았음. 그러나 경우에 따라서는 ${\\boldsymbol h}_t$이 -1~1의\n",
        "    값을 가지는 것이 문맥적 뉘앙스를 포착하기에는 유리한데 LSTM이 이러한\n",
        "    방식으로 학습되는 경우가 많았음.\n",
        "-   왜 LSTM의 ${\\boldsymbol h}_t$은 -1,1 이외의 값을 쉽게 가질 수\n",
        "    있는가? (1) gate들의 역할 (2) 마지막에 취해지는 tanh 때문\n",
        "\n",
        "## 참고자료들\n",
        "\n",
        "-   <https://colah.github.io/posts/2015-08-Understanding-LSTMs/>\n",
        "-   <https://pytorch.org/docs/stable/generated/torch.nn.LSTM.html>\n",
        "-   <https://arxiv.org/abs/1402.1128>"
      ],
      "id": "5362f0d5-ddbe-4351-aeff-d277ae4c34fe"
    }
  ],
  "nbformat": 4,
  "nbformat_minor": 5,
  "metadata": {
    "kernelspec": {
      "name": "python3",
      "display_name": "Python 3",
      "language": "python"
    },
    "language_info": {
      "name": "python",
      "codemirror_mode": {
        "name": "ipython",
        "version": "3"
      },
      "file_extension": ".py",
      "mimetype": "text/x-python",
      "nbconvert_exporter": "python",
      "pygments_lexer": "ipython3",
      "version": "3.7.15"
    }
  }
}