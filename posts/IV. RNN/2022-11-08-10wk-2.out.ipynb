{
  "cells": [
    {
      "cell_type": "markdown",
      "metadata": {},
      "source": [
        "# 10wk-2: 순환신경망 (3)\n",
        "\n",
        "최규빈  \n",
        "2022-11-08\n",
        "\n",
        "> RNN (1)– AbAcAd예제(2)\n",
        "\n",
        "# 강의영상\n",
        "\n",
        "> <https://youtube.com/playlist?list=PLQqh36zP38-wZO0M4cNFxymfrAumCpRM8>\n",
        "\n",
        "# import"
      ],
      "id": "1bb5c757-2a5d-4163-8b0a-9445cb52abdc"
    },
    {
      "cell_type": "code",
      "execution_count": 8,
      "metadata": {},
      "outputs": [],
      "source": [
        "import torch\n",
        "import numpy as np\n",
        "import pandas as pd\n",
        "import matplotlib.pyplot as plt\n",
        "import time "
      ],
      "id": "2eece48e-5748-475e-a5a9-a7060f5a8fdf"
    },
    {
      "cell_type": "markdown",
      "metadata": {},
      "source": [
        "# Define some funtions"
      ],
      "id": "f35253f3-b1f0-4bb5-aa1a-0c92b66e7bd3"
    },
    {
      "cell_type": "code",
      "execution_count": 130,
      "metadata": {},
      "outputs": [],
      "source": [
        "def f(txt,mapping):\n",
        "    return [mapping[key] for key in txt] \n",
        "soft = torch.nn.Softmax(dim=1)"
      ],
      "id": "c06f7544-de47-46e5-9956-059b626e4f0d"
    },
    {
      "cell_type": "markdown",
      "metadata": {},
      "source": [
        "# 예비학습: `net.parameters()`의 의미\n",
        "\n",
        "9월27일 강의노트 중 “`net.parameters()`의 의미?”를 설명한다.\n",
        "\n",
        "`-` iterator, generator의 개념필요\n",
        "\n",
        "-   <https://guebin.github.io/IP2022/2022/06/06/(14주차)-6월6일.html>,\n",
        "    클래스공부 8단계 참고\n",
        "\n",
        "`-` 탐구시작: 네트워크 생성"
      ],
      "id": "d02de111-3ba3-40f1-9f17-83fe6785e504"
    },
    {
      "cell_type": "code",
      "execution_count": 186,
      "metadata": {},
      "outputs": [],
      "source": [
        "net = torch.nn.Linear(in_features=1,out_features=1)\n",
        "net.weight"
      ],
      "id": "0539ceed-9598-4835-85da-c68ed84df70d"
    },
    {
      "cell_type": "code",
      "execution_count": 187,
      "metadata": {},
      "outputs": [],
      "source": [
        "net.bias"
      ],
      "id": "e0d984a8-2e89-4ec3-9868-1039d7aeea57"
    },
    {
      "cell_type": "markdown",
      "metadata": {},
      "source": [
        "`-` torch.optim.SGD? 를 확인하면 params에 대한설명에 아래와 같이\n",
        "되어있음\n",
        "\n",
        "    params (iterable): iterable of parameters to optimize or dicts defining\n",
        "            parameter groups\n",
        "\n",
        "`-` 설명을 읽어보면 params에 iterable object를 넣으라고 되어있음\n",
        "(iterable object는 숨겨진 명령어로 `__iter__`를 가지고 있는 오브젝트를\n",
        "의미)"
      ],
      "id": "a13e4c74-3f34-402a-bcb8-8636f1f47ab8"
    },
    {
      "cell_type": "code",
      "execution_count": 188,
      "metadata": {},
      "outputs": [],
      "source": [
        "set(dir(net.parameters())) & {'__iter__'}"
      ],
      "id": "b6409ab2-6a69-47e3-9d96-4ceb2a62e3e9"
    },
    {
      "cell_type": "markdown",
      "metadata": {},
      "source": [
        "`-` 무슨의미?"
      ],
      "id": "c100a197-f305-4b30-bbfe-fb28c2841dee"
    },
    {
      "cell_type": "code",
      "execution_count": 189,
      "metadata": {},
      "outputs": [
        {
          "output_type": "stream",
          "name": "stdout",
          "text": [
            "Parameter containing:\n",
            "tensor([[0.4607]], requires_grad=True)\n",
            "Parameter containing:\n",
            "tensor([-0.1656], requires_grad=True)"
          ]
        }
      ],
      "source": [
        "for param in net.parameters():\n",
        "    print(param)"
      ],
      "id": "1a8913a2-61a6-4a19-b839-910b9688a7c1"
    },
    {
      "cell_type": "markdown",
      "metadata": {},
      "source": [
        "`-` 그냥 이건 이런느낌인데?"
      ],
      "id": "e53550ba-b320-4281-8355-aa30101f990a"
    },
    {
      "cell_type": "code",
      "execution_count": 192,
      "metadata": {},
      "outputs": [
        {
          "output_type": "stream",
          "name": "stdout",
          "text": [
            "Parameter containing:\n",
            "tensor([[0.4607]], requires_grad=True)\n",
            "Parameter containing:\n",
            "tensor([-0.1656], requires_grad=True)"
          ]
        }
      ],
      "source": [
        "for param in [net.weight,net.bias]:\n",
        "    print(param)"
      ],
      "id": "29a0a97c-2d89-41bb-8238-490b814b647f"
    },
    {
      "cell_type": "markdown",
      "metadata": {},
      "source": [
        "결론: `net.parameters()`는 net오브젝트에서 학습할 파라메터를 모두 모아\n",
        "리스트같은 iterable object로 만드는 함수라 이해할 수 있다.\n",
        "\n",
        "`-` 응용예제1"
      ],
      "id": "673e3cb0-20fc-4803-bb7e-649638b0a076"
    },
    {
      "cell_type": "code",
      "execution_count": 9,
      "metadata": {},
      "outputs": [],
      "source": [
        "df = pd.read_csv(\"https://raw.githubusercontent.com/guebin/DL2022/master/posts/II.%20DNN/2022-09-22-regression.csv\") \n",
        "x=torch.tensor(df.x).float().reshape(100,1)\n",
        "y=torch.tensor(df.y).float().reshape(100,1)"
      ],
      "id": "c22dc68d-a65b-405a-b05b-b346b0cb09dc"
    },
    {
      "cell_type": "code",
      "execution_count": 196,
      "metadata": {},
      "outputs": [],
      "source": [
        "b = torch.tensor(-5.0,requires_grad=True)\n",
        "w = torch.tensor(10.0,requires_grad=True)\n",
        "optimizr = torch.optim.SGD([b,w],lr=1/10) ## 이렇게 전달하면 됩니당!!"
      ],
      "id": "7c8795b3-23f6-4b5d-b0f1-29e53a038a84"
    },
    {
      "cell_type": "code",
      "execution_count": 197,
      "metadata": {},
      "outputs": [
        {
          "output_type": "display_data",
          "metadata": {},
          "data": {
            "image/png": "[encoded data removed]"
          }
        }
      ],
      "source": [
        "plt.plot(x,y,'o')\n",
        "plt.plot(x,(w*x+b).data,'--')"
      ],
      "id": "6d3e86dd-4b82-4b9b-b48f-b9fe8aba9a27"
    },
    {
      "cell_type": "code",
      "execution_count": 198,
      "metadata": {},
      "outputs": [],
      "source": [
        "for epoc in range(30):\n",
        "    ## step1\n",
        "    yhat = b+ w*x \n",
        "    ## step2\n",
        "    loss = torch.mean((y-yhat)**2)\n",
        "    ## step3\n",
        "    loss.backward()\n",
        "    ## step4 \n",
        "    optimizr.step()\n",
        "    optimizr.zero_grad()"
      ],
      "id": "f727a7e0-5ff1-44a1-8eb9-6d8c8570b242"
    },
    {
      "cell_type": "code",
      "execution_count": 199,
      "metadata": {},
      "outputs": [
        {
          "output_type": "display_data",
          "metadata": {},
          "data": {
            "image/png": "[encoded data removed]"
          }
        }
      ],
      "source": [
        "plt.plot(x,y,'o')\n",
        "plt.plot(x,(w*x+b).data,'--')"
      ],
      "id": "9c945e57-3556-4a0e-b71a-4d3d7734704a"
    },
    {
      "cell_type": "markdown",
      "metadata": {},
      "source": [
        "`-` 응용예제2"
      ],
      "id": "6d4d7d14-c8ec-4405-ab20-7f0a94c9b176"
    },
    {
      "cell_type": "code",
      "execution_count": 10,
      "metadata": {},
      "outputs": [],
      "source": [
        "df = pd.read_csv(\"https://raw.githubusercontent.com/guebin/DL2022/master/posts/II.%20DNN/2022-09-22-regression.csv\") \n",
        "x = torch.tensor(df.x).float().reshape(100,1)\n",
        "y = torch.tensor(df.y).float().reshape(100,1)\n",
        "X = torch.concat([torch.ones_like(x),x],axis=1)"
      ],
      "id": "1b14e5f4-42c6-4581-af46-7a1cdf4e79b4"
    },
    {
      "cell_type": "code",
      "execution_count": 202,
      "metadata": {},
      "outputs": [],
      "source": [
        "What = torch.tensor([[-5.0],[10.0]],requires_grad=True)\n",
        "optimizr = torch.optim.SGD([What],lr=1/10) # What은 iterable 하지 않지만 [What]은 iterable 함"
      ],
      "id": "df8d7e2c-ff78-4c5f-a6c8-2e3cc9beff5e"
    },
    {
      "cell_type": "code",
      "execution_count": 203,
      "metadata": {},
      "outputs": [],
      "source": [
        "What"
      ],
      "id": "848de8aa-c650-4017-b812-2bc7ef2e9d83"
    },
    {
      "cell_type": "code",
      "execution_count": 204,
      "metadata": {},
      "outputs": [
        {
          "output_type": "display_data",
          "metadata": {},
          "data": {
            "image/png": "[encoded data removed]"
          }
        }
      ],
      "source": [
        "plt.plot(x,y,'o')\n",
        "plt.plot(x,(X@What).data,'--')"
      ],
      "id": "2b01ba7b-e728-4889-88a3-4c3c85156ca2"
    },
    {
      "cell_type": "code",
      "execution_count": 205,
      "metadata": {},
      "outputs": [],
      "source": [
        "for epoc in range(30):\n",
        "    ## step1\n",
        "    yhat = X@What \n",
        "    ## step2 \n",
        "    loss = torch.mean((y-yhat)**2)\n",
        "    ## step3\n",
        "    loss.backward()\n",
        "    ## step4 \n",
        "    optimizr.step()\n",
        "    optimizr.zero_grad() "
      ],
      "id": "7a7973f0-ce2b-45dd-bc4b-0be702a20941"
    },
    {
      "cell_type": "code",
      "execution_count": 206,
      "metadata": {},
      "outputs": [
        {
          "output_type": "display_data",
          "metadata": {},
          "data": {
            "image/png": "[encoded data removed]"
          }
        }
      ],
      "source": [
        "plt.plot(x,y,'o')\n",
        "plt.plot(x,(X@What).data,'--')"
      ],
      "id": "c5e1d85d-c1b6-4eb2-bea0-5ce2c97d9225"
    },
    {
      "cell_type": "markdown",
      "metadata": {},
      "source": [
        "# Exam4: AbAcAd (2)\n",
        "\n",
        "## data\n",
        "\n",
        "`-` 기존의 정리방식"
      ],
      "id": "7f0b73b0-0a4b-4f8b-8efc-5c999f19cd66"
    },
    {
      "cell_type": "code",
      "execution_count": 207,
      "metadata": {},
      "outputs": [],
      "source": [
        "txt = list('AbAcAd')*100\n",
        "txt[:10]"
      ],
      "id": "81f721ac-7bc9-41c6-b129-e00c1ce0e3eb"
    },
    {
      "cell_type": "code",
      "execution_count": 208,
      "metadata": {},
      "outputs": [],
      "source": [
        "txt_x = txt[:-1]\n",
        "txt_y = txt[1:]"
      ],
      "id": "3a6aa4b9-4bf1-4077-9568-ea4756fcdc7b"
    },
    {
      "cell_type": "code",
      "execution_count": 209,
      "metadata": {},
      "outputs": [],
      "source": [
        "txt_x[:5],txt_y[:5]"
      ],
      "id": "278974f0-0792-4712-b52e-2b6fc659d139"
    },
    {
      "cell_type": "code",
      "execution_count": 210,
      "metadata": {},
      "outputs": [],
      "source": [
        "x = torch.tensor(f(txt_x,{'A':0,'b':1,'c':2,'d':3}))\n",
        "y = torch.tensor(f(txt_y,{'A':0,'b':1,'c':2,'d':3}))"
      ],
      "id": "a6f772ca-268e-4eb4-b29a-3d8d26375f48"
    },
    {
      "cell_type": "code",
      "execution_count": 211,
      "metadata": {},
      "outputs": [],
      "source": [
        "x[:8],y[:8]"
      ],
      "id": "6b2e005b-23b7-440b-abb7-a4ed9f45c7ff"
    },
    {
      "cell_type": "markdown",
      "metadata": {},
      "source": [
        "`-` 이번엔 원핫인코딩형태까지 미리 정리하자. (임베딩 레이어 안쓸예정)"
      ],
      "id": "821cb2b4-d3d6-4a4d-a022-fda2cda82954"
    },
    {
      "cell_type": "code",
      "execution_count": 215,
      "metadata": {},
      "outputs": [],
      "source": [
        "x= torch.nn.functional.one_hot(x).float()\n",
        "y= torch.nn.functional.one_hot(y).float()"
      ],
      "id": "0f8acf01-ce7a-412d-b47d-07c8006eecbc"
    },
    {
      "cell_type": "code",
      "execution_count": 216,
      "metadata": {},
      "outputs": [],
      "source": [
        "x,y"
      ],
      "id": "81df630f-2995-4dea-b9dd-67ca80d58587"
    },
    {
      "cell_type": "markdown",
      "metadata": {},
      "source": [
        "## 실패했던 풀이: 구현1\n",
        "\n",
        "`-` 저번시간의 실패한 풀이\n",
        "\n",
        "``` python\n",
        "torch.manual_seed(43052)\n",
        "net = torch.nn.Sequential(\n",
        "    torch.nn.Embedding(num_embeddings=4,embedding_dim=2),\n",
        "    torch.nn.Tanh(),\n",
        "    torch.nn.Linear(in_features=2,out_features=4)\n",
        ")\n",
        "loss_fn = torch.nn.CrossEntropyLoss()\n",
        "optimizr = torch.optim.Adam(net.parameters())\n",
        "```\n",
        "\n",
        "`-` Tanh까지만 클래스로 바꾸어서 구현\n",
        "\n",
        "-   클래스를 이용하는 방법:\n",
        "    <https://guebin.github.io/DL2022/2022/11/01/(9주차)-11월1일.html#로지스틱-모형을-이용한-풀이>"
      ],
      "id": "899950e0-7db3-4f35-bb7c-a1de7f42e98d"
    },
    {
      "cell_type": "code",
      "execution_count": 221,
      "metadata": {},
      "outputs": [],
      "source": [
        "class Hnet(torch.nn.Module):\n",
        "    def __init__(self):\n",
        "        super().__init__()\n",
        "        self.i2h = torch.nn.Linear(in_features=4,out_features=2)\n",
        "        self.tanh = torch.nn.Tanh()\n",
        "    def forward(self,x):\n",
        "        hidden = self.tanh(self.i2h(x))\n",
        "        return hidden"
      ],
      "id": "bfd6c647-4079-43ac-b66a-452c434d20b1"
    },
    {
      "cell_type": "markdown",
      "metadata": {},
      "source": [
        "`-` for문돌릴준비"
      ],
      "id": "b333a8ed-3a6b-440c-905e-de52ffe0ff78"
    },
    {
      "cell_type": "code",
      "execution_count": 227,
      "metadata": {},
      "outputs": [],
      "source": [
        "torch.manual_seed(43052) \n",
        "hnet = Hnet()\n",
        "linr = torch.nn.Linear(in_features=2,out_features=4)\n",
        "loss_fn = torch.nn.CrossEntropyLoss() \n",
        "optimizr = torch.optim.Adam(list(hnet.parameters())+list(linr.parameters()))"
      ],
      "id": "4faac001-a67e-4263-840b-a3e01a7c8735"
    },
    {
      "cell_type": "markdown",
      "metadata": {},
      "source": [
        "`-` for문: 20회반복"
      ],
      "id": "31cf3069-b97b-447f-a1c3-7ca7a7f834af"
    },
    {
      "cell_type": "code",
      "execution_count": 63,
      "metadata": {},
      "outputs": [],
      "source": [
        "for epoc in range(20): \n",
        "    ## 1 \n",
        "    ## 2 \n",
        "    hidden = hnet(x) \n",
        "    output = linr(hidden)\n",
        "    loss = loss_fn(output,y)\n",
        "    ## 3 \n",
        "    loss.backward()\n",
        "    ## 4 \n",
        "    optimizr.step()\n",
        "    optimizr.zero_grad()"
      ],
      "id": "0f85a47a-4ed1-4513-a2dc-8234d766ce77"
    },
    {
      "cell_type": "markdown",
      "metadata": {},
      "source": [
        "`-` linr(hnet(x)) 적합결과 \\<– 숫자체크"
      ],
      "id": "74535447-9584-4477-9954-67bdeae8fcee"
    },
    {
      "cell_type": "code",
      "execution_count": 64,
      "metadata": {},
      "outputs": [],
      "source": [
        "linr(hnet(x))"
      ],
      "id": "bb1fae17-9f3f-4f0a-a553-09e9de79fcf7"
    },
    {
      "cell_type": "markdown",
      "metadata": {},
      "source": [
        "## 실패했던 풀이: 구현2\n",
        "\n",
        "`-` Tanh까지 구현한 클래스"
      ],
      "id": "e5da554e-9dae-4f76-bbbc-5a3ab2d69773"
    },
    {
      "cell_type": "code",
      "execution_count": 11,
      "metadata": {},
      "outputs": [],
      "source": [
        "# class Hnet(torch.nn.Module):\n",
        "#     def __init__(self):\n",
        "#         super().__init__()\n",
        "#         self.i2h = torch.nn.Linear(in_features=4,out_features=2)\n",
        "#         self.tanh = torch.nn.Tanh()\n",
        "#     def forward(self,x):\n",
        "#         hidden = self.tanh(self.i2h(x))\n",
        "#         return hidden"
      ],
      "id": "291f1927-9567-4ba7-bc6b-3b6580ea379f"
    },
    {
      "cell_type": "markdown",
      "metadata": {},
      "source": [
        "`-` for문돌릴준비"
      ],
      "id": "e8d1ad28-a0eb-4fbf-ab11-681641684e5d"
    },
    {
      "cell_type": "code",
      "execution_count": 66,
      "metadata": {},
      "outputs": [],
      "source": [
        "torch.manual_seed(43052) \n",
        "hnet = Hnet()\n",
        "linr = torch.nn.Linear(in_features=2,out_features=4)\n",
        "loss_fn = torch.nn.CrossEntropyLoss() \n",
        "optimizr = torch.optim.Adam(list(hnet.parameters())+list(linr.parameters()))"
      ],
      "id": "4b5d34be-acca-4e8f-af62-70f5ba33f76c"
    },
    {
      "cell_type": "markdown",
      "metadata": {},
      "source": [
        "`-` for문: 20회 반복"
      ],
      "id": "36bd196a-5654-433f-ac98-e832a208edd4"
    },
    {
      "cell_type": "code",
      "execution_count": 78,
      "metadata": {},
      "outputs": [],
      "source": [
        "T = len(x) \n",
        "for epoc in range(20): \n",
        "    ## 1~2\n",
        "    loss = 0 \n",
        "    for t in range(T):\n",
        "        xt,yt = x[[t]], y[[t]]\n",
        "        ht = hnet(xt) \n",
        "        ot = linr(ht) \n",
        "        loss = loss + loss_fn(ot,yt) \n",
        "    ## 3 \n",
        "    loss.backward()\n",
        "    ## 4 \n",
        "    optimizr.step()\n",
        "    optimizr.zero_grad()"
      ],
      "id": "1cfa7d46-32bb-4e1b-b335-031d08603530"
    },
    {
      "cell_type": "markdown",
      "metadata": {},
      "source": [
        "`-` linr(hnet(x)) 적합결과 \\<– 숫자체크"
      ],
      "id": "db31136f-7c20-458c-a9c5-6910e77e39a5"
    },
    {
      "cell_type": "code",
      "execution_count": 79,
      "metadata": {},
      "outputs": [],
      "source": [
        "linr(hnet(x))"
      ],
      "id": "9d2b19fa-d86e-4e2a-911a-3dd217cfcfb6"
    },
    {
      "cell_type": "markdown",
      "metadata": {},
      "source": [
        "## 순환신경망의 아이디어\n",
        "\n",
        "### ***모티브***\n",
        "\n",
        "***(예비생각1) ${\\boldsymbol h}$에 대한 이해***\n",
        "\n",
        "${\\boldsymbol h}$는 사실 문자열 ’abcd’들을 숫자로 바꾼 또 다른 형식의\n",
        "숫자표현이라 해석할 수 있음. 즉 원핫인코딩과 다른 또 다른 형태의\n",
        "숫자표현이라 해석할 수 있다. (사실 원핫인코딩보다 약간 더 (1) 액기스만\n",
        "남은 느낌 + (2) 숙성된 느낌을 준다) - (why1) h는 “학습을 용이하게 하기\n",
        "위해서 x를 적당히 선형적으로 전처리한 상태”라고 이해가능 - (why2) 실제로\n",
        "예시를 살펴보면 그러했다.\n",
        "\n",
        "결론: 사실 ${\\boldsymbol h}$는 잘 숙성되어있는 입력정보 ${\\bf X}$ 그\n",
        "자체로 해석 할 수 있다.\n",
        "\n",
        "***(예비생각2) [수백년전통을 이어가는\n",
        "방법](https://www.joongang.co.kr/article/24087690#home)***\n",
        "\n",
        "    “1리터에 500만원에 낙찰된 적 있습니다.”\n",
        "    “2kg에 1억원 정도 추산됩니다.”\n",
        "    “20여 종 종자장을 블렌딩해 100ml에 5000만원씩 분양 예정입니다.”\n",
        "\n",
        "    모두 씨간장(종자장) 가격에 관한 실제 일화다.\n",
        "\n",
        "    (중략...)\n",
        "\n",
        "    위스키나 와인처럼 블렌딩을 하기도 한다. \n",
        "    새로 담근 간장에 씨간장을 넣거나, 씨간장독에 햇간장을 넣어 맛을 유지하기도 한다. \n",
        "    이를 겹장(또는 덧장)이라 한다. \n",
        "    몇몇 종갓집에선 씨간장 잇기를 몇백 년째 해오고 있다. \n",
        "    매년 새로 간장을 담가야 이어갈 수 있으니 불씨 꺼트리지 않는 것처럼 굉장히 어려운 일이다.\n",
        "    이렇게 하는 이유는 집집마다 내려오는 고유 장맛을 잃지 않기 위함이다. \n",
        "    씨간장이란 그만큼 소중한 주방의 자산이며 정체성이다.\n",
        "\n",
        "덧장: 새로운간장을 만들때, 옛날간장을 섞어서 만듬\n",
        "\n",
        "`*` 기존방식 -\n",
        "$\\text{콩물} \\overset{\\text{숙성}}{\\longrightarrow} \\text{간장}$\n",
        "\n",
        "`*` 수백년 전통의 간장맛을 유지하는 방식\n",
        "\n",
        "-   $\\text{콩물}_1 \\overset{\\text{숙성}}{\\longrightarrow} \\text{간장}_1$\n",
        "-   $\\text{콩물}_2, \\text{간장}_1 \\overset{\\text{숙성}}{\\longrightarrow} \\text{간장}_2$\n",
        "-   $\\text{콩물}_3, \\text{간장}_2 \\overset{\\text{숙성}}{\\longrightarrow} \\text{간장}_3$\n",
        "\n",
        "`*` 수백년 전통의 간장맛을 유지하면서 조리를 한다면?\n",
        "\n",
        "-   $\\text{콩물}_1 \\overset{\\text{숙성}}{\\longrightarrow} \\text{간장}_1 \\overset{\\text{조리}}{\\longrightarrow} \\text{간장계란밥}_1$\n",
        "-   $\\text{콩물}_2, \\text{간장}_1 \\overset{\\text{숙성}}{\\longrightarrow} \\text{간장}_2 \\overset{\\text{조리}}{\\longrightarrow} \\text{간장계란밥}_2$\n",
        "-   $\\text{콩물}_3, \\text{간장}_2 \\overset{\\text{숙성}}{\\longrightarrow} \\text{간장}_3 \\overset{\\text{조리}}{\\longrightarrow} \\text{간장계란밥}_3$\n",
        "\n",
        "점점 맛있는 간장계란밥이 탄생함\n",
        "\n",
        "`*` 알고리즘의 편의상 아래와 같이 생각해도 무방\n",
        "\n",
        "-   $\\text{콩물}_1, \\text{간장}_0 \\overset{\\text{숙성}}{\\longrightarrow} \\text{간장}_1 \\overset{\\text{조리}}{\\longrightarrow} \\text{간장계란밥}_1$,\n",
        "    $\\text{간장}_0=\\text{맹물}$\n",
        "-   $\\text{콩물}_2, \\text{간장}_1 \\overset{\\text{숙성}}{\\longrightarrow} \\text{간장}_2 \\overset{\\text{조리}}{\\longrightarrow} \\text{간장계란밥}_2$\n",
        "-   $\\text{콩물}_3, \\text{간장}_2 \\overset{\\text{숙성}}{\\longrightarrow} \\text{간장}_3 \\overset{\\text{조리}}{\\longrightarrow} \\text{간장계란밥}_3$\n",
        "\n",
        "***아이디어***\n",
        "\n",
        "`*` 수백년 전통의 간장맛을 유지하면서 조리하는 과정을 수식으로?\n",
        "\n",
        "-   $\\boldsymbol{x}_1, \\boldsymbol{h}_0 \\overset{\\text{숙성}}{\\longrightarrow} \\boldsymbol{h}_1 \\overset{\\text{조리}}{\\longrightarrow} \\hat{\\boldsymbol y}_1$\n",
        "-   $\\boldsymbol{x}_2, \\boldsymbol{h}_1 \\overset{\\text{숙성}}{\\longrightarrow} \\boldsymbol{h}_2 \\overset{\\text{조리}}{\\longrightarrow} \\hat{\\boldsymbol y}_2$\n",
        "-   $\\boldsymbol{x}_3, \\boldsymbol{h}_2 \\overset{\\text{숙성}}{\\longrightarrow} \\boldsymbol{h}_3 \\overset{\\text{조리}}{\\longrightarrow} \\hat{\\boldsymbol y}_3$\n",
        "\n",
        "이제 우리가 배울것은 (1) “$\\text{콩물}_{t}$”와 “$\\text{간장}_{t-1}$”로\n",
        "“$\\text{간장}_t$”를 `숙성`하는 방법 (2) “$\\text{간장}_t$”로\n",
        "“$\\text{간장계란밥}_t$를 `조리`하는 방법이다\n",
        "\n",
        "즉 `숙성`담당 네트워크와 `조리`담당 네트워크를 각각 만들어 학습하면\n",
        "된다.\n",
        "\n",
        "### ***알고리즘***\n",
        "\n",
        "**세부적인 알고리즘 ($t=0,1,2,\\dots$에 대하여 한줄 한줄 쓴 알고리즘)**\n",
        "\n",
        "`(1)` $t=0$\n",
        "\n",
        "${\\boldsymbol h}_0=[[0,0]]$ \\<– $\\text{간장}_0$은 맹물로 초기화\n",
        "\n",
        "`(2)` $t=1$\n",
        "\n",
        "${\\boldsymbol h}_1= \\tanh({\\boldsymbol x}_1{\\bf W}_{ih}+{\\boldsymbol h}_0{\\bf W}_{hh}+{\\boldsymbol b}_{ih}+{\\boldsymbol b}_{hh})$ -\n",
        "${\\boldsymbol x}_1$: (1,4) - ${\\bf W}_{ih}$: (4,2) -\n",
        "${\\boldsymbol h}_0$: (1,2) - ${\\bf W}_{hh}$: (2,2) -\n",
        "${\\boldsymbol b}_{ih}$: (1,2) - ${\\boldsymbol b}_{hh}$: (1,2)\n",
        "\n",
        "${\\boldsymbol o}_1= {\\bf W}_{ho}{\\boldsymbol h}_1+{\\boldsymbol b}_{ho}$\n",
        "\n",
        "$\\hat{\\boldsymbol y}_1 = \\text{soft}({\\boldsymbol o}_1)$\n",
        "\n",
        "`(3)` $t=2$ \\<– 여기서부터는 $t=2$와 비슷\n",
        "\n",
        "------------------------------------------------------------------------\n",
        "\n",
        "**좀 더 일반화된 알고리즘**\n",
        "\n",
        "***(ver1)***\n",
        "\n",
        "init $\\boldsymbol{h}_0$\n",
        "\n",
        "for $t$ in $1:T$\n",
        "\n",
        "-   ${\\boldsymbol h}_t= \\tanh({\\boldsymbol x}_t{\\bf W}_{ih}+{\\boldsymbol h}_{t-1}{\\bf W}_{hh}+{\\boldsymbol b}_{ih}+{\\boldsymbol b}_{hh})$\n",
        "-   ${\\boldsymbol o}_t= {\\bf W}_{ho}{\\boldsymbol h}_1+{\\boldsymbol b}_{ho}$\n",
        "-   $\\hat{\\boldsymbol y}_t = \\text{soft}({\\boldsymbol o}_t)$\n",
        "\n",
        "***(ver2)***\n",
        "\n",
        "``` python\n",
        "init hidden\n",
        "\n",
        "for t in 1:T \n",
        "    hidden = tanh(linr(x)+linr(hidden))\n",
        "    output = linr(hidden)\n",
        "    yt_hat = soft(output)\n",
        "```\n",
        "\n",
        "-   코드상으로는 $h_t$와 $h_{t-1}$의 구분이 교모하게 사라진다. (그래서\n",
        "    오히려 좋아)\n",
        "\n",
        "------------------------------------------------------------------------\n",
        "\n",
        "***전체알고리즘은 대충 아래와 같은 형식으로 구현될 수 있음***\n",
        "\n",
        "``` python\n",
        "class rNNCell(torch.nn.Module):\n",
        "    def __init__(self):\n",
        "        super().__init__()\n",
        "        linr1 = torch.nn.Linear(?,?) \n",
        "        linr2 = torch.nn.Linear(?,?) \n",
        "        tanh = torch.nn.Tanh()\n",
        "    def forward(self,x,hidden):\n",
        "        hidden = tanh(lrnr1(x)+lrnr2(hidden))\n",
        "        return hidden\n",
        "\n",
        "init ht\n",
        "rnncell = rNNCell()\n",
        "\n",
        "for t in 1:T \n",
        "    xt, yt = x[[t]], y[[t]] \n",
        "    ht = rnncell(xt, ht)\n",
        "    ot = linr(ht) \n",
        "    loss = loss + loss_fn(ot, yt)\n",
        "```\n",
        "\n",
        "## 순환신경망 구현1 (with rNNCell class, hidden node 2) – 성공\n",
        "\n",
        "`(1)` 숙성담당 네트워크"
      ],
      "id": "7f0071f8-9e22-428e-bdc7-731b98d4b86e"
    },
    {
      "cell_type": "code",
      "execution_count": 85,
      "metadata": {},
      "outputs": [],
      "source": [
        "class rNNCell(torch.nn.Module):\n",
        "    def __init__(self):\n",
        "        super().__init__()\n",
        "        self.i2h = torch.nn.Linear(4,2) \n",
        "        self.h2h = torch.nn.Linear(2,2) \n",
        "        self.tanh = torch.nn.Tanh()\n",
        "    def forward(self,x,hidden):\n",
        "        hidden = self.tanh(self.i2h(x)+self.h2h(hidden))\n",
        "        return hidden"
      ],
      "id": "5587a858-d70e-48f8-984d-835c2cb705e9"
    },
    {
      "cell_type": "code",
      "execution_count": 86,
      "metadata": {},
      "outputs": [],
      "source": [
        "torch.manual_seed(43052)\n",
        "rnncell = rNNCell() # 숙성담당 네트워크 "
      ],
      "id": "de156d68-cf75-467a-bfad-caece08400d8"
    },
    {
      "cell_type": "markdown",
      "metadata": {},
      "source": [
        "`(2)` 조리담당 네트워크"
      ],
      "id": "cdc770b0-5742-4bce-a66a-fffe494b4575"
    },
    {
      "cell_type": "code",
      "execution_count": 87,
      "metadata": {},
      "outputs": [],
      "source": [
        "torch.manual_seed(43052)\n",
        "cook = torch.nn.Linear(2,4) "
      ],
      "id": "4e411657-af50-4a9a-b158-16ea6e476d93"
    },
    {
      "cell_type": "markdown",
      "metadata": {},
      "source": [
        "`(3)` 손실함수, 옵티마이저 설계"
      ],
      "id": "4766312c-7e56-4137-b61a-c8fea3c56a3b"
    },
    {
      "cell_type": "code",
      "execution_count": 88,
      "metadata": {},
      "outputs": [],
      "source": [
        "loss_fn = torch.nn.CrossEntropyLoss() \n",
        "optimizr = torch.optim.Adam(list(rnncell.parameters())+list(cook.parameters()))"
      ],
      "id": "849d9b25-5b4d-43b6-b186-5278f90b649a"
    },
    {
      "cell_type": "markdown",
      "metadata": {},
      "source": [
        "`(4)` 학습 (6분정도 걸림)"
      ],
      "id": "221fcb3c-ad9d-4c45-be0e-7aa24fd73e3a"
    },
    {
      "cell_type": "code",
      "execution_count": 89,
      "metadata": {},
      "outputs": [],
      "source": [
        "T = len(x) \n",
        "for epoc in range(5000): \n",
        "    ## 1~2\n",
        "    loss = 0 \n",
        "    ht = torch.zeros(1,2) \n",
        "    for t in range(T):\n",
        "        xt,yt = x[[t]], y[[t]]\n",
        "        ht = rnncell(xt,ht) \n",
        "        ot = cook(ht) \n",
        "        loss = loss + loss_fn(ot,yt) \n",
        "    ## 3 \n",
        "    loss.backward()\n",
        "    ## 4 \n",
        "    optimizr.step()\n",
        "    optimizr.zero_grad()"
      ],
      "id": "58ddf624-260e-4a71-8062-10b54571245f"
    },
    {
      "cell_type": "markdown",
      "metadata": {},
      "source": [
        "`(5)` 시각화"
      ],
      "id": "d1484538-285f-4659-91fa-079aa45d5917"
    },
    {
      "cell_type": "code",
      "execution_count": 92,
      "metadata": {},
      "outputs": [],
      "source": [
        "T = len(x) \n",
        "hidden = torch.zeros(T,2) # 599년치 h를 담을 변수 \n",
        "_water = torch.zeros(1,2) # 맹물 \n",
        "hidden[[0]] = rnncell(x[[0]],_water) \n",
        "for t in range(1,T):\n",
        "    hidden[[t]] = rnncell(x[[t]],hidden[[t-1]]) "
      ],
      "id": "6e8c581b-8c85-47d7-85e0-fe62a5dbad42"
    },
    {
      "cell_type": "code",
      "execution_count": 96,
      "metadata": {},
      "outputs": [],
      "source": [
        "yhat = soft(cook(hidden))\n",
        "yhat"
      ],
      "id": "1d970f35-5c96-455e-aa07-551b69073c06"
    },
    {
      "cell_type": "code",
      "execution_count": 98,
      "metadata": {},
      "outputs": [
        {
          "output_type": "display_data",
          "metadata": {},
          "data": {
            "image/png": "[encoded data removed]"
          }
        }
      ],
      "source": [
        "plt.matshow(yhat.data[-15:])"
      ],
      "id": "6010e2e6-f535-4172-a9ff-27b068dff6f2"
    },
    {
      "cell_type": "markdown",
      "metadata": {},
      "source": [
        "-   아주 특이한 특징: yhat\\[:15\\], yhat\\[:-15\\] 의 적합결과가 다르다\n",
        "-   왜? 간장계란밥은 간장이 중요한데, 간장은 시간이 갈수록\n",
        "    맛있어지니까..\n",
        "\n",
        "## 순환신경망 구현2 (with RNNCell, hidden node 2) – 성공\n",
        "\n",
        "ref: https://pytorch.org/docs/stable/generated/torch.nn.RNNCell.html\n",
        "\n",
        "`(1)` 숙성네트워크\n",
        "\n",
        "선언"
      ],
      "id": "b052e05b-810c-4f3e-8a2d-6c91ff95937e"
    },
    {
      "cell_type": "code",
      "execution_count": 118,
      "metadata": {},
      "outputs": [],
      "source": [
        "rnncell = torch.nn.RNNCell(4,2)"
      ],
      "id": "74f2dd61-3d39-47df-9b99-70f68d69947f"
    },
    {
      "cell_type": "markdown",
      "metadata": {},
      "source": [
        "가중치초기화 (순환신경망 구현1과 동일하도록)"
      ],
      "id": "dd2a7326-2fe4-49eb-a884-9ddeca3e8d44"
    },
    {
      "cell_type": "code",
      "execution_count": 121,
      "metadata": {},
      "outputs": [],
      "source": [
        "torch.manual_seed(43052)\n",
        "_rnncell = rNNCell()"
      ],
      "id": "df303ace-91ad-4cd4-af92-5837ce53b4a7"
    },
    {
      "cell_type": "code",
      "execution_count": 122,
      "metadata": {},
      "outputs": [],
      "source": [
        "rnncell.weight_ih.data = _rnncell.i2h.weight.data \n",
        "rnncell.weight_hh.data = _rnncell.h2h.weight.data \n",
        "rnncell.bias_hh.data = _rnncell.h2h.bias.data \n",
        "rnncell.bias_ih.data = _rnncell.i2h.bias.data "
      ],
      "id": "6c469858-1fe4-497a-9bbb-bd454259f8b8"
    },
    {
      "cell_type": "markdown",
      "metadata": {},
      "source": [
        "`(2)` 조리담당 네트워크"
      ],
      "id": "cd6eb66a-b663-427d-8e8e-7f7394773a78"
    },
    {
      "cell_type": "code",
      "execution_count": 123,
      "metadata": {},
      "outputs": [],
      "source": [
        "torch.manual_seed(43052)\n",
        "cook = torch.nn.Linear(2,4) "
      ],
      "id": "a33bcb59-ec67-4b6d-94b1-3237a83f235c"
    },
    {
      "cell_type": "markdown",
      "metadata": {},
      "source": [
        "`(3)` 손실함수, 옵티마이저 설계"
      ],
      "id": "70a63755-9bb3-46de-90e8-8745bce1fe86"
    },
    {
      "cell_type": "code",
      "execution_count": 124,
      "metadata": {},
      "outputs": [],
      "source": [
        "loss_fn = torch.nn.CrossEntropyLoss() \n",
        "optimizr = torch.optim.Adam(list(rnncell.parameters())+list(cook.parameters()))"
      ],
      "id": "1a8c6706-f2a3-4b17-855a-46ca041718d7"
    },
    {
      "cell_type": "markdown",
      "metadata": {},
      "source": [
        "`(4)` 학습 (6분정도 걸림)"
      ],
      "id": "29b9a1af-a136-4dd8-94ff-1312018dab37"
    },
    {
      "cell_type": "code",
      "execution_count": 125,
      "metadata": {},
      "outputs": [],
      "source": [
        "T = len(x) \n",
        "for epoc in range(5000): \n",
        "    ## 1~2\n",
        "    loss = 0 \n",
        "    ht = torch.zeros(1,2) \n",
        "    for t in range(T):\n",
        "        xt,yt = x[[t]], y[[t]]\n",
        "        ht = rnncell(xt,ht) \n",
        "        ot = cook(ht) \n",
        "        loss = loss + loss_fn(ot,yt) \n",
        "    ## 3 \n",
        "    loss.backward()\n",
        "    ## 4 \n",
        "    optimizr.step()\n",
        "    optimizr.zero_grad()"
      ],
      "id": "6ab1409b-5c46-4884-b8fd-9f9db3686308"
    },
    {
      "cell_type": "markdown",
      "metadata": {},
      "source": [
        "`(5)` 시각화"
      ],
      "id": "ec9e9736-1655-4a14-97fd-36b3c9e11ba8"
    },
    {
      "cell_type": "code",
      "execution_count": 126,
      "metadata": {},
      "outputs": [],
      "source": [
        "T = len(x) \n",
        "hidden = torch.zeros(T,2) # 599년치 h를 담을 변수 \n",
        "_water = torch.zeros(1,2) # 맹물 \n",
        "hidden[[0]] = rnncell(x[[0]],_water) \n",
        "for t in range(1,T):\n",
        "    hidden[[t]] = rnncell(x[[t]],hidden[[t-1]]) "
      ],
      "id": "148bda82-a63e-4a7c-8b89-10465313073a"
    },
    {
      "cell_type": "code",
      "execution_count": 127,
      "metadata": {},
      "outputs": [],
      "source": [
        "yhat = soft(cook(hidden))\n",
        "yhat"
      ],
      "id": "811d26dc-8080-4be9-ba6c-fb95dde17e50"
    },
    {
      "cell_type": "code",
      "execution_count": 128,
      "metadata": {},
      "outputs": [
        {
          "output_type": "display_data",
          "metadata": {},
          "data": {
            "image/png": "[encoded data removed]"
          }
        }
      ],
      "source": [
        "plt.matshow(yhat.data[-15:])"
      ],
      "id": "087953c9-c9fd-4fdc-8335-2cb7251c5b12"
    },
    {
      "cell_type": "markdown",
      "metadata": {},
      "source": [
        "# 숙제\n",
        "\n",
        "아래와 같은 자료가 있다고 가정하자."
      ],
      "id": "1cc89268-0174-4e91-afb4-7c1744e7212b"
    },
    {
      "cell_type": "code",
      "execution_count": 229,
      "metadata": {},
      "outputs": [],
      "source": [
        "x = torch.rand([1000,1])*2-1\n",
        "y = 3.14 + 6.28*x + torch.randn([1000,1]) "
      ],
      "id": "0f62d0dc-ab6b-420c-8b3d-ef3142051c83"
    },
    {
      "cell_type": "code",
      "execution_count": 230,
      "metadata": {},
      "outputs": [
        {
          "output_type": "display_data",
          "metadata": {},
          "data": {
            "image/png": "[encoded data removed]"
          }
        }
      ],
      "source": [
        "plt.plot(x,y,'o',alpha=0.1)"
      ],
      "id": "24e92601-fe77-41b8-a0cc-2285a9a78cac"
    },
    {
      "cell_type": "markdown",
      "metadata": {},
      "source": [
        "아래의 모형을 가정하고 $\\alpha_0,\\alpha_1,\\beta_0,\\beta_1$을 파이토치를\n",
        "이용하여 추정하고자한다.\n",
        "\n",
        "-   $y_i = \\alpha_0+\\beta_0+ \\beta_1x_i + \\alpha_1x_i + \\epsilon_i \\quad \\epsilon_i \\sim N(0,\\sigma^2)$\n",
        "\n",
        "아래는 이를 수행하기 위한 코드이다. ???를 적절히 채워서 코드를 완성하라."
      ],
      "id": "c4dc75e8-a02f-42f1-950e-e85c1a023ddc"
    },
    {
      "cell_type": "code",
      "execution_count": 238,
      "metadata": {},
      "outputs": [],
      "source": [
        "alpha0 = torch.tensor([0.5], requires_grad=True)\n",
        "alpha1 = torch.tensor([[0.5]], requires_grad=True)\n",
        "beta0 = torch.tensor([0.7], requires_grad=True)\n",
        "beta1 = torch.tensor([[0.7]], requires_grad=True)"
      ],
      "id": "33d95157-aaeb-427a-af18-adb9691de977"
    },
    {
      "cell_type": "code",
      "execution_count": 242,
      "metadata": {},
      "outputs": [],
      "source": [
        "loss_fn = torch.nn.MSELoss()\n",
        "optimizr = torch.optim.SGD(????, lr=1/10)"
      ],
      "id": "8e79521a-32b5-479d-a18d-319903a2ede0"
    },
    {
      "cell_type": "code",
      "execution_count": 243,
      "metadata": {},
      "outputs": [],
      "source": [
        "for epoc in range(30):\n",
        "    ## 1\n",
        "    yhat = alpha0 + beta0 + alpha1*x + beta1*x \n",
        "    ## 2 \n",
        "    loss = loss_fn(yhat,y) \n",
        "    ## 3 \n",
        "    loss.backward()\n",
        "    ## 4 \n",
        "    optimizr.step()\n",
        "    optimizr.zero_grad()"
      ],
      "id": "87ef9d49-57b5-499f-bf32-36c3b2b50c76"
    },
    {
      "cell_type": "code",
      "execution_count": 245,
      "metadata": {},
      "outputs": [
        {
          "output_type": "stream",
          "name": "stdout",
          "text": [
            "tensor([3.1058], grad_fn=<AddBackward0>)"
          ]
        }
      ],
      "source": [
        "print(alpha0+beta0)"
      ],
      "id": "d1748dad-756d-4924-8c4d-42c81de94490"
    },
    {
      "cell_type": "markdown",
      "metadata": {},
      "source": [
        "-   3.14 근처"
      ],
      "id": "1258c6b3-e1bd-4fb9-bfe3-69525208ebbc"
    },
    {
      "cell_type": "code",
      "execution_count": 246,
      "metadata": {},
      "outputs": [
        {
          "output_type": "stream",
          "name": "stdout",
          "text": [
            "tensor([[6.2665]], grad_fn=<AddBackward0>)"
          ]
        }
      ],
      "source": [
        "print(alpha1+beta1)"
      ],
      "id": "8c5eb855-49e8-48e2-a484-559c6440bcbd"
    },
    {
      "cell_type": "markdown",
      "metadata": {},
      "source": [
        "-   6.28 근처"
      ],
      "id": "560c74d7-b6a9-4671-a556-e10043adf0ad"
    }
  ],
  "nbformat": 4,
  "nbformat_minor": 5,
  "metadata": {
    "kernelspec": {
      "name": "python3",
      "display_name": "Python 3",
      "language": "python"
    },
    "language_info": {
      "name": "python",
      "codemirror_mode": {
        "name": "ipython",
        "version": "3"
      },
      "file_extension": ".py",
      "mimetype": "text/x-python",
      "nbconvert_exporter": "python",
      "pygments_lexer": "ipython3",
      "version": "3.7.15"
    }
  }
}