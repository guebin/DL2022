{
  "cells": [
    {
      "cell_type": "markdown",
      "metadata": {},
      "source": [
        "# 11wk-1: 순환신경망 (4)\n",
        "\n",
        "최규빈  \n",
        "2022-11-10\n",
        "\n",
        "> RNN (2)– AbAcAd예제(3)\n",
        "\n",
        "# 강의영상\n",
        "\n",
        "> <https://youtube.com/playlist?list=PLQqh36zP38-zRWSBjuvzsjPe6JxnHO4AX>\n",
        "\n",
        "# import"
      ],
      "id": "158a463c-f1fb-4694-bb5e-d1f0c0ce9c54"
    },
    {
      "cell_type": "code",
      "execution_count": 1,
      "metadata": {},
      "outputs": [],
      "source": [
        "import torch\n",
        "import numpy as np\n",
        "import matplotlib.pyplot as plt"
      ],
      "id": "53642aa5-28c1-4a58-a86e-7b574b02a957"
    },
    {
      "cell_type": "markdown",
      "metadata": {},
      "source": [
        "# Define some funtions"
      ],
      "id": "deefd900-d9c6-45dc-8936-999defb1eb6a"
    },
    {
      "cell_type": "code",
      "execution_count": 2,
      "metadata": {},
      "outputs": [],
      "source": [
        "def f(txt,mapping):\n",
        "    return [mapping[key] for key in txt] \n",
        "soft = torch.nn.Softmax(dim=1)"
      ],
      "id": "a9b33d03-ba9c-442b-9aac-6b9f1aa566d2"
    },
    {
      "cell_type": "markdown",
      "metadata": {},
      "source": [
        "# Exam4: AbAcAd (3)\n",
        "\n",
        "## data\n",
        "\n",
        "`-` 기존의 정리방식"
      ],
      "id": "c7600b57-66d6-4cab-b857-cf91c598fc76"
    },
    {
      "cell_type": "code",
      "execution_count": 3,
      "metadata": {},
      "outputs": [],
      "source": [
        "txt = list('AbAcAd')*100\n",
        "txt[:10]"
      ],
      "id": "2782a6ae-6b96-47f8-b4c7-b3d2fffe8e38"
    },
    {
      "cell_type": "code",
      "execution_count": 4,
      "metadata": {},
      "outputs": [],
      "source": [
        "txt_x = txt[:-1]\n",
        "txt_y = txt[1:]"
      ],
      "id": "2e6aee34-413a-42c1-bdc1-4fb371b80302"
    },
    {
      "cell_type": "code",
      "execution_count": 5,
      "metadata": {},
      "outputs": [],
      "source": [
        "txt_x[:5],txt_y[:5]"
      ],
      "id": "0d28250b-1c4a-456d-a863-20bcb369469e"
    },
    {
      "cell_type": "code",
      "execution_count": 6,
      "metadata": {},
      "outputs": [],
      "source": [
        "x = torch.nn.functional.one_hot(torch.tensor(f(txt_x,{'A':0,'b':1,'c':2,'d':3}))).float()\n",
        "y = torch.nn.functional.one_hot(torch.tensor(f(txt_y,{'A':0,'b':1,'c':2,'d':3}))).float()"
      ],
      "id": "007a051e-83f9-48d8-a43a-6f8fef8d1a6b"
    },
    {
      "cell_type": "code",
      "execution_count": 7,
      "metadata": {},
      "outputs": [],
      "source": [
        "x,y"
      ],
      "id": "8e47a71b-8efe-46e7-a7dc-13391880d7cb"
    },
    {
      "cell_type": "markdown",
      "metadata": {},
      "source": [
        "## 순환신경망 구현2 (with RNNCell, hidden node 2)\n",
        "\n",
        "ref: <https://pytorch.org/docs/stable/generated/torch.nn.RNNCell.html>\n",
        "\n",
        "`(1)` 숙성네트워크"
      ],
      "id": "3f31e1d2-6332-4957-a0c6-d5826a464a0a"
    },
    {
      "cell_type": "code",
      "execution_count": 8,
      "metadata": {},
      "outputs": [],
      "source": [
        "torch.manual_seed(43052)\n",
        "rnncell = torch.nn.RNNCell(4,2) # x:(n,4) h:(n,2) "
      ],
      "id": "32af0e3e-dfcb-4dce-aae2-6d6fab1d8313"
    },
    {
      "cell_type": "markdown",
      "metadata": {},
      "source": [
        "`(2)` 조리네트워크"
      ],
      "id": "02a8691b-a676-4f4e-a4ff-042c3ad75398"
    },
    {
      "cell_type": "code",
      "execution_count": 9,
      "metadata": {},
      "outputs": [],
      "source": [
        "torch.manual_seed(43052)\n",
        "cook = torch.nn.Linear(2,4) # 숙성된 2차원의 단어를 다시 4차원으로 바꿔줘야지 나중에 softmax취할 수 있음"
      ],
      "id": "dcc7e7b0-a8e6-433a-8fe6-ed1ce01c51b2"
    },
    {
      "cell_type": "markdown",
      "metadata": {},
      "source": [
        "`(3)` 손실함수와 옵티마이저"
      ],
      "id": "dacd8773-eab3-46f9-9751-3009f8e2b289"
    },
    {
      "cell_type": "code",
      "execution_count": 10,
      "metadata": {},
      "outputs": [],
      "source": [
        "loss_fn = torch.nn.CrossEntropyLoss()\n",
        "optimizr = torch.optim.Adam(list(rnncell.parameters())+list(cook.parameters()))"
      ],
      "id": "647dd964-a13d-41f9-b9ee-457a33241ba0"
    },
    {
      "cell_type": "markdown",
      "metadata": {},
      "source": [
        "`(4)` 학습"
      ],
      "id": "0b66eaba-8398-4d9a-80e5-55df7de6141d"
    },
    {
      "cell_type": "code",
      "execution_count": 11,
      "metadata": {},
      "outputs": [],
      "source": [
        "T = len(x) \n",
        "for epoc in range(5000):\n",
        "    ## 1~2\n",
        "    loss = 0 \n",
        "    ht = torch.zeros(1,2) \n",
        "    for t in range(T):\n",
        "        xt,yt = x[[t]], y[[t]]\n",
        "        ht = rnncell(xt,ht)\n",
        "        ot = cook(ht)\n",
        "        loss = loss + loss_fn(ot,yt) \n",
        "    ## 3 \n",
        "    loss.backward()\n",
        "    ## 4 \n",
        "    optimizr.step()\n",
        "    optimizr.zero_grad()"
      ],
      "id": "dc3a3d2a-b890-460c-95ac-9b740b88fb66"
    },
    {
      "cell_type": "markdown",
      "metadata": {},
      "source": [
        "`(5)` 시각화"
      ],
      "id": "f38eb952-a7ec-4ecf-8c63-99061c64c422"
    },
    {
      "cell_type": "code",
      "execution_count": 12,
      "metadata": {},
      "outputs": [],
      "source": [
        "hidden = torch.zeros(T,2) "
      ],
      "id": "777b5567-2077-4146-98d7-5830ca35103d"
    },
    {
      "cell_type": "code",
      "execution_count": 13,
      "metadata": {},
      "outputs": [],
      "source": [
        "# t=0 \n",
        "_water = torch.zeros(1,2)\n",
        "hidden[[0]] = rnncell(x[[0]],_water)\n",
        "# t=1~T \n",
        "for t in range(1,T):\n",
        "    hidden[[t]] = rnncell(x[[t]],hidden[[t-1]])"
      ],
      "id": "be7d87d2-5bf2-4638-892c-9dacc573ea89"
    },
    {
      "cell_type": "code",
      "execution_count": 14,
      "metadata": {},
      "outputs": [],
      "source": [
        "yhat = soft(cook(hidden))\n",
        "yhat"
      ],
      "id": "f276d67e-be2a-4f73-bf70-8ea1e80e272e"
    },
    {
      "cell_type": "code",
      "execution_count": 15,
      "metadata": {},
      "outputs": [
        {
          "output_type": "display_data",
          "metadata": {},
          "data": {
            "image/png": "[encoded data removed]"
          }
        }
      ],
      "source": [
        "plt.matshow(yhat[:15].data,cmap='bwr')"
      ],
      "id": "9de802b5-1799-4d8b-88bf-0414a8700907"
    },
    {
      "cell_type": "code",
      "execution_count": 16,
      "metadata": {},
      "outputs": [
        {
          "output_type": "display_data",
          "metadata": {},
          "data": {
            "image/png": "[encoded data removed]"
          }
        }
      ],
      "source": [
        "plt.matshow(yhat[-15:].data,cmap='bwr')"
      ],
      "id": "e52bde43-0443-44a1-8de2-5aac95242841"
    },
    {
      "cell_type": "markdown",
      "metadata": {},
      "source": [
        "## 순환신경망 구현3 (with RNN, hidden node 2) – 성공\n",
        "\n",
        "(예비학습)\n",
        "\n",
        "`-` 네트워크학습이후 yhat을 구하려면 번거로웠음\n",
        "\n",
        "``` python\n",
        "hidden = torch.zeros(T,2) \n",
        "_water = torch.zeros(1,2)\n",
        "hidden[[0]] = rnncell(x[[0]],_water)\n",
        "for t in range(1,T):\n",
        "    hidden[[t]] = rnncell(x[[t]],hidden[[t-1]])\n",
        "yhat = soft(cook(hidden))\n",
        "```\n",
        "\n",
        "`-` 이렇게 하면 쉽게(?) 구할 수 있음"
      ],
      "id": "3a6072f0-faa0-43ca-81e4-10976aa0b458"
    },
    {
      "cell_type": "code",
      "execution_count": 17,
      "metadata": {},
      "outputs": [],
      "source": [
        "rnn = torch.nn.RNN(4,2)"
      ],
      "id": "343c746a-9355-4dcb-8f05-0f9c6258dc0a"
    },
    {
      "cell_type": "code",
      "execution_count": 18,
      "metadata": {},
      "outputs": [],
      "source": [
        "rnn.weight_hh_l0.data = rnncell.weight_hh.data \n",
        "rnn.weight_ih_l0.data = rnncell.weight_ih.data\n",
        "rnn.bias_hh_l0.data = rnncell.bias_hh.data\n",
        "rnn.bias_ih_l0.data = rnncell.bias_ih.data"
      ],
      "id": "d1d9b622-4f57-4c45-b075-697e29dfbc85"
    },
    {
      "cell_type": "markdown",
      "metadata": {},
      "source": [
        "`-` rnn(x,\\_water)의 결과는 (1) 599년치 간장 (2) 599번째 간장 이다"
      ],
      "id": "c0b2dcbd-f913-4f69-89f9-8798f474c7fc"
    },
    {
      "cell_type": "code",
      "execution_count": 19,
      "metadata": {},
      "outputs": [],
      "source": [
        "rnn(x,_water), hidden"
      ],
      "id": "804465fe-8039-4579-b280-ae00fb670dd4"
    },
    {
      "cell_type": "code",
      "execution_count": 20,
      "metadata": {},
      "outputs": [],
      "source": [
        "soft(cook(rnn(x,_water)[0]))"
      ],
      "id": "9d2772f0-db7d-4219-b61f-6cc32da465df"
    },
    {
      "cell_type": "markdown",
      "metadata": {},
      "source": [
        "***(예비학습결론) torch.nn.RNN(4,2)는 torch.nn.RNNCell(4,2)의 batch\n",
        "버전이다. (for문이 포함된 버전이다)***\n",
        "\n",
        "------------------------------------------------------------------------\n",
        "\n",
        "torch.nn.RNN(4,2)를 이용하여 구현하자.\n",
        "\n",
        "`(1)` 숙성네트워크\n",
        "\n",
        "선언"
      ],
      "id": "d4615136-c06d-49f0-a8cd-33bfbafd3066"
    },
    {
      "cell_type": "code",
      "execution_count": 21,
      "metadata": {},
      "outputs": [],
      "source": [
        "rnn = torch.nn.RNN(4,2)"
      ],
      "id": "631cd15a-a140-427a-a65d-933342bcc1a2"
    },
    {
      "cell_type": "markdown",
      "metadata": {},
      "source": [
        "가중치초기화"
      ],
      "id": "80a5b588-aa34-42f7-8c5c-d16c00f35642"
    },
    {
      "cell_type": "code",
      "execution_count": 22,
      "metadata": {},
      "outputs": [],
      "source": [
        "torch.manual_seed(43052)\n",
        "_rnncell = torch.nn.RNNCell(4,2)"
      ],
      "id": "aa63141f-8d36-4092-8b16-40c9d237b1cf"
    },
    {
      "cell_type": "code",
      "execution_count": 23,
      "metadata": {},
      "outputs": [],
      "source": [
        "rnn.weight_hh_l0.data = _rnncell.weight_hh.data \n",
        "rnn.weight_ih_l0.data = _rnncell.weight_ih.data\n",
        "rnn.bias_hh_l0.data = _rnncell.bias_hh.data\n",
        "rnn.bias_ih_l0.data = _rnncell.bias_ih.data"
      ],
      "id": "572522b1-ecc1-49e4-9c47-a9813e7ac5b2"
    },
    {
      "cell_type": "markdown",
      "metadata": {},
      "source": [
        "`(2)` 조리네트워크"
      ],
      "id": "559f955c-a88d-45a5-b243-310a6a0f8a9d"
    },
    {
      "cell_type": "code",
      "execution_count": 24,
      "metadata": {},
      "outputs": [],
      "source": [
        "torch.manual_seed(43052)\n",
        "cook = torch.nn.Linear(2,4) "
      ],
      "id": "414f264b-8d2f-41e6-8380-bb7ac0a3edc5"
    },
    {
      "cell_type": "markdown",
      "metadata": {},
      "source": [
        "`(3)` 손실함수와 옵티마이저"
      ],
      "id": "066aa5ae-4c4b-4f37-9ed9-b36308115c8d"
    },
    {
      "cell_type": "code",
      "execution_count": 25,
      "metadata": {},
      "outputs": [],
      "source": [
        "loss_fn = torch.nn.CrossEntropyLoss()\n",
        "optimizr = torch.optim.Adam(list(rnn.parameters())+list(cook.parameters()))"
      ],
      "id": "a8e8a0fe-2a1e-43bd-a15a-5efcedefa74c"
    },
    {
      "cell_type": "markdown",
      "metadata": {},
      "source": [
        "`(4)` 학습"
      ],
      "id": "2da96d7e-8a5e-4ae0-89ff-05ed969e5349"
    },
    {
      "cell_type": "code",
      "execution_count": 26,
      "metadata": {},
      "outputs": [],
      "source": [
        "_water = torch.zeros(1,2) \n",
        "for epoc in range(5000):\n",
        "    ## 1 \n",
        "    hidden,hT = rnn(x,_water)\n",
        "    output = cook(hidden) \n",
        "    ## 2 \n",
        "    loss = loss_fn(output,y)\n",
        "    ## 3 \n",
        "    loss.backward()\n",
        "    ## 4 \n",
        "    optimizr.step()\n",
        "    optimizr.zero_grad()"
      ],
      "id": "ed19620e-f845-4110-9f7d-8f39d4a89081"
    },
    {
      "cell_type": "markdown",
      "metadata": {},
      "source": [
        "`(5)` 시각화1: yhat"
      ],
      "id": "cf5e1e8b-e47d-4873-8183-6e3a3592cffb"
    },
    {
      "cell_type": "code",
      "execution_count": 27,
      "metadata": {},
      "outputs": [],
      "source": [
        "yhat = soft(output)"
      ],
      "id": "ed5cf72a-4616-4d61-9b4c-7ac2de95e2b5"
    },
    {
      "cell_type": "code",
      "execution_count": 28,
      "metadata": {},
      "outputs": [
        {
          "output_type": "display_data",
          "metadata": {},
          "data": {
            "image/png": "[encoded data removed]"
          }
        }
      ],
      "source": [
        "plt.matshow(yhat.data[:15],cmap='bwr')"
      ],
      "id": "8e08d4ef-6ef3-48d1-a4db-848342ef7b39"
    },
    {
      "cell_type": "markdown",
      "metadata": {},
      "source": [
        "-   처음은 좀 틀렸음 ㅎㅎ"
      ],
      "id": "c4dacb2b-102d-48d5-958b-008e51eda050"
    },
    {
      "cell_type": "code",
      "execution_count": 29,
      "metadata": {},
      "outputs": [
        {
          "output_type": "display_data",
          "metadata": {},
          "data": {
            "image/png": "[encoded data removed]"
          }
        }
      ],
      "source": [
        "plt.matshow(yhat.data[-15:],cmap='bwr')"
      ],
      "id": "eb80d35f-9eec-47fe-a494-e935f124eefe"
    },
    {
      "cell_type": "markdown",
      "metadata": {},
      "source": [
        "-   뒤에는 잘맞음\n",
        "\n",
        "**실전팁: `_water` 대신에 `hT`를 대입 (사실 큰 차이는 없음)**"
      ],
      "id": "1685ebac-9e91-488e-9f20-c55601ee88a0"
    },
    {
      "cell_type": "code",
      "execution_count": 30,
      "metadata": {},
      "outputs": [],
      "source": [
        "rnn(x[:6],_water),rnn(x[:6],hT)"
      ],
      "id": "abb578d5-aa3c-4284-b9d7-dcb569fe5ceb"
    },
    {
      "cell_type": "markdown",
      "metadata": {},
      "source": [
        "`(6)` 시각화2: hidden, yhat"
      ],
      "id": "31966f6e-3942-400e-9214-274816349717"
    },
    {
      "cell_type": "code",
      "execution_count": 31,
      "metadata": {},
      "outputs": [],
      "source": [
        "combinded = torch.concat([hidden,yhat],axis=1)"
      ],
      "id": "0c82d954-218e-4efb-b777-dddbb8fcc72a"
    },
    {
      "cell_type": "code",
      "execution_count": 32,
      "metadata": {},
      "outputs": [
        {
          "output_type": "display_data",
          "metadata": {},
          "data": {
            "image/png": "[encoded data removed]"
          }
        }
      ],
      "source": [
        "plt.matshow(combinded[-15:].data,cmap='bwr')"
      ],
      "id": "755a7e9c-e319-47a1-94be-f9207506c830"
    },
    {
      "cell_type": "markdown",
      "metadata": {},
      "source": [
        "-   히든노드의 해석이 어려움.\n",
        "\n",
        "## 순환신경망 구현4 (with RNN, hidden node 3) – 성공\n",
        "\n",
        "`(1)` 숙성네트워크~ `(2)` 조리네트워크"
      ],
      "id": "1af96170-e67a-4002-a962-16ec66bf8dd3"
    },
    {
      "cell_type": "code",
      "execution_count": 33,
      "metadata": {},
      "outputs": [],
      "source": [
        "torch.manual_seed(2) #1 \n",
        "rnn = torch.nn.RNN(4,3) \n",
        "cook = torch.nn.Linear(3,4) "
      ],
      "id": "336f1525-dc47-45eb-9025-51cd05bed4ff"
    },
    {
      "cell_type": "markdown",
      "metadata": {},
      "source": [
        "`(3)` 손실함수와 옵티마이저"
      ],
      "id": "a57ac9f0-641c-4532-97e5-59408395a45b"
    },
    {
      "cell_type": "code",
      "execution_count": 34,
      "metadata": {},
      "outputs": [],
      "source": [
        "loss_fn = torch.nn.CrossEntropyLoss()\n",
        "optimizr = torch.optim.Adam(list(rnn.parameters())+list(cook.parameters()))"
      ],
      "id": "3ddef63e-e7b9-40b3-a670-1ab9847e6fd3"
    },
    {
      "cell_type": "markdown",
      "metadata": {},
      "source": [
        "`(4)` 학습"
      ],
      "id": "bf69a87a-f659-48b2-aef4-ae12de29c79d"
    },
    {
      "cell_type": "code",
      "execution_count": 35,
      "metadata": {},
      "outputs": [],
      "source": [
        "_water = torch.zeros(1,3) \n",
        "for epoc in range(5000):\n",
        "    ## 1\n",
        "    hidden,hT = rnn(x,_water) \n",
        "    output = cook(hidden) \n",
        "    ## 2 \n",
        "    loss = loss_fn(output,y) \n",
        "    ## 3 \n",
        "    loss.backward()\n",
        "    ## 4 \n",
        "    optimizr.step()\n",
        "    optimizr.zero_grad()"
      ],
      "id": "e7c81bd1-37d1-4590-887c-9fa575e27dfb"
    },
    {
      "cell_type": "markdown",
      "metadata": {},
      "source": [
        "`(5)` 시각화1: yhat"
      ],
      "id": "feac09f3-005e-4deb-9232-4ac5a20aa886"
    },
    {
      "cell_type": "code",
      "execution_count": 36,
      "metadata": {},
      "outputs": [],
      "source": [
        "yhat = soft(output)"
      ],
      "id": "c5e83951-23d7-4271-ac7d-25ac4a0c542b"
    },
    {
      "cell_type": "code",
      "execution_count": 37,
      "metadata": {},
      "outputs": [
        {
          "output_type": "display_data",
          "metadata": {},
          "data": {
            "image/png": "[encoded data removed]"
          }
        }
      ],
      "source": [
        "plt.matshow(yhat[-15:].data,cmap='bwr')"
      ],
      "id": "091fb1ca-cadb-464d-b708-2dcbc80ff909"
    },
    {
      "cell_type": "markdown",
      "metadata": {},
      "source": [
        "`(6)` 시각화2: hidden, yhat"
      ],
      "id": "0be73b6d-b83f-40ac-b632-4cc350d3d533"
    },
    {
      "cell_type": "code",
      "execution_count": 38,
      "metadata": {},
      "outputs": [],
      "source": [
        "combinded = torch.concat([hidden,yhat],axis=1)"
      ],
      "id": "0893abfc-7033-46dd-80d7-38759a9fce75"
    },
    {
      "cell_type": "code",
      "execution_count": 39,
      "metadata": {},
      "outputs": [
        {
          "output_type": "display_data",
          "metadata": {},
          "data": {
            "image/png": "[encoded data removed]"
          }
        }
      ],
      "source": [
        "plt.matshow(combinded[-15:].data,cmap='bwr')"
      ],
      "id": "92de31dd-5e6c-427b-a246-0a51e67c46c4"
    },
    {
      "cell_type": "markdown",
      "metadata": {},
      "source": [
        "-   세번째 히든노드 = 대소문자를 구분\n",
        "-   1,2 히든노드 = bcd를 구분\n",
        "\n",
        "# HW: hello 예제\n",
        "\n",
        "아래와 같이 hello가 반복되는 자료가 있다고 하자."
      ],
      "id": "0efd25f0-98e9-43ef-93fc-ae41ec07140a"
    },
    {
      "cell_type": "code",
      "execution_count": 40,
      "metadata": {},
      "outputs": [],
      "source": [
        "txt = list('hello')*100\n",
        "txt[:10]"
      ],
      "id": "18edaa73-fe15-40da-8a4c-253263705556"
    },
    {
      "cell_type": "code",
      "execution_count": 41,
      "metadata": {},
      "outputs": [],
      "source": [
        "txt_x = txt[:-1]\n",
        "txt_y = txt[1:]"
      ],
      "id": "16889440-861e-45f4-9a45-3c9e44cde4a7"
    },
    {
      "cell_type": "code",
      "execution_count": 42,
      "metadata": {},
      "outputs": [],
      "source": [
        "txt_x[:5],txt_y[:5]"
      ],
      "id": "71bc32ad-f04a-4e13-a128-420d997802a1"
    },
    {
      "cell_type": "code",
      "execution_count": 43,
      "metadata": {},
      "outputs": [],
      "source": [
        "x = torch.nn.functional.one_hot(torch.tensor(f(txt_x,{'h':0,'e':1,'l':2,'o':3}))).float()\n",
        "y = torch.nn.functional.one_hot(torch.tensor(f(txt_y,{'h':0,'e':1,'l':2,'o':3}))).float()"
      ],
      "id": "8dfc8d01-2a58-46e6-90e8-bd499fb56979"
    },
    {
      "cell_type": "code",
      "execution_count": 44,
      "metadata": {},
      "outputs": [],
      "source": [
        "x,y"
      ],
      "id": "53e6d829-dbf1-420e-b995-91886c4784ea"
    },
    {
      "cell_type": "markdown",
      "metadata": {},
      "source": [
        "3개의 은닉노드를 가진 RNN을 설계하고 학습시켜라."
      ],
      "id": "e6ba403a-a4ba-41ef-8e7e-4a8117a34d56"
    }
  ],
  "nbformat": 4,
  "nbformat_minor": 5,
  "metadata": {
    "kernelspec": {
      "name": "python3",
      "display_name": "Python 3",
      "language": "python"
    },
    "language_info": {
      "name": "python",
      "codemirror_mode": {
        "name": "ipython",
        "version": "3"
      },
      "file_extension": ".py",
      "mimetype": "text/x-python",
      "nbconvert_exporter": "python",
      "pygments_lexer": "ipython3",
      "version": "3.7.15"
    }
  }
}