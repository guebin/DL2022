{
  "cells": [
    {
      "cell_type": "markdown",
      "metadata": {},
      "source": [
        "# 02wk-1: Overview (2)\n",
        "\n",
        "최규빈  \n",
        "2022-09-08\n",
        "\n",
        "> 이미지자료분석(2) 데이터정리 $\\to$ lrnr $\\to$ lrnr.학습() $\\to$\n",
        "> lrnr.예측()\n",
        "\n",
        "# 강의영상\n",
        "\n",
        "> <https://youtube.com/playlist?list=PLQqh36zP38-zcq1v38u87lMmD47ujarOZ>\n",
        "\n",
        "# imports"
      ],
      "id": "1402cf9d-97d1-4011-93ee-40acc8bf0db7"
    },
    {
      "cell_type": "code",
      "execution_count": 1,
      "metadata": {},
      "outputs": [],
      "source": [
        "from fastai.vision.all import * "
      ],
      "id": "945a5fd7-a567-4328-a167-b2409db1ee86"
    },
    {
      "cell_type": "markdown",
      "metadata": {},
      "source": [
        "# 지난시간 복습\n",
        "\n",
        "`(1)` 데이터의 정리"
      ],
      "id": "d1593055-c1a5-4bc1-ad49-4fe89b0b1d89"
    },
    {
      "cell_type": "code",
      "execution_count": 17,
      "metadata": {},
      "outputs": [],
      "source": [
        "path = untar_data(URLs.PETS)/'images'"
      ],
      "id": "2dba8b8b-ab64-4009-8531-4d8da4af255d"
    },
    {
      "cell_type": "code",
      "execution_count": 3,
      "metadata": {},
      "outputs": [],
      "source": [
        "fnames = get_image_files(path)"
      ],
      "id": "a3247d08-0281-4ab0-a02f-95e2815e73d0"
    },
    {
      "cell_type": "code",
      "execution_count": 19,
      "metadata": {},
      "outputs": [],
      "source": [
        "f = lambda fname: 'cat' if fname[0].isupper() else 'dog'"
      ],
      "id": "2da8e62a-1b86-4384-8256-87a7829286b1"
    },
    {
      "cell_type": "code",
      "execution_count": 24,
      "metadata": {},
      "outputs": [],
      "source": [
        "dls = ImageDataLoaders.from_name_func(\n",
        "    path, \n",
        "    fnames,\n",
        "    f, # f대신 (lambda fname: 'cat' if fname[0].isupper() else 'dog') 를 넣어도 가능\n",
        "    item_tfms=Resize(224))"
      ],
      "id": "652ed3c1-c23b-4b63-b101-c4f72fdffae6"
    },
    {
      "cell_type": "markdown",
      "metadata": {},
      "source": [
        "`(2)` lrnr 오브젝트 생성"
      ],
      "id": "eccddc86-a28a-42df-b192-f4a80f3cb1d5"
    },
    {
      "cell_type": "code",
      "execution_count": 22,
      "metadata": {},
      "outputs": [],
      "source": [
        "lrnr = cnn_learner(dls,resnet34,metrics=error_rate)"
      ],
      "id": "47ddd086-48ed-4792-b5b1-51b09956d8f6"
    },
    {
      "cell_type": "markdown",
      "metadata": {},
      "source": [
        "`(3)` lrnr.학습()"
      ],
      "id": "9c2943d2-4035-4298-86c7-5e6372ccd77a"
    },
    {
      "cell_type": "code",
      "execution_count": 23,
      "metadata": {},
      "outputs": [],
      "source": [
        "lrnr.fine_tune(1)"
      ],
      "id": "7d5d4ca8-3355-4899-9063-7fff67e05ada"
    },
    {
      "cell_type": "markdown",
      "metadata": {},
      "source": [
        "-   fine_tune()은 모든 가중치를 학습하는 것이 아니라 일부만 학습하는\n",
        "    것임.\n",
        "-   fine_tune()이외이 방법으로 학습할 수도 있음.\n",
        "\n",
        "`(4)` lrnr.예측()\n",
        "\n",
        "(방법1) lrnr.predict() 함수를 이용"
      ],
      "id": "a1543e86-bd7b-40b8-ae4c-19570705e743"
    },
    {
      "cell_type": "code",
      "execution_count": 25,
      "metadata": {},
      "outputs": [],
      "source": [
        "lrnr.predict('2022-09-06-hani03.jpg') # 방법1-1\n",
        "#lrnr.predict(PILImage.create('2022-09-06-hani03.jpg')) # 방법1-2\n",
        "#lrnr.predict(path.ls()[0]) # 방법1-3"
      ],
      "id": "1b0f771e-3ad8-4c99-be8c-5cc293fa9c93"
    },
    {
      "cell_type": "markdown",
      "metadata": {},
      "source": [
        "(방법2) lrnr.model(X) 를 이용: X의 shape이 (?,3,224,224)의 형태의\n",
        "텐서이어야함"
      ],
      "id": "6ea61a0e-f86f-498e-aaed-e0b5c0984a98"
    },
    {
      "cell_type": "code",
      "execution_count": 26,
      "metadata": {},
      "outputs": [],
      "source": [
        "X,y = dls.one_batch() # 방법2\n",
        "lrnr.model(X[0:1]) "
      ],
      "id": "f041bb80-8ce0-49fb-95b4-eaaf32b867c2"
    },
    {
      "cell_type": "markdown",
      "metadata": {},
      "source": [
        "# 프로그래밍 과정 overview\n",
        "\n",
        "`-` overview\n",
        "\n",
        "1.  `dls` 오브젝트 생성\n",
        "\n",
        "2.  `lrnr` 오브젝트 생성\n",
        "\n",
        "3.  `lrnr.학습()`\n",
        "\n",
        "4.  `lrnr.예측()`\n",
        "\n",
        "`-` 비교\n",
        "\n",
        "|       |    회귀분석(R)    |          이미지분석(CNN)          |         추천시스템          |\n",
        "|:----------------:|:----------------:|:----------------:|:----------------:|\n",
        "| 1단계 |   data.frame()    | ImageDataLoaders.from_name_func() | CollabDataLoaders.from_df() |\n",
        "| 2단계 |       None        |           cnn_learner()           |      collab_learner()       |\n",
        "| 3단계 |  lm(y~x1+x2,df)   |         lrnr.fine_tune(1)         |         lrnr.fit()          |\n",
        "| 4단계 | predict(ob,newdf) |   lrnr.predict(), lrnr.model(X)   |        lrnr.model(X)        |\n",
        "\n",
        "# 숙제\n",
        "\n",
        "아래의 함수들이 정의된 위치를 찾아보고 경로를 제출하라.\n",
        "\n",
        "-   ImageDataLoaders.from_name_func\n",
        "-   cnn_learner\n",
        "-   lrnr.fine_tune\n",
        "-   lrnr.predict\n",
        "\n",
        "단, 여기에서 lrnr는 cnn_learner()로부터 생성된 오브젝트 이다.\n",
        "\n",
        "**제출예시**\n",
        "\n",
        "ImageDataLoaders.from_name_func\n",
        "\n",
        "-   ~/anaconda3/envs/py37/lib/python3.7/site-packages/fastai/vision/data.py"
      ],
      "id": "b9817e80-1481-45a9-b5a1-39b41fb09762"
    }
  ],
  "nbformat": 4,
  "nbformat_minor": 5,
  "metadata": {
    "kernelspec": {
      "name": "python3",
      "display_name": "Python 3",
      "language": "python"
    },
    "language_info": {
      "name": "python",
      "codemirror_mode": {
        "name": "ipython",
        "version": "3"
      },
      "file_extension": ".py",
      "mimetype": "text/x-python",
      "nbconvert_exporter": "python",
      "pygments_lexer": "ipython3",
      "version": "3.7.15"
    }
  }
}