{
  "cells": [
    {
      "cell_type": "markdown",
      "metadata": {},
      "source": [
        "# 08wk-1: 이미지분석 (2)\n",
        "\n",
        "최규빈  \n",
        "2022-10-20\n",
        "\n",
        "> Minor topics in CNN– 다중클래스분류 (BCELoss vs CELoss), fastai metric\n",
        "> 사용\n",
        "\n",
        "# 강의영상\n",
        "\n",
        "> <https://youtube.com/playlist?list=PLQqh36zP38-wVdrvMFFtAcAM2QC7ZpnN3>\n",
        "\n",
        "# imports"
      ],
      "id": "b98e9a44-9b5b-403b-bba7-88baaee2ef8a"
    },
    {
      "cell_type": "code",
      "execution_count": 2,
      "metadata": {},
      "outputs": [],
      "source": [
        "import torch \n",
        "import torchvision\n",
        "import numpy as np\n",
        "from fastai.vision.all import * "
      ],
      "id": "2bcc3320-8bfa-4696-b964-b348d83bd325"
    },
    {
      "cell_type": "code",
      "execution_count": 3,
      "metadata": {},
      "outputs": [],
      "source": [
        "import graphviz\n",
        "def gv(s): return graphviz.Source('digraph G{ rankdir=\"LR\"'+s + '; }');"
      ],
      "id": "a8c4db6d-99af-41bc-8f25-26dc24ba825d"
    },
    {
      "cell_type": "markdown",
      "metadata": {},
      "source": [
        "# CNN 다중클래스 분류\n",
        "\n",
        "## 결론 (그냥 외우세요)\n",
        "\n",
        "`-` 2개의 class를 구분하는 문제가 아니라 $k$개의 class를 구분해야\n",
        "한다면?\n",
        "\n",
        "***일반적인 개념***\n",
        "\n",
        "-   손실함수: BCE loss $\\to$ Cross Entropy loss\n",
        "-   마지막층의 선형변환: torch.nn.Linear(?,1) $\\to$ torch.nn.Linear(?,k)\n",
        "-   마지막층의 활성화: sig $\\to$ softmax\n",
        "\n",
        "***파이토치 한정***\n",
        "\n",
        "-   **y의형태: (n,) vector + int형 // (n,k) one-hot encoded vector +\n",
        "    float형**\n",
        "-   손실함수: torch.nn.BCEWithLogitsLoss, $\\to$\n",
        "    torch.nn.CrossEntropyLoss\n",
        "-   마지막층의 선형변환: torch.nn.Linear(?,1) $\\to$ torch.nn.Linear(?,k)\n",
        "-   마지막층의 활성화: None $\\to$ None (손실함수에 이미 마지막층의\n",
        "    활성화가 포함)\n",
        "\n",
        "## 실습: 3개의 클래스를 구분"
      ],
      "id": "a4e055d3-a05d-4bfd-83b7-f93e11cd81bc"
    },
    {
      "cell_type": "code",
      "execution_count": 10,
      "metadata": {},
      "outputs": [],
      "source": [
        "path = untar_data(URLs.MNIST)"
      ],
      "id": "5d9d64c1-44d5-4033-8027-5f7674b503a6"
    },
    {
      "cell_type": "markdown",
      "metadata": {},
      "source": [
        "training set"
      ],
      "id": "c8ac88bd-11a3-4030-b247-16b2b513155e"
    },
    {
      "cell_type": "code",
      "execution_count": 14,
      "metadata": {},
      "outputs": [],
      "source": [
        "X0 = torch.stack([torchvision.io.read_image(str(fname)) for fname in (path/'training/0').ls()])\n",
        "X1 = torch.stack([torchvision.io.read_image(str(fname)) for fname in (path/'training/1').ls()])\n",
        "X2 = torch.stack([torchvision.io.read_image(str(fname)) for fname in (path/'training/2').ls()])\n",
        "X = torch.concat([X0,X1,X2])/255\n",
        "y = torch.tensor([0]*len(X0) + [1]*len(X1)+ [2]*len(X2))#.reshape(-1,1)"
      ],
      "id": "9075cc8f-75e9-40d7-92ac-fe2b81e17fc4"
    },
    {
      "cell_type": "markdown",
      "metadata": {},
      "source": [
        "test set"
      ],
      "id": "e6fd77e6-927f-4de9-b6c7-658a7173b366"
    },
    {
      "cell_type": "code",
      "execution_count": 12,
      "metadata": {},
      "outputs": [],
      "source": [
        "X0 = torch.stack([torchvision.io.read_image(str(fname)) for fname in (path/'testing/0').ls()])\n",
        "X1 = torch.stack([torchvision.io.read_image(str(fname)) for fname in (path/'testing/1').ls()])\n",
        "X2 = torch.stack([torchvision.io.read_image(str(fname)) for fname in (path/'testing/2').ls()])\n",
        "XX = torch.concat([X0,X1,X2])/255\n",
        "yy = torch.tensor([0]*len(X0) + [1]*len(X1)+ [2]*len(X2))#.reshape(-1,1)"
      ],
      "id": "1c1c704d-192b-4e2a-be27-76a6f47785e1"
    },
    {
      "cell_type": "markdown",
      "metadata": {},
      "source": [
        "`(1)` dls"
      ],
      "id": "0609cf78-f74c-489c-8af1-b2817230a30b"
    },
    {
      "cell_type": "code",
      "execution_count": 29,
      "metadata": {},
      "outputs": [],
      "source": [
        "len(X)"
      ],
      "id": "fb8607d3-cbb2-4a65-8348-f1fce0515afc"
    },
    {
      "cell_type": "code",
      "execution_count": 30,
      "metadata": {},
      "outputs": [],
      "source": [
        "ds1 = torch.utils.data.TensorDataset(X,y) \n",
        "ds2 = torch.utils.data.TensorDataset(XX,yy) \n",
        "dl1 = torch.utils.data.DataLoader(ds1,batch_size=1862) # 에폭당 11번 iter\n",
        "dl2 = torch.utils.data.DataLoader(ds2,batch_size=3147) # \n",
        "dls = DataLoaders(dl1,dl2) "
      ],
      "id": "59b1004a-ca4b-41c5-93c6-53965e81f26c"
    },
    {
      "cell_type": "markdown",
      "metadata": {},
      "source": [
        "`(2)` lrnr"
      ],
      "id": "72ad88bf-1fe7-473f-8abe-cc170344b3d8"
    },
    {
      "cell_type": "code",
      "execution_count": 31,
      "metadata": {},
      "outputs": [],
      "source": [
        "net1 = torch.nn.Sequential(\n",
        "    torch.nn.Conv2d(1,16,(5,5)),\n",
        "    torch.nn.ReLU(),\n",
        "    torch.nn.MaxPool2d((2,2)),\n",
        "    torch.nn.Flatten()\n",
        ")"
      ],
      "id": "8a06cf51-7057-4be3-89be-26cea6ecb3f2"
    },
    {
      "cell_type": "code",
      "execution_count": 32,
      "metadata": {},
      "outputs": [],
      "source": [
        "net1(X).shape"
      ],
      "id": "5a1cb5f3-2f9c-407e-96c4-b6e0cef07abc"
    },
    {
      "cell_type": "code",
      "execution_count": 33,
      "metadata": {},
      "outputs": [],
      "source": [
        "net = torch.nn.Sequential(\n",
        "    net1,\n",
        "    torch.nn.Linear(2304,3) # 0,1,2 3개를 구분하는 문제이므로 out_features=3 \n",
        ")\n",
        "loss_fn = torch.nn.CrossEntropyLoss() "
      ],
      "id": "2f6c35e9-c3f5-40f0-9e73-e889b65cd163"
    },
    {
      "cell_type": "code",
      "execution_count": 38,
      "metadata": {},
      "outputs": [],
      "source": [
        "lrnr = Learner(dls,net,loss_fn) "
      ],
      "id": "5ca3a152-c2e5-4497-ac0b-18a1933d0084"
    },
    {
      "cell_type": "markdown",
      "metadata": {},
      "source": [
        "`(3)` 학습"
      ],
      "id": "9b25c199-400b-4317-921d-b8181deefbf5"
    },
    {
      "cell_type": "code",
      "execution_count": 39,
      "metadata": {},
      "outputs": [],
      "source": [
        "lrnr.fit(10) "
      ],
      "id": "6b97c6a5-1f2e-4467-ad9f-a44277363792"
    },
    {
      "cell_type": "markdown",
      "metadata": {},
      "source": [
        "`(4)` 예측"
      ],
      "id": "24e3df0c-f3d1-490b-9a5a-41526de4d5b7"
    },
    {
      "cell_type": "code",
      "execution_count": 41,
      "metadata": {},
      "outputs": [],
      "source": [
        "lrnr.model.to(\"cpu\")"
      ],
      "id": "b6a9a62e-14bb-4424-aab2-edd55aa4d73a"
    },
    {
      "cell_type": "code",
      "execution_count": 50,
      "metadata": {},
      "outputs": [],
      "source": [
        "pd.DataFrame(lrnr.model(XX)).assign(y=yy) "
      ],
      "id": "5a373c87-ae50-4026-8fdc-cc6f84179c06"
    },
    {
      "cell_type": "code",
      "execution_count": 51,
      "metadata": {},
      "outputs": [],
      "source": [
        "pd.DataFrame(lrnr.model(XX)).assign(y=yy).query('y==0')"
      ],
      "id": "2d10b166-f338-441b-87cf-a16b085c060f"
    },
    {
      "cell_type": "markdown",
      "metadata": {},
      "source": [
        "-   대체적으로 첫번째 칼럼의 숫자들이 다른칼럼보다 크다."
      ],
      "id": "b1c2a95f-2104-42f1-8eb9-c5f9dc50d10b"
    },
    {
      "cell_type": "code",
      "execution_count": 52,
      "metadata": {},
      "outputs": [],
      "source": [
        "pd.DataFrame(lrnr.model(XX)).assign(y=yy).query('y==1')"
      ],
      "id": "462a91a9-0f94-49e5-ad1b-74ee57574e09"
    },
    {
      "cell_type": "markdown",
      "metadata": {},
      "source": [
        "-   대체적으로 두번째 칼럼의 숫자들이 다른칼럼보다 크다."
      ],
      "id": "e9ac7b4b-c139-4344-9bb3-4793af02e524"
    },
    {
      "cell_type": "code",
      "execution_count": 53,
      "metadata": {},
      "outputs": [],
      "source": [
        "pd.DataFrame(lrnr.model(XX)).assign(y=yy).query('y==2')"
      ],
      "id": "71bd24c1-d4d6-495e-94bf-3870a536e257"
    },
    {
      "cell_type": "markdown",
      "metadata": {},
      "source": [
        "-   대체적으로 세번째 칼럼의 숫자들이 다른칼럼보다 크다.\n",
        "\n",
        "`-` 예측하는방법?\n",
        "\n",
        "-   칼럼0의 숫자가 크다 -\\> y=0일 확률이 큼\n",
        "-   칼럼1의 숫자가 크다 -\\> y=1일 확률이 큼\n",
        "-   칼럼2의 숫자가 크다 -\\> y=2일 확률이 큼\n",
        "\n",
        "## 공부: Softmax\n",
        "\n",
        "`-` 눈치: softmax를 쓰기 직전의 숫자들은 (n,k)꼴로 되어있음. 각\n",
        "observation 마다 k개의 숫자가 있는데, 그중에서 유난히 큰 하나의 숫자가\n",
        "있음.\n",
        "\n",
        "`-` torch.nn.Softmax() 손계산\n",
        "\n",
        "(예시1) – 잘못계산"
      ],
      "id": "51685d43-031d-4780-8fe4-a10aa5141461"
    },
    {
      "cell_type": "code",
      "execution_count": 56,
      "metadata": {},
      "outputs": [],
      "source": [
        "sftmax = torch.nn.Softmax(dim=0)"
      ],
      "id": "72af0ecb-53bc-40f5-a344-6fb3836f458e"
    },
    {
      "cell_type": "code",
      "execution_count": 57,
      "metadata": {},
      "outputs": [],
      "source": [
        "_netout = torch.tensor([[-2.0,-2.0,0.0],\n",
        "                        [3.14,3.14,3.14],\n",
        "                        [0.0,0.0,2.0],\n",
        "                        [2.0,2.0,4.0],\n",
        "                        [0.0,0.0,0.0]])\n",
        "_netout"
      ],
      "id": "bfd273eb-c99d-4f8b-8825-452c7b418ef3"
    },
    {
      "cell_type": "code",
      "execution_count": 58,
      "metadata": {},
      "outputs": [],
      "source": [
        "sftmax(_netout) "
      ],
      "id": "f778b833-8d35-4e26-89d4-e8dd16f8ddfa"
    },
    {
      "cell_type": "markdown",
      "metadata": {},
      "source": [
        "(예시2) – 이게 맞게 계산되는 것임"
      ],
      "id": "ea125f9b-7db2-4218-bc89-7b960889c37a"
    },
    {
      "cell_type": "code",
      "execution_count": 59,
      "metadata": {},
      "outputs": [],
      "source": [
        "sftmax = torch.nn.Softmax(dim=1)"
      ],
      "id": "2cbdfb8b-049d-46bf-8707-37dab346d088"
    },
    {
      "cell_type": "code",
      "execution_count": 60,
      "metadata": {},
      "outputs": [],
      "source": [
        "_netout"
      ],
      "id": "9c8b7430-2a01-4975-aa92-f4f29a5630a5"
    },
    {
      "cell_type": "code",
      "execution_count": 62,
      "metadata": {},
      "outputs": [],
      "source": [
        "sftmax(_netout)"
      ],
      "id": "3ceeb181-dab4-4214-a0b7-dc3978fa8b8e"
    },
    {
      "cell_type": "markdown",
      "metadata": {},
      "source": [
        "(예시3) – 차원을 명시안하면 맞게 계산해주고 경고 줌"
      ],
      "id": "bc024178-5435-4f61-82fa-cf8207c2feb8"
    },
    {
      "cell_type": "code",
      "execution_count": 63,
      "metadata": {},
      "outputs": [],
      "source": [
        "sftmax = torch.nn.Softmax()"
      ],
      "id": "47d2a564-902a-4f05-bbc8-68cad148f718"
    },
    {
      "cell_type": "code",
      "execution_count": 64,
      "metadata": {},
      "outputs": [],
      "source": [
        "_netout"
      ],
      "id": "b53cea7c-83f5-4bfd-8403-928cc1e76146"
    },
    {
      "cell_type": "code",
      "execution_count": 65,
      "metadata": {},
      "outputs": [
        {
          "output_type": "stream",
          "name": "stderr",
          "text": [
            "/home/cgb4/anaconda3/envs/py37/lib/python3.7/site-packages/ipykernel_launcher.py:1: UserWarning: Implicit dimension choice for softmax has been deprecated. Change the call to include dim=X as an argument.\n",
            "  \"\"\"Entry point for launching an IPython kernel."
          ]
        }
      ],
      "source": [
        "sftmax(_netout)"
      ],
      "id": "d1f8b716-24b2-4ec9-8b25-275e1d9a5dc3"
    },
    {
      "cell_type": "markdown",
      "metadata": {},
      "source": [
        "(예시4) – 진짜 손계산"
      ],
      "id": "d78e6c19-15e8-457f-973e-901752641123"
    },
    {
      "cell_type": "code",
      "execution_count": 66,
      "metadata": {},
      "outputs": [],
      "source": [
        "_netout "
      ],
      "id": "f77bc8e3-82d3-4ace-89c0-eeeca757ebf9"
    },
    {
      "cell_type": "code",
      "execution_count": 71,
      "metadata": {},
      "outputs": [],
      "source": [
        "torch.exp(_netout)"
      ],
      "id": "4c3145f6-ae88-46f4-8ee0-63495a80eaba"
    },
    {
      "cell_type": "code",
      "execution_count": 72,
      "metadata": {},
      "outputs": [],
      "source": [
        "0.1353/(0.1353 + 0.1353 + 1.0000), 0.1353/(0.1353 + 0.1353 + 1.0000), 1.0000/(0.1353 + 0.1353 + 1.0000) # 첫 obs"
      ],
      "id": "5875293e-bec3-4a3d-a09b-7e04905c873e"
    },
    {
      "cell_type": "code",
      "execution_count": 81,
      "metadata": {},
      "outputs": [],
      "source": [
        "np.exp(_netout[1])/np.exp(_netout[1]).sum() # 두번째 obs "
      ],
      "id": "a3f495e6-eb56-444d-861e-91ff2377e2cc"
    },
    {
      "cell_type": "code",
      "execution_count": 82,
      "metadata": {},
      "outputs": [],
      "source": [
        "np.apply_along_axis(lambda x: np.exp(x) / np.exp(x).sum(),1,_netout)"
      ],
      "id": "03fdbe55-2545-4e56-819a-0fd9d70bab8e"
    },
    {
      "cell_type": "markdown",
      "metadata": {},
      "source": [
        "## 공부: CrossEntropyLoss\n",
        "\n",
        "### `#` ***torch.nn.CrossEntropyLoss() 손계산: one-hot version***"
      ],
      "id": "97d375be-b8d7-4ee9-bba4-c74e55044e8c"
    },
    {
      "cell_type": "code",
      "execution_count": 83,
      "metadata": {},
      "outputs": [],
      "source": [
        "loss_fn = torch.nn.CrossEntropyLoss()"
      ],
      "id": "c0107313-9323-47f4-a0f1-48d27d25d89f"
    },
    {
      "cell_type": "code",
      "execution_count": 84,
      "metadata": {},
      "outputs": [],
      "source": [
        "_netout"
      ],
      "id": "9827f1a4-e5d2-4026-b8b0-96d91457e6e5"
    },
    {
      "cell_type": "code",
      "execution_count": 90,
      "metadata": {},
      "outputs": [],
      "source": [
        "_y_onehot = torch.tensor([[0,0,1],\n",
        "                          [0,1,0],\n",
        "                          [0,0,1],\n",
        "                          [0,0,1],\n",
        "                          [1,0,0]])*1.0\n",
        "_y_onehot"
      ],
      "id": "9ccf2824-f948-4477-9b91-f8c0133cbf5b"
    },
    {
      "cell_type": "code",
      "execution_count": 91,
      "metadata": {},
      "outputs": [],
      "source": [
        "sftmax = torch.nn.Softmax(dim=1) \n",
        "sftmax(_netout), _y_onehot"
      ],
      "id": "b214cdd3-abe4-4e7a-9075-49b07b7125f3"
    },
    {
      "cell_type": "markdown",
      "metadata": {},
      "source": [
        "`-` 계산결과"
      ],
      "id": "d0b82055-1622-4f9b-8aab-7a1b7e88a97d"
    },
    {
      "cell_type": "code",
      "execution_count": 92,
      "metadata": {},
      "outputs": [],
      "source": [
        "loss_fn(_netout,_y_onehot)"
      ],
      "id": "0a32cacf-43f9-402e-abd6-bf63caadf282"
    },
    {
      "cell_type": "code",
      "execution_count": 101,
      "metadata": {},
      "outputs": [],
      "source": [
        "- torch.sum(torch.log(sftmax(_netout)) * _y_onehot)/5 "
      ],
      "id": "798b3d1b-b8c9-46ca-b29b-3d0dc98d33e4"
    },
    {
      "cell_type": "markdown",
      "metadata": {},
      "source": [
        "`-` 계산하는 방법도 중요한데 torch.nn.CrossEntropyLoss() 에는 softmax\n",
        "활성화함수가 이미 포함되어 있다는 것을 확인하는 것이 더 중요함.\n",
        "\n",
        "`-` 따라서 torch.nn.CrossEntropyLoss() 는 사실\n",
        "torch.nn.CEWithSoftmaxLoss() 정도로 바꾸는 것이 더 말이 되는 것 같다.\n",
        "\n",
        "### `#` ***torch.nn.CrossEntropyLoss() 손계산: lenght $n$ vertor version***"
      ],
      "id": "c7e63b89-be95-4fda-be5c-0fe16dc904f8"
    },
    {
      "cell_type": "code",
      "execution_count": 102,
      "metadata": {},
      "outputs": [],
      "source": [
        "_netout "
      ],
      "id": "efc28a60-3165-4270-b510-867ad3debef1"
    },
    {
      "cell_type": "code",
      "execution_count": 108,
      "metadata": {},
      "outputs": [],
      "source": [
        "_y = torch.tensor([2,1,2,2,0])"
      ],
      "id": "fd6d1245-8b10-47e3-add9-fef5331bad6c"
    },
    {
      "cell_type": "code",
      "execution_count": 109,
      "metadata": {},
      "outputs": [],
      "source": [
        "loss_fn(_netout,_y)"
      ],
      "id": "ee47f0d1-94cc-419c-b971-3b7bcd63904f"
    },
    {
      "cell_type": "markdown",
      "metadata": {},
      "source": [
        "## 실습: $k=2$로 두면 이진분류도 가능\n",
        "\n",
        "`-` download data"
      ],
      "id": "9bbee170-91b8-4689-a372-33ace93cdb49"
    },
    {
      "cell_type": "code",
      "execution_count": 119,
      "metadata": {},
      "outputs": [],
      "source": [
        "path = untar_data(URLs.MNIST) "
      ],
      "id": "5a1afb86-1e56-4618-9379-d7156a8d5ed4"
    },
    {
      "cell_type": "markdown",
      "metadata": {},
      "source": [
        "training"
      ],
      "id": "43578b12-7a63-4ccd-b82b-8a1688e94047"
    },
    {
      "cell_type": "code",
      "execution_count": 192,
      "metadata": {
        "tags": []
      },
      "outputs": [],
      "source": [
        "X0 = torch.stack([torchvision.io.read_image(str(fname)) for fname in (path/'training/0').ls()])\n",
        "X1 = torch.stack([torchvision.io.read_image(str(fname)) for fname in (path/'training/1').ls()])\n",
        "X = torch.concat([X0,X1])/255\n",
        "y = torch.tensor([0]*len(X0) + [1]*len(X1))#.reshape(-1,1)"
      ],
      "id": "efe098d8-7a3a-4f83-8241-a4fa6cc4e14e"
    },
    {
      "cell_type": "code",
      "execution_count": 203,
      "metadata": {},
      "outputs": [],
      "source": [
        "y_onehot = torch.nn.functional.one_hot(y).float()\n",
        "#y_onehot = torch.tensor(list(map(lambda x: [1,0] if x==0 else [0,1],y))).float()"
      ],
      "id": "3ebfed2c-1c94-4a88-8dd2-283df0b5c744"
    },
    {
      "cell_type": "markdown",
      "metadata": {},
      "source": [
        "test"
      ],
      "id": "c3d2564b-f811-44c9-89de-24247ddded91"
    },
    {
      "cell_type": "code",
      "execution_count": 204,
      "metadata": {
        "tags": []
      },
      "outputs": [],
      "source": [
        "X0 = torch.stack([torchvision.io.read_image(str(fname)) for fname in (path/'testing/0').ls()])\n",
        "X1 = torch.stack([torchvision.io.read_image(str(fname)) for fname in (path/'testing/1').ls()])\n",
        "XX = torch.concat([X0,X1])/255\n",
        "yy = torch.tensor([0]*len(X0) + [1]*len(X1))#.reshape(-1,1)"
      ],
      "id": "43772bc8-f339-441b-ab21-d03ec24aa0b7"
    },
    {
      "cell_type": "code",
      "execution_count": 205,
      "metadata": {},
      "outputs": [],
      "source": [
        "yy_onehot = torch.nn.functional.one_hot(yy).float()\n",
        "#yy_onehot = torch.tensor(list(map(lambda x: [1,0] if x==0 else [0,1],yy))).float()"
      ],
      "id": "0fde2cda-ea48-45f7-a5e7-814a212078c1"
    },
    {
      "cell_type": "markdown",
      "metadata": {},
      "source": [
        "`(1)` dls"
      ],
      "id": "3c7c2164-d7e4-4793-8c7a-48acee8c1615"
    },
    {
      "cell_type": "code",
      "execution_count": 206,
      "metadata": {},
      "outputs": [],
      "source": [
        "ds1 = torch.utils.data.TensorDataset(X,y_onehot) \n",
        "ds2 = torch.utils.data.TensorDataset(XX,yy_onehot) \n",
        "dl1 = torch.utils.data.DataLoader(ds1,batch_size=1862) # 에폭당 11번 iter\n",
        "dl2 = torch.utils.data.DataLoader(ds2,batch_size=3147) # \n",
        "dls = DataLoaders(dl1,dl2) "
      ],
      "id": "9ce8cf2a-7bac-41cb-8593-a30feed7bbb0"
    },
    {
      "cell_type": "markdown",
      "metadata": {},
      "source": [
        "`(2)` lrnr"
      ],
      "id": "3e1c73f9-3056-4d7c-a615-48bad71372b6"
    },
    {
      "cell_type": "code",
      "execution_count": 207,
      "metadata": {},
      "outputs": [],
      "source": [
        "net = torch.nn.Sequential(\n",
        "    torch.nn.Conv2d(1,16,(5,5)),\n",
        "    torch.nn.ReLU(),\n",
        "    torch.nn.MaxPool2d((2,2)),\n",
        "    torch.nn.Flatten(),\n",
        "    torch.nn.Linear(2304,2)\n",
        "    #torch.nn.Softmax()\n",
        ")\n",
        "loss_fn = torch.nn.CrossEntropyLoss()\n",
        "lrnr = Learner(dls,net,loss_fn) "
      ],
      "id": "3a1ffbaf-fce3-41c0-8c4c-e415b4d4b07b"
    },
    {
      "cell_type": "markdown",
      "metadata": {},
      "source": [
        "`(3)` 학습"
      ],
      "id": "6baf13e1-018e-4b29-a8f6-1b36714e411f"
    },
    {
      "cell_type": "code",
      "execution_count": 214,
      "metadata": {},
      "outputs": [],
      "source": [
        "lrnr.fit(10) "
      ],
      "id": "9408185d-f96f-4879-b848-7f6f6a85b3e1"
    },
    {
      "cell_type": "markdown",
      "metadata": {},
      "source": [
        "`(4)` 예측 및 시각화"
      ],
      "id": "2d16e899-cc52-4094-8893-0d97f7b5def1"
    },
    {
      "cell_type": "code",
      "execution_count": 216,
      "metadata": {},
      "outputs": [],
      "source": [
        "lrnr.model.to(\"cpu\")"
      ],
      "id": "78883d9a-3add-4a32-ab47-8e44fe47291a"
    },
    {
      "cell_type": "code",
      "execution_count": 238,
      "metadata": {},
      "outputs": [
        {
          "output_type": "display_data",
          "metadata": {},
          "data": {
            "image/png": "[encoded data removed]"
          }
        }
      ],
      "source": [
        "sftmax = torch.nn.Softmax(dim=1) \n",
        "sig = torch.nn.Sigmoid()\n",
        "fig,ax = plt.subplots(1,2,figsize=(8,4))\n",
        "ax[0].plot(net(X).diff(axis=1).data,',',color=\"C1\")\n",
        "ax[1].plot(y)\n",
        "ax[1].plot(sftmax(net(X))[:,1].data,',')\n",
        "#ax[1].plot(sig(net(X).diff(axis=1)).data,',')\n",
        "fig.suptitle(\"Training Set\",size=15)"
      ],
      "id": "db465521-8f39-4d38-8c23-380f3ef2f455"
    },
    {
      "cell_type": "code",
      "execution_count": 239,
      "metadata": {},
      "outputs": [
        {
          "output_type": "display_data",
          "metadata": {},
          "data": {
            "image/png": "[encoded data removed]"
          }
        }
      ],
      "source": [
        "fig,ax = plt.subplots(1,2,figsize=(8,4))\n",
        "ax[0].plot(net(XX).diff(axis=1).data,',',color=\"C1\")\n",
        "ax[1].plot(yy)\n",
        "ax[1].plot(sftmax(net(XX))[:,1].data,',')\n",
        "#ax[1].plot(sig(net(XX).diff(axis=1)).data,',')\n",
        "fig.suptitle(\"Test Set\",size=15)"
      ],
      "id": "92cd2812-943d-4f0c-bbbf-f36387528058"
    },
    {
      "cell_type": "markdown",
      "metadata": {},
      "source": [
        "`-` note: softmax(u1,u2)=\\[sig(u1-u2),\n",
        "sig(u2-u1)\\]=\\[1-sig(u2-u1),sig(u2-u1)\\]\n",
        "\n",
        "## 공부: 이진분류에서 소프트맥스 vs 시그모이드\n",
        "\n",
        "`-` 이진분류문제 = “y=0 or y=1” 을 맞추는 문제 = 성공과 실패를 맞추는\n",
        "문제 = 성공확률과 실패확률을 추정하는 문제\n",
        "\n",
        "`-` softmax, sigmoid\n",
        "\n",
        "-   softmax: (실패확률, 성공확률) 꼴로 결과가 나옴 // softmax는\n",
        "    실패확률과 성공확률을 둘다 추정한다.\n",
        "-   sigmoid: (성공확률) 꼴로 결과가 나옴 // sigmoid는 성공확률만\n",
        "    추정한다.\n",
        "\n",
        "`-` 그런데 “실패확률=1-성공확률” 이므로 사실상 둘은 같은걸 추정하는\n",
        "셈이다. (성공확률만 추정하면 실패확률은 저절로 추정되니까)\n",
        "\n",
        "`-` 아래는 사실상 같은 모형이다."
      ],
      "id": "5f1762c6-5a9e-4020-b427-1718fd0fe4fe"
    },
    {
      "cell_type": "code",
      "execution_count": 7,
      "metadata": {},
      "outputs": [
        {
          "output_type": "display_data",
          "metadata": {},
          "data": {
            "image/svg+xml": "PD94bWwgdmVyc2lvbj0iMS4wIiBlbmNvZGluZz0iVVRGLTgiIHN0YW5kYWxvbmU9Im5vIj8+Cjwh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\nLjY3IDI3NC41OSwtNzkuMjIiLz4KPC9nPgo8L2c+Cjwvc3ZnPgo=\n"
          }
        }
      ],
      "source": [
        "gv('''\n",
        "splines=line\n",
        "subgraph cluster_1{\n",
        "    style=filled;\n",
        "    color=lightgrey;\n",
        "    \"?\"\n",
        "    \"??\"\n",
        "    \"..\"\n",
        "    \"???\"\n",
        "    label = \"Layer ?\"\n",
        "}\n",
        "subgraph cluster_2{\n",
        "    style=filled;\n",
        "    color=lightgrey;\n",
        "    \"?\" -> \"node1\"\n",
        "    \"??\" -> \"node1\"\n",
        "    \"..\" -> \"node1\"\n",
        "    \"???\" -> \"node1\"\n",
        "    \n",
        "    \"?\" -> \"node2\"\n",
        "    \"??\" -> \"node2\"\n",
        "    \"..\" -> \"node2\"\n",
        "    \"???\" -> \"node2\"\n",
        "    \n",
        "    \"?\" -> \"...\"\n",
        "    \"??\" -> \"...\"\n",
        "    \"..\" -> \"...\"\n",
        "    \"???\" -> \"...\"\n",
        "    \n",
        "    \"?\" -> \"node2304\"\n",
        "    \"??\" -> \"node2304\"\n",
        "    \"..\" -> \"node2304\"\n",
        "    \"???\" -> \"node2304\"\n",
        "\n",
        "    label = \"Layer: ReLU\"\n",
        "}\n",
        "subgraph cluster_3{\n",
        "    style=filled;\n",
        "    color=lightgrey;\n",
        "    \"node1\" -> \"y1\"\n",
        "    \"node2\" -> \"y1\"\n",
        "    \"...\" -> \"y1\"\n",
        "    \"node2304\" -> \"y1\"\n",
        "    \n",
        "    \"node1\" -> \"y2\"\n",
        "    \"node2\" -> \"y2\"\n",
        "    \"...\" -> \"y2\"\n",
        "    \"node2304\" -> \"y2\"    \n",
        "    label = \"Layer: Softmax\"\n",
        "}\n",
        "''')"
      ],
      "id": "a75cb232-1f02-4d03-96ea-0834337ef0e7"
    },
    {
      "cell_type": "code",
      "execution_count": 6,
      "metadata": {},
      "outputs": [
        {
          "output_type": "display_data",
          "metadata": {},
          "data": {
            "image/svg+xml": "PD94bWwgdmVyc2lvbj0iMS4wIiBlbmNvZGluZz0iVVRGLTgiIHN0YW5kYWxvbmU9Im5vIj8+Cjwh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\nZz4KPC9nPgo8L3N2Zz4K\n"
          }
        }
      ],
      "source": [
        "gv('''\n",
        "splines=line\n",
        "subgraph cluster_1{\n",
        "    style=filled;\n",
        "    color=lightgrey;\n",
        "    \"?\"\n",
        "    \"??\"\n",
        "    \"..\"\n",
        "    \"???\"\n",
        "    label = \"Layer ?\"\n",
        "}\n",
        "subgraph cluster_2{\n",
        "    style=filled;\n",
        "    color=lightgrey;\n",
        "    \"?\" -> \"node1\"\n",
        "    \"??\" -> \"node1\"\n",
        "    \"..\" -> \"node1\"\n",
        "    \"???\" -> \"node1\"\n",
        "    \n",
        "    \"?\" -> \"node2\"\n",
        "    \"??\" -> \"node2\"\n",
        "    \"..\" -> \"node2\"\n",
        "    \"???\" -> \"node2\"\n",
        "    \n",
        "    \"?\" -> \"...\"\n",
        "    \"??\" -> \"...\"\n",
        "    \"..\" -> \"...\"\n",
        "    \"???\" -> \"...\"\n",
        "    \n",
        "    \"?\" -> \"node2304\"\n",
        "    \"??\" -> \"node2304\"\n",
        "    \"..\" -> \"node2304\"\n",
        "    \"???\" -> \"node2304\"\n",
        "\n",
        "    label = \"Layer: ReLU\"\n",
        "}\n",
        "subgraph cluster_3{\n",
        "    style=filled;\n",
        "    color=lightgrey;\n",
        "    \"node1\" -> \"y\"\n",
        "    \"node2\" -> \"y\"\n",
        "    \"...\" -> \"y\"\n",
        "    \"node2304\" -> \"y\"\n",
        "    label = \"Layer: Sigmoid\"\n",
        "}\n",
        "''')"
      ],
      "id": "777fd535-4590-41c2-81b7-a7b37aa52fc1"
    },
    {
      "cell_type": "markdown",
      "metadata": {},
      "source": [
        "`-` 둘은 사실상 같은 효과를 주는 모형인데 학습할 파라메터는 sigmoid의\n",
        "경우가 더 적다. $\\to$ sigmoid를 사용하는 모형이 비용은 싸고 효과는\n",
        "동일하다는 말 $\\to$ 이진분류 한정해서는 softmax를 쓰지말고 sigmoid를\n",
        "써야함.\n",
        "\n",
        "-   softmax가 갑자기 너무 안좋아보이는데 sigmoid는 k개의 클래스로 확장이\n",
        "    불가능한 반면 softmax는 확장이 용이하다는 장점이 있음\n",
        "\n",
        "## 소프트맥스 vs 시그모이드 정리\n",
        "\n",
        "`-` 결론\n",
        "\n",
        "1.  소프트맥스는 시그모이드의 확장이다.\n",
        "2.  클래스의 수가 2개일 경우에는 (Sigmoid, BCEloss) 조합을 사용해야 하고\n",
        "    클래스의 수가 2개보다 클 경우에는 (Softmax, CrossEntropyLoss) 를\n",
        "    사용해야 한다.\n",
        "\n",
        "`-` 그런데 사실.. 클래스의 수가 2개일 경우일때 (Softmax,\n",
        "CrossEntropyLoss)를 사용해도 그렇게 큰일나는것은 아니다. (흑백이미지를\n",
        "칼라잉크로 출력하는 느낌)\n",
        "\n",
        "***참고***\n",
        "\n",
        "|               $y$               |            분포가정             | 마지막층의 활성화함수 |   손실함수    |\n",
        "|:-------------------------------:|:-------------------------------:|:---------------------:|:-------------:|\n",
        "|     3.45, 4.43, … (연속형)      |            정규분포             |  None (or Identity)   |      MSE      |\n",
        "|             0 or 1              | 이항분포 with $n=1$ (=베르누이) |        Sigmoid        |      BCE      |\n",
        "| \\[0,0,1\\], \\[0,1,0\\], \\[1,0,0\\] |       다항분포 with $n=1$       |        Softmax        | Cross Entropy |\n",
        "\n",
        "# fastai metric 사용\n",
        "\n",
        "## 데이터준비\n",
        "\n",
        "`-` download data"
      ],
      "id": "991c5c1a-a3a9-4f38-9b79-e5fc30023bda"
    },
    {
      "cell_type": "code",
      "execution_count": 244,
      "metadata": {},
      "outputs": [],
      "source": [
        "path = untar_data(URLs.MNIST)"
      ],
      "id": "9149dbbb-84ee-41c1-bc95-c194873ff0cc"
    },
    {
      "cell_type": "markdown",
      "metadata": {},
      "source": [
        "`-` training set"
      ],
      "id": "db714863-1d81-46a4-96b6-419fd2789a0e"
    },
    {
      "cell_type": "code",
      "execution_count": 245,
      "metadata": {},
      "outputs": [],
      "source": [
        "X0 = torch.stack([torchvision.io.read_image(str(fname)) for fname in (path/'training/0').ls()])\n",
        "X1 = torch.stack([torchvision.io.read_image(str(fname)) for fname in (path/'training/1').ls()])\n",
        "X = torch.concat([X0,X1])/255\n",
        "y = torch.tensor([0.0]*len(X0) + [1.0]*len(X1)).reshape(-1,1)"
      ],
      "id": "bf21c291-cc90-4fad-adaf-907c29c7162c"
    },
    {
      "cell_type": "markdown",
      "metadata": {},
      "source": [
        "`-` test set"
      ],
      "id": "94cf7124-394d-4be9-87e0-9337916d416d"
    },
    {
      "cell_type": "code",
      "execution_count": 246,
      "metadata": {},
      "outputs": [],
      "source": [
        "X0 = torch.stack([torchvision.io.read_image(str(fname)) for fname in (path/'testing/0').ls()])\n",
        "X1 = torch.stack([torchvision.io.read_image(str(fname)) for fname in (path/'testing/1').ls()])\n",
        "XX = torch.concat([X0,X1])/255\n",
        "yy = torch.tensor([0.0]*len(X0) + [1.0]*len(X1)).reshape(-1,1)"
      ],
      "id": "d1e57ed8-d3e1-4a4d-89d0-9028cf5c0346"
    },
    {
      "cell_type": "code",
      "execution_count": 247,
      "metadata": {},
      "outputs": [],
      "source": [
        "X.shape,XX.shape,y.shape,yy.shape"
      ],
      "id": "2767367b-4861-41de-a4d6-e08b728e47cf"
    },
    {
      "cell_type": "markdown",
      "metadata": {},
      "source": [
        "## 사용자정의 메트릭이용\n",
        "\n",
        "`(1)` dls 만들기"
      ],
      "id": "af751a33-428a-428b-a9c0-950c19dc3861"
    },
    {
      "cell_type": "code",
      "execution_count": 248,
      "metadata": {},
      "outputs": [],
      "source": [
        "ds1 = torch.utils.data.TensorDataset(X,y)\n",
        "ds2 = torch.utils.data.TensorDataset(XX,yy)\n",
        "dl1 = torch.utils.data.DataLoader(ds1,batch_size=1266) \n",
        "dl2 = torch.utils.data.DataLoader(ds2,batch_size=2115) \n",
        "dls = DataLoaders(dl1,dl2) "
      ],
      "id": "bfe0f20d-8980-4937-99bc-47ae571548e9"
    },
    {
      "cell_type": "markdown",
      "metadata": {},
      "source": [
        "`(2)` lrnr 생성"
      ],
      "id": "9cf3b847-fd51-4cc7-82b5-e678f8a8b557"
    },
    {
      "cell_type": "code",
      "execution_count": 249,
      "metadata": {},
      "outputs": [],
      "source": [
        "net = torch.nn.Sequential(\n",
        "    torch.nn.Conv2d(1,16,(5,5)),\n",
        "    torch.nn.ReLU(),\n",
        "    torch.nn.MaxPool2d((2,2)),\n",
        "    torch.nn.Flatten(),\n",
        "    torch.nn.Linear(2304,1),\n",
        "    torch.nn.Sigmoid()\n",
        ")\n",
        "loss_fn = torch.nn.BCELoss() "
      ],
      "id": "b309d1a1-6aa5-47a1-beee-d03e3d1d3134"
    },
    {
      "cell_type": "code",
      "execution_count": 257,
      "metadata": {},
      "outputs": [],
      "source": [
        "def acc(yhat,y) : \n",
        "    return ((yhat>0.5)==y).float().mean()"
      ],
      "id": "54709edc-2ba4-4a47-a441-05923bdc439f"
    },
    {
      "cell_type": "code",
      "execution_count": 258,
      "metadata": {},
      "outputs": [],
      "source": [
        "def err(yhat,y):\n",
        "    return 1-((yhat>0.5)==y).float().mean()"
      ],
      "id": "12b7f206-7ee7-4b44-9e39-41ffb0e1c584"
    },
    {
      "cell_type": "code",
      "execution_count": 259,
      "metadata": {},
      "outputs": [],
      "source": [
        "lrnr = Learner(dls,net,loss_fn,metrics=[acc,err])"
      ],
      "id": "9cbbfc1a-6c88-4e2f-b564-c00307743872"
    },
    {
      "cell_type": "markdown",
      "metadata": {},
      "source": [
        "`(3)` 학습"
      ],
      "id": "5809baa8-a7e2-496b-a021-6afeb2c03648"
    },
    {
      "cell_type": "code",
      "execution_count": 260,
      "metadata": {},
      "outputs": [],
      "source": [
        "lrnr.fit(10)"
      ],
      "id": "0b6b130b-bdec-4d28-8ca1-fba498a3ad93"
    },
    {
      "cell_type": "markdown",
      "metadata": {},
      "source": [
        "`(4)` 예측\n",
        "\n",
        "-   생략\n",
        "\n",
        "## fastai지원 메트릭이용– 잘못된사용\n",
        "\n",
        "`(1)` dls 만들기"
      ],
      "id": "171742a8-1ddf-44b0-b2dc-24255c47ae2f"
    },
    {
      "cell_type": "code",
      "execution_count": 263,
      "metadata": {},
      "outputs": [],
      "source": [
        "ds1 = torch.utils.data.TensorDataset(X,y)\n",
        "ds2 = torch.utils.data.TensorDataset(XX,yy)\n",
        "dl1 = torch.utils.data.DataLoader(ds1,batch_size=1266) \n",
        "dl2 = torch.utils.data.DataLoader(ds2,batch_size=2115) \n",
        "dls = DataLoaders(dl1,dl2) "
      ],
      "id": "d1d2cfe0-bca6-417b-82df-f110d7eac22e"
    },
    {
      "cell_type": "markdown",
      "metadata": {},
      "source": [
        "`(2)` lrnr 생성"
      ],
      "id": "7fa5314d-7a0c-4ceb-88bf-0bf0a5e06280"
    },
    {
      "cell_type": "code",
      "execution_count": 264,
      "metadata": {},
      "outputs": [],
      "source": [
        "net = torch.nn.Sequential(\n",
        "    torch.nn.Conv2d(1,16,(5,5)),\n",
        "    torch.nn.ReLU(),\n",
        "    torch.nn.MaxPool2d((2,2)),\n",
        "    torch.nn.Flatten(),\n",
        "    torch.nn.Linear(2304,1),\n",
        "    torch.nn.Sigmoid()\n",
        ")\n",
        "loss_fn = torch.nn.BCELoss()\n",
        "lrnr = Learner(dls,net,loss_fn,metrics=[accuracy,error_rate])"
      ],
      "id": "f65b5074-dd5d-4043-a2c9-947f2a383aca"
    },
    {
      "cell_type": "code",
      "execution_count": 265,
      "metadata": {},
      "outputs": [],
      "source": [
        "accuracy??"
      ],
      "id": "b2905aa8-d964-49f6-9ec4-65bb51715e45"
    },
    {
      "cell_type": "code",
      "execution_count": 266,
      "metadata": {},
      "outputs": [],
      "source": [
        "error_rate??"
      ],
      "id": "486b648a-705b-4db8-9a40-916acb4830cb"
    },
    {
      "cell_type": "markdown",
      "metadata": {},
      "source": [
        "`(3)` 학습"
      ],
      "id": "ad1e88ed-9133-4ac5-a022-8bdd0006f32b"
    },
    {
      "cell_type": "code",
      "execution_count": 267,
      "metadata": {},
      "outputs": [],
      "source": [
        "lrnr.fit(10)"
      ],
      "id": "942bef4d-3e70-4f97-989e-7e832d626137"
    },
    {
      "cell_type": "markdown",
      "metadata": {},
      "source": [
        "-   이상하다..?\n",
        "\n",
        "`(4)` 예측"
      ],
      "id": "1de50dbd-ab32-405a-b012-ea4a7ee23d57"
    },
    {
      "cell_type": "code",
      "execution_count": 268,
      "metadata": {},
      "outputs": [],
      "source": [
        "lrnr.model.to(\"cpu\")"
      ],
      "id": "a072dbca-449b-4d58-905a-f9475befa5e4"
    },
    {
      "cell_type": "code",
      "execution_count": 269,
      "metadata": {},
      "outputs": [
        {
          "output_type": "display_data",
          "metadata": {},
          "data": {
            "image/png": "[encoded data removed]"
          }
        }
      ],
      "source": [
        "plt.plot(yy)\n",
        "plt.plot(lrnr.model(XX).data,'.')"
      ],
      "id": "dd9f238c-186e-4dc6-9c95-8700f86b07ba"
    },
    {
      "cell_type": "markdown",
      "metadata": {},
      "source": [
        "-   맞추는건 잘 맞추는데?\n",
        "\n",
        "## fastai지원 메트릭이용– 올바른 사용(1)\n",
        "\n",
        "`-` 가정\n",
        "\n",
        "-   X의 형태는 (n,채널,픽셀,픽셀)로 가정한다.\n",
        "-   y의 형태는 (n,) 벡터이다. 즉 $n\\times 1$ 이 아니라 그냥 길이가 $n$인\n",
        "    벡터로 가정한다.\n",
        "-   y의 각 원소는 0,1,2,3,… 와 같이 카테고리를 의미하는 숫자이어야 하며\n",
        "    이 숫자는 int형으로 저장되어야 한다.\n",
        "-   loss function은 CrossEntropyLoss()를 쓴다고 가정한다. (따라서\n",
        "    네트워크의 최종레이어는 torch.nn.Linear(?,클래스의수) 꼴이 되어야\n",
        "    한다.)\n",
        "\n",
        "`(1)` dls 만들기"
      ],
      "id": "e8d73a94-304f-4e26-8aa1-fefacd705e70"
    },
    {
      "cell_type": "code",
      "execution_count": 273,
      "metadata": {},
      "outputs": [],
      "source": [
        "y.to(torch.int64).reshape(-1),yy.to(torch.int64).reshape(-1)"
      ],
      "id": "2068e939-357c-40ea-b97e-d68acff113d3"
    },
    {
      "cell_type": "code",
      "execution_count": 275,
      "metadata": {},
      "outputs": [],
      "source": [
        "ds1 = torch.utils.data.TensorDataset(X,y.to(torch.int64).reshape(-1))\n",
        "ds2 = torch.utils.data.TensorDataset(XX,yy.to(torch.int64).reshape(-1))\n",
        "dl1 = torch.utils.data.DataLoader(ds1,batch_size=1266) \n",
        "dl2 = torch.utils.data.DataLoader(ds2,batch_size=2115) \n",
        "dls = DataLoaders(dl1,dl2) "
      ],
      "id": "b7c30bee-ed7e-471c-be52-2ee8004a74d5"
    },
    {
      "cell_type": "markdown",
      "metadata": {},
      "source": [
        "`(2)` lrnr 생성"
      ],
      "id": "29bfce48-12c1-4bcc-b9ea-c545998de237"
    },
    {
      "cell_type": "code",
      "execution_count": 277,
      "metadata": {},
      "outputs": [],
      "source": [
        "net = torch.nn.Sequential(\n",
        "    torch.nn.Conv2d(1,16,(5,5)),\n",
        "    torch.nn.ReLU(),\n",
        "    torch.nn.MaxPool2d((2,2)),\n",
        "    torch.nn.Flatten(),\n",
        "    torch.nn.Linear(2304,2),\n",
        ")\n",
        "loss_fn = torch.nn.CrossEntropyLoss()\n",
        "lrnr = Learner(dls,net,loss_fn,metrics=[accuracy,error_rate])"
      ],
      "id": "f6d910a3-c6be-4e02-af68-8e9b0f0c1d23"
    },
    {
      "cell_type": "markdown",
      "metadata": {},
      "source": [
        "`(3)` 학습"
      ],
      "id": "a8d25c96-22cc-4241-8d1f-4e481cea2cba"
    },
    {
      "cell_type": "code",
      "execution_count": 278,
      "metadata": {},
      "outputs": [],
      "source": [
        "lrnr.fit(10)"
      ],
      "id": "6e1258a1-ad26-470a-b5c1-42cdeea76d69"
    },
    {
      "cell_type": "markdown",
      "metadata": {},
      "source": [
        "## fastai지원 메트릭이용– 올바른 사용(2)\n",
        "\n",
        "`-` 가정\n",
        "\n",
        "-   X의 형태는 (n,채널,픽셀,픽셀)로 가정한다.\n",
        "-   y의 형태는 (n,클래스의수)로 가정한다. 즉 y가 one_hot 인코딩된 형태로\n",
        "    가정한다.\n",
        "-   y의 각 원소는 0 혹은 1이다.\n",
        "-   loss function은 CrossEntropyLoss()를 쓴다고 가정한다. (따라서\n",
        "    네트워크의 최종레이어는 torch.nn.Linear(?,클래스의수) 꼴이 되어야\n",
        "    한다.)\n",
        "\n",
        "`(1)` dls 만들기"
      ],
      "id": "2b6f2173-c497-48a4-80bf-1cdbe4516c1e"
    },
    {
      "cell_type": "code",
      "execution_count": 281,
      "metadata": {},
      "outputs": [],
      "source": [
        "y_onehot = torch.tensor(list(map(lambda x: [1.0,0.0] if x==0 else [0.0,1.0], y)))\n",
        "yy_onehot = torch.tensor(list(map(lambda x: [1.0,0.0] if x==0 else [0.0,1.0], yy)))\n",
        "# y_onehot = torch.nn.functional.one_hot(y.reshape(-1).to(torch.int64)).to(torch.float32)\n",
        "# yy_onehot = torch.nn.functional.one_hot(yy.reshape(-1).to(torch.int64)).to(torch.float32)"
      ],
      "id": "f83ce93e-96b6-4037-9c88-ceef3cc0350d"
    },
    {
      "cell_type": "code",
      "execution_count": 294,
      "metadata": {},
      "outputs": [],
      "source": [
        "ds1 = torch.utils.data.TensorDataset(X,y_onehot)\n",
        "ds2 = torch.utils.data.TensorDataset(XX,yy_onehot)\n",
        "dl1 = torch.utils.data.DataLoader(ds1,batch_size=1266) \n",
        "dl2 = torch.utils.data.DataLoader(ds2,batch_size=2115) \n",
        "dls = DataLoaders(dl1,dl2) "
      ],
      "id": "bef13ba4-6a21-40de-80fa-a6da21be160f"
    },
    {
      "cell_type": "markdown",
      "metadata": {},
      "source": [
        "`(2)` lrnr 생성"
      ],
      "id": "b1266be0-30ed-4110-bfab-614413185ee3"
    },
    {
      "cell_type": "code",
      "execution_count": 301,
      "metadata": {},
      "outputs": [],
      "source": [
        "net = torch.nn.Sequential(\n",
        "    torch.nn.Conv2d(1,16,(5,5)),\n",
        "    torch.nn.ReLU(),\n",
        "    torch.nn.MaxPool2d((2,2)),\n",
        "    torch.nn.Flatten(),\n",
        "    torch.nn.Linear(2304,2),\n",
        "    #torch.nn.Softmax()\n",
        ")\n",
        "loss_fn = torch.nn.CrossEntropyLoss() \n",
        "lrnr = Learner(dls,net,loss_fn,metrics=[accuracy_multi])"
      ],
      "id": "cbf958b9-93e6-482a-ab02-4744e5b36985"
    },
    {
      "cell_type": "markdown",
      "metadata": {},
      "source": [
        "`(3)` 학습"
      ],
      "id": "bb0380c9-721f-4dcd-b5fb-5da6973f6e79"
    },
    {
      "cell_type": "code",
      "execution_count": 303,
      "metadata": {},
      "outputs": [],
      "source": [
        "lrnr.fit(10)"
      ],
      "id": "56cc9b09-4374-434f-8e8e-7d48e19821ae"
    }
  ],
  "nbformat": 4,
  "nbformat_minor": 5,
  "metadata": {
    "kernelspec": {
      "name": "python3",
      "display_name": "Python 3",
      "language": "python"
    },
    "language_info": {
      "name": "python",
      "codemirror_mode": {
        "name": "ipython",
        "version": "3"
      },
      "file_extension": ".py",
      "mimetype": "text/x-python",
      "nbconvert_exporter": "python",
      "pygments_lexer": "ipython3",
      "version": "3.7.15"
    }
  }
}