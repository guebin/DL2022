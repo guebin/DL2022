{
  "cells": [
    {
      "cell_type": "markdown",
      "metadata": {},
      "source": [
        "# 07wk-2: 이미지분석 (1)\n",
        "\n",
        "최규빈  \n",
        "2022-10-18\n",
        "\n",
        "> CNN– CNN 예비학습, CNN 구현 (CPU), CNN 구현 (GPU), BCEWithLogisticLoss\n",
        "\n",
        "# 강의영상\n",
        "\n",
        "> <https://youtube.com/playlist?list=PLQqh36zP38-ymnoeGZPPvaaB35JmhRiTi>\n",
        "\n",
        "# import"
      ],
      "id": "5cca2ac9-beb2-42c2-885a-0271e66ed2c9"
    },
    {
      "cell_type": "code",
      "execution_count": 1,
      "metadata": {},
      "outputs": [],
      "source": [
        "import torch \n",
        "import torchvision\n",
        "from fastai.vision.all import * \n",
        "import time"
      ],
      "id": "e8aeb3c7-f3dc-4c47-802b-0f7766cec272"
    },
    {
      "cell_type": "code",
      "execution_count": 3,
      "metadata": {},
      "outputs": [],
      "source": [
        "import graphviz\n",
        "def gv(s): return graphviz.Source('digraph G{ rankdir=\"LR\"'+s + '; }');"
      ],
      "id": "d398d2e9-1dc1-4109-8301-d0301b78c7e8"
    },
    {
      "cell_type": "markdown",
      "metadata": {},
      "source": [
        "# data\n",
        "\n",
        "`-` download data"
      ],
      "id": "a262c6e2-5acb-4323-b6f8-2cc5b4058015"
    },
    {
      "cell_type": "code",
      "execution_count": 12,
      "metadata": {},
      "outputs": [],
      "source": [
        "path = untar_data(URLs.MNIST)"
      ],
      "id": "39bffb35-6c53-4979-8ce3-ccb35122ccc8"
    },
    {
      "cell_type": "markdown",
      "metadata": {},
      "source": [
        "`-` training set"
      ],
      "id": "b78ec1b2-320d-4f50-8a2d-43fb35240c7d"
    },
    {
      "cell_type": "code",
      "execution_count": 13,
      "metadata": {},
      "outputs": [],
      "source": [
        "X0 = torch.stack([torchvision.io.read_image(str(fname)) for fname in (path/'training/0').ls()])\n",
        "X1 = torch.stack([torchvision.io.read_image(str(fname)) for fname in (path/'training/1').ls()])\n",
        "X = torch.concat([X0,X1])/255\n",
        "y = torch.tensor([0.0]*len(X0) + [1.0]*len(X1)).reshape(-1,1)"
      ],
      "id": "6489e671-2055-4c2b-80f7-b9724c3e26d1"
    },
    {
      "cell_type": "markdown",
      "metadata": {},
      "source": [
        "`-` test set"
      ],
      "id": "9b4cc5c3-cf8a-4bf3-848c-09ed3c8063be"
    },
    {
      "cell_type": "code",
      "execution_count": 14,
      "metadata": {},
      "outputs": [],
      "source": [
        "X0 = torch.stack([torchvision.io.read_image(str(fname)) for fname in (path/'testing/0').ls()])\n",
        "X1 = torch.stack([torchvision.io.read_image(str(fname)) for fname in (path/'testing/1').ls()])\n",
        "XX = torch.concat([X0,X1])/255\n",
        "yy = torch.tensor([0.0]*len(X0) + [1.0]*len(X1)).reshape(-1,1)"
      ],
      "id": "16d4b618-f7fe-4507-8281-0502e3c1595b"
    },
    {
      "cell_type": "code",
      "execution_count": 15,
      "metadata": {},
      "outputs": [],
      "source": [
        "X.shape,XX.shape,y.shape,yy.shape"
      ],
      "id": "8aba765c-0ccb-4b2c-a275-1967217f8598"
    },
    {
      "cell_type": "markdown",
      "metadata": {},
      "source": [
        "# CNN 예비학습\n",
        "\n",
        "## 기존의 MLP 모형\n",
        "\n",
        "`-` 교재의 모형"
      ],
      "id": "58d991df-5386-43cc-965e-85ee74d1a300"
    },
    {
      "cell_type": "code",
      "execution_count": 4,
      "metadata": {},
      "outputs": [
        {
          "output_type": "display_data",
          "metadata": {},
          "data": {
            "image/svg+xml": "PD94bWwgdmVyc2lvbj0iMS4wIiBlbmNvZGluZz0iVVRGLTgiIHN0YW5kYWxvbmU9Im5vIj8+Cjwh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\nZz4KPC9nPgo8L3N2Zz4K\n"
          }
        }
      ],
      "source": [
        "gv('''\n",
        "splines=line\n",
        "subgraph cluster_1{\n",
        "    style=filled;\n",
        "    color=lightgrey;\n",
        "    \"x1\"\n",
        "    \"x2\"\n",
        "    \"..\"\n",
        "    \"x784\"\n",
        "    label = \"Layer 0\"\n",
        "}\n",
        "subgraph cluster_2{\n",
        "    style=filled;\n",
        "    color=lightgrey;\n",
        "    \"x1\" -> \"node1\"\n",
        "    \"x2\" -> \"node1\"\n",
        "    \"..\" -> \"node1\"\n",
        "    \n",
        "    \"x784\" -> \"node1\"\n",
        "    \"x1\" -> \"node2\"\n",
        "    \"x2\" -> \"node2\"\n",
        "    \"..\" -> \"node2\"\n",
        "    \"x784\" -> \"node2\"\n",
        "    \n",
        "    \"x1\" -> \"...\"\n",
        "    \"x2\" -> \"...\"\n",
        "    \"..\" -> \"...\"\n",
        "    \"x784\" -> \"...\"\n",
        "\n",
        "    \"x1\" -> \"node30\"\n",
        "    \"x2\" -> \"node30\"\n",
        "    \"..\" -> \"node30\"\n",
        "    \"x784\" -> \"node30\"\n",
        "\n",
        "\n",
        "    label = \"Layer 1: ReLU\"\n",
        "}\n",
        "subgraph cluster_3{\n",
        "    style=filled;\n",
        "    color=lightgrey;\n",
        "    \"node1\" -> \"y\"\n",
        "    \"node2\" -> \"y\"\n",
        "    \"...\" -> \"y\"\n",
        "    \"node30\" -> \"y\"\n",
        "    label = \"Layer 2: Sigmoid\"\n",
        "}\n",
        "''')"
      ],
      "id": "5433e463-f622-4f92-92bf-9ccb76490080"
    },
    {
      "cell_type": "markdown",
      "metadata": {},
      "source": [
        "`-` 왜 28 $\\times$ 28 이미지를 784개의 벡터로 만든 다음에 모형을 돌려야\n",
        "하는가?\n",
        "\n",
        "`-` 기존에 개발된 모형이 회귀분석 기반으로 되어있어서 결국 회귀분석 틀에\n",
        "짜 맞추어서 이미지자료를 분석하는 느낌\n",
        "\n",
        "`-` observation의 차원은 $784$가 아니라 $1\\times (28\\times 28)$이 되어야\n",
        "맞다.\n",
        "\n",
        "## 새로운 아키텍처의 제시\n",
        "\n",
        "`-` 예전\n",
        "\n",
        "$\\underset{(n,784)}{\\bf X} \\overset{l_1}{\\to} \\underset{(n,30)}{\\boldsymbol u^{(1)}} \\overset{relu}{\\to} \\underset{(n,30)}{\\boldsymbol v^{(1)}} \\overset{l_2}{\\to} \\underset{(n,1)}{\\boldsymbol u^{(2)}} \\overset{sig}{\\to} \\underset{(n,1)}{\\boldsymbol v^{(2)}}=\\underset{(n,1)}{\\hat{\\boldsymbol y}}$\n",
        "\n",
        "-   $l_1$: 선형변환, feature를 뻥튀기하는 역할\n",
        "-   $relu$: 뻥튀기된 feature에 비선형을 추가하여 표현력 극대화\n",
        "-   $l_2$: 선형변환, 뻥튀기된 feature를 요약 하는 역할 (=데이터를\n",
        "    요약하는 역할)\n",
        "\n",
        "`-` 새로운 아키텍처\n",
        "\n",
        "-   $conv$: feature를 뻥튀기하는 역할 (2d ver $l_1$ 느낌)\n",
        "-   $relu$:\n",
        "-   $pooling$: 데이터를 요약하는 역할\n",
        "\n",
        "### CONV 레이어 (선형변환의 2D 버전)\n",
        "\n",
        "`-` 우선 연산하는 방법만 살펴보자.\n",
        "\n",
        "**(예시1)**"
      ],
      "id": "ed9201c2-d0ad-47ee-8533-93f02be70736"
    },
    {
      "cell_type": "code",
      "execution_count": 17,
      "metadata": {},
      "outputs": [],
      "source": [
        "torch.manual_seed(43052)\n",
        "_conv = torch.nn.Conv2d(1,1,(2,2)) # 입력1, 출력1, (2,2) window size\n",
        "_conv.weight.data, _conv.bias.data"
      ],
      "id": "a9969a99-1b6c-44bd-8d37-42716dce9884"
    },
    {
      "cell_type": "code",
      "execution_count": 18,
      "metadata": {},
      "outputs": [],
      "source": [
        "_X = torch.arange(0,4).reshape(1,2,2).float()\n",
        "_X"
      ],
      "id": "991a951c-f612-4076-ad9b-f458d0562725"
    },
    {
      "cell_type": "code",
      "execution_count": 19,
      "metadata": {},
      "outputs": [],
      "source": [
        "(-0.1733)*0 + (-0.4235)*1 +\\\n",
        "(0.1802)*2 + (0.4668)*3 + 0.2037"
      ],
      "id": "7031e00c-fb2d-40d8-a473-649e69f2c6bb"
    },
    {
      "cell_type": "code",
      "execution_count": 20,
      "metadata": {},
      "outputs": [],
      "source": [
        "_conv(_X)"
      ],
      "id": "9621926e-6de4-4b59-b17f-14db6fdceee7"
    },
    {
      "cell_type": "markdown",
      "metadata": {},
      "source": [
        "**(예시2) 잘하면 평균도 계산하겠다?**"
      ],
      "id": "3962f2a4-b9ad-410d-85ce-447d4c1acd20"
    },
    {
      "cell_type": "code",
      "execution_count": 21,
      "metadata": {},
      "outputs": [],
      "source": [
        "_conv.weight.data = torch.tensor([[[[1/4, 1/4],[1/4,1/4]]]])\n",
        "_conv.bias.data = torch.tensor([0.0])"
      ],
      "id": "84ac38cb-9a6d-4e6f-84e5-7eaa42963a18"
    },
    {
      "cell_type": "code",
      "execution_count": 22,
      "metadata": {},
      "outputs": [],
      "source": [
        "_conv(_X) , (0+1+2+3)/4"
      ],
      "id": "b147cc5f-b115-47e4-87a6-87001992e123"
    },
    {
      "cell_type": "markdown",
      "metadata": {},
      "source": [
        "**(예시3) 이동평균?**"
      ],
      "id": "1851e510-0f81-43af-9aed-d0a269c3793b"
    },
    {
      "cell_type": "code",
      "execution_count": 23,
      "metadata": {},
      "outputs": [],
      "source": [
        "_X = torch.arange(0,25).float().reshape(1,5,5) \n",
        "_X"
      ],
      "id": "97223fa1-9cdf-488b-9c99-7da0dca9d79e"
    },
    {
      "cell_type": "code",
      "execution_count": 24,
      "metadata": {},
      "outputs": [],
      "source": [
        "_conv(_X)"
      ],
      "id": "43d3213d-dd94-4213-abfa-6429b325f8af"
    },
    {
      "cell_type": "markdown",
      "metadata": {},
      "source": [
        "**(예시4) window size가 증가한다면? (2d의 이동평균느낌)**"
      ],
      "id": "c1ed4f2b-b891-41c5-b87e-674aaf6a89e3"
    },
    {
      "cell_type": "code",
      "execution_count": 25,
      "metadata": {},
      "outputs": [],
      "source": [
        "_conv = torch.nn.Conv2d(1,1,(3,3)) # 입력1, 출력1, (3,3) window size\n",
        "_conv.bias.data = torch.tensor([0.0])\n",
        "_conv.weight.data = torch.tensor([[[[1/9,1/9,1/9],[1/9,1/9,1/9],[1/9,1/9,1/9]]]])"
      ],
      "id": "388c1e0c-4692-450c-bce8-5a8d3f6282eb"
    },
    {
      "cell_type": "code",
      "execution_count": 26,
      "metadata": {},
      "outputs": [],
      "source": [
        "_X,_conv(_X)"
      ],
      "id": "cb3807c3-e14c-4a77-9306-012cf317461b"
    },
    {
      "cell_type": "code",
      "execution_count": 27,
      "metadata": {},
      "outputs": [],
      "source": [
        "(1+2+3+6+7+8+11+12+13)/9"
      ],
      "id": "31b9287a-e9ec-440f-882f-c3b41092eb2d"
    },
    {
      "cell_type": "markdown",
      "metadata": {},
      "source": [
        "**(예시5) 피처뻥튀기**"
      ],
      "id": "103d2f25-c4ab-40f8-ab33-017a316e68d2"
    },
    {
      "cell_type": "code",
      "execution_count": 28,
      "metadata": {},
      "outputs": [],
      "source": [
        "_X = torch.tensor([1.0,1.0,1.0,1.0]).reshape(1,2,2)\n",
        "_X"
      ],
      "id": "0ac8e33a-1e11-4fe4-891f-60ee91c63ff3"
    },
    {
      "cell_type": "code",
      "execution_count": 29,
      "metadata": {},
      "outputs": [],
      "source": [
        "_conv = torch.nn.Conv2d(1,8,(2,2))\n",
        "_conv.weight.data.shape,_conv.bias.data.shape"
      ],
      "id": "b280cd60-036f-4aa4-b35c-efbb6732cbea"
    },
    {
      "cell_type": "code",
      "execution_count": 30,
      "metadata": {},
      "outputs": [],
      "source": [
        "_conv(_X).reshape(-1)"
      ],
      "id": "23e8011d-1d62-47f1-91d4-3568f4953645"
    },
    {
      "cell_type": "code",
      "execution_count": 31,
      "metadata": {},
      "outputs": [],
      "source": [
        "torch.sum(_conv.weight.data[0,...])+_conv.bias.data[0],\\\n",
        "torch.sum(_conv.weight.data[1,...])+_conv.bias.data[1]"
      ],
      "id": "153c59c1-33b9-4950-b16d-4511b354ecc5"
    },
    {
      "cell_type": "markdown",
      "metadata": {},
      "source": [
        "결국 아래를 계산한다는 의미"
      ],
      "id": "3678a591-a5b7-4d85-b63e-c4d2bd7792ca"
    },
    {
      "cell_type": "code",
      "execution_count": 32,
      "metadata": {},
      "outputs": [],
      "source": [
        "torch.sum(_conv.weight.data,axis=(2,3)).reshape(-1)+ _conv.bias.data"
      ],
      "id": "94a4a2e3-d0f1-4d85-8991-34c10249a7ac"
    },
    {
      "cell_type": "code",
      "execution_count": 33,
      "metadata": {},
      "outputs": [],
      "source": [
        "_conv(_X).reshape(-1)"
      ],
      "id": "6ebc2d30-e6f1-40a2-9ff7-ec7aa3194b86"
    },
    {
      "cell_type": "markdown",
      "metadata": {},
      "source": [
        "***(잔소리) axis 사용 익숙하지 않으면 아래 꼭 들으세요..***\n",
        "\n",
        "-   <https://guebin.github.io/IP2022/2022/04/11/(6주차)-4월11일.html> ,\n",
        "    numpy공부 4단계: 축\n",
        "\n",
        "## ReLU (2d)"
      ],
      "id": "41a6ad5c-db94-4da5-a8d7-fc79940f7c0f"
    },
    {
      "cell_type": "code",
      "execution_count": 34,
      "metadata": {},
      "outputs": [],
      "source": [
        "_X = torch.randn(25).reshape(1,5,5)\n",
        "_X"
      ],
      "id": "ea5be676-9291-4d22-b5c2-282c7a7de5da"
    },
    {
      "cell_type": "code",
      "execution_count": 35,
      "metadata": {},
      "outputs": [],
      "source": [
        "a1=torch.nn.ReLU()"
      ],
      "id": "122e8970-d0f0-468a-8e7d-4af2aee5c160"
    },
    {
      "cell_type": "code",
      "execution_count": 36,
      "metadata": {},
      "outputs": [],
      "source": [
        "a1(_X)"
      ],
      "id": "47e6f6e6-684a-4861-bbe5-08bdf7010df8"
    },
    {
      "cell_type": "markdown",
      "metadata": {},
      "source": [
        "## Maxpooling 레이어"
      ],
      "id": "6bae0dac-268d-4f33-a926-3ecafda2a2d9"
    },
    {
      "cell_type": "code",
      "execution_count": 37,
      "metadata": {},
      "outputs": [],
      "source": [
        "_maxpooling = torch.nn.MaxPool2d((2,2))"
      ],
      "id": "cb7551f8-89ab-4322-aa7e-3b84c024284a"
    },
    {
      "cell_type": "code",
      "execution_count": 38,
      "metadata": {},
      "outputs": [],
      "source": [
        "_X = torch.arange(16).float().reshape(1,4,4) "
      ],
      "id": "15a0decb-1927-4cbc-ab1b-42882d9c40de"
    },
    {
      "cell_type": "code",
      "execution_count": 39,
      "metadata": {},
      "outputs": [],
      "source": [
        "_X, _maxpooling(_X) "
      ],
      "id": "4a7bc018-294f-45b3-b27e-8109aff3fbb6"
    },
    {
      "cell_type": "code",
      "execution_count": 40,
      "metadata": {},
      "outputs": [],
      "source": [
        "_X = torch.arange(25).float().reshape(1,5,5) "
      ],
      "id": "89cf097d-bdd0-4e46-a0ef-d5ea84536467"
    },
    {
      "cell_type": "code",
      "execution_count": 41,
      "metadata": {},
      "outputs": [],
      "source": [
        "_X, _maxpooling(_X) "
      ],
      "id": "307ef2c4-6c01-45dc-992f-1b1dffd286ca"
    },
    {
      "cell_type": "code",
      "execution_count": 42,
      "metadata": {},
      "outputs": [],
      "source": [
        "_X = torch.arange(36).float().reshape(1,6,6) "
      ],
      "id": "6a8a9f54-5e78-4eff-92fc-9b0ff5be51ed"
    },
    {
      "cell_type": "code",
      "execution_count": 43,
      "metadata": {},
      "outputs": [],
      "source": [
        "_X, _maxpooling(_X) "
      ],
      "id": "7e04075a-b591-41f1-a986-31b8149657b5"
    },
    {
      "cell_type": "markdown",
      "metadata": {},
      "source": [
        "# CNN 구현 (CPU)"
      ],
      "id": "50268075-6f2d-47d0-8f7b-ce27457ba8c7"
    },
    {
      "cell_type": "code",
      "execution_count": 44,
      "metadata": {},
      "outputs": [],
      "source": [
        "X.shape"
      ],
      "id": "b5d0e8ee-3db4-4e44-af39-9f769b4f6080"
    },
    {
      "cell_type": "markdown",
      "metadata": {},
      "source": [
        "## (1) Conv2d"
      ],
      "id": "279dda47-b7a2-43b4-9964-e3675cc45ddf"
    },
    {
      "cell_type": "code",
      "execution_count": 45,
      "metadata": {},
      "outputs": [
        {
          "output_type": "stream",
          "name": "stdout",
          "text": [
            "torch.Size([12665, 1, 28, 28])\n",
            "torch.Size([12665, 16, 24, 24])"
          ]
        }
      ],
      "source": [
        "c1 = torch.nn.Conv2d(1,16,(5,5))\n",
        "print(X.shape)\n",
        "print(c1(X).shape)"
      ],
      "id": "bcf6d833-cfaa-4593-8cc2-557cde30971e"
    },
    {
      "cell_type": "markdown",
      "metadata": {},
      "source": [
        "## (2) ReLU"
      ],
      "id": "795d8046-2779-4569-ab0d-ee6cd31f5175"
    },
    {
      "cell_type": "code",
      "execution_count": 46,
      "metadata": {},
      "outputs": [
        {
          "output_type": "stream",
          "name": "stdout",
          "text": [
            "torch.Size([12665, 1, 28, 28])\n",
            "torch.Size([12665, 16, 24, 24])\n",
            "torch.Size([12665, 16, 24, 24])"
          ]
        }
      ],
      "source": [
        "a1 = torch.nn.ReLU()\n",
        "print(X.shape)\n",
        "print(c1(X).shape)\n",
        "print(a1(c1(X)).shape)"
      ],
      "id": "8e84c48f-3f7e-4c39-abb1-28caafdd352b"
    },
    {
      "cell_type": "markdown",
      "metadata": {},
      "source": [
        "## (3) MaxPool2D"
      ],
      "id": "c99530dd-b613-4699-966d-6fcd3fd57200"
    },
    {
      "cell_type": "code",
      "execution_count": 47,
      "metadata": {},
      "outputs": [
        {
          "output_type": "stream",
          "name": "stdout",
          "text": [
            "torch.Size([12665, 1, 28, 28])\n",
            "torch.Size([12665, 16, 24, 24])\n",
            "torch.Size([12665, 16, 24, 24])\n",
            "torch.Size([12665, 16, 12, 12])"
          ]
        }
      ],
      "source": [
        "m1 =  torch.nn.MaxPool2d((2,2)) \n",
        "print(X.shape)\n",
        "print(c1(X).shape)\n",
        "print(a1(c1(X)).shape)\n",
        "print(m1(a1(c1(X))).shape)"
      ],
      "id": "80093084-fd58-4ae5-bcc2-9edb7551a2e9"
    },
    {
      "cell_type": "markdown",
      "metadata": {},
      "source": [
        "## (4) 적당히 마무리하고 시그모이드 태우자\n",
        "\n",
        "`-` 펼치자.\n",
        "\n",
        "(방법1)"
      ],
      "id": "019e127a-3f6e-4c50-87b3-9cbf75b63e8e"
    },
    {
      "cell_type": "code",
      "execution_count": 48,
      "metadata": {},
      "outputs": [],
      "source": [
        "m1(a1(c1(X))).reshape(-1,2304).shape"
      ],
      "id": "05856680-4cb3-4f96-a95c-ce7adde7d401"
    },
    {
      "cell_type": "code",
      "execution_count": 49,
      "metadata": {},
      "outputs": [],
      "source": [
        "16*12*12 "
      ],
      "id": "3535937f-7f1e-472c-aad4-1f45616a03e2"
    },
    {
      "cell_type": "markdown",
      "metadata": {},
      "source": [
        "(방법2)"
      ],
      "id": "f17e6866-9f3b-4c62-b507-4e32f3672680"
    },
    {
      "cell_type": "code",
      "execution_count": 50,
      "metadata": {},
      "outputs": [],
      "source": [
        "flttn = torch.nn.Flatten()"
      ],
      "id": "eb8f2791-62fa-45de-ac29-33e78c73c421"
    },
    {
      "cell_type": "code",
      "execution_count": 51,
      "metadata": {},
      "outputs": [
        {
          "output_type": "stream",
          "name": "stdout",
          "text": [
            "torch.Size([12665, 1, 28, 28])\n",
            "torch.Size([12665, 16, 24, 24])\n",
            "torch.Size([12665, 16, 24, 24])\n",
            "torch.Size([12665, 16, 12, 12])\n",
            "torch.Size([12665, 2304])"
          ]
        }
      ],
      "source": [
        "print(X.shape)\n",
        "print(c1(X).shape)\n",
        "print(a1(c1(X)).shape)\n",
        "print(m1(a1(c1(X))).shape)\n",
        "print(flttn(m1(a1(c1(X)))).shape)"
      ],
      "id": "879ab12c-e064-428a-8942-2f5c53d47b68"
    },
    {
      "cell_type": "markdown",
      "metadata": {},
      "source": [
        "`-` 2304 $\\to$ 1 로 차원축소하는 선형레이어를 설계"
      ],
      "id": "c04857f7-f3d8-47c3-b106-db791630228b"
    },
    {
      "cell_type": "code",
      "execution_count": 52,
      "metadata": {},
      "outputs": [
        {
          "output_type": "stream",
          "name": "stdout",
          "text": [
            "torch.Size([12665, 1, 28, 28])\n",
            "torch.Size([12665, 16, 24, 24])\n",
            "torch.Size([12665, 16, 24, 24])\n",
            "torch.Size([12665, 16, 12, 12])\n",
            "torch.Size([12665, 2304])\n",
            "torch.Size([12665, 1])"
          ]
        }
      ],
      "source": [
        "l1 = torch.nn.Linear(in_features=2304,out_features=1) \n",
        "print(X.shape)\n",
        "print(c1(X).shape)\n",
        "print(a1(c1(X)).shape)\n",
        "print(m1(a1(c1(X))).shape)\n",
        "print(flttn(m1(a1(c1(X)))).shape)\n",
        "print(l1(flttn(m1(a1(c1(X))))).shape)"
      ],
      "id": "61e16c93-14fb-4185-8f2a-47cc60958387"
    },
    {
      "cell_type": "markdown",
      "metadata": {},
      "source": [
        "`-` 시그모이드"
      ],
      "id": "19fc0b3e-d2f9-4460-8dda-3afb7e99eebe"
    },
    {
      "cell_type": "code",
      "execution_count": 53,
      "metadata": {},
      "outputs": [],
      "source": [
        "a2 = torch.nn.Sigmoid()"
      ],
      "id": "1323474f-6e98-4a3a-9ce2-a660d9dcf795"
    },
    {
      "cell_type": "code",
      "execution_count": 54,
      "metadata": {},
      "outputs": [
        {
          "output_type": "stream",
          "name": "stdout",
          "text": [
            "torch.Size([12665, 1, 28, 28])\n",
            "torch.Size([12665, 16, 24, 24])\n",
            "torch.Size([12665, 16, 24, 24])\n",
            "torch.Size([12665, 16, 12, 12])\n",
            "torch.Size([12665, 2304])\n",
            "torch.Size([12665, 1])\n",
            "torch.Size([12665, 1])"
          ]
        }
      ],
      "source": [
        "l1 = torch.nn.Linear(in_features=2304,out_features=1) \n",
        "print(X.shape)\n",
        "print(c1(X).shape)\n",
        "print(a1(c1(X)).shape)\n",
        "print(m1(a1(c1(X))).shape)\n",
        "print(flttn(m1(a1(c1(X)))).shape)\n",
        "print(l1(flttn(m1(a1(c1(X))))).shape)\n",
        "print(a1(l1(flttn(m1(a1(c1(X)))))).shape)"
      ],
      "id": "28a75993-5b1e-4a17-bd07-cf3577cac51e"
    },
    {
      "cell_type": "markdown",
      "metadata": {},
      "source": [
        "`-` 네트워크 설계"
      ],
      "id": "9f6d929d-dcbc-45f8-af45-72a96d4cb51b"
    },
    {
      "cell_type": "code",
      "execution_count": 55,
      "metadata": {},
      "outputs": [],
      "source": [
        "net = torch.nn.Sequential(\n",
        "    c1, # 2d: 컨볼루션(선형변환), 피처 뻥튀기 \n",
        "    a1, # 2d: 렐루(비선형변환)\n",
        "    m1, # 2d: 맥스풀링: 데이터요약\n",
        "    flttn, # 2d->1d \n",
        "    l1, # 1d: 선형변환\n",
        "    a2 # 1d: 시그모이드(비선형변환) \n",
        ")"
      ],
      "id": "4ce9e10e-81df-4a93-8363-b7fed30bd2cb"
    },
    {
      "cell_type": "code",
      "execution_count": 56,
      "metadata": {},
      "outputs": [],
      "source": [
        "loss_fn = torch.nn.BCELoss()\n",
        "optimizr = torch.optim.Adam(net.parameters())"
      ],
      "id": "cd9e9e2f-0c38-454a-b778-3690bab4c848"
    },
    {
      "cell_type": "code",
      "execution_count": 57,
      "metadata": {},
      "outputs": [],
      "source": [
        "t1= time.time()\n",
        "for epoc in range(100): \n",
        "    ## 1\n",
        "    yhat = net(X) \n",
        "    ## 2\n",
        "    loss = loss_fn(yhat,y) \n",
        "    ## 3\n",
        "    loss.backward()\n",
        "    ## 4\n",
        "    optimizr.step()\n",
        "    optimizr.zero_grad()\n",
        "t2= time.time()\n",
        "t2-t1"
      ],
      "id": "997bddef-5827-436b-9a50-8acc4e37be57"
    },
    {
      "cell_type": "code",
      "execution_count": 58,
      "metadata": {},
      "outputs": [
        {
          "output_type": "display_data",
          "metadata": {},
          "data": {
            "image/png": "[encoded data removed]"
          }
        }
      ],
      "source": [
        "plt.plot(y)\n",
        "plt.plot(net(X).data,'.')\n",
        "plt.title('Traning Set',size=15)"
      ],
      "id": "bf52695c-2bf4-40c6-a4be-6eabf2a7614b"
    },
    {
      "cell_type": "code",
      "execution_count": 59,
      "metadata": {},
      "outputs": [
        {
          "output_type": "display_data",
          "metadata": {},
          "data": {
            "image/png": "[encoded data removed]"
          }
        }
      ],
      "source": [
        "plt.plot(yy)\n",
        "plt.plot(net(XX).data,'.')\n",
        "plt.title('Test Set',size=15)"
      ],
      "id": "5a6a3dfc-e0d7-4bed-94de-9ae7f9b65d69"
    },
    {
      "cell_type": "markdown",
      "metadata": {},
      "source": [
        "# CNN 구현 (GPU)\n",
        "\n",
        "## 1. dls"
      ],
      "id": "d01b3d62-0460-4d03-96d6-47d8498447c8"
    },
    {
      "cell_type": "code",
      "execution_count": 60,
      "metadata": {},
      "outputs": [],
      "source": [
        "ds1=torch.utils.data.TensorDataset(X,y)\n",
        "ds2=torch.utils.data.TensorDataset(XX,yy)"
      ],
      "id": "eaf3afdc-2b48-409d-8bd9-53c1c6954604"
    },
    {
      "cell_type": "code",
      "execution_count": 61,
      "metadata": {},
      "outputs": [],
      "source": [
        "X.shape"
      ],
      "id": "69a8fada-04fd-4607-a48b-78d4ecabda21"
    },
    {
      "cell_type": "code",
      "execution_count": 62,
      "metadata": {},
      "outputs": [],
      "source": [
        "len(X)/10"
      ],
      "id": "e47f93fe-5bd1-4b75-8848-2a1f4bd3aae3"
    },
    {
      "cell_type": "code",
      "execution_count": 63,
      "metadata": {},
      "outputs": [],
      "source": [
        "len(XX)"
      ],
      "id": "0bdaff78-edc5-4329-b245-08cc77ded7ca"
    },
    {
      "cell_type": "code",
      "execution_count": 64,
      "metadata": {},
      "outputs": [],
      "source": [
        "dl1 = torch.utils.data.DataLoader(ds1,batch_size=1266) \n",
        "dl2 = torch.utils.data.DataLoader(ds2,batch_size=2115) "
      ],
      "id": "484e2e37-22db-44ef-a59c-dd5710c0b909"
    },
    {
      "cell_type": "code",
      "execution_count": 65,
      "metadata": {},
      "outputs": [],
      "source": [
        "dls = DataLoaders(dl1,dl2) # 이거 fastai 지원함수입니다"
      ],
      "id": "03f60e3c-6107-4360-8567-7e03550656a2"
    },
    {
      "cell_type": "markdown",
      "metadata": {},
      "source": [
        "## 2. lrnr 생성: 아키텍처, 손실함수, 옵티마이저"
      ],
      "id": "7d1319d7-e357-476f-8523-ffbc8b58a992"
    },
    {
      "cell_type": "code",
      "execution_count": 66,
      "metadata": {},
      "outputs": [],
      "source": [
        "net = torch.nn.Sequential(\n",
        "    torch.nn.Conv2d(1,16,(5,5)),\n",
        "    torch.nn.ReLU(),\n",
        "    torch.nn.MaxPool2d((2,2)),\n",
        "    torch.nn.Flatten(),\n",
        "    torch.nn.Linear(2304,1),\n",
        "    torch.nn.Sigmoid()\n",
        ")\n",
        "loss_fn = torch.nn.BCELoss()"
      ],
      "id": "24c43b2f-671f-4073-a75f-c877bc8c4cde"
    },
    {
      "cell_type": "code",
      "execution_count": 67,
      "metadata": {},
      "outputs": [],
      "source": [
        "lrnr = Learner(dls,net,loss_fn)"
      ],
      "id": "0af543aa-cc5d-4269-ba29-59514fb6da4e"
    },
    {
      "cell_type": "markdown",
      "metadata": {},
      "source": [
        "## 3. 학습"
      ],
      "id": "3ba99af6-0a67-4117-bc2e-cbed9ce37e5a"
    },
    {
      "cell_type": "code",
      "execution_count": 68,
      "metadata": {},
      "outputs": [],
      "source": [
        "lrnr.fit(10) "
      ],
      "id": "5c4cc888-1049-4c89-a0fb-38c110608a1f"
    },
    {
      "cell_type": "markdown",
      "metadata": {},
      "source": [
        "## 4. 예측 및 시각화"
      ],
      "id": "e2533b25-41d4-47c6-be55-c306ef1b6df3"
    },
    {
      "cell_type": "code",
      "execution_count": 69,
      "metadata": {},
      "outputs": [],
      "source": [
        "net.to(\"cpu\") "
      ],
      "id": "8f0f5f4e-f305-4f40-b209-b3ba89b0d4c4"
    },
    {
      "cell_type": "markdown",
      "metadata": {},
      "source": [
        "`-` 결과를 시각화하면 아래와 같다."
      ],
      "id": "844f454e-f79b-48ca-bd1c-00d88a426116"
    },
    {
      "cell_type": "code",
      "execution_count": 70,
      "metadata": {},
      "outputs": [
        {
          "output_type": "display_data",
          "metadata": {},
          "data": {
            "image/png": "[encoded data removed]"
          }
        }
      ],
      "source": [
        "plt.plot(net(X).data,'.')\n",
        "plt.title(\"Training Set\",size=15)"
      ],
      "id": "8091ef0a-2092-464b-8f8c-b19211977cc4"
    },
    {
      "cell_type": "code",
      "execution_count": 71,
      "metadata": {},
      "outputs": [
        {
          "output_type": "display_data",
          "metadata": {},
          "data": {
            "image/png": "[encoded data removed]"
          }
        }
      ],
      "source": [
        "plt.plot(net(XX).data,'.')\n",
        "plt.title(\"Test Set\",size=15)"
      ],
      "id": "5bfbf448-04ad-4ad0-ab1e-d4bb7ece831e"
    },
    {
      "cell_type": "markdown",
      "metadata": {},
      "source": [
        "`-` 빠르고 적합결과도 좋음\n",
        "\n",
        "## Lrnr 오브젝트"
      ],
      "id": "c298e612-5e0e-4778-9917-18e47d20f21e"
    },
    {
      "cell_type": "code",
      "execution_count": 72,
      "metadata": {},
      "outputs": [],
      "source": [
        "lrnr.model"
      ],
      "id": "19aabab9-cf25-434e-9947-eb37ff7069f6"
    },
    {
      "cell_type": "code",
      "execution_count": 73,
      "metadata": {},
      "outputs": [],
      "source": [
        "net"
      ],
      "id": "1c119bc9-5aeb-4867-8ef3-178f4cd202c0"
    },
    {
      "cell_type": "code",
      "execution_count": 74,
      "metadata": {},
      "outputs": [],
      "source": [
        "id(lrnr.model), id(net)"
      ],
      "id": "9d0d9fa6-07cd-4188-9c0b-d6263efa027e"
    },
    {
      "cell_type": "code",
      "execution_count": 75,
      "metadata": {},
      "outputs": [],
      "source": [
        "lrnr.model(X)"
      ],
      "id": "9f415079-57f9-46bd-9b38-adcb14fe8cbc"
    },
    {
      "cell_type": "markdown",
      "metadata": {},
      "source": [
        "## BCEWithLogitsLoss\n",
        "\n",
        "`-` BCEWithLogitsLoss = Sigmoid + BCELoss - 왜 써요? 수치적으로 더 안정\n",
        "\n",
        "`-` 사용방법\n",
        "\n",
        "1.  dls 만들기"
      ],
      "id": "a84dd312-b1ed-4d9f-be39-512ee318d660"
    },
    {
      "cell_type": "code",
      "execution_count": 76,
      "metadata": {},
      "outputs": [],
      "source": [
        "ds1=torch.utils.data.TensorDataset(X,y)\n",
        "ds2=torch.utils.data.TensorDataset(XX,yy)"
      ],
      "id": "ee1128e9-3806-49c5-84d8-b2cf3289fef4"
    },
    {
      "cell_type": "code",
      "execution_count": 77,
      "metadata": {},
      "outputs": [],
      "source": [
        "dl1 = torch.utils.data.DataLoader(ds1,batch_size=1266) \n",
        "dl2 = torch.utils.data.DataLoader(ds2,batch_size=2115) "
      ],
      "id": "05a8bae4-ddaa-4557-a818-3828fcf68916"
    },
    {
      "cell_type": "code",
      "execution_count": 78,
      "metadata": {},
      "outputs": [],
      "source": [
        "dls = DataLoaders(dl1,dl2) # 이거 fastai 지원함수입니다"
      ],
      "id": "1fa65b50-40ae-4a60-ae90-f0d81bc7bedd"
    },
    {
      "cell_type": "markdown",
      "metadata": {},
      "source": [
        "1.  lrnr생성"
      ],
      "id": "7a4c9dab-1449-4657-9db6-f0ee13fa5799"
    },
    {
      "cell_type": "code",
      "execution_count": 79,
      "metadata": {},
      "outputs": [],
      "source": [
        "net = torch.nn.Sequential(\n",
        "    torch.nn.Conv2d(1,16,(5,5)),\n",
        "    torch.nn.ReLU(),\n",
        "    torch.nn.MaxPool2d((2,2)),\n",
        "    torch.nn.Flatten(),\n",
        "    torch.nn.Linear(2304,1),\n",
        "    #torch.nn.Sigmoid()\n",
        ")\n",
        "loss_fn = torch.nn.BCEWithLogitsLoss()\n",
        "lrnr = Learner(dls,net,loss_fn) "
      ],
      "id": "999b7d6e-b3a3-4a66-94e6-b393c0ae44cf"
    },
    {
      "cell_type": "markdown",
      "metadata": {},
      "source": [
        "1.  학습"
      ],
      "id": "69737bf8-a6cc-484b-8775-a79d84e63f3b"
    },
    {
      "cell_type": "code",
      "execution_count": 80,
      "metadata": {},
      "outputs": [],
      "source": [
        "lrnr.fit(10)"
      ],
      "id": "9be673a9-f9a5-4c85-8944-451d0be46af9"
    },
    {
      "cell_type": "markdown",
      "metadata": {},
      "source": [
        "1.  예측 및 시각화"
      ],
      "id": "658ea19c-500c-4ff6-a88e-37c534197519"
    },
    {
      "cell_type": "code",
      "execution_count": 81,
      "metadata": {},
      "outputs": [],
      "source": [
        "net.to(\"cpu\")"
      ],
      "id": "7b1581ad-4071-46eb-b4cb-36b53ec5c3fc"
    },
    {
      "cell_type": "code",
      "execution_count": 82,
      "metadata": {},
      "outputs": [
        {
          "output_type": "display_data",
          "metadata": {},
          "data": {
            "image/png": "[encoded data removed]"
          }
        }
      ],
      "source": [
        "fig,ax = plt.subplots(1,2,figsize=(8,4))\n",
        "ax[0].plot(net(X).data,',',color=\"C1\")\n",
        "ax[1].plot(y)\n",
        "ax[1].plot(a2(net(X)).data,',')\n",
        "fig.suptitle(\"Training Set\",size=15)"
      ],
      "id": "8e847948-ebb9-4650-8da0-a01704648bdf"
    },
    {
      "cell_type": "code",
      "execution_count": 83,
      "metadata": {},
      "outputs": [
        {
          "output_type": "display_data",
          "metadata": {},
          "data": {
            "image/png": "[encoded data removed]"
          }
        }
      ],
      "source": [
        "fig,ax = plt.subplots(1,2,figsize=(8,4))\n",
        "ax[0].plot(net(XX).data,',',color=\"C1\")\n",
        "ax[1].plot(yy)\n",
        "ax[1].plot(a2(net(XX)).data,',')\n",
        "fig.suptitle(\"Test Set\",size=15)"
      ],
      "id": "9a46b796-06c3-4dbf-9bf9-6f4d13483c9a"
    }
  ],
  "nbformat": 4,
  "nbformat_minor": 5,
  "metadata": {
    "kernelspec": {
      "name": "python3",
      "display_name": "Python 3",
      "language": "python"
    },
    "language_info": {
      "name": "python",
      "codemirror_mode": {
        "name": "ipython",
        "version": "3"
      },
      "file_extension": ".py",
      "mimetype": "text/x-python",
      "nbconvert_exporter": "python",
      "pygments_lexer": "ipython3",
      "version": "3.7.15"
    }
  }
}