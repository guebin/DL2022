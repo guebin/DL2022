{
  "cells": [
    {
      "cell_type": "markdown",
      "metadata": {},
      "source": [
        "# 06wk-1: 딥러닝의 기초 (6)\n",
        "\n",
        "최규빈  \n",
        "2022-10-06\n",
        "\n",
        "> 깊은신경망(2)– 시벤코정리, MNIST with DNN\n",
        "\n",
        "# 강의영상\n",
        "\n",
        "> <https://youtube.com/playlist?list=PLQqh36zP38-x9XuXWwAmKKI3JbTRoXVJA>\n",
        "\n",
        "# imports"
      ],
      "id": "38ce6c76-a392-4d22-8e35-a7c2ff866afe"
    },
    {
      "cell_type": "code",
      "execution_count": 1,
      "metadata": {},
      "outputs": [],
      "source": [
        "import torch\n",
        "import matplotlib.pyplot as plt\n",
        "from fastai.data.all import * \n",
        "import torchvision"
      ],
      "id": "d3060dd4-df1d-4c54-8751-605c6eef573a"
    },
    {
      "cell_type": "markdown",
      "metadata": {},
      "source": [
        "# 시벤코정리\n",
        "\n",
        "## 지난시간 논리전개\n",
        "\n",
        "`-` 아이디어: linear -\\> relu -\\> linear (-\\> sigmoid) 조합으로\n",
        "꺽은선으로 표현되는 underlying 을 표현할 수 있었다.\n",
        "\n",
        "-   아이디어의 실용성: 실제자료에서 꺽은선으로 표현되는 underlying은\n",
        "    몇개 없을 것 같음. 그건 맞는데 꺽이는 점을 많이 설정하면 얼추\n",
        "    비슷하게는 “근사” 시킬 수 있음.\n",
        "-   아이디어의 확장성: 이러한 논리전개는 X:(n,2)인 경우도 가능했음. (이\n",
        "    경우 꺽인선은 꺽인평면이 된다)\n",
        "-   아이디어에 해당하는 용어정리: : 이 구조가 x-\\>y 로 바로 가는 것이\n",
        "    아니라 x-\\>(u1-\\>v1)-\\>(u2-\\>v2)=y 의 구조인데 이러한 네트워크를\n",
        "    하나의 은닉층을 포함하는 네트워크라고 표현한다.\n",
        "\n",
        "### 시벤코정리\n",
        "\n",
        "**universal approximation thm: (범용근사정리,보편근사정리,시벤코정리)**,\n",
        "1989\n",
        "\n",
        "> 하나의 은닉층을 가지는 “linear -\\> sigmoid -\\> linear” 꼴의 네트워크를\n",
        "> 이용하여 세상에 존재하는 모든 (다차원) 연속함수를 원하는 정확도로\n",
        "> 근사시킬 수 있다. (계수를 잘 추정한다면)\n",
        "\n",
        "`-` 사실 엄청 이해안되는 정리임. 왜냐햐면,\n",
        "\n",
        "-   그렇게 잘 맞추면 1989년에 세상의 모든 문제를 다 풀어야 한거 아니야?\n",
        "-   요즘은 “linear -\\> sigmoid -\\> linear” 가 아니라 “linear -\\> relu\n",
        "    -\\> linear” 조합으로 많이 쓰던데?\n",
        "-   요즘은 하나의 은닉층을 포함하는 네트워크는 잘 안쓰지 않나? 은닉층이\n",
        "    여러개일수록 좋다고 어디서 본 것 같은데?\n",
        "\n",
        "`-` 약간의 의구심이 있지만 아무튼 universal approximation thm에 따르면\n",
        "우리는 아래와 같은 무기를 가진 꼴이 된다.\n",
        "\n",
        "-   우리의 무기: ${\\bf X}: (n,p)$ 꼴의 입력에서 ${\\bf y}:(n,1)$ 꼴의\n",
        "    출력으로 향하는 맵핑을 “linear -\\> relu -\\> linear”와 같은\n",
        "    네트워크를 이용해서 “근사”시킬 수 있다.\n",
        "\n",
        "# MNIST with DNN\n",
        "\n",
        "## 목표\n",
        "\n",
        "`-` 목표: ${\\bf X}:(n,1,28,28)$ 에서 $y:(n,1)$ 로 가는 맵핑을 학습하자\n",
        "–\\> 배운적이 없는데? –\\> ${\\bf X}:(n,784)$ 에서 $y:(n,1)$ 로 가는 맵핑을\n",
        "학습하자..\n",
        "\n",
        "## 예비학습1: Path"
      ],
      "id": "50b68d0c-672c-4132-8a28-4e30c21b5b49"
    },
    {
      "cell_type": "code",
      "execution_count": 2,
      "metadata": {},
      "outputs": [],
      "source": [
        "path = untar_data(URLs.MNIST) \n",
        "path"
      ],
      "id": "cb0bb8e1-5446-4e28-bbb7-525c8160dbda"
    },
    {
      "cell_type": "markdown",
      "metadata": {},
      "source": [
        "-   path 도 오브젝트임\n",
        "-   path 도 정보+기능이 있음\n",
        "\n",
        "`-` path의 정보"
      ],
      "id": "47de35bf-3740-4e65-962e-2afe1ac2c4fd"
    },
    {
      "cell_type": "code",
      "execution_count": 3,
      "metadata": {},
      "outputs": [],
      "source": [
        "path._str # 숨겨놓았네?"
      ],
      "id": "fe96d16c-274e-4673-839b-a9b8ecdc4041"
    },
    {
      "cell_type": "markdown",
      "metadata": {},
      "source": [
        "`-` 기능1"
      ],
      "id": "c2199a14-d204-44c2-abef-47193166b22c"
    },
    {
      "cell_type": "code",
      "execution_count": 4,
      "metadata": {},
      "outputs": [],
      "source": [
        "path.ls()"
      ],
      "id": "d379a793-762c-437a-be75-c305ca55f626"
    },
    {
      "cell_type": "markdown",
      "metadata": {},
      "source": [
        "`-` 기능2"
      ],
      "id": "7e6d6f5f-e15e-462e-96c7-95dee1442fe0"
    },
    {
      "cell_type": "code",
      "execution_count": 5,
      "metadata": {},
      "outputs": [],
      "source": [
        "path/'training'"
      ],
      "id": "5492dd53-02fd-4f49-9e7a-16e7ad6b1793"
    },
    {
      "cell_type": "code",
      "execution_count": 6,
      "metadata": {},
      "outputs": [],
      "source": [
        "path/'testing'"
      ],
      "id": "35427a5e-6196-4882-9d3d-098de9b918a0"
    },
    {
      "cell_type": "markdown",
      "metadata": {},
      "source": [
        "`-` 기능1과 기능2의 결합"
      ],
      "id": "1060476a-12d4-4c23-a4c5-b566203aa728"
    },
    {
      "cell_type": "code",
      "execution_count": 7,
      "metadata": {},
      "outputs": [],
      "source": [
        "(path/'training/3').ls()"
      ],
      "id": "c0291137-a31d-42b1-9349-4214fbc5ea67"
    },
    {
      "cell_type": "markdown",
      "metadata": {},
      "source": [
        "-   ‘/home/cgb4/.fastai/data/mnist_png/training/3/37912.png’ 이 파일을\n",
        "    더블클릭하면 이미지가 보인단 말임\n",
        "\n",
        "## 예비학습2: plt.imshow"
      ],
      "id": "d0d2b25b-ccdf-46b6-8d70-e4651bd533c1"
    },
    {
      "cell_type": "code",
      "execution_count": 8,
      "metadata": {},
      "outputs": [],
      "source": [
        "imgtsr = torch.tensor([[1.0,2],[2.0,4.0]])\n",
        "imgtsr"
      ],
      "id": "ba7e2daa-28fa-4ff9-85b5-517bee67a65c"
    },
    {
      "cell_type": "code",
      "execution_count": 9,
      "metadata": {},
      "outputs": [
        {
          "output_type": "display_data",
          "metadata": {},
          "data": {
            "image/png": "[encoded data removed]"
          }
        }
      ],
      "source": [
        "plt.imshow(imgtsr,cmap='gray')\n",
        "plt.colorbar()"
      ],
      "id": "79012294-ff6c-49c8-85cd-53f32282498f"
    },
    {
      "cell_type": "markdown",
      "metadata": {},
      "source": [
        "## 예비학습3: torchvision\n",
        "\n",
        "`-` `/home/cgb4/.fastai/data/mnist_png/training/3/37912.png`의\n",
        "이미지파일을 torchvision.io.read_image 를 이용하여 텐서로 만듬"
      ],
      "id": "ef895fdf-4433-4862-afda-1cd08d4afd91"
    },
    {
      "cell_type": "code",
      "execution_count": 10,
      "metadata": {},
      "outputs": [],
      "source": [
        "imgtsr = torchvision.io.read_image('/home/cgb4/.fastai/data/mnist_png/training/3/37912.png')\n",
        "imgtsr"
      ],
      "id": "701e8745-c573-4e9f-94d2-76976cab4878"
    },
    {
      "cell_type": "markdown",
      "metadata": {},
      "source": [
        "`-` 이 텐서는 (1,28,28)의 shape을 가짐"
      ],
      "id": "ecbef9de-490b-44d9-85c2-04efb540fabe"
    },
    {
      "cell_type": "code",
      "execution_count": 11,
      "metadata": {},
      "outputs": [],
      "source": [
        "imgtsr.shape"
      ],
      "id": "89e964e8-7622-4f82-8362-21cf2b9cf063"
    },
    {
      "cell_type": "markdown",
      "metadata": {},
      "source": [
        "`-` imgtsr를 plt.imshow 로 시각화"
      ],
      "id": "bdcc3316-ea57-422b-9a56-62c61bb8e62d"
    },
    {
      "cell_type": "code",
      "execution_count": 12,
      "metadata": {},
      "outputs": [
        {
          "output_type": "display_data",
          "metadata": {},
          "data": {
            "image/png": "[encoded data removed]"
          }
        }
      ],
      "source": [
        "plt.imshow(imgtsr.reshape(28,28),cmap='gray')"
      ],
      "id": "c40c7061-c5a7-4ef7-b4a5-58116f719206"
    },
    {
      "cell_type": "markdown",
      "metadata": {},
      "source": [
        "-   진짜 숫자3이 있음\n",
        "\n",
        "## 데이터정리"
      ],
      "id": "d7226d54-74e6-4bf1-b922-12141b8038fa"
    },
    {
      "cell_type": "code",
      "execution_count": 13,
      "metadata": {},
      "outputs": [],
      "source": [
        "threes = (path/'training/3').ls()\n",
        "sevens = (path/'training/7').ls()\n",
        "len(threes),len(sevens)"
      ],
      "id": "6f3c24d5-404d-4824-9460-828ab094217d"
    },
    {
      "cell_type": "code",
      "execution_count": 14,
      "metadata": {},
      "outputs": [],
      "source": [
        "X3 = torch.stack([torchvision.io.read_image(str(threes[i])) for i in range(6131)])\n",
        "X7 = torch.stack([torchvision.io.read_image(str(sevens[i])) for i in range(6265)])"
      ],
      "id": "8396b19b-a8e2-451c-ae1d-5281bdecf674"
    },
    {
      "cell_type": "code",
      "execution_count": 15,
      "metadata": {},
      "outputs": [],
      "source": [
        "X3.shape,X7.shape"
      ],
      "id": "c2ddd836-0828-4fad-9d10-21975f5dcb0c"
    },
    {
      "cell_type": "code",
      "execution_count": 16,
      "metadata": {},
      "outputs": [],
      "source": [
        "X=torch.concat([X3,X7])\n",
        "X.shape"
      ],
      "id": "c293984b-8562-4e6e-a843-223c38aa5672"
    },
    {
      "cell_type": "code",
      "execution_count": 17,
      "metadata": {},
      "outputs": [],
      "source": [
        "Xnp = X.reshape(-1,1*28*28).float()\n",
        "Xnp.shape"
      ],
      "id": "915f0a23-0f0b-424e-a575-1454590455d1"
    },
    {
      "cell_type": "code",
      "execution_count": 18,
      "metadata": {},
      "outputs": [],
      "source": [
        "y = torch.tensor([0.0]*6131 + [1.0]*6265).reshape(-1,1) \n",
        "y.shape"
      ],
      "id": "66752d2d-4e9e-4dc6-8359-90979004e18c"
    },
    {
      "cell_type": "code",
      "execution_count": 19,
      "metadata": {},
      "outputs": [
        {
          "output_type": "display_data",
          "metadata": {},
          "data": {
            "image/png": "[encoded data removed]"
          }
        }
      ],
      "source": [
        "plt.plot(y,'o')"
      ],
      "id": "e9fb0802-9036-4c90-a311-f26c666cdb96"
    },
    {
      "cell_type": "markdown",
      "metadata": {},
      "source": [
        "-   “y=0”은 숫자3을 의미, “y=1”은 숫자7을 의미\n",
        "-   숫자3은 6131개, 숫자7은 6265개 있음\n",
        "\n",
        "## 학습 (숙제: 스스로 확인해 볼 것)\n",
        "\n",
        "`-` 네트워크의 설계"
      ],
      "id": "5aa77b89-d27b-4ce4-bd59-347741fdefaa"
    },
    {
      "cell_type": "code",
      "execution_count": 20,
      "metadata": {},
      "outputs": [],
      "source": [
        "torch.manual_seed(43052)\n",
        "net = torch.nn.Sequential(\n",
        "    torch.nn.Linear(in_features=1*28*28,out_features=30),\n",
        "    torch.nn.ReLU(),\n",
        "    torch.nn.Linear(in_features=30,out_features=1),\n",
        "    torch.nn.Sigmoid()\n",
        ")"
      ],
      "id": "bf14609c-73a1-4b1d-9ab8-f81e03fb5f37"
    },
    {
      "cell_type": "markdown",
      "metadata": {},
      "source": [
        "-   $\\underset{(n,784)}{\\bf X} \\overset{l_1}{\\to} \\underset{(n,30)}{\\boldsymbol u^{(1)}} \\overset{a_1}{\\to} \\underset{(n,30)}{\\boldsymbol v^{(1)}} \\overset{l_1}{\\to} \\underset{(n,1)}{\\boldsymbol u^{(2)}} \\overset{a_2}{\\to} \\underset{(n,1)}{\\boldsymbol v^{(2)}}=\\underset{(n,1)}{\\hat{\\boldsymbol y}}$"
      ],
      "id": "020965b8-8db9-4338-be9c-f68ea18f8c30"
    },
    {
      "cell_type": "code",
      "execution_count": 21,
      "metadata": {},
      "outputs": [],
      "source": [
        "loss_fn = torch.nn.BCELoss()"
      ],
      "id": "a1be035b-cd0a-44dd-98a6-d2be7f70d335"
    },
    {
      "cell_type": "code",
      "execution_count": 22,
      "metadata": {},
      "outputs": [],
      "source": [
        "optimizr = torch.optim.Adam(net.parameters())"
      ],
      "id": "ade76557-f3ae-4a72-95af-5369fcafd8ce"
    },
    {
      "cell_type": "code",
      "execution_count": 23,
      "metadata": {},
      "outputs": [],
      "source": [
        "for epoc in range(200):\n",
        "    ## 1\n",
        "    yhat = net(Xnp) \n",
        "    ## 2\n",
        "    loss = loss_fn(yhat,y) \n",
        "    ## 3 \n",
        "    loss.backward()\n",
        "    ## 4 \n",
        "    optimizr.step()\n",
        "    optimizr.zero_grad()"
      ],
      "id": "65cf6536-69c7-4f23-bc69-ce3c44e2717e"
    },
    {
      "cell_type": "code",
      "execution_count": 24,
      "metadata": {},
      "outputs": [
        {
          "output_type": "display_data",
          "metadata": {},
          "data": {
            "image/png": "[encoded data removed]"
          }
        }
      ],
      "source": [
        "plt.plot(y,'o')\n",
        "plt.plot(net(Xnp).data,'.',alpha=0.2)"
      ],
      "id": "70508810-c906-46cf-84c3-ad413c7f0c2a"
    },
    {
      "cell_type": "markdown",
      "metadata": {},
      "source": [
        "-   대부분 잘 적합되었음\n",
        "\n",
        "# 숙제\n",
        "\n",
        "<https://youtube.com/playlist?list=PLQqh36zP38-zEUnVaQveVvRD-eMBPtxIp>\n",
        "\n",
        "`(1)` 숫자0과 숫자1을 구분하는 네트워크를 아래와 같은 구조로 설계하라\n",
        "\n",
        "$$\\underset{(n,784)}{\\bf X} \\overset{l_1}{\\to} \\underset{(n,64)}{\\boldsymbol u^{(1)}} \\overset{a_1}{\\to} \\underset{(n,64)}{\\boldsymbol v^{(1)}} \\overset{l_1}{\\to} \\underset{(n,1)}{\\boldsymbol u^{(2)}} \\overset{a_2}{\\to} \\underset{(n,1)}{\\boldsymbol v^{(2)}}=\\underset{(n,1)}{\\hat{\\boldsymbol y}}$$\n",
        "\n",
        "위에서 $a_1$은 relu를, $a_2$는 sigmoid를 의미한다.\n",
        "\n",
        "-   “y=0”은 숫자0을 의미하도록 하고 “y=1”은 숫자1을 의미하도록 설정하라.\n",
        "\n",
        "(풀이)"
      ],
      "id": "39bf8474-10d9-4291-9b36-fee96f0a9f07"
    },
    {
      "cell_type": "code",
      "execution_count": 452,
      "metadata": {},
      "outputs": [],
      "source": [
        "path = untar_data(URLs.MNIST)"
      ],
      "id": "917cc74b-ba18-4df0-910b-bba72782b2a1"
    },
    {
      "cell_type": "code",
      "execution_count": 453,
      "metadata": {},
      "outputs": [],
      "source": [
        "X0 = torch.stack([torchvision.io.read_image(str(fname)) for fname in (path/'training/0').ls()])\n",
        "X1 = torch.stack([torchvision.io.read_image(str(fname)) for fname in (path/'training/1').ls()])\n",
        "X = torch.concat([X0,X1]).reshape(-1,1*28*28).float()\n",
        "y = torch.tensor([0.0]*len(X0) + [1.0]*len(X1)).reshape(-1,1)"
      ],
      "id": "6c862be4-44c7-416c-99b1-415d0e0b9e49"
    },
    {
      "cell_type": "code",
      "execution_count": 454,
      "metadata": {},
      "outputs": [],
      "source": [
        "torch.manual_seed(43052)\n",
        "net = torch.nn.Sequential(\n",
        "    torch.nn.Linear(in_features=784,out_features=64),\n",
        "    torch.nn.ReLU(),\n",
        "    torch.nn.Linear(in_features=64,out_features=1),\n",
        "    torch.nn.Sigmoid())"
      ],
      "id": "19096517-9625-4db1-9ff4-9aba87f731e7"
    },
    {
      "cell_type": "markdown",
      "metadata": {},
      "source": [
        "`(2)` 아래의 지침에 따라 200 epoch 학습을 진행하라.\n",
        "\n",
        "-   손실함수는 BECLoss를 이용할 것. torch.nn.BCELoss() 를 이용할 것.\n",
        "-   옵티마이저는 아담으로 설정할 것. 학습률은 lr=0.002로 설정할 것.\n",
        "\n",
        "(풀이)"
      ],
      "id": "18759504-c1c3-418d-99a6-139d8f8cf3ac"
    },
    {
      "cell_type": "code",
      "execution_count": 455,
      "metadata": {},
      "outputs": [],
      "source": [
        "loss_fn = torch.nn.BCELoss()\n",
        "optimizr = torch.optim.Adam(net.parameters(),lr=0.002)"
      ],
      "id": "2cc25642-abc1-471c-b7ec-6948fea90c82"
    },
    {
      "cell_type": "code",
      "execution_count": 456,
      "metadata": {},
      "outputs": [],
      "source": [
        "for epoc in range(200):\n",
        "    ## 1 \n",
        "    yhat = net(X) \n",
        "    ## 2 \n",
        "    loss = loss_fn(yhat,y)\n",
        "    ## 3 \n",
        "    loss.backward()\n",
        "    ## 4 \n",
        "    optimizr.step()\n",
        "    optimizr.zero_grad()"
      ],
      "id": "4c589712-bb73-4d51-a00f-0de28020f941"
    },
    {
      "cell_type": "code",
      "execution_count": 457,
      "metadata": {},
      "outputs": [
        {
          "output_type": "display_data",
          "metadata": {},
          "data": {
            "image/png": "[encoded data removed]"
          }
        }
      ],
      "source": [
        "plt.plot(y)\n",
        "plt.plot(yhat.data,'.',alpha=0.5)"
      ],
      "id": "c46de28d-e704-41fb-8837-84005b51fc92"
    },
    {
      "cell_type": "markdown",
      "metadata": {},
      "source": [
        "`(3)` 아래의 지침에 따라 200 epoch 학습을 진행하라. 학습이 잘 되는가?\n",
        "\n",
        "-   손실함수는 BECLoss를 이용할 것. torch.nn.BCELoss()를 사용하지 않고\n",
        "    수식을 직접 입력할 것.\n",
        "-   옵티마이저는 아담으로 설정할 것. 학습률은 lr=0.002로 설정할 것.\n",
        "\n",
        "(풀이)"
      ],
      "id": "1ccda5ad-7a32-4e59-9520-9522f6d1c47e"
    },
    {
      "cell_type": "code",
      "execution_count": 458,
      "metadata": {},
      "outputs": [],
      "source": [
        "torch.manual_seed(43052)\n",
        "net = torch.nn.Sequential(\n",
        "    torch.nn.Linear(in_features=784,out_features=64),\n",
        "    torch.nn.ReLU(),\n",
        "    torch.nn.Linear(in_features=64,out_features=1),\n",
        "    torch.nn.Sigmoid())"
      ],
      "id": "49e79aa3-96a5-4018-98ee-5ec5724c3f1d"
    },
    {
      "cell_type": "code",
      "execution_count": 459,
      "metadata": {},
      "outputs": [],
      "source": [
        "#loss_fn = torch.nn.BCELoss()\n",
        "optimizr = torch.optim.Adam(net.parameters(),lr=0.002)"
      ],
      "id": "f458c047-40bc-4f80-9209-ff367cfc6e43"
    },
    {
      "cell_type": "code",
      "execution_count": 460,
      "metadata": {},
      "outputs": [],
      "source": [
        "for epoc in range(200):\n",
        "    ## 1 \n",
        "    yhat = net(X) \n",
        "    ## 2 \n",
        "    loss = -torch.mean(y*torch.log(yhat) + (1-y)*torch.log(1-yhat))\n",
        "    ## 3 \n",
        "    loss.backward()\n",
        "    ## 4 \n",
        "    optimizr.step()\n",
        "    optimizr.zero_grad()"
      ],
      "id": "8888f074-51e8-443c-b02b-a6ef612c9b5a"
    },
    {
      "cell_type": "code",
      "execution_count": 461,
      "metadata": {},
      "outputs": [
        {
          "output_type": "display_data",
          "metadata": {},
          "data": {
            "image/png": "[encoded data removed]"
          }
        }
      ],
      "source": [
        "plt.plot(y)\n",
        "plt.plot(yhat.data,'.',alpha=0.5)"
      ],
      "id": "a52ec28e-502c-4377-b4ce-9f0f6a02d692"
    },
    {
      "cell_type": "code",
      "execution_count": 462,
      "metadata": {},
      "outputs": [],
      "source": [
        "yhat.data"
      ],
      "id": "6be6ecaf-17ed-46ff-8f96-533f42a3276a"
    },
    {
      "cell_type": "markdown",
      "metadata": {},
      "source": [
        "-   학습이 잘 안되었다!\n",
        "\n",
        "`(4)` 아래의 지침에 따라 200 epoch 학습을 진행하라. 학습이 잘 되는가?\n",
        "\n",
        "-   이미지의 값을 0과 1사이로 규격화 하라. (Xnp = Xnp/255 를\n",
        "    이용하세요!)\n",
        "-   손실함수는 BECLoss를 이용할 것. torch.nn.BCELoss()를 사용하지 않고\n",
        "    수식을 직접 입력할 것.\n",
        "-   옵티마이저는 아담으로 설정할 것. 학습률은 lr=0.002로 설정할 것."
      ],
      "id": "66cb4620-de51-4163-bb74-f3b4cfbecf52"
    },
    {
      "cell_type": "code",
      "execution_count": 463,
      "metadata": {},
      "outputs": [],
      "source": [
        "X = X/255 "
      ],
      "id": "353b5c09-c3db-49c4-846b-4128f59f1f27"
    },
    {
      "cell_type": "code",
      "execution_count": 464,
      "metadata": {},
      "outputs": [],
      "source": [
        "torch.manual_seed(43052)\n",
        "net = torch.nn.Sequential(\n",
        "    torch.nn.Linear(in_features=784,out_features=64),\n",
        "    torch.nn.ReLU(),\n",
        "    torch.nn.Linear(in_features=64,out_features=1),\n",
        "    torch.nn.Sigmoid())"
      ],
      "id": "3fd12d09-9316-48dd-b742-011f3f18a6bd"
    },
    {
      "cell_type": "code",
      "execution_count": 465,
      "metadata": {},
      "outputs": [],
      "source": [
        "#loss_fn = torch.nn.BCELoss()\n",
        "optimizr = torch.optim.Adam(net.parameters(),lr=0.002)"
      ],
      "id": "1f454ede-2bce-4968-8005-1b4689f077f1"
    },
    {
      "cell_type": "code",
      "execution_count": 466,
      "metadata": {},
      "outputs": [],
      "source": [
        "for epoc in range(200):\n",
        "    ## 1 \n",
        "    yhat = net(X) \n",
        "    ## 2 \n",
        "    loss = -torch.mean(y*torch.log(yhat) + (1-y)*torch.log(1-yhat))\n",
        "    ## 3 \n",
        "    loss.backward()\n",
        "    ## 4 \n",
        "    optimizr.step()\n",
        "    optimizr.zero_grad()"
      ],
      "id": "f809ac2f-9fb0-4f7c-abe7-eee5038bb71c"
    },
    {
      "cell_type": "code",
      "execution_count": 467,
      "metadata": {},
      "outputs": [
        {
          "output_type": "display_data",
          "metadata": {},
          "data": {
            "image/png": "[encoded data removed]"
          }
        }
      ],
      "source": [
        "plt.plot(y)\n",
        "plt.plot(yhat.data,'.',alpha=0.5)"
      ],
      "id": "c73c068b-616f-499c-ab30-c29809098f21"
    },
    {
      "cell_type": "markdown",
      "metadata": {},
      "source": [
        "-   이번엔 학습이 잘 되었다!\n",
        "\n",
        "`(5)` 아래와 같은 수식을 이용하여 accuracy를 계산하라.\n",
        "\n",
        "$\\text{accuracy}=\\frac{1}{n}\\sum_{i=1}^n I(\\tilde{y}_i=y_i)$\n",
        "\n",
        "-   $\\tilde{y}_i = \\begin{cases}  1 & \\hat{y}_i > 0.5 \\\\  0 & \\hat{y}_i \\leq 0.5 \\end{cases}$\n",
        "-   $I(\\tilde{y}_i=y_i) = \\begin{cases} 1 & \\tilde{y}_i=y_i \\\\ 0 & \\tilde{y}_i \\neq y_i \\end{cases}$\n",
        "\n",
        "단, $n$은 0과 1을 의미하는 이미지의 수\n",
        "\n",
        "(풀이1)"
      ],
      "id": "92963696-4900-4932-8e4d-66affe343bb8"
    },
    {
      "cell_type": "code",
      "execution_count": 89,
      "metadata": {},
      "outputs": [],
      "source": [
        "ytilde = (yhat>0.5)*1  # ytilde의 구현"
      ],
      "id": "40be80a8-9a05-4f78-814c-363474dcc26c"
    },
    {
      "cell_type": "markdown",
      "metadata": {},
      "source": [
        "-   $\\tilde{y}_i = \\begin{cases}  1 & \\hat{y}_i > 0.5 \\\\  0 & \\hat{y}_i \\leq 0.5 \\end{cases}$\n",
        "    의 구현"
      ],
      "id": "71dcfaf8-2766-4c12-9020-dddc3bcc69fe"
    },
    {
      "cell_type": "code",
      "execution_count": 91,
      "metadata": {},
      "outputs": [],
      "source": [
        "(ytilde == y)*1 # I(ytilde =y)의 구현 "
      ],
      "id": "2df0f64d-8685-4b62-aacb-559239d06df4"
    },
    {
      "cell_type": "markdown",
      "metadata": {},
      "source": [
        "-   $I(\\tilde{y}_i=y_i) = \\begin{cases} 1 & \\tilde{y}_i=y_i \\\\ 0 & \\tilde{y}_i \\neq y_i \\end{cases}$\n",
        "    의 구현"
      ],
      "id": "5a0f4241-b2e5-43b5-abaa-71a04a26b27f"
    },
    {
      "cell_type": "code",
      "execution_count": 449,
      "metadata": {},
      "outputs": [],
      "source": [
        "torch.sum((ytilde == y)*1) "
      ],
      "id": "dc18a164-4c3b-47be-a205-d6c7e44ae172"
    },
    {
      "cell_type": "markdown",
      "metadata": {},
      "source": [
        "-   $\\sum_{i=1}^n I(\\tilde{y}_i=y_i)$의 계산"
      ],
      "id": "4f7d688f-06cf-483b-abc9-410be117b116"
    },
    {
      "cell_type": "code",
      "execution_count": 450,
      "metadata": {},
      "outputs": [],
      "source": [
        "torch.sum((ytilde == y)*1)  / len(y)"
      ],
      "id": "ce87ea91-10b1-47c4-834c-42f88a432a3d"
    },
    {
      "cell_type": "markdown",
      "metadata": {},
      "source": [
        "-   $\\text{accuracy}=\\frac{1}{n}\\sum_{i=1}^n I(\\tilde{y}_i=y_i)$ 의 계산\n",
        "\n",
        "(풀이2)"
      ],
      "id": "d864b4d1-a8c5-44fd-a46f-7462b21b68bd"
    },
    {
      "cell_type": "code",
      "execution_count": 451,
      "metadata": {},
      "outputs": [],
      "source": [
        "((yhat > 0.5) == y).sum() / len(y)"
      ],
      "id": "c7bac1e2-3614-4da6-a3e7-4fca80e1bb6a"
    },
    {
      "cell_type": "markdown",
      "metadata": {},
      "source": [
        "------------------------------------------------------------------------\n",
        "\n",
        "***생각해볼점1: 왜 (2)는 학습이 잘되고 (3)은 학습이 잘 안되는가?***\n",
        "\n",
        "`-` data"
      ],
      "id": "04b3d7af-de85-4385-9881-b85f51f40958"
    },
    {
      "cell_type": "code",
      "execution_count": 471,
      "metadata": {},
      "outputs": [],
      "source": [
        "X0 = torch.stack([torchvision.io.read_image(str(fname)) for fname in (path/'training/0').ls()])\n",
        "X1 = torch.stack([torchvision.io.read_image(str(fname)) for fname in (path/'training/1').ls()])\n",
        "X = torch.concat([X0,X1]).reshape(-1,1*28*28).float()\n",
        "y = torch.tensor([0.0]*len(X0) + [1.0]*len(X1)).reshape(-1,1)"
      ],
      "id": "a0119a1c-2922-4324-bfc8-a70c05a38d2c"
    },
    {
      "cell_type": "markdown",
      "metadata": {},
      "source": [
        "`-` net초기화"
      ],
      "id": "1295c3ab-1f3c-4044-99a8-ee145decf00c"
    },
    {
      "cell_type": "code",
      "execution_count": 479,
      "metadata": {},
      "outputs": [],
      "source": [
        "torch.manual_seed(9)\n",
        "net = torch.nn.Sequential(\n",
        "    torch.nn.Linear(in_features=784,out_features=64),\n",
        "    torch.nn.ReLU(),\n",
        "    torch.nn.Linear(in_features=64,out_features=1),\n",
        "    torch.nn.Sigmoid()\n",
        ")"
      ],
      "id": "af347182-9abc-44b3-802c-17953defd5a2"
    },
    {
      "cell_type": "markdown",
      "metadata": {},
      "source": [
        "`-` loss_fn 정의"
      ],
      "id": "548dc6a9-a77f-455d-af33-b7d0e9731e6f"
    },
    {
      "cell_type": "code",
      "execution_count": 480,
      "metadata": {
        "tags": []
      },
      "outputs": [],
      "source": [
        "loss_fn1 = torch.nn.BCELoss()\n",
        "loss_fn2 = lambda yhat,y: -torch.mean(y*torch.log(yhat) + (1-y)*torch.log(1-yhat))"
      ],
      "id": "39ba532a-3336-459f-814a-10cc979a6107"
    },
    {
      "cell_type": "markdown",
      "metadata": {},
      "source": [
        "`-` loss_fn 적용결과 확인"
      ],
      "id": "01cca315-b85d-41a2-ac40-e5511235e7a4"
    },
    {
      "cell_type": "code",
      "execution_count": 483,
      "metadata": {},
      "outputs": [],
      "source": [
        "loss_fn1(net(X),y), \\\n",
        "loss_fn2(net(X),y) "
      ],
      "id": "0b9290c1-fb3e-4007-8672-c831812ad47f"
    },
    {
      "cell_type": "markdown",
      "metadata": {},
      "source": [
        "-   loss_fn1(net(x),y) = 22.4927\n",
        "-   loss_fn2(net(x),y) = nan (*해설영상에는 $\\infty$라고 했는데\n",
        "    정확하게는 nan입니다. nan은 $\\infty \\times 0$의 결과로 나오게 되고요\n",
        "    $y_i=1,\\hat{y}_i=1$ 인 경우에\n",
        "    $-\\frac{1}{n}\\sum_{i=1}^{n}\\big(y_i\\log(\\hat{y}_i) + (1-y_i)\\log(1-\\hat{y}_i)\\big)$\n",
        "    중 $(1-y_i)\\log(1-\\hat{y}_i)$의 계산결과로 발생할 수 있습니다.*)\n",
        "-   왜?\n",
        "\n",
        "`-` 처음 4개의 관측치에 대한 loss_fn 적용 결과: 같다."
      ],
      "id": "daa68c82-278f-4676-87ba-0089267cd929"
    },
    {
      "cell_type": "code",
      "execution_count": 488,
      "metadata": {},
      "outputs": [],
      "source": [
        "loss_fn1(net(X)[:4], y[:4]),\\\n",
        "loss_fn2(net(X)[:4], y[:4])"
      ],
      "id": "8f678b3c-3305-47c3-9ac1-3535908c00fd"
    },
    {
      "cell_type": "markdown",
      "metadata": {},
      "source": [
        "`-` 처음 5개의 관측치에 대한 loss_fn 적용 결과: 다르다."
      ],
      "id": "6f50dfc2-822a-4e35-ae51-a4585349be91"
    },
    {
      "cell_type": "code",
      "execution_count": 489,
      "metadata": {},
      "outputs": [],
      "source": [
        "loss_fn1(net(X)[:5], y[:5]),\\\n",
        "loss_fn2(net(X)[:5], y[:5])"
      ],
      "id": "b1c44dff-9eb8-46a7-927d-9fcc1a33d30f"
    },
    {
      "cell_type": "markdown",
      "metadata": {},
      "source": [
        "`-` 왜? 5번관측치에 문제가 있음"
      ],
      "id": "a2b71bb2-c3d0-43e1-9308-26d3a28cdd16"
    },
    {
      "cell_type": "code",
      "execution_count": 490,
      "metadata": {},
      "outputs": [],
      "source": [
        "net(X)[:5], y[:5]"
      ],
      "id": "867eb578-d45d-4248-b765-e274ee44af74"
    },
    {
      "cell_type": "code",
      "execution_count": 497,
      "metadata": {},
      "outputs": [],
      "source": [
        "loss_fn1(net(X)[[5]], y[[5]]),\\\n",
        "loss_fn2(net(X)[[5]], y[[5]])"
      ],
      "id": "ba951f91-40d1-4e46-b9a6-7939c350ee75"
    },
    {
      "cell_type": "markdown",
      "metadata": {},
      "source": [
        "`-` loss_fn1은 사실 이런식으로 계산을 했음"
      ],
      "id": "8c0f2aa7-2d0e-4fe9-b7fd-7e655f5a5a51"
    },
    {
      "cell_type": "code",
      "execution_count": 502,
      "metadata": {},
      "outputs": [],
      "source": [
        "(3.0566*4 + 100)/5, loss_fn1(net(X)[:5], y[:5]).item()"
      ],
      "id": "537e1861-12c5-4ea8-9766-37aa56a13709"
    },
    {
      "cell_type": "markdown",
      "metadata": {},
      "source": [
        "`-` loss function에 대한 엄밀한 정의는 아닌데 $\\infty =100$ 으로\n",
        "생각하는 것이 오히려 효율적이다.\n",
        "\n",
        "***생각해볼점2: 왜 (3)은 학습이 잘 안되는데 (4)는 학습이 잘 되는가?***\n",
        "\n",
        "`-` 아래의 상황을 다시 생각하자."
      ],
      "id": "13f880bc-caaa-41ff-8d9f-fc1d8368e4fb"
    },
    {
      "cell_type": "code",
      "execution_count": 503,
      "metadata": {},
      "outputs": [],
      "source": [
        "X0 = torch.stack([torchvision.io.read_image(str(fname)) for fname in (path/'training/0').ls()])\n",
        "X1 = torch.stack([torchvision.io.read_image(str(fname)) for fname in (path/'training/1').ls()])\n",
        "X = torch.concat([X0,X1]).reshape(-1,1*28*28).float()\n",
        "y = torch.tensor([0.0]*len(X0) + [1.0]*len(X1)).reshape(-1,1)"
      ],
      "id": "a02f4b51-a092-4218-9fe6-c038377458ba"
    },
    {
      "cell_type": "code",
      "execution_count": 504,
      "metadata": {},
      "outputs": [],
      "source": [
        "torch.manual_seed(9)\n",
        "net = torch.nn.Sequential(\n",
        "    torch.nn.Linear(in_features=784,out_features=64),\n",
        "    torch.nn.ReLU(),\n",
        "    torch.nn.Linear(in_features=64,out_features=1),\n",
        "    torch.nn.Sigmoid()\n",
        ")"
      ],
      "id": "b421579b-dade-4237-93f0-6e5837614328"
    },
    {
      "cell_type": "markdown",
      "metadata": {},
      "source": [
        "`-` (3)에서 학습이 불가능했던 만악의 근원은 $y=0$ 인데 $yhat \\approx 1$\n",
        "인 상황 이었다. ($y=1$인데 $yhat \\approx 0$ 인 상황도 마찬가지) - 그런데\n",
        "왜 초기값에 $yhat\\approx 1$ 과 같은 값이 들어있는 거야?\n",
        "\n",
        "`-` 네트워크를 분해하자."
      ],
      "id": "f07772e0-40b1-48f3-ab09-04ce7f6fa5c4"
    },
    {
      "cell_type": "code",
      "execution_count": 505,
      "metadata": {},
      "outputs": [],
      "source": [
        "l1,a1,l2,a2 = net "
      ],
      "id": "1675fd2e-fb26-4a12-8c4a-688cc726a91e"
    },
    {
      "cell_type": "markdown",
      "metadata": {},
      "source": [
        "`-` 5번관측치 `X[[5]]`를 콕 찍어서 생각해보자."
      ],
      "id": "6ab2b3c9-b4f6-462b-a81a-14d1d5c7ea55"
    },
    {
      "cell_type": "code",
      "execution_count": 513,
      "metadata": {},
      "outputs": [],
      "source": [
        "l2(a1(l1(X[[5]])))"
      ],
      "id": "9b45159e-89bd-44f6-b009-da9c023d8ad6"
    },
    {
      "cell_type": "code",
      "execution_count": 515,
      "metadata": {},
      "outputs": [],
      "source": [
        "torch.exp(torch.tensor(21.7626)) # 이거 너무 큰 값이 나옴 => 사실상 무한대라고 봐도 무방한 값"
      ],
      "id": "a89f360f-2a9f-4f10-8f19-92a49901d520"
    },
    {
      "cell_type": "code",
      "execution_count": 516,
      "metadata": {},
      "outputs": [],
      "source": [
        "torch.exp(torch.tensor(21.7626))/(torch.exp(torch.tensor(21.7626))+1)"
      ],
      "id": "980b5380-c101-4b00-8a0d-fbd96d34fd32"
    },
    {
      "cell_type": "markdown",
      "metadata": {},
      "source": [
        "`-` 만약에 하나의 관측치 X\\[\\[5\\]\\]의 범위를 0~1 사이로 맞춘다면?"
      ],
      "id": "65a26b0e-4402-4fda-9df6-d82d7bad3710"
    },
    {
      "cell_type": "code",
      "execution_count": 524,
      "metadata": {},
      "outputs": [],
      "source": [
        "l2(a1(l1(X[[5]]/255)))"
      ],
      "id": "f061c117-30b7-48a8-853a-81b33353bdb2"
    },
    {
      "cell_type": "code",
      "execution_count": 526,
      "metadata": {},
      "outputs": [],
      "source": [
        "torch.exp(torch.tensor(0.1216)) # 적당한 값이 나옴"
      ],
      "id": "9926b531-20b4-4df3-9ac0-b7acad7ea466"
    },
    {
      "cell_type": "code",
      "execution_count": 527,
      "metadata": {},
      "outputs": [],
      "source": [
        "torch.exp(torch.tensor(0.1216))/(torch.exp(torch.tensor(0.1216))+1)"
      ],
      "id": "eddde04f-abc1-40d5-9f73-4ccd69814e7e"
    },
    {
      "cell_type": "code",
      "execution_count": 531,
      "metadata": {},
      "outputs": [],
      "source": [
        "loss_fn2(net(X[[5]]),y[[5]]),\\\n",
        "loss_fn2(net(X[[5]]/255),y[[5]]),"
      ],
      "id": "83eba973-fa41-4ec1-8ad7-09866b550cec"
    },
    {
      "cell_type": "markdown",
      "metadata": {},
      "source": [
        "`-` 깨달음1\n",
        "\n",
        "-   X가 0~255사이의 값을 가지면\n",
        "    $X \\to u^{(1)} \\to v^{(1)} \\to u^{(2)} \\to yhat$ 의 구조에서\n",
        "    $u^{(2)}$의 값이 클 확률이 높다. (예를들면 21.7626 같은 값)\n",
        "-   큰 $u^{(2)}$의 값은 $yhat \\approx 1$ 이 되는 상황을 야기한다.\n",
        "-   $yhat \\approx 1$인 상황은 $loss=\\infty$인 상황을 야기한다.\n",
        "-   그래서 학습이 안된다.\n",
        "\n",
        "`-` 깨달음2\n",
        "\n",
        "-   X가 0~1사이의 값을 가지면\n",
        "    $X \\to u^{(1)} \\to v^{(1)} \\to u^{(2)} \\to yhat$ 의 구조에서\n",
        "    $u^{(2)}$의 값이 클 확률이 적다. (예를들면 0.1216와 같이 적당한 값이\n",
        "    나옴)\n",
        "-   적당한 크기의 $u^{(2)}$의 값은 $yhat \\approx 1$ 이 되는 상황을\n",
        "    만들지 않는다.\n",
        "-   그래서 $loss=\\infty$인 상황도 잘 생기지 않는다.\n",
        "-   그래서 학습이 (상대적으로) 잘된다."
      ],
      "id": "27e9ff4a-1a62-4590-95bf-2036037ee738"
    }
  ],
  "nbformat": 4,
  "nbformat_minor": 5,
  "metadata": {
    "kernelspec": {
      "name": "python3",
      "display_name": "Python 3",
      "language": "python"
    },
    "language_info": {
      "name": "python",
      "codemirror_mode": {
        "name": "ipython",
        "version": "3"
      },
      "file_extension": ".py",
      "mimetype": "text/x-python",
      "nbconvert_exporter": "python",
      "pygments_lexer": "ipython3",
      "version": "3.7.15"
    }
  }
}